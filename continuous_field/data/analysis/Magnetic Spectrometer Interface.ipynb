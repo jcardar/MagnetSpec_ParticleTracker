{
 "cells": [
  {
   "cell_type": "markdown",
   "metadata": {},
   "source": [
    "Define interactive variables to set up particle stepper (static and variable), and then have user define figure of merit.<br>\n",
    "Write out in either .csv or .txt file (idea: in .csv file, have rows correspond to objects (ie, magnets, particle beam, etc) and have the first column represent the number of those objects (magnets, beams, etc), and the remaining columns an ordered list of values defining those objects, to read from left to right, spanning all of the relevant objects).<br>\n",
    "Have c++ code read this, and define objects with 'for' loops."
   ]
  },
  {
   "cell_type": "markdown",
   "metadata": {},
   "source": [
    "Items to define for input deck:<br>\n",
    "1. Magnet: Center of Entrance Plane, Length, Width, Height, magnetic field strength (vector) (x-component, y-component, z-component)\n",
    "2. Beam: number of particles, central starting position, central energy, central direction (angles from axes (angle for x determined from angles for y and z, and is silently ignored))\n",
    "3. Beam: spread in starting position, spread in central energy, spread in divergence (user input FWHM of Gaussian spread, code uses 0.5 of this in spread)\n",
    "4. Screen: Low-Energy Middle, Width, Height, Angle from both z- and x-axes"
   ]
  },
  {
   "cell_type": "markdown",
   "metadata": {},
   "source": [
    "## Your preferred units:\n",
    ">Please run the next cell once to generate widget objects. Change the values in the dropdowns to the value to prefer. Do not run the cell again, the value is dynamically updated when you change the value in the dropdown menu!"
   ]
  },
  {
   "cell_type": "code",
   "execution_count": 1,
   "metadata": {},
   "outputs": [
    {
     "data": {
      "application/vnd.jupyter.widget-view+json": {
       "model_id": "cce5ed3ae4074437a3910a2cbc779a9c",
       "version_major": 2,
       "version_minor": 0
      },
      "text/plain": [
       "Dropdown(description='Length Unit', index=1, options=('mm', 'cm', 'm'), value='cm')"
      ]
     },
     "metadata": {},
     "output_type": "display_data"
    },
    {
     "data": {
      "application/vnd.jupyter.widget-view+json": {
       "model_id": "1844619a490246b199f12ea88f830fb0",
       "version_major": 2,
       "version_minor": 0
      },
      "text/plain": [
       "Dropdown(description='Energy Unit', index=1, options=('eV', 'MeV', 'GeV'), value='MeV')"
      ]
     },
     "metadata": {},
     "output_type": "display_data"
    },
    {
     "data": {
      "application/vnd.jupyter.widget-view+json": {
       "model_id": "85c1e245612240359ae9ed321b1c4872",
       "version_major": 2,
       "version_minor": 0
      },
      "text/plain": [
       "Dropdown(description='Angle Unit', options=('mrad', 'Radians', 'Degrees'), value='mrad')"
      ]
     },
     "metadata": {},
     "output_type": "display_data"
    },
    {
     "data": {
      "application/vnd.jupyter.widget-view+json": {
       "model_id": "b63cb20c8eac43c79a437787324bf2a8",
       "version_major": 2,
       "version_minor": 0
      },
      "text/plain": [
       "Dropdown(description='Field Unit', options=('T', 'Gauss'), value='T')"
      ]
     },
     "metadata": {},
     "output_type": "display_data"
    }
   ],
   "source": [
    "from magspecinterface_functions import *\n",
    "display( units_length )\n",
    "display( units_energy )\n",
    "display( units_angles )\n",
    "display( units_magnetic_field )"
   ]
  },
  {
   "cell_type": "markdown",
   "metadata": {},
   "source": [
    "## Initialization type"
   ]
  },
  {
   "cell_type": "code",
   "execution_count": 2,
   "metadata": {},
   "outputs": [
    {
     "data": {
      "application/vnd.jupyter.widget-view+json": {
       "model_id": "8ee234e83e484f81bc2b2fd47c47f918",
       "version_major": 2,
       "version_minor": 0
      },
      "text/plain": [
       "Dropdown(description='Position', options=('Guassian', 'Uniform', 'Log'), value='Guassian')"
      ]
     },
     "metadata": {},
     "output_type": "display_data"
    },
    {
     "data": {
      "application/vnd.jupyter.widget-view+json": {
       "model_id": "3a9b4d5581604e7ea4ab1498917da1bb",
       "version_major": 2,
       "version_minor": 0
      },
      "text/plain": [
       "Dropdown(description='Energy', options=('Guassian', 'Uniform'), value='Guassian')"
      ]
     },
     "metadata": {},
     "output_type": "display_data"
    },
    {
     "data": {
      "application/vnd.jupyter.widget-view+json": {
       "model_id": "033086284fd64e0f9df304348b4502a9",
       "version_major": 2,
       "version_minor": 0
      },
      "text/plain": [
       "Dropdown(description='Divergence', options=('Guassian', 'Uniform', 'Scan'), value='Guassian')"
      ]
     },
     "metadata": {},
     "output_type": "display_data"
    }
   ],
   "source": [
    "display( init_position )\n",
    "display( init_energy )\n",
    "display( init_divergence )"
   ]
  },
  {
   "cell_type": "markdown",
   "metadata": {},
   "source": [
    "## Spectrometer coordinate system\n",
    "> Define the limits to the spectrometer coordinate system. You are free to choose what marks the origin.<br>\n",
    "**Note:** Global bounds may be negative."
   ]
  },
  {
   "cell_type": "code",
   "execution_count": 3,
   "metadata": {},
   "outputs": [
    {
     "data": {
      "application/vnd.jupyter.widget-view+json": {
       "model_id": "5532d0e93249492a8c99348a35972b40",
       "version_major": 2,
       "version_minor": 0
      },
      "text/plain": [
       "FloatText(value=100.0, description='global x max')"
      ]
     },
     "metadata": {},
     "output_type": "display_data"
    },
    {
     "data": {
      "application/vnd.jupyter.widget-view+json": {
       "model_id": "88cf45d1845647ba93df550681354c16",
       "version_major": 2,
       "version_minor": 0
      },
      "text/plain": [
       "FloatText(value=0.0, description='global x min')"
      ]
     },
     "metadata": {},
     "output_type": "display_data"
    },
    {
     "data": {
      "application/vnd.jupyter.widget-view+json": {
       "model_id": "615986614022407592c63715bac2913a",
       "version_major": 2,
       "version_minor": 0
      },
      "text/plain": [
       "FloatText(value=100.0, description='global y max')"
      ]
     },
     "metadata": {},
     "output_type": "display_data"
    },
    {
     "data": {
      "application/vnd.jupyter.widget-view+json": {
       "model_id": "b4b986aaf2af4931987172bf45d17139",
       "version_major": 2,
       "version_minor": 0
      },
      "text/plain": [
       "FloatText(value=0.0, description='global y min')"
      ]
     },
     "metadata": {},
     "output_type": "display_data"
    },
    {
     "data": {
      "application/vnd.jupyter.widget-view+json": {
       "model_id": "fd599f4068584c959e2ced1757d35155",
       "version_major": 2,
       "version_minor": 0
      },
      "text/plain": [
       "FloatText(value=100.0, description='global z max')"
      ]
     },
     "metadata": {},
     "output_type": "display_data"
    },
    {
     "data": {
      "application/vnd.jupyter.widget-view+json": {
       "model_id": "a4b57c5b033f4241b3cd9c5f865a40ae",
       "version_major": 2,
       "version_minor": 0
      },
      "text/plain": [
       "FloatText(value=0.0, description='global z min')"
      ]
     },
     "metadata": {},
     "output_type": "display_data"
    }
   ],
   "source": [
    "for ii in range(len(global_bounds)):\n",
    "    display( global_bounds[ii] )"
   ]
  },
  {
   "cell_type": "markdown",
   "metadata": {},
   "source": [
    "## Magnet setup:\n",
    "> Number of magnets, dimensions, position, and magnetic field components."
   ]
  },
  {
   "cell_type": "markdown",
   "metadata": {},
   "source": [
    "![alt text](magnet_position.png \"Magnet_Setup\")"
   ]
  },
  {
   "cell_type": "code",
   "execution_count": 4,
   "metadata": {},
   "outputs": [
    {
     "data": {
      "application/vnd.jupyter.widget-view+json": {
       "model_id": "1e56799239f94d2bbc74d82b551db0b0",
       "version_major": 2,
       "version_minor": 0
      },
      "text/plain": [
       "BoundedIntText(value=1, description='# of Magnets', min=1)"
      ]
     },
     "metadata": {},
     "output_type": "display_data"
    }
   ],
   "source": [
    "display( number_of_magnets )"
   ]
  },
  {
   "cell_type": "code",
   "execution_count": 5,
   "metadata": {
    "scrolled": true
   },
   "outputs": [
    {
     "data": {
      "application/vnd.jupyter.widget-view+json": {
       "model_id": "323898134a3a40f089770a7a8da08287",
       "version_major": 2,
       "version_minor": 0
      },
      "text/plain": [
       "BoundedFloatText(value=0.0, description='width 1')"
      ]
     },
     "metadata": {},
     "output_type": "display_data"
    },
    {
     "data": {
      "application/vnd.jupyter.widget-view+json": {
       "model_id": "e9ea35a230f243f18c92522f829ae338",
       "version_major": 2,
       "version_minor": 0
      },
      "text/plain": [
       "BoundedFloatText(value=0.0, description='length 1')"
      ]
     },
     "metadata": {},
     "output_type": "display_data"
    },
    {
     "data": {
      "application/vnd.jupyter.widget-view+json": {
       "model_id": "9e3073c105434846b78c47b925ff80da",
       "version_major": 2,
       "version_minor": 0
      },
      "text/plain": [
       "BoundedFloatText(value=0.0, description='height 1')"
      ]
     },
     "metadata": {},
     "output_type": "display_data"
    },
    {
     "data": {
      "application/vnd.jupyter.widget-view+json": {
       "model_id": "9c8da38b5c3f4f328dc690273a590cb0",
       "version_major": 2,
       "version_minor": 0
      },
      "text/plain": [
       "BoundedFloatText(value=0.0, description='width 2')"
      ]
     },
     "metadata": {},
     "output_type": "display_data"
    },
    {
     "data": {
      "application/vnd.jupyter.widget-view+json": {
       "model_id": "8f5c75c432474322812bfaff80c26b2b",
       "version_major": 2,
       "version_minor": 0
      },
      "text/plain": [
       "BoundedFloatText(value=0.0, description='length 2')"
      ]
     },
     "metadata": {},
     "output_type": "display_data"
    },
    {
     "data": {
      "application/vnd.jupyter.widget-view+json": {
       "model_id": "dc78bac9012c4e83a3adc1cb7883b39e",
       "version_major": 2,
       "version_minor": 0
      },
      "text/plain": [
       "BoundedFloatText(value=0.0, description='height 2')"
      ]
     },
     "metadata": {},
     "output_type": "display_data"
    }
   ],
   "source": [
    "magnet_dimensions_widgets = dynamicFloatValue_Magnet_Dimensions(number_of_magnets.value)\n",
    "for ii in range(len(magnet_dimensions_widgets)):\n",
    "    display( magnet_dimensions_widgets[ii] )"
   ]
  },
  {
   "cell_type": "markdown",
   "metadata": {},
   "source": [
    "> **Important:** Position value limits are based on global bounds and magnet dimensions. Please re-run the below cell if values for either change."
   ]
  },
  {
   "cell_type": "code",
   "execution_count": 6,
   "metadata": {
    "scrolled": true
   },
   "outputs": [
    {
     "data": {
      "application/vnd.jupyter.widget-view+json": {
       "model_id": "f7b3c3df7232493bb2d6427ab39addb9",
       "version_major": 2,
       "version_minor": 0
      },
      "text/plain": [
       "BoundedFloatText(value=0.0, description='x pos 1', max=97.0)"
      ]
     },
     "metadata": {},
     "output_type": "display_data"
    },
    {
     "data": {
      "application/vnd.jupyter.widget-view+json": {
       "model_id": "c4a07b1039b44b72a5405719ee6152ae",
       "version_major": 2,
       "version_minor": 0
      },
      "text/plain": [
       "BoundedFloatText(value=0.0, description='y pos 1', max=48.5, min=-48.5)"
      ]
     },
     "metadata": {},
     "output_type": "display_data"
    },
    {
     "data": {
      "application/vnd.jupyter.widget-view+json": {
       "model_id": "07d8362efca648d69053fedcc931d8c6",
       "version_major": 2,
       "version_minor": 0
      },
      "text/plain": [
       "BoundedFloatText(value=0.0, description='z pos 1', max=48.5, min=-48.5)"
      ]
     },
     "metadata": {},
     "output_type": "display_data"
    },
    {
     "data": {
      "application/vnd.jupyter.widget-view+json": {
       "model_id": "1780ccf95a7a45a9a1f097430ce599f3",
       "version_major": 2,
       "version_minor": 0
      },
      "text/plain": [
       "BoundedFloatText(value=0.0, description='x pos 2', max=96.0)"
      ]
     },
     "metadata": {},
     "output_type": "display_data"
    },
    {
     "data": {
      "application/vnd.jupyter.widget-view+json": {
       "model_id": "749ac5d4531a490fbffcbda2bab9f422",
       "version_major": 2,
       "version_minor": 0
      },
      "text/plain": [
       "BoundedFloatText(value=0.0, description='y pos 2', max=48.0, min=-48.0)"
      ]
     },
     "metadata": {},
     "output_type": "display_data"
    },
    {
     "data": {
      "application/vnd.jupyter.widget-view+json": {
       "model_id": "be0ba3af79b148a39e33fdfaeb63f90e",
       "version_major": 2,
       "version_minor": 0
      },
      "text/plain": [
       "BoundedFloatText(value=0.0, description='z pos 2', max=48.0, min=-48.0)"
      ]
     },
     "metadata": {},
     "output_type": "display_data"
    }
   ],
   "source": [
    "magnet_position_widgets = dynamicFloatValue_Magnet_Position(number_of_magnets.value, magnet_dimensions_widgets,\n",
    "                                                            global_bounds)\n",
    "for ii in range(len(magnet_position_widgets)):\n",
    "    display( magnet_position_widgets[ii] )"
   ]
  },
  {
   "cell_type": "code",
   "execution_count": 7,
   "metadata": {
    "scrolled": true
   },
   "outputs": [
    {
     "data": {
      "application/vnd.jupyter.widget-view+json": {
       "model_id": "ce1c50a0569549f28fc8426a5a7fe502",
       "version_major": 2,
       "version_minor": 0
      },
      "text/plain": [
       "FloatText(value=1.0, description='x comp 1')"
      ]
     },
     "metadata": {},
     "output_type": "display_data"
    },
    {
     "data": {
      "application/vnd.jupyter.widget-view+json": {
       "model_id": "647b40607c3c4db58d64644f2df064a3",
       "version_major": 2,
       "version_minor": 0
      },
      "text/plain": [
       "FloatText(value=1.0, description='y comp 1')"
      ]
     },
     "metadata": {},
     "output_type": "display_data"
    },
    {
     "data": {
      "application/vnd.jupyter.widget-view+json": {
       "model_id": "4fdf18468df94ad9ac655ef828184db0",
       "version_major": 2,
       "version_minor": 0
      },
      "text/plain": [
       "FloatText(value=1.0, description='z comp 1')"
      ]
     },
     "metadata": {},
     "output_type": "display_data"
    },
    {
     "data": {
      "application/vnd.jupyter.widget-view+json": {
       "model_id": "2de77bc809664bde8d1e6249254a41ca",
       "version_major": 2,
       "version_minor": 0
      },
      "text/plain": [
       "FloatText(value=1.0, description='x comp 2')"
      ]
     },
     "metadata": {},
     "output_type": "display_data"
    },
    {
     "data": {
      "application/vnd.jupyter.widget-view+json": {
       "model_id": "d19e77e4e1e148c7a43a035ede9f36a4",
       "version_major": 2,
       "version_minor": 0
      },
      "text/plain": [
       "FloatText(value=1.0, description='y comp 2')"
      ]
     },
     "metadata": {},
     "output_type": "display_data"
    },
    {
     "data": {
      "application/vnd.jupyter.widget-view+json": {
       "model_id": "73a2961c71ac4b8da2e1e6a9c12e0d30",
       "version_major": 2,
       "version_minor": 0
      },
      "text/plain": [
       "FloatText(value=1.0, description='z comp 2')"
      ]
     },
     "metadata": {},
     "output_type": "display_data"
    }
   ],
   "source": [
    "magnetic_field_components_widgets = dynamicFloatValue_Magnetic_Field_Comps(number_of_magnets.value)\n",
    "for ii in range(len(magnetic_field_components_widgets)):\n",
    "    display( magnetic_field_components_widgets[ii] )"
   ]
  },
  {
   "cell_type": "markdown",
   "metadata": {},
   "source": [
    "## Beam Setup:\n",
    ">Number of particles, starting position, energy, direction.<br>\n",
    "**Note:** Please input values referencing the beam center. Direction is given by angle from axes."
   ]
  },
  {
   "cell_type": "code",
   "execution_count": 8,
   "metadata": {},
   "outputs": [
    {
     "data": {
      "application/vnd.jupyter.widget-view+json": {
       "model_id": "098264bf349d4594b1a6dc1f21452c01",
       "version_major": 2,
       "version_minor": 0
      },
      "text/plain": [
       "BoundedIntText(value=1, description='# of Particles', min=1)"
      ]
     },
     "metadata": {},
     "output_type": "display_data"
    }
   ],
   "source": [
    "display( number_of_particles )"
   ]
  },
  {
   "cell_type": "code",
   "execution_count": 9,
   "metadata": {},
   "outputs": [
    {
     "data": {
      "application/vnd.jupyter.widget-view+json": {
       "model_id": "485da20f2b9e4aadadc00bc38563849f",
       "version_major": 2,
       "version_minor": 0
      },
      "text/plain": [
       "BoundedFloatText(value=0.0, description='x start pos')"
      ]
     },
     "metadata": {},
     "output_type": "display_data"
    },
    {
     "data": {
      "application/vnd.jupyter.widget-view+json": {
       "model_id": "72d7944286de419e945ae020e414e53a",
       "version_major": 2,
       "version_minor": 0
      },
      "text/plain": [
       "BoundedFloatText(value=0.0, description='y start pos', max=50.0, min=-50.0)"
      ]
     },
     "metadata": {},
     "output_type": "display_data"
    },
    {
     "data": {
      "application/vnd.jupyter.widget-view+json": {
       "model_id": "4e3a1586175c43ceb237c5c03537dbae",
       "version_major": 2,
       "version_minor": 0
      },
      "text/plain": [
       "BoundedFloatText(value=0.0, description='z start pos', max=50.0, min=-50.0)"
      ]
     },
     "metadata": {},
     "output_type": "display_data"
    }
   ],
   "source": [
    "beam_start_position_widgets = dynamicFloatValue_Beam_Start_Position(global_bounds)\n",
    "for ii in range(len(beam_start_position_widgets)):\n",
    "    display( beam_start_position_widgets[ii] )"
   ]
  },
  {
   "cell_type": "code",
   "execution_count": 10,
   "metadata": {},
   "outputs": [
    {
     "data": {
      "application/vnd.jupyter.widget-view+json": {
       "model_id": "58ada0a5bf214d4584fb43e0161ea14e",
       "version_major": 2,
       "version_minor": 0
      },
      "text/plain": [
       "BoundedFloatText(value=1.0, description='beam energy')"
      ]
     },
     "metadata": {},
     "output_type": "display_data"
    }
   ],
   "source": [
    "display(beam_energy)"
   ]
  },
  {
   "cell_type": "code",
   "execution_count": 11,
   "metadata": {},
   "outputs": [
    {
     "data": {
      "application/vnd.jupyter.widget-view+json": {
       "model_id": "d790f9dfcae84047ae36da1cb84958f3",
       "version_major": 2,
       "version_minor": 0
      },
      "text/plain": [
       "FloatText(value=0.0, description='x angle')"
      ]
     },
     "metadata": {},
     "output_type": "display_data"
    },
    {
     "data": {
      "application/vnd.jupyter.widget-view+json": {
       "model_id": "1e544db880cf48f289166bee36bbcf3c",
       "version_major": 2,
       "version_minor": 0
      },
      "text/plain": [
       "FloatText(value=90.0, description='y angle')"
      ]
     },
     "metadata": {},
     "output_type": "display_data"
    },
    {
     "data": {
      "application/vnd.jupyter.widget-view+json": {
       "model_id": "d051c549f9a94c3fa07211bc400eddbf",
       "version_major": 2,
       "version_minor": 0
      },
      "text/plain": [
       "FloatText(value=90.0, description='z angle')"
      ]
     },
     "metadata": {},
     "output_type": "display_data"
    }
   ],
   "source": [
    "beam_direction_widgets = dynamicFloatValue_Beam_Direction(units_angles.value)\n",
    "for ii in range(len(beam_direction_widgets)):\n",
    "    display( beam_direction_widgets[ii] )"
   ]
  },
  {
   "cell_type": "markdown",
   "metadata": {},
   "source": [
    "## Beam Spread:\n",
    ">Spread in starting position, energy, and divergence."
   ]
  },
  {
   "cell_type": "code",
   "execution_count": 12,
   "metadata": {},
   "outputs": [
    {
     "data": {
      "application/vnd.jupyter.widget-view+json": {
       "model_id": "690719c5f9b34fcfbb7b7d46633b492e",
       "version_major": 2,
       "version_minor": 0
      },
      "text/plain": [
       "FloatText(value=0.0, description='x pos spread')"
      ]
     },
     "metadata": {},
     "output_type": "display_data"
    },
    {
     "data": {
      "application/vnd.jupyter.widget-view+json": {
       "model_id": "273b30cf9b3d4fdcb963854cc82f6621",
       "version_major": 2,
       "version_minor": 0
      },
      "text/plain": [
       "FloatText(value=0.0, description='y pos spread')"
      ]
     },
     "metadata": {},
     "output_type": "display_data"
    },
    {
     "data": {
      "application/vnd.jupyter.widget-view+json": {
       "model_id": "49037929ac7140b5b90ffe01b1e6d5ac",
       "version_major": 2,
       "version_minor": 0
      },
      "text/plain": [
       "FloatText(value=0.0, description='z pos spread')"
      ]
     },
     "metadata": {},
     "output_type": "display_data"
    }
   ],
   "source": [
    "beam_position_spread_widgets = dynamicFloatValue_Beam_Position_Spread()\n",
    "for ii in range(len(beam_position_spread_widgets)):\n",
    "    display( beam_position_spread_widgets[ii] )"
   ]
  },
  {
   "cell_type": "code",
   "execution_count": 13,
   "metadata": {},
   "outputs": [
    {
     "data": {
      "application/vnd.jupyter.widget-view+json": {
       "model_id": "ddd227a0f7de4a199bf92b8eedd1d099",
       "version_major": 2,
       "version_minor": 0
      },
      "text/plain": [
       "BoundedFloatText(value=0.0, description='nrg spread')"
      ]
     },
     "metadata": {},
     "output_type": "display_data"
    }
   ],
   "source": [
    "display( beam_energy_spread )"
   ]
  },
  {
   "cell_type": "code",
   "execution_count": 14,
   "metadata": {},
   "outputs": [
    {
     "data": {
      "application/vnd.jupyter.widget-view+json": {
       "model_id": "efc09d0a029d40dfb83201d3f3690793",
       "version_major": 2,
       "version_minor": 0
      },
      "text/plain": [
       "FloatText(value=0.0, description='x divergence')"
      ]
     },
     "metadata": {},
     "output_type": "display_data"
    },
    {
     "data": {
      "application/vnd.jupyter.widget-view+json": {
       "model_id": "c0addc46ebb846cf835a8453b76ee6d9",
       "version_major": 2,
       "version_minor": 0
      },
      "text/plain": [
       "FloatText(value=0.0, description='y divergence')"
      ]
     },
     "metadata": {},
     "output_type": "display_data"
    },
    {
     "data": {
      "application/vnd.jupyter.widget-view+json": {
       "model_id": "724a9b85088a468198a6f627de8fcaf4",
       "version_major": 2,
       "version_minor": 0
      },
      "text/plain": [
       "FloatText(value=0.0, description='z divergence')"
      ]
     },
     "metadata": {},
     "output_type": "display_data"
    }
   ],
   "source": [
    "beam_divergence_spread_widgets = dynamicFloatValue_Beam_Divergence_Spread()\n",
    "for ii in range(len(beam_divergence_spread_widgets)):\n",
    "    display( beam_divergence_spread_widgets[ii] )"
   ]
  },
  {
   "cell_type": "markdown",
   "metadata": {},
   "source": [
    "## Screen Setup:\n",
    ">Number of screens, dimensions, angles about axes, and position.<br>\n",
    "**Note:** Given angles are yaw (about the z-axis), pitch (about the y-axis), and roll (about the x-axis)."
   ]
  },
  {
   "cell_type": "markdown",
   "metadata": {},
   "source": [
    "![alt text](screen_setup.png \"Screen_Setup\")"
   ]
  },
  {
   "cell_type": "code",
   "execution_count": 15,
   "metadata": {},
   "outputs": [
    {
     "data": {
      "application/vnd.jupyter.widget-view+json": {
       "model_id": "275d13d2e37449abb8b30ccf97db3f1f",
       "version_major": 2,
       "version_minor": 0
      },
      "text/plain": [
       "BoundedIntText(value=1, description='# of Screens')"
      ]
     },
     "metadata": {},
     "output_type": "display_data"
    }
   ],
   "source": [
    "display( number_of_screens )"
   ]
  },
  {
   "cell_type": "code",
   "execution_count": 16,
   "metadata": {},
   "outputs": [
    {
     "data": {
      "application/vnd.jupyter.widget-view+json": {
       "model_id": "3cad419d67044c7680005f665e7db071",
       "version_major": 2,
       "version_minor": 0
      },
      "text/plain": [
       "BoundedFloatText(value=0.0, description='length 1')"
      ]
     },
     "metadata": {},
     "output_type": "display_data"
    },
    {
     "data": {
      "application/vnd.jupyter.widget-view+json": {
       "model_id": "4236903e44784c649883a85fb945e601",
       "version_major": 2,
       "version_minor": 0
      },
      "text/plain": [
       "BoundedFloatText(value=0.0, description='height 1')"
      ]
     },
     "metadata": {},
     "output_type": "display_data"
    }
   ],
   "source": [
    "screen_dimensions_widgets = dynamicFloatValue_Screen_Dimensions(number_of_screens.value)\n",
    "for ii in range(len(screen_dimensions_widgets)):\n",
    "    display( screen_dimensions_widgets[ii] )"
   ]
  },
  {
   "cell_type": "code",
   "execution_count": 17,
   "metadata": {},
   "outputs": [
    {
     "data": {
      "application/vnd.jupyter.widget-view+json": {
       "model_id": "15c76330767548f5b1f8afab15e81626",
       "version_major": 2,
       "version_minor": 0
      },
      "text/plain": [
       "FloatText(value=0.0, description='yaw angle 1')"
      ]
     },
     "metadata": {},
     "output_type": "display_data"
    },
    {
     "data": {
      "application/vnd.jupyter.widget-view+json": {
       "model_id": "a6d60f4939394a7ca936865aee359026",
       "version_major": 2,
       "version_minor": 0
      },
      "text/plain": [
       "FloatText(value=0.0, description='pitch angle 1')"
      ]
     },
     "metadata": {},
     "output_type": "display_data"
    },
    {
     "data": {
      "application/vnd.jupyter.widget-view+json": {
       "model_id": "64b3cc0dd4154d949235c302ef050bf7",
       "version_major": 2,
       "version_minor": 0
      },
      "text/plain": [
       "FloatText(value=0.0, description='roll angle 1')"
      ]
     },
     "metadata": {},
     "output_type": "display_data"
    }
   ],
   "source": [
    "screen_angles_widgets = dynamicFloatValue_Screen_Angles(number_of_screens.value)\n",
    "for ii in range(len(screen_angles_widgets)):\n",
    "    display( screen_angles_widgets[ii] )"
   ]
  },
  {
   "cell_type": "markdown",
   "metadata": {},
   "source": [
    "> **Important:** Position value limits are based on global bounds, screen dimensions, and screen angles. Please re-run the below cell if values for any change."
   ]
  },
  {
   "cell_type": "code",
   "execution_count": 18,
   "metadata": {},
   "outputs": [
    {
     "data": {
      "application/vnd.jupyter.widget-view+json": {
       "model_id": "696da8dd98054be7bd5ff6c0cb6032b7",
       "version_major": 2,
       "version_minor": 0
      },
      "text/plain": [
       "BoundedFloatText(value=0.0, description='x pos 1')"
      ]
     },
     "metadata": {},
     "output_type": "display_data"
    },
    {
     "data": {
      "application/vnd.jupyter.widget-view+json": {
       "model_id": "7314129b75f5453b864d0f95bb6a0724",
       "version_major": 2,
       "version_minor": 0
      },
      "text/plain": [
       "BoundedFloatText(value=0.0, description='y pos 1', max=50.0, min=-58.0)"
      ]
     },
     "metadata": {},
     "output_type": "display_data"
    },
    {
     "data": {
      "application/vnd.jupyter.widget-view+json": {
       "model_id": "659c096351744a62aa7b0ce91ddfd0fa",
       "version_major": 2,
       "version_minor": 0
      },
      "text/plain": [
       "BoundedFloatText(value=0.0, description='z pos 1', max=47.0, min=-53.0)"
      ]
     },
     "metadata": {},
     "output_type": "display_data"
    }
   ],
   "source": [
    "screen_position_widgets = dynamicFloatValue_Screen_Position(units_angles.value, number_of_screens.value, global_bounds, \n",
    "                                                            screen_dimensions_widgets, screen_angles_widgets)\n",
    "for ii in range(len(screen_position_widgets)):\n",
    "    display( screen_position_widgets[ii] )"
   ]
  },
  {
   "cell_type": "markdown",
   "metadata": {},
   "source": [
    "## Display and Output info"
   ]
  },
  {
   "cell_type": "code",
   "execution_count": 20,
   "metadata": {
    "scrolled": false
   },
   "outputs": [
    {
     "data": {
      "application/javascript": [
       "/* Put everything inside the global mpl namespace */\n",
       "window.mpl = {};\n",
       "\n",
       "\n",
       "mpl.get_websocket_type = function() {\n",
       "    if (typeof(WebSocket) !== 'undefined') {\n",
       "        return WebSocket;\n",
       "    } else if (typeof(MozWebSocket) !== 'undefined') {\n",
       "        return MozWebSocket;\n",
       "    } else {\n",
       "        alert('Your browser does not have WebSocket support. ' +\n",
       "              'Please try Chrome, Safari or Firefox ≥ 6. ' +\n",
       "              'Firefox 4 and 5 are also supported but you ' +\n",
       "              'have to enable WebSockets in about:config.');\n",
       "    };\n",
       "}\n",
       "\n",
       "mpl.figure = function(figure_id, websocket, ondownload, parent_element) {\n",
       "    this.id = figure_id;\n",
       "\n",
       "    this.ws = websocket;\n",
       "\n",
       "    this.supports_binary = (this.ws.binaryType != undefined);\n",
       "\n",
       "    if (!this.supports_binary) {\n",
       "        var warnings = document.getElementById(\"mpl-warnings\");\n",
       "        if (warnings) {\n",
       "            warnings.style.display = 'block';\n",
       "            warnings.textContent = (\n",
       "                \"This browser does not support binary websocket messages. \" +\n",
       "                    \"Performance may be slow.\");\n",
       "        }\n",
       "    }\n",
       "\n",
       "    this.imageObj = new Image();\n",
       "\n",
       "    this.context = undefined;\n",
       "    this.message = undefined;\n",
       "    this.canvas = undefined;\n",
       "    this.rubberband_canvas = undefined;\n",
       "    this.rubberband_context = undefined;\n",
       "    this.format_dropdown = undefined;\n",
       "\n",
       "    this.image_mode = 'full';\n",
       "\n",
       "    this.root = $('<div/>');\n",
       "    this._root_extra_style(this.root)\n",
       "    this.root.attr('style', 'display: inline-block');\n",
       "\n",
       "    $(parent_element).append(this.root);\n",
       "\n",
       "    this._init_header(this);\n",
       "    this._init_canvas(this);\n",
       "    this._init_toolbar(this);\n",
       "\n",
       "    var fig = this;\n",
       "\n",
       "    this.waiting = false;\n",
       "\n",
       "    this.ws.onopen =  function () {\n",
       "            fig.send_message(\"supports_binary\", {value: fig.supports_binary});\n",
       "            fig.send_message(\"send_image_mode\", {});\n",
       "            if (mpl.ratio != 1) {\n",
       "                fig.send_message(\"set_dpi_ratio\", {'dpi_ratio': mpl.ratio});\n",
       "            }\n",
       "            fig.send_message(\"refresh\", {});\n",
       "        }\n",
       "\n",
       "    this.imageObj.onload = function() {\n",
       "            if (fig.image_mode == 'full') {\n",
       "                // Full images could contain transparency (where diff images\n",
       "                // almost always do), so we need to clear the canvas so that\n",
       "                // there is no ghosting.\n",
       "                fig.context.clearRect(0, 0, fig.canvas.width, fig.canvas.height);\n",
       "            }\n",
       "            fig.context.drawImage(fig.imageObj, 0, 0);\n",
       "        };\n",
       "\n",
       "    this.imageObj.onunload = function() {\n",
       "        fig.ws.close();\n",
       "    }\n",
       "\n",
       "    this.ws.onmessage = this._make_on_message_function(this);\n",
       "\n",
       "    this.ondownload = ondownload;\n",
       "}\n",
       "\n",
       "mpl.figure.prototype._init_header = function() {\n",
       "    var titlebar = $(\n",
       "        '<div class=\"ui-dialog-titlebar ui-widget-header ui-corner-all ' +\n",
       "        'ui-helper-clearfix\"/>');\n",
       "    var titletext = $(\n",
       "        '<div class=\"ui-dialog-title\" style=\"width: 100%; ' +\n",
       "        'text-align: center; padding: 3px;\"/>');\n",
       "    titlebar.append(titletext)\n",
       "    this.root.append(titlebar);\n",
       "    this.header = titletext[0];\n",
       "}\n",
       "\n",
       "\n",
       "\n",
       "mpl.figure.prototype._canvas_extra_style = function(canvas_div) {\n",
       "\n",
       "}\n",
       "\n",
       "\n",
       "mpl.figure.prototype._root_extra_style = function(canvas_div) {\n",
       "\n",
       "}\n",
       "\n",
       "mpl.figure.prototype._init_canvas = function() {\n",
       "    var fig = this;\n",
       "\n",
       "    var canvas_div = $('<div/>');\n",
       "\n",
       "    canvas_div.attr('style', 'position: relative; clear: both; outline: 0');\n",
       "\n",
       "    function canvas_keyboard_event(event) {\n",
       "        return fig.key_event(event, event['data']);\n",
       "    }\n",
       "\n",
       "    canvas_div.keydown('key_press', canvas_keyboard_event);\n",
       "    canvas_div.keyup('key_release', canvas_keyboard_event);\n",
       "    this.canvas_div = canvas_div\n",
       "    this._canvas_extra_style(canvas_div)\n",
       "    this.root.append(canvas_div);\n",
       "\n",
       "    var canvas = $('<canvas/>');\n",
       "    canvas.addClass('mpl-canvas');\n",
       "    canvas.attr('style', \"left: 0; top: 0; z-index: 0; outline: 0\")\n",
       "\n",
       "    this.canvas = canvas[0];\n",
       "    this.context = canvas[0].getContext(\"2d\");\n",
       "\n",
       "    var backingStore = this.context.backingStorePixelRatio ||\n",
       "\tthis.context.webkitBackingStorePixelRatio ||\n",
       "\tthis.context.mozBackingStorePixelRatio ||\n",
       "\tthis.context.msBackingStorePixelRatio ||\n",
       "\tthis.context.oBackingStorePixelRatio ||\n",
       "\tthis.context.backingStorePixelRatio || 1;\n",
       "\n",
       "    mpl.ratio = (window.devicePixelRatio || 1) / backingStore;\n",
       "\n",
       "    var rubberband = $('<canvas/>');\n",
       "    rubberband.attr('style', \"position: absolute; left: 0; top: 0; z-index: 1;\")\n",
       "\n",
       "    var pass_mouse_events = true;\n",
       "\n",
       "    canvas_div.resizable({\n",
       "        start: function(event, ui) {\n",
       "            pass_mouse_events = false;\n",
       "        },\n",
       "        resize: function(event, ui) {\n",
       "            fig.request_resize(ui.size.width, ui.size.height);\n",
       "        },\n",
       "        stop: function(event, ui) {\n",
       "            pass_mouse_events = true;\n",
       "            fig.request_resize(ui.size.width, ui.size.height);\n",
       "        },\n",
       "    });\n",
       "\n",
       "    function mouse_event_fn(event) {\n",
       "        if (pass_mouse_events)\n",
       "            return fig.mouse_event(event, event['data']);\n",
       "    }\n",
       "\n",
       "    rubberband.mousedown('button_press', mouse_event_fn);\n",
       "    rubberband.mouseup('button_release', mouse_event_fn);\n",
       "    // Throttle sequential mouse events to 1 every 20ms.\n",
       "    rubberband.mousemove('motion_notify', mouse_event_fn);\n",
       "\n",
       "    rubberband.mouseenter('figure_enter', mouse_event_fn);\n",
       "    rubberband.mouseleave('figure_leave', mouse_event_fn);\n",
       "\n",
       "    canvas_div.on(\"wheel\", function (event) {\n",
       "        event = event.originalEvent;\n",
       "        event['data'] = 'scroll'\n",
       "        if (event.deltaY < 0) {\n",
       "            event.step = 1;\n",
       "        } else {\n",
       "            event.step = -1;\n",
       "        }\n",
       "        mouse_event_fn(event);\n",
       "    });\n",
       "\n",
       "    canvas_div.append(canvas);\n",
       "    canvas_div.append(rubberband);\n",
       "\n",
       "    this.rubberband = rubberband;\n",
       "    this.rubberband_canvas = rubberband[0];\n",
       "    this.rubberband_context = rubberband[0].getContext(\"2d\");\n",
       "    this.rubberband_context.strokeStyle = \"#000000\";\n",
       "\n",
       "    this._resize_canvas = function(width, height) {\n",
       "        // Keep the size of the canvas, canvas container, and rubber band\n",
       "        // canvas in synch.\n",
       "        canvas_div.css('width', width)\n",
       "        canvas_div.css('height', height)\n",
       "\n",
       "        canvas.attr('width', width * mpl.ratio);\n",
       "        canvas.attr('height', height * mpl.ratio);\n",
       "        canvas.attr('style', 'width: ' + width + 'px; height: ' + height + 'px;');\n",
       "\n",
       "        rubberband.attr('width', width);\n",
       "        rubberband.attr('height', height);\n",
       "    }\n",
       "\n",
       "    // Set the figure to an initial 600x600px, this will subsequently be updated\n",
       "    // upon first draw.\n",
       "    this._resize_canvas(600, 600);\n",
       "\n",
       "    // Disable right mouse context menu.\n",
       "    $(this.rubberband_canvas).bind(\"contextmenu\",function(e){\n",
       "        return false;\n",
       "    });\n",
       "\n",
       "    function set_focus () {\n",
       "        canvas.focus();\n",
       "        canvas_div.focus();\n",
       "    }\n",
       "\n",
       "    window.setTimeout(set_focus, 100);\n",
       "}\n",
       "\n",
       "mpl.figure.prototype._init_toolbar = function() {\n",
       "    var fig = this;\n",
       "\n",
       "    var nav_element = $('<div/>');\n",
       "    nav_element.attr('style', 'width: 100%');\n",
       "    this.root.append(nav_element);\n",
       "\n",
       "    // Define a callback function for later on.\n",
       "    function toolbar_event(event) {\n",
       "        return fig.toolbar_button_onclick(event['data']);\n",
       "    }\n",
       "    function toolbar_mouse_event(event) {\n",
       "        return fig.toolbar_button_onmouseover(event['data']);\n",
       "    }\n",
       "\n",
       "    for(var toolbar_ind in mpl.toolbar_items) {\n",
       "        var name = mpl.toolbar_items[toolbar_ind][0];\n",
       "        var tooltip = mpl.toolbar_items[toolbar_ind][1];\n",
       "        var image = mpl.toolbar_items[toolbar_ind][2];\n",
       "        var method_name = mpl.toolbar_items[toolbar_ind][3];\n",
       "\n",
       "        if (!name) {\n",
       "            // put a spacer in here.\n",
       "            continue;\n",
       "        }\n",
       "        var button = $('<button/>');\n",
       "        button.addClass('ui-button ui-widget ui-state-default ui-corner-all ' +\n",
       "                        'ui-button-icon-only');\n",
       "        button.attr('role', 'button');\n",
       "        button.attr('aria-disabled', 'false');\n",
       "        button.click(method_name, toolbar_event);\n",
       "        button.mouseover(tooltip, toolbar_mouse_event);\n",
       "\n",
       "        var icon_img = $('<span/>');\n",
       "        icon_img.addClass('ui-button-icon-primary ui-icon');\n",
       "        icon_img.addClass(image);\n",
       "        icon_img.addClass('ui-corner-all');\n",
       "\n",
       "        var tooltip_span = $('<span/>');\n",
       "        tooltip_span.addClass('ui-button-text');\n",
       "        tooltip_span.html(tooltip);\n",
       "\n",
       "        button.append(icon_img);\n",
       "        button.append(tooltip_span);\n",
       "\n",
       "        nav_element.append(button);\n",
       "    }\n",
       "\n",
       "    var fmt_picker_span = $('<span/>');\n",
       "\n",
       "    var fmt_picker = $('<select/>');\n",
       "    fmt_picker.addClass('mpl-toolbar-option ui-widget ui-widget-content');\n",
       "    fmt_picker_span.append(fmt_picker);\n",
       "    nav_element.append(fmt_picker_span);\n",
       "    this.format_dropdown = fmt_picker[0];\n",
       "\n",
       "    for (var ind in mpl.extensions) {\n",
       "        var fmt = mpl.extensions[ind];\n",
       "        var option = $(\n",
       "            '<option/>', {selected: fmt === mpl.default_extension}).html(fmt);\n",
       "        fmt_picker.append(option);\n",
       "    }\n",
       "\n",
       "    // Add hover states to the ui-buttons\n",
       "    $( \".ui-button\" ).hover(\n",
       "        function() { $(this).addClass(\"ui-state-hover\");},\n",
       "        function() { $(this).removeClass(\"ui-state-hover\");}\n",
       "    );\n",
       "\n",
       "    var status_bar = $('<span class=\"mpl-message\"/>');\n",
       "    nav_element.append(status_bar);\n",
       "    this.message = status_bar[0];\n",
       "}\n",
       "\n",
       "mpl.figure.prototype.request_resize = function(x_pixels, y_pixels) {\n",
       "    // Request matplotlib to resize the figure. Matplotlib will then trigger a resize in the client,\n",
       "    // which will in turn request a refresh of the image.\n",
       "    this.send_message('resize', {'width': x_pixels, 'height': y_pixels});\n",
       "}\n",
       "\n",
       "mpl.figure.prototype.send_message = function(type, properties) {\n",
       "    properties['type'] = type;\n",
       "    properties['figure_id'] = this.id;\n",
       "    this.ws.send(JSON.stringify(properties));\n",
       "}\n",
       "\n",
       "mpl.figure.prototype.send_draw_message = function() {\n",
       "    if (!this.waiting) {\n",
       "        this.waiting = true;\n",
       "        this.ws.send(JSON.stringify({type: \"draw\", figure_id: this.id}));\n",
       "    }\n",
       "}\n",
       "\n",
       "\n",
       "mpl.figure.prototype.handle_save = function(fig, msg) {\n",
       "    var format_dropdown = fig.format_dropdown;\n",
       "    var format = format_dropdown.options[format_dropdown.selectedIndex].value;\n",
       "    fig.ondownload(fig, format);\n",
       "}\n",
       "\n",
       "\n",
       "mpl.figure.prototype.handle_resize = function(fig, msg) {\n",
       "    var size = msg['size'];\n",
       "    if (size[0] != fig.canvas.width || size[1] != fig.canvas.height) {\n",
       "        fig._resize_canvas(size[0], size[1]);\n",
       "        fig.send_message(\"refresh\", {});\n",
       "    };\n",
       "}\n",
       "\n",
       "mpl.figure.prototype.handle_rubberband = function(fig, msg) {\n",
       "    var x0 = msg['x0'] / mpl.ratio;\n",
       "    var y0 = (fig.canvas.height - msg['y0']) / mpl.ratio;\n",
       "    var x1 = msg['x1'] / mpl.ratio;\n",
       "    var y1 = (fig.canvas.height - msg['y1']) / mpl.ratio;\n",
       "    x0 = Math.floor(x0) + 0.5;\n",
       "    y0 = Math.floor(y0) + 0.5;\n",
       "    x1 = Math.floor(x1) + 0.5;\n",
       "    y1 = Math.floor(y1) + 0.5;\n",
       "    var min_x = Math.min(x0, x1);\n",
       "    var min_y = Math.min(y0, y1);\n",
       "    var width = Math.abs(x1 - x0);\n",
       "    var height = Math.abs(y1 - y0);\n",
       "\n",
       "    fig.rubberband_context.clearRect(\n",
       "        0, 0, fig.canvas.width / mpl.ratio, fig.canvas.height / mpl.ratio);\n",
       "\n",
       "    fig.rubberband_context.strokeRect(min_x, min_y, width, height);\n",
       "}\n",
       "\n",
       "mpl.figure.prototype.handle_figure_label = function(fig, msg) {\n",
       "    // Updates the figure title.\n",
       "    fig.header.textContent = msg['label'];\n",
       "}\n",
       "\n",
       "mpl.figure.prototype.handle_cursor = function(fig, msg) {\n",
       "    var cursor = msg['cursor'];\n",
       "    switch(cursor)\n",
       "    {\n",
       "    case 0:\n",
       "        cursor = 'pointer';\n",
       "        break;\n",
       "    case 1:\n",
       "        cursor = 'default';\n",
       "        break;\n",
       "    case 2:\n",
       "        cursor = 'crosshair';\n",
       "        break;\n",
       "    case 3:\n",
       "        cursor = 'move';\n",
       "        break;\n",
       "    }\n",
       "    fig.rubberband_canvas.style.cursor = cursor;\n",
       "}\n",
       "\n",
       "mpl.figure.prototype.handle_message = function(fig, msg) {\n",
       "    fig.message.textContent = msg['message'];\n",
       "}\n",
       "\n",
       "mpl.figure.prototype.handle_draw = function(fig, msg) {\n",
       "    // Request the server to send over a new figure.\n",
       "    fig.send_draw_message();\n",
       "}\n",
       "\n",
       "mpl.figure.prototype.handle_image_mode = function(fig, msg) {\n",
       "    fig.image_mode = msg['mode'];\n",
       "}\n",
       "\n",
       "mpl.figure.prototype.updated_canvas_event = function() {\n",
       "    // Called whenever the canvas gets updated.\n",
       "    this.send_message(\"ack\", {});\n",
       "}\n",
       "\n",
       "// A function to construct a web socket function for onmessage handling.\n",
       "// Called in the figure constructor.\n",
       "mpl.figure.prototype._make_on_message_function = function(fig) {\n",
       "    return function socket_on_message(evt) {\n",
       "        if (evt.data instanceof Blob) {\n",
       "            /* FIXME: We get \"Resource interpreted as Image but\n",
       "             * transferred with MIME type text/plain:\" errors on\n",
       "             * Chrome.  But how to set the MIME type?  It doesn't seem\n",
       "             * to be part of the websocket stream */\n",
       "            evt.data.type = \"image/png\";\n",
       "\n",
       "            /* Free the memory for the previous frames */\n",
       "            if (fig.imageObj.src) {\n",
       "                (window.URL || window.webkitURL).revokeObjectURL(\n",
       "                    fig.imageObj.src);\n",
       "            }\n",
       "\n",
       "            fig.imageObj.src = (window.URL || window.webkitURL).createObjectURL(\n",
       "                evt.data);\n",
       "            fig.updated_canvas_event();\n",
       "            fig.waiting = false;\n",
       "            return;\n",
       "        }\n",
       "        else if (typeof evt.data === 'string' && evt.data.slice(0, 21) == \"data:image/png;base64\") {\n",
       "            fig.imageObj.src = evt.data;\n",
       "            fig.updated_canvas_event();\n",
       "            fig.waiting = false;\n",
       "            return;\n",
       "        }\n",
       "\n",
       "        var msg = JSON.parse(evt.data);\n",
       "        var msg_type = msg['type'];\n",
       "\n",
       "        // Call the  \"handle_{type}\" callback, which takes\n",
       "        // the figure and JSON message as its only arguments.\n",
       "        try {\n",
       "            var callback = fig[\"handle_\" + msg_type];\n",
       "        } catch (e) {\n",
       "            console.log(\"No handler for the '\" + msg_type + \"' message type: \", msg);\n",
       "            return;\n",
       "        }\n",
       "\n",
       "        if (callback) {\n",
       "            try {\n",
       "                // console.log(\"Handling '\" + msg_type + \"' message: \", msg);\n",
       "                callback(fig, msg);\n",
       "            } catch (e) {\n",
       "                console.log(\"Exception inside the 'handler_\" + msg_type + \"' callback:\", e, e.stack, msg);\n",
       "            }\n",
       "        }\n",
       "    };\n",
       "}\n",
       "\n",
       "// from http://stackoverflow.com/questions/1114465/getting-mouse-location-in-canvas\n",
       "mpl.findpos = function(e) {\n",
       "    //this section is from http://www.quirksmode.org/js/events_properties.html\n",
       "    var targ;\n",
       "    if (!e)\n",
       "        e = window.event;\n",
       "    if (e.target)\n",
       "        targ = e.target;\n",
       "    else if (e.srcElement)\n",
       "        targ = e.srcElement;\n",
       "    if (targ.nodeType == 3) // defeat Safari bug\n",
       "        targ = targ.parentNode;\n",
       "\n",
       "    // jQuery normalizes the pageX and pageY\n",
       "    // pageX,Y are the mouse positions relative to the document\n",
       "    // offset() returns the position of the element relative to the document\n",
       "    var x = e.pageX - $(targ).offset().left;\n",
       "    var y = e.pageY - $(targ).offset().top;\n",
       "\n",
       "    return {\"x\": x, \"y\": y};\n",
       "};\n",
       "\n",
       "/*\n",
       " * return a copy of an object with only non-object keys\n",
       " * we need this to avoid circular references\n",
       " * http://stackoverflow.com/a/24161582/3208463\n",
       " */\n",
       "function simpleKeys (original) {\n",
       "  return Object.keys(original).reduce(function (obj, key) {\n",
       "    if (typeof original[key] !== 'object')\n",
       "        obj[key] = original[key]\n",
       "    return obj;\n",
       "  }, {});\n",
       "}\n",
       "\n",
       "mpl.figure.prototype.mouse_event = function(event, name) {\n",
       "    var canvas_pos = mpl.findpos(event)\n",
       "\n",
       "    if (name === 'button_press')\n",
       "    {\n",
       "        this.canvas.focus();\n",
       "        this.canvas_div.focus();\n",
       "    }\n",
       "\n",
       "    var x = canvas_pos.x * mpl.ratio;\n",
       "    var y = canvas_pos.y * mpl.ratio;\n",
       "\n",
       "    this.send_message(name, {x: x, y: y, button: event.button,\n",
       "                             step: event.step,\n",
       "                             guiEvent: simpleKeys(event)});\n",
       "\n",
       "    /* This prevents the web browser from automatically changing to\n",
       "     * the text insertion cursor when the button is pressed.  We want\n",
       "     * to control all of the cursor setting manually through the\n",
       "     * 'cursor' event from matplotlib */\n",
       "    event.preventDefault();\n",
       "    return false;\n",
       "}\n",
       "\n",
       "mpl.figure.prototype._key_event_extra = function(event, name) {\n",
       "    // Handle any extra behaviour associated with a key event\n",
       "}\n",
       "\n",
       "mpl.figure.prototype.key_event = function(event, name) {\n",
       "\n",
       "    // Prevent repeat events\n",
       "    if (name == 'key_press')\n",
       "    {\n",
       "        if (event.which === this._key)\n",
       "            return;\n",
       "        else\n",
       "            this._key = event.which;\n",
       "    }\n",
       "    if (name == 'key_release')\n",
       "        this._key = null;\n",
       "\n",
       "    var value = '';\n",
       "    if (event.ctrlKey && event.which != 17)\n",
       "        value += \"ctrl+\";\n",
       "    if (event.altKey && event.which != 18)\n",
       "        value += \"alt+\";\n",
       "    if (event.shiftKey && event.which != 16)\n",
       "        value += \"shift+\";\n",
       "\n",
       "    value += 'k';\n",
       "    value += event.which.toString();\n",
       "\n",
       "    this._key_event_extra(event, name);\n",
       "\n",
       "    this.send_message(name, {key: value,\n",
       "                             guiEvent: simpleKeys(event)});\n",
       "    return false;\n",
       "}\n",
       "\n",
       "mpl.figure.prototype.toolbar_button_onclick = function(name) {\n",
       "    if (name == 'download') {\n",
       "        this.handle_save(this, null);\n",
       "    } else {\n",
       "        this.send_message(\"toolbar_button\", {name: name});\n",
       "    }\n",
       "};\n",
       "\n",
       "mpl.figure.prototype.toolbar_button_onmouseover = function(tooltip) {\n",
       "    this.message.textContent = tooltip;\n",
       "};\n",
       "mpl.toolbar_items = [[\"Home\", \"Reset original view\", \"fa fa-home icon-home\", \"home\"], [\"Back\", \"Back to previous view\", \"fa fa-arrow-left icon-arrow-left\", \"back\"], [\"Forward\", \"Forward to next view\", \"fa fa-arrow-right icon-arrow-right\", \"forward\"], [\"\", \"\", \"\", \"\"], [\"Pan\", \"Pan axes with left mouse, zoom with right\", \"fa fa-arrows icon-move\", \"pan\"], [\"Zoom\", \"Zoom to rectangle\", \"fa fa-square-o icon-check-empty\", \"zoom\"], [\"\", \"\", \"\", \"\"], [\"Download\", \"Download plot\", \"fa fa-floppy-o icon-save\", \"download\"]];\n",
       "\n",
       "mpl.extensions = [\"eps\", \"jpeg\", \"pdf\", \"png\", \"ps\", \"raw\", \"svg\", \"tif\"];\n",
       "\n",
       "mpl.default_extension = \"png\";var comm_websocket_adapter = function(comm) {\n",
       "    // Create a \"websocket\"-like object which calls the given IPython comm\n",
       "    // object with the appropriate methods. Currently this is a non binary\n",
       "    // socket, so there is still some room for performance tuning.\n",
       "    var ws = {};\n",
       "\n",
       "    ws.close = function() {\n",
       "        comm.close()\n",
       "    };\n",
       "    ws.send = function(m) {\n",
       "        //console.log('sending', m);\n",
       "        comm.send(m);\n",
       "    };\n",
       "    // Register the callback with on_msg.\n",
       "    comm.on_msg(function(msg) {\n",
       "        //console.log('receiving', msg['content']['data'], msg);\n",
       "        // Pass the mpl event to the overridden (by mpl) onmessage function.\n",
       "        ws.onmessage(msg['content']['data'])\n",
       "    });\n",
       "    return ws;\n",
       "}\n",
       "\n",
       "mpl.mpl_figure_comm = function(comm, msg) {\n",
       "    // This is the function which gets called when the mpl process\n",
       "    // starts-up an IPython Comm through the \"matplotlib\" channel.\n",
       "\n",
       "    var id = msg.content.data.id;\n",
       "    // Get hold of the div created by the display call when the Comm\n",
       "    // socket was opened in Python.\n",
       "    var element = $(\"#\" + id);\n",
       "    var ws_proxy = comm_websocket_adapter(comm)\n",
       "\n",
       "    function ondownload(figure, format) {\n",
       "        window.open(figure.imageObj.src);\n",
       "    }\n",
       "\n",
       "    var fig = new mpl.figure(id, ws_proxy,\n",
       "                           ondownload,\n",
       "                           element.get(0));\n",
       "\n",
       "    // Call onopen now - mpl needs it, as it is assuming we've passed it a real\n",
       "    // web socket which is closed, not our websocket->open comm proxy.\n",
       "    ws_proxy.onopen();\n",
       "\n",
       "    fig.parent_element = element.get(0);\n",
       "    fig.cell_info = mpl.find_output_cell(\"<div id='\" + id + \"'></div>\");\n",
       "    if (!fig.cell_info) {\n",
       "        console.error(\"Failed to find cell for figure\", id, fig);\n",
       "        return;\n",
       "    }\n",
       "\n",
       "    var output_index = fig.cell_info[2]\n",
       "    var cell = fig.cell_info[0];\n",
       "\n",
       "};\n",
       "\n",
       "mpl.figure.prototype.handle_close = function(fig, msg) {\n",
       "    var width = fig.canvas.width/mpl.ratio\n",
       "    fig.root.unbind('remove')\n",
       "\n",
       "    // Update the output cell to use the data from the current canvas.\n",
       "    fig.push_to_output();\n",
       "    var dataURL = fig.canvas.toDataURL();\n",
       "    // Re-enable the keyboard manager in IPython - without this line, in FF,\n",
       "    // the notebook keyboard shortcuts fail.\n",
       "    IPython.keyboard_manager.enable()\n",
       "    $(fig.parent_element).html('<img src=\"' + dataURL + '\" width=\"' + width + '\">');\n",
       "    fig.close_ws(fig, msg);\n",
       "}\n",
       "\n",
       "mpl.figure.prototype.close_ws = function(fig, msg){\n",
       "    fig.send_message('closing', msg);\n",
       "    // fig.ws.close()\n",
       "}\n",
       "\n",
       "mpl.figure.prototype.push_to_output = function(remove_interactive) {\n",
       "    // Turn the data on the canvas into data in the output cell.\n",
       "    var width = this.canvas.width/mpl.ratio\n",
       "    var dataURL = this.canvas.toDataURL();\n",
       "    this.cell_info[1]['text/html'] = '<img src=\"' + dataURL + '\" width=\"' + width + '\">';\n",
       "}\n",
       "\n",
       "mpl.figure.prototype.updated_canvas_event = function() {\n",
       "    // Tell IPython that the notebook contents must change.\n",
       "    IPython.notebook.set_dirty(true);\n",
       "    this.send_message(\"ack\", {});\n",
       "    var fig = this;\n",
       "    // Wait a second, then push the new image to the DOM so\n",
       "    // that it is saved nicely (might be nice to debounce this).\n",
       "    setTimeout(function () { fig.push_to_output() }, 1000);\n",
       "}\n",
       "\n",
       "mpl.figure.prototype._init_toolbar = function() {\n",
       "    var fig = this;\n",
       "\n",
       "    var nav_element = $('<div/>');\n",
       "    nav_element.attr('style', 'width: 100%');\n",
       "    this.root.append(nav_element);\n",
       "\n",
       "    // Define a callback function for later on.\n",
       "    function toolbar_event(event) {\n",
       "        return fig.toolbar_button_onclick(event['data']);\n",
       "    }\n",
       "    function toolbar_mouse_event(event) {\n",
       "        return fig.toolbar_button_onmouseover(event['data']);\n",
       "    }\n",
       "\n",
       "    for(var toolbar_ind in mpl.toolbar_items){\n",
       "        var name = mpl.toolbar_items[toolbar_ind][0];\n",
       "        var tooltip = mpl.toolbar_items[toolbar_ind][1];\n",
       "        var image = mpl.toolbar_items[toolbar_ind][2];\n",
       "        var method_name = mpl.toolbar_items[toolbar_ind][3];\n",
       "\n",
       "        if (!name) { continue; };\n",
       "\n",
       "        var button = $('<button class=\"btn btn-default\" href=\"#\" title=\"' + name + '\"><i class=\"fa ' + image + ' fa-lg\"></i></button>');\n",
       "        button.click(method_name, toolbar_event);\n",
       "        button.mouseover(tooltip, toolbar_mouse_event);\n",
       "        nav_element.append(button);\n",
       "    }\n",
       "\n",
       "    // Add the status bar.\n",
       "    var status_bar = $('<span class=\"mpl-message\" style=\"text-align:right; float: right;\"/>');\n",
       "    nav_element.append(status_bar);\n",
       "    this.message = status_bar[0];\n",
       "\n",
       "    // Add the close button to the window.\n",
       "    var buttongrp = $('<div class=\"btn-group inline pull-right\"></div>');\n",
       "    var button = $('<button class=\"btn btn-mini btn-primary\" href=\"#\" title=\"Stop Interaction\"><i class=\"fa fa-power-off icon-remove icon-large\"></i></button>');\n",
       "    button.click(function (evt) { fig.handle_close(fig, {}); } );\n",
       "    button.mouseover('Stop Interaction', toolbar_mouse_event);\n",
       "    buttongrp.append(button);\n",
       "    var titlebar = this.root.find($('.ui-dialog-titlebar'));\n",
       "    titlebar.prepend(buttongrp);\n",
       "}\n",
       "\n",
       "mpl.figure.prototype._root_extra_style = function(el){\n",
       "    var fig = this\n",
       "    el.on(\"remove\", function(){\n",
       "\tfig.close_ws(fig, {});\n",
       "    });\n",
       "}\n",
       "\n",
       "mpl.figure.prototype._canvas_extra_style = function(el){\n",
       "    // this is important to make the div 'focusable\n",
       "    el.attr('tabindex', 0)\n",
       "    // reach out to IPython and tell the keyboard manager to turn it's self\n",
       "    // off when our div gets focus\n",
       "\n",
       "    // location in version 3\n",
       "    if (IPython.notebook.keyboard_manager) {\n",
       "        IPython.notebook.keyboard_manager.register_events(el);\n",
       "    }\n",
       "    else {\n",
       "        // location in version 2\n",
       "        IPython.keyboard_manager.register_events(el);\n",
       "    }\n",
       "\n",
       "}\n",
       "\n",
       "mpl.figure.prototype._key_event_extra = function(event, name) {\n",
       "    var manager = IPython.notebook.keyboard_manager;\n",
       "    if (!manager)\n",
       "        manager = IPython.keyboard_manager;\n",
       "\n",
       "    // Check for shift+enter\n",
       "    if (event.shiftKey && event.which == 13) {\n",
       "        this.canvas_div.blur();\n",
       "        event.shiftKey = false;\n",
       "        // Send a \"J\" for go to next cell\n",
       "        event.which = 74;\n",
       "        event.keyCode = 74;\n",
       "        manager.command_mode();\n",
       "        manager.handle_keydown(event);\n",
       "    }\n",
       "}\n",
       "\n",
       "mpl.figure.prototype.handle_save = function(fig, msg) {\n",
       "    fig.ondownload(fig, null);\n",
       "}\n",
       "\n",
       "\n",
       "mpl.find_output_cell = function(html_output) {\n",
       "    // Return the cell and output element which can be found *uniquely* in the notebook.\n",
       "    // Note - this is a bit hacky, but it is done because the \"notebook_saving.Notebook\"\n",
       "    // IPython event is triggered only after the cells have been serialised, which for\n",
       "    // our purposes (turning an active figure into a static one), is too late.\n",
       "    var cells = IPython.notebook.get_cells();\n",
       "    var ncells = cells.length;\n",
       "    for (var i=0; i<ncells; i++) {\n",
       "        var cell = cells[i];\n",
       "        if (cell.cell_type === 'code'){\n",
       "            for (var j=0; j<cell.output_area.outputs.length; j++) {\n",
       "                var data = cell.output_area.outputs[j];\n",
       "                if (data.data) {\n",
       "                    // IPython >= 3 moved mimebundle to data attribute of output\n",
       "                    data = data.data;\n",
       "                }\n",
       "                if (data['text/html'] == html_output) {\n",
       "                    return [cell, data, j];\n",
       "                }\n",
       "            }\n",
       "        }\n",
       "    }\n",
       "}\n",
       "\n",
       "// Register the function which deals with the matplotlib target/channel.\n",
       "// The kernel may be null if the page has been refreshed.\n",
       "if (IPython.notebook.kernel != null) {\n",
       "    IPython.notebook.kernel.comm_manager.register_target('matplotlib', mpl.mpl_figure_comm);\n",
       "}\n"
      ],
      "text/plain": [
       "<IPython.core.display.Javascript object>"
      ]
     },
     "metadata": {},
     "output_type": "display_data"
    },
    {
     "data": {
      "text/html": [
       "<img src=\"data:image/png;base64,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\" width=\"640\">"
      ],
      "text/plain": [
       "<IPython.core.display.HTML object>"
      ]
     },
     "metadata": {},
     "output_type": "display_data"
    },
    {
     "data": {
      "application/vnd.jupyter.widget-view+json": {
       "model_id": "6ce8728ad2994c2693aa39e2054b6b9e",
       "version_major": 2,
       "version_minor": 0
      },
      "text/plain": [
       "Button(description='Save Inputs', icon='check', layout=Layout(height='80px', width='50%'), style=ButtonStyle()…"
      ]
     },
     "metadata": {},
     "output_type": "display_data"
    },
    {
     "name": "stdout",
     "output_type": "stream",
     "text": [
      "Inputs saved and exported!\n"
     ]
    }
   ],
   "source": [
    "units = [units_length.value, ' ', units_energy.value, ' ', units_angles.value, ' ', units_magnetic_field.value]\n",
    "\n",
    "convert_beam_direction, convert_divergence_spread, convert_screen_angles = convertAngles(units, beam_direction_widgets, \n",
    "                                                                                         beam_divergence_spread_widgets, \n",
    "                                                                                         screen_angles_widgets)\n",
    "%matplotlib notebook\n",
    "DisplayAndOutput(global_bounds, units, number_of_magnets.value, magnet_dimensions_widgets, magnet_position_widgets, \n",
    "                 magnetic_field_components_widgets, number_of_particles.value, beam_start_position_widgets, \n",
    "                 beam_energy.value, convert_beam_direction, beam_position_spread_widgets, beam_energy_spread.value, \n",
    "                 convert_divergence_spread, number_of_screens.value, screen_dimensions_widgets, screen_position_widgets, \n",
    "                 convert_screen_angles)"
   ]
  },
  {
   "cell_type": "code",
   "execution_count": null,
   "metadata": {},
   "outputs": [],
   "source": []
  }
 ],
 "metadata": {
  "kernelspec": {
   "display_name": "Python 3",
   "language": "python",
   "name": "python3"
  },
  "language_info": {
   "codemirror_mode": {
    "name": "ipython",
    "version": 3
   },
   "file_extension": ".py",
   "mimetype": "text/x-python",
   "name": "python",
   "nbconvert_exporter": "python",
   "pygments_lexer": "ipython3",
   "version": "3.7.4"
  }
 },
 "nbformat": 4,
 "nbformat_minor": 2
}
