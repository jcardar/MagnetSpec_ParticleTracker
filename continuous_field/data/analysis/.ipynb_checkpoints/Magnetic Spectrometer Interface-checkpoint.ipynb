{
 "cells": [
  {
   "cell_type": "markdown",
   "metadata": {},
   "source": [
    "Define interactive variables to set up particle stepper (static and variable), and then have user define figure of merit.<br>\n",
    "Write out in either .csv or .txt file (idea: in .csv file, have rows correspond to objects (ie, magnets, particle beam, etc) and have the first column represent the number of those objects (magnets, beams, etc), and the remaining columns an ordered list of values defining those objects, to read from left to right, spanning all of the relevant objects).<br>\n",
    "Have c++ code read this, and define objects with 'for' loops."
   ]
  },
  {
   "cell_type": "markdown",
   "metadata": {},
   "source": [
    "Items to define for input deck:<br>\n",
    "1. Magnet: Center of Entrance Plane, Length, Width, Height, magnetic field strength (vector) (x-component, y-component, z-component)\n",
    "2. Beam: number of particles, central starting position, central energy, central direction (angles from axes (angle for x determined from angles for y and z, and is silently ignored))\n",
    "3. Beam: spread in starting position, spread in central energy, spread in divergence (user input FWHM of Gaussian spread, code uses 0.5 of this in spread)\n",
    "4. Screen: Low-Energy Middle, Width, Height, Angle from both z- and x-axes"
   ]
  },
  {
   "cell_type": "markdown",
   "metadata": {},
   "source": [
    "## Your preferred units:\n",
    ">Please run the next cell once to generate widget objects. Change the values in the dropdowns to the value to prefer. Do not run the cell again, the value is dynamically updated when you change the value in the dropdown menu!"
   ]
  },
  {
   "cell_type": "code",
   "execution_count": 1,
   "metadata": {},
   "outputs": [
    {
     "data": {
      "application/vnd.jupyter.widget-view+json": {
       "model_id": "8f20b5c6120643c18a9c47f1b5647ca3",
       "version_major": 2,
       "version_minor": 0
      },
      "text/plain": [
       "Dropdown(description='Length Unit:', index=1, options=('mm', 'cm', 'm'), value='cm')"
      ]
     },
     "metadata": {},
     "output_type": "display_data"
    },
    {
     "data": {
      "application/vnd.jupyter.widget-view+json": {
       "model_id": "15c8983e10694f5c99a558e0a2513f3c",
       "version_major": 2,
       "version_minor": 0
      },
      "text/plain": [
       "Dropdown(description='Energy Unit:', index=1, options=('eV', 'MeV', 'GeV'), value='MeV')"
      ]
     },
     "metadata": {},
     "output_type": "display_data"
    },
    {
     "data": {
      "application/vnd.jupyter.widget-view+json": {
       "model_id": "646be4ef1b9942d18aa643e2714e235b",
       "version_major": 2,
       "version_minor": 0
      },
      "text/plain": [
       "Dropdown(description='Angle Unit:', options=('mrad', 'Radians', 'Degrees'), value='mrad')"
      ]
     },
     "metadata": {},
     "output_type": "display_data"
    },
    {
     "data": {
      "application/vnd.jupyter.widget-view+json": {
       "model_id": "0b6dd2cd4ff245b9b0205733483d110e",
       "version_major": 2,
       "version_minor": 0
      },
      "text/plain": [
       "Dropdown(description='Field Unit:', options=('T', 'Gauss'), value='T')"
      ]
     },
     "metadata": {},
     "output_type": "display_data"
    }
   ],
   "source": [
    "from magspecinterface_functions import *\n",
    "display( units_length )\n",
    "display( units_energy )\n",
    "display( units_angles )\n",
    "display( units_magnetic_field )"
   ]
  },
  {
   "cell_type": "markdown",
   "metadata": {},
   "source": [
    "## Spectrometer coordinate system\n",
    "> Define the limits to the spectrometer coordinate system. You are free to choose what marks the origin.<br>\n",
    "**Note:** Global bounds may be negative."
   ]
  },
  {
   "cell_type": "code",
   "execution_count": 2,
   "metadata": {},
   "outputs": [
    {
     "data": {
      "application/vnd.jupyter.widget-view+json": {
       "model_id": "ea48ff2651db4d0cae966e3b523c57a4",
       "version_major": 2,
       "version_minor": 0
      },
      "text/plain": [
       "FloatText(value=100.0, description='global x max')"
      ]
     },
     "metadata": {},
     "output_type": "display_data"
    },
    {
     "data": {
      "application/vnd.jupyter.widget-view+json": {
       "model_id": "9c4f1f99ea9c444c9160be95cc3d79f3",
       "version_major": 2,
       "version_minor": 0
      },
      "text/plain": [
       "FloatText(value=0.0, description='global x min')"
      ]
     },
     "metadata": {},
     "output_type": "display_data"
    },
    {
     "data": {
      "application/vnd.jupyter.widget-view+json": {
       "model_id": "7da92587166d4ba8a21c53ef795ff2a7",
       "version_major": 2,
       "version_minor": 0
      },
      "text/plain": [
       "FloatText(value=100.0, description='global y max')"
      ]
     },
     "metadata": {},
     "output_type": "display_data"
    },
    {
     "data": {
      "application/vnd.jupyter.widget-view+json": {
       "model_id": "fb345f8d10194230af6820853d82fb98",
       "version_major": 2,
       "version_minor": 0
      },
      "text/plain": [
       "FloatText(value=0.0, description='global y min')"
      ]
     },
     "metadata": {},
     "output_type": "display_data"
    },
    {
     "data": {
      "application/vnd.jupyter.widget-view+json": {
       "model_id": "874fca37f230413d99b72374a053dc56",
       "version_major": 2,
       "version_minor": 0
      },
      "text/plain": [
       "FloatText(value=100.0, description='global z max')"
      ]
     },
     "metadata": {},
     "output_type": "display_data"
    },
    {
     "data": {
      "application/vnd.jupyter.widget-view+json": {
       "model_id": "704bf7dcc7c7470294af23d3bebf12eb",
       "version_major": 2,
       "version_minor": 0
      },
      "text/plain": [
       "FloatText(value=0.0, description='global z min')"
      ]
     },
     "metadata": {},
     "output_type": "display_data"
    }
   ],
   "source": [
    "for ii in range(len(global_bounds)):\n",
    "    display( global_bounds[ii] )"
   ]
  },
  {
   "cell_type": "markdown",
   "metadata": {},
   "source": [
    "## Magnet setup:\n",
    "> Number of magnets, dimensions, position, and magnetic field components."
   ]
  },
  {
   "cell_type": "markdown",
   "metadata": {},
   "source": [
    "![alt text](magnet_position.png \"Magnet_Setup\")"
   ]
  },
  {
   "cell_type": "code",
   "execution_count": 3,
   "metadata": {},
   "outputs": [
    {
     "data": {
      "application/vnd.jupyter.widget-view+json": {
       "model_id": "1648320e926144eb9120adc262ef4e1c",
       "version_major": 2,
       "version_minor": 0
      },
      "text/plain": [
       "BoundedIntText(value=2, description='# of Magnets', min=1)"
      ]
     },
     "metadata": {},
     "output_type": "display_data"
    }
   ],
   "source": [
    "display( number_of_magnets )"
   ]
  },
  {
   "cell_type": "code",
   "execution_count": 7,
   "metadata": {
    "scrolled": true
   },
   "outputs": [
    {
     "data": {
      "application/vnd.jupyter.widget-view+json": {
       "model_id": "748eab42419b47e486a7b5176285f325",
       "version_major": 2,
       "version_minor": 0
      },
      "text/plain": [
       "BoundedFloatText(value=0.0, description='width 1')"
      ]
     },
     "metadata": {},
     "output_type": "display_data"
    },
    {
     "data": {
      "application/vnd.jupyter.widget-view+json": {
       "model_id": "dd35d5109f0f4cd2b8a00024d24682c0",
       "version_major": 2,
       "version_minor": 0
      },
      "text/plain": [
       "BoundedFloatText(value=0.0, description='length 1')"
      ]
     },
     "metadata": {},
     "output_type": "display_data"
    },
    {
     "data": {
      "application/vnd.jupyter.widget-view+json": {
       "model_id": "7cffb560c24440b9830cf1338c11bb60",
       "version_major": 2,
       "version_minor": 0
      },
      "text/plain": [
       "BoundedFloatText(value=0.0, description='height 1')"
      ]
     },
     "metadata": {},
     "output_type": "display_data"
    },
    {
     "data": {
      "application/vnd.jupyter.widget-view+json": {
       "model_id": "02f0ac29c3364b2b84332780b5ec5290",
       "version_major": 2,
       "version_minor": 0
      },
      "text/plain": [
       "BoundedFloatText(value=0.0, description='width 2')"
      ]
     },
     "metadata": {},
     "output_type": "display_data"
    },
    {
     "data": {
      "application/vnd.jupyter.widget-view+json": {
       "model_id": "a7add571e2a14b6da84b9bb0335981e8",
       "version_major": 2,
       "version_minor": 0
      },
      "text/plain": [
       "BoundedFloatText(value=0.0, description='length 2')"
      ]
     },
     "metadata": {},
     "output_type": "display_data"
    },
    {
     "data": {
      "application/vnd.jupyter.widget-view+json": {
       "model_id": "b720473cdc4645208667b38448d1264d",
       "version_major": 2,
       "version_minor": 0
      },
      "text/plain": [
       "BoundedFloatText(value=0.0, description='height 2')"
      ]
     },
     "metadata": {},
     "output_type": "display_data"
    }
   ],
   "source": [
    "magnet_dimensions_widgets = dynamicFloatValue_Magnet_Dimensions(number_of_magnets.value)\n",
    "for ii in range(len(magnet_dimensions_widgets)):\n",
    "    display( magnet_dimensions_widgets[ii] )"
   ]
  },
  {
   "cell_type": "code",
   "execution_count": 8,
   "metadata": {
    "scrolled": true
   },
   "outputs": [
    {
     "data": {
      "application/vnd.jupyter.widget-view+json": {
       "model_id": "9f45bc3372f04366aab4af44d9acda00",
       "version_major": 2,
       "version_minor": 0
      },
      "text/plain": [
       "BoundedFloatText(value=0.0, description='x pos 1', max=80.0)"
      ]
     },
     "metadata": {},
     "output_type": "display_data"
    },
    {
     "data": {
      "application/vnd.jupyter.widget-view+json": {
       "model_id": "91d96caa0cb444a3a9ceec1f282580f9",
       "version_major": 2,
       "version_minor": 0
      },
      "text/plain": [
       "BoundedFloatText(value=0.0, description='y pos 1')"
      ]
     },
     "metadata": {},
     "output_type": "display_data"
    },
    {
     "data": {
      "application/vnd.jupyter.widget-view+json": {
       "model_id": "229050a7367b4da787eb779cdc5c8213",
       "version_major": 2,
       "version_minor": 0
      },
      "text/plain": [
       "BoundedFloatText(value=0.0, description='z pos 1')"
      ]
     },
     "metadata": {},
     "output_type": "display_data"
    },
    {
     "data": {
      "application/vnd.jupyter.widget-view+json": {
       "model_id": "c48aeaf6a89a4e67b926e1256b313040",
       "version_major": 2,
       "version_minor": 0
      },
      "text/plain": [
       "BoundedFloatText(value=0.0, description='x pos 2')"
      ]
     },
     "metadata": {},
     "output_type": "display_data"
    },
    {
     "data": {
      "application/vnd.jupyter.widget-view+json": {
       "model_id": "6816f38be7624500a4769f9fa37a6560",
       "version_major": 2,
       "version_minor": 0
      },
      "text/plain": [
       "BoundedFloatText(value=0.0, description='y pos 2')"
      ]
     },
     "metadata": {},
     "output_type": "display_data"
    },
    {
     "data": {
      "application/vnd.jupyter.widget-view+json": {
       "model_id": "19bd0f04865640429e37fcd04c067f03",
       "version_major": 2,
       "version_minor": 0
      },
      "text/plain": [
       "BoundedFloatText(value=0.0, description='z pos 2')"
      ]
     },
     "metadata": {},
     "output_type": "display_data"
    }
   ],
   "source": [
    "magnet_position_widgets = dynamicFloatValue_Magnet_Position(number_of_magnets.value, magnet_dimensions_widgets,\n",
    "                                                            global_bounds)\n",
    "for ii in range(len(magnet_position_widgets)):\n",
    "    display( magnet_position_widgets[ii] )"
   ]
  },
  {
   "cell_type": "code",
   "execution_count": null,
   "metadata": {},
   "outputs": [],
   "source": [
    "magnetic_field_components_widgets = dynamicFloatValue_Magnetic_Field_Comps(number_of_magnets.value)\n",
    "for ii in range(len(magnetic_field_components_widgets)):\n",
    "    display( magnetic_field_components_widgets[ii] )"
   ]
  },
  {
   "cell_type": "markdown",
   "metadata": {},
   "source": [
    "## Beam Setup:\n",
    ">Number of particles, starting position, energy, direction.<br>\n",
    "**Note:** Please input values referencing the beam center. Direction is given by angle from axes."
   ]
  },
  {
   "cell_type": "code",
   "execution_count": null,
   "metadata": {},
   "outputs": [],
   "source": [
    "display( number_of_particles )"
   ]
  },
  {
   "cell_type": "code",
   "execution_count": null,
   "metadata": {},
   "outputs": [],
   "source": [
    "beam_start_position_widgets = dynamicFloatValue_Beam_Start_Position(global_bounds)\n",
    "for ii in range(len(beam_start_position_widgets)):\n",
    "    display( beam_start_position_widgets[ii] )"
   ]
  },
  {
   "cell_type": "code",
   "execution_count": null,
   "metadata": {},
   "outputs": [],
   "source": [
    "display(beam_energy)"
   ]
  },
  {
   "cell_type": "code",
   "execution_count": null,
   "metadata": {},
   "outputs": [],
   "source": [
    "beam_direction_widgets = dynamicFloatValue_Beam_Direction()\n",
    "for ii in range(len(beam_direction_widgets)):\n",
    "    display( beam_direction_widgets[ii] )"
   ]
  },
  {
   "cell_type": "markdown",
   "metadata": {},
   "source": [
    "## Beam Spread:\n",
    ">Spread in starting position, energy, and divergence."
   ]
  },
  {
   "cell_type": "code",
   "execution_count": null,
   "metadata": {},
   "outputs": [],
   "source": [
    "beam_position_spread_widgets = dynamicFloatValue_Beam_Position_Spread()\n",
    "for ii in range(len(beam_position_spread_widgets)):\n",
    "    display( beam_position_spread_widgets[ii] )"
   ]
  },
  {
   "cell_type": "code",
   "execution_count": null,
   "metadata": {},
   "outputs": [],
   "source": [
    "display( beam_energy_spread )"
   ]
  },
  {
   "cell_type": "code",
   "execution_count": null,
   "metadata": {},
   "outputs": [],
   "source": [
    "beam_divergence_spread_widgets = dynamicFloatValue_Beam_Divergence_Spread()\n",
    "for ii in range(len(beam_divergence_spread_widgets)):\n",
    "    display( beam_divergence_spread_widgets[ii] )"
   ]
  },
  {
   "cell_type": "markdown",
   "metadata": {},
   "source": [
    "## Screen Setup:\n",
    ">Number of screens, dimensions, position, and angles about axes.<br>\n",
    "**Note:** Given angles are yaw (about the z-axis), pitch (about the y-axis), and roll (about the x-axis)."
   ]
  },
  {
   "cell_type": "markdown",
   "metadata": {},
   "source": [
    "![alt text](screen_setup.png \"Screen_Setup\")"
   ]
  },
  {
   "cell_type": "code",
   "execution_count": null,
   "metadata": {},
   "outputs": [],
   "source": [
    "display( number_of_screens )"
   ]
  },
  {
   "cell_type": "code",
   "execution_count": null,
   "metadata": {},
   "outputs": [],
   "source": [
    "screen_dimensions_widgets = dynamicFloatValue_Screen_Dimensions(number_of_screens.value)\n",
    "for ii in range(len(screen_dimensions_widgets)):\n",
    "    display( screen_dimensions_widgets[ii] )"
   ]
  },
  {
   "cell_type": "code",
   "execution_count": null,
   "metadata": {},
   "outputs": [],
   "source": [
    "screen_position_widgets = dynamicFloatValue_Screen_Position(number_of_screens.value, global_bounds)\n",
    "for ii in range(len(screen_position_widgets)):\n",
    "    display( screen_position_widgets[ii] )"
   ]
  },
  {
   "cell_type": "code",
   "execution_count": null,
   "metadata": {
    "scrolled": true
   },
   "outputs": [],
   "source": [
    "screen_angles_widgets = dynamicFloatValue_Screen_Angles(number_of_screens.value)\n",
    "for ii in range(len(screen_angles_widgets)):\n",
    "    display( screen_angles_widgets[ii] )"
   ]
  },
  {
   "cell_type": "markdown",
   "metadata": {},
   "source": [
    "## Display and Output info"
   ]
  },
  {
   "cell_type": "code",
   "execution_count": null,
   "metadata": {},
   "outputs": [],
   "source": [
    "units = [units_length.value, ' ', units_energy.value, ' ', units_angles.value, ' ', units_magnetic_field.value]\n",
    "\n",
    "converted_beam_direction, converted_divergence_spread,\\\n",
    "converted_screen_angles = convertAngles(units, beam_direction_widgets, beam_divergence_spread_widgets,\n",
    "                                        screen_angles_widgets)\n",
    "\n",
    "%matplotlib notebook\n",
    "showDiagram(number_of_magnets.value, magnet_dimensions_widgets, magnet_position_widgets, beam_start_position_widgets, \n",
    "            converted_beam_direction, number_of_screens.value, screen_dimensions_widgets, screen_position_widgets,\n",
    "            converted_screen_angles)"
   ]
  },
  {
   "cell_type": "markdown",
   "metadata": {},
   "source": [
    ">**IMPORTANT:** Please only run the code below when you are ready to save your inputs."
   ]
  },
  {
   "cell_type": "code",
   "execution_count": null,
   "metadata": {},
   "outputs": [],
   "source": [
    "writeOutput(units, number_of_magnets.value, magnet_dimensions_widgets, magnet_position_widgets, \n",
    "            magnetic_field_components_widgets, number_of_particles.value, beam_start_position_widgets, beam_energy.value, \n",
    "            converted_beam_direction, beam_position_spread.value, beam_energy_spread.value, converted_divergence_spread, \n",
    "            number_of_screens.value, screen_dimensions_widgets, screen_position_widgets, converted_screen_angles)"
   ]
  }
 ],
 "metadata": {
  "kernelspec": {
   "display_name": "Python 3",
   "language": "python",
   "name": "python3"
  },
  "language_info": {
   "codemirror_mode": {
    "name": "ipython",
    "version": 3
   },
   "file_extension": ".py",
   "mimetype": "text/x-python",
   "name": "python",
   "nbconvert_exporter": "python",
   "pygments_lexer": "ipython3",
   "version": "3.7.4"
  }
 },
 "nbformat": 4,
 "nbformat_minor": 2
}
