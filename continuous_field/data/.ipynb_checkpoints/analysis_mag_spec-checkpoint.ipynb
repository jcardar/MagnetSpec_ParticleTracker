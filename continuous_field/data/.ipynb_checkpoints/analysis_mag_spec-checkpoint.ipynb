{
 "cells": [
  {
   "cell_type": "markdown",
   "metadata": {},
   "source": [
    "Magnetic Spectrometer Code Analysis\n",
    "Author: Jason Cardarelli\n",
    "2019\n",
    "\n",
    "Normalized Units for Code:\n",
    "The code is normalized to the base units of m, e, c, e, and $\\omega_{c0}=q B_0/m$. This is similar to the OSIRIS unit system, but with $\\omega_{c0}$, the cyclotron frequency of the central longitudinal energy, replacing $\\omega_p$. The corrections to measures are as follows: <br>\n",
    "$t'= t*\\omega_{c0}$ <br>\n",
    "$x'= x*\\omega_{c0}/c$ <br>\n",
    "$B'= B*e/(c*m*\\omega_{c0}) = B/B_0$ <br>\n",
    "$Energy' = Energy/(mc^2) = \\gamma$ <br>"
   ]
  },
  {
   "cell_type": "code",
   "execution_count": null,
   "metadata": {},
   "outputs": [],
   "source": []
  },
  {
   "cell_type": "code",
   "execution_count": 6,
   "metadata": {},
   "outputs": [
    {
     "name": "stdout",
     "output_type": "stream",
     "text": [
      "/Users/jcardar/research/mag_spec/data\n",
      "/Users/jcardar/research/mag_spec/source_code\n",
      "g++  -c -o obj/mag_spec_tracker.o mag_spec_tracker.cpp -Iinclude -std=c++17\n",
      "g++  -o run obj/mag_spec_tracker.o obj/particle.o obj/screen.o obj/magnet.o obj/my_functions.o -Iinclude -std=c++17\n",
      "particle number 1\n",
      "particle number 2\n",
      "particle number 3\n",
      "particle number 4\n",
      "particle number 5\n",
      "/Users/jcardar/research/mag_spec/data\n"
     ]
    }
   ],
   "source": [
    "!pwd\n",
    "%cd ../source_code/\n",
    "!make\n",
    "!./run\n",
    "%cd ../data/"
   ]
  },
  {
   "cell_type": "code",
   "execution_count": 62,
   "metadata": {},
   "outputs": [
    {
     "data": {
      "text/plain": [
       "'omegaNorm  = 1.759E+11'"
      ]
     },
     "metadata": {},
     "output_type": "display_data"
    },
    {
     "data": {
      "text/plain": [
       "'gamma0     = 9785.736'"
      ]
     },
     "metadata": {},
     "output_type": "display_data"
    },
    {
     "data": {
      "text/plain": [
       "'rL0_BAR    = 9785.736'"
      ]
     },
     "metadata": {},
     "output_type": "display_data"
    },
    {
     "data": {
      "text/plain": [
       "'rL0_real   = 16.683'"
      ]
     },
     "metadata": {},
     "output_type": "display_data"
    },
    {
     "data": {
      "text/plain": [
       "'30 cm      = 175.972'"
      ]
     },
     "metadata": {},
     "output_type": "display_data"
    },
    {
     "data": {
      "text/plain": [
       "'10 cm      = 58.657'"
      ]
     },
     "metadata": {},
     "output_type": "display_data"
    },
    {
     "data": {
      "text/plain": [
       "'3 cm       = 17.597'"
      ]
     },
     "metadata": {},
     "output_type": "display_data"
    }
   ],
   "source": [
    "import matplotlib as mp\n",
    "import matplotlib.pyplot as plt\n",
    "import matplotlib.patches as patches\n",
    "import pandas as pd\n",
    "import csv\n",
    "import numpy as np\n",
    "import itertools\n",
    "import math\n",
    "#import tabulate\n",
    "\n",
    "#NORMALIZING UNIT SYSTEM:\n",
    "E0 = 5000            #MeV\n",
    "B0 = 1               #T\n",
    "qe = 1.602*10**-19   #C\n",
    "me = 9.11* 10**-31   #kg\n",
    "c  = 299792458       #m/s\n",
    "gamma0 = (E0+0.511)/0.511\n",
    "\n",
    "\n",
    "omegaNorm  = (qe*B0)/(me)\n",
    "lengthNorm = omegaNorm/c\n",
    "\n",
    "\n",
    "v_perp0  = c*((1-(1/(gamma0*gamma0)))**0.5)\n",
    "rL0_real = gamma0*me*v_perp0/(qe*B0)\n",
    "rL0_BAR  = rL0_real*lengthNorm\n",
    "\n",
    "\n",
    "cm_30    = 0.3*lengthNorm\n",
    "cm_20    = 0.2*lengthNorm\n",
    "cm_10    = 0.1*lengthNorm\n",
    "cm_03    = 0.03*lengthNorm\n",
    "\n",
    "\n",
    "#display('qe         = %.3E' % qe)\n",
    "#display('me         = %.3E' % me)\n",
    "#display('c          = %.3E' % c)\n",
    "display('omegaNorm  = %.3E' % omegaNorm)\n",
    "#display('lengthNorm = %.3E' % lengthNorm)\n",
    "display('gamma0     = %.3f' % gamma0)\n",
    "display(\"rL0_BAR    = %.3f\" % rL0_BAR)\n",
    "display(\"rL0_real   = %.3f\" % rL0_real)\n",
    "display(\"30 cm      = %.3f\" % cm_30)\n",
    "display(\"10 cm      = %.3f\" % cm_10)\n",
    "display(\"3 cm       = %.3f\" % cm_03)"
   ]
  },
  {
   "cell_type": "code",
   "execution_count": 63,
   "metadata": {},
   "outputs": [
    {
     "ename": "SyntaxError",
     "evalue": "invalid syntax (<ipython-input-63-794fb35dc899>, line 10)",
     "output_type": "error",
     "traceback": [
      "\u001b[0;36m  File \u001b[0;32m\"<ipython-input-63-794fb35dc899>\"\u001b[0;36m, line \u001b[0;32m10\u001b[0m\n\u001b[0;31m    1: \"0\", \"0\", \"1\", \"0.0\", \"0.0\", \"0.0\", \"175.972\", \"58.657\", \"17.597\"\u001b[0m\n\u001b[0m               ^\u001b[0m\n\u001b[0;31mSyntaxError\u001b[0m\u001b[0;31m:\u001b[0m invalid syntax\n"
     ]
    }
   ],
   "source": [
    "#Run .cpp code\n",
    "num_mag    = 1\n",
    "num_par    = 10\n",
    "num_screen = 1\n",
    "\n",
    "#magnet input: Bx, By, Bz, x, y, z, length, width, height\n",
    "def mag_switch(num_mag):\n",
    "    mag_switcher = ...\n",
    "    {\n",
    "        1: \"0\", \"0\", \"1\", \"0.0\", \"0.0\", \"0.0\", \"175.972\", \"58.657\", \"17.597\"\n",
    "    }\n",
    "    if num_mag > 2:\n",
    "        mag_switcher.update()\n",
    "        \n",
    "    mag_list = mag_switch(num_mag, \"Invalid\")\n",
    "    print(*mag_list)\n",
    "\n",
    "def screen_switch(num_screen):\n",
    "    screen_switcher = {\n",
    "        1: \"\"\n",
    "    }\n",
    "    \n",
    "mag_switch(num_mag)"
   ]
  },
  {
   "cell_type": "code",
   "execution_count": 64,
   "metadata": {},
   "outputs": [],
   "source": [
    "def gen_rows(stream, max_length=None):\n",
    "      rows = csv.reader(stream)\n",
    "      if max_length is None:\n",
    "          rows = list(rows)\n",
    "          max_length = max(len(row) for row in rows)\n",
    "      for row in rows:\n",
    "          yield row + [np.nan] * (max_length - len(row))"
   ]
  },
  {
   "cell_type": "code",
   "execution_count": 65,
   "metadata": {},
   "outputs": [],
   "source": [
    "with open(\"XPOS.csv\") as csvfile:\n",
    "    posx = pd.DataFrame.from_records(list(gen_rows(csvfile)))\n",
    "    posx = posx.applymap(lambda x : float(x))\n",
    "    del posx[0]"
   ]
  },
  {
   "cell_type": "code",
   "execution_count": 66,
   "metadata": {},
   "outputs": [],
   "source": [
    "with open(\"YPOS.csv\") as csvfile:\n",
    "    posy = pd.DataFrame.from_records(list(gen_rows(csvfile)))\n",
    "    del posy[0]\n",
    "    posy = posy.applymap(lambda x : float(x))"
   ]
  },
  {
   "cell_type": "code",
   "execution_count": 67,
   "metadata": {},
   "outputs": [],
   "source": [
    "with open(\"ZPOS.csv\") as csvfile:\n",
    "    posz = pd.DataFrame.from_records(list(gen_rows(csvfile)))\n",
    "    del posz[0]\n",
    "    posz = posz.applymap(lambda x : float(x))"
   ]
  },
  {
   "cell_type": "code",
   "execution_count": 68,
   "metadata": {},
   "outputs": [],
   "source": [
    "with open(\"MOMENTUM_X.csv\") as csvfile:\n",
    "   px = pd.DataFrame.from_records(list(gen_rows(csvfile)))\n",
    "   del px[0]\n",
    "   px = px.applymap(lambda x : float(x))"
   ]
  },
  {
   "cell_type": "code",
   "execution_count": 69,
   "metadata": {},
   "outputs": [],
   "source": [
    "with open(\"MOMENTUM_Y.csv\") as csvfile:\n",
    "    py = pd.DataFrame.from_records(list(gen_rows(csvfile)))\n",
    "    del py[0]\n",
    "    py = py.applymap(lambda x : float(x))"
   ]
  },
  {
   "cell_type": "code",
   "execution_count": 70,
   "metadata": {},
   "outputs": [],
   "source": [
    "with open(\"MOMENTUM_Z.csv\") as csvfile:\n",
    "    pz = pd.DataFrame.from_records(list(gen_rows(csvfile)))\n",
    "    del pz[0]\n",
    "    pz = pz.applymap(lambda x : float(x))"
   ]
  },
  {
   "cell_type": "code",
   "execution_count": 71,
   "metadata": {},
   "outputs": [],
   "source": [
    "with open(\"TIME.csv\") as csvfile:\n",
    "    time = pd.DataFrame.from_records(list(gen_rows(csvfile)))\n",
    "    time = time.applymap(lambda x : float(x))"
   ]
  },
  {
   "cell_type": "code",
   "execution_count": 72,
   "metadata": {},
   "outputs": [],
   "source": [
    "with open(\"ENERGY.csv\") as csvfile:\n",
    "    energy = pd.DataFrame.from_records(list(gen_rows(csvfile)))\n",
    "    del energy[0]\n",
    "    energy = energy.applymap(lambda x : float(x))"
   ]
  },
  {
   "cell_type": "code",
   "execution_count": 73,
   "metadata": {},
   "outputs": [],
   "source": [
    "magnet = pd.read_csv(\"MAGNETS.csv\")"
   ]
  },
  {
   "cell_type": "code",
   "execution_count": 74,
   "metadata": {},
   "outputs": [],
   "source": [
    "screen = pd.read_csv(\"SCREENS.csv\")"
   ]
  },
  {
   "cell_type": "code",
   "execution_count": 75,
   "metadata": {},
   "outputs": [],
   "source": [
    "del_time = pd.read_csv(\"DEL_T.csv\", dtype=float, header = -1)"
   ]
  },
  {
   "cell_type": "code",
   "execution_count": 76,
   "metadata": {},
   "outputs": [],
   "source": [
    "plot_real_units = False\n",
    "\n",
    "plot_pos = True\n",
    "plot_mom = False\n",
    "plot_lamour_radius = True\n",
    "plot_magnet = True\n",
    "plot_screen = True"
   ]
  },
  {
   "cell_type": "code",
   "execution_count": 77,
   "metadata": {},
   "outputs": [
    {
     "data": {
      "text/plain": [
       "Text(0.5, 1.0, 'Particle Orbits of Different Temporal Resolutions')"
      ]
     },
     "execution_count": 77,
     "metadata": {},
     "output_type": "execute_result"
    },
    {
     "data": {
      "image/png": "[encoded data removed]",
      "text/plain": [
       "<Figure size 720x360 with 1 Axes>"
      ]
     },
     "metadata": {
      "needs_background": "light"
     },
     "output_type": "display_data"
    }
   ],
   "source": [
    "num_par    = px.shape[0]\n",
    "num_mag    = magnet.shape[0]\n",
    "num_screen = screen.shape[0]\n",
    "\n",
    "#%matplotlib notebook\n",
    "plt.rcParams['figure.figsize'] = [10, 5]\n",
    "fig,ax = plt.subplots(1)\n",
    "\n",
    "if plot_pos == True:\n",
    "    for ii in range(num_par):\n",
    "        if plot_real_units == True:\n",
    "            plt.plot(posx.iloc[ii]/lengthNorm,posy.loc[ii]/lengthNorm,label='Energy = %.2f MeV' % (float(energy.iloc[ii][1])*0.511-0.511))\n",
    "        else:\n",
    "            plt.plot(posx.iloc[ii],posy.iloc[ii],label='Energy = %.3f MeV, del_t = %.2f $\\omega_{c0}$' % (energy.iloc[ii][1]*0.511-0.511, del_time.loc[ii][0]))\n",
    "        \n",
    "if plot_mom == True:\n",
    "    for ii in range(num_par):\n",
    "        if plot_real_units == True:\n",
    "            plt.subplot(floor(num_par/2),ceil(num_par/2),ii+1)\n",
    "            plt.plot(px.iloc[ii]/lengthNorm,py.loc[ii]/lengthNorm,label='Energy = %.3f MeV' % (float(energy.iloc[ii][1])*0.511))\n",
    "        else:\n",
    "            plt.subplot(math.floor(num_par/2),math.ceil(num_par/2),ii+1)\n",
    "            plt.plot(px.iloc[ii]+10*ii,py.iloc[ii]+10*ii,label='Energy = \\n %.3f MeV \\n del_t = \\n %.2f $\\omega_{c0}$' % (energy.iloc[ii][1], del_time.loc[ii][0]))\n",
    "            plt.legend()\n",
    "            plt.xlabel('$p_x /(c m)$')\n",
    "            plt.ylabel('$p_y /(c m)$')\n",
    "    \n",
    "if plot_screen == True:\n",
    "    for ii in range(num_screen):\n",
    "        screenX = np.array([screen.iloc[ii][1],screen.iloc[ii][1]+(screen.iloc[ii][5]*np.cos(np.radians(screen.iloc[ii][4])))])\n",
    "        screenY = np.array([screen.iloc[ii][2],screen.iloc[ii][2]+(screen.iloc[ii][5]*np.sin(np.radians(screen.iloc[ii][4])))])\n",
    "        if plot_real_units == True:\n",
    "            plt.plot(screenX/lengthNorm,screenY/lengthNorm,'-k')\n",
    "        else:\n",
    "            plt.plot(screenX,screenY,'-k')\n",
    "        \n",
    "if plot_magnet == True:\n",
    "    for ii in range(num_mag):\n",
    "        if plot_real_units == True:\n",
    "            rect = patches.Rectangle((magnet.iloc[ii][2]/lengthNorm,(magnet.iloc[ii][3]-(magnet.iloc[ii][6]/2))/lengthNorm),magnet.iloc[ii][5]/lengthNorm,magnet.iloc[ii][6]/lengthNorm,linewidth=1,edgecolor='k',facecolor='none')\n",
    "            plt.ylim((magnet.iloc[ii][3]-(magnet.iloc[ii][6]/2)-0.01)/lengthNorm,(magnet.iloc[ii][3]+(magnet.iloc[ii][6]/2)+0.01)/lengthNorm)\n",
    "        else:\n",
    "            rect = patches.Rectangle((magnet.iloc[ii][2],magnet.iloc[ii][3]-(magnet.iloc[ii][6]/2)),magnet.iloc[ii][5],magnet.iloc[ii][6],linewidth=1,edgecolor='k',facecolor='none')\n",
    "            plt.ylim(magnet.iloc[ii][3]-(magnet.iloc[ii][6]/2)-0.01,magnet.iloc[ii][3]+(magnet.iloc[ii][6]/2)+0.01)\n",
    "        ax.add_patch(rect)\n",
    "        plt.xlim()\n",
    "\n",
    "if plot_lamour_radius == True:\n",
    "    if plot_real_units == True:\n",
    "        rL_BAR_circ = plt.Circle((0, -rL0_BAR/lengthNorm), rL0_BAR/lengthNorm, color='r', fill = False, lw=5, ls ='--', label='RL0')\n",
    "    else:\n",
    "        rL_BAR_circ = plt.Circle((0, -rL0_BAR), rL0_BAR, color='r', fill = False, lw=3, ls ='--', label='analytic RL0')\n",
    "    ax.add_patch(rL_BAR_circ)\n",
    "\n",
    "ax.legend(loc='upper right',bbox_to_anchor=(1.44, 1.05))\n",
    "if plot_real_units:\n",
    "    plt.xlabel('x [m]')\n",
    "    plt.ylabel('y [m]')\n",
    "#else:\n",
    "    #plt.xlabel('$p_x \\omega_{c0} / c$')\n",
    "    #plt.ylabel('$p_y \\omega_{c0} / c$')\n",
    "#plt.autoscale('both')\n",
    "plt.title('Particle Orbits of Different Temporal Resolutions')"
   ]
  },
  {
   "cell_type": "code",
   "execution_count": 43,
   "metadata": {},
   "outputs": [],
   "source": [
    "# fig, ax = plt.subplots(math.floor(num_par/2),math.ceil(num_par/2),sharex=True,sharey=True)\n",
    "# for ii in range(num_par):\n",
    "#         if plot_real_units == True:\n",
    "#             plt.subplot(math.floor(num_par/2),math.ceil(num_par/2),ii+1)\n",
    "#             plt.plot(px.iloc[ii]/lengthNorm,py.loc[ii]/lengthNorm,label='Energy = %.1f MeV' % (float(energy.iloc[ii][1])*0.511-0.511))\n",
    "#         else:\n",
    "#             plt.subplot(math.floor(num_par/2),math.ceil(num_par/2),ii+1)\n",
    "#             plt.plot(px.iloc[ii],py.iloc[ii],label='Energy = \\n %.3f MeV \\n del_t = \\n %.2f $\\omega_{c0}$' % (energy.iloc[ii][1], del_time.loc[ii][0]))\n",
    "#             plt.legend()\n",
    "#             plt.xlabel('$p_x /(c m)$')\n",
    "#             plt.ylabel('$p_y /(c m)$')"
   ]
  },
  {
   "cell_type": "code",
   "execution_count": 17,
   "metadata": {},
   "outputs": [],
   "source": [
    "# fig, ax = plt.subplots(1)\n",
    "# for ii in range(num_par):\n",
    "#         if plot_real_units == True:\n",
    "#             #plt.subplot(floor(num_par/2),ceil(num_par/2),1)\n",
    "#             plt.plot(px.iloc[ii]/lengthNorm,py.loc[ii]/lengthNorm,label='Energy = %.1f MeV' % (float(energy.iloc[ii][1])*0.511-0.511))\n",
    "#         else:\n",
    "#             #plt.subplot(math.floor(num_par/2),math.ceil(num_par/2),ii+1)\n",
    "#             plt.plot(px.iloc[ii],py.iloc[ii],label='Energy = \\n %.3f MeV \\n del_t = \\n %.2f $\\omega_{c0}$' % (energy.iloc[ii][1]*0.511-0.511, del_time.loc[ii][0]))\n",
    "#             ax.legend(loc='upper right',bbox_to_anchor=(1.2, 1.03))\n",
    "#             plt.xlabel('$p_x /(c*m_e)$')\n",
    "#             plt.ylabel('$p_y /(c*m_e)$')\n",
    "#             plt.axis('equal')"
   ]
  },
  {
   "cell_type": "code",
   "execution_count": 18,
   "metadata": {},
   "outputs": [],
   "source": [
    "# fig, ax = plt.subplots(1)\n",
    "# for ii in range(num_par):\n",
    "#         if plot_real_units == True:\n",
    "#             #plt.subplot(floor(num_par/2),ceil(num_par/2),1)\n",
    "#             plt.plot(px.iloc[ii]/lengthNorm,py.loc[ii]/lengthNorm,label='Energy = %.1f MeV' % (float(energy.iloc[ii][1])*0.511-0.511))\n",
    "#         else:\n",
    "#             #plt.subplot(math.floor(num_par/2),math.ceil(num_par/2),ii+1)\n",
    "#             plt.plot(posx.iloc[ii],px.iloc[ii],label='Energy = \\n %.3f MeV \\n del_t = \\n %.2f $\\omega_{c0}$' % (energy.iloc[ii][1]*0.511-0.511, del_time.loc[ii][0]))\n",
    "#             ax.legend(loc='upper right',bbox_to_anchor=(1.2, 1.03))\n",
    "#             plt.xlabel('$x*(c/\\omega_{c0})^{-1}$')\n",
    "#             plt.ylabel('$p_x*(c*m_e)^{-1}$')\n",
    "#             plt.axis('equal')"
   ]
  },
  {
   "cell_type": "code",
   "execution_count": 19,
   "metadata": {},
   "outputs": [],
   "source": [
    "# plt.rcParams['figure.figsize'] = [20, 20]\n",
    "# fig, ax = plt.subplots(1,3)\n",
    "# print(ax)\n",
    "# plt.subplot(2,2,1)\n",
    "# if plot_pos == True:\n",
    "#     for ii in range(num_par):\n",
    "#         if plot_real_units == True:\n",
    "#             plt.plot(posx.iloc[ii]/lengthNorm,posy.loc[ii]/lengthNorm,label='Energy = %.3f MeV' % (float(energy.iloc[ii][1])*0.511))\n",
    "#         else:\n",
    "#             plt.plot(posx.iloc[ii],posy.iloc[ii],label='Energy = %.3f MeV, del_t = %.2f $\\omega_{c0}$' % (energy.iloc[ii][1]*0.511-0.511, del_time.loc[ii][0]))\n",
    "#             plt.xlabel('$x \\omega_{c0} / c$')\n",
    "#             plt.ylabel('$y \\omega_{c0} / c$')\n",
    "#     plt.legend(loc='upper right',bbox_to_anchor=(2, 1.03))\n",
    "        \n",
    "# if plot_mom == True:\n",
    "#     for ii in range(num_par):\n",
    "#         if plot_real_units == True:\n",
    "#             plt.subplot(floor(num_par/2),ceil(num_par/2),ii+1)\n",
    "#             plt.plot(px.iloc[ii]/lengthNorm,py.loc[ii]/lengthNorm,label='Energy = %.3f MeV' % (float(energy.iloc[ii][1])*0.511))\n",
    "#         else:\n",
    "#             plt.subplot(math.floor(num_par/2),math.ceil(num_par/2),ii+1)\n",
    "#             plt.plot(px.iloc[ii]+10*ii,py.iloc[ii]+10*ii,label='Energy = \\n %.3f MeV \\n del_t = \\n %.2f $\\omega_{c0}$' % (energy.iloc[ii][1], del_time.loc[ii][0]))\n",
    "#             plt.legend()\n",
    "#             plt.xlabel('$p_x /(c m)$')\n",
    "#             plt.ylabel('$p_y /(c m)$')\n",
    "    \n",
    "# if plot_screen == True:\n",
    "#     for ii in range(num_screen):\n",
    "#         screenX = np.array([screen.iloc[ii][1],screen.iloc[ii][1]+(screen.iloc[ii][5]*np.cos(np.radians(screen.iloc[ii][4])))])\n",
    "#         screenY = np.array([screen.iloc[ii][2],screen.iloc[ii][2]+(screen.iloc[ii][5]*np.sin(np.radians(screen.iloc[ii][4])))])\n",
    "#         if plot_real_units == True:\n",
    "#             plt.plot(screenX/lengthNorm,screenY/lengthNorm,'-k')\n",
    "#         else:\n",
    "#             plt.plot(screenX,screenY,'-k')\n",
    "        \n",
    "# # if plot_magnet == True:\n",
    "# #     for ii in range(num_mag):\n",
    "# #         if plot_real_units == True:\n",
    "# #             rect = patches.Rectangle((magnet.iloc[ii][2]/lengthNorm,(magnet.iloc[ii][3]-(magnet.iloc[ii][6]/2))/lengthNorm),magnet.iloc[ii][5]/lengthNorm,magnet.iloc[ii][6]/lengthNorm,linewidth=1,edgecolor='k',facecolor='none')\n",
    "# #             ax[0].ylim((magnet.iloc[ii][3]-(magnet.iloc[ii][6]/2)-0.01)/lengthNorm,(magnet.iloc[ii][3]+(magnet.iloc[ii][6]/2)+0.01)/lengthNorm)\n",
    "# #         else:\n",
    "# #             rect = patches.Rectangle((magnet.iloc[ii][2],magnet.iloc[ii][3]-(magnet.iloc[ii][6]/2)),magnet.iloc[ii][5],magnet.iloc[ii][6],linewidth=1,edgecolor='k',facecolor='none')\n",
    "# #             plt.ylim(magnet.iloc[ii][3]-(magnet.iloc[ii][6]/2)-0.01,magnet.iloc[ii][3]+(magnet.iloc[ii][6]/2)+0.01)\n",
    "# #         ax[0].add_patch(rect)\n",
    "# #         plt.xlim()\n",
    "        \n",
    "# plt.subplot(2,2,3)\n",
    "# for ii in range(num_par):\n",
    "#         if plot_real_units == True:\n",
    "#             #plt.subplot(floor(num_par/2),ceil(num_par/2),1)\n",
    "#             plt.plot(px.iloc[ii]/lengthNorm,py.loc[ii]/lengthNorm,label='Energy = %.1f MeV' % (float(energy.iloc[ii][1])*0.511-0.511))\n",
    "#         else:\n",
    "#             #plt.subplot(math.floor(num_par/2),math.ceil(num_par/2),ii+1)\n",
    "#             plt.plot(px.iloc[ii],py.iloc[ii],label='Energy = \\n %.3f MeV \\n del_t = \\n %.2f $\\omega_{c0}$' % (energy.iloc[ii][1]*0.511-0.511, del_time.loc[ii][0]))\n",
    "#             #plt.legend(loc='upper right',bbox_to_anchor=(1.2, 1.03))\n",
    "#             plt.xlabel('$p_x /(c*m_e)$')\n",
    "#             plt.ylabel('$p_y /(c*m_e)$')\n",
    "#             ax[1].axis('equal')\n",
    "            \n",
    "# plt.subplot(2,2,4)\n",
    "# for ii in range(num_par):\n",
    "#         if plot_real_units == True:\n",
    "#             #plt.subplot(floor(num_par/2),ceil(num_par/2),1)\n",
    "#             plt.plot(px.iloc[ii]/lengthNorm,py.loc[ii]/lengthNorm,label='Energy = %.1f MeV' % (float(energy.iloc[ii][1])*0.511-0.511))\n",
    "#         else:\n",
    "#             #plt.subplot(math.floor(num_par/2),math.ceil(num_par/2),ii+1)\n",
    "#             plt.plot(posx.iloc[ii],px.iloc[ii],label='Energy = \\n %.3f MeV \\n del_t = \\n %.2f $\\omega_{c0}$' % (energy.iloc[ii][1]*0.511-0.511, del_time.loc[ii][0]))\n",
    "#             #plt.legend(loc='upper right',bbox_to_anchor=(1.0, 1.03))\n",
    "#             plt.xlabel('$x*(c/\\omega_{c0})^{-1}$')\n",
    "#             plt.ylabel('$p_x*(c*m_e)^{-1}$')\n",
    "#             ax[2].axis('equal')"
   ]
  },
  {
   "cell_type": "code",
   "execution_count": null,
   "metadata": {},
   "outputs": [],
   "source": []
  }
 ],
 "metadata": {
  "kernelspec": {
   "display_name": "Python 3",
   "language": "python",
   "name": "python3"
  },
  "language_info": {
   "codemirror_mode": {
    "name": "ipython",
    "version": 3
   },
   "file_extension": ".py",
   "mimetype": "text/x-python",
   "name": "python",
   "nbconvert_exporter": "python",
   "pygments_lexer": "ipython3",
   "version": "3.7.3"
  }
 },
 "nbformat": 4,
 "nbformat_minor": 2
}
