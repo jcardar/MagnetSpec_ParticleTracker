{
 "cells": [
  {
   "cell_type": "markdown",
   "metadata": {},
   "source": [
    "Define interactive variables to set up particle stepper (static and variable), and then have user define figure of merit.<br>\n",
    "Write out in either .csv or .txt file (idea: in .csv file, have rows correspond to objects (ie, magnets, particle beam, etc) and have the first column represent the number of those objects (magnets, beams, etc), and the remaining columns an ordered list of values defining those objects, to read from left to right, spanning all of the relevant objects).<br>\n",
    "Have c++ code read this, and define objects with 'for' loops."
   ]
  },
  {
   "cell_type": "markdown",
   "metadata": {},
   "source": [
    "Items to define for input deck:<br>\n",
    "1. Magnet: Center of Entrance Plane, Length, Width, Height, magnetic field strength (vector) (x-component, y-component, z-component)\n",
    "2. Beam: number of particles, central starting position, central energy, central direction (angles from axes (angle for x determined from angles for y and z, and is silently ignored))\n",
    "3. Beam: spread in starting position, spread in central energy, spread in divergence (user input FWHM of Gaussian spread, code uses 0.5 of this in spread)\n",
    "4. Screen: Low-Energy Middle, Width, Height, Angle from both z- and x-axes"
   ]
  },
  {
   "cell_type": "markdown",
   "metadata": {},
   "source": [
    "## Your preferred units:\n",
    ">Please run the next cell once to generate widget objects. Change the values in the dropdowns to the value to prefer. Do not run the cell again, the value is dynamically updated when you change the value in the dropdown menu!"
   ]
  },
  {
   "cell_type": "code",
   "execution_count": null,
   "metadata": {},
   "outputs": [],
   "source": [
    "from magspecinterface_functions import *\n",
    "display( units_length )\n",
    "display( units_energy )\n",
    "display( units_angles )\n",
    "display( units_magnetic_field )"
   ]
  },
  {
   "cell_type": "markdown",
   "metadata": {},
   "source": [
    "## Initialization type"
   ]
  },
  {
   "cell_type": "code",
   "execution_count": null,
   "metadata": {},
   "outputs": [],
   "source": [
    "display( init_position )\n",
    "display( init_energy )\n",
    "display( init_divergence )"
   ]
  },
  {
   "cell_type": "markdown",
   "metadata": {},
   "source": [
    "## Spectrometer coordinate system\n",
    "> Define the limits to the spectrometer coordinate system. You are free to choose what marks the origin.<br>\n",
    "**Note:** Global bounds may be negative."
   ]
  },
  {
   "cell_type": "code",
   "execution_count": null,
   "metadata": {},
   "outputs": [],
   "source": [
    "for ii in range(len(global_bounds)):\n",
    "    display( global_bounds[ii] )"
   ]
  },
  {
   "cell_type": "markdown",
   "metadata": {},
   "source": [
    "## Magnet setup:\n",
    "> Number of magnets, dimensions, position, and magnetic field components."
   ]
  },
  {
   "cell_type": "markdown",
   "metadata": {},
   "source": [
    "![alt text](magnet_position.png \"Magnet_Setup\")"
   ]
  },
  {
   "cell_type": "code",
   "execution_count": null,
   "metadata": {},
   "outputs": [],
   "source": [
    "display( number_of_magnets )"
   ]
  },
  {
   "cell_type": "code",
   "execution_count": null,
   "metadata": {
    "scrolled": true
   },
   "outputs": [],
   "source": [
    "magnet_dimensions_widgets = dynamicFloatValue_Magnet_Dimensions(number_of_magnets.value)\n",
    "for ii in range(len(magnet_dimensions_widgets)):\n",
    "    display( magnet_dimensions_widgets[ii] )"
   ]
  },
  {
   "cell_type": "markdown",
   "metadata": {},
   "source": [
    "> **Important:** Position value limits are based on global bounds and magnet dimensions. Please re-run the below cell if values for either change."
   ]
  },
  {
   "cell_type": "code",
   "execution_count": null,
   "metadata": {
    "scrolled": true
   },
   "outputs": [],
   "source": [
    "magnet_position_widgets = dynamicFloatValue_Magnet_Position(number_of_magnets.value, magnet_dimensions_widgets,\n",
    "                                                            global_bounds)\n",
    "for ii in range(len(magnet_position_widgets)):\n",
    "    display( magnet_position_widgets[ii] )"
   ]
  },
  {
   "cell_type": "code",
   "execution_count": null,
   "metadata": {
    "scrolled": true
   },
   "outputs": [],
   "source": [
    "magnetic_field_components_widgets = dynamicFloatValue_Magnetic_Field_Comps(number_of_magnets.value)\n",
    "for ii in range(len(magnetic_field_components_widgets)):\n",
    "    display( magnetic_field_components_widgets[ii] )"
   ]
  },
  {
   "cell_type": "markdown",
   "metadata": {},
   "source": [
    "## Beam Setup:\n",
    ">Number of particles, starting position, energy, direction.<br>\n",
    "**Note:** Please input values referencing the beam center. Direction is given by angle from axes."
   ]
  },
  {
   "cell_type": "code",
   "execution_count": null,
   "metadata": {},
   "outputs": [],
   "source": [
    "display( number_of_particles )"
   ]
  },
  {
   "cell_type": "code",
   "execution_count": null,
   "metadata": {},
   "outputs": [],
   "source": [
    "beam_start_position_widgets = dynamicFloatValue_Beam_Start_Position(global_bounds)\n",
    "for ii in range(len(beam_start_position_widgets)):\n",
    "    display( beam_start_position_widgets[ii] )"
   ]
  },
  {
   "cell_type": "code",
   "execution_count": null,
   "metadata": {},
   "outputs": [],
   "source": [
    "display(beam_energy)"
   ]
  },
  {
   "cell_type": "code",
   "execution_count": null,
   "metadata": {},
   "outputs": [],
   "source": [
    "beam_direction_widgets = dynamicFloatValue_Beam_Direction(units_angles.value)\n",
    "for ii in range(len(beam_direction_widgets)):\n",
    "    display( beam_direction_widgets[ii] )"
   ]
  },
  {
   "cell_type": "markdown",
   "metadata": {},
   "source": [
    "## Beam Spread:\n",
    ">Spread in starting position, energy, and divergence."
   ]
  },
  {
   "cell_type": "code",
   "execution_count": null,
   "metadata": {},
   "outputs": [],
   "source": [
    "beam_position_spread_widgets = dynamicFloatValue_Beam_Position_Spread()\n",
    "for ii in range(len(beam_position_spread_widgets)):\n",
    "    display( beam_position_spread_widgets[ii] )"
   ]
  },
  {
   "cell_type": "code",
   "execution_count": null,
   "metadata": {},
   "outputs": [],
   "source": [
    "display( beam_energy_spread )"
   ]
  },
  {
   "cell_type": "code",
   "execution_count": null,
   "metadata": {},
   "outputs": [],
   "source": [
    "beam_divergence_spread_widgets = dynamicFloatValue_Beam_Divergence_Spread()\n",
    "for ii in range(len(beam_divergence_spread_widgets)):\n",
    "    display( beam_divergence_spread_widgets[ii] )"
   ]
  },
  {
   "cell_type": "markdown",
   "metadata": {},
   "source": [
    "## Screen Setup:\n",
    ">Number of screens, dimensions, angles about axes, and position.<br>\n",
    "**Note:** Given angles are yaw (about the z-axis), pitch (about the y-axis), and roll (about the x-axis)."
   ]
  },
  {
   "cell_type": "markdown",
   "metadata": {},
   "source": [
    "![alt text](screen_setup.png \"Screen_Setup\")"
   ]
  },
  {
   "cell_type": "code",
   "execution_count": null,
   "metadata": {},
   "outputs": [],
   "source": [
    "display( number_of_screens )"
   ]
  },
  {
   "cell_type": "code",
   "execution_count": null,
   "metadata": {},
   "outputs": [],
   "source": [
    "screen_dimensions_widgets = dynamicFloatValue_Screen_Dimensions(number_of_screens.value)\n",
    "for ii in range(len(screen_dimensions_widgets)):\n",
    "    display( screen_dimensions_widgets[ii] )"
   ]
  },
  {
   "cell_type": "code",
   "execution_count": null,
   "metadata": {},
   "outputs": [],
   "source": [
    "screen_angles_widgets = dynamicFloatValue_Screen_Angles(number_of_screens.value)\n",
    "for ii in range(len(screen_angles_widgets)):\n",
    "    display( screen_angles_widgets[ii] )"
   ]
  },
  {
   "cell_type": "markdown",
   "metadata": {},
   "source": [
    "> **Important:** Position value limits are based on global bounds, screen dimensions, and screen angles. Please re-run the below cell if values for any change."
   ]
  },
  {
   "cell_type": "code",
   "execution_count": null,
   "metadata": {},
   "outputs": [],
   "source": [
    "screen_position_widgets = dynamicFloatValue_Screen_Position(units_angles.value, number_of_screens.value, global_bounds, \n",
    "                                                            screen_dimensions_widgets, screen_angles_widgets)\n",
    "for ii in range(len(screen_position_widgets)):\n",
    "    display( screen_position_widgets[ii] )"
   ]
  },
  {
   "cell_type": "markdown",
   "metadata": {},
   "source": [
    "## Display and Output info\n",
    ">Displays a 3D model of the spectrometer based on user inputs. If there are no errors, press the button below to output information.<br>\n",
    "**Note:** Axes may not have the same scale."
   ]
  },
  {
   "cell_type": "code",
   "execution_count": null,
   "metadata": {
    "scrolled": false
   },
   "outputs": [],
   "source": [
    "units = [units_length.value, ' ', units_energy.value, ' ', units_angles.value, ' ', units_magnetic_field.value]\n",
    "init_types = [f'{init_position.value}', ' ', f'{init_energy.value}', ' ', f'{init_divergence.value}']\n",
    "\n",
    "convert_beam_direction, convert_divergence_spread, convert_screen_angles = convertAngles(units, beam_direction_widgets, \n",
    "                                                                                         beam_divergence_spread_widgets, \n",
    "                                                                                         screen_angles_widgets)\n",
    "%matplotlib notebook\n",
    "DisplayAndOutput(global_bounds, units, number_of_magnets.value, magnet_dimensions_widgets, magnet_position_widgets, \n",
    "                 magnetic_field_components_widgets, number_of_particles.value, beam_start_position_widgets, \n",
    "                 beam_energy, convert_beam_direction, beam_position_spread_widgets, beam_energy_spread, \n",
    "                 convert_divergence_spread, number_of_screens.value, screen_dimensions_widgets, screen_position_widgets, \n",
    "                 convert_screen_angles, init_types)"
   ]
  },
  {
   "cell_type": "code",
   "execution_count": null,
   "metadata": {},
   "outputs": [],
   "source": []
  }
 ],
 "metadata": {
  "kernelspec": {
   "display_name": "Python 3",
   "language": "python",
   "name": "python3"
  },
  "language_info": {
   "codemirror_mode": {
    "name": "ipython",
    "version": 3
   },
   "file_extension": ".py",
   "mimetype": "text/x-python",
   "name": "python",
   "nbconvert_exporter": "python",
   "pygments_lexer": "ipython3",
   "version": "3.7.4"
  }
 },
 "nbformat": 4,
 "nbformat_minor": 2
}
