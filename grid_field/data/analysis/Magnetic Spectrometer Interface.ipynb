{
 "cells": [
  {
   "cell_type": "markdown",
   "metadata": {},
   "source": [
    "Define interactive variables to set up particle stepper (static and variable), and then have user define figure of merit.<br>\n",
    "Write out in either .csv or .txt file (idea: in .csv file, have rows correspond to objects (ie, magnets, particle beam, etc) and have the first column represent the number of those objects (magnets, beams, etc), and the remaining columns an ordered list of values defining those objects, to read from left to right, spanning all of the relevant objects).<br>\n",
    "Have c++ code read this, and define objects with 'for' loops."
   ]
  },
  {
   "cell_type": "markdown",
   "metadata": {},
   "source": [
    "Items to define for input deck:<br>\n",
    "1. Magnet: Center of Entrance Plane, Length, Width, Height, magnetic field strength (vector) (x-component, y-component, z-component)\n",
    "2. Beam: number of particles, central starting position, central energy, central direction (angles from axes (angle for x determined from angles for y and z, and is silently ignored))\n",
    "3. Beam: spread in starting position, spread in central energy, spread in divergence (user input FWHM of Gaussian spread, code uses 0.5 of this in spread)\n",
    "4. Screen: Low-Energy Middle, Width, Height, Angle from both z- and x-axes"
   ]
  },
  {
   "cell_type": "markdown",
   "metadata": {},
   "source": [
    "## Your preferred units:\n",
    ">Please run the next cell once to generate widget objects. Change the values in the dropdowns to the value to prefer. Do not run the cell again, the value is dynamically updated when you change the value in the dropdown menu!"
   ]
  },
  {
   "cell_type": "code",
   "execution_count": 1,
   "metadata": {},
   "outputs": [
    {
     "data": {
      "application/vnd.jupyter.widget-view+json": {
       "model_id": "d7f68a38bac1469587fd0f424f94dbd0",
       "version_major": 2,
       "version_minor": 0
      },
      "text/plain": [
       "Dropdown(description='Length Unit', index=1, options=('mm', 'cm', 'm'), value='cm')"
      ]
     },
     "metadata": {},
     "output_type": "display_data"
    },
    {
     "data": {
      "application/vnd.jupyter.widget-view+json": {
       "model_id": "2bcd67ee78384a1cacebb074baf346d5",
       "version_major": 2,
       "version_minor": 0
      },
      "text/plain": [
       "Dropdown(description='Energy Unit', index=1, options=('eV', 'MeV', 'GeV'), value='MeV')"
      ]
     },
     "metadata": {},
     "output_type": "display_data"
    },
    {
     "data": {
      "application/vnd.jupyter.widget-view+json": {
       "model_id": "1f5c928764cc4277a5e2cbc302cfe40d",
       "version_major": 2,
       "version_minor": 0
      },
      "text/plain": [
       "Dropdown(description='Angle Unit', options=('mrad', 'Radians', 'Degrees'), value='mrad')"
      ]
     },
     "metadata": {},
     "output_type": "display_data"
    },
    {
     "data": {
      "application/vnd.jupyter.widget-view+json": {
       "model_id": "a8f77d32d9e648a19003e61709e75564",
       "version_major": 2,
       "version_minor": 0
      },
      "text/plain": [
       "Dropdown(description='Field Unit', options=('Tesla', 'Gauss'), value='Tesla')"
      ]
     },
     "metadata": {},
     "output_type": "display_data"
    }
   ],
   "source": [
    "from magspecinterface_functions import *\n",
    "display( units_length )\n",
    "display( units_energy )\n",
    "display( units_angles )\n",
    "display( units_magnetic_field )"
   ]
  },
  {
   "cell_type": "markdown",
   "metadata": {},
   "source": [
    "## Initialization type"
   ]
  },
  {
   "cell_type": "code",
   "execution_count": 2,
   "metadata": {},
   "outputs": [
    {
     "data": {
      "application/vnd.jupyter.widget-view+json": {
       "model_id": "4725df17ec02481f9b5753ed62fe7e67",
       "version_major": 2,
       "version_minor": 0
      },
      "text/plain": [
       "Dropdown(description='Position', index=2, options=(('Gaussian', 0), ('Uniform', 1), ('Scan', 2)), value=2)"
      ]
     },
     "metadata": {},
     "output_type": "display_data"
    },
    {
     "data": {
      "application/vnd.jupyter.widget-view+json": {
       "model_id": "8a14aff710294cbfba0d6013f8d86958",
       "version_major": 2,
       "version_minor": 0
      },
      "text/plain": [
       "Dropdown(description='Energy', index=1, options=(('Gaussian', 0), ('Uniform', 1), ('Log', 2)), value=1)"
      ]
     },
     "metadata": {},
     "output_type": "display_data"
    },
    {
     "data": {
      "application/vnd.jupyter.widget-view+json": {
       "model_id": "8043bc6873fc47c1b0145dc49b7e0a45",
       "version_major": 2,
       "version_minor": 0
      },
      "text/plain": [
       "Dropdown(description='Divergence', index=2, options=(('Gaussian', 0), ('Uniform', 1), ('Scan', 2)), value=2)"
      ]
     },
     "metadata": {},
     "output_type": "display_data"
    }
   ],
   "source": [
    "display( init_position )\n",
    "display( init_energy )\n",
    "display( init_divergence )"
   ]
  },
  {
   "cell_type": "markdown",
   "metadata": {},
   "source": [
    "## Spectrometer coordinate system\n",
    "> Define the limits to the spectrometer coordinate system. You are free to choose what marks the origin.<br>\n",
    "**Note:** Global bounds may be negative."
   ]
  },
  {
   "cell_type": "code",
   "execution_count": 3,
   "metadata": {},
   "outputs": [
    {
     "data": {
      "application/vnd.jupyter.widget-view+json": {
       "model_id": "0e9ceb4812874537b2955975d0e8c0d7",
       "version_major": 2,
       "version_minor": 0
      },
      "text/plain": [
       "FloatText(value=100.0, description='global x max')"
      ]
     },
     "metadata": {},
     "output_type": "display_data"
    },
    {
     "data": {
      "application/vnd.jupyter.widget-view+json": {
       "model_id": "9b6805bcad4044a5991ae77944cdcdaa",
       "version_major": 2,
       "version_minor": 0
      },
      "text/plain": [
       "FloatText(value=-100.0, description='global x min')"
      ]
     },
     "metadata": {},
     "output_type": "display_data"
    },
    {
     "data": {
      "application/vnd.jupyter.widget-view+json": {
       "model_id": "9792925a3bc64b239b5f894e2f38e463",
       "version_major": 2,
       "version_minor": 0
      },
      "text/plain": [
       "FloatText(value=100.0, description='global y max')"
      ]
     },
     "metadata": {},
     "output_type": "display_data"
    },
    {
     "data": {
      "application/vnd.jupyter.widget-view+json": {
       "model_id": "888939d43d0744a6990d4e7d1e475de5",
       "version_major": 2,
       "version_minor": 0
      },
      "text/plain": [
       "FloatText(value=-100.0, description='global y min')"
      ]
     },
     "metadata": {},
     "output_type": "display_data"
    },
    {
     "data": {
      "application/vnd.jupyter.widget-view+json": {
       "model_id": "bf96be43150f4711a68b5158fcb9e79e",
       "version_major": 2,
       "version_minor": 0
      },
      "text/plain": [
       "FloatText(value=100.0, description='global z max')"
      ]
     },
     "metadata": {},
     "output_type": "display_data"
    },
    {
     "data": {
      "application/vnd.jupyter.widget-view+json": {
       "model_id": "2e7ff429717b40f3976cfe80de3b0d6f",
       "version_major": 2,
       "version_minor": 0
      },
      "text/plain": [
       "FloatText(value=-100.0, description='global z min')"
      ]
     },
     "metadata": {},
     "output_type": "display_data"
    }
   ],
   "source": [
    "for ii in range(len(global_bounds)):\n",
    "    display( global_bounds[ii] )"
   ]
  },
  {
   "cell_type": "markdown",
   "metadata": {},
   "source": [
    "## Magnet setup:\n",
    "> Number of magnets, dimensions, position, and magnetic field components."
   ]
  },
  {
   "cell_type": "markdown",
   "metadata": {},
   "source": [
    "![alt text](magnet_position.png \"Magnet_Setup\")"
   ]
  },
  {
   "cell_type": "code",
   "execution_count": 4,
   "metadata": {},
   "outputs": [
    {
     "data": {
      "application/vnd.jupyter.widget-view+json": {
       "model_id": "7bd6f05c63dc49b28f58a36c28419734",
       "version_major": 2,
       "version_minor": 0
      },
      "text/plain": [
       "BoundedIntText(value=1, description='# of Magnets', min=1)"
      ]
     },
     "metadata": {},
     "output_type": "display_data"
    }
   ],
   "source": [
    "display( number_of_magnets )"
   ]
  },
  {
   "cell_type": "code",
   "execution_count": 5,
   "metadata": {
    "scrolled": true
   },
   "outputs": [
    {
     "data": {
      "application/vnd.jupyter.widget-view+json": {
       "model_id": "1797e5628b124df3a496e89a070ad906",
       "version_major": 2,
       "version_minor": 0
      },
      "text/plain": [
       "BoundedFloatText(value=0.0, description='width 1')"
      ]
     },
     "metadata": {},
     "output_type": "display_data"
    },
    {
     "data": {
      "application/vnd.jupyter.widget-view+json": {
       "model_id": "5583c343e6b747f6a7ec4c19816526ad",
       "version_major": 2,
       "version_minor": 0
      },
      "text/plain": [
       "BoundedFloatText(value=0.0, description='length 1')"
      ]
     },
     "metadata": {},
     "output_type": "display_data"
    },
    {
     "data": {
      "application/vnd.jupyter.widget-view+json": {
       "model_id": "34406ef8abb047c2a4d49346e1266e68",
       "version_major": 2,
       "version_minor": 0
      },
      "text/plain": [
       "BoundedFloatText(value=0.0, description='height 1')"
      ]
     },
     "metadata": {},
     "output_type": "display_data"
    }
   ],
   "source": [
    "magnet_dimensions_widgets = dynamicFloatValue_Magnet_Dimensions(number_of_magnets.value)\n",
    "for ii in range(len(magnet_dimensions_widgets)):\n",
    "    display( magnet_dimensions_widgets[ii] )"
   ]
  },
  {
   "cell_type": "markdown",
   "metadata": {},
   "source": [
    "> **Important:** Position value limits are based on global bounds and magnet dimensions. Please re-run the below cell if values for either change."
   ]
  },
  {
   "cell_type": "code",
   "execution_count": 6,
   "metadata": {
    "scrolled": true
   },
   "outputs": [
    {
     "data": {
      "application/vnd.jupyter.widget-view+json": {
       "model_id": "22b14b41fca04620a523add525e36a71",
       "version_major": 2,
       "version_minor": 0
      },
      "text/plain": [
       "BoundedFloatText(value=0.0, description='x pos 1', max=0.6000000000000001, min=-2.0)"
      ]
     },
     "metadata": {},
     "output_type": "display_data"
    },
    {
     "data": {
      "application/vnd.jupyter.widget-view+json": {
       "model_id": "3a72fb1d1b014176ac2ec7af6785138a",
       "version_major": 2,
       "version_minor": 0
      },
      "text/plain": [
       "BoundedFloatText(value=0.0, description='y pos 1', max=1.8, min=-1.8)"
      ]
     },
     "metadata": {},
     "output_type": "display_data"
    },
    {
     "data": {
      "application/vnd.jupyter.widget-view+json": {
       "model_id": "2ea49db7dcbf4fa2b0aec683a03d0a6e",
       "version_major": 2,
       "version_minor": 0
      },
      "text/plain": [
       "BoundedFloatText(value=0.0, description='z pos 1', max=2.0, min=-2.0)"
      ]
     },
     "metadata": {},
     "output_type": "display_data"
    }
   ],
   "source": [
    "magnet_position_widgets = dynamicFloatValue_Magnet_Position(number_of_magnets.value, magnet_dimensions_widgets,\n",
    "                                                            global_bounds)\n",
    "for ii in range(len(magnet_position_widgets)):\n",
    "    display( magnet_position_widgets[ii] )"
   ]
  },
  {
   "cell_type": "code",
   "execution_count": 7,
   "metadata": {
    "scrolled": true
   },
   "outputs": [
    {
     "data": {
      "application/vnd.jupyter.widget-view+json": {
       "model_id": "9f1e7a4d51124fde91c385f247844720",
       "version_major": 2,
       "version_minor": 0
      },
      "text/plain": [
       "FloatText(value=1.0, description='x comp 1')"
      ]
     },
     "metadata": {},
     "output_type": "display_data"
    },
    {
     "data": {
      "application/vnd.jupyter.widget-view+json": {
       "model_id": "e50fa8b1516c44de8eafa36bc61a47b5",
       "version_major": 2,
       "version_minor": 0
      },
      "text/plain": [
       "FloatText(value=1.0, description='y comp 1')"
      ]
     },
     "metadata": {},
     "output_type": "display_data"
    },
    {
     "data": {
      "application/vnd.jupyter.widget-view+json": {
       "model_id": "95b0bbda488b4c91907802cd7144c0e5",
       "version_major": 2,
       "version_minor": 0
      },
      "text/plain": [
       "FloatText(value=1.0, description='z comp 1')"
      ]
     },
     "metadata": {},
     "output_type": "display_data"
    }
   ],
   "source": [
    "magnetic_field_components_widgets = dynamicFloatValue_Magnetic_Field_Comps(number_of_magnets.value)\n",
    "for ii in range(len(magnetic_field_components_widgets)):\n",
    "    display( magnetic_field_components_widgets[ii] )"
   ]
  },
  {
   "cell_type": "markdown",
   "metadata": {},
   "source": [
    "## Beam Setup:\n",
    ">Number of particles, starting position, energy, direction.<br>\n",
    "**Note:** Please input values referencing the beam center. Direction is given by angle from axes."
   ]
  },
  {
   "cell_type": "code",
   "execution_count": 8,
   "metadata": {},
   "outputs": [
    {
     "data": {
      "application/vnd.jupyter.widget-view+json": {
       "model_id": "61c31f13d6ba4e54bff7c9f730ffdb39",
       "version_major": 2,
       "version_minor": 0
      },
      "text/plain": [
       "BoundedIntText(value=1, description='# of Particles', min=1)"
      ]
     },
     "metadata": {},
     "output_type": "display_data"
    }
   ],
   "source": [
    "display( number_of_particles )"
   ]
  },
  {
   "cell_type": "code",
   "execution_count": 9,
   "metadata": {},
   "outputs": [
    {
     "data": {
      "application/vnd.jupyter.widget-view+json": {
       "model_id": "30245b373aec48e686143279e31113ec",
       "version_major": 2,
       "version_minor": 0
      },
      "text/plain": [
       "BoundedFloatText(value=0.0, description='x start pos', max=2.0, min=-2.0)"
      ]
     },
     "metadata": {},
     "output_type": "display_data"
    },
    {
     "data": {
      "application/vnd.jupyter.widget-view+json": {
       "model_id": "77843e10a99245c18ae5294d1d18269e",
       "version_major": 2,
       "version_minor": 0
      },
      "text/plain": [
       "BoundedFloatText(value=0.0, description='y start pos', max=2.0, min=-2.0)"
      ]
     },
     "metadata": {},
     "output_type": "display_data"
    },
    {
     "data": {
      "application/vnd.jupyter.widget-view+json": {
       "model_id": "b4fbd0674dbc459d910a620e3f6dd512",
       "version_major": 2,
       "version_minor": 0
      },
      "text/plain": [
       "BoundedFloatText(value=0.0, description='z start pos', max=2.0, min=-2.0)"
      ]
     },
     "metadata": {},
     "output_type": "display_data"
    }
   ],
   "source": [
    "beam_start_position_widgets = dynamicFloatValue_Beam_Start_Position(global_bounds)\n",
    "for ii in range(len(beam_start_position_widgets)):\n",
    "    display( beam_start_position_widgets[ii] )"
   ]
  },
  {
   "cell_type": "code",
   "execution_count": 10,
   "metadata": {},
   "outputs": [
    {
     "data": {
      "application/vnd.jupyter.widget-view+json": {
       "model_id": "ff6a29d4090d4f8b82ab1ce7fd642452",
       "version_major": 2,
       "version_minor": 0
      },
      "text/plain": [
       "BoundedFloatText(value=1.0, description='beam energy', max=9999999.0)"
      ]
     },
     "metadata": {},
     "output_type": "display_data"
    }
   ],
   "source": [
    "display(beam_energy)"
   ]
  },
  {
   "cell_type": "code",
   "execution_count": 11,
   "metadata": {},
   "outputs": [
    {
     "data": {
      "application/vnd.jupyter.widget-view+json": {
       "model_id": "1f5091bbcc44469691a1887871ec92e7",
       "version_major": 2,
       "version_minor": 0
      },
      "text/plain": [
       "FloatText(value=0.0, description='x angle')"
      ]
     },
     "metadata": {},
     "output_type": "display_data"
    },
    {
     "data": {
      "application/vnd.jupyter.widget-view+json": {
       "model_id": "a38c9cbb8335492eabb2e6a76a660c50",
       "version_major": 2,
       "version_minor": 0
      },
      "text/plain": [
       "FloatText(value=1570.7963267948965, description='y angle')"
      ]
     },
     "metadata": {},
     "output_type": "display_data"
    },
    {
     "data": {
      "application/vnd.jupyter.widget-view+json": {
       "model_id": "9357b5f9cb0d4636aed224fd67d2389c",
       "version_major": 2,
       "version_minor": 0
      },
      "text/plain": [
       "FloatText(value=1570.7963267948965, description='z angle')"
      ]
     },
     "metadata": {},
     "output_type": "display_data"
    }
   ],
   "source": [
    "beam_direction_widgets = dynamicFloatValue_Beam_Direction(units_angles.value)\n",
    "for ii in range(len(beam_direction_widgets)):\n",
    "    display( beam_direction_widgets[ii] )"
   ]
  },
  {
   "cell_type": "markdown",
   "metadata": {},
   "source": [
    "## Beam Spread:\n",
    ">Spread in starting position, energy, and divergence."
   ]
  },
  {
   "cell_type": "code",
   "execution_count": 12,
   "metadata": {},
   "outputs": [
    {
     "data": {
      "application/vnd.jupyter.widget-view+json": {
       "model_id": "46d5fb1f2ba64989a6b0f957b8bf595e",
       "version_major": 2,
       "version_minor": 0
      },
      "text/plain": [
       "FloatText(value=0.0, description='x pos spread')"
      ]
     },
     "metadata": {},
     "output_type": "display_data"
    },
    {
     "data": {
      "application/vnd.jupyter.widget-view+json": {
       "model_id": "0a017d96c3c2436a8533277b47548cdb",
       "version_major": 2,
       "version_minor": 0
      },
      "text/plain": [
       "FloatText(value=0.0, description='y pos spread')"
      ]
     },
     "metadata": {},
     "output_type": "display_data"
    },
    {
     "data": {
      "application/vnd.jupyter.widget-view+json": {
       "model_id": "c60bbfb05ddd41e1ba64a08a6406ed63",
       "version_major": 2,
       "version_minor": 0
      },
      "text/plain": [
       "FloatText(value=0.0, description='z pos spread')"
      ]
     },
     "metadata": {},
     "output_type": "display_data"
    }
   ],
   "source": [
    "beam_position_spread_widgets = dynamicFloatValue_Beam_Position_Spread()\n",
    "for ii in range(len(beam_position_spread_widgets)):\n",
    "    display( beam_position_spread_widgets[ii] )"
   ]
  },
  {
   "cell_type": "code",
   "execution_count": 13,
   "metadata": {},
   "outputs": [
    {
     "data": {
      "application/vnd.jupyter.widget-view+json": {
       "model_id": "731782836f384b93a9c7ef912784b920",
       "version_major": 2,
       "version_minor": 0
      },
      "text/plain": [
       "BoundedFloatText(value=0.0, description='nrg spread', max=9999999.0)"
      ]
     },
     "metadata": {},
     "output_type": "display_data"
    }
   ],
   "source": [
    "display( beam_energy_spread )"
   ]
  },
  {
   "cell_type": "code",
   "execution_count": 14,
   "metadata": {},
   "outputs": [
    {
     "data": {
      "application/vnd.jupyter.widget-view+json": {
       "model_id": "38d358b288d243768071393acf293eec",
       "version_major": 2,
       "version_minor": 0
      },
      "text/plain": [
       "FloatText(value=0.0, description='x divergence')"
      ]
     },
     "metadata": {},
     "output_type": "display_data"
    },
    {
     "data": {
      "application/vnd.jupyter.widget-view+json": {
       "model_id": "50266ec5aa7c424db9c452f9687bf099",
       "version_major": 2,
       "version_minor": 0
      },
      "text/plain": [
       "FloatText(value=0.0, description='y divergence')"
      ]
     },
     "metadata": {},
     "output_type": "display_data"
    },
    {
     "data": {
      "application/vnd.jupyter.widget-view+json": {
       "model_id": "9f2483beae26477fa0a144c297739229",
       "version_major": 2,
       "version_minor": 0
      },
      "text/plain": [
       "FloatText(value=0.0, description='z divergence')"
      ]
     },
     "metadata": {},
     "output_type": "display_data"
    }
   ],
   "source": [
    "beam_divergence_spread_widgets = dynamicFloatValue_Beam_Divergence_Spread()\n",
    "for ii in range(len(beam_divergence_spread_widgets)):\n",
    "    display( beam_divergence_spread_widgets[ii] )"
   ]
  },
  {
   "cell_type": "markdown",
   "metadata": {},
   "source": [
    "## Screen Setup:\n",
    ">Number of screens, dimensions, angles about axes, and position.<br>\n",
    "**Note:** Given angles are yaw (about the z-axis), pitch (about the y-axis), and roll (about the x-axis)."
   ]
  },
  {
   "cell_type": "markdown",
   "metadata": {},
   "source": [
    "![alt text](screen_setup.png \"Screen_Setup\")"
   ]
  },
  {
   "cell_type": "code",
   "execution_count": 15,
   "metadata": {},
   "outputs": [
    {
     "data": {
      "application/vnd.jupyter.widget-view+json": {
       "model_id": "076a9dc987d04a2d82534284b7851366",
       "version_major": 2,
       "version_minor": 0
      },
      "text/plain": [
       "BoundedIntText(value=1, description='# of Screens')"
      ]
     },
     "metadata": {},
     "output_type": "display_data"
    }
   ],
   "source": [
    "display( number_of_screens )"
   ]
  },
  {
   "cell_type": "code",
   "execution_count": 16,
   "metadata": {},
   "outputs": [
    {
     "data": {
      "application/vnd.jupyter.widget-view+json": {
       "model_id": "0cda0224916c4779ba734121b2e89f5b",
       "version_major": 2,
       "version_minor": 0
      },
      "text/plain": [
       "BoundedFloatText(value=0.0, description='length 1')"
      ]
     },
     "metadata": {},
     "output_type": "display_data"
    },
    {
     "data": {
      "application/vnd.jupyter.widget-view+json": {
       "model_id": "1326e6331ee2426dba3f07e06f5586ee",
       "version_major": 2,
       "version_minor": 0
      },
      "text/plain": [
       "BoundedFloatText(value=0.0, description='height 1')"
      ]
     },
     "metadata": {},
     "output_type": "display_data"
    }
   ],
   "source": [
    "screen_dimensions_widgets = dynamicFloatValue_Screen_Dimensions(number_of_screens.value)\n",
    "for ii in range(len(screen_dimensions_widgets)):\n",
    "    display( screen_dimensions_widgets[ii] )"
   ]
  },
  {
   "cell_type": "code",
   "execution_count": 17,
   "metadata": {},
   "outputs": [
    {
     "data": {
      "application/vnd.jupyter.widget-view+json": {
       "model_id": "e9d0d7d8d3ca471583596c678b5f9e51",
       "version_major": 2,
       "version_minor": 0
      },
      "text/plain": [
       "FloatText(value=0.0, description='yaw angle 1')"
      ]
     },
     "metadata": {},
     "output_type": "display_data"
    },
    {
     "data": {
      "application/vnd.jupyter.widget-view+json": {
       "model_id": "6663d425804440c7a89b848318547597",
       "version_major": 2,
       "version_minor": 0
      },
      "text/plain": [
       "FloatText(value=0.0, description='pitch angle 1')"
      ]
     },
     "metadata": {},
     "output_type": "display_data"
    },
    {
     "data": {
      "application/vnd.jupyter.widget-view+json": {
       "model_id": "04b852d8d5fb408ab36322bf98adfc73",
       "version_major": 2,
       "version_minor": 0
      },
      "text/plain": [
       "FloatText(value=0.0, description='roll angle 1')"
      ]
     },
     "metadata": {},
     "output_type": "display_data"
    }
   ],
   "source": [
    "screen_angles_widgets = dynamicFloatValue_Screen_Angles(number_of_screens.value)\n",
    "for ii in range(len(screen_angles_widgets)):\n",
    "    display( screen_angles_widgets[ii] )"
   ]
  },
  {
   "cell_type": "markdown",
   "metadata": {},
   "source": [
    "> **Important:** Position value limits are based on global bounds, screen dimensions, and screen angles. Please re-run the below cell if values for any change."
   ]
  },
  {
   "cell_type": "code",
   "execution_count": 19,
   "metadata": {},
   "outputs": [
    {
     "data": {
      "application/vnd.jupyter.widget-view+json": {
       "model_id": "eb492505c0d44fb490afc1a0f11f9895",
       "version_major": 2,
       "version_minor": 0
      },
      "text/plain": [
       "BoundedFloatText(value=0.0, description='x pos 1', max=3.0, min=-2.2828414424535852)"
      ]
     },
     "metadata": {},
     "output_type": "display_data"
    },
    {
     "data": {
      "application/vnd.jupyter.widget-view+json": {
       "model_id": "f39dbd095b9643ef8c7f93e351c9bf50",
       "version_major": 2,
       "version_minor": 0
      },
      "text/plain": [
       "BoundedFloatText(value=0.0, description='y pos 1', max=2.71715601751005, min=-2.0)"
      ]
     },
     "metadata": {},
     "output_type": "display_data"
    },
    {
     "data": {
      "application/vnd.jupyter.widget-view+json": {
       "model_id": "9d32d108c4e24bf68b701c6f5d6a0c13",
       "version_major": 2,
       "version_minor": 0
      },
      "text/plain": [
       "BoundedFloatText(value=0.0, description='z pos 1', max=2.5, min=-2.5)"
      ]
     },
     "metadata": {},
     "output_type": "display_data"
    }
   ],
   "source": [
    "screen_position_widgets = dynamicFloatValue_Screen_Position(units_angles.value, number_of_screens.value, global_bounds, \n",
    "                                                            screen_dimensions_widgets, screen_angles_widgets)\n",
    "for ii in range(len(screen_position_widgets)):\n",
    "    display( screen_position_widgets[ii] )"
   ]
  },
  {
   "cell_type": "markdown",
   "metadata": {},
   "source": [
    "## Display and Output info\n",
    ">Displays a 3D model of the spectrometer based on user inputs. If there are no errors, press the button below to output information.<br>\n",
    "**Note:** Axes may not have the same scale."
   ]
  },
  {
   "cell_type": "code",
   "execution_count": 24,
   "metadata": {
    "scrolled": false
   },
   "outputs": [
    {
     "data": {
      "application/javascript": [
       "/* Put everything inside the global mpl namespace */\n",
       "window.mpl = {};\n",
       "\n",
       "\n",
       "mpl.get_websocket_type = function() {\n",
       "    if (typeof(WebSocket) !== 'undefined') {\n",
       "        return WebSocket;\n",
       "    } else if (typeof(MozWebSocket) !== 'undefined') {\n",
       "        return MozWebSocket;\n",
       "    } else {\n",
       "        alert('Your browser does not have WebSocket support.' +\n",
       "              'Please try Chrome, Safari or Firefox ≥ 6. ' +\n",
       "              'Firefox 4 and 5 are also supported but you ' +\n",
       "              'have to enable WebSockets in about:config.');\n",
       "    };\n",
       "}\n",
       "\n",
       "mpl.figure = function(figure_id, websocket, ondownload, parent_element) {\n",
       "    this.id = figure_id;\n",
       "\n",
       "    this.ws = websocket;\n",
       "\n",
       "    this.supports_binary = (this.ws.binaryType != undefined);\n",
       "\n",
       "    if (!this.supports_binary) {\n",
       "        var warnings = document.getElementById(\"mpl-warnings\");\n",
       "        if (warnings) {\n",
       "            warnings.style.display = 'block';\n",
       "            warnings.textContent = (\n",
       "                \"This browser does not support binary websocket messages. \" +\n",
       "                    \"Performance may be slow.\");\n",
       "        }\n",
       "    }\n",
       "\n",
       "    this.imageObj = new Image();\n",
       "\n",
       "    this.context = undefined;\n",
       "    this.message = undefined;\n",
       "    this.canvas = undefined;\n",
       "    this.rubberband_canvas = undefined;\n",
       "    this.rubberband_context = undefined;\n",
       "    this.format_dropdown = undefined;\n",
       "\n",
       "    this.image_mode = 'full';\n",
       "\n",
       "    this.root = $('<div/>');\n",
       "    this._root_extra_style(this.root)\n",
       "    this.root.attr('style', 'display: inline-block');\n",
       "\n",
       "    $(parent_element).append(this.root);\n",
       "\n",
       "    this._init_header(this);\n",
       "    this._init_canvas(this);\n",
       "    this._init_toolbar(this);\n",
       "\n",
       "    var fig = this;\n",
       "\n",
       "    this.waiting = false;\n",
       "\n",
       "    this.ws.onopen =  function () {\n",
       "            fig.send_message(\"supports_binary\", {value: fig.supports_binary});\n",
       "            fig.send_message(\"send_image_mode\", {});\n",
       "            if (mpl.ratio != 1) {\n",
       "                fig.send_message(\"set_dpi_ratio\", {'dpi_ratio': mpl.ratio});\n",
       "            }\n",
       "            fig.send_message(\"refresh\", {});\n",
       "        }\n",
       "\n",
       "    this.imageObj.onload = function() {\n",
       "            if (fig.image_mode == 'full') {\n",
       "                // Full images could contain transparency (where diff images\n",
       "                // almost always do), so we need to clear the canvas so that\n",
       "                // there is no ghosting.\n",
       "                fig.context.clearRect(0, 0, fig.canvas.width, fig.canvas.height);\n",
       "            }\n",
       "            fig.context.drawImage(fig.imageObj, 0, 0);\n",
       "        };\n",
       "\n",
       "    this.imageObj.onunload = function() {\n",
       "        fig.ws.close();\n",
       "    }\n",
       "\n",
       "    this.ws.onmessage = this._make_on_message_function(this);\n",
       "\n",
       "    this.ondownload = ondownload;\n",
       "}\n",
       "\n",
       "mpl.figure.prototype._init_header = function() {\n",
       "    var titlebar = $(\n",
       "        '<div class=\"ui-dialog-titlebar ui-widget-header ui-corner-all ' +\n",
       "        'ui-helper-clearfix\"/>');\n",
       "    var titletext = $(\n",
       "        '<div class=\"ui-dialog-title\" style=\"width: 100%; ' +\n",
       "        'text-align: center; padding: 3px;\"/>');\n",
       "    titlebar.append(titletext)\n",
       "    this.root.append(titlebar);\n",
       "    this.header = titletext[0];\n",
       "}\n",
       "\n",
       "\n",
       "\n",
       "mpl.figure.prototype._canvas_extra_style = function(canvas_div) {\n",
       "\n",
       "}\n",
       "\n",
       "\n",
       "mpl.figure.prototype._root_extra_style = function(canvas_div) {\n",
       "\n",
       "}\n",
       "\n",
       "mpl.figure.prototype._init_canvas = function() {\n",
       "    var fig = this;\n",
       "\n",
       "    var canvas_div = $('<div/>');\n",
       "\n",
       "    canvas_div.attr('style', 'position: relative; clear: both; outline: 0');\n",
       "\n",
       "    function canvas_keyboard_event(event) {\n",
       "        return fig.key_event(event, event['data']);\n",
       "    }\n",
       "\n",
       "    canvas_div.keydown('key_press', canvas_keyboard_event);\n",
       "    canvas_div.keyup('key_release', canvas_keyboard_event);\n",
       "    this.canvas_div = canvas_div\n",
       "    this._canvas_extra_style(canvas_div)\n",
       "    this.root.append(canvas_div);\n",
       "\n",
       "    var canvas = $('<canvas/>');\n",
       "    canvas.addClass('mpl-canvas');\n",
       "    canvas.attr('style', \"left: 0; top: 0; z-index: 0; outline: 0\")\n",
       "\n",
       "    this.canvas = canvas[0];\n",
       "    this.context = canvas[0].getContext(\"2d\");\n",
       "\n",
       "    var backingStore = this.context.backingStorePixelRatio ||\n",
       "\tthis.context.webkitBackingStorePixelRatio ||\n",
       "\tthis.context.mozBackingStorePixelRatio ||\n",
       "\tthis.context.msBackingStorePixelRatio ||\n",
       "\tthis.context.oBackingStorePixelRatio ||\n",
       "\tthis.context.backingStorePixelRatio || 1;\n",
       "\n",
       "    mpl.ratio = (window.devicePixelRatio || 1) / backingStore;\n",
       "\n",
       "    var rubberband = $('<canvas/>');\n",
       "    rubberband.attr('style', \"position: absolute; left: 0; top: 0; z-index: 1;\")\n",
       "\n",
       "    var pass_mouse_events = true;\n",
       "\n",
       "    canvas_div.resizable({\n",
       "        start: function(event, ui) {\n",
       "            pass_mouse_events = false;\n",
       "        },\n",
       "        resize: function(event, ui) {\n",
       "            fig.request_resize(ui.size.width, ui.size.height);\n",
       "        },\n",
       "        stop: function(event, ui) {\n",
       "            pass_mouse_events = true;\n",
       "            fig.request_resize(ui.size.width, ui.size.height);\n",
       "        },\n",
       "    });\n",
       "\n",
       "    function mouse_event_fn(event) {\n",
       "        if (pass_mouse_events)\n",
       "            return fig.mouse_event(event, event['data']);\n",
       "    }\n",
       "\n",
       "    rubberband.mousedown('button_press', mouse_event_fn);\n",
       "    rubberband.mouseup('button_release', mouse_event_fn);\n",
       "    // Throttle sequential mouse events to 1 every 20ms.\n",
       "    rubberband.mousemove('motion_notify', mouse_event_fn);\n",
       "\n",
       "    rubberband.mouseenter('figure_enter', mouse_event_fn);\n",
       "    rubberband.mouseleave('figure_leave', mouse_event_fn);\n",
       "\n",
       "    canvas_div.on(\"wheel\", function (event) {\n",
       "        event = event.originalEvent;\n",
       "        event['data'] = 'scroll'\n",
       "        if (event.deltaY < 0) {\n",
       "            event.step = 1;\n",
       "        } else {\n",
       "            event.step = -1;\n",
       "        }\n",
       "        mouse_event_fn(event);\n",
       "    });\n",
       "\n",
       "    canvas_div.append(canvas);\n",
       "    canvas_div.append(rubberband);\n",
       "\n",
       "    this.rubberband = rubberband;\n",
       "    this.rubberband_canvas = rubberband[0];\n",
       "    this.rubberband_context = rubberband[0].getContext(\"2d\");\n",
       "    this.rubberband_context.strokeStyle = \"#000000\";\n",
       "\n",
       "    this._resize_canvas = function(width, height) {\n",
       "        // Keep the size of the canvas, canvas container, and rubber band\n",
       "        // canvas in synch.\n",
       "        canvas_div.css('width', width)\n",
       "        canvas_div.css('height', height)\n",
       "\n",
       "        canvas.attr('width', width * mpl.ratio);\n",
       "        canvas.attr('height', height * mpl.ratio);\n",
       "        canvas.attr('style', 'width: ' + width + 'px; height: ' + height + 'px;');\n",
       "\n",
       "        rubberband.attr('width', width);\n",
       "        rubberband.attr('height', height);\n",
       "    }\n",
       "\n",
       "    // Set the figure to an initial 600x600px, this will subsequently be updated\n",
       "    // upon first draw.\n",
       "    this._resize_canvas(600, 600);\n",
       "\n",
       "    // Disable right mouse context menu.\n",
       "    $(this.rubberband_canvas).bind(\"contextmenu\",function(e){\n",
       "        return false;\n",
       "    });\n",
       "\n",
       "    function set_focus () {\n",
       "        canvas.focus();\n",
       "        canvas_div.focus();\n",
       "    }\n",
       "\n",
       "    window.setTimeout(set_focus, 100);\n",
       "}\n",
       "\n",
       "mpl.figure.prototype._init_toolbar = function() {\n",
       "    var fig = this;\n",
       "\n",
       "    var nav_element = $('<div/>')\n",
       "    nav_element.attr('style', 'width: 100%');\n",
       "    this.root.append(nav_element);\n",
       "\n",
       "    // Define a callback function for later on.\n",
       "    function toolbar_event(event) {\n",
       "        return fig.toolbar_button_onclick(event['data']);\n",
       "    }\n",
       "    function toolbar_mouse_event(event) {\n",
       "        return fig.toolbar_button_onmouseover(event['data']);\n",
       "    }\n",
       "\n",
       "    for(var toolbar_ind in mpl.toolbar_items) {\n",
       "        var name = mpl.toolbar_items[toolbar_ind][0];\n",
       "        var tooltip = mpl.toolbar_items[toolbar_ind][1];\n",
       "        var image = mpl.toolbar_items[toolbar_ind][2];\n",
       "        var method_name = mpl.toolbar_items[toolbar_ind][3];\n",
       "\n",
       "        if (!name) {\n",
       "            // put a spacer in here.\n",
       "            continue;\n",
       "        }\n",
       "        var button = $('<button/>');\n",
       "        button.addClass('ui-button ui-widget ui-state-default ui-corner-all ' +\n",
       "                        'ui-button-icon-only');\n",
       "        button.attr('role', 'button');\n",
       "        button.attr('aria-disabled', 'false');\n",
       "        button.click(method_name, toolbar_event);\n",
       "        button.mouseover(tooltip, toolbar_mouse_event);\n",
       "\n",
       "        var icon_img = $('<span/>');\n",
       "        icon_img.addClass('ui-button-icon-primary ui-icon');\n",
       "        icon_img.addClass(image);\n",
       "        icon_img.addClass('ui-corner-all');\n",
       "\n",
       "        var tooltip_span = $('<span/>');\n",
       "        tooltip_span.addClass('ui-button-text');\n",
       "        tooltip_span.html(tooltip);\n",
       "\n",
       "        button.append(icon_img);\n",
       "        button.append(tooltip_span);\n",
       "\n",
       "        nav_element.append(button);\n",
       "    }\n",
       "\n",
       "    var fmt_picker_span = $('<span/>');\n",
       "\n",
       "    var fmt_picker = $('<select/>');\n",
       "    fmt_picker.addClass('mpl-toolbar-option ui-widget ui-widget-content');\n",
       "    fmt_picker_span.append(fmt_picker);\n",
       "    nav_element.append(fmt_picker_span);\n",
       "    this.format_dropdown = fmt_picker[0];\n",
       "\n",
       "    for (var ind in mpl.extensions) {\n",
       "        var fmt = mpl.extensions[ind];\n",
       "        var option = $(\n",
       "            '<option/>', {selected: fmt === mpl.default_extension}).html(fmt);\n",
       "        fmt_picker.append(option)\n",
       "    }\n",
       "\n",
       "    // Add hover states to the ui-buttons\n",
       "    $( \".ui-button\" ).hover(\n",
       "        function() { $(this).addClass(\"ui-state-hover\");},\n",
       "        function() { $(this).removeClass(\"ui-state-hover\");}\n",
       "    );\n",
       "\n",
       "    var status_bar = $('<span class=\"mpl-message\"/>');\n",
       "    nav_element.append(status_bar);\n",
       "    this.message = status_bar[0];\n",
       "}\n",
       "\n",
       "mpl.figure.prototype.request_resize = function(x_pixels, y_pixels) {\n",
       "    // Request matplotlib to resize the figure. Matplotlib will then trigger a resize in the client,\n",
       "    // which will in turn request a refresh of the image.\n",
       "    this.send_message('resize', {'width': x_pixels, 'height': y_pixels});\n",
       "}\n",
       "\n",
       "mpl.figure.prototype.send_message = function(type, properties) {\n",
       "    properties['type'] = type;\n",
       "    properties['figure_id'] = this.id;\n",
       "    this.ws.send(JSON.stringify(properties));\n",
       "}\n",
       "\n",
       "mpl.figure.prototype.send_draw_message = function() {\n",
       "    if (!this.waiting) {\n",
       "        this.waiting = true;\n",
       "        this.ws.send(JSON.stringify({type: \"draw\", figure_id: this.id}));\n",
       "    }\n",
       "}\n",
       "\n",
       "\n",
       "mpl.figure.prototype.handle_save = function(fig, msg) {\n",
       "    var format_dropdown = fig.format_dropdown;\n",
       "    var format = format_dropdown.options[format_dropdown.selectedIndex].value;\n",
       "    fig.ondownload(fig, format);\n",
       "}\n",
       "\n",
       "\n",
       "mpl.figure.prototype.handle_resize = function(fig, msg) {\n",
       "    var size = msg['size'];\n",
       "    if (size[0] != fig.canvas.width || size[1] != fig.canvas.height) {\n",
       "        fig._resize_canvas(size[0], size[1]);\n",
       "        fig.send_message(\"refresh\", {});\n",
       "    };\n",
       "}\n",
       "\n",
       "mpl.figure.prototype.handle_rubberband = function(fig, msg) {\n",
       "    var x0 = msg['x0'] / mpl.ratio;\n",
       "    var y0 = (fig.canvas.height - msg['y0']) / mpl.ratio;\n",
       "    var x1 = msg['x1'] / mpl.ratio;\n",
       "    var y1 = (fig.canvas.height - msg['y1']) / mpl.ratio;\n",
       "    x0 = Math.floor(x0) + 0.5;\n",
       "    y0 = Math.floor(y0) + 0.5;\n",
       "    x1 = Math.floor(x1) + 0.5;\n",
       "    y1 = Math.floor(y1) + 0.5;\n",
       "    var min_x = Math.min(x0, x1);\n",
       "    var min_y = Math.min(y0, y1);\n",
       "    var width = Math.abs(x1 - x0);\n",
       "    var height = Math.abs(y1 - y0);\n",
       "\n",
       "    fig.rubberband_context.clearRect(\n",
       "        0, 0, fig.canvas.width, fig.canvas.height);\n",
       "\n",
       "    fig.rubberband_context.strokeRect(min_x, min_y, width, height);\n",
       "}\n",
       "\n",
       "mpl.figure.prototype.handle_figure_label = function(fig, msg) {\n",
       "    // Updates the figure title.\n",
       "    fig.header.textContent = msg['label'];\n",
       "}\n",
       "\n",
       "mpl.figure.prototype.handle_cursor = function(fig, msg) {\n",
       "    var cursor = msg['cursor'];\n",
       "    switch(cursor)\n",
       "    {\n",
       "    case 0:\n",
       "        cursor = 'pointer';\n",
       "        break;\n",
       "    case 1:\n",
       "        cursor = 'default';\n",
       "        break;\n",
       "    case 2:\n",
       "        cursor = 'crosshair';\n",
       "        break;\n",
       "    case 3:\n",
       "        cursor = 'move';\n",
       "        break;\n",
       "    }\n",
       "    fig.rubberband_canvas.style.cursor = cursor;\n",
       "}\n",
       "\n",
       "mpl.figure.prototype.handle_message = function(fig, msg) {\n",
       "    fig.message.textContent = msg['message'];\n",
       "}\n",
       "\n",
       "mpl.figure.prototype.handle_draw = function(fig, msg) {\n",
       "    // Request the server to send over a new figure.\n",
       "    fig.send_draw_message();\n",
       "}\n",
       "\n",
       "mpl.figure.prototype.handle_image_mode = function(fig, msg) {\n",
       "    fig.image_mode = msg['mode'];\n",
       "}\n",
       "\n",
       "mpl.figure.prototype.updated_canvas_event = function() {\n",
       "    // Called whenever the canvas gets updated.\n",
       "    this.send_message(\"ack\", {});\n",
       "}\n",
       "\n",
       "// A function to construct a web socket function for onmessage handling.\n",
       "// Called in the figure constructor.\n",
       "mpl.figure.prototype._make_on_message_function = function(fig) {\n",
       "    return function socket_on_message(evt) {\n",
       "        if (evt.data instanceof Blob) {\n",
       "            /* FIXME: We get \"Resource interpreted as Image but\n",
       "             * transferred with MIME type text/plain:\" errors on\n",
       "             * Chrome.  But how to set the MIME type?  It doesn't seem\n",
       "             * to be part of the websocket stream */\n",
       "            evt.data.type = \"image/png\";\n",
       "\n",
       "            /* Free the memory for the previous frames */\n",
       "            if (fig.imageObj.src) {\n",
       "                (window.URL || window.webkitURL).revokeObjectURL(\n",
       "                    fig.imageObj.src);\n",
       "            }\n",
       "\n",
       "            fig.imageObj.src = (window.URL || window.webkitURL).createObjectURL(\n",
       "                evt.data);\n",
       "            fig.updated_canvas_event();\n",
       "            fig.waiting = false;\n",
       "            return;\n",
       "        }\n",
       "        else if (typeof evt.data === 'string' && evt.data.slice(0, 21) == \"data:image/png;base64\") {\n",
       "            fig.imageObj.src = evt.data;\n",
       "            fig.updated_canvas_event();\n",
       "            fig.waiting = false;\n",
       "            return;\n",
       "        }\n",
       "\n",
       "        var msg = JSON.parse(evt.data);\n",
       "        var msg_type = msg['type'];\n",
       "\n",
       "        // Call the  \"handle_{type}\" callback, which takes\n",
       "        // the figure and JSON message as its only arguments.\n",
       "        try {\n",
       "            var callback = fig[\"handle_\" + msg_type];\n",
       "        } catch (e) {\n",
       "            console.log(\"No handler for the '\" + msg_type + \"' message type: \", msg);\n",
       "            return;\n",
       "        }\n",
       "\n",
       "        if (callback) {\n",
       "            try {\n",
       "                // console.log(\"Handling '\" + msg_type + \"' message: \", msg);\n",
       "                callback(fig, msg);\n",
       "            } catch (e) {\n",
       "                console.log(\"Exception inside the 'handler_\" + msg_type + \"' callback:\", e, e.stack, msg);\n",
       "            }\n",
       "        }\n",
       "    };\n",
       "}\n",
       "\n",
       "// from http://stackoverflow.com/questions/1114465/getting-mouse-location-in-canvas\n",
       "mpl.findpos = function(e) {\n",
       "    //this section is from http://www.quirksmode.org/js/events_properties.html\n",
       "    var targ;\n",
       "    if (!e)\n",
       "        e = window.event;\n",
       "    if (e.target)\n",
       "        targ = e.target;\n",
       "    else if (e.srcElement)\n",
       "        targ = e.srcElement;\n",
       "    if (targ.nodeType == 3) // defeat Safari bug\n",
       "        targ = targ.parentNode;\n",
       "\n",
       "    // jQuery normalizes the pageX and pageY\n",
       "    // pageX,Y are the mouse positions relative to the document\n",
       "    // offset() returns the position of the element relative to the document\n",
       "    var x = e.pageX - $(targ).offset().left;\n",
       "    var y = e.pageY - $(targ).offset().top;\n",
       "\n",
       "    return {\"x\": x, \"y\": y};\n",
       "};\n",
       "\n",
       "/*\n",
       " * return a copy of an object with only non-object keys\n",
       " * we need this to avoid circular references\n",
       " * http://stackoverflow.com/a/24161582/3208463\n",
       " */\n",
       "function simpleKeys (original) {\n",
       "  return Object.keys(original).reduce(function (obj, key) {\n",
       "    if (typeof original[key] !== 'object')\n",
       "        obj[key] = original[key]\n",
       "    return obj;\n",
       "  }, {});\n",
       "}\n",
       "\n",
       "mpl.figure.prototype.mouse_event = function(event, name) {\n",
       "    var canvas_pos = mpl.findpos(event)\n",
       "\n",
       "    if (name === 'button_press')\n",
       "    {\n",
       "        this.canvas.focus();\n",
       "        this.canvas_div.focus();\n",
       "    }\n",
       "\n",
       "    var x = canvas_pos.x * mpl.ratio;\n",
       "    var y = canvas_pos.y * mpl.ratio;\n",
       "\n",
       "    this.send_message(name, {x: x, y: y, button: event.button,\n",
       "                             step: event.step,\n",
       "                             guiEvent: simpleKeys(event)});\n",
       "\n",
       "    /* This prevents the web browser from automatically changing to\n",
       "     * the text insertion cursor when the button is pressed.  We want\n",
       "     * to control all of the cursor setting manually through the\n",
       "     * 'cursor' event from matplotlib */\n",
       "    event.preventDefault();\n",
       "    return false;\n",
       "}\n",
       "\n",
       "mpl.figure.prototype._key_event_extra = function(event, name) {\n",
       "    // Handle any extra behaviour associated with a key event\n",
       "}\n",
       "\n",
       "mpl.figure.prototype.key_event = function(event, name) {\n",
       "\n",
       "    // Prevent repeat events\n",
       "    if (name == 'key_press')\n",
       "    {\n",
       "        if (event.which === this._key)\n",
       "            return;\n",
       "        else\n",
       "            this._key = event.which;\n",
       "    }\n",
       "    if (name == 'key_release')\n",
       "        this._key = null;\n",
       "\n",
       "    var value = '';\n",
       "    if (event.ctrlKey && event.which != 17)\n",
       "        value += \"ctrl+\";\n",
       "    if (event.altKey && event.which != 18)\n",
       "        value += \"alt+\";\n",
       "    if (event.shiftKey && event.which != 16)\n",
       "        value += \"shift+\";\n",
       "\n",
       "    value += 'k';\n",
       "    value += event.which.toString();\n",
       "\n",
       "    this._key_event_extra(event, name);\n",
       "\n",
       "    this.send_message(name, {key: value,\n",
       "                             guiEvent: simpleKeys(event)});\n",
       "    return false;\n",
       "}\n",
       "\n",
       "mpl.figure.prototype.toolbar_button_onclick = function(name) {\n",
       "    if (name == 'download') {\n",
       "        this.handle_save(this, null);\n",
       "    } else {\n",
       "        this.send_message(\"toolbar_button\", {name: name});\n",
       "    }\n",
       "};\n",
       "\n",
       "mpl.figure.prototype.toolbar_button_onmouseover = function(tooltip) {\n",
       "    this.message.textContent = tooltip;\n",
       "};\n",
       "mpl.toolbar_items = [[\"Home\", \"Reset original view\", \"fa fa-home icon-home\", \"home\"], [\"Back\", \"Back to previous view\", \"fa fa-arrow-left icon-arrow-left\", \"back\"], [\"Forward\", \"Forward to next view\", \"fa fa-arrow-right icon-arrow-right\", \"forward\"], [\"\", \"\", \"\", \"\"], [\"Pan\", \"Pan axes with left mouse, zoom with right\", \"fa fa-arrows icon-move\", \"pan\"], [\"Zoom\", \"Zoom to rectangle\", \"fa fa-square-o icon-check-empty\", \"zoom\"], [\"\", \"\", \"\", \"\"], [\"Download\", \"Download plot\", \"fa fa-floppy-o icon-save\", \"download\"]];\n",
       "\n",
       "mpl.extensions = [\"eps\", \"jpeg\", \"pdf\", \"png\", \"ps\", \"raw\", \"svg\", \"tif\"];\n",
       "\n",
       "mpl.default_extension = \"png\";var comm_websocket_adapter = function(comm) {\n",
       "    // Create a \"websocket\"-like object which calls the given IPython comm\n",
       "    // object with the appropriate methods. Currently this is a non binary\n",
       "    // socket, so there is still some room for performance tuning.\n",
       "    var ws = {};\n",
       "\n",
       "    ws.close = function() {\n",
       "        comm.close()\n",
       "    };\n",
       "    ws.send = function(m) {\n",
       "        //console.log('sending', m);\n",
       "        comm.send(m);\n",
       "    };\n",
       "    // Register the callback with on_msg.\n",
       "    comm.on_msg(function(msg) {\n",
       "        //console.log('receiving', msg['content']['data'], msg);\n",
       "        // Pass the mpl event to the overridden (by mpl) onmessage function.\n",
       "        ws.onmessage(msg['content']['data'])\n",
       "    });\n",
       "    return ws;\n",
       "}\n",
       "\n",
       "mpl.mpl_figure_comm = function(comm, msg) {\n",
       "    // This is the function which gets called when the mpl process\n",
       "    // starts-up an IPython Comm through the \"matplotlib\" channel.\n",
       "\n",
       "    var id = msg.content.data.id;\n",
       "    // Get hold of the div created by the display call when the Comm\n",
       "    // socket was opened in Python.\n",
       "    var element = $(\"#\" + id);\n",
       "    var ws_proxy = comm_websocket_adapter(comm)\n",
       "\n",
       "    function ondownload(figure, format) {\n",
       "        window.open(figure.imageObj.src);\n",
       "    }\n",
       "\n",
       "    var fig = new mpl.figure(id, ws_proxy,\n",
       "                           ondownload,\n",
       "                           element.get(0));\n",
       "\n",
       "    // Call onopen now - mpl needs it, as it is assuming we've passed it a real\n",
       "    // web socket which is closed, not our websocket->open comm proxy.\n",
       "    ws_proxy.onopen();\n",
       "\n",
       "    fig.parent_element = element.get(0);\n",
       "    fig.cell_info = mpl.find_output_cell(\"<div id='\" + id + \"'></div>\");\n",
       "    if (!fig.cell_info) {\n",
       "        console.error(\"Failed to find cell for figure\", id, fig);\n",
       "        return;\n",
       "    }\n",
       "\n",
       "    var output_index = fig.cell_info[2]\n",
       "    var cell = fig.cell_info[0];\n",
       "\n",
       "};\n",
       "\n",
       "mpl.figure.prototype.handle_close = function(fig, msg) {\n",
       "    var width = fig.canvas.width/mpl.ratio\n",
       "    fig.root.unbind('remove')\n",
       "\n",
       "    // Update the output cell to use the data from the current canvas.\n",
       "    fig.push_to_output();\n",
       "    var dataURL = fig.canvas.toDataURL();\n",
       "    // Re-enable the keyboard manager in IPython - without this line, in FF,\n",
       "    // the notebook keyboard shortcuts fail.\n",
       "    IPython.keyboard_manager.enable()\n",
       "    $(fig.parent_element).html('<img src=\"' + dataURL + '\" width=\"' + width + '\">');\n",
       "    fig.close_ws(fig, msg);\n",
       "}\n",
       "\n",
       "mpl.figure.prototype.close_ws = function(fig, msg){\n",
       "    fig.send_message('closing', msg);\n",
       "    // fig.ws.close()\n",
       "}\n",
       "\n",
       "mpl.figure.prototype.push_to_output = function(remove_interactive) {\n",
       "    // Turn the data on the canvas into data in the output cell.\n",
       "    var width = this.canvas.width/mpl.ratio\n",
       "    var dataURL = this.canvas.toDataURL();\n",
       "    this.cell_info[1]['text/html'] = '<img src=\"' + dataURL + '\" width=\"' + width + '\">';\n",
       "}\n",
       "\n",
       "mpl.figure.prototype.updated_canvas_event = function() {\n",
       "    // Tell IPython that the notebook contents must change.\n",
       "    IPython.notebook.set_dirty(true);\n",
       "    this.send_message(\"ack\", {});\n",
       "    var fig = this;\n",
       "    // Wait a second, then push the new image to the DOM so\n",
       "    // that it is saved nicely (might be nice to debounce this).\n",
       "    setTimeout(function () { fig.push_to_output() }, 1000);\n",
       "}\n",
       "\n",
       "mpl.figure.prototype._init_toolbar = function() {\n",
       "    var fig = this;\n",
       "\n",
       "    var nav_element = $('<div/>')\n",
       "    nav_element.attr('style', 'width: 100%');\n",
       "    this.root.append(nav_element);\n",
       "\n",
       "    // Define a callback function for later on.\n",
       "    function toolbar_event(event) {\n",
       "        return fig.toolbar_button_onclick(event['data']);\n",
       "    }\n",
       "    function toolbar_mouse_event(event) {\n",
       "        return fig.toolbar_button_onmouseover(event['data']);\n",
       "    }\n",
       "\n",
       "    for(var toolbar_ind in mpl.toolbar_items){\n",
       "        var name = mpl.toolbar_items[toolbar_ind][0];\n",
       "        var tooltip = mpl.toolbar_items[toolbar_ind][1];\n",
       "        var image = mpl.toolbar_items[toolbar_ind][2];\n",
       "        var method_name = mpl.toolbar_items[toolbar_ind][3];\n",
       "\n",
       "        if (!name) { continue; };\n",
       "\n",
       "        var button = $('<button class=\"btn btn-default\" href=\"#\" title=\"' + name + '\"><i class=\"fa ' + image + ' fa-lg\"></i></button>');\n",
       "        button.click(method_name, toolbar_event);\n",
       "        button.mouseover(tooltip, toolbar_mouse_event);\n",
       "        nav_element.append(button);\n",
       "    }\n",
       "\n",
       "    // Add the status bar.\n",
       "    var status_bar = $('<span class=\"mpl-message\" style=\"text-align:right; float: right;\"/>');\n",
       "    nav_element.append(status_bar);\n",
       "    this.message = status_bar[0];\n",
       "\n",
       "    // Add the close button to the window.\n",
       "    var buttongrp = $('<div class=\"btn-group inline pull-right\"></div>');\n",
       "    var button = $('<button class=\"btn btn-mini btn-primary\" href=\"#\" title=\"Stop Interaction\"><i class=\"fa fa-power-off icon-remove icon-large\"></i></button>');\n",
       "    button.click(function (evt) { fig.handle_close(fig, {}); } );\n",
       "    button.mouseover('Stop Interaction', toolbar_mouse_event);\n",
       "    buttongrp.append(button);\n",
       "    var titlebar = this.root.find($('.ui-dialog-titlebar'));\n",
       "    titlebar.prepend(buttongrp);\n",
       "}\n",
       "\n",
       "mpl.figure.prototype._root_extra_style = function(el){\n",
       "    var fig = this\n",
       "    el.on(\"remove\", function(){\n",
       "\tfig.close_ws(fig, {});\n",
       "    });\n",
       "}\n",
       "\n",
       "mpl.figure.prototype._canvas_extra_style = function(el){\n",
       "    // this is important to make the div 'focusable\n",
       "    el.attr('tabindex', 0)\n",
       "    // reach out to IPython and tell the keyboard manager to turn it's self\n",
       "    // off when our div gets focus\n",
       "\n",
       "    // location in version 3\n",
       "    if (IPython.notebook.keyboard_manager) {\n",
       "        IPython.notebook.keyboard_manager.register_events(el);\n",
       "    }\n",
       "    else {\n",
       "        // location in version 2\n",
       "        IPython.keyboard_manager.register_events(el);\n",
       "    }\n",
       "\n",
       "}\n",
       "\n",
       "mpl.figure.prototype._key_event_extra = function(event, name) {\n",
       "    var manager = IPython.notebook.keyboard_manager;\n",
       "    if (!manager)\n",
       "        manager = IPython.keyboard_manager;\n",
       "\n",
       "    // Check for shift+enter\n",
       "    if (event.shiftKey && event.which == 13) {\n",
       "        this.canvas_div.blur();\n",
       "        event.shiftKey = false;\n",
       "        // Send a \"J\" for go to next cell\n",
       "        event.which = 74;\n",
       "        event.keyCode = 74;\n",
       "        manager.command_mode();\n",
       "        manager.handle_keydown(event);\n",
       "    }\n",
       "}\n",
       "\n",
       "mpl.figure.prototype.handle_save = function(fig, msg) {\n",
       "    fig.ondownload(fig, null);\n",
       "}\n",
       "\n",
       "\n",
       "mpl.find_output_cell = function(html_output) {\n",
       "    // Return the cell and output element which can be found *uniquely* in the notebook.\n",
       "    // Note - this is a bit hacky, but it is done because the \"notebook_saving.Notebook\"\n",
       "    // IPython event is triggered only after the cells have been serialised, which for\n",
       "    // our purposes (turning an active figure into a static one), is too late.\n",
       "    var cells = IPython.notebook.get_cells();\n",
       "    var ncells = cells.length;\n",
       "    for (var i=0; i<ncells; i++) {\n",
       "        var cell = cells[i];\n",
       "        if (cell.cell_type === 'code'){\n",
       "            for (var j=0; j<cell.output_area.outputs.length; j++) {\n",
       "                var data = cell.output_area.outputs[j];\n",
       "                if (data.data) {\n",
       "                    // IPython >= 3 moved mimebundle to data attribute of output\n",
       "                    data = data.data;\n",
       "                }\n",
       "                if (data['text/html'] == html_output) {\n",
       "                    return [cell, data, j];\n",
       "                }\n",
       "            }\n",
       "        }\n",
       "    }\n",
       "}\n",
       "\n",
       "// Register the function which deals with the matplotlib target/channel.\n",
       "// The kernel may be null if the page has been refreshed.\n",
       "if (IPython.notebook.kernel != null) {\n",
       "    IPython.notebook.kernel.comm_manager.register_target('matplotlib', mpl.mpl_figure_comm);\n",
       "}\n"
      ],
      "text/plain": [
       "<IPython.core.display.Javascript object>"
      ]
     },
     "metadata": {},
     "output_type": "display_data"
    },
    {
     "data": {
      "text/html": [
       "<img src=\"data:image/png;base64,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\" width=\"639.999990463257\">"
      ],
      "text/plain": [
       "<IPython.core.display.HTML object>"
      ]
     },
     "metadata": {},
     "output_type": "display_data"
    },
    {
     "data": {
      "application/vnd.jupyter.widget-view+json": {
       "model_id": "0d1d8e5352844de0ad1a36b5181885b4",
       "version_major": 2,
       "version_minor": 0
      },
      "text/plain": [
       "Button(description='Save Inputs', icon='check', layout=Layout(height='80px', width='50%'), style=ButtonStyle()…"
      ]
     },
     "metadata": {},
     "output_type": "display_data"
    },
    {
     "name": "stdout",
     "output_type": "stream",
     "text": [
      "Inputs saved and exported!\n"
     ]
    }
   ],
   "source": [
    "units = [units_length.value, ' ', units_energy.value, ' ', units_angles.value, ' ', units_magnetic_field.value]\n",
    "init_types = [f'{init_position.value}', ' ', f'{init_energy.value}', ' ', f'{init_divergence.value}']\n",
    "\n",
    "convert_beam_direction, convert_divergence_spread, convert_screen_angles = convertAngles(units, beam_direction_widgets, \n",
    "                                                                                         beam_divergence_spread_widgets, \n",
    "                                                                                         screen_angles_widgets)\n",
    "%matplotlib notebook\n",
    "DisplayAndOutput(global_bounds, units, number_of_magnets.value, magnet_dimensions_widgets, magnet_position_widgets, \n",
    "                 magnetic_field_components_widgets, number_of_particles.value, beam_start_position_widgets, \n",
    "                 beam_energy, convert_beam_direction, beam_position_spread_widgets, beam_energy_spread, \n",
    "                 convert_divergence_spread, number_of_screens.value, screen_dimensions_widgets, screen_position_widgets, \n",
    "                 convert_screen_angles, init_types)"
   ]
  },
  {
   "cell_type": "code",
   "execution_count": null,
   "metadata": {},
   "outputs": [],
   "source": []
  }
 ],
 "metadata": {
  "kernelspec": {
   "display_name": "Python 3",
   "language": "python",
   "name": "python3"
  },
  "language_info": {
   "codemirror_mode": {
    "name": "ipython",
    "version": 3
   },
   "file_extension": ".py",
   "mimetype": "text/x-python",
   "name": "python",
   "nbconvert_exporter": "python",
   "pygments_lexer": "ipython3",
   "version": "3.7.3"
  }
 },
 "nbformat": 4,
 "nbformat_minor": 2
}
