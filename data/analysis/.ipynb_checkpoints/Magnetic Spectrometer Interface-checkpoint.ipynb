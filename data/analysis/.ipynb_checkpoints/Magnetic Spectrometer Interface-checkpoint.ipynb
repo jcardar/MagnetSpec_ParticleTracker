{
 "cells": [
  {
   "cell_type": "markdown",
   "metadata": {},
   "source": [
    "Define interactive variables to set up particle stepper (static and variable), and then have user define figure of merit.<br>\n",
    "Write out in either .csv or .txt file (idea: in .csv file, have rows correspond to objects (ie, magnets, particle beam, etc) and have the first column represent the number of those objects (magnets, beams, etc), and the remaining columns an ordered list of values defining those objects, to read from left to right, spanning all of the relevant objects).<br>\n",
    "Have c++ code read this, and define objects with 'for' loops."
   ]
  },
  {
   "cell_type": "markdown",
   "metadata": {},
   "source": [
    "Items to define for input deck:<br>\n",
    "1. Magnet: Center of Entrance Plane, Length, Width, Height, magnetic field strength (vector) (x-component, y-component, z-component)\n",
    "2. Beam: number of particles, central starting position, central energy, central direction (angles from axes (angle for x determined from angles for y and z, and is silently ignored))\n",
    "3. Beam: spread in starting position, spread in central energy, spread in divergence (user input FWHM of Gaussian spread, code uses 0.5 of this in spread)\n",
    "4. Screen: Low-Energy Middle, Width, Height, Angle from both z- and x-axes"
   ]
  },
  {
   "cell_type": "markdown",
   "metadata": {},
   "source": [
    "## Your preferred units:\n",
    ">Please run the next cell once to generate widget objects. Change the values in the dropdowns to the value to prefer. Do not run the cell again, the value is dynamically updated when you change the value in the dropdown menu!"
   ]
  },
  {
   "cell_type": "code",
   "execution_count": 1,
   "metadata": {},
   "outputs": [
    {
     "data": {
      "application/vnd.jupyter.widget-view+json": {
       "model_id": "a5f54d2778b241f89e4f46b9a6d78f8a",
       "version_major": 2,
       "version_minor": 0
      },
      "text/plain": [
       "Dropdown(description='Length Unit', index=1, options=('mm', 'cm', 'm'), value='cm')"
      ]
     },
     "metadata": {},
     "output_type": "display_data"
    },
    {
     "data": {
      "application/vnd.jupyter.widget-view+json": {
       "model_id": "b7c69bbf12e345169fe801d66116a46e",
       "version_major": 2,
       "version_minor": 0
      },
      "text/plain": [
       "Dropdown(description='Energy Unit', index=1, options=('eV', 'MeV', 'GeV'), value='MeV')"
      ]
     },
     "metadata": {},
     "output_type": "display_data"
    },
    {
     "data": {
      "application/vnd.jupyter.widget-view+json": {
       "model_id": "b63d8fbd6fb248dfbd810ecbef736b57",
       "version_major": 2,
       "version_minor": 0
      },
      "text/plain": [
       "Dropdown(description='Angle Unit', options=('mrad', 'Radians', 'Degrees'), value='mrad')"
      ]
     },
     "metadata": {},
     "output_type": "display_data"
    },
    {
     "data": {
      "application/vnd.jupyter.widget-view+json": {
       "model_id": "4cca423277df464c8d8617c9e9539e3f",
       "version_major": 2,
       "version_minor": 0
      },
      "text/plain": [
       "Dropdown(description='Field Unit', options=('Tesla', 'Gauss'), value='Tesla')"
      ]
     },
     "metadata": {},
     "output_type": "display_data"
    }
   ],
   "source": [
    "from magspecinterface_functions import *\n",
    "display( units_length )\n",
    "display( units_energy )\n",
    "display( units_angles )\n",
    "display( units_magnetic_field )"
   ]
  },
  {
   "cell_type": "markdown",
   "metadata": {},
   "source": [
    "## Initialization type"
   ]
  },
  {
   "cell_type": "code",
   "execution_count": 2,
   "metadata": {},
   "outputs": [
    {
     "data": {
      "application/vnd.jupyter.widget-view+json": {
       "model_id": "85c23d3d92ad4b2db2d6e071fe078c3e",
       "version_major": 2,
       "version_minor": 0
      },
      "text/plain": [
       "Dropdown(description='Position', index=2, options=(('Gaussian', 0), ('Uniform', 1), ('Scan', 2)), value=2)"
      ]
     },
     "metadata": {},
     "output_type": "display_data"
    },
    {
     "data": {
      "application/vnd.jupyter.widget-view+json": {
       "model_id": "10ab9895fb584619b63ac7f4f0f10461",
       "version_major": 2,
       "version_minor": 0
      },
      "text/plain": [
       "Dropdown(description='Energy', index=1, options=(('Gaussian', 0), ('Uniform', 1), ('Log', 2)), value=1)"
      ]
     },
     "metadata": {},
     "output_type": "display_data"
    },
    {
     "data": {
      "application/vnd.jupyter.widget-view+json": {
       "model_id": "5f8da95c9b194ac990873838eaecc269",
       "version_major": 2,
       "version_minor": 0
      },
      "text/plain": [
       "Dropdown(description='Divergence', index=2, options=(('Gaussian', 0), ('Uniform', 1), ('Scan', 2)), value=2)"
      ]
     },
     "metadata": {},
     "output_type": "display_data"
    }
   ],
   "source": [
    "display( init_position )\n",
    "display( init_energy )\n",
    "display( init_divergence )"
   ]
  },
  {
   "cell_type": "markdown",
   "metadata": {},
   "source": [
    "## Spectrometer coordinate system\n",
    "> Define the limits to the spectrometer coordinate system. You are free to choose what marks the origin.<br>\n",
    "**Note:** Global bounds may be negative."
   ]
  },
  {
   "cell_type": "code",
   "execution_count": 3,
   "metadata": {},
   "outputs": [
    {
     "data": {
      "application/vnd.jupyter.widget-view+json": {
       "model_id": "284baff358d744e58eebac46bff0f2aa",
       "version_major": 2,
       "version_minor": 0
      },
      "text/plain": [
       "FloatText(value=100.0, description='global x max')"
      ]
     },
     "metadata": {},
     "output_type": "display_data"
    },
    {
     "data": {
      "application/vnd.jupyter.widget-view+json": {
       "model_id": "d115519cfd134c6dbcc25ed118c5e771",
       "version_major": 2,
       "version_minor": 0
      },
      "text/plain": [
       "FloatText(value=-100.0, description='global x min')"
      ]
     },
     "metadata": {},
     "output_type": "display_data"
    },
    {
     "data": {
      "application/vnd.jupyter.widget-view+json": {
       "model_id": "d5861e3d051e49aea7228ab25066236f",
       "version_major": 2,
       "version_minor": 0
      },
      "text/plain": [
       "FloatText(value=100.0, description='global y max')"
      ]
     },
     "metadata": {},
     "output_type": "display_data"
    },
    {
     "data": {
      "application/vnd.jupyter.widget-view+json": {
       "model_id": "07fec4a70291497dbd2128f1c28de9e1",
       "version_major": 2,
       "version_minor": 0
      },
      "text/plain": [
       "FloatText(value=-100.0, description='global y min')"
      ]
     },
     "metadata": {},
     "output_type": "display_data"
    },
    {
     "data": {
      "application/vnd.jupyter.widget-view+json": {
       "model_id": "be3ed7cd9602494883a2a2951964e013",
       "version_major": 2,
       "version_minor": 0
      },
      "text/plain": [
       "FloatText(value=100.0, description='global z max')"
      ]
     },
     "metadata": {},
     "output_type": "display_data"
    },
    {
     "data": {
      "application/vnd.jupyter.widget-view+json": {
       "model_id": "789bf1daf5e54d8bb6cb46c6ff6fd5a5",
       "version_major": 2,
       "version_minor": 0
      },
      "text/plain": [
       "FloatText(value=-100.0, description='global z min')"
      ]
     },
     "metadata": {},
     "output_type": "display_data"
    }
   ],
   "source": [
    "for ii in range(len(global_bounds)):\n",
    "    display( global_bounds[ii] )"
   ]
  },
  {
   "cell_type": "markdown",
   "metadata": {},
   "source": [
    "## Magnet setup:\n",
    "> Number of magnets, dimensions, position, and magnetic field components."
   ]
  },
  {
   "cell_type": "markdown",
   "metadata": {},
   "source": [
    "![alt text](magnet_position.png \"Magnet_Setup\")"
   ]
  },
  {
   "cell_type": "code",
   "execution_count": 4,
   "metadata": {},
   "outputs": [
    {
     "data": {
      "application/vnd.jupyter.widget-view+json": {
       "model_id": "104552d490284549a258c28f6b4b7ee2",
       "version_major": 2,
       "version_minor": 0
      },
      "text/plain": [
       "BoundedIntText(value=1, description='# of Magnets', min=1)"
      ]
     },
     "metadata": {},
     "output_type": "display_data"
    }
   ],
   "source": [
    "display( number_of_magnets )"
   ]
  },
  {
   "cell_type": "code",
   "execution_count": 5,
   "metadata": {
    "scrolled": true
   },
   "outputs": [
    {
     "data": {
      "application/vnd.jupyter.widget-view+json": {
       "model_id": "8898940f837b436890dde2156d644fe9",
       "version_major": 2,
       "version_minor": 0
      },
      "text/plain": [
       "BoundedFloatText(value=0.0, description='width 1', max=50.0)"
      ]
     },
     "metadata": {},
     "output_type": "display_data"
    },
    {
     "data": {
      "application/vnd.jupyter.widget-view+json": {
       "model_id": "8270557dddcc4aa4b279ffb815af1101",
       "version_major": 2,
       "version_minor": 0
      },
      "text/plain": [
       "BoundedFloatText(value=0.0, description='length 1')"
      ]
     },
     "metadata": {},
     "output_type": "display_data"
    },
    {
     "data": {
      "application/vnd.jupyter.widget-view+json": {
       "model_id": "5e9a2811a0dd4841bbef72a9d357cc92",
       "version_major": 2,
       "version_minor": 0
      },
      "text/plain": [
       "BoundedFloatText(value=0.0, description='height 1', max=50.0)"
      ]
     },
     "metadata": {},
     "output_type": "display_data"
    }
   ],
   "source": [
    "magnet_dimensions_widgets = dynamicFloatValue_Magnet_Dimensions(number_of_magnets.value, global_bounds)\n",
    "for ii in range(len(magnet_dimensions_widgets)):\n",
    "    display( magnet_dimensions_widgets[ii] )"
   ]
  },
  {
   "cell_type": "markdown",
   "metadata": {},
   "source": [
    "> **Note:** This is **not** a dimension of the space between magnets. This is the dimension of one permanent magnet parallel to the separation between the magnets."
   ]
  },
  {
   "cell_type": "code",
   "execution_count": 6,
   "metadata": {},
   "outputs": [
    {
     "data": {
      "application/vnd.jupyter.widget-view+json": {
       "model_id": "8bcfcbfab8c7475b82f9428cf3704380",
       "version_major": 2,
       "version_minor": 0
      },
      "text/plain": [
       "FloatText(value=0.0, description='dimension 1')"
      ]
     },
     "metadata": {},
     "output_type": "display_data"
    }
   ],
   "source": [
    "permanent_dimension_widgets = dynamicFloatValue_Permanent_Magnet_Dimension(number_of_magnets.value)\n",
    "for ii in range(len(permanent_dimension_widgets)):\n",
    "    display( permanent_dimension_widgets[ii] )"
   ]
  },
  {
   "cell_type": "markdown",
   "metadata": {},
   "source": [
    "> **Important:** Position value limits are based on global bounds and magnet dimensions. Please re-run the below cell if values for either change."
   ]
  },
  {
   "cell_type": "code",
   "execution_count": 7,
   "metadata": {
    "scrolled": true
   },
   "outputs": [
    {
     "data": {
      "application/vnd.jupyter.widget-view+json": {
       "model_id": "f3ddf48eb9394e82ad51a35385bbddbe",
       "version_major": 2,
       "version_minor": 0
      },
      "text/plain": [
       "BoundedFloatText(value=0.0, description='x pos 1', max=70.0, min=-20.0)"
      ]
     },
     "metadata": {},
     "output_type": "display_data"
    },
    {
     "data": {
      "application/vnd.jupyter.widget-view+json": {
       "model_id": "2d47fa7e7e574c3fa4c5e44fdfebdb66",
       "version_major": 2,
       "version_minor": 0
      },
      "text/plain": [
       "BoundedFloatText(value=0.0, description='y pos 1', max=45.0, min=-45.0)"
      ]
     },
     "metadata": {},
     "output_type": "display_data"
    },
    {
     "data": {
      "application/vnd.jupyter.widget-view+json": {
       "model_id": "1a9364ae9c924056b9feb1046a7df71a",
       "version_major": 2,
       "version_minor": 0
      },
      "text/plain": [
       "BoundedFloatText(value=0.0, description='z pos 1', max=48.5, min=-48.5)"
      ]
     },
     "metadata": {},
     "output_type": "display_data"
    }
   ],
   "source": [
    "magnet_position_widgets = dynamicFloatValue_Magnet_Position(number_of_magnets.value, magnet_dimensions_widgets,\n",
    "                                                            global_bounds)\n",
    "for ii in range(len(magnet_position_widgets)):\n",
    "    display( magnet_position_widgets[ii] )"
   ]
  },
  {
   "cell_type": "code",
   "execution_count": 8,
   "metadata": {
    "scrolled": true
   },
   "outputs": [
    {
     "data": {
      "application/vnd.jupyter.widget-view+json": {
       "model_id": "9c7068b323144fc69fc16d2f8dff23fd",
       "version_major": 2,
       "version_minor": 0
      },
      "text/plain": [
       "FloatText(value=1.0, description='B field 1')"
      ]
     },
     "metadata": {},
     "output_type": "display_data"
    },
    {
     "data": {
      "application/vnd.jupyter.widget-view+json": {
       "model_id": "2aabc76d253d40a9b81987eb1804096d",
       "version_major": 2,
       "version_minor": 0
      },
      "text/plain": [
       "Dropdown(description='along the', index=2, options=(('x-axis', 'x'), ('y-axis', 'y'), ('z-axis', 'z')), value=…"
      ]
     },
     "metadata": {},
     "output_type": "display_data"
    }
   ],
   "source": [
    "magnetic_field_values_widgets = dynamicFloatValue_Magnetic_Field_Value(number_of_magnets.value)\n",
    "magnetic_field_axes_widgets = dynamicFloatValue_Magnetic_Field_Axis(number_of_magnets.value)\n",
    "for ii in range(len(magnetic_field_values_widgets)):\n",
    "    display( magnetic_field_values_widgets[ii] )\n",
    "    display( magnetic_field_axes_widgets[ii] )"
   ]
  },
  {
   "cell_type": "markdown",
   "metadata": {},
   "source": [
    "## Beam Setup:\n",
    ">Number of particles, starting position, energy, direction.<br>\n",
    "**Note:** Please input values referencing the beam center. Direction is given by angle from axes."
   ]
  },
  {
   "cell_type": "code",
   "execution_count": 9,
   "metadata": {},
   "outputs": [
    {
     "data": {
      "application/vnd.jupyter.widget-view+json": {
       "model_id": "1951e41363484bff9f4006767f59fb52",
       "version_major": 2,
       "version_minor": 0
      },
      "text/plain": [
       "BoundedIntText(value=1, description='# of Particles', max=999999, min=1)"
      ]
     },
     "metadata": {},
     "output_type": "display_data"
    }
   ],
   "source": [
    "display( number_of_particles )"
   ]
  },
  {
   "cell_type": "code",
   "execution_count": 10,
   "metadata": {},
   "outputs": [
    {
     "data": {
      "application/vnd.jupyter.widget-view+json": {
       "model_id": "f5362009d90c48e382618bae94924799",
       "version_major": 2,
       "version_minor": 0
      },
      "text/plain": [
       "BoundedFloatText(value=0.0, description='x start pos', min=-20.0)"
      ]
     },
     "metadata": {},
     "output_type": "display_data"
    },
    {
     "data": {
      "application/vnd.jupyter.widget-view+json": {
       "model_id": "d9c85bce6b7443959b951eda201c6e5a",
       "version_major": 2,
       "version_minor": 0
      },
      "text/plain": [
       "BoundedFloatText(value=0.0, description='y start pos', max=50.0, min=-50.0)"
      ]
     },
     "metadata": {},
     "output_type": "display_data"
    },
    {
     "data": {
      "application/vnd.jupyter.widget-view+json": {
       "model_id": "17d3ce0a9c2f4651a1ca080228614d3d",
       "version_major": 2,
       "version_minor": 0
      },
      "text/plain": [
       "BoundedFloatText(value=0.0, description='z start pos', max=50.0, min=-50.0)"
      ]
     },
     "metadata": {},
     "output_type": "display_data"
    }
   ],
   "source": [
    "beam_start_position_widgets = dynamicFloatValue_Beam_Start_Position(global_bounds)\n",
    "for ii in range(len(beam_start_position_widgets)):\n",
    "    display( beam_start_position_widgets[ii] )"
   ]
  },
  {
   "cell_type": "code",
   "execution_count": 11,
   "metadata": {},
   "outputs": [
    {
     "data": {
      "application/vnd.jupyter.widget-view+json": {
       "model_id": "a963e98a8b9f4e5d8512229ba628ad50",
       "version_major": 2,
       "version_minor": 0
      },
      "text/plain": [
       "BoundedFloatText(value=1.0, description='beam energy', max=9999999.0)"
      ]
     },
     "metadata": {},
     "output_type": "display_data"
    }
   ],
   "source": [
    "display(beam_energy)"
   ]
  },
  {
   "cell_type": "code",
   "execution_count": 12,
   "metadata": {},
   "outputs": [
    {
     "data": {
      "application/vnd.jupyter.widget-view+json": {
       "model_id": "83696251b43248ea9ed9e8d0517d149e",
       "version_major": 2,
       "version_minor": 0
      },
      "text/plain": [
       "FloatText(value=0.0, description='x angle')"
      ]
     },
     "metadata": {},
     "output_type": "display_data"
    },
    {
     "data": {
      "application/vnd.jupyter.widget-view+json": {
       "model_id": "d78f81240eba4f34bbfbf47d3ed79579",
       "version_major": 2,
       "version_minor": 0
      },
      "text/plain": [
       "FloatText(value=1570.7963267948965, description='y angle')"
      ]
     },
     "metadata": {},
     "output_type": "display_data"
    },
    {
     "data": {
      "application/vnd.jupyter.widget-view+json": {
       "model_id": "3572f69de4514635aaa21b24f8fbcbd8",
       "version_major": 2,
       "version_minor": 0
      },
      "text/plain": [
       "FloatText(value=1570.7963267948965, description='z angle')"
      ]
     },
     "metadata": {},
     "output_type": "display_data"
    }
   ],
   "source": [
    "beam_direction_widgets = dynamicFloatValue_Beam_Direction(units_angles.value)\n",
    "for ii in range(len(beam_direction_widgets)):\n",
    "    display( beam_direction_widgets[ii] )"
   ]
  },
  {
   "cell_type": "markdown",
   "metadata": {},
   "source": [
    "## Beam Spread:\n",
    ">Spread in starting position, energy, and divergence."
   ]
  },
  {
   "cell_type": "code",
   "execution_count": 13,
   "metadata": {},
   "outputs": [
    {
     "data": {
      "application/vnd.jupyter.widget-view+json": {
       "model_id": "0e0aa2903eb741059dc4c8e19683db9f",
       "version_major": 2,
       "version_minor": 0
      },
      "text/plain": [
       "FloatText(value=0.0, description='x pos spread')"
      ]
     },
     "metadata": {},
     "output_type": "display_data"
    },
    {
     "data": {
      "application/vnd.jupyter.widget-view+json": {
       "model_id": "0449676e809747998bd139376d3438bc",
       "version_major": 2,
       "version_minor": 0
      },
      "text/plain": [
       "FloatText(value=0.0, description='y pos spread')"
      ]
     },
     "metadata": {},
     "output_type": "display_data"
    },
    {
     "data": {
      "application/vnd.jupyter.widget-view+json": {
       "model_id": "7c1b6842a9364e048c9c637ac8a81c4a",
       "version_major": 2,
       "version_minor": 0
      },
      "text/plain": [
       "FloatText(value=0.0, description='z pos spread')"
      ]
     },
     "metadata": {},
     "output_type": "display_data"
    }
   ],
   "source": [
    "beam_position_spread_widgets = dynamicFloatValue_Beam_Position_Spread()\n",
    "for ii in range(len(beam_position_spread_widgets)):\n",
    "    display( beam_position_spread_widgets[ii] )"
   ]
  },
  {
   "cell_type": "code",
   "execution_count": 14,
   "metadata": {},
   "outputs": [
    {
     "data": {
      "application/vnd.jupyter.widget-view+json": {
       "model_id": "8d7bf4b77d3e44c9a257e1ad8d108c45",
       "version_major": 2,
       "version_minor": 0
      },
      "text/plain": [
       "BoundedFloatText(value=0.0, description='nrg spread', max=9999999.0)"
      ]
     },
     "metadata": {},
     "output_type": "display_data"
    }
   ],
   "source": [
    "display( beam_energy_spread )"
   ]
  },
  {
   "cell_type": "code",
   "execution_count": 15,
   "metadata": {},
   "outputs": [
    {
     "data": {
      "application/vnd.jupyter.widget-view+json": {
       "model_id": "a925db5c1cb04078a3469858f303e2c9",
       "version_major": 2,
       "version_minor": 0
      },
      "text/plain": [
       "FloatText(value=0.0, description='x divergence')"
      ]
     },
     "metadata": {},
     "output_type": "display_data"
    },
    {
     "data": {
      "application/vnd.jupyter.widget-view+json": {
       "model_id": "8315c41d0bb14228be12c0717d5012c1",
       "version_major": 2,
       "version_minor": 0
      },
      "text/plain": [
       "FloatText(value=0.0, description='y divergence')"
      ]
     },
     "metadata": {},
     "output_type": "display_data"
    },
    {
     "data": {
      "application/vnd.jupyter.widget-view+json": {
       "model_id": "a57d684140194aefbacdfb9662ad8323",
       "version_major": 2,
       "version_minor": 0
      },
      "text/plain": [
       "FloatText(value=0.0, description='z divergence')"
      ]
     },
     "metadata": {},
     "output_type": "display_data"
    }
   ],
   "source": [
    "beam_divergence_spread_widgets = dynamicFloatValue_Beam_Divergence_Spread()\n",
    "for ii in range(len(beam_divergence_spread_widgets)):\n",
    "    display( beam_divergence_spread_widgets[ii] )"
   ]
  },
  {
   "cell_type": "markdown",
   "metadata": {},
   "source": [
    "## Screen Setup:\n",
    ">Number of screens, dimensions, angles about axes, and position.<br>\n",
    "**Note:** Given angles are yaw (about the z-axis), pitch (about the y-axis), and roll (about the x-axis)."
   ]
  },
  {
   "cell_type": "markdown",
   "metadata": {},
   "source": [
    "![alt text](screen_setup.png \"Screen_Setup\")"
   ]
  },
  {
   "cell_type": "code",
   "execution_count": 16,
   "metadata": {},
   "outputs": [
    {
     "data": {
      "application/vnd.jupyter.widget-view+json": {
       "model_id": "7a78a4d3e0644e2788aa043b145cc575",
       "version_major": 2,
       "version_minor": 0
      },
      "text/plain": [
       "BoundedIntText(value=1, description='# of Screens')"
      ]
     },
     "metadata": {},
     "output_type": "display_data"
    }
   ],
   "source": [
    "display( number_of_screens )"
   ]
  },
  {
   "cell_type": "code",
   "execution_count": 17,
   "metadata": {},
   "outputs": [
    {
     "data": {
      "application/vnd.jupyter.widget-view+json": {
       "model_id": "e401d4202a8b4d98938b7cc41e972f52",
       "version_major": 2,
       "version_minor": 0
      },
      "text/plain": [
       "BoundedFloatText(value=0.0, description='length 1')"
      ]
     },
     "metadata": {},
     "output_type": "display_data"
    },
    {
     "data": {
      "application/vnd.jupyter.widget-view+json": {
       "model_id": "89728f1cf11f4e06a0aa94c826c446db",
       "version_major": 2,
       "version_minor": 0
      },
      "text/plain": [
       "BoundedFloatText(value=0.0, description='height 1', max=50.0)"
      ]
     },
     "metadata": {},
     "output_type": "display_data"
    }
   ],
   "source": [
    "screen_dimensions_widgets = dynamicFloatValue_Screen_Dimensions(number_of_screens.value, global_bounds)\n",
    "for ii in range(len(screen_dimensions_widgets)):\n",
    "    display( screen_dimensions_widgets[ii] )"
   ]
  },
  {
   "cell_type": "code",
   "execution_count": 18,
   "metadata": {},
   "outputs": [
    {
     "data": {
      "application/vnd.jupyter.widget-view+json": {
       "model_id": "156d3264633e4cbc9890224c52a89496",
       "version_major": 2,
       "version_minor": 0
      },
      "text/plain": [
       "FloatText(value=0.0, description='yaw angle 1')"
      ]
     },
     "metadata": {},
     "output_type": "display_data"
    },
    {
     "data": {
      "application/vnd.jupyter.widget-view+json": {
       "model_id": "9e70b51db3074b0e868d159e792448c2",
       "version_major": 2,
       "version_minor": 0
      },
      "text/plain": [
       "FloatText(value=0.0, description='pitch angle 1')"
      ]
     },
     "metadata": {},
     "output_type": "display_data"
    },
    {
     "data": {
      "application/vnd.jupyter.widget-view+json": {
       "model_id": "796c43f2196c45b9bf4dc573a72fc3bc",
       "version_major": 2,
       "version_minor": 0
      },
      "text/plain": [
       "FloatText(value=0.0, description='roll angle 1')"
      ]
     },
     "metadata": {},
     "output_type": "display_data"
    }
   ],
   "source": [
    "screen_angles_widgets = dynamicFloatValue_Screen_Angles(number_of_screens.value)\n",
    "for ii in range(len(screen_angles_widgets)):\n",
    "    display( screen_angles_widgets[ii] )"
   ]
  },
  {
   "cell_type": "markdown",
   "metadata": {},
   "source": [
    "> **Important:** Position value limits are based on global bounds, screen dimensions, and screen angles. Please re-run the below cell if values for any change."
   ]
  },
  {
   "cell_type": "code",
   "execution_count": 19,
   "metadata": {},
   "outputs": [
    {
     "data": {
      "application/vnd.jupyter.widget-view+json": {
       "model_id": "bffa03318f534af49d9786810c3bdda9",
       "version_major": 2,
       "version_minor": 0
      },
      "text/plain": [
       "BoundedFloatText(value=0.0, description='x pos 1', min=-63.30142323862313)"
      ]
     },
     "metadata": {},
     "output_type": "display_data"
    },
    {
     "data": {
      "application/vnd.jupyter.widget-view+json": {
       "model_id": "065f147fd5b947578fa58b48b1de08e8",
       "version_major": 2,
       "version_minor": 0
      },
      "text/plain": [
       "BoundedFloatText(value=0.0, description='y pos 1', max=25.000265091212885, min=-50.0)"
      ]
     },
     "metadata": {},
     "output_type": "display_data"
    },
    {
     "data": {
      "application/vnd.jupyter.widget-view+json": {
       "model_id": "0b73949b5a3a4f5bbe60e0c02414788f",
       "version_major": 2,
       "version_minor": 0
      },
      "text/plain": [
       "BoundedFloatText(value=0.0, description='z pos 1', max=45.0, min=-55.0)"
      ]
     },
     "metadata": {},
     "output_type": "display_data"
    }
   ],
   "source": [
    "screen_position_widgets = dynamicFloatValue_Screen_Position(units_angles.value, number_of_screens.value, global_bounds, \n",
    "                                                            screen_dimensions_widgets, screen_angles_widgets)\n",
    "for ii in range(len(screen_position_widgets)):\n",
    "    display( screen_position_widgets[ii] )"
   ]
  },
  {
   "cell_type": "markdown",
   "metadata": {},
   "source": [
    "## Display and Output info\n",
    ">Displays a 3D model of the spectrometer based on user inputs. If there are no errors, press the button below to output information.<br>\n",
    "**Note:** Axes may not have the same scale."
   ]
  },
  {
   "cell_type": "code",
   "execution_count": 22,
   "metadata": {
    "scrolled": false
   },
   "outputs": [
    {
     "data": {
      "application/javascript": [
       "/* Put everything inside the global mpl namespace */\n",
       "window.mpl = {};\n",
       "\n",
       "\n",
       "mpl.get_websocket_type = function() {\n",
       "    if (typeof(WebSocket) !== 'undefined') {\n",
       "        return WebSocket;\n",
       "    } else if (typeof(MozWebSocket) !== 'undefined') {\n",
       "        return MozWebSocket;\n",
       "    } else {\n",
       "        alert('Your browser does not have WebSocket support.' +\n",
       "              'Please try Chrome, Safari or Firefox ≥ 6. ' +\n",
       "              'Firefox 4 and 5 are also supported but you ' +\n",
       "              'have to enable WebSockets in about:config.');\n",
       "    };\n",
       "}\n",
       "\n",
       "mpl.figure = function(figure_id, websocket, ondownload, parent_element) {\n",
       "    this.id = figure_id;\n",
       "\n",
       "    this.ws = websocket;\n",
       "\n",
       "    this.supports_binary = (this.ws.binaryType != undefined);\n",
       "\n",
       "    if (!this.supports_binary) {\n",
       "        var warnings = document.getElementById(\"mpl-warnings\");\n",
       "        if (warnings) {\n",
       "            warnings.style.display = 'block';\n",
       "            warnings.textContent = (\n",
       "                \"This browser does not support binary websocket messages. \" +\n",
       "                    \"Performance may be slow.\");\n",
       "        }\n",
       "    }\n",
       "\n",
       "    this.imageObj = new Image();\n",
       "\n",
       "    this.context = undefined;\n",
       "    this.message = undefined;\n",
       "    this.canvas = undefined;\n",
       "    this.rubberband_canvas = undefined;\n",
       "    this.rubberband_context = undefined;\n",
       "    this.format_dropdown = undefined;\n",
       "\n",
       "    this.image_mode = 'full';\n",
       "\n",
       "    this.root = $('<div/>');\n",
       "    this._root_extra_style(this.root)\n",
       "    this.root.attr('style', 'display: inline-block');\n",
       "\n",
       "    $(parent_element).append(this.root);\n",
       "\n",
       "    this._init_header(this);\n",
       "    this._init_canvas(this);\n",
       "    this._init_toolbar(this);\n",
       "\n",
       "    var fig = this;\n",
       "\n",
       "    this.waiting = false;\n",
       "\n",
       "    this.ws.onopen =  function () {\n",
       "            fig.send_message(\"supports_binary\", {value: fig.supports_binary});\n",
       "            fig.send_message(\"send_image_mode\", {});\n",
       "            if (mpl.ratio != 1) {\n",
       "                fig.send_message(\"set_dpi_ratio\", {'dpi_ratio': mpl.ratio});\n",
       "            }\n",
       "            fig.send_message(\"refresh\", {});\n",
       "        }\n",
       "\n",
       "    this.imageObj.onload = function() {\n",
       "            if (fig.image_mode == 'full') {\n",
       "                // Full images could contain transparency (where diff images\n",
       "                // almost always do), so we need to clear the canvas so that\n",
       "                // there is no ghosting.\n",
       "                fig.context.clearRect(0, 0, fig.canvas.width, fig.canvas.height);\n",
       "            }\n",
       "            fig.context.drawImage(fig.imageObj, 0, 0);\n",
       "        };\n",
       "\n",
       "    this.imageObj.onunload = function() {\n",
       "        fig.ws.close();\n",
       "    }\n",
       "\n",
       "    this.ws.onmessage = this._make_on_message_function(this);\n",
       "\n",
       "    this.ondownload = ondownload;\n",
       "}\n",
       "\n",
       "mpl.figure.prototype._init_header = function() {\n",
       "    var titlebar = $(\n",
       "        '<div class=\"ui-dialog-titlebar ui-widget-header ui-corner-all ' +\n",
       "        'ui-helper-clearfix\"/>');\n",
       "    var titletext = $(\n",
       "        '<div class=\"ui-dialog-title\" style=\"width: 100%; ' +\n",
       "        'text-align: center; padding: 3px;\"/>');\n",
       "    titlebar.append(titletext)\n",
       "    this.root.append(titlebar);\n",
       "    this.header = titletext[0];\n",
       "}\n",
       "\n",
       "\n",
       "\n",
       "mpl.figure.prototype._canvas_extra_style = function(canvas_div) {\n",
       "\n",
       "}\n",
       "\n",
       "\n",
       "mpl.figure.prototype._root_extra_style = function(canvas_div) {\n",
       "\n",
       "}\n",
       "\n",
       "mpl.figure.prototype._init_canvas = function() {\n",
       "    var fig = this;\n",
       "\n",
       "    var canvas_div = $('<div/>');\n",
       "\n",
       "    canvas_div.attr('style', 'position: relative; clear: both; outline: 0');\n",
       "\n",
       "    function canvas_keyboard_event(event) {\n",
       "        return fig.key_event(event, event['data']);\n",
       "    }\n",
       "\n",
       "    canvas_div.keydown('key_press', canvas_keyboard_event);\n",
       "    canvas_div.keyup('key_release', canvas_keyboard_event);\n",
       "    this.canvas_div = canvas_div\n",
       "    this._canvas_extra_style(canvas_div)\n",
       "    this.root.append(canvas_div);\n",
       "\n",
       "    var canvas = $('<canvas/>');\n",
       "    canvas.addClass('mpl-canvas');\n",
       "    canvas.attr('style', \"left: 0; top: 0; z-index: 0; outline: 0\")\n",
       "\n",
       "    this.canvas = canvas[0];\n",
       "    this.context = canvas[0].getContext(\"2d\");\n",
       "\n",
       "    var backingStore = this.context.backingStorePixelRatio ||\n",
       "\tthis.context.webkitBackingStorePixelRatio ||\n",
       "\tthis.context.mozBackingStorePixelRatio ||\n",
       "\tthis.context.msBackingStorePixelRatio ||\n",
       "\tthis.context.oBackingStorePixelRatio ||\n",
       "\tthis.context.backingStorePixelRatio || 1;\n",
       "\n",
       "    mpl.ratio = (window.devicePixelRatio || 1) / backingStore;\n",
       "\n",
       "    var rubberband = $('<canvas/>');\n",
       "    rubberband.attr('style', \"position: absolute; left: 0; top: 0; z-index: 1;\")\n",
       "\n",
       "    var pass_mouse_events = true;\n",
       "\n",
       "    canvas_div.resizable({\n",
       "        start: function(event, ui) {\n",
       "            pass_mouse_events = false;\n",
       "        },\n",
       "        resize: function(event, ui) {\n",
       "            fig.request_resize(ui.size.width, ui.size.height);\n",
       "        },\n",
       "        stop: function(event, ui) {\n",
       "            pass_mouse_events = true;\n",
       "            fig.request_resize(ui.size.width, ui.size.height);\n",
       "        },\n",
       "    });\n",
       "\n",
       "    function mouse_event_fn(event) {\n",
       "        if (pass_mouse_events)\n",
       "            return fig.mouse_event(event, event['data']);\n",
       "    }\n",
       "\n",
       "    rubberband.mousedown('button_press', mouse_event_fn);\n",
       "    rubberband.mouseup('button_release', mouse_event_fn);\n",
       "    // Throttle sequential mouse events to 1 every 20ms.\n",
       "    rubberband.mousemove('motion_notify', mouse_event_fn);\n",
       "\n",
       "    rubberband.mouseenter('figure_enter', mouse_event_fn);\n",
       "    rubberband.mouseleave('figure_leave', mouse_event_fn);\n",
       "\n",
       "    canvas_div.on(\"wheel\", function (event) {\n",
       "        event = event.originalEvent;\n",
       "        event['data'] = 'scroll'\n",
       "        if (event.deltaY < 0) {\n",
       "            event.step = 1;\n",
       "        } else {\n",
       "            event.step = -1;\n",
       "        }\n",
       "        mouse_event_fn(event);\n",
       "    });\n",
       "\n",
       "    canvas_div.append(canvas);\n",
       "    canvas_div.append(rubberband);\n",
       "\n",
       "    this.rubberband = rubberband;\n",
       "    this.rubberband_canvas = rubberband[0];\n",
       "    this.rubberband_context = rubberband[0].getContext(\"2d\");\n",
       "    this.rubberband_context.strokeStyle = \"#000000\";\n",
       "\n",
       "    this._resize_canvas = function(width, height) {\n",
       "        // Keep the size of the canvas, canvas container, and rubber band\n",
       "        // canvas in synch.\n",
       "        canvas_div.css('width', width)\n",
       "        canvas_div.css('height', height)\n",
       "\n",
       "        canvas.attr('width', width * mpl.ratio);\n",
       "        canvas.attr('height', height * mpl.ratio);\n",
       "        canvas.attr('style', 'width: ' + width + 'px; height: ' + height + 'px;');\n",
       "\n",
       "        rubberband.attr('width', width);\n",
       "        rubberband.attr('height', height);\n",
       "    }\n",
       "\n",
       "    // Set the figure to an initial 600x600px, this will subsequently be updated\n",
       "    // upon first draw.\n",
       "    this._resize_canvas(600, 600);\n",
       "\n",
       "    // Disable right mouse context menu.\n",
       "    $(this.rubberband_canvas).bind(\"contextmenu\",function(e){\n",
       "        return false;\n",
       "    });\n",
       "\n",
       "    function set_focus () {\n",
       "        canvas.focus();\n",
       "        canvas_div.focus();\n",
       "    }\n",
       "\n",
       "    window.setTimeout(set_focus, 100);\n",
       "}\n",
       "\n",
       "mpl.figure.prototype._init_toolbar = function() {\n",
       "    var fig = this;\n",
       "\n",
       "    var nav_element = $('<div/>')\n",
       "    nav_element.attr('style', 'width: 100%');\n",
       "    this.root.append(nav_element);\n",
       "\n",
       "    // Define a callback function for later on.\n",
       "    function toolbar_event(event) {\n",
       "        return fig.toolbar_button_onclick(event['data']);\n",
       "    }\n",
       "    function toolbar_mouse_event(event) {\n",
       "        return fig.toolbar_button_onmouseover(event['data']);\n",
       "    }\n",
       "\n",
       "    for(var toolbar_ind in mpl.toolbar_items) {\n",
       "        var name = mpl.toolbar_items[toolbar_ind][0];\n",
       "        var tooltip = mpl.toolbar_items[toolbar_ind][1];\n",
       "        var image = mpl.toolbar_items[toolbar_ind][2];\n",
       "        var method_name = mpl.toolbar_items[toolbar_ind][3];\n",
       "\n",
       "        if (!name) {\n",
       "            // put a spacer in here.\n",
       "            continue;\n",
       "        }\n",
       "        var button = $('<button/>');\n",
       "        button.addClass('ui-button ui-widget ui-state-default ui-corner-all ' +\n",
       "                        'ui-button-icon-only');\n",
       "        button.attr('role', 'button');\n",
       "        button.attr('aria-disabled', 'false');\n",
       "        button.click(method_name, toolbar_event);\n",
       "        button.mouseover(tooltip, toolbar_mouse_event);\n",
       "\n",
       "        var icon_img = $('<span/>');\n",
       "        icon_img.addClass('ui-button-icon-primary ui-icon');\n",
       "        icon_img.addClass(image);\n",
       "        icon_img.addClass('ui-corner-all');\n",
       "\n",
       "        var tooltip_span = $('<span/>');\n",
       "        tooltip_span.addClass('ui-button-text');\n",
       "        tooltip_span.html(tooltip);\n",
       "\n",
       "        button.append(icon_img);\n",
       "        button.append(tooltip_span);\n",
       "\n",
       "        nav_element.append(button);\n",
       "    }\n",
       "\n",
       "    var fmt_picker_span = $('<span/>');\n",
       "\n",
       "    var fmt_picker = $('<select/>');\n",
       "    fmt_picker.addClass('mpl-toolbar-option ui-widget ui-widget-content');\n",
       "    fmt_picker_span.append(fmt_picker);\n",
       "    nav_element.append(fmt_picker_span);\n",
       "    this.format_dropdown = fmt_picker[0];\n",
       "\n",
       "    for (var ind in mpl.extensions) {\n",
       "        var fmt = mpl.extensions[ind];\n",
       "        var option = $(\n",
       "            '<option/>', {selected: fmt === mpl.default_extension}).html(fmt);\n",
       "        fmt_picker.append(option)\n",
       "    }\n",
       "\n",
       "    // Add hover states to the ui-buttons\n",
       "    $( \".ui-button\" ).hover(\n",
       "        function() { $(this).addClass(\"ui-state-hover\");},\n",
       "        function() { $(this).removeClass(\"ui-state-hover\");}\n",
       "    );\n",
       "\n",
       "    var status_bar = $('<span class=\"mpl-message\"/>');\n",
       "    nav_element.append(status_bar);\n",
       "    this.message = status_bar[0];\n",
       "}\n",
       "\n",
       "mpl.figure.prototype.request_resize = function(x_pixels, y_pixels) {\n",
       "    // Request matplotlib to resize the figure. Matplotlib will then trigger a resize in the client,\n",
       "    // which will in turn request a refresh of the image.\n",
       "    this.send_message('resize', {'width': x_pixels, 'height': y_pixels});\n",
       "}\n",
       "\n",
       "mpl.figure.prototype.send_message = function(type, properties) {\n",
       "    properties['type'] = type;\n",
       "    properties['figure_id'] = this.id;\n",
       "    this.ws.send(JSON.stringify(properties));\n",
       "}\n",
       "\n",
       "mpl.figure.prototype.send_draw_message = function() {\n",
       "    if (!this.waiting) {\n",
       "        this.waiting = true;\n",
       "        this.ws.send(JSON.stringify({type: \"draw\", figure_id: this.id}));\n",
       "    }\n",
       "}\n",
       "\n",
       "\n",
       "mpl.figure.prototype.handle_save = function(fig, msg) {\n",
       "    var format_dropdown = fig.format_dropdown;\n",
       "    var format = format_dropdown.options[format_dropdown.selectedIndex].value;\n",
       "    fig.ondownload(fig, format);\n",
       "}\n",
       "\n",
       "\n",
       "mpl.figure.prototype.handle_resize = function(fig, msg) {\n",
       "    var size = msg['size'];\n",
       "    if (size[0] != fig.canvas.width || size[1] != fig.canvas.height) {\n",
       "        fig._resize_canvas(size[0], size[1]);\n",
       "        fig.send_message(\"refresh\", {});\n",
       "    };\n",
       "}\n",
       "\n",
       "mpl.figure.prototype.handle_rubberband = function(fig, msg) {\n",
       "    var x0 = msg['x0'] / mpl.ratio;\n",
       "    var y0 = (fig.canvas.height - msg['y0']) / mpl.ratio;\n",
       "    var x1 = msg['x1'] / mpl.ratio;\n",
       "    var y1 = (fig.canvas.height - msg['y1']) / mpl.ratio;\n",
       "    x0 = Math.floor(x0) + 0.5;\n",
       "    y0 = Math.floor(y0) + 0.5;\n",
       "    x1 = Math.floor(x1) + 0.5;\n",
       "    y1 = Math.floor(y1) + 0.5;\n",
       "    var min_x = Math.min(x0, x1);\n",
       "    var min_y = Math.min(y0, y1);\n",
       "    var width = Math.abs(x1 - x0);\n",
       "    var height = Math.abs(y1 - y0);\n",
       "\n",
       "    fig.rubberband_context.clearRect(\n",
       "        0, 0, fig.canvas.width, fig.canvas.height);\n",
       "\n",
       "    fig.rubberband_context.strokeRect(min_x, min_y, width, height);\n",
       "}\n",
       "\n",
       "mpl.figure.prototype.handle_figure_label = function(fig, msg) {\n",
       "    // Updates the figure title.\n",
       "    fig.header.textContent = msg['label'];\n",
       "}\n",
       "\n",
       "mpl.figure.prototype.handle_cursor = function(fig, msg) {\n",
       "    var cursor = msg['cursor'];\n",
       "    switch(cursor)\n",
       "    {\n",
       "    case 0:\n",
       "        cursor = 'pointer';\n",
       "        break;\n",
       "    case 1:\n",
       "        cursor = 'default';\n",
       "        break;\n",
       "    case 2:\n",
       "        cursor = 'crosshair';\n",
       "        break;\n",
       "    case 3:\n",
       "        cursor = 'move';\n",
       "        break;\n",
       "    }\n",
       "    fig.rubberband_canvas.style.cursor = cursor;\n",
       "}\n",
       "\n",
       "mpl.figure.prototype.handle_message = function(fig, msg) {\n",
       "    fig.message.textContent = msg['message'];\n",
       "}\n",
       "\n",
       "mpl.figure.prototype.handle_draw = function(fig, msg) {\n",
       "    // Request the server to send over a new figure.\n",
       "    fig.send_draw_message();\n",
       "}\n",
       "\n",
       "mpl.figure.prototype.handle_image_mode = function(fig, msg) {\n",
       "    fig.image_mode = msg['mode'];\n",
       "}\n",
       "\n",
       "mpl.figure.prototype.updated_canvas_event = function() {\n",
       "    // Called whenever the canvas gets updated.\n",
       "    this.send_message(\"ack\", {});\n",
       "}\n",
       "\n",
       "// A function to construct a web socket function for onmessage handling.\n",
       "// Called in the figure constructor.\n",
       "mpl.figure.prototype._make_on_message_function = function(fig) {\n",
       "    return function socket_on_message(evt) {\n",
       "        if (evt.data instanceof Blob) {\n",
       "            /* FIXME: We get \"Resource interpreted as Image but\n",
       "             * transferred with MIME type text/plain:\" errors on\n",
       "             * Chrome.  But how to set the MIME type?  It doesn't seem\n",
       "             * to be part of the websocket stream */\n",
       "            evt.data.type = \"image/png\";\n",
       "\n",
       "            /* Free the memory for the previous frames */\n",
       "            if (fig.imageObj.src) {\n",
       "                (window.URL || window.webkitURL).revokeObjectURL(\n",
       "                    fig.imageObj.src);\n",
       "            }\n",
       "\n",
       "            fig.imageObj.src = (window.URL || window.webkitURL).createObjectURL(\n",
       "                evt.data);\n",
       "            fig.updated_canvas_event();\n",
       "            fig.waiting = false;\n",
       "            return;\n",
       "        }\n",
       "        else if (typeof evt.data === 'string' && evt.data.slice(0, 21) == \"data:image/png;base64\") {\n",
       "            fig.imageObj.src = evt.data;\n",
       "            fig.updated_canvas_event();\n",
       "            fig.waiting = false;\n",
       "            return;\n",
       "        }\n",
       "\n",
       "        var msg = JSON.parse(evt.data);\n",
       "        var msg_type = msg['type'];\n",
       "\n",
       "        // Call the  \"handle_{type}\" callback, which takes\n",
       "        // the figure and JSON message as its only arguments.\n",
       "        try {\n",
       "            var callback = fig[\"handle_\" + msg_type];\n",
       "        } catch (e) {\n",
       "            console.log(\"No handler for the '\" + msg_type + \"' message type: \", msg);\n",
       "            return;\n",
       "        }\n",
       "\n",
       "        if (callback) {\n",
       "            try {\n",
       "                // console.log(\"Handling '\" + msg_type + \"' message: \", msg);\n",
       "                callback(fig, msg);\n",
       "            } catch (e) {\n",
       "                console.log(\"Exception inside the 'handler_\" + msg_type + \"' callback:\", e, e.stack, msg);\n",
       "            }\n",
       "        }\n",
       "    };\n",
       "}\n",
       "\n",
       "// from http://stackoverflow.com/questions/1114465/getting-mouse-location-in-canvas\n",
       "mpl.findpos = function(e) {\n",
       "    //this section is from http://www.quirksmode.org/js/events_properties.html\n",
       "    var targ;\n",
       "    if (!e)\n",
       "        e = window.event;\n",
       "    if (e.target)\n",
       "        targ = e.target;\n",
       "    else if (e.srcElement)\n",
       "        targ = e.srcElement;\n",
       "    if (targ.nodeType == 3) // defeat Safari bug\n",
       "        targ = targ.parentNode;\n",
       "\n",
       "    // jQuery normalizes the pageX and pageY\n",
       "    // pageX,Y are the mouse positions relative to the document\n",
       "    // offset() returns the position of the element relative to the document\n",
       "    var x = e.pageX - $(targ).offset().left;\n",
       "    var y = e.pageY - $(targ).offset().top;\n",
       "\n",
       "    return {\"x\": x, \"y\": y};\n",
       "};\n",
       "\n",
       "/*\n",
       " * return a copy of an object with only non-object keys\n",
       " * we need this to avoid circular references\n",
       " * http://stackoverflow.com/a/24161582/3208463\n",
       " */\n",
       "function simpleKeys (original) {\n",
       "  return Object.keys(original).reduce(function (obj, key) {\n",
       "    if (typeof original[key] !== 'object')\n",
       "        obj[key] = original[key]\n",
       "    return obj;\n",
       "  }, {});\n",
       "}\n",
       "\n",
       "mpl.figure.prototype.mouse_event = function(event, name) {\n",
       "    var canvas_pos = mpl.findpos(event)\n",
       "\n",
       "    if (name === 'button_press')\n",
       "    {\n",
       "        this.canvas.focus();\n",
       "        this.canvas_div.focus();\n",
       "    }\n",
       "\n",
       "    var x = canvas_pos.x * mpl.ratio;\n",
       "    var y = canvas_pos.y * mpl.ratio;\n",
       "\n",
       "    this.send_message(name, {x: x, y: y, button: event.button,\n",
       "                             step: event.step,\n",
       "                             guiEvent: simpleKeys(event)});\n",
       "\n",
       "    /* This prevents the web browser from automatically changing to\n",
       "     * the text insertion cursor when the button is pressed.  We want\n",
       "     * to control all of the cursor setting manually through the\n",
       "     * 'cursor' event from matplotlib */\n",
       "    event.preventDefault();\n",
       "    return false;\n",
       "}\n",
       "\n",
       "mpl.figure.prototype._key_event_extra = function(event, name) {\n",
       "    // Handle any extra behaviour associated with a key event\n",
       "}\n",
       "\n",
       "mpl.figure.prototype.key_event = function(event, name) {\n",
       "\n",
       "    // Prevent repeat events\n",
       "    if (name == 'key_press')\n",
       "    {\n",
       "        if (event.which === this._key)\n",
       "            return;\n",
       "        else\n",
       "            this._key = event.which;\n",
       "    }\n",
       "    if (name == 'key_release')\n",
       "        this._key = null;\n",
       "\n",
       "    var value = '';\n",
       "    if (event.ctrlKey && event.which != 17)\n",
       "        value += \"ctrl+\";\n",
       "    if (event.altKey && event.which != 18)\n",
       "        value += \"alt+\";\n",
       "    if (event.shiftKey && event.which != 16)\n",
       "        value += \"shift+\";\n",
       "\n",
       "    value += 'k';\n",
       "    value += event.which.toString();\n",
       "\n",
       "    this._key_event_extra(event, name);\n",
       "\n",
       "    this.send_message(name, {key: value,\n",
       "                             guiEvent: simpleKeys(event)});\n",
       "    return false;\n",
       "}\n",
       "\n",
       "mpl.figure.prototype.toolbar_button_onclick = function(name) {\n",
       "    if (name == 'download') {\n",
       "        this.handle_save(this, null);\n",
       "    } else {\n",
       "        this.send_message(\"toolbar_button\", {name: name});\n",
       "    }\n",
       "};\n",
       "\n",
       "mpl.figure.prototype.toolbar_button_onmouseover = function(tooltip) {\n",
       "    this.message.textContent = tooltip;\n",
       "};\n",
       "mpl.toolbar_items = [[\"Home\", \"Reset original view\", \"fa fa-home icon-home\", \"home\"], [\"Back\", \"Back to previous view\", \"fa fa-arrow-left icon-arrow-left\", \"back\"], [\"Forward\", \"Forward to next view\", \"fa fa-arrow-right icon-arrow-right\", \"forward\"], [\"\", \"\", \"\", \"\"], [\"Pan\", \"Pan axes with left mouse, zoom with right\", \"fa fa-arrows icon-move\", \"pan\"], [\"Zoom\", \"Zoom to rectangle\", \"fa fa-square-o icon-check-empty\", \"zoom\"], [\"\", \"\", \"\", \"\"], [\"Download\", \"Download plot\", \"fa fa-floppy-o icon-save\", \"download\"]];\n",
       "\n",
       "mpl.extensions = [\"eps\", \"jpeg\", \"pdf\", \"png\", \"ps\", \"raw\", \"svg\", \"tif\"];\n",
       "\n",
       "mpl.default_extension = \"png\";var comm_websocket_adapter = function(comm) {\n",
       "    // Create a \"websocket\"-like object which calls the given IPython comm\n",
       "    // object with the appropriate methods. Currently this is a non binary\n",
       "    // socket, so there is still some room for performance tuning.\n",
       "    var ws = {};\n",
       "\n",
       "    ws.close = function() {\n",
       "        comm.close()\n",
       "    };\n",
       "    ws.send = function(m) {\n",
       "        //console.log('sending', m);\n",
       "        comm.send(m);\n",
       "    };\n",
       "    // Register the callback with on_msg.\n",
       "    comm.on_msg(function(msg) {\n",
       "        //console.log('receiving', msg['content']['data'], msg);\n",
       "        // Pass the mpl event to the overridden (by mpl) onmessage function.\n",
       "        ws.onmessage(msg['content']['data'])\n",
       "    });\n",
       "    return ws;\n",
       "}\n",
       "\n",
       "mpl.mpl_figure_comm = function(comm, msg) {\n",
       "    // This is the function which gets called when the mpl process\n",
       "    // starts-up an IPython Comm through the \"matplotlib\" channel.\n",
       "\n",
       "    var id = msg.content.data.id;\n",
       "    // Get hold of the div created by the display call when the Comm\n",
       "    // socket was opened in Python.\n",
       "    var element = $(\"#\" + id);\n",
       "    var ws_proxy = comm_websocket_adapter(comm)\n",
       "\n",
       "    function ondownload(figure, format) {\n",
       "        window.open(figure.imageObj.src);\n",
       "    }\n",
       "\n",
       "    var fig = new mpl.figure(id, ws_proxy,\n",
       "                           ondownload,\n",
       "                           element.get(0));\n",
       "\n",
       "    // Call onopen now - mpl needs it, as it is assuming we've passed it a real\n",
       "    // web socket which is closed, not our websocket->open comm proxy.\n",
       "    ws_proxy.onopen();\n",
       "\n",
       "    fig.parent_element = element.get(0);\n",
       "    fig.cell_info = mpl.find_output_cell(\"<div id='\" + id + \"'></div>\");\n",
       "    if (!fig.cell_info) {\n",
       "        console.error(\"Failed to find cell for figure\", id, fig);\n",
       "        return;\n",
       "    }\n",
       "\n",
       "    var output_index = fig.cell_info[2]\n",
       "    var cell = fig.cell_info[0];\n",
       "\n",
       "};\n",
       "\n",
       "mpl.figure.prototype.handle_close = function(fig, msg) {\n",
       "    var width = fig.canvas.width/mpl.ratio\n",
       "    fig.root.unbind('remove')\n",
       "\n",
       "    // Update the output cell to use the data from the current canvas.\n",
       "    fig.push_to_output();\n",
       "    var dataURL = fig.canvas.toDataURL();\n",
       "    // Re-enable the keyboard manager in IPython - without this line, in FF,\n",
       "    // the notebook keyboard shortcuts fail.\n",
       "    IPython.keyboard_manager.enable()\n",
       "    $(fig.parent_element).html('<img src=\"' + dataURL + '\" width=\"' + width + '\">');\n",
       "    fig.close_ws(fig, msg);\n",
       "}\n",
       "\n",
       "mpl.figure.prototype.close_ws = function(fig, msg){\n",
       "    fig.send_message('closing', msg);\n",
       "    // fig.ws.close()\n",
       "}\n",
       "\n",
       "mpl.figure.prototype.push_to_output = function(remove_interactive) {\n",
       "    // Turn the data on the canvas into data in the output cell.\n",
       "    var width = this.canvas.width/mpl.ratio\n",
       "    var dataURL = this.canvas.toDataURL();\n",
       "    this.cell_info[1]['text/html'] = '<img src=\"' + dataURL + '\" width=\"' + width + '\">';\n",
       "}\n",
       "\n",
       "mpl.figure.prototype.updated_canvas_event = function() {\n",
       "    // Tell IPython that the notebook contents must change.\n",
       "    IPython.notebook.set_dirty(true);\n",
       "    this.send_message(\"ack\", {});\n",
       "    var fig = this;\n",
       "    // Wait a second, then push the new image to the DOM so\n",
       "    // that it is saved nicely (might be nice to debounce this).\n",
       "    setTimeout(function () { fig.push_to_output() }, 1000);\n",
       "}\n",
       "\n",
       "mpl.figure.prototype._init_toolbar = function() {\n",
       "    var fig = this;\n",
       "\n",
       "    var nav_element = $('<div/>')\n",
       "    nav_element.attr('style', 'width: 100%');\n",
       "    this.root.append(nav_element);\n",
       "\n",
       "    // Define a callback function for later on.\n",
       "    function toolbar_event(event) {\n",
       "        return fig.toolbar_button_onclick(event['data']);\n",
       "    }\n",
       "    function toolbar_mouse_event(event) {\n",
       "        return fig.toolbar_button_onmouseover(event['data']);\n",
       "    }\n",
       "\n",
       "    for(var toolbar_ind in mpl.toolbar_items){\n",
       "        var name = mpl.toolbar_items[toolbar_ind][0];\n",
       "        var tooltip = mpl.toolbar_items[toolbar_ind][1];\n",
       "        var image = mpl.toolbar_items[toolbar_ind][2];\n",
       "        var method_name = mpl.toolbar_items[toolbar_ind][3];\n",
       "\n",
       "        if (!name) { continue; };\n",
       "\n",
       "        var button = $('<button class=\"btn btn-default\" href=\"#\" title=\"' + name + '\"><i class=\"fa ' + image + ' fa-lg\"></i></button>');\n",
       "        button.click(method_name, toolbar_event);\n",
       "        button.mouseover(tooltip, toolbar_mouse_event);\n",
       "        nav_element.append(button);\n",
       "    }\n",
       "\n",
       "    // Add the status bar.\n",
       "    var status_bar = $('<span class=\"mpl-message\" style=\"text-align:right; float: right;\"/>');\n",
       "    nav_element.append(status_bar);\n",
       "    this.message = status_bar[0];\n",
       "\n",
       "    // Add the close button to the window.\n",
       "    var buttongrp = $('<div class=\"btn-group inline pull-right\"></div>');\n",
       "    var button = $('<button class=\"btn btn-mini btn-primary\" href=\"#\" title=\"Stop Interaction\"><i class=\"fa fa-power-off icon-remove icon-large\"></i></button>');\n",
       "    button.click(function (evt) { fig.handle_close(fig, {}); } );\n",
       "    button.mouseover('Stop Interaction', toolbar_mouse_event);\n",
       "    buttongrp.append(button);\n",
       "    var titlebar = this.root.find($('.ui-dialog-titlebar'));\n",
       "    titlebar.prepend(buttongrp);\n",
       "}\n",
       "\n",
       "mpl.figure.prototype._root_extra_style = function(el){\n",
       "    var fig = this\n",
       "    el.on(\"remove\", function(){\n",
       "\tfig.close_ws(fig, {});\n",
       "    });\n",
       "}\n",
       "\n",
       "mpl.figure.prototype._canvas_extra_style = function(el){\n",
       "    // this is important to make the div 'focusable\n",
       "    el.attr('tabindex', 0)\n",
       "    // reach out to IPython and tell the keyboard manager to turn it's self\n",
       "    // off when our div gets focus\n",
       "\n",
       "    // location in version 3\n",
       "    if (IPython.notebook.keyboard_manager) {\n",
       "        IPython.notebook.keyboard_manager.register_events(el);\n",
       "    }\n",
       "    else {\n",
       "        // location in version 2\n",
       "        IPython.keyboard_manager.register_events(el);\n",
       "    }\n",
       "\n",
       "}\n",
       "\n",
       "mpl.figure.prototype._key_event_extra = function(event, name) {\n",
       "    var manager = IPython.notebook.keyboard_manager;\n",
       "    if (!manager)\n",
       "        manager = IPython.keyboard_manager;\n",
       "\n",
       "    // Check for shift+enter\n",
       "    if (event.shiftKey && event.which == 13) {\n",
       "        this.canvas_div.blur();\n",
       "        event.shiftKey = false;\n",
       "        // Send a \"J\" for go to next cell\n",
       "        event.which = 74;\n",
       "        event.keyCode = 74;\n",
       "        manager.command_mode();\n",
       "        manager.handle_keydown(event);\n",
       "    }\n",
       "}\n",
       "\n",
       "mpl.figure.prototype.handle_save = function(fig, msg) {\n",
       "    fig.ondownload(fig, null);\n",
       "}\n",
       "\n",
       "\n",
       "mpl.find_output_cell = function(html_output) {\n",
       "    // Return the cell and output element which can be found *uniquely* in the notebook.\n",
       "    // Note - this is a bit hacky, but it is done because the \"notebook_saving.Notebook\"\n",
       "    // IPython event is triggered only after the cells have been serialised, which for\n",
       "    // our purposes (turning an active figure into a static one), is too late.\n",
       "    var cells = IPython.notebook.get_cells();\n",
       "    var ncells = cells.length;\n",
       "    for (var i=0; i<ncells; i++) {\n",
       "        var cell = cells[i];\n",
       "        if (cell.cell_type === 'code'){\n",
       "            for (var j=0; j<cell.output_area.outputs.length; j++) {\n",
       "                var data = cell.output_area.outputs[j];\n",
       "                if (data.data) {\n",
       "                    // IPython >= 3 moved mimebundle to data attribute of output\n",
       "                    data = data.data;\n",
       "                }\n",
       "                if (data['text/html'] == html_output) {\n",
       "                    return [cell, data, j];\n",
       "                }\n",
       "            }\n",
       "        }\n",
       "    }\n",
       "}\n",
       "\n",
       "// Register the function which deals with the matplotlib target/channel.\n",
       "// The kernel may be null if the page has been refreshed.\n",
       "if (IPython.notebook.kernel != null) {\n",
       "    IPython.notebook.kernel.comm_manager.register_target('matplotlib', mpl.mpl_figure_comm);\n",
       "}\n"
      ],
      "text/plain": [
       "<IPython.core.display.Javascript object>"
      ]
     },
     "metadata": {},
     "output_type": "display_data"
    },
    {
     "data": {
      "text/html": [
       "<img src=\"data:image/png;base64,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\" width=\"639.999990463257\">"
      ],
      "text/plain": [
       "<IPython.core.display.HTML object>"
      ]
     },
     "metadata": {},
     "output_type": "display_data"
    },
    {
     "data": {
      "application/vnd.jupyter.widget-view+json": {
       "model_id": "383239a58ddf4ee6bba8531cc908dc83",
       "version_major": 2,
       "version_minor": 0
      },
      "text/plain": [
       "Button(description='Save Inputs', icon='check', layout=Layout(height='80px', width='50%'), style=ButtonStyle()…"
      ]
     },
     "metadata": {},
     "output_type": "display_data"
    },
    {
     "name": "stdout",
     "output_type": "stream",
     "text": [
      "Inputs saved and exported!\n",
      "Inputs saved and exported!\n",
      "Inputs saved and exported!\n",
      "Inputs saved and exported!\n",
      "Inputs saved and exported!\n",
      "Inputs saved and exported!\n",
      "Inputs saved and exported!\n",
      "Inputs saved and exported!\n",
      "Inputs saved and exported!\n",
      "Inputs saved and exported!\n",
      "Inputs saved and exported!\n",
      "Inputs saved and exported!\n",
      "Inputs saved and exported!\n",
      "Inputs saved and exported!\n",
      "Inputs saved and exported!\n",
      "Inputs saved and exported!\n",
      "Inputs saved and exported!\n"
     ]
    }
   ],
   "source": [
    "units = [units_length.value, ' ', units_energy.value, ' ', units_angles.value, ' ', units_magnetic_field.value]\n",
    "init_types = [f'{init_position.value}', ' ', f'{init_energy.value}', ' ', f'{init_divergence.value}']\n",
    "\n",
    "convert_beam_direction, convert_divergence_spread, convert_screen_angles = convertAngles(units, beam_direction_widgets, \n",
    "                                                                                         beam_divergence_spread_widgets, \n",
    "                                                                                         screen_angles_widgets)\n",
    "%matplotlib notebook\n",
    "DisplayAndOutput(global_bounds, units, number_of_magnets.value, magnet_dimensions_widgets, permanent_dimension_widgets, \n",
    "                 magnet_position_widgets, magnetic_field_values_widgets, magnetic_field_axes_widgets, \n",
    "                 number_of_particles.value, beam_start_position_widgets, beam_energy, convert_beam_direction, \n",
    "                 beam_position_spread_widgets, beam_energy_spread, convert_divergence_spread, number_of_screens.value, \n",
    "                 screen_dimensions_widgets, screen_position_widgets, convert_screen_angles, init_types)"
   ]
  },
  {
   "cell_type": "markdown",
   "metadata": {},
   "source": [
    "## Genetic Algorithm"
   ]
  },
  {
   "cell_type": "code",
   "execution_count": 21,
   "metadata": {},
   "outputs": [
    {
     "data": {
      "application/vnd.jupyter.widget-view+json": {
       "model_id": "073edb34a8fe4ef0a2efeab41ec0c920",
       "version_major": 2,
       "version_minor": 0
      },
      "text/plain": [
       "Label(value='Do you want to use the genetic algorithm? ')"
      ]
     },
     "metadata": {},
     "output_type": "display_data"
    },
    {
     "data": {
      "application/vnd.jupyter.widget-view+json": {
       "model_id": "f8d47c048a3d4db9b391f8474cdd6085",
       "version_major": 2,
       "version_minor": 0
      },
      "text/plain": [
       "Button(description='Yes', icon='check', style=ButtonStyle())"
      ]
     },
     "metadata": {},
     "output_type": "display_data"
    },
    {
     "data": {
      "application/vnd.jupyter.widget-view+json": {
       "model_id": "567927bba1d7458f9a180ca8a74250d6",
       "version_major": 2,
       "version_minor": 0
      },
      "text/plain": [
       "Label(value='The genetic algorithm has access to mutate:')"
      ]
     },
     "metadata": {},
     "output_type": "display_data"
    },
    {
     "data": {
      "application/vnd.jupyter.widget-view+json": {
       "model_id": "69cc4834667c42ec894630e6a6f2b26c",
       "version_major": 2,
       "version_minor": 0
      },
      "text/plain": [
       "Label(value='Magnet position')"
      ]
     },
     "metadata": {},
     "output_type": "display_data"
    },
    {
     "data": {
      "application/vnd.jupyter.widget-view+json": {
       "model_id": "ded9ebc7dac6461fa4acd33b2b8294dc",
       "version_major": 2,
       "version_minor": 0
      },
      "text/plain": [
       "HBox(children=(VBox(children=(Checkbox(value=False, description='x pos 1'), Checkbox(value=False, description=…"
      ]
     },
     "metadata": {},
     "output_type": "display_data"
    },
    {
     "data": {
      "application/vnd.jupyter.widget-view+json": {
       "model_id": "4886f9032b934775befa77dcb9985d38",
       "version_major": 2,
       "version_minor": 0
      },
      "text/plain": [
       "Label(value='Screen position')"
      ]
     },
     "metadata": {},
     "output_type": "display_data"
    },
    {
     "data": {
      "application/vnd.jupyter.widget-view+json": {
       "model_id": "6fa4309457f34db2a7b66e346acf0668",
       "version_major": 2,
       "version_minor": 0
      },
      "text/plain": [
       "HBox(children=(VBox(children=(Checkbox(value=False, description='x pos 1'), Checkbox(value=False, description=…"
      ]
     },
     "metadata": {},
     "output_type": "display_data"
    },
    {
     "data": {
      "application/vnd.jupyter.widget-view+json": {
       "model_id": "b208a7a1444c4fc3b56dbd38112ed645",
       "version_major": 2,
       "version_minor": 0
      },
      "text/plain": [
       "Label(value='Screen angles')"
      ]
     },
     "metadata": {},
     "output_type": "display_data"
    },
    {
     "data": {
      "application/vnd.jupyter.widget-view+json": {
       "model_id": "4af387d2bacd45fe8a787a55be1f6eab",
       "version_major": 2,
       "version_minor": 0
      },
      "text/plain": [
       "HBox(children=(VBox(children=(Checkbox(value=False, description='yaw 1'), Checkbox(value=False, description='p…"
      ]
     },
     "metadata": {},
     "output_type": "display_data"
    },
    {
     "data": {
      "application/vnd.jupyter.widget-view+json": {
       "model_id": "224ac5abbf4f46438e18191a8bf0d0ec",
       "version_major": 2,
       "version_minor": 0
      },
      "text/plain": [
       "Label(value='Click below to save and output selection')"
      ]
     },
     "metadata": {},
     "output_type": "display_data"
    },
    {
     "data": {
      "application/vnd.jupyter.widget-view+json": {
       "model_id": "2f0ea502baeb48c3af36eb4ad39847f6",
       "version_major": 2,
       "version_minor": 0
      },
      "text/plain": [
       "Button(description='Save Checked Boxes', icon='check', layout=Layout(height='80px', width='50%'), style=Button…"
      ]
     },
     "metadata": {},
     "output_type": "display_data"
    },
    {
     "name": "stdout",
     "output_type": "stream",
     "text": [
      "Choices saved and exported!\n",
      "Choices saved and exported!\n",
      "Choices saved and exported!\n"
     ]
    }
   ],
   "source": [
    "genetic_algorithm_setup(global_bounds, number_of_magnets.value, number_of_screens.value, units_length.value,\n",
    "                        magnetic_field_values_widgets)"
   ]
  },
  {
   "cell_type": "code",
   "execution_count": null,
   "metadata": {},
   "outputs": [],
   "source": []
  }
 ],
 "metadata": {
  "kernelspec": {
   "display_name": "Python 3",
   "language": "python",
   "name": "python3"
  },
  "language_info": {
   "codemirror_mode": {
    "name": "ipython",
    "version": 3
   },
   "file_extension": ".py",
   "mimetype": "text/x-python",
   "name": "python",
   "nbconvert_exporter": "python",
   "pygments_lexer": "ipython3",
   "version": "3.7.3"
  }
 },
 "nbformat": 4,
 "nbformat_minor": 2
}
