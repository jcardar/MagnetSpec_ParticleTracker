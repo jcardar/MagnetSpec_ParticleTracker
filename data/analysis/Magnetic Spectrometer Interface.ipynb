{
 "cells": [
  {
   "cell_type": "markdown",
   "metadata": {},
   "source": [
    "Define interactive variables to set up particle stepper (static and variable), and then have user define figure of merit.<br>\n",
    "Write out in either .csv or .txt file (idea: in .csv file, have rows correspond to objects (ie, magnets, particle beam, etc) and have the first column represent the number of those objects (magnets, beams, etc), and the remaining columns an ordered list of values defining those objects, to read from left to right, spanning all of the relevant objects).<br>\n",
    "Have c++ code read this, and define objects with 'for' loops."
   ]
  },
  {
   "cell_type": "markdown",
   "metadata": {},
   "source": [
    "Items to define for input deck:<br>\n",
    "1. Magnet: Center of Entrance Plane, Length, Width, Height, magnetic field strength (vector) (x-component, y-component, z-component)\n",
    "2. Beam: number of particles, central starting position, central energy, central direction (angles from axes (angle for x determined from angles for y and z, and is silently ignored))\n",
    "3. Beam: spread in starting position, spread in central energy, spread in divergence (user input FWHM of Gaussian spread, code uses 0.5 of this in spread)\n",
    "4. Screen: Low-Energy Middle, Width, Height, Angle from both z- and x-axes"
   ]
  },
  {
   "cell_type": "markdown",
   "metadata": {},
   "source": [
    "## Your preferred units:\n",
    ">Please run the next cell once to generate widget objects. Change the values in the dropdowns to the value to prefer. Do not run the cell again, the value is dynamically updated when you change the value in the dropdown menu!"
   ]
  },
  {
   "cell_type": "code",
   "execution_count": 3,
   "metadata": {},
   "outputs": [
    {
     "data": {
      "application/vnd.jupyter.widget-view+json": {
       "model_id": "bc0dec399cbd44129a6c9e770a384fdf",
       "version_major": 2,
       "version_minor": 0
      },
      "text/plain": [
       "Dropdown(description='Length Unit', index=1, options=('mm', 'cm', 'm'), value='cm')"
      ]
     },
     "metadata": {},
     "output_type": "display_data"
    },
    {
     "data": {
      "application/vnd.jupyter.widget-view+json": {
       "model_id": "277f62d6e79943679defc76c92d14304",
       "version_major": 2,
       "version_minor": 0
      },
      "text/plain": [
       "Dropdown(description='Energy Unit', index=1, options=('eV', 'MeV', 'GeV'), value='MeV')"
      ]
     },
     "metadata": {},
     "output_type": "display_data"
    },
    {
     "data": {
      "application/vnd.jupyter.widget-view+json": {
       "model_id": "58826ce51e184b999efd1ef31ac5fba6",
       "version_major": 2,
       "version_minor": 0
      },
      "text/plain": [
       "Dropdown(description='Angle Unit', options=('mrad', 'Radians', 'Degrees'), value='mrad')"
      ]
     },
     "metadata": {},
     "output_type": "display_data"
    },
    {
     "data": {
      "application/vnd.jupyter.widget-view+json": {
       "model_id": "2899dc130af9417d9f6118b818d34a7b",
       "version_major": 2,
       "version_minor": 0
      },
      "text/plain": [
       "Dropdown(description='Field Unit', options=('Tesla', 'Gauss'), value='Tesla')"
      ]
     },
     "metadata": {},
     "output_type": "display_data"
    }
   ],
   "source": [
    "from magspecinterface_functions import *\n",
    "display( units_length )\n",
    "display( units_energy )\n",
    "display( units_angles )\n",
    "display( units_magnetic_field )"
   ]
  },
  {
   "cell_type": "markdown",
   "metadata": {},
   "source": [
    "## Initialization type"
   ]
  },
  {
   "cell_type": "code",
   "execution_count": 4,
   "metadata": {},
   "outputs": [
    {
     "data": {
      "application/vnd.jupyter.widget-view+json": {
       "model_id": "f38421af8c964be6b0c593dee230f3ca",
       "version_major": 2,
       "version_minor": 0
      },
      "text/plain": [
       "Dropdown(description='Position', index=2, options=(('Gaussian', 0), ('Uniform', 1), ('Scan', 2)), value=2)"
      ]
     },
     "metadata": {},
     "output_type": "display_data"
    },
    {
     "data": {
      "application/vnd.jupyter.widget-view+json": {
       "model_id": "27eb9384e31a4607963db47818cedd8a",
       "version_major": 2,
       "version_minor": 0
      },
      "text/plain": [
       "Dropdown(description='Energy', index=1, options=(('Gaussian', 0), ('Uniform', 1), ('Log', 2)), value=1)"
      ]
     },
     "metadata": {},
     "output_type": "display_data"
    },
    {
     "data": {
      "application/vnd.jupyter.widget-view+json": {
       "model_id": "bbaf32b469a34cc0857c47d5af38d51b",
       "version_major": 2,
       "version_minor": 0
      },
      "text/plain": [
       "Dropdown(description='Divergence', index=2, options=(('Gaussian', 0), ('Uniform', 1), ('Scan', 2)), value=2)"
      ]
     },
     "metadata": {},
     "output_type": "display_data"
    }
   ],
   "source": [
    "display( init_position )\n",
    "display( init_energy )\n",
    "display( init_divergence )"
   ]
  },
  {
   "cell_type": "markdown",
   "metadata": {},
   "source": [
    "## Spectrometer coordinate system\n",
    "> Define the limits to the spectrometer coordinate system. You are free to choose what marks the origin.<br>\n",
    "**Note:** Global bounds may be negative."
   ]
  },
  {
   "cell_type": "code",
   "execution_count": 5,
   "metadata": {},
   "outputs": [
    {
     "data": {
      "application/vnd.jupyter.widget-view+json": {
       "model_id": "0d762ac0ddd24529b39ca67964972d9d",
       "version_major": 2,
       "version_minor": 0
      },
      "text/plain": [
       "FloatText(value=100.0, description='global x max')"
      ]
     },
     "metadata": {},
     "output_type": "display_data"
    },
    {
     "data": {
      "application/vnd.jupyter.widget-view+json": {
       "model_id": "938199aa39fe4e529b5a803e433e7aab",
       "version_major": 2,
       "version_minor": 0
      },
      "text/plain": [
       "FloatText(value=-100.0, description='global x min')"
      ]
     },
     "metadata": {},
     "output_type": "display_data"
    },
    {
     "data": {
      "application/vnd.jupyter.widget-view+json": {
       "model_id": "aa314e191fbd41cf92ec71dbe450c9c3",
       "version_major": 2,
       "version_minor": 0
      },
      "text/plain": [
       "FloatText(value=100.0, description='global y max')"
      ]
     },
     "metadata": {},
     "output_type": "display_data"
    },
    {
     "data": {
      "application/vnd.jupyter.widget-view+json": {
       "model_id": "c466056349f7466baf8b58d606f92b84",
       "version_major": 2,
       "version_minor": 0
      },
      "text/plain": [
       "FloatText(value=-100.0, description='global y min')"
      ]
     },
     "metadata": {},
     "output_type": "display_data"
    },
    {
     "data": {
      "application/vnd.jupyter.widget-view+json": {
       "model_id": "9b9e5318997b48cd8d6d2ec6629b2fab",
       "version_major": 2,
       "version_minor": 0
      },
      "text/plain": [
       "FloatText(value=100.0, description='global z max')"
      ]
     },
     "metadata": {},
     "output_type": "display_data"
    },
    {
     "data": {
      "application/vnd.jupyter.widget-view+json": {
       "model_id": "d5ce8ad8136f4dab95ec030c039fc483",
       "version_major": 2,
       "version_minor": 0
      },
      "text/plain": [
       "FloatText(value=-100.0, description='global z min')"
      ]
     },
     "metadata": {},
     "output_type": "display_data"
    }
   ],
   "source": [
    "for ii in range(len(global_bounds)):\n",
    "    display( global_bounds[ii] )"
   ]
  },
  {
   "cell_type": "markdown",
   "metadata": {},
   "source": [
    "## Magnet setup:\n",
    "> Number of magnets, dimensions, position, and magnetic field components."
   ]
  },
  {
   "cell_type": "markdown",
   "metadata": {},
   "source": [
    "![alt text](magnet_position.png \"Magnet_Setup\")"
   ]
  },
  {
   "cell_type": "code",
   "execution_count": 6,
   "metadata": {},
   "outputs": [
    {
     "data": {
      "application/vnd.jupyter.widget-view+json": {
       "model_id": "59b8b173d22542438a8b7154b3ffdaae",
       "version_major": 2,
       "version_minor": 0
      },
      "text/plain": [
       "BoundedIntText(value=1, description='# of Magnets', min=1)"
      ]
     },
     "metadata": {},
     "output_type": "display_data"
    }
   ],
   "source": [
    "display( number_of_magnets )"
   ]
  },
  {
   "cell_type": "code",
   "execution_count": 7,
   "metadata": {
    "scrolled": true
   },
   "outputs": [
    {
     "data": {
      "application/vnd.jupyter.widget-view+json": {
       "model_id": "8dd98c9d38c94bf1b60700065eacfdd6",
       "version_major": 2,
       "version_minor": 0
      },
      "text/plain": [
       "BoundedFloatText(value=0.0, description='width 1', max=500.0)"
      ]
     },
     "metadata": {},
     "output_type": "display_data"
    },
    {
     "data": {
      "application/vnd.jupyter.widget-view+json": {
       "model_id": "e1987a8e7c864da2869e8ee543cdc301",
       "version_major": 2,
       "version_minor": 0
      },
      "text/plain": [
       "BoundedFloatText(value=0.0, description='length 1', max=500.0)"
      ]
     },
     "metadata": {},
     "output_type": "display_data"
    },
    {
     "data": {
      "application/vnd.jupyter.widget-view+json": {
       "model_id": "f6ca7413c4304b82b27af6dbde631d3a",
       "version_major": 2,
       "version_minor": 0
      },
      "text/plain": [
       "BoundedFloatText(value=0.0, description='height 1')"
      ]
     },
     "metadata": {},
     "output_type": "display_data"
    }
   ],
   "source": [
    "magnet_dimensions_widgets = dynamicFloatValue_Magnet_Dimensions(number_of_magnets.value, global_bounds)\n",
    "for ii in range(len(magnet_dimensions_widgets)):\n",
    "    display( magnet_dimensions_widgets[ii] )"
   ]
  },
  {
   "cell_type": "markdown",
   "metadata": {},
   "source": [
    "> **Note:** This is **not** a dimension of the space between magnets. This is the dimension of one permanent magnet parallel to the separation between the magnets."
   ]
  },
  {
   "cell_type": "code",
   "execution_count": 8,
   "metadata": {},
   "outputs": [
    {
     "data": {
      "application/vnd.jupyter.widget-view+json": {
       "model_id": "fa571a692b03456ba8f9a70aae9507ba",
       "version_major": 2,
       "version_minor": 0
      },
      "text/plain": [
       "FloatText(value=0.0, description='dimension 1')"
      ]
     },
     "metadata": {},
     "output_type": "display_data"
    }
   ],
   "source": [
    "permanent_dimension_widgets = dynamicFloatValue_Permanent_Magnet_Dimension(number_of_magnets.value)\n",
    "for ii in range(len(permanent_dimension_widgets)):\n",
    "    display( permanent_dimension_widgets[ii] )"
   ]
  },
  {
   "cell_type": "markdown",
   "metadata": {},
   "source": [
    "> **Important:** Position value limits are based on global bounds and magnet dimensions. Please re-run the below cell if values for either change."
   ]
  },
  {
   "cell_type": "code",
   "execution_count": 9,
   "metadata": {
    "scrolled": true
   },
   "outputs": [
    {
     "data": {
      "application/vnd.jupyter.widget-view+json": {
       "model_id": "89e8c6d86fb248f19772e36d0b942057",
       "version_major": 2,
       "version_minor": 0
      },
      "text/plain": [
       "BoundedFloatText(value=0.0, description='x pos 1', max=470.0, min=-10.0)"
      ]
     },
     "metadata": {},
     "output_type": "display_data"
    },
    {
     "data": {
      "application/vnd.jupyter.widget-view+json": {
       "model_id": "12642c518c9846d6a47bafe3e70c21f8",
       "version_major": 2,
       "version_minor": 0
      },
      "text/plain": [
       "BoundedFloatText(value=0.0, description='y pos 1', max=495.0, min=-95.0)"
      ]
     },
     "metadata": {},
     "output_type": "display_data"
    },
    {
     "data": {
      "application/vnd.jupyter.widget-view+json": {
       "model_id": "8d79c9dd26674e3ab371b7133cac48eb",
       "version_major": 2,
       "version_minor": 0
      },
      "text/plain": [
       "BoundedFloatText(value=0.0, description='z pos 1', max=98.5, min=-98.5)"
      ]
     },
     "metadata": {},
     "output_type": "display_data"
    }
   ],
   "source": [
    "magnet_position_widgets = dynamicFloatValue_Magnet_Position(number_of_magnets.value, magnet_dimensions_widgets,\n",
    "                                                            global_bounds)\n",
    "for ii in range(len(magnet_position_widgets)):\n",
    "    display( magnet_position_widgets[ii] )"
   ]
  },
  {
   "cell_type": "code",
   "execution_count": 10,
   "metadata": {
    "scrolled": true
   },
   "outputs": [
    {
     "data": {
      "application/vnd.jupyter.widget-view+json": {
       "model_id": "50c6004908754fea998e3b85951f1f0b",
       "version_major": 2,
       "version_minor": 0
      },
      "text/plain": [
       "FloatText(value=1.0, description='B field 1')"
      ]
     },
     "metadata": {},
     "output_type": "display_data"
    },
    {
     "data": {
      "application/vnd.jupyter.widget-view+json": {
       "model_id": "48cb2f3aa7f346d387a06ba7541d2c02",
       "version_major": 2,
       "version_minor": 0
      },
      "text/plain": [
       "Dropdown(description='along the', index=2, options=(('x-axis', 'x'), ('y-axis', 'y'), ('z-axis', 'z')), value=…"
      ]
     },
     "metadata": {},
     "output_type": "display_data"
    }
   ],
   "source": [
    "magnetic_field_values_widgets = dynamicFloatValue_Magnetic_Field_Value(number_of_magnets.value)\n",
    "magnetic_field_axes_widgets = dynamicFloatValue_Magnetic_Field_Axis(number_of_magnets.value)\n",
    "for ii in range(len(magnetic_field_values_widgets)):\n",
    "    display( magnetic_field_values_widgets[ii] )\n",
    "    display( magnetic_field_axes_widgets[ii] )"
   ]
  },
  {
   "cell_type": "markdown",
   "metadata": {},
   "source": [
    "## Beam Setup:\n",
    ">Number of particles, starting position, energy, direction.<br>\n",
    "**Note:** Please input values referencing the beam center. Direction is given by angle from axes."
   ]
  },
  {
   "cell_type": "code",
   "execution_count": 11,
   "metadata": {},
   "outputs": [
    {
     "data": {
      "application/vnd.jupyter.widget-view+json": {
       "model_id": "e10bc8a5a0594a93b1e0a524c9136be0",
       "version_major": 2,
       "version_minor": 0
      },
      "text/plain": [
       "BoundedIntText(value=1, description='# of Particles', max=999999, min=1)"
      ]
     },
     "metadata": {},
     "output_type": "display_data"
    }
   ],
   "source": [
    "display( number_of_particles )"
   ]
  },
  {
   "cell_type": "code",
   "execution_count": 12,
   "metadata": {},
   "outputs": [
    {
     "data": {
      "application/vnd.jupyter.widget-view+json": {
       "model_id": "7aa39f18ab534d8d8a5cc44967c6e49c",
       "version_major": 2,
       "version_minor": 0
      },
      "text/plain": [
       "BoundedFloatText(value=0.0, description='x start pos', max=500.0, min=-10.0)"
      ]
     },
     "metadata": {},
     "output_type": "display_data"
    },
    {
     "data": {
      "application/vnd.jupyter.widget-view+json": {
       "model_id": "99567bf0868b41718fe523b832cac162",
       "version_major": 2,
       "version_minor": 0
      },
      "text/plain": [
       "BoundedFloatText(value=0.0, description='y start pos', max=500.0, min=-100.0)"
      ]
     },
     "metadata": {},
     "output_type": "display_data"
    },
    {
     "data": {
      "application/vnd.jupyter.widget-view+json": {
       "model_id": "fc70e603dd3143ae913322c8bc510943",
       "version_major": 2,
       "version_minor": 0
      },
      "text/plain": [
       "BoundedFloatText(value=0.0, description='z start pos', min=-100.0)"
      ]
     },
     "metadata": {},
     "output_type": "display_data"
    }
   ],
   "source": [
    "beam_start_position_widgets = dynamicFloatValue_Beam_Start_Position(global_bounds)\n",
    "for ii in range(len(beam_start_position_widgets)):\n",
    "    display( beam_start_position_widgets[ii] )"
   ]
  },
  {
   "cell_type": "code",
   "execution_count": 13,
   "metadata": {},
   "outputs": [
    {
     "data": {
      "application/vnd.jupyter.widget-view+json": {
       "model_id": "4d46f0987f0548279ff681354cab905e",
       "version_major": 2,
       "version_minor": 0
      },
      "text/plain": [
       "BoundedFloatText(value=1.0, description='beam energy', max=9999999.0)"
      ]
     },
     "metadata": {},
     "output_type": "display_data"
    }
   ],
   "source": [
    "display(beam_energy)"
   ]
  },
  {
   "cell_type": "code",
   "execution_count": 14,
   "metadata": {},
   "outputs": [
    {
     "data": {
      "application/vnd.jupyter.widget-view+json": {
       "model_id": "26e0c27002814edebeb9cd1eeecc679a",
       "version_major": 2,
       "version_minor": 0
      },
      "text/plain": [
       "FloatText(value=0.0, description='x angle')"
      ]
     },
     "metadata": {},
     "output_type": "display_data"
    },
    {
     "data": {
      "application/vnd.jupyter.widget-view+json": {
       "model_id": "8d9f06109e6a47c68e03495ad923fd3a",
       "version_major": 2,
       "version_minor": 0
      },
      "text/plain": [
       "FloatText(value=1570.7963267948965, description='y angle')"
      ]
     },
     "metadata": {},
     "output_type": "display_data"
    },
    {
     "data": {
      "application/vnd.jupyter.widget-view+json": {
       "model_id": "5a53aa3df34543d7a187ef42d56eb8cf",
       "version_major": 2,
       "version_minor": 0
      },
      "text/plain": [
       "FloatText(value=1570.7963267948965, description='z angle')"
      ]
     },
     "metadata": {},
     "output_type": "display_data"
    }
   ],
   "source": [
    "beam_direction_widgets = dynamicFloatValue_Beam_Direction(units_angles.value)\n",
    "for ii in range(len(beam_direction_widgets)):\n",
    "    display( beam_direction_widgets[ii] )"
   ]
  },
  {
   "cell_type": "markdown",
   "metadata": {},
   "source": [
    "## Beam Spread:\n",
    ">Spread in starting position, energy, and divergence."
   ]
  },
  {
   "cell_type": "code",
   "execution_count": 15,
   "metadata": {},
   "outputs": [
    {
     "data": {
      "application/vnd.jupyter.widget-view+json": {
       "model_id": "f180e307d49641fc877861fd02ce72b1",
       "version_major": 2,
       "version_minor": 0
      },
      "text/plain": [
       "FloatText(value=0.0, description='x pos spread')"
      ]
     },
     "metadata": {},
     "output_type": "display_data"
    },
    {
     "data": {
      "application/vnd.jupyter.widget-view+json": {
       "model_id": "a9cbfedc074b47748eefefba133de5a1",
       "version_major": 2,
       "version_minor": 0
      },
      "text/plain": [
       "FloatText(value=0.0, description='y pos spread')"
      ]
     },
     "metadata": {},
     "output_type": "display_data"
    },
    {
     "data": {
      "application/vnd.jupyter.widget-view+json": {
       "model_id": "2613cad13fe54bb5b3ddd39ef4f4e3d4",
       "version_major": 2,
       "version_minor": 0
      },
      "text/plain": [
       "FloatText(value=0.0, description='z pos spread')"
      ]
     },
     "metadata": {},
     "output_type": "display_data"
    }
   ],
   "source": [
    "beam_position_spread_widgets = dynamicFloatValue_Beam_Position_Spread()\n",
    "for ii in range(len(beam_position_spread_widgets)):\n",
    "    display( beam_position_spread_widgets[ii] )"
   ]
  },
  {
   "cell_type": "code",
   "execution_count": 16,
   "metadata": {},
   "outputs": [
    {
     "data": {
      "application/vnd.jupyter.widget-view+json": {
       "model_id": "9708aefd56c84a829603db26564781ad",
       "version_major": 2,
       "version_minor": 0
      },
      "text/plain": [
       "BoundedFloatText(value=0.0, description='nrg spread', max=9999999.0)"
      ]
     },
     "metadata": {},
     "output_type": "display_data"
    }
   ],
   "source": [
    "display( beam_energy_spread )"
   ]
  },
  {
   "cell_type": "code",
   "execution_count": 17,
   "metadata": {},
   "outputs": [
    {
     "data": {
      "application/vnd.jupyter.widget-view+json": {
       "model_id": "770c628011dd4b4185e83948c86897a8",
       "version_major": 2,
       "version_minor": 0
      },
      "text/plain": [
       "FloatText(value=0.0, description='x divergence')"
      ]
     },
     "metadata": {},
     "output_type": "display_data"
    },
    {
     "data": {
      "application/vnd.jupyter.widget-view+json": {
       "model_id": "3c1aac49877c4e79b5e3619c8e7aca1b",
       "version_major": 2,
       "version_minor": 0
      },
      "text/plain": [
       "FloatText(value=0.0, description='y divergence')"
      ]
     },
     "metadata": {},
     "output_type": "display_data"
    },
    {
     "data": {
      "application/vnd.jupyter.widget-view+json": {
       "model_id": "75758fe37b324820a041a4d43073b5a8",
       "version_major": 2,
       "version_minor": 0
      },
      "text/plain": [
       "FloatText(value=0.0, description='z divergence')"
      ]
     },
     "metadata": {},
     "output_type": "display_data"
    }
   ],
   "source": [
    "beam_divergence_spread_widgets = dynamicFloatValue_Beam_Divergence_Spread()\n",
    "for ii in range(len(beam_divergence_spread_widgets)):\n",
    "    display( beam_divergence_spread_widgets[ii] )"
   ]
  },
  {
   "cell_type": "markdown",
   "metadata": {},
   "source": [
    "## Screen Setup:\n",
    ">Number of screens, dimensions, angles about axes, and position.<br>\n",
    "**Note:** Given angles are yaw (about the z-axis), pitch (about the y-axis), and roll (about the x-axis)."
   ]
  },
  {
   "cell_type": "markdown",
   "metadata": {},
   "source": [
    "![alt text](screen_setup.png \"Screen_Setup\")"
   ]
  },
  {
   "cell_type": "code",
   "execution_count": 18,
   "metadata": {},
   "outputs": [
    {
     "data": {
      "application/vnd.jupyter.widget-view+json": {
       "model_id": "01f5cd22d7344223a486e1d050f76467",
       "version_major": 2,
       "version_minor": 0
      },
      "text/plain": [
       "BoundedIntText(value=1, description='# of Screens')"
      ]
     },
     "metadata": {},
     "output_type": "display_data"
    }
   ],
   "source": [
    "display( number_of_screens )"
   ]
  },
  {
   "cell_type": "code",
   "execution_count": 19,
   "metadata": {},
   "outputs": [
    {
     "data": {
      "application/vnd.jupyter.widget-view+json": {
       "model_id": "66977239da764c059676038da6a5377a",
       "version_major": 2,
       "version_minor": 0
      },
      "text/plain": [
       "BoundedFloatText(value=0.0, description='length 1', max=500.0)"
      ]
     },
     "metadata": {},
     "output_type": "display_data"
    },
    {
     "data": {
      "application/vnd.jupyter.widget-view+json": {
       "model_id": "3ddd165d82984c5ba21307fc72d7175c",
       "version_major": 2,
       "version_minor": 0
      },
      "text/plain": [
       "BoundedFloatText(value=0.0, description='height 1')"
      ]
     },
     "metadata": {},
     "output_type": "display_data"
    }
   ],
   "source": [
    "screen_dimensions_widgets = dynamicFloatValue_Screen_Dimensions(number_of_screens.value, global_bounds)\n",
    "for ii in range(len(screen_dimensions_widgets)):\n",
    "    display( screen_dimensions_widgets[ii] )"
   ]
  },
  {
   "cell_type": "code",
   "execution_count": 20,
   "metadata": {},
   "outputs": [
    {
     "data": {
      "application/vnd.jupyter.widget-view+json": {
       "model_id": "4a5e5c8b2d9843348dc4153306b00440",
       "version_major": 2,
       "version_minor": 0
      },
      "text/plain": [
       "FloatText(value=0.0, description='yaw angle 1')"
      ]
     },
     "metadata": {},
     "output_type": "display_data"
    },
    {
     "data": {
      "application/vnd.jupyter.widget-view+json": {
       "model_id": "fd6c2156cb554745ab01618b6a89cb2d",
       "version_major": 2,
       "version_minor": 0
      },
      "text/plain": [
       "FloatText(value=0.0, description='pitch angle 1')"
      ]
     },
     "metadata": {},
     "output_type": "display_data"
    },
    {
     "data": {
      "application/vnd.jupyter.widget-view+json": {
       "model_id": "00734b1a875742298e3373f52b627790",
       "version_major": 2,
       "version_minor": 0
      },
      "text/plain": [
       "FloatText(value=0.0, description='roll angle 1')"
      ]
     },
     "metadata": {},
     "output_type": "display_data"
    }
   ],
   "source": [
    "screen_angles_widgets = dynamicFloatValue_Screen_Angles(number_of_screens.value)\n",
    "for ii in range(len(screen_angles_widgets)):\n",
    "    display( screen_angles_widgets[ii] )"
   ]
  },
  {
   "cell_type": "markdown",
   "metadata": {},
   "source": [
    "> **Important:** Position value limits are based on global bounds, screen dimensions, and screen angles. Please re-run the below cell if values for any change."
   ]
  },
  {
   "cell_type": "code",
   "execution_count": 21,
   "metadata": {},
   "outputs": [
    {
     "data": {
      "application/vnd.jupyter.widget-view+json": {
       "model_id": "339bb6173cc14c48bc09f82351d741ba",
       "version_major": 2,
       "version_minor": 0
      },
      "text/plain": [
       "BoundedFloatText(value=0.0, description='x pos 1', max=470.3015103375088, min=-10.0)"
      ]
     },
     "metadata": {},
     "output_type": "display_data"
    },
    {
     "data": {
      "application/vnd.jupyter.widget-view+json": {
       "model_id": "f31ff20ac8f54f99ac3d06c22bccca4b",
       "version_major": 2,
       "version_minor": 0
      },
      "text/plain": [
       "BoundedFloatText(value=0.0, description='y pos 1', max=470.30152004282206, min=-100.0)"
      ]
     },
     "metadata": {},
     "output_type": "display_data"
    },
    {
     "data": {
      "application/vnd.jupyter.widget-view+json": {
       "model_id": "ebdfd4e6a0034d13b9e287c240e12b7e",
       "version_major": 2,
       "version_minor": 0
      },
      "text/plain": [
       "BoundedFloatText(value=0.0, description='z pos 1', max=79.0, min=-121.0)"
      ]
     },
     "metadata": {},
     "output_type": "display_data"
    }
   ],
   "source": [
    "screen_position_widgets = dynamicFloatValue_Screen_Position(units_angles.value, number_of_screens.value, global_bounds, \n",
    "                                                            screen_dimensions_widgets, screen_angles_widgets)\n",
    "for ii in range(len(screen_position_widgets)):\n",
    "    display( screen_position_widgets[ii] )"
   ]
  },
  {
   "cell_type": "markdown",
   "metadata": {},
   "source": [
    "## Display and Output info\n",
    ">Displays a 3D model of the spectrometer based on user inputs. If there are no errors, press the button below to output information.<br>\n",
    "**Note:** Axes may not have the same scale."
   ]
  },
  {
   "cell_type": "code",
   "execution_count": 22,
   "metadata": {
    "scrolled": false
   },
   "outputs": [
    {
     "data": {
      "application/javascript": [
       "/* Put everything inside the global mpl namespace */\n",
       "window.mpl = {};\n",
       "\n",
       "\n",
       "mpl.get_websocket_type = function() {\n",
       "    if (typeof(WebSocket) !== 'undefined') {\n",
       "        return WebSocket;\n",
       "    } else if (typeof(MozWebSocket) !== 'undefined') {\n",
       "        return MozWebSocket;\n",
       "    } else {\n",
       "        alert('Your browser does not have WebSocket support.' +\n",
       "              'Please try Chrome, Safari or Firefox ≥ 6. ' +\n",
       "              'Firefox 4 and 5 are also supported but you ' +\n",
       "              'have to enable WebSockets in about:config.');\n",
       "    };\n",
       "}\n",
       "\n",
       "mpl.figure = function(figure_id, websocket, ondownload, parent_element) {\n",
       "    this.id = figure_id;\n",
       "\n",
       "    this.ws = websocket;\n",
       "\n",
       "    this.supports_binary = (this.ws.binaryType != undefined);\n",
       "\n",
       "    if (!this.supports_binary) {\n",
       "        var warnings = document.getElementById(\"mpl-warnings\");\n",
       "        if (warnings) {\n",
       "            warnings.style.display = 'block';\n",
       "            warnings.textContent = (\n",
       "                \"This browser does not support binary websocket messages. \" +\n",
       "                    \"Performance may be slow.\");\n",
       "        }\n",
       "    }\n",
       "\n",
       "    this.imageObj = new Image();\n",
       "\n",
       "    this.context = undefined;\n",
       "    this.message = undefined;\n",
       "    this.canvas = undefined;\n",
       "    this.rubberband_canvas = undefined;\n",
       "    this.rubberband_context = undefined;\n",
       "    this.format_dropdown = undefined;\n",
       "\n",
       "    this.image_mode = 'full';\n",
       "\n",
       "    this.root = $('<div/>');\n",
       "    this._root_extra_style(this.root)\n",
       "    this.root.attr('style', 'display: inline-block');\n",
       "\n",
       "    $(parent_element).append(this.root);\n",
       "\n",
       "    this._init_header(this);\n",
       "    this._init_canvas(this);\n",
       "    this._init_toolbar(this);\n",
       "\n",
       "    var fig = this;\n",
       "\n",
       "    this.waiting = false;\n",
       "\n",
       "    this.ws.onopen =  function () {\n",
       "            fig.send_message(\"supports_binary\", {value: fig.supports_binary});\n",
       "            fig.send_message(\"send_image_mode\", {});\n",
       "            if (mpl.ratio != 1) {\n",
       "                fig.send_message(\"set_dpi_ratio\", {'dpi_ratio': mpl.ratio});\n",
       "            }\n",
       "            fig.send_message(\"refresh\", {});\n",
       "        }\n",
       "\n",
       "    this.imageObj.onload = function() {\n",
       "            if (fig.image_mode == 'full') {\n",
       "                // Full images could contain transparency (where diff images\n",
       "                // almost always do), so we need to clear the canvas so that\n",
       "                // there is no ghosting.\n",
       "                fig.context.clearRect(0, 0, fig.canvas.width, fig.canvas.height);\n",
       "            }\n",
       "            fig.context.drawImage(fig.imageObj, 0, 0);\n",
       "        };\n",
       "\n",
       "    this.imageObj.onunload = function() {\n",
       "        fig.ws.close();\n",
       "    }\n",
       "\n",
       "    this.ws.onmessage = this._make_on_message_function(this);\n",
       "\n",
       "    this.ondownload = ondownload;\n",
       "}\n",
       "\n",
       "mpl.figure.prototype._init_header = function() {\n",
       "    var titlebar = $(\n",
       "        '<div class=\"ui-dialog-titlebar ui-widget-header ui-corner-all ' +\n",
       "        'ui-helper-clearfix\"/>');\n",
       "    var titletext = $(\n",
       "        '<div class=\"ui-dialog-title\" style=\"width: 100%; ' +\n",
       "        'text-align: center; padding: 3px;\"/>');\n",
       "    titlebar.append(titletext)\n",
       "    this.root.append(titlebar);\n",
       "    this.header = titletext[0];\n",
       "}\n",
       "\n",
       "\n",
       "\n",
       "mpl.figure.prototype._canvas_extra_style = function(canvas_div) {\n",
       "\n",
       "}\n",
       "\n",
       "\n",
       "mpl.figure.prototype._root_extra_style = function(canvas_div) {\n",
       "\n",
       "}\n",
       "\n",
       "mpl.figure.prototype._init_canvas = function() {\n",
       "    var fig = this;\n",
       "\n",
       "    var canvas_div = $('<div/>');\n",
       "\n",
       "    canvas_div.attr('style', 'position: relative; clear: both; outline: 0');\n",
       "\n",
       "    function canvas_keyboard_event(event) {\n",
       "        return fig.key_event(event, event['data']);\n",
       "    }\n",
       "\n",
       "    canvas_div.keydown('key_press', canvas_keyboard_event);\n",
       "    canvas_div.keyup('key_release', canvas_keyboard_event);\n",
       "    this.canvas_div = canvas_div\n",
       "    this._canvas_extra_style(canvas_div)\n",
       "    this.root.append(canvas_div);\n",
       "\n",
       "    var canvas = $('<canvas/>');\n",
       "    canvas.addClass('mpl-canvas');\n",
       "    canvas.attr('style', \"left: 0; top: 0; z-index: 0; outline: 0\")\n",
       "\n",
       "    this.canvas = canvas[0];\n",
       "    this.context = canvas[0].getContext(\"2d\");\n",
       "\n",
       "    var backingStore = this.context.backingStorePixelRatio ||\n",
       "\tthis.context.webkitBackingStorePixelRatio ||\n",
       "\tthis.context.mozBackingStorePixelRatio ||\n",
       "\tthis.context.msBackingStorePixelRatio ||\n",
       "\tthis.context.oBackingStorePixelRatio ||\n",
       "\tthis.context.backingStorePixelRatio || 1;\n",
       "\n",
       "    mpl.ratio = (window.devicePixelRatio || 1) / backingStore;\n",
       "\n",
       "    var rubberband = $('<canvas/>');\n",
       "    rubberband.attr('style', \"position: absolute; left: 0; top: 0; z-index: 1;\")\n",
       "\n",
       "    var pass_mouse_events = true;\n",
       "\n",
       "    canvas_div.resizable({\n",
       "        start: function(event, ui) {\n",
       "            pass_mouse_events = false;\n",
       "        },\n",
       "        resize: function(event, ui) {\n",
       "            fig.request_resize(ui.size.width, ui.size.height);\n",
       "        },\n",
       "        stop: function(event, ui) {\n",
       "            pass_mouse_events = true;\n",
       "            fig.request_resize(ui.size.width, ui.size.height);\n",
       "        },\n",
       "    });\n",
       "\n",
       "    function mouse_event_fn(event) {\n",
       "        if (pass_mouse_events)\n",
       "            return fig.mouse_event(event, event['data']);\n",
       "    }\n",
       "\n",
       "    rubberband.mousedown('button_press', mouse_event_fn);\n",
       "    rubberband.mouseup('button_release', mouse_event_fn);\n",
       "    // Throttle sequential mouse events to 1 every 20ms.\n",
       "    rubberband.mousemove('motion_notify', mouse_event_fn);\n",
       "\n",
       "    rubberband.mouseenter('figure_enter', mouse_event_fn);\n",
       "    rubberband.mouseleave('figure_leave', mouse_event_fn);\n",
       "\n",
       "    canvas_div.on(\"wheel\", function (event) {\n",
       "        event = event.originalEvent;\n",
       "        event['data'] = 'scroll'\n",
       "        if (event.deltaY < 0) {\n",
       "            event.step = 1;\n",
       "        } else {\n",
       "            event.step = -1;\n",
       "        }\n",
       "        mouse_event_fn(event);\n",
       "    });\n",
       "\n",
       "    canvas_div.append(canvas);\n",
       "    canvas_div.append(rubberband);\n",
       "\n",
       "    this.rubberband = rubberband;\n",
       "    this.rubberband_canvas = rubberband[0];\n",
       "    this.rubberband_context = rubberband[0].getContext(\"2d\");\n",
       "    this.rubberband_context.strokeStyle = \"#000000\";\n",
       "\n",
       "    this._resize_canvas = function(width, height) {\n",
       "        // Keep the size of the canvas, canvas container, and rubber band\n",
       "        // canvas in synch.\n",
       "        canvas_div.css('width', width)\n",
       "        canvas_div.css('height', height)\n",
       "\n",
       "        canvas.attr('width', width * mpl.ratio);\n",
       "        canvas.attr('height', height * mpl.ratio);\n",
       "        canvas.attr('style', 'width: ' + width + 'px; height: ' + height + 'px;');\n",
       "\n",
       "        rubberband.attr('width', width);\n",
       "        rubberband.attr('height', height);\n",
       "    }\n",
       "\n",
       "    // Set the figure to an initial 600x600px, this will subsequently be updated\n",
       "    // upon first draw.\n",
       "    this._resize_canvas(600, 600);\n",
       "\n",
       "    // Disable right mouse context menu.\n",
       "    $(this.rubberband_canvas).bind(\"contextmenu\",function(e){\n",
       "        return false;\n",
       "    });\n",
       "\n",
       "    function set_focus () {\n",
       "        canvas.focus();\n",
       "        canvas_div.focus();\n",
       "    }\n",
       "\n",
       "    window.setTimeout(set_focus, 100);\n",
       "}\n",
       "\n",
       "mpl.figure.prototype._init_toolbar = function() {\n",
       "    var fig = this;\n",
       "\n",
       "    var nav_element = $('<div/>')\n",
       "    nav_element.attr('style', 'width: 100%');\n",
       "    this.root.append(nav_element);\n",
       "\n",
       "    // Define a callback function for later on.\n",
       "    function toolbar_event(event) {\n",
       "        return fig.toolbar_button_onclick(event['data']);\n",
       "    }\n",
       "    function toolbar_mouse_event(event) {\n",
       "        return fig.toolbar_button_onmouseover(event['data']);\n",
       "    }\n",
       "\n",
       "    for(var toolbar_ind in mpl.toolbar_items) {\n",
       "        var name = mpl.toolbar_items[toolbar_ind][0];\n",
       "        var tooltip = mpl.toolbar_items[toolbar_ind][1];\n",
       "        var image = mpl.toolbar_items[toolbar_ind][2];\n",
       "        var method_name = mpl.toolbar_items[toolbar_ind][3];\n",
       "\n",
       "        if (!name) {\n",
       "            // put a spacer in here.\n",
       "            continue;\n",
       "        }\n",
       "        var button = $('<button/>');\n",
       "        button.addClass('ui-button ui-widget ui-state-default ui-corner-all ' +\n",
       "                        'ui-button-icon-only');\n",
       "        button.attr('role', 'button');\n",
       "        button.attr('aria-disabled', 'false');\n",
       "        button.click(method_name, toolbar_event);\n",
       "        button.mouseover(tooltip, toolbar_mouse_event);\n",
       "\n",
       "        var icon_img = $('<span/>');\n",
       "        icon_img.addClass('ui-button-icon-primary ui-icon');\n",
       "        icon_img.addClass(image);\n",
       "        icon_img.addClass('ui-corner-all');\n",
       "\n",
       "        var tooltip_span = $('<span/>');\n",
       "        tooltip_span.addClass('ui-button-text');\n",
       "        tooltip_span.html(tooltip);\n",
       "\n",
       "        button.append(icon_img);\n",
       "        button.append(tooltip_span);\n",
       "\n",
       "        nav_element.append(button);\n",
       "    }\n",
       "\n",
       "    var fmt_picker_span = $('<span/>');\n",
       "\n",
       "    var fmt_picker = $('<select/>');\n",
       "    fmt_picker.addClass('mpl-toolbar-option ui-widget ui-widget-content');\n",
       "    fmt_picker_span.append(fmt_picker);\n",
       "    nav_element.append(fmt_picker_span);\n",
       "    this.format_dropdown = fmt_picker[0];\n",
       "\n",
       "    for (var ind in mpl.extensions) {\n",
       "        var fmt = mpl.extensions[ind];\n",
       "        var option = $(\n",
       "            '<option/>', {selected: fmt === mpl.default_extension}).html(fmt);\n",
       "        fmt_picker.append(option)\n",
       "    }\n",
       "\n",
       "    // Add hover states to the ui-buttons\n",
       "    $( \".ui-button\" ).hover(\n",
       "        function() { $(this).addClass(\"ui-state-hover\");},\n",
       "        function() { $(this).removeClass(\"ui-state-hover\");}\n",
       "    );\n",
       "\n",
       "    var status_bar = $('<span class=\"mpl-message\"/>');\n",
       "    nav_element.append(status_bar);\n",
       "    this.message = status_bar[0];\n",
       "}\n",
       "\n",
       "mpl.figure.prototype.request_resize = function(x_pixels, y_pixels) {\n",
       "    // Request matplotlib to resize the figure. Matplotlib will then trigger a resize in the client,\n",
       "    // which will in turn request a refresh of the image.\n",
       "    this.send_message('resize', {'width': x_pixels, 'height': y_pixels});\n",
       "}\n",
       "\n",
       "mpl.figure.prototype.send_message = function(type, properties) {\n",
       "    properties['type'] = type;\n",
       "    properties['figure_id'] = this.id;\n",
       "    this.ws.send(JSON.stringify(properties));\n",
       "}\n",
       "\n",
       "mpl.figure.prototype.send_draw_message = function() {\n",
       "    if (!this.waiting) {\n",
       "        this.waiting = true;\n",
       "        this.ws.send(JSON.stringify({type: \"draw\", figure_id: this.id}));\n",
       "    }\n",
       "}\n",
       "\n",
       "\n",
       "mpl.figure.prototype.handle_save = function(fig, msg) {\n",
       "    var format_dropdown = fig.format_dropdown;\n",
       "    var format = format_dropdown.options[format_dropdown.selectedIndex].value;\n",
       "    fig.ondownload(fig, format);\n",
       "}\n",
       "\n",
       "\n",
       "mpl.figure.prototype.handle_resize = function(fig, msg) {\n",
       "    var size = msg['size'];\n",
       "    if (size[0] != fig.canvas.width || size[1] != fig.canvas.height) {\n",
       "        fig._resize_canvas(size[0], size[1]);\n",
       "        fig.send_message(\"refresh\", {});\n",
       "    };\n",
       "}\n",
       "\n",
       "mpl.figure.prototype.handle_rubberband = function(fig, msg) {\n",
       "    var x0 = msg['x0'] / mpl.ratio;\n",
       "    var y0 = (fig.canvas.height - msg['y0']) / mpl.ratio;\n",
       "    var x1 = msg['x1'] / mpl.ratio;\n",
       "    var y1 = (fig.canvas.height - msg['y1']) / mpl.ratio;\n",
       "    x0 = Math.floor(x0) + 0.5;\n",
       "    y0 = Math.floor(y0) + 0.5;\n",
       "    x1 = Math.floor(x1) + 0.5;\n",
       "    y1 = Math.floor(y1) + 0.5;\n",
       "    var min_x = Math.min(x0, x1);\n",
       "    var min_y = Math.min(y0, y1);\n",
       "    var width = Math.abs(x1 - x0);\n",
       "    var height = Math.abs(y1 - y0);\n",
       "\n",
       "    fig.rubberband_context.clearRect(\n",
       "        0, 0, fig.canvas.width, fig.canvas.height);\n",
       "\n",
       "    fig.rubberband_context.strokeRect(min_x, min_y, width, height);\n",
       "}\n",
       "\n",
       "mpl.figure.prototype.handle_figure_label = function(fig, msg) {\n",
       "    // Updates the figure title.\n",
       "    fig.header.textContent = msg['label'];\n",
       "}\n",
       "\n",
       "mpl.figure.prototype.handle_cursor = function(fig, msg) {\n",
       "    var cursor = msg['cursor'];\n",
       "    switch(cursor)\n",
       "    {\n",
       "    case 0:\n",
       "        cursor = 'pointer';\n",
       "        break;\n",
       "    case 1:\n",
       "        cursor = 'default';\n",
       "        break;\n",
       "    case 2:\n",
       "        cursor = 'crosshair';\n",
       "        break;\n",
       "    case 3:\n",
       "        cursor = 'move';\n",
       "        break;\n",
       "    }\n",
       "    fig.rubberband_canvas.style.cursor = cursor;\n",
       "}\n",
       "\n",
       "mpl.figure.prototype.handle_message = function(fig, msg) {\n",
       "    fig.message.textContent = msg['message'];\n",
       "}\n",
       "\n",
       "mpl.figure.prototype.handle_draw = function(fig, msg) {\n",
       "    // Request the server to send over a new figure.\n",
       "    fig.send_draw_message();\n",
       "}\n",
       "\n",
       "mpl.figure.prototype.handle_image_mode = function(fig, msg) {\n",
       "    fig.image_mode = msg['mode'];\n",
       "}\n",
       "\n",
       "mpl.figure.prototype.updated_canvas_event = function() {\n",
       "    // Called whenever the canvas gets updated.\n",
       "    this.send_message(\"ack\", {});\n",
       "}\n",
       "\n",
       "// A function to construct a web socket function for onmessage handling.\n",
       "// Called in the figure constructor.\n",
       "mpl.figure.prototype._make_on_message_function = function(fig) {\n",
       "    return function socket_on_message(evt) {\n",
       "        if (evt.data instanceof Blob) {\n",
       "            /* FIXME: We get \"Resource interpreted as Image but\n",
       "             * transferred with MIME type text/plain:\" errors on\n",
       "             * Chrome.  But how to set the MIME type?  It doesn't seem\n",
       "             * to be part of the websocket stream */\n",
       "            evt.data.type = \"image/png\";\n",
       "\n",
       "            /* Free the memory for the previous frames */\n",
       "            if (fig.imageObj.src) {\n",
       "                (window.URL || window.webkitURL).revokeObjectURL(\n",
       "                    fig.imageObj.src);\n",
       "            }\n",
       "\n",
       "            fig.imageObj.src = (window.URL || window.webkitURL).createObjectURL(\n",
       "                evt.data);\n",
       "            fig.updated_canvas_event();\n",
       "            fig.waiting = false;\n",
       "            return;\n",
       "        }\n",
       "        else if (typeof evt.data === 'string' && evt.data.slice(0, 21) == \"data:image/png;base64\") {\n",
       "            fig.imageObj.src = evt.data;\n",
       "            fig.updated_canvas_event();\n",
       "            fig.waiting = false;\n",
       "            return;\n",
       "        }\n",
       "\n",
       "        var msg = JSON.parse(evt.data);\n",
       "        var msg_type = msg['type'];\n",
       "\n",
       "        // Call the  \"handle_{type}\" callback, which takes\n",
       "        // the figure and JSON message as its only arguments.\n",
       "        try {\n",
       "            var callback = fig[\"handle_\" + msg_type];\n",
       "        } catch (e) {\n",
       "            console.log(\"No handler for the '\" + msg_type + \"' message type: \", msg);\n",
       "            return;\n",
       "        }\n",
       "\n",
       "        if (callback) {\n",
       "            try {\n",
       "                // console.log(\"Handling '\" + msg_type + \"' message: \", msg);\n",
       "                callback(fig, msg);\n",
       "            } catch (e) {\n",
       "                console.log(\"Exception inside the 'handler_\" + msg_type + \"' callback:\", e, e.stack, msg);\n",
       "            }\n",
       "        }\n",
       "    };\n",
       "}\n",
       "\n",
       "// from http://stackoverflow.com/questions/1114465/getting-mouse-location-in-canvas\n",
       "mpl.findpos = function(e) {\n",
       "    //this section is from http://www.quirksmode.org/js/events_properties.html\n",
       "    var targ;\n",
       "    if (!e)\n",
       "        e = window.event;\n",
       "    if (e.target)\n",
       "        targ = e.target;\n",
       "    else if (e.srcElement)\n",
       "        targ = e.srcElement;\n",
       "    if (targ.nodeType == 3) // defeat Safari bug\n",
       "        targ = targ.parentNode;\n",
       "\n",
       "    // jQuery normalizes the pageX and pageY\n",
       "    // pageX,Y are the mouse positions relative to the document\n",
       "    // offset() returns the position of the element relative to the document\n",
       "    var x = e.pageX - $(targ).offset().left;\n",
       "    var y = e.pageY - $(targ).offset().top;\n",
       "\n",
       "    return {\"x\": x, \"y\": y};\n",
       "};\n",
       "\n",
       "/*\n",
       " * return a copy of an object with only non-object keys\n",
       " * we need this to avoid circular references\n",
       " * http://stackoverflow.com/a/24161582/3208463\n",
       " */\n",
       "function simpleKeys (original) {\n",
       "  return Object.keys(original).reduce(function (obj, key) {\n",
       "    if (typeof original[key] !== 'object')\n",
       "        obj[key] = original[key]\n",
       "    return obj;\n",
       "  }, {});\n",
       "}\n",
       "\n",
       "mpl.figure.prototype.mouse_event = function(event, name) {\n",
       "    var canvas_pos = mpl.findpos(event)\n",
       "\n",
       "    if (name === 'button_press')\n",
       "    {\n",
       "        this.canvas.focus();\n",
       "        this.canvas_div.focus();\n",
       "    }\n",
       "\n",
       "    var x = canvas_pos.x * mpl.ratio;\n",
       "    var y = canvas_pos.y * mpl.ratio;\n",
       "\n",
       "    this.send_message(name, {x: x, y: y, button: event.button,\n",
       "                             step: event.step,\n",
       "                             guiEvent: simpleKeys(event)});\n",
       "\n",
       "    /* This prevents the web browser from automatically changing to\n",
       "     * the text insertion cursor when the button is pressed.  We want\n",
       "     * to control all of the cursor setting manually through the\n",
       "     * 'cursor' event from matplotlib */\n",
       "    event.preventDefault();\n",
       "    return false;\n",
       "}\n",
       "\n",
       "mpl.figure.prototype._key_event_extra = function(event, name) {\n",
       "    // Handle any extra behaviour associated with a key event\n",
       "}\n",
       "\n",
       "mpl.figure.prototype.key_event = function(event, name) {\n",
       "\n",
       "    // Prevent repeat events\n",
       "    if (name == 'key_press')\n",
       "    {\n",
       "        if (event.which === this._key)\n",
       "            return;\n",
       "        else\n",
       "            this._key = event.which;\n",
       "    }\n",
       "    if (name == 'key_release')\n",
       "        this._key = null;\n",
       "\n",
       "    var value = '';\n",
       "    if (event.ctrlKey && event.which != 17)\n",
       "        value += \"ctrl+\";\n",
       "    if (event.altKey && event.which != 18)\n",
       "        value += \"alt+\";\n",
       "    if (event.shiftKey && event.which != 16)\n",
       "        value += \"shift+\";\n",
       "\n",
       "    value += 'k';\n",
       "    value += event.which.toString();\n",
       "\n",
       "    this._key_event_extra(event, name);\n",
       "\n",
       "    this.send_message(name, {key: value,\n",
       "                             guiEvent: simpleKeys(event)});\n",
       "    return false;\n",
       "}\n",
       "\n",
       "mpl.figure.prototype.toolbar_button_onclick = function(name) {\n",
       "    if (name == 'download') {\n",
       "        this.handle_save(this, null);\n",
       "    } else {\n",
       "        this.send_message(\"toolbar_button\", {name: name});\n",
       "    }\n",
       "};\n",
       "\n",
       "mpl.figure.prototype.toolbar_button_onmouseover = function(tooltip) {\n",
       "    this.message.textContent = tooltip;\n",
       "};\n",
       "mpl.toolbar_items = [[\"Home\", \"Reset original view\", \"fa fa-home icon-home\", \"home\"], [\"Back\", \"Back to previous view\", \"fa fa-arrow-left icon-arrow-left\", \"back\"], [\"Forward\", \"Forward to next view\", \"fa fa-arrow-right icon-arrow-right\", \"forward\"], [\"\", \"\", \"\", \"\"], [\"Pan\", \"Pan axes with left mouse, zoom with right\", \"fa fa-arrows icon-move\", \"pan\"], [\"Zoom\", \"Zoom to rectangle\", \"fa fa-square-o icon-check-empty\", \"zoom\"], [\"\", \"\", \"\", \"\"], [\"Download\", \"Download plot\", \"fa fa-floppy-o icon-save\", \"download\"]];\n",
       "\n",
       "mpl.extensions = [\"eps\", \"jpeg\", \"pdf\", \"png\", \"ps\", \"raw\", \"svg\", \"tif\"];\n",
       "\n",
       "mpl.default_extension = \"png\";var comm_websocket_adapter = function(comm) {\n",
       "    // Create a \"websocket\"-like object which calls the given IPython comm\n",
       "    // object with the appropriate methods. Currently this is a non binary\n",
       "    // socket, so there is still some room for performance tuning.\n",
       "    var ws = {};\n",
       "\n",
       "    ws.close = function() {\n",
       "        comm.close()\n",
       "    };\n",
       "    ws.send = function(m) {\n",
       "        //console.log('sending', m);\n",
       "        comm.send(m);\n",
       "    };\n",
       "    // Register the callback with on_msg.\n",
       "    comm.on_msg(function(msg) {\n",
       "        //console.log('receiving', msg['content']['data'], msg);\n",
       "        // Pass the mpl event to the overridden (by mpl) onmessage function.\n",
       "        ws.onmessage(msg['content']['data'])\n",
       "    });\n",
       "    return ws;\n",
       "}\n",
       "\n",
       "mpl.mpl_figure_comm = function(comm, msg) {\n",
       "    // This is the function which gets called when the mpl process\n",
       "    // starts-up an IPython Comm through the \"matplotlib\" channel.\n",
       "\n",
       "    var id = msg.content.data.id;\n",
       "    // Get hold of the div created by the display call when the Comm\n",
       "    // socket was opened in Python.\n",
       "    var element = $(\"#\" + id);\n",
       "    var ws_proxy = comm_websocket_adapter(comm)\n",
       "\n",
       "    function ondownload(figure, format) {\n",
       "        window.open(figure.imageObj.src);\n",
       "    }\n",
       "\n",
       "    var fig = new mpl.figure(id, ws_proxy,\n",
       "                           ondownload,\n",
       "                           element.get(0));\n",
       "\n",
       "    // Call onopen now - mpl needs it, as it is assuming we've passed it a real\n",
       "    // web socket which is closed, not our websocket->open comm proxy.\n",
       "    ws_proxy.onopen();\n",
       "\n",
       "    fig.parent_element = element.get(0);\n",
       "    fig.cell_info = mpl.find_output_cell(\"<div id='\" + id + \"'></div>\");\n",
       "    if (!fig.cell_info) {\n",
       "        console.error(\"Failed to find cell for figure\", id, fig);\n",
       "        return;\n",
       "    }\n",
       "\n",
       "    var output_index = fig.cell_info[2]\n",
       "    var cell = fig.cell_info[0];\n",
       "\n",
       "};\n",
       "\n",
       "mpl.figure.prototype.handle_close = function(fig, msg) {\n",
       "    var width = fig.canvas.width/mpl.ratio\n",
       "    fig.root.unbind('remove')\n",
       "\n",
       "    // Update the output cell to use the data from the current canvas.\n",
       "    fig.push_to_output();\n",
       "    var dataURL = fig.canvas.toDataURL();\n",
       "    // Re-enable the keyboard manager in IPython - without this line, in FF,\n",
       "    // the notebook keyboard shortcuts fail.\n",
       "    IPython.keyboard_manager.enable()\n",
       "    $(fig.parent_element).html('<img src=\"' + dataURL + '\" width=\"' + width + '\">');\n",
       "    fig.close_ws(fig, msg);\n",
       "}\n",
       "\n",
       "mpl.figure.prototype.close_ws = function(fig, msg){\n",
       "    fig.send_message('closing', msg);\n",
       "    // fig.ws.close()\n",
       "}\n",
       "\n",
       "mpl.figure.prototype.push_to_output = function(remove_interactive) {\n",
       "    // Turn the data on the canvas into data in the output cell.\n",
       "    var width = this.canvas.width/mpl.ratio\n",
       "    var dataURL = this.canvas.toDataURL();\n",
       "    this.cell_info[1]['text/html'] = '<img src=\"' + dataURL + '\" width=\"' + width + '\">';\n",
       "}\n",
       "\n",
       "mpl.figure.prototype.updated_canvas_event = function() {\n",
       "    // Tell IPython that the notebook contents must change.\n",
       "    IPython.notebook.set_dirty(true);\n",
       "    this.send_message(\"ack\", {});\n",
       "    var fig = this;\n",
       "    // Wait a second, then push the new image to the DOM so\n",
       "    // that it is saved nicely (might be nice to debounce this).\n",
       "    setTimeout(function () { fig.push_to_output() }, 1000);\n",
       "}\n",
       "\n",
       "mpl.figure.prototype._init_toolbar = function() {\n",
       "    var fig = this;\n",
       "\n",
       "    var nav_element = $('<div/>')\n",
       "    nav_element.attr('style', 'width: 100%');\n",
       "    this.root.append(nav_element);\n",
       "\n",
       "    // Define a callback function for later on.\n",
       "    function toolbar_event(event) {\n",
       "        return fig.toolbar_button_onclick(event['data']);\n",
       "    }\n",
       "    function toolbar_mouse_event(event) {\n",
       "        return fig.toolbar_button_onmouseover(event['data']);\n",
       "    }\n",
       "\n",
       "    for(var toolbar_ind in mpl.toolbar_items){\n",
       "        var name = mpl.toolbar_items[toolbar_ind][0];\n",
       "        var tooltip = mpl.toolbar_items[toolbar_ind][1];\n",
       "        var image = mpl.toolbar_items[toolbar_ind][2];\n",
       "        var method_name = mpl.toolbar_items[toolbar_ind][3];\n",
       "\n",
       "        if (!name) { continue; };\n",
       "\n",
       "        var button = $('<button class=\"btn btn-default\" href=\"#\" title=\"' + name + '\"><i class=\"fa ' + image + ' fa-lg\"></i></button>');\n",
       "        button.click(method_name, toolbar_event);\n",
       "        button.mouseover(tooltip, toolbar_mouse_event);\n",
       "        nav_element.append(button);\n",
       "    }\n",
       "\n",
       "    // Add the status bar.\n",
       "    var status_bar = $('<span class=\"mpl-message\" style=\"text-align:right; float: right;\"/>');\n",
       "    nav_element.append(status_bar);\n",
       "    this.message = status_bar[0];\n",
       "\n",
       "    // Add the close button to the window.\n",
       "    var buttongrp = $('<div class=\"btn-group inline pull-right\"></div>');\n",
       "    var button = $('<button class=\"btn btn-mini btn-primary\" href=\"#\" title=\"Stop Interaction\"><i class=\"fa fa-power-off icon-remove icon-large\"></i></button>');\n",
       "    button.click(function (evt) { fig.handle_close(fig, {}); } );\n",
       "    button.mouseover('Stop Interaction', toolbar_mouse_event);\n",
       "    buttongrp.append(button);\n",
       "    var titlebar = this.root.find($('.ui-dialog-titlebar'));\n",
       "    titlebar.prepend(buttongrp);\n",
       "}\n",
       "\n",
       "mpl.figure.prototype._root_extra_style = function(el){\n",
       "    var fig = this\n",
       "    el.on(\"remove\", function(){\n",
       "\tfig.close_ws(fig, {});\n",
       "    });\n",
       "}\n",
       "\n",
       "mpl.figure.prototype._canvas_extra_style = function(el){\n",
       "    // this is important to make the div 'focusable\n",
       "    el.attr('tabindex', 0)\n",
       "    // reach out to IPython and tell the keyboard manager to turn it's self\n",
       "    // off when our div gets focus\n",
       "\n",
       "    // location in version 3\n",
       "    if (IPython.notebook.keyboard_manager) {\n",
       "        IPython.notebook.keyboard_manager.register_events(el);\n",
       "    }\n",
       "    else {\n",
       "        // location in version 2\n",
       "        IPython.keyboard_manager.register_events(el);\n",
       "    }\n",
       "\n",
       "}\n",
       "\n",
       "mpl.figure.prototype._key_event_extra = function(event, name) {\n",
       "    var manager = IPython.notebook.keyboard_manager;\n",
       "    if (!manager)\n",
       "        manager = IPython.keyboard_manager;\n",
       "\n",
       "    // Check for shift+enter\n",
       "    if (event.shiftKey && event.which == 13) {\n",
       "        this.canvas_div.blur();\n",
       "        event.shiftKey = false;\n",
       "        // Send a \"J\" for go to next cell\n",
       "        event.which = 74;\n",
       "        event.keyCode = 74;\n",
       "        manager.command_mode();\n",
       "        manager.handle_keydown(event);\n",
       "    }\n",
       "}\n",
       "\n",
       "mpl.figure.prototype.handle_save = function(fig, msg) {\n",
       "    fig.ondownload(fig, null);\n",
       "}\n",
       "\n",
       "\n",
       "mpl.find_output_cell = function(html_output) {\n",
       "    // Return the cell and output element which can be found *uniquely* in the notebook.\n",
       "    // Note - this is a bit hacky, but it is done because the \"notebook_saving.Notebook\"\n",
       "    // IPython event is triggered only after the cells have been serialised, which for\n",
       "    // our purposes (turning an active figure into a static one), is too late.\n",
       "    var cells = IPython.notebook.get_cells();\n",
       "    var ncells = cells.length;\n",
       "    for (var i=0; i<ncells; i++) {\n",
       "        var cell = cells[i];\n",
       "        if (cell.cell_type === 'code'){\n",
       "            for (var j=0; j<cell.output_area.outputs.length; j++) {\n",
       "                var data = cell.output_area.outputs[j];\n",
       "                if (data.data) {\n",
       "                    // IPython >= 3 moved mimebundle to data attribute of output\n",
       "                    data = data.data;\n",
       "                }\n",
       "                if (data['text/html'] == html_output) {\n",
       "                    return [cell, data, j];\n",
       "                }\n",
       "            }\n",
       "        }\n",
       "    }\n",
       "}\n",
       "\n",
       "// Register the function which deals with the matplotlib target/channel.\n",
       "// The kernel may be null if the page has been refreshed.\n",
       "if (IPython.notebook.kernel != null) {\n",
       "    IPython.notebook.kernel.comm_manager.register_target('matplotlib', mpl.mpl_figure_comm);\n",
       "}\n"
      ],
      "text/plain": [
       "<IPython.core.display.Javascript object>"
      ]
     },
     "metadata": {},
     "output_type": "display_data"
    },
    {
     "data": {
      "text/html": [
       "<img src=\"data:image/png;base64,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\" width=\"639.999990463257\">"
      ],
      "text/plain": [
       "<IPython.core.display.HTML object>"
      ]
     },
     "metadata": {},
     "output_type": "display_data"
    },
    {
     "data": {
      "application/vnd.jupyter.widget-view+json": {
       "model_id": "a380f605abc2489bb23914b81040f410",
       "version_major": 2,
       "version_minor": 0
      },
      "text/plain": [
       "Button(description='Save Inputs', icon='check', layout=Layout(height='80px', width='50%'), style=ButtonStyle()…"
      ]
     },
     "metadata": {},
     "output_type": "display_data"
    },
    {
     "name": "stdout",
     "output_type": "stream",
     "text": [
      "Inputs saved and exported!\n"
     ]
    }
   ],
   "source": [
    "units = [units_length.value, ' ', units_energy.value, ' ', units_angles.value, ' ', units_magnetic_field.value]\n",
    "init_types = [f'{init_position.value}', ' ', f'{init_energy.value}', ' ', f'{init_divergence.value}']\n",
    "\n",
    "convert_beam_direction, convert_divergence_spread, convert_screen_angles = convertAngles(units, beam_direction_widgets, \n",
    "                                                                                         beam_divergence_spread_widgets, \n",
    "                                                                                         screen_angles_widgets)\n",
    "%matplotlib notebook\n",
    "DisplayAndOutput(global_bounds, units, number_of_magnets.value, magnet_dimensions_widgets, permanent_dimension_widgets, \n",
    "                 magnet_position_widgets, magnetic_field_values_widgets, magnetic_field_axes_widgets, \n",
    "                 number_of_particles.value, beam_start_position_widgets, beam_energy, convert_beam_direction, \n",
    "                 beam_position_spread_widgets, beam_energy_spread, convert_divergence_spread, number_of_screens.value, \n",
    "                 screen_dimensions_widgets, screen_position_widgets, convert_screen_angles, init_types)"
   ]
  },
  {
   "cell_type": "markdown",
   "metadata": {},
   "source": [
    "## Genetic Algorithm"
   ]
  },
  {
   "cell_type": "code",
   "execution_count": 21,
   "metadata": {},
   "outputs": [
    {
     "data": {
      "application/vnd.jupyter.widget-view+json": {
       "model_id": "073edb34a8fe4ef0a2efeab41ec0c920",
       "version_major": 2,
       "version_minor": 0
      },
      "text/plain": [
       "Label(value='Do you want to use the genetic algorithm? ')"
      ]
     },
     "metadata": {},
     "output_type": "display_data"
    },
    {
     "data": {
      "application/vnd.jupyter.widget-view+json": {
       "model_id": "f8d47c048a3d4db9b391f8474cdd6085",
       "version_major": 2,
       "version_minor": 0
      },
      "text/plain": [
       "Button(description='Yes', icon='check', style=ButtonStyle())"
      ]
     },
     "metadata": {},
     "output_type": "display_data"
    },
    {
     "data": {
      "application/vnd.jupyter.widget-view+json": {
       "model_id": "567927bba1d7458f9a180ca8a74250d6",
       "version_major": 2,
       "version_minor": 0
      },
      "text/plain": [
       "Label(value='The genetic algorithm has access to mutate:')"
      ]
     },
     "metadata": {},
     "output_type": "display_data"
    },
    {
     "data": {
      "application/vnd.jupyter.widget-view+json": {
       "model_id": "69cc4834667c42ec894630e6a6f2b26c",
       "version_major": 2,
       "version_minor": 0
      },
      "text/plain": [
       "Label(value='Magnet position')"
      ]
     },
     "metadata": {},
     "output_type": "display_data"
    },
    {
     "data": {
      "application/vnd.jupyter.widget-view+json": {
       "model_id": "ded9ebc7dac6461fa4acd33b2b8294dc",
       "version_major": 2,
       "version_minor": 0
      },
      "text/plain": [
       "HBox(children=(VBox(children=(Checkbox(value=False, description='x pos 1'), Checkbox(value=False, description=…"
      ]
     },
     "metadata": {},
     "output_type": "display_data"
    },
    {
     "data": {
      "application/vnd.jupyter.widget-view+json": {
       "model_id": "4886f9032b934775befa77dcb9985d38",
       "version_major": 2,
       "version_minor": 0
      },
      "text/plain": [
       "Label(value='Screen position')"
      ]
     },
     "metadata": {},
     "output_type": "display_data"
    },
    {
     "data": {
      "application/vnd.jupyter.widget-view+json": {
       "model_id": "6fa4309457f34db2a7b66e346acf0668",
       "version_major": 2,
       "version_minor": 0
      },
      "text/plain": [
       "HBox(children=(VBox(children=(Checkbox(value=False, description='x pos 1'), Checkbox(value=False, description=…"
      ]
     },
     "metadata": {},
     "output_type": "display_data"
    },
    {
     "data": {
      "application/vnd.jupyter.widget-view+json": {
       "model_id": "b208a7a1444c4fc3b56dbd38112ed645",
       "version_major": 2,
       "version_minor": 0
      },
      "text/plain": [
       "Label(value='Screen angles')"
      ]
     },
     "metadata": {},
     "output_type": "display_data"
    },
    {
     "data": {
      "application/vnd.jupyter.widget-view+json": {
       "model_id": "4af387d2bacd45fe8a787a55be1f6eab",
       "version_major": 2,
       "version_minor": 0
      },
      "text/plain": [
       "HBox(children=(VBox(children=(Checkbox(value=False, description='yaw 1'), Checkbox(value=False, description='p…"
      ]
     },
     "metadata": {},
     "output_type": "display_data"
    },
    {
     "data": {
      "application/vnd.jupyter.widget-view+json": {
       "model_id": "224ac5abbf4f46438e18191a8bf0d0ec",
       "version_major": 2,
       "version_minor": 0
      },
      "text/plain": [
       "Label(value='Click below to save and output selection')"
      ]
     },
     "metadata": {},
     "output_type": "display_data"
    },
    {
     "data": {
      "application/vnd.jupyter.widget-view+json": {
       "model_id": "2f0ea502baeb48c3af36eb4ad39847f6",
       "version_major": 2,
       "version_minor": 0
      },
      "text/plain": [
       "Button(description='Save Checked Boxes', icon='check', layout=Layout(height='80px', width='50%'), style=Button…"
      ]
     },
     "metadata": {},
     "output_type": "display_data"
    },
    {
     "name": "stdout",
     "output_type": "stream",
     "text": [
      "Choices saved and exported!\n",
      "Choices saved and exported!\n",
      "Choices saved and exported!\n"
     ]
    }
   ],
   "source": [
    "genetic_algorithm_setup(global_bounds, number_of_magnets.value, number_of_screens.value, units_length.value,\n",
    "                        magnetic_field_values_widgets)"
   ]
  },
  {
   "cell_type": "code",
   "execution_count": null,
   "metadata": {},
   "outputs": [],
   "source": []
  }
 ],
 "metadata": {
  "kernelspec": {
   "display_name": "Python 3",
   "language": "python",
   "name": "python3"
  },
  "language_info": {
   "codemirror_mode": {
    "name": "ipython",
    "version": 3
   },
   "file_extension": ".py",
   "mimetype": "text/x-python",
   "name": "python",
   "nbconvert_exporter": "python",
   "pygments_lexer": "ipython3",
   "version": "3.7.3"
  }
 },
 "nbformat": 4,
 "nbformat_minor": 2
}
