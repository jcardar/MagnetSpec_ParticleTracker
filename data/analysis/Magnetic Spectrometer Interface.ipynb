{
 "cells": [
  {
   "cell_type": "markdown",
   "metadata": {},
   "source": [
    "Define interactive variables to set up particle stepper (static and variable), and then have user define figure of merit.<br>\n",
    "Write out in either .csv or .txt file (idea: in .csv file, have rows correspond to objects (ie, magnets, particle beam, etc) and have the first column represent the number of those objects (magnets, beams, etc), and the remaining columns an ordered list of values defining those objects, to read from left to right, spanning all of the relevant objects).<br>\n",
    "Have c++ code read this, and define objects with 'for' loops."
   ]
  },
  {
   "cell_type": "markdown",
   "metadata": {},
   "source": [
    "Items to define for input deck:<br>\n",
    "1. Magnet: Center of Entrance Plane, Length, Width, Height, magnetic field strength (vector) (x-component, y-component, z-component)\n",
    "2. Beam: number of particles, central starting position, central energy, central direction (angles from axes (angle for x determined from angles for y and z, and is silently ignored))\n",
    "3. Beam: spread in starting position, spread in central energy, spread in divergence (user input FWHM of Gaussian spread, code uses 0.5 of this in spread)\n",
    "4. Screen: Low-Energy Middle, Width, Height, Angle from both z- and x-axes"
   ]
  },
  {
   "cell_type": "markdown",
   "metadata": {},
   "source": [
    "## Your preferred units:\n",
    ">Please run the next cell once to generate widget objects. Change the values in the dropdowns to the value to prefer. Do not run the cell again, the value is dynamically updated when you change the value in the dropdown menu!"
   ]
  },
  {
   "cell_type": "code",
   "execution_count": 1,
   "metadata": {},
   "outputs": [
    {
     "data": {
      "application/vnd.jupyter.widget-view+json": {
       "model_id": "18d39d821d3f490e918827e155ae66db",
       "version_major": 2,
       "version_minor": 0
      },
      "text/plain": [
       "Dropdown(description='Length Unit', index=1, layout=Layout(width='250px'), options=('mm', 'cm', 'm'), style=De…"
      ]
     },
     "metadata": {},
     "output_type": "display_data"
    },
    {
     "data": {
      "application/vnd.jupyter.widget-view+json": {
       "model_id": "83bb91d69c694b06a15df2d472b64d57",
       "version_major": 2,
       "version_minor": 0
      },
      "text/plain": [
       "Dropdown(description='Energy Unit', index=1, layout=Layout(width='250px'), options=('eV', 'MeV', 'GeV'), style…"
      ]
     },
     "metadata": {},
     "output_type": "display_data"
    },
    {
     "data": {
      "application/vnd.jupyter.widget-view+json": {
       "model_id": "a605a4f21a1743dc8ab4434011e47338",
       "version_major": 2,
       "version_minor": 0
      },
      "text/plain": [
       "Dropdown(description='Angle Unit', layout=Layout(width='250px'), options=('mrad', 'Radians', 'Degrees'), style…"
      ]
     },
     "metadata": {},
     "output_type": "display_data"
    },
    {
     "data": {
      "application/vnd.jupyter.widget-view+json": {
       "model_id": "4e8f42a2057f42859a2f90b946ce180f",
       "version_major": 2,
       "version_minor": 0
      },
      "text/plain": [
       "Dropdown(description='Field Unit', layout=Layout(width='250px'), options=('Tesla', 'Gauss'), style=Description…"
      ]
     },
     "metadata": {},
     "output_type": "display_data"
    }
   ],
   "source": [
    "from magspecinterface_functions import *\n",
    "#import importlib\n",
    "#importlib.reload(magspecinterface_functions)\n",
    "#import magspecinterface_functions\n",
    "display( units_length )\n",
    "display( units_energy )\n",
    "display( units_angles )\n",
    "display( units_magnetic_field )"
   ]
  },
  {
   "cell_type": "markdown",
   "metadata": {},
   "source": [
    "## Initialization type"
   ]
  },
  {
   "cell_type": "code",
   "execution_count": 25,
   "metadata": {},
   "outputs": [
    {
     "data": {
      "application/vnd.jupyter.widget-view+json": {
       "model_id": "861def76cd074456ba6b6217ecc27f87",
       "version_major": 2,
       "version_minor": 0
      },
      "text/plain": [
       "Dropdown(description='Position', index=2, layout=Layout(width='250px'), options=(('Gaussian', 0), ('Uniform', …"
      ]
     },
     "metadata": {},
     "output_type": "display_data"
    },
    {
     "data": {
      "application/vnd.jupyter.widget-view+json": {
       "model_id": "0ca9f7bff56b4b10b3118181c1cf6c6e",
       "version_major": 2,
       "version_minor": 0
      },
      "text/plain": [
       "Dropdown(description='Energy', index=1, layout=Layout(width='250px'), options=(('Gaussian', 0), ('Uniform', 1)…"
      ]
     },
     "metadata": {},
     "output_type": "display_data"
    },
    {
     "data": {
      "application/vnd.jupyter.widget-view+json": {
       "model_id": "7961800e15524cf7b1f6f9da6a34b60b",
       "version_major": 2,
       "version_minor": 0
      },
      "text/plain": [
       "Dropdown(description='Divergence', index=2, layout=Layout(width='250px'), options=(('Gaussian', 0), ('Uniform'…"
      ]
     },
     "metadata": {},
     "output_type": "display_data"
    }
   ],
   "source": [
    "display( init_position )\n",
    "display( init_energy )\n",
    "display( init_divergence )"
   ]
  },
  {
   "cell_type": "markdown",
   "metadata": {},
   "source": [
    "## Spectrometer coordinate system\n",
    "> Define the limits to the spectrometer coordinate system. You are free to choose what marks the origin.<br>\n",
    "**Note:** Global bounds may be negative."
   ]
  },
  {
   "cell_type": "code",
   "execution_count": 26,
   "metadata": {},
   "outputs": [
    {
     "data": {
      "application/vnd.jupyter.widget-view+json": {
       "model_id": "b42c9114ca1d4f9db8077edd83639bd5",
       "version_major": 2,
       "version_minor": 0
      },
      "text/plain": [
       "FloatText(value=300.0, description='Global x max', layout=Layout(width='250px'), style=DescriptionStyle(descri…"
      ]
     },
     "metadata": {},
     "output_type": "display_data"
    },
    {
     "data": {
      "application/vnd.jupyter.widget-view+json": {
       "model_id": "ec9db711eb8943aeba136ca31ad6e412",
       "version_major": 2,
       "version_minor": 0
      },
      "text/plain": [
       "FloatText(value=-10.0, description='Global x min', layout=Layout(width='250px'), style=DescriptionStyle(descri…"
      ]
     },
     "metadata": {},
     "output_type": "display_data"
    },
    {
     "data": {
      "application/vnd.jupyter.widget-view+json": {
       "model_id": "0e0517d5453d49689b5fa6f6ba20fcc3",
       "version_major": 2,
       "version_minor": 0
      },
      "text/plain": [
       "FloatText(value=100.0, description='Global y max', layout=Layout(width='250px'), style=DescriptionStyle(descri…"
      ]
     },
     "metadata": {},
     "output_type": "display_data"
    },
    {
     "data": {
      "application/vnd.jupyter.widget-view+json": {
       "model_id": "e5fcc62d28a44ee39a866ed33fa0ced7",
       "version_major": 2,
       "version_minor": 0
      },
      "text/plain": [
       "FloatText(value=-200.0, description='Global y min', layout=Layout(width='250px'), style=DescriptionStyle(descr…"
      ]
     },
     "metadata": {},
     "output_type": "display_data"
    },
    {
     "data": {
      "application/vnd.jupyter.widget-view+json": {
       "model_id": "eba7a58db2b44e41989a033b825d08e3",
       "version_major": 2,
       "version_minor": 0
      },
      "text/plain": [
       "FloatText(value=100.0, description='Global z max', layout=Layout(width='250px'), style=DescriptionStyle(descri…"
      ]
     },
     "metadata": {},
     "output_type": "display_data"
    },
    {
     "data": {
      "application/vnd.jupyter.widget-view+json": {
       "model_id": "a4a5cf49d8504fbc9f2190b888d86703",
       "version_major": 2,
       "version_minor": 0
      },
      "text/plain": [
       "FloatText(value=-100.0, description='Global z min', layout=Layout(width='250px'), style=DescriptionStyle(descr…"
      ]
     },
     "metadata": {},
     "output_type": "display_data"
    }
   ],
   "source": [
    "for ii in range(len(global_bounds)):\n",
    "    display( global_bounds[ii] )"
   ]
  },
  {
   "cell_type": "markdown",
   "metadata": {},
   "source": [
    "## Magnet setup:\n",
    "> Number of magnets, dimensions, position, and magnetic field components."
   ]
  },
  {
   "cell_type": "markdown",
   "metadata": {},
   "source": [
    "![alt text](magnet_position.png \"Magnet_Setup\")"
   ]
  },
  {
   "cell_type": "code",
   "execution_count": 27,
   "metadata": {},
   "outputs": [
    {
     "data": {
      "application/vnd.jupyter.widget-view+json": {
       "model_id": "e8085ee85f564797ab61e3f3be55a31d",
       "version_major": 2,
       "version_minor": 0
      },
      "text/plain": [
       "BoundedIntText(value=1, description='Number of Magnets', layout=Layout(width='250px'), style=DescriptionStyle(…"
      ]
     },
     "metadata": {},
     "output_type": "display_data"
    }
   ],
   "source": [
    "display( number_of_magnets )"
   ]
  },
  {
   "cell_type": "code",
   "execution_count": 28,
   "metadata": {
    "scrolled": true
   },
   "outputs": [
    {
     "data": {
      "application/vnd.jupyter.widget-view+json": {
       "model_id": "0058edcdd9e14fbaa99e66f613ce659e",
       "version_major": 2,
       "version_minor": 0
      },
      "text/plain": [
       "BoundedFloatText(value=10.0, description='Width 1', layout=Layout(width='250px'), style=DescriptionStyle(descr…"
      ]
     },
     "metadata": {},
     "output_type": "display_data"
    },
    {
     "data": {
      "application/vnd.jupyter.widget-view+json": {
       "model_id": "55ceba9823d940baaef7881a233b02ae",
       "version_major": 2,
       "version_minor": 0
      },
      "text/plain": [
       "BoundedFloatText(value=30.0, description='Length 1', layout=Layout(width='250px'), max=300.0, style=Descriptio…"
      ]
     },
     "metadata": {},
     "output_type": "display_data"
    },
    {
     "data": {
      "application/vnd.jupyter.widget-view+json": {
       "model_id": "8cc4b29c95d04d249c70364caa8d19f2",
       "version_major": 2,
       "version_minor": 0
      },
      "text/plain": [
       "BoundedFloatText(value=5.0, description='Height 1', layout=Layout(width='250px'), style=DescriptionStyle(descr…"
      ]
     },
     "metadata": {},
     "output_type": "display_data"
    }
   ],
   "source": [
    "magnet_dimensions_widgets = dynamicFloatValue_Magnet_Dimensions(number_of_magnets.value, global_bounds)\n",
    "for ii in range(len(magnet_dimensions_widgets)):\n",
    "    display( magnet_dimensions_widgets[ii] )"
   ]
  },
  {
   "cell_type": "markdown",
   "metadata": {},
   "source": [
    "> **Note:** This is **not** a dimension of the space between magnets. This is the dimension of one permanent magnet parallel to the separation between the magnets."
   ]
  },
  {
   "cell_type": "code",
   "execution_count": 29,
   "metadata": {},
   "outputs": [
    {
     "data": {
      "application/vnd.jupyter.widget-view+json": {
       "model_id": "f064a99e93f640b29422634f6f85f97f",
       "version_major": 2,
       "version_minor": 0
      },
      "text/plain": [
       "FloatText(value=10.0, description='Dimension 1', layout=Layout(width='250px'), style=DescriptionStyle(descript…"
      ]
     },
     "metadata": {},
     "output_type": "display_data"
    }
   ],
   "source": [
    "permanent_dimension_widgets = dynamicFloatValue_Permanent_Magnet_Dimension(number_of_magnets.value)\n",
    "for ii in range(len(permanent_dimension_widgets)):\n",
    "    display( permanent_dimension_widgets[ii] )"
   ]
  },
  {
   "cell_type": "markdown",
   "metadata": {},
   "source": [
    "> **Important:** Position value limits are based on global bounds and magnet dimensions. Please re-run the below cell if values for either change."
   ]
  },
  {
   "cell_type": "code",
   "execution_count": 30,
   "metadata": {
    "scrolled": true
   },
   "outputs": [
    {
     "data": {
      "application/vnd.jupyter.widget-view+json": {
       "model_id": "73993f8def1042038e6390907b9a0554",
       "version_major": 2,
       "version_minor": 0
      },
      "text/plain": [
       "BoundedFloatText(value=0.0, description='X-Position 1', layout=Layout(width='250px'), max=270.0, min=-10.0, st…"
      ]
     },
     "metadata": {},
     "output_type": "display_data"
    },
    {
     "data": {
      "application/vnd.jupyter.widget-view+json": {
       "model_id": "22c3aa34fae94ef197ed5f1ad34c771e",
       "version_major": 2,
       "version_minor": 0
      },
      "text/plain": [
       "BoundedFloatText(value=0.0, description='Y-Position 1', layout=Layout(width='250px'), max=95.0, min=-195.0, st…"
      ]
     },
     "metadata": {},
     "output_type": "display_data"
    },
    {
     "data": {
      "application/vnd.jupyter.widget-view+json": {
       "model_id": "74d593f526e4499084cef9b1d24fc6ef",
       "version_major": 2,
       "version_minor": 0
      },
      "text/plain": [
       "BoundedFloatText(value=0.0, description='Z-Position 1', layout=Layout(width='250px'), max=98.5, min=-98.5, sty…"
      ]
     },
     "metadata": {},
     "output_type": "display_data"
    }
   ],
   "source": [
    "magnet_position_widgets = dynamicFloatValue_Magnet_Position(number_of_magnets.value, magnet_dimensions_widgets,\n",
    "                                                            global_bounds)\n",
    "for ii in range(len(magnet_position_widgets)):\n",
    "    display( magnet_position_widgets[ii] )"
   ]
  },
  {
   "cell_type": "code",
   "execution_count": 31,
   "metadata": {
    "scrolled": true
   },
   "outputs": [
    {
     "data": {
      "application/vnd.jupyter.widget-view+json": {
       "model_id": "6d64c6efb8da4f2299df53f7f160a168",
       "version_major": 2,
       "version_minor": 0
      },
      "text/plain": [
       "Dropdown(description='Dipole Field Type', layout=Layout(width='250px'), options=('Analytic Dipole Field', 'Uni…"
      ]
     },
     "metadata": {},
     "output_type": "display_data"
    },
    {
     "data": {
      "application/vnd.jupyter.widget-view+json": {
       "model_id": "429c5667296b4fec995f8bf52079002e",
       "version_major": 2,
       "version_minor": 0
      },
      "text/plain": [
       "FloatText(value=1.0, description='B field 1', layout=Layout(width='250px'), style=DescriptionStyle(description…"
      ]
     },
     "metadata": {},
     "output_type": "display_data"
    },
    {
     "data": {
      "application/vnd.jupyter.widget-view+json": {
       "model_id": "eb2bb295cb904e809890c26ffa83e46f",
       "version_major": 2,
       "version_minor": 0
      },
      "text/plain": [
       "Dropdown(description='Along the', index=2, layout=Layout(width='250px'), options=(('x-axis', 'x'), ('y-axis', …"
      ]
     },
     "metadata": {},
     "output_type": "display_data"
    }
   ],
   "source": [
    "display( dipole_field_type_widget )\n",
    "magnetic_field_values_widgets = dynamicFloatValue_Magnetic_Field_Value(number_of_magnets.value)\n",
    "magnetic_field_axes_widgets = dynamicFloatValue_Magnetic_Field_Axis(number_of_magnets.value)\n",
    "for ii in range(len(magnetic_field_values_widgets)):\n",
    "    display( magnetic_field_values_widgets[ii] )\n",
    "    display( magnetic_field_axes_widgets[ii] )"
   ]
  },
  {
   "cell_type": "markdown",
   "metadata": {},
   "source": [
    "## Beam Setup:\n",
    ">Number of particles, starting position, energy, direction.<br>\n",
    "**Note:** Please input values referencing the beam center. Direction is given by angle from axes."
   ]
  },
  {
   "cell_type": "code",
   "execution_count": 32,
   "metadata": {},
   "outputs": [
    {
     "data": {
      "application/vnd.jupyter.widget-view+json": {
       "model_id": "abd2951db4eb45f8b37e29fbbc2215f8",
       "version_major": 2,
       "version_minor": 0
      },
      "text/plain": [
       "Dropdown(description='Particle Species', layout=Layout(width='250px'), options=('Electrons', 'Positrons'), sty…"
      ]
     },
     "metadata": {},
     "output_type": "display_data"
    }
   ],
   "source": [
    "display( particle_species )"
   ]
  },
  {
   "cell_type": "code",
   "execution_count": 33,
   "metadata": {},
   "outputs": [
    {
     "data": {
      "application/vnd.jupyter.widget-view+json": {
       "model_id": "999b6553cafc42c3b99edb2894a15a12",
       "version_major": 2,
       "version_minor": 0
      },
      "text/plain": [
       "BoundedIntText(value=61, description='Number of Particles', layout=Layout(width='250px'), max=999999, min=1, s…"
      ]
     },
     "metadata": {},
     "output_type": "display_data"
    }
   ],
   "source": [
    "display( number_of_particles )"
   ]
  },
  {
   "cell_type": "code",
   "execution_count": 34,
   "metadata": {},
   "outputs": [
    {
     "data": {
      "application/vnd.jupyter.widget-view+json": {
       "model_id": "f586f59ec1fb49d4a9584685383d9345",
       "version_major": 2,
       "version_minor": 0
      },
      "text/plain": [
       "BoundedFloatText(value=0.0, description='Initial X-Position', layout=Layout(width='250px'), max=300.0, min=-10…"
      ]
     },
     "metadata": {},
     "output_type": "display_data"
    },
    {
     "data": {
      "application/vnd.jupyter.widget-view+json": {
       "model_id": "bac081f452cd432fb5fab3b480f57f76",
       "version_major": 2,
       "version_minor": 0
      },
      "text/plain": [
       "BoundedFloatText(value=0.0, description='Initial Y-Position', layout=Layout(width='250px'), min=-200.0, style=…"
      ]
     },
     "metadata": {},
     "output_type": "display_data"
    },
    {
     "data": {
      "application/vnd.jupyter.widget-view+json": {
       "model_id": "f95b99a2585b4e33b7941669281254a3",
       "version_major": 2,
       "version_minor": 0
      },
      "text/plain": [
       "BoundedFloatText(value=0.0, description='Initial Z-Position', layout=Layout(width='250px'), min=-100.0, style=…"
      ]
     },
     "metadata": {},
     "output_type": "display_data"
    }
   ],
   "source": [
    "beam_start_position_widgets = dynamicFloatValue_Beam_Start_Position(global_bounds)\n",
    "for ii in range(len(beam_start_position_widgets)):\n",
    "    display( beam_start_position_widgets[ii] )"
   ]
  },
  {
   "cell_type": "code",
   "execution_count": 35,
   "metadata": {},
   "outputs": [
    {
     "data": {
      "application/vnd.jupyter.widget-view+json": {
       "model_id": "87332edf4bee4a45a7c18e715954b1e7",
       "version_major": 2,
       "version_minor": 0
      },
      "text/plain": [
       "BoundedFloatText(value=400.0, description='Central KE', layout=Layout(width='250px'), max=9999999.0, style=Des…"
      ]
     },
     "metadata": {},
     "output_type": "display_data"
    }
   ],
   "source": [
    "display(beam_energy)"
   ]
  },
  {
   "cell_type": "code",
   "execution_count": 36,
   "metadata": {},
   "outputs": [
    {
     "data": {
      "application/vnd.jupyter.widget-view+json": {
       "model_id": "40edab01c9374ba9a20b0395d13a88a3",
       "version_major": 2,
       "version_minor": 0
      },
      "text/plain": [
       "FloatText(value=0.0, description='Angle with Respect to X-Axis', layout=Layout(width='500px'), style=Descripti…"
      ]
     },
     "metadata": {},
     "output_type": "display_data"
    },
    {
     "data": {
      "application/vnd.jupyter.widget-view+json": {
       "model_id": "585b0abb28bd49f7bc129341074e364d",
       "version_major": 2,
       "version_minor": 0
      },
      "text/plain": [
       "FloatText(value=1570.7963267948965, description='Angle with Respect to Y-Axis', layout=Layout(width='500px'), …"
      ]
     },
     "metadata": {},
     "output_type": "display_data"
    },
    {
     "data": {
      "application/vnd.jupyter.widget-view+json": {
       "model_id": "ee726e2a7d1443d6b4d39e2099a757d1",
       "version_major": 2,
       "version_minor": 0
      },
      "text/plain": [
       "FloatText(value=1570.7963267948965, description='Angle with Respect to Z-Axis', layout=Layout(width='500px'), …"
      ]
     },
     "metadata": {},
     "output_type": "display_data"
    }
   ],
   "source": [
    "beam_direction_widgets = dynamicFloatValue_Beam_Direction(units_angles.value)\n",
    "for ii in range(len(beam_direction_widgets)):\n",
    "    display( beam_direction_widgets[ii] )"
   ]
  },
  {
   "cell_type": "markdown",
   "metadata": {},
   "source": [
    "## Beam Spread:\n",
    ">Spread in starting position, energy, and divergence."
   ]
  },
  {
   "cell_type": "code",
   "execution_count": 37,
   "metadata": {},
   "outputs": [
    {
     "data": {
      "application/vnd.jupyter.widget-view+json": {
       "model_id": "f62beaa2d408487eb735125224bdb7c0",
       "version_major": 2,
       "version_minor": 0
      },
      "text/plain": [
       "FloatText(value=0.0, description='Spread in Initial X-Position', layout=Layout(width='500px'), style=Descripti…"
      ]
     },
     "metadata": {},
     "output_type": "display_data"
    },
    {
     "data": {
      "application/vnd.jupyter.widget-view+json": {
       "model_id": "54559b988bd7495a990eb79ec2497fe3",
       "version_major": 2,
       "version_minor": 0
      },
      "text/plain": [
       "FloatText(value=0.0, description='Spread in Initial Y-Position', layout=Layout(width='500px'), style=Descripti…"
      ]
     },
     "metadata": {},
     "output_type": "display_data"
    },
    {
     "data": {
      "application/vnd.jupyter.widget-view+json": {
       "model_id": "2cb93aec7f1f433aa5ac529e2eb3abb4",
       "version_major": 2,
       "version_minor": 0
      },
      "text/plain": [
       "FloatText(value=0.0, description='Spread in Initial Z-Position', layout=Layout(width='500px'), style=Descripti…"
      ]
     },
     "metadata": {},
     "output_type": "display_data"
    }
   ],
   "source": [
    "beam_position_spread_widgets = dynamicFloatValue_Beam_Position_Spread()\n",
    "for ii in range(len(beam_position_spread_widgets)):\n",
    "    display( beam_position_spread_widgets[ii] )"
   ]
  },
  {
   "cell_type": "code",
   "execution_count": 38,
   "metadata": {},
   "outputs": [
    {
     "data": {
      "application/vnd.jupyter.widget-view+json": {
       "model_id": "b93b4803dd084e35b7f7ea7ba485b76f",
       "version_major": 2,
       "version_minor": 0
      },
      "text/plain": [
       "BoundedFloatText(value=380.0, description='Energy Spread', layout=Layout(width='500px'), max=9999999.0, style=…"
      ]
     },
     "metadata": {},
     "output_type": "display_data"
    }
   ],
   "source": [
    "display( beam_energy_spread )"
   ]
  },
  {
   "cell_type": "code",
   "execution_count": 39,
   "metadata": {},
   "outputs": [
    {
     "data": {
      "application/vnd.jupyter.widget-view+json": {
       "model_id": "b511b49a2da5413e85c3d611dcff7995",
       "version_major": 2,
       "version_minor": 0
      },
      "text/plain": [
       "FloatText(value=0.0, description='X-Divergence Angle', layout=Layout(width='500px'), style=DescriptionStyle(de…"
      ]
     },
     "metadata": {},
     "output_type": "display_data"
    },
    {
     "data": {
      "application/vnd.jupyter.widget-view+json": {
       "model_id": "db4b4b5ea4fc4789855e47f60937c153",
       "version_major": 2,
       "version_minor": 0
      },
      "text/plain": [
       "FloatText(value=10.0, description='Y-Divergence Angle', layout=Layout(width='500px'), style=DescriptionStyle(d…"
      ]
     },
     "metadata": {},
     "output_type": "display_data"
    },
    {
     "data": {
      "application/vnd.jupyter.widget-view+json": {
       "model_id": "5d125130d81d433c8c6990c13eb12a26",
       "version_major": 2,
       "version_minor": 0
      },
      "text/plain": [
       "FloatText(value=10.0, description='Z-Divergence Angle', layout=Layout(width='500px'), style=DescriptionStyle(d…"
      ]
     },
     "metadata": {},
     "output_type": "display_data"
    }
   ],
   "source": [
    "beam_divergence_spread_widgets = dynamicFloatValue_Beam_Divergence_Spread()\n",
    "for ii in range(len(beam_divergence_spread_widgets)):\n",
    "    display( beam_divergence_spread_widgets[ii] )"
   ]
  },
  {
   "cell_type": "markdown",
   "metadata": {},
   "source": [
    "## Screen Setup:\n",
    ">Number of screens, dimensions, angles about axes, and position.<br>\n",
    "**Note:** Given angles are yaw (about the z-axis), pitch (about the y-axis), and roll (about the x-axis)."
   ]
  },
  {
   "cell_type": "markdown",
   "metadata": {},
   "source": [
    "![alt text](screen_setup.png \"Screen_Setup\")"
   ]
  },
  {
   "cell_type": "code",
   "execution_count": 40,
   "metadata": {},
   "outputs": [
    {
     "data": {
      "application/vnd.jupyter.widget-view+json": {
       "model_id": "70815735314f439c81077d21b8b7f7dc",
       "version_major": 2,
       "version_minor": 0
      },
      "text/plain": [
       "BoundedIntText(value=2, description='Number of Screens', layout=Layout(width='500px'), style=DescriptionStyle(…"
      ]
     },
     "metadata": {},
     "output_type": "display_data"
    }
   ],
   "source": [
    "display( number_of_screens )"
   ]
  },
  {
   "cell_type": "code",
   "execution_count": 41,
   "metadata": {},
   "outputs": [
    {
     "data": {
      "application/vnd.jupyter.widget-view+json": {
       "model_id": "991e97b64eae47ac9c739e231fbf49b5",
       "version_major": 2,
       "version_minor": 0
      },
      "text/plain": [
       "BoundedFloatText(value=50.0, description='Length of Screen 1', layout=Layout(width='500px'), max=300.0, style=…"
      ]
     },
     "metadata": {},
     "output_type": "display_data"
    },
    {
     "data": {
      "application/vnd.jupyter.widget-view+json": {
       "model_id": "2e7d9c9197e34318959199ce1e386fed",
       "version_major": 2,
       "version_minor": 0
      },
      "text/plain": [
       "BoundedFloatText(value=10.0, description='Height of Screen 1', layout=Layout(width='500px'), style=Description…"
      ]
     },
     "metadata": {},
     "output_type": "display_data"
    },
    {
     "data": {
      "application/vnd.jupyter.widget-view+json": {
       "model_id": "560bf2e59abb4c8daf99b68ee14b2a2e",
       "version_major": 2,
       "version_minor": 0
      },
      "text/plain": [
       "BoundedFloatText(value=50.0, description='Length of Screen 2', layout=Layout(width='500px'), max=300.0, style=…"
      ]
     },
     "metadata": {},
     "output_type": "display_data"
    },
    {
     "data": {
      "application/vnd.jupyter.widget-view+json": {
       "model_id": "ce2514111ad74ca4b4c0954b8cec3051",
       "version_major": 2,
       "version_minor": 0
      },
      "text/plain": [
       "BoundedFloatText(value=10.0, description='Height of Screen 2', layout=Layout(width='500px'), style=Description…"
      ]
     },
     "metadata": {},
     "output_type": "display_data"
    }
   ],
   "source": [
    "screen_dimensions_widgets = dynamicFloatValue_Screen_Dimensions(number_of_screens.value, global_bounds)\n",
    "for ii in range(len(screen_dimensions_widgets)):\n",
    "    display( screen_dimensions_widgets[ii] )"
   ]
  },
  {
   "cell_type": "code",
   "execution_count": 42,
   "metadata": {},
   "outputs": [
    {
     "data": {
      "application/vnd.jupyter.widget-view+json": {
       "model_id": "b1978731338a4fd687776c4f653f4505",
       "version_major": 2,
       "version_minor": 0
      },
      "text/plain": [
       "FloatText(value=1570.8, description='Yaw (About Z-Axis) Angle of Screen 1', layout=Layout(width='500px'), styl…"
      ]
     },
     "metadata": {},
     "output_type": "display_data"
    },
    {
     "data": {
      "application/vnd.jupyter.widget-view+json": {
       "model_id": "87411d2ebdcc4c0db0912cb4eb9d6cbc",
       "version_major": 2,
       "version_minor": 0
      },
      "text/plain": [
       "FloatText(value=0.0, description='Pitch (About Y-Axis) Angle of Screen 1', layout=Layout(width='500px'), style…"
      ]
     },
     "metadata": {},
     "output_type": "display_data"
    },
    {
     "data": {
      "application/vnd.jupyter.widget-view+json": {
       "model_id": "57c12879c2c54585870a75aa552bbccf",
       "version_major": 2,
       "version_minor": 0
      },
      "text/plain": [
       "FloatText(value=0.0, description='Roll (About X-Axis) Angle of Screen 1', layout=Layout(width='500px'), style=…"
      ]
     },
     "metadata": {},
     "output_type": "display_data"
    },
    {
     "data": {
      "application/vnd.jupyter.widget-view+json": {
       "model_id": "7cd2e19c402f44b2b48b25595bce11aa",
       "version_major": 2,
       "version_minor": 0
      },
      "text/plain": [
       "FloatText(value=1570.8, description='Yaw (About Z-Axis) Angle of Screen 2', layout=Layout(width='500px'), styl…"
      ]
     },
     "metadata": {},
     "output_type": "display_data"
    },
    {
     "data": {
      "application/vnd.jupyter.widget-view+json": {
       "model_id": "39b4391e3426490b92ece07725f9d111",
       "version_major": 2,
       "version_minor": 0
      },
      "text/plain": [
       "FloatText(value=0.0, description='Pitch (About Y-Axis) Angle of Screen 2', layout=Layout(width='500px'), style…"
      ]
     },
     "metadata": {},
     "output_type": "display_data"
    },
    {
     "data": {
      "application/vnd.jupyter.widget-view+json": {
       "model_id": "36808d20c8be4e37bfdaf27b920b1f70",
       "version_major": 2,
       "version_minor": 0
      },
      "text/plain": [
       "FloatText(value=0.0, description='Roll (About X-Axis) Angle of Screen 2', layout=Layout(width='500px'), style=…"
      ]
     },
     "metadata": {},
     "output_type": "display_data"
    }
   ],
   "source": [
    "screen_angles_widgets = dynamicFloatValue_Screen_Angles(number_of_screens.value)\n",
    "for ii in range(len(screen_angles_widgets)):\n",
    "    display( screen_angles_widgets[ii] )"
   ]
  },
  {
   "cell_type": "markdown",
   "metadata": {},
   "source": [
    "> **Important:** Position value limits are based on global bounds, screen dimensions, and screen angles. Please re-run the below cell if values for any change."
   ]
  },
  {
   "cell_type": "code",
   "execution_count": 43,
   "metadata": {},
   "outputs": [
    {
     "data": {
      "application/vnd.jupyter.widget-view+json": {
       "model_id": "574116bbd7d4468eaa2d6aee16a63a04",
       "version_major": 2,
       "version_minor": 0
      },
      "text/plain": [
       "BoundedFloatText(value=50.0, description='X-Position of Screen 1', max=276.8, min=-10.0)"
      ]
     },
     "metadata": {},
     "output_type": "display_data"
    },
    {
     "data": {
      "application/vnd.jupyter.widget-view+json": {
       "model_id": "42593eb697344efbb2d066cbc73e5c0b",
       "version_major": 2,
       "version_minor": 0
      },
      "text/plain": [
       "BoundedFloatText(value=-25.0, description='Y-Position of Screen 1', min=-200.0)"
      ]
     },
     "metadata": {},
     "output_type": "display_data"
    },
    {
     "data": {
      "application/vnd.jupyter.widget-view+json": {
       "model_id": "a28b4c650dd7468c920a79f23a18ed98",
       "version_major": 2,
       "version_minor": 0
      },
      "text/plain": [
       "BoundedFloatText(value=0.0, description='Z-Position of Screen 1', max=98.6, min=-101.4)"
      ]
     },
     "metadata": {},
     "output_type": "display_data"
    },
    {
     "data": {
      "application/vnd.jupyter.widget-view+json": {
       "model_id": "fea1759e2d8a4a229bf3bd54c8dedd1e",
       "version_major": 2,
       "version_minor": 0
      },
      "text/plain": [
       "BoundedFloatText(value=50.0, description='X-Position of Screen 2', max=274.7, min=-10.0)"
      ]
     },
     "metadata": {},
     "output_type": "display_data"
    },
    {
     "data": {
      "application/vnd.jupyter.widget-view+json": {
       "model_id": "7002c41d5a6f4834b4882629a0469265",
       "version_major": 2,
       "version_minor": 0
      },
      "text/plain": [
       "BoundedFloatText(value=-25.0, description='Y-Position of Screen 2', min=-200.0)"
      ]
     },
     "metadata": {},
     "output_type": "display_data"
    },
    {
     "data": {
      "application/vnd.jupyter.widget-view+json": {
       "model_id": "3808e8bd16004d6b9b78313435969e2a",
       "version_major": 2,
       "version_minor": 0
      },
      "text/plain": [
       "BoundedFloatText(value=0.0, description='Z-Position of Screen 2', max=98.6, min=-101.4)"
      ]
     },
     "metadata": {},
     "output_type": "display_data"
    }
   ],
   "source": [
    "screen_position_widgets = dynamicFloatValue_Screen_Position(units_angles.value, number_of_screens.value, global_bounds, \n",
    "                                                            screen_dimensions_widgets, screen_angles_widgets)\n",
    "for ii in range(len(screen_position_widgets)):\n",
    "    display( screen_position_widgets[ii] )"
   ]
  },
  {
   "cell_type": "markdown",
   "metadata": {},
   "source": [
    "## Display and Output info\n",
    ">Displays a 3D model of the spectrometer based on user inputs. If there are no errors, press the button below to output information.<br>\n",
    "**Note:** Axes may not have the same scale."
   ]
  },
  {
   "cell_type": "code",
   "execution_count": 44,
   "metadata": {
    "scrolled": false
   },
   "outputs": [
    {
     "data": {
      "application/javascript": [
       "/* Put everything inside the global mpl namespace */\n",
       "/* global mpl */\n",
       "window.mpl = {};\n",
       "\n",
       "mpl.get_websocket_type = function () {\n",
       "    if (typeof WebSocket !== 'undefined') {\n",
       "        return WebSocket;\n",
       "    } else if (typeof MozWebSocket !== 'undefined') {\n",
       "        return MozWebSocket;\n",
       "    } else {\n",
       "        alert(\n",
       "            'Your browser does not have WebSocket support. ' +\n",
       "                'Please try Chrome, Safari or Firefox ≥ 6. ' +\n",
       "                'Firefox 4 and 5 are also supported but you ' +\n",
       "                'have to enable WebSockets in about:config.'\n",
       "        );\n",
       "    }\n",
       "};\n",
       "\n",
       "mpl.figure = function (figure_id, websocket, ondownload, parent_element) {\n",
       "    this.id = figure_id;\n",
       "\n",
       "    this.ws = websocket;\n",
       "\n",
       "    this.supports_binary = this.ws.binaryType !== undefined;\n",
       "\n",
       "    if (!this.supports_binary) {\n",
       "        var warnings = document.getElementById('mpl-warnings');\n",
       "        if (warnings) {\n",
       "            warnings.style.display = 'block';\n",
       "            warnings.textContent =\n",
       "                'This browser does not support binary websocket messages. ' +\n",
       "                'Performance may be slow.';\n",
       "        }\n",
       "    }\n",
       "\n",
       "    this.imageObj = new Image();\n",
       "\n",
       "    this.context = undefined;\n",
       "    this.message = undefined;\n",
       "    this.canvas = undefined;\n",
       "    this.rubberband_canvas = undefined;\n",
       "    this.rubberband_context = undefined;\n",
       "    this.format_dropdown = undefined;\n",
       "\n",
       "    this.image_mode = 'full';\n",
       "\n",
       "    this.root = document.createElement('div');\n",
       "    this.root.setAttribute('style', 'display: inline-block');\n",
       "    this._root_extra_style(this.root);\n",
       "\n",
       "    parent_element.appendChild(this.root);\n",
       "\n",
       "    this._init_header(this);\n",
       "    this._init_canvas(this);\n",
       "    this._init_toolbar(this);\n",
       "\n",
       "    var fig = this;\n",
       "\n",
       "    this.waiting = false;\n",
       "\n",
       "    this.ws.onopen = function () {\n",
       "        fig.send_message('supports_binary', { value: fig.supports_binary });\n",
       "        fig.send_message('send_image_mode', {});\n",
       "        if (fig.ratio !== 1) {\n",
       "            fig.send_message('set_dpi_ratio', { dpi_ratio: fig.ratio });\n",
       "        }\n",
       "        fig.send_message('refresh', {});\n",
       "    };\n",
       "\n",
       "    this.imageObj.onload = function () {\n",
       "        if (fig.image_mode === 'full') {\n",
       "            // Full images could contain transparency (where diff images\n",
       "            // almost always do), so we need to clear the canvas so that\n",
       "            // there is no ghosting.\n",
       "            fig.context.clearRect(0, 0, fig.canvas.width, fig.canvas.height);\n",
       "        }\n",
       "        fig.context.drawImage(fig.imageObj, 0, 0);\n",
       "    };\n",
       "\n",
       "    this.imageObj.onunload = function () {\n",
       "        fig.ws.close();\n",
       "    };\n",
       "\n",
       "    this.ws.onmessage = this._make_on_message_function(this);\n",
       "\n",
       "    this.ondownload = ondownload;\n",
       "};\n",
       "\n",
       "mpl.figure.prototype._init_header = function () {\n",
       "    var titlebar = document.createElement('div');\n",
       "    titlebar.classList =\n",
       "        'ui-dialog-titlebar ui-widget-header ui-corner-all ui-helper-clearfix';\n",
       "    var titletext = document.createElement('div');\n",
       "    titletext.classList = 'ui-dialog-title';\n",
       "    titletext.setAttribute(\n",
       "        'style',\n",
       "        'width: 100%; text-align: center; padding: 3px;'\n",
       "    );\n",
       "    titlebar.appendChild(titletext);\n",
       "    this.root.appendChild(titlebar);\n",
       "    this.header = titletext;\n",
       "};\n",
       "\n",
       "mpl.figure.prototype._canvas_extra_style = function (_canvas_div) {};\n",
       "\n",
       "mpl.figure.prototype._root_extra_style = function (_canvas_div) {};\n",
       "\n",
       "mpl.figure.prototype._init_canvas = function () {\n",
       "    var fig = this;\n",
       "\n",
       "    var canvas_div = (this.canvas_div = document.createElement('div'));\n",
       "    canvas_div.setAttribute(\n",
       "        'style',\n",
       "        'border: 1px solid #ddd;' +\n",
       "            'box-sizing: content-box;' +\n",
       "            'clear: both;' +\n",
       "            'min-height: 1px;' +\n",
       "            'min-width: 1px;' +\n",
       "            'outline: 0;' +\n",
       "            'overflow: hidden;' +\n",
       "            'position: relative;' +\n",
       "            'resize: both;'\n",
       "    );\n",
       "\n",
       "    function on_keyboard_event_closure(name) {\n",
       "        return function (event) {\n",
       "            return fig.key_event(event, name);\n",
       "        };\n",
       "    }\n",
       "\n",
       "    canvas_div.addEventListener(\n",
       "        'keydown',\n",
       "        on_keyboard_event_closure('key_press')\n",
       "    );\n",
       "    canvas_div.addEventListener(\n",
       "        'keyup',\n",
       "        on_keyboard_event_closure('key_release')\n",
       "    );\n",
       "\n",
       "    this._canvas_extra_style(canvas_div);\n",
       "    this.root.appendChild(canvas_div);\n",
       "\n",
       "    var canvas = (this.canvas = document.createElement('canvas'));\n",
       "    canvas.classList.add('mpl-canvas');\n",
       "    canvas.setAttribute('style', 'box-sizing: content-box;');\n",
       "\n",
       "    this.context = canvas.getContext('2d');\n",
       "\n",
       "    var backingStore =\n",
       "        this.context.backingStorePixelRatio ||\n",
       "        this.context.webkitBackingStorePixelRatio ||\n",
       "        this.context.mozBackingStorePixelRatio ||\n",
       "        this.context.msBackingStorePixelRatio ||\n",
       "        this.context.oBackingStorePixelRatio ||\n",
       "        this.context.backingStorePixelRatio ||\n",
       "        1;\n",
       "\n",
       "    this.ratio = (window.devicePixelRatio || 1) / backingStore;\n",
       "    if (this.ratio !== 1) {\n",
       "        fig.send_message('set_dpi_ratio', { dpi_ratio: this.ratio });\n",
       "    }\n",
       "\n",
       "    var rubberband_canvas = (this.rubberband_canvas = document.createElement(\n",
       "        'canvas'\n",
       "    ));\n",
       "    rubberband_canvas.setAttribute(\n",
       "        'style',\n",
       "        'box-sizing: content-box; position: absolute; left: 0; top: 0; z-index: 1;'\n",
       "    );\n",
       "\n",
       "    var resizeObserver = new ResizeObserver(function (entries) {\n",
       "        var nentries = entries.length;\n",
       "        for (var i = 0; i < nentries; i++) {\n",
       "            var entry = entries[i];\n",
       "            var width, height;\n",
       "            if (entry.contentBoxSize) {\n",
       "                if (entry.contentBoxSize instanceof Array) {\n",
       "                    // Chrome 84 implements new version of spec.\n",
       "                    width = entry.contentBoxSize[0].inlineSize;\n",
       "                    height = entry.contentBoxSize[0].blockSize;\n",
       "                } else {\n",
       "                    // Firefox implements old version of spec.\n",
       "                    width = entry.contentBoxSize.inlineSize;\n",
       "                    height = entry.contentBoxSize.blockSize;\n",
       "                }\n",
       "            } else {\n",
       "                // Chrome <84 implements even older version of spec.\n",
       "                width = entry.contentRect.width;\n",
       "                height = entry.contentRect.height;\n",
       "            }\n",
       "\n",
       "            // Keep the size of the canvas and rubber band canvas in sync with\n",
       "            // the canvas container.\n",
       "            if (entry.devicePixelContentBoxSize) {\n",
       "                // Chrome 84 implements new version of spec.\n",
       "                canvas.setAttribute(\n",
       "                    'width',\n",
       "                    entry.devicePixelContentBoxSize[0].inlineSize\n",
       "                );\n",
       "                canvas.setAttribute(\n",
       "                    'height',\n",
       "                    entry.devicePixelContentBoxSize[0].blockSize\n",
       "                );\n",
       "            } else {\n",
       "                canvas.setAttribute('width', width * fig.ratio);\n",
       "                canvas.setAttribute('height', height * fig.ratio);\n",
       "            }\n",
       "            canvas.setAttribute(\n",
       "                'style',\n",
       "                'width: ' + width + 'px; height: ' + height + 'px;'\n",
       "            );\n",
       "\n",
       "            rubberband_canvas.setAttribute('width', width);\n",
       "            rubberband_canvas.setAttribute('height', height);\n",
       "\n",
       "            // And update the size in Python. We ignore the initial 0/0 size\n",
       "            // that occurs as the element is placed into the DOM, which should\n",
       "            // otherwise not happen due to the minimum size styling.\n",
       "            if (width != 0 && height != 0) {\n",
       "                fig.request_resize(width, height);\n",
       "            }\n",
       "        }\n",
       "    });\n",
       "    resizeObserver.observe(canvas_div);\n",
       "\n",
       "    function on_mouse_event_closure(name) {\n",
       "        return function (event) {\n",
       "            return fig.mouse_event(event, name);\n",
       "        };\n",
       "    }\n",
       "\n",
       "    rubberband_canvas.addEventListener(\n",
       "        'mousedown',\n",
       "        on_mouse_event_closure('button_press')\n",
       "    );\n",
       "    rubberband_canvas.addEventListener(\n",
       "        'mouseup',\n",
       "        on_mouse_event_closure('button_release')\n",
       "    );\n",
       "    // Throttle sequential mouse events to 1 every 20ms.\n",
       "    rubberband_canvas.addEventListener(\n",
       "        'mousemove',\n",
       "        on_mouse_event_closure('motion_notify')\n",
       "    );\n",
       "\n",
       "    rubberband_canvas.addEventListener(\n",
       "        'mouseenter',\n",
       "        on_mouse_event_closure('figure_enter')\n",
       "    );\n",
       "    rubberband_canvas.addEventListener(\n",
       "        'mouseleave',\n",
       "        on_mouse_event_closure('figure_leave')\n",
       "    );\n",
       "\n",
       "    canvas_div.addEventListener('wheel', function (event) {\n",
       "        if (event.deltaY < 0) {\n",
       "            event.step = 1;\n",
       "        } else {\n",
       "            event.step = -1;\n",
       "        }\n",
       "        on_mouse_event_closure('scroll')(event);\n",
       "    });\n",
       "\n",
       "    canvas_div.appendChild(canvas);\n",
       "    canvas_div.appendChild(rubberband_canvas);\n",
       "\n",
       "    this.rubberband_context = rubberband_canvas.getContext('2d');\n",
       "    this.rubberband_context.strokeStyle = '#000000';\n",
       "\n",
       "    this._resize_canvas = function (width, height, forward) {\n",
       "        if (forward) {\n",
       "            canvas_div.style.width = width + 'px';\n",
       "            canvas_div.style.height = height + 'px';\n",
       "        }\n",
       "    };\n",
       "\n",
       "    // Disable right mouse context menu.\n",
       "    this.rubberband_canvas.addEventListener('contextmenu', function (_e) {\n",
       "        event.preventDefault();\n",
       "        return false;\n",
       "    });\n",
       "\n",
       "    function set_focus() {\n",
       "        canvas.focus();\n",
       "        canvas_div.focus();\n",
       "    }\n",
       "\n",
       "    window.setTimeout(set_focus, 100);\n",
       "};\n",
       "\n",
       "mpl.figure.prototype._init_toolbar = function () {\n",
       "    var fig = this;\n",
       "\n",
       "    var toolbar = document.createElement('div');\n",
       "    toolbar.classList = 'mpl-toolbar';\n",
       "    this.root.appendChild(toolbar);\n",
       "\n",
       "    function on_click_closure(name) {\n",
       "        return function (_event) {\n",
       "            return fig.toolbar_button_onclick(name);\n",
       "        };\n",
       "    }\n",
       "\n",
       "    function on_mouseover_closure(tooltip) {\n",
       "        return function (event) {\n",
       "            if (!event.currentTarget.disabled) {\n",
       "                return fig.toolbar_button_onmouseover(tooltip);\n",
       "            }\n",
       "        };\n",
       "    }\n",
       "\n",
       "    fig.buttons = {};\n",
       "    var buttonGroup = document.createElement('div');\n",
       "    buttonGroup.classList = 'mpl-button-group';\n",
       "    for (var toolbar_ind in mpl.toolbar_items) {\n",
       "        var name = mpl.toolbar_items[toolbar_ind][0];\n",
       "        var tooltip = mpl.toolbar_items[toolbar_ind][1];\n",
       "        var image = mpl.toolbar_items[toolbar_ind][2];\n",
       "        var method_name = mpl.toolbar_items[toolbar_ind][3];\n",
       "\n",
       "        if (!name) {\n",
       "            /* Instead of a spacer, we start a new button group. */\n",
       "            if (buttonGroup.hasChildNodes()) {\n",
       "                toolbar.appendChild(buttonGroup);\n",
       "            }\n",
       "            buttonGroup = document.createElement('div');\n",
       "            buttonGroup.classList = 'mpl-button-group';\n",
       "            continue;\n",
       "        }\n",
       "\n",
       "        var button = (fig.buttons[name] = document.createElement('button'));\n",
       "        button.classList = 'mpl-widget';\n",
       "        button.setAttribute('role', 'button');\n",
       "        button.setAttribute('aria-disabled', 'false');\n",
       "        button.addEventListener('click', on_click_closure(method_name));\n",
       "        button.addEventListener('mouseover', on_mouseover_closure(tooltip));\n",
       "\n",
       "        var icon_img = document.createElement('img');\n",
       "        icon_img.src = '_images/' + image + '.png';\n",
       "        icon_img.srcset = '_images/' + image + '_large.png 2x';\n",
       "        icon_img.alt = tooltip;\n",
       "        button.appendChild(icon_img);\n",
       "\n",
       "        buttonGroup.appendChild(button);\n",
       "    }\n",
       "\n",
       "    if (buttonGroup.hasChildNodes()) {\n",
       "        toolbar.appendChild(buttonGroup);\n",
       "    }\n",
       "\n",
       "    var fmt_picker = document.createElement('select');\n",
       "    fmt_picker.classList = 'mpl-widget';\n",
       "    toolbar.appendChild(fmt_picker);\n",
       "    this.format_dropdown = fmt_picker;\n",
       "\n",
       "    for (var ind in mpl.extensions) {\n",
       "        var fmt = mpl.extensions[ind];\n",
       "        var option = document.createElement('option');\n",
       "        option.selected = fmt === mpl.default_extension;\n",
       "        option.innerHTML = fmt;\n",
       "        fmt_picker.appendChild(option);\n",
       "    }\n",
       "\n",
       "    var status_bar = document.createElement('span');\n",
       "    status_bar.classList = 'mpl-message';\n",
       "    toolbar.appendChild(status_bar);\n",
       "    this.message = status_bar;\n",
       "};\n",
       "\n",
       "mpl.figure.prototype.request_resize = function (x_pixels, y_pixels) {\n",
       "    // Request matplotlib to resize the figure. Matplotlib will then trigger a resize in the client,\n",
       "    // which will in turn request a refresh of the image.\n",
       "    this.send_message('resize', { width: x_pixels, height: y_pixels });\n",
       "};\n",
       "\n",
       "mpl.figure.prototype.send_message = function (type, properties) {\n",
       "    properties['type'] = type;\n",
       "    properties['figure_id'] = this.id;\n",
       "    this.ws.send(JSON.stringify(properties));\n",
       "};\n",
       "\n",
       "mpl.figure.prototype.send_draw_message = function () {\n",
       "    if (!this.waiting) {\n",
       "        this.waiting = true;\n",
       "        this.ws.send(JSON.stringify({ type: 'draw', figure_id: this.id }));\n",
       "    }\n",
       "};\n",
       "\n",
       "mpl.figure.prototype.handle_save = function (fig, _msg) {\n",
       "    var format_dropdown = fig.format_dropdown;\n",
       "    var format = format_dropdown.options[format_dropdown.selectedIndex].value;\n",
       "    fig.ondownload(fig, format);\n",
       "};\n",
       "\n",
       "mpl.figure.prototype.handle_resize = function (fig, msg) {\n",
       "    var size = msg['size'];\n",
       "    if (size[0] !== fig.canvas.width || size[1] !== fig.canvas.height) {\n",
       "        fig._resize_canvas(size[0], size[1], msg['forward']);\n",
       "        fig.send_message('refresh', {});\n",
       "    }\n",
       "};\n",
       "\n",
       "mpl.figure.prototype.handle_rubberband = function (fig, msg) {\n",
       "    var x0 = msg['x0'] / fig.ratio;\n",
       "    var y0 = (fig.canvas.height - msg['y0']) / fig.ratio;\n",
       "    var x1 = msg['x1'] / fig.ratio;\n",
       "    var y1 = (fig.canvas.height - msg['y1']) / fig.ratio;\n",
       "    x0 = Math.floor(x0) + 0.5;\n",
       "    y0 = Math.floor(y0) + 0.5;\n",
       "    x1 = Math.floor(x1) + 0.5;\n",
       "    y1 = Math.floor(y1) + 0.5;\n",
       "    var min_x = Math.min(x0, x1);\n",
       "    var min_y = Math.min(y0, y1);\n",
       "    var width = Math.abs(x1 - x0);\n",
       "    var height = Math.abs(y1 - y0);\n",
       "\n",
       "    fig.rubberband_context.clearRect(\n",
       "        0,\n",
       "        0,\n",
       "        fig.canvas.width / fig.ratio,\n",
       "        fig.canvas.height / fig.ratio\n",
       "    );\n",
       "\n",
       "    fig.rubberband_context.strokeRect(min_x, min_y, width, height);\n",
       "};\n",
       "\n",
       "mpl.figure.prototype.handle_figure_label = function (fig, msg) {\n",
       "    // Updates the figure title.\n",
       "    fig.header.textContent = msg['label'];\n",
       "};\n",
       "\n",
       "mpl.figure.prototype.handle_cursor = function (fig, msg) {\n",
       "    var cursor = msg['cursor'];\n",
       "    switch (cursor) {\n",
       "        case 0:\n",
       "            cursor = 'pointer';\n",
       "            break;\n",
       "        case 1:\n",
       "            cursor = 'default';\n",
       "            break;\n",
       "        case 2:\n",
       "            cursor = 'crosshair';\n",
       "            break;\n",
       "        case 3:\n",
       "            cursor = 'move';\n",
       "            break;\n",
       "    }\n",
       "    fig.rubberband_canvas.style.cursor = cursor;\n",
       "};\n",
       "\n",
       "mpl.figure.prototype.handle_message = function (fig, msg) {\n",
       "    fig.message.textContent = msg['message'];\n",
       "};\n",
       "\n",
       "mpl.figure.prototype.handle_draw = function (fig, _msg) {\n",
       "    // Request the server to send over a new figure.\n",
       "    fig.send_draw_message();\n",
       "};\n",
       "\n",
       "mpl.figure.prototype.handle_image_mode = function (fig, msg) {\n",
       "    fig.image_mode = msg['mode'];\n",
       "};\n",
       "\n",
       "mpl.figure.prototype.handle_history_buttons = function (fig, msg) {\n",
       "    for (var key in msg) {\n",
       "        if (!(key in fig.buttons)) {\n",
       "            continue;\n",
       "        }\n",
       "        fig.buttons[key].disabled = !msg[key];\n",
       "        fig.buttons[key].setAttribute('aria-disabled', !msg[key]);\n",
       "    }\n",
       "};\n",
       "\n",
       "mpl.figure.prototype.handle_navigate_mode = function (fig, msg) {\n",
       "    if (msg['mode'] === 'PAN') {\n",
       "        fig.buttons['Pan'].classList.add('active');\n",
       "        fig.buttons['Zoom'].classList.remove('active');\n",
       "    } else if (msg['mode'] === 'ZOOM') {\n",
       "        fig.buttons['Pan'].classList.remove('active');\n",
       "        fig.buttons['Zoom'].classList.add('active');\n",
       "    } else {\n",
       "        fig.buttons['Pan'].classList.remove('active');\n",
       "        fig.buttons['Zoom'].classList.remove('active');\n",
       "    }\n",
       "};\n",
       "\n",
       "mpl.figure.prototype.updated_canvas_event = function () {\n",
       "    // Called whenever the canvas gets updated.\n",
       "    this.send_message('ack', {});\n",
       "};\n",
       "\n",
       "// A function to construct a web socket function for onmessage handling.\n",
       "// Called in the figure constructor.\n",
       "mpl.figure.prototype._make_on_message_function = function (fig) {\n",
       "    return function socket_on_message(evt) {\n",
       "        if (evt.data instanceof Blob) {\n",
       "            /* FIXME: We get \"Resource interpreted as Image but\n",
       "             * transferred with MIME type text/plain:\" errors on\n",
       "             * Chrome.  But how to set the MIME type?  It doesn't seem\n",
       "             * to be part of the websocket stream */\n",
       "            evt.data.type = 'image/png';\n",
       "\n",
       "            /* Free the memory for the previous frames */\n",
       "            if (fig.imageObj.src) {\n",
       "                (window.URL || window.webkitURL).revokeObjectURL(\n",
       "                    fig.imageObj.src\n",
       "                );\n",
       "            }\n",
       "\n",
       "            fig.imageObj.src = (window.URL || window.webkitURL).createObjectURL(\n",
       "                evt.data\n",
       "            );\n",
       "            fig.updated_canvas_event();\n",
       "            fig.waiting = false;\n",
       "            return;\n",
       "        } else if (\n",
       "            typeof evt.data === 'string' &&\n",
       "            evt.data.slice(0, 21) === 'data:image/png;base64'\n",
       "        ) {\n",
       "            fig.imageObj.src = evt.data;\n",
       "            fig.updated_canvas_event();\n",
       "            fig.waiting = false;\n",
       "            return;\n",
       "        }\n",
       "\n",
       "        var msg = JSON.parse(evt.data);\n",
       "        var msg_type = msg['type'];\n",
       "\n",
       "        // Call the  \"handle_{type}\" callback, which takes\n",
       "        // the figure and JSON message as its only arguments.\n",
       "        try {\n",
       "            var callback = fig['handle_' + msg_type];\n",
       "        } catch (e) {\n",
       "            console.log(\n",
       "                \"No handler for the '\" + msg_type + \"' message type: \",\n",
       "                msg\n",
       "            );\n",
       "            return;\n",
       "        }\n",
       "\n",
       "        if (callback) {\n",
       "            try {\n",
       "                // console.log(\"Handling '\" + msg_type + \"' message: \", msg);\n",
       "                callback(fig, msg);\n",
       "            } catch (e) {\n",
       "                console.log(\n",
       "                    \"Exception inside the 'handler_\" + msg_type + \"' callback:\",\n",
       "                    e,\n",
       "                    e.stack,\n",
       "                    msg\n",
       "                );\n",
       "            }\n",
       "        }\n",
       "    };\n",
       "};\n",
       "\n",
       "// from http://stackoverflow.com/questions/1114465/getting-mouse-location-in-canvas\n",
       "mpl.findpos = function (e) {\n",
       "    //this section is from http://www.quirksmode.org/js/events_properties.html\n",
       "    var targ;\n",
       "    if (!e) {\n",
       "        e = window.event;\n",
       "    }\n",
       "    if (e.target) {\n",
       "        targ = e.target;\n",
       "    } else if (e.srcElement) {\n",
       "        targ = e.srcElement;\n",
       "    }\n",
       "    if (targ.nodeType === 3) {\n",
       "        // defeat Safari bug\n",
       "        targ = targ.parentNode;\n",
       "    }\n",
       "\n",
       "    // pageX,Y are the mouse positions relative to the document\n",
       "    var boundingRect = targ.getBoundingClientRect();\n",
       "    var x = e.pageX - (boundingRect.left + document.body.scrollLeft);\n",
       "    var y = e.pageY - (boundingRect.top + document.body.scrollTop);\n",
       "\n",
       "    return { x: x, y: y };\n",
       "};\n",
       "\n",
       "/*\n",
       " * return a copy of an object with only non-object keys\n",
       " * we need this to avoid circular references\n",
       " * http://stackoverflow.com/a/24161582/3208463\n",
       " */\n",
       "function simpleKeys(original) {\n",
       "    return Object.keys(original).reduce(function (obj, key) {\n",
       "        if (typeof original[key] !== 'object') {\n",
       "            obj[key] = original[key];\n",
       "        }\n",
       "        return obj;\n",
       "    }, {});\n",
       "}\n",
       "\n",
       "mpl.figure.prototype.mouse_event = function (event, name) {\n",
       "    var canvas_pos = mpl.findpos(event);\n",
       "\n",
       "    if (name === 'button_press') {\n",
       "        this.canvas.focus();\n",
       "        this.canvas_div.focus();\n",
       "    }\n",
       "\n",
       "    var x = canvas_pos.x * this.ratio;\n",
       "    var y = canvas_pos.y * this.ratio;\n",
       "\n",
       "    this.send_message(name, {\n",
       "        x: x,\n",
       "        y: y,\n",
       "        button: event.button,\n",
       "        step: event.step,\n",
       "        guiEvent: simpleKeys(event),\n",
       "    });\n",
       "\n",
       "    /* This prevents the web browser from automatically changing to\n",
       "     * the text insertion cursor when the button is pressed.  We want\n",
       "     * to control all of the cursor setting manually through the\n",
       "     * 'cursor' event from matplotlib */\n",
       "    event.preventDefault();\n",
       "    return false;\n",
       "};\n",
       "\n",
       "mpl.figure.prototype._key_event_extra = function (_event, _name) {\n",
       "    // Handle any extra behaviour associated with a key event\n",
       "};\n",
       "\n",
       "mpl.figure.prototype.key_event = function (event, name) {\n",
       "    // Prevent repeat events\n",
       "    if (name === 'key_press') {\n",
       "        if (event.which === this._key) {\n",
       "            return;\n",
       "        } else {\n",
       "            this._key = event.which;\n",
       "        }\n",
       "    }\n",
       "    if (name === 'key_release') {\n",
       "        this._key = null;\n",
       "    }\n",
       "\n",
       "    var value = '';\n",
       "    if (event.ctrlKey && event.which !== 17) {\n",
       "        value += 'ctrl+';\n",
       "    }\n",
       "    if (event.altKey && event.which !== 18) {\n",
       "        value += 'alt+';\n",
       "    }\n",
       "    if (event.shiftKey && event.which !== 16) {\n",
       "        value += 'shift+';\n",
       "    }\n",
       "\n",
       "    value += 'k';\n",
       "    value += event.which.toString();\n",
       "\n",
       "    this._key_event_extra(event, name);\n",
       "\n",
       "    this.send_message(name, { key: value, guiEvent: simpleKeys(event) });\n",
       "    return false;\n",
       "};\n",
       "\n",
       "mpl.figure.prototype.toolbar_button_onclick = function (name) {\n",
       "    if (name === 'download') {\n",
       "        this.handle_save(this, null);\n",
       "    } else {\n",
       "        this.send_message('toolbar_button', { name: name });\n",
       "    }\n",
       "};\n",
       "\n",
       "mpl.figure.prototype.toolbar_button_onmouseover = function (tooltip) {\n",
       "    this.message.textContent = tooltip;\n",
       "};\n",
       "mpl.toolbar_items = [[\"Home\", \"Reset original view\", \"fa fa-home icon-home\", \"home\"], [\"Back\", \"Back to previous view\", \"fa fa-arrow-left icon-arrow-left\", \"back\"], [\"Forward\", \"Forward to next view\", \"fa fa-arrow-right icon-arrow-right\", \"forward\"], [\"\", \"\", \"\", \"\"], [\"Pan\", \"Left button pans, Right button zooms\\nx/y fixes axis, CTRL fixes aspect\", \"fa fa-arrows icon-move\", \"pan\"], [\"Zoom\", \"Zoom to rectangle\\nx/y fixes axis, CTRL fixes aspect\", \"fa fa-square-o icon-check-empty\", \"zoom\"], [\"\", \"\", \"\", \"\"], [\"Download\", \"Download plot\", \"fa fa-floppy-o icon-save\", \"download\"]];\n",
       "\n",
       "mpl.extensions = [\"eps\", \"jpeg\", \"pdf\", \"png\", \"ps\", \"raw\", \"svg\", \"tif\"];\n",
       "\n",
       "mpl.default_extension = \"png\";/* global mpl */\n",
       "\n",
       "var comm_websocket_adapter = function (comm) {\n",
       "    // Create a \"websocket\"-like object which calls the given IPython comm\n",
       "    // object with the appropriate methods. Currently this is a non binary\n",
       "    // socket, so there is still some room for performance tuning.\n",
       "    var ws = {};\n",
       "\n",
       "    ws.close = function () {\n",
       "        comm.close();\n",
       "    };\n",
       "    ws.send = function (m) {\n",
       "        //console.log('sending', m);\n",
       "        comm.send(m);\n",
       "    };\n",
       "    // Register the callback with on_msg.\n",
       "    comm.on_msg(function (msg) {\n",
       "        //console.log('receiving', msg['content']['data'], msg);\n",
       "        // Pass the mpl event to the overridden (by mpl) onmessage function.\n",
       "        ws.onmessage(msg['content']['data']);\n",
       "    });\n",
       "    return ws;\n",
       "};\n",
       "\n",
       "mpl.mpl_figure_comm = function (comm, msg) {\n",
       "    // This is the function which gets called when the mpl process\n",
       "    // starts-up an IPython Comm through the \"matplotlib\" channel.\n",
       "\n",
       "    var id = msg.content.data.id;\n",
       "    // Get hold of the div created by the display call when the Comm\n",
       "    // socket was opened in Python.\n",
       "    var element = document.getElementById(id);\n",
       "    var ws_proxy = comm_websocket_adapter(comm);\n",
       "\n",
       "    function ondownload(figure, _format) {\n",
       "        window.open(figure.canvas.toDataURL());\n",
       "    }\n",
       "\n",
       "    var fig = new mpl.figure(id, ws_proxy, ondownload, element);\n",
       "\n",
       "    // Call onopen now - mpl needs it, as it is assuming we've passed it a real\n",
       "    // web socket which is closed, not our websocket->open comm proxy.\n",
       "    ws_proxy.onopen();\n",
       "\n",
       "    fig.parent_element = element;\n",
       "    fig.cell_info = mpl.find_output_cell(\"<div id='\" + id + \"'></div>\");\n",
       "    if (!fig.cell_info) {\n",
       "        console.error('Failed to find cell for figure', id, fig);\n",
       "        return;\n",
       "    }\n",
       "    fig.cell_info[0].output_area.element.one(\n",
       "        'cleared',\n",
       "        { fig: fig },\n",
       "        fig._remove_fig_handler\n",
       "    );\n",
       "};\n",
       "\n",
       "mpl.figure.prototype.handle_close = function (fig, msg) {\n",
       "    var width = fig.canvas.width / fig.ratio;\n",
       "    fig.cell_info[0].output_area.element.off(\n",
       "        'cleared',\n",
       "        fig._remove_fig_handler\n",
       "    );\n",
       "\n",
       "    // Update the output cell to use the data from the current canvas.\n",
       "    fig.push_to_output();\n",
       "    var dataURL = fig.canvas.toDataURL();\n",
       "    // Re-enable the keyboard manager in IPython - without this line, in FF,\n",
       "    // the notebook keyboard shortcuts fail.\n",
       "    IPython.keyboard_manager.enable();\n",
       "    fig.parent_element.innerHTML =\n",
       "        '<img src=\"' + dataURL + '\" width=\"' + width + '\">';\n",
       "    fig.close_ws(fig, msg);\n",
       "};\n",
       "\n",
       "mpl.figure.prototype.close_ws = function (fig, msg) {\n",
       "    fig.send_message('closing', msg);\n",
       "    // fig.ws.close()\n",
       "};\n",
       "\n",
       "mpl.figure.prototype.push_to_output = function (_remove_interactive) {\n",
       "    // Turn the data on the canvas into data in the output cell.\n",
       "    var width = this.canvas.width / this.ratio;\n",
       "    var dataURL = this.canvas.toDataURL();\n",
       "    this.cell_info[1]['text/html'] =\n",
       "        '<img src=\"' + dataURL + '\" width=\"' + width + '\">';\n",
       "};\n",
       "\n",
       "mpl.figure.prototype.updated_canvas_event = function () {\n",
       "    // Tell IPython that the notebook contents must change.\n",
       "    IPython.notebook.set_dirty(true);\n",
       "    this.send_message('ack', {});\n",
       "    var fig = this;\n",
       "    // Wait a second, then push the new image to the DOM so\n",
       "    // that it is saved nicely (might be nice to debounce this).\n",
       "    setTimeout(function () {\n",
       "        fig.push_to_output();\n",
       "    }, 1000);\n",
       "};\n",
       "\n",
       "mpl.figure.prototype._init_toolbar = function () {\n",
       "    var fig = this;\n",
       "\n",
       "    var toolbar = document.createElement('div');\n",
       "    toolbar.classList = 'btn-toolbar';\n",
       "    this.root.appendChild(toolbar);\n",
       "\n",
       "    function on_click_closure(name) {\n",
       "        return function (_event) {\n",
       "            return fig.toolbar_button_onclick(name);\n",
       "        };\n",
       "    }\n",
       "\n",
       "    function on_mouseover_closure(tooltip) {\n",
       "        return function (event) {\n",
       "            if (!event.currentTarget.disabled) {\n",
       "                return fig.toolbar_button_onmouseover(tooltip);\n",
       "            }\n",
       "        };\n",
       "    }\n",
       "\n",
       "    fig.buttons = {};\n",
       "    var buttonGroup = document.createElement('div');\n",
       "    buttonGroup.classList = 'btn-group';\n",
       "    var button;\n",
       "    for (var toolbar_ind in mpl.toolbar_items) {\n",
       "        var name = mpl.toolbar_items[toolbar_ind][0];\n",
       "        var tooltip = mpl.toolbar_items[toolbar_ind][1];\n",
       "        var image = mpl.toolbar_items[toolbar_ind][2];\n",
       "        var method_name = mpl.toolbar_items[toolbar_ind][3];\n",
       "\n",
       "        if (!name) {\n",
       "            /* Instead of a spacer, we start a new button group. */\n",
       "            if (buttonGroup.hasChildNodes()) {\n",
       "                toolbar.appendChild(buttonGroup);\n",
       "            }\n",
       "            buttonGroup = document.createElement('div');\n",
       "            buttonGroup.classList = 'btn-group';\n",
       "            continue;\n",
       "        }\n",
       "\n",
       "        button = fig.buttons[name] = document.createElement('button');\n",
       "        button.classList = 'btn btn-default';\n",
       "        button.href = '#';\n",
       "        button.title = name;\n",
       "        button.innerHTML = '<i class=\"fa ' + image + ' fa-lg\"></i>';\n",
       "        button.addEventListener('click', on_click_closure(method_name));\n",
       "        button.addEventListener('mouseover', on_mouseover_closure(tooltip));\n",
       "        buttonGroup.appendChild(button);\n",
       "    }\n",
       "\n",
       "    if (buttonGroup.hasChildNodes()) {\n",
       "        toolbar.appendChild(buttonGroup);\n",
       "    }\n",
       "\n",
       "    // Add the status bar.\n",
       "    var status_bar = document.createElement('span');\n",
       "    status_bar.classList = 'mpl-message pull-right';\n",
       "    toolbar.appendChild(status_bar);\n",
       "    this.message = status_bar;\n",
       "\n",
       "    // Add the close button to the window.\n",
       "    var buttongrp = document.createElement('div');\n",
       "    buttongrp.classList = 'btn-group inline pull-right';\n",
       "    button = document.createElement('button');\n",
       "    button.classList = 'btn btn-mini btn-primary';\n",
       "    button.href = '#';\n",
       "    button.title = 'Stop Interaction';\n",
       "    button.innerHTML = '<i class=\"fa fa-power-off icon-remove icon-large\"></i>';\n",
       "    button.addEventListener('click', function (_evt) {\n",
       "        fig.handle_close(fig, {});\n",
       "    });\n",
       "    button.addEventListener(\n",
       "        'mouseover',\n",
       "        on_mouseover_closure('Stop Interaction')\n",
       "    );\n",
       "    buttongrp.appendChild(button);\n",
       "    var titlebar = this.root.querySelector('.ui-dialog-titlebar');\n",
       "    titlebar.insertBefore(buttongrp, titlebar.firstChild);\n",
       "};\n",
       "\n",
       "mpl.figure.prototype._remove_fig_handler = function (event) {\n",
       "    var fig = event.data.fig;\n",
       "    fig.close_ws(fig, {});\n",
       "};\n",
       "\n",
       "mpl.figure.prototype._root_extra_style = function (el) {\n",
       "    el.style.boxSizing = 'content-box'; // override notebook setting of border-box.\n",
       "};\n",
       "\n",
       "mpl.figure.prototype._canvas_extra_style = function (el) {\n",
       "    // this is important to make the div 'focusable\n",
       "    el.setAttribute('tabindex', 0);\n",
       "    // reach out to IPython and tell the keyboard manager to turn it's self\n",
       "    // off when our div gets focus\n",
       "\n",
       "    // location in version 3\n",
       "    if (IPython.notebook.keyboard_manager) {\n",
       "        IPython.notebook.keyboard_manager.register_events(el);\n",
       "    } else {\n",
       "        // location in version 2\n",
       "        IPython.keyboard_manager.register_events(el);\n",
       "    }\n",
       "};\n",
       "\n",
       "mpl.figure.prototype._key_event_extra = function (event, _name) {\n",
       "    var manager = IPython.notebook.keyboard_manager;\n",
       "    if (!manager) {\n",
       "        manager = IPython.keyboard_manager;\n",
       "    }\n",
       "\n",
       "    // Check for shift+enter\n",
       "    if (event.shiftKey && event.which === 13) {\n",
       "        this.canvas_div.blur();\n",
       "        // select the cell after this one\n",
       "        var index = IPython.notebook.find_cell_index(this.cell_info[0]);\n",
       "        IPython.notebook.select(index + 1);\n",
       "    }\n",
       "};\n",
       "\n",
       "mpl.figure.prototype.handle_save = function (fig, _msg) {\n",
       "    fig.ondownload(fig, null);\n",
       "};\n",
       "\n",
       "mpl.find_output_cell = function (html_output) {\n",
       "    // Return the cell and output element which can be found *uniquely* in the notebook.\n",
       "    // Note - this is a bit hacky, but it is done because the \"notebook_saving.Notebook\"\n",
       "    // IPython event is triggered only after the cells have been serialised, which for\n",
       "    // our purposes (turning an active figure into a static one), is too late.\n",
       "    var cells = IPython.notebook.get_cells();\n",
       "    var ncells = cells.length;\n",
       "    for (var i = 0; i < ncells; i++) {\n",
       "        var cell = cells[i];\n",
       "        if (cell.cell_type === 'code') {\n",
       "            for (var j = 0; j < cell.output_area.outputs.length; j++) {\n",
       "                var data = cell.output_area.outputs[j];\n",
       "                if (data.data) {\n",
       "                    // IPython >= 3 moved mimebundle to data attribute of output\n",
       "                    data = data.data;\n",
       "                }\n",
       "                if (data['text/html'] === html_output) {\n",
       "                    return [cell, data, j];\n",
       "                }\n",
       "            }\n",
       "        }\n",
       "    }\n",
       "};\n",
       "\n",
       "// Register the function which deals with the matplotlib target/channel.\n",
       "// The kernel may be null if the page has been refreshed.\n",
       "if (IPython.notebook.kernel !== null) {\n",
       "    IPython.notebook.kernel.comm_manager.register_target(\n",
       "        'matplotlib',\n",
       "        mpl.mpl_figure_comm\n",
       "    );\n",
       "}\n"
      ],
      "text/plain": [
       "<IPython.core.display.Javascript object>"
      ]
     },
     "metadata": {},
     "output_type": "display_data"
    },
    {
     "data": {
      "text/html": [
       "<img src=\"data:image/png;base64,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\" width=\"640\">"
      ],
      "text/plain": [
       "<IPython.core.display.HTML object>"
      ]
     },
     "metadata": {},
     "output_type": "display_data"
    },
    {
     "data": {
      "application/vnd.jupyter.widget-view+json": {
       "model_id": "4d0b8b8bfeac488298c4f146272de6f4",
       "version_major": 2,
       "version_minor": 0
      },
      "text/plain": [
       "Button(description='Save Inputs', icon='check', layout=Layout(height='80px', width='50%'), style=ButtonStyle()…"
      ]
     },
     "metadata": {},
     "output_type": "display_data"
    },
    {
     "name": "stdout",
     "output_type": "stream",
     "text": [
      "Inputs saved and exported!\n"
     ]
    }
   ],
   "source": [
    "units = [units_length.value, ' ', units_energy.value, ' ', units_angles.value, ' ', units_magnetic_field.value]\n",
    "init_types = [f'{init_position.value}', ' ', f'{init_energy.value}', ' ', f'{init_divergence.value}']\n",
    "\n",
    "convert_beam_direction, convert_divergence_spread, convert_screen_angles = convertAngles(units, beam_direction_widgets, \n",
    "                                                                                         beam_divergence_spread_widgets, \n",
    "                                                                                         screen_angles_widgets)\n",
    "%matplotlib notebook\n",
    "DisplayAndOutput(global_bounds, units, number_of_magnets.value, magnet_dimensions_widgets, permanent_dimension_widgets, \n",
    "                 magnet_position_widgets, magnetic_field_values_widgets, magnetic_field_axes_widgets, \n",
    "                 number_of_particles.value, beam_start_position_widgets, beam_energy, convert_beam_direction, \n",
    "                 beam_position_spread_widgets, beam_energy_spread, convert_divergence_spread, number_of_screens.value, \n",
    "                 screen_dimensions_widgets, screen_position_widgets, convert_screen_angles, init_types, particle_species, dipole_field_type_widget)"
   ]
  },
  {
   "cell_type": "markdown",
   "metadata": {},
   "source": [
    "## Genetic Algorithm"
   ]
  },
  {
   "cell_type": "code",
   "execution_count": 21,
   "metadata": {},
   "outputs": [
    {
     "data": {
      "application/vnd.jupyter.widget-view+json": {
       "model_id": "073edb34a8fe4ef0a2efeab41ec0c920",
       "version_major": 2,
       "version_minor": 0
      },
      "text/plain": [
       "Label(value='Do you want to use the genetic algorithm? ')"
      ]
     },
     "metadata": {},
     "output_type": "display_data"
    },
    {
     "data": {
      "application/vnd.jupyter.widget-view+json": {
       "model_id": "f8d47c048a3d4db9b391f8474cdd6085",
       "version_major": 2,
       "version_minor": 0
      },
      "text/plain": [
       "Button(description='Yes', icon='check', style=ButtonStyle())"
      ]
     },
     "metadata": {},
     "output_type": "display_data"
    },
    {
     "data": {
      "application/vnd.jupyter.widget-view+json": {
       "model_id": "567927bba1d7458f9a180ca8a74250d6",
       "version_major": 2,
       "version_minor": 0
      },
      "text/plain": [
       "Label(value='The genetic algorithm has access to mutate:')"
      ]
     },
     "metadata": {},
     "output_type": "display_data"
    },
    {
     "data": {
      "application/vnd.jupyter.widget-view+json": {
       "model_id": "69cc4834667c42ec894630e6a6f2b26c",
       "version_major": 2,
       "version_minor": 0
      },
      "text/plain": [
       "Label(value='Magnet position')"
      ]
     },
     "metadata": {},
     "output_type": "display_data"
    },
    {
     "data": {
      "application/vnd.jupyter.widget-view+json": {
       "model_id": "ded9ebc7dac6461fa4acd33b2b8294dc",
       "version_major": 2,
       "version_minor": 0
      },
      "text/plain": [
       "HBox(children=(VBox(children=(Checkbox(value=False, description='x pos 1'), Checkbox(value=False, description=…"
      ]
     },
     "metadata": {},
     "output_type": "display_data"
    },
    {
     "data": {
      "application/vnd.jupyter.widget-view+json": {
       "model_id": "4886f9032b934775befa77dcb9985d38",
       "version_major": 2,
       "version_minor": 0
      },
      "text/plain": [
       "Label(value='Screen position')"
      ]
     },
     "metadata": {},
     "output_type": "display_data"
    },
    {
     "data": {
      "application/vnd.jupyter.widget-view+json": {
       "model_id": "6fa4309457f34db2a7b66e346acf0668",
       "version_major": 2,
       "version_minor": 0
      },
      "text/plain": [
       "HBox(children=(VBox(children=(Checkbox(value=False, description='x pos 1'), Checkbox(value=False, description=…"
      ]
     },
     "metadata": {},
     "output_type": "display_data"
    },
    {
     "data": {
      "application/vnd.jupyter.widget-view+json": {
       "model_id": "b208a7a1444c4fc3b56dbd38112ed645",
       "version_major": 2,
       "version_minor": 0
      },
      "text/plain": [
       "Label(value='Screen angles')"
      ]
     },
     "metadata": {},
     "output_type": "display_data"
    },
    {
     "data": {
      "application/vnd.jupyter.widget-view+json": {
       "model_id": "4af387d2bacd45fe8a787a55be1f6eab",
       "version_major": 2,
       "version_minor": 0
      },
      "text/plain": [
       "HBox(children=(VBox(children=(Checkbox(value=False, description='yaw 1'), Checkbox(value=False, description='p…"
      ]
     },
     "metadata": {},
     "output_type": "display_data"
    },
    {
     "data": {
      "application/vnd.jupyter.widget-view+json": {
       "model_id": "224ac5abbf4f46438e18191a8bf0d0ec",
       "version_major": 2,
       "version_minor": 0
      },
      "text/plain": [
       "Label(value='Click below to save and output selection')"
      ]
     },
     "metadata": {},
     "output_type": "display_data"
    },
    {
     "data": {
      "application/vnd.jupyter.widget-view+json": {
       "model_id": "2f0ea502baeb48c3af36eb4ad39847f6",
       "version_major": 2,
       "version_minor": 0
      },
      "text/plain": [
       "Button(description='Save Checked Boxes', icon='check', layout=Layout(height='80px', width='50%'), style=Button…"
      ]
     },
     "metadata": {},
     "output_type": "display_data"
    },
    {
     "name": "stdout",
     "output_type": "stream",
     "text": [
      "Choices saved and exported!\n",
      "Choices saved and exported!\n",
      "Choices saved and exported!\n"
     ]
    }
   ],
   "source": [
    "genetic_algorithm_setup(global_bounds, number_of_magnets.value, number_of_screens.value, units_length.value,\n",
    "                        magnetic_field_values_widgets)"
   ]
  },
  {
   "cell_type": "code",
   "execution_count": null,
   "metadata": {},
   "outputs": [],
   "source": []
  }
 ],
 "metadata": {
  "kernelspec": {
   "display_name": "Python 3",
   "language": "python",
   "name": "python3"
  },
  "language_info": {
   "codemirror_mode": {
    "name": "ipython",
    "version": 3
   },
   "file_extension": ".py",
   "mimetype": "text/x-python",
   "name": "python",
   "nbconvert_exporter": "python",
   "pygments_lexer": "ipython3",
   "version": "3.8.5"
  }
 },
 "nbformat": 4,
 "nbformat_minor": 2
}
