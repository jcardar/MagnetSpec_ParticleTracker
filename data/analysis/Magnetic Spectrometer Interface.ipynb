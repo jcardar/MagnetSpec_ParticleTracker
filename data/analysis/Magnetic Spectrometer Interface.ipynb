{
 "cells": [
  {
   "cell_type": "markdown",
   "metadata": {},
   "source": [
    "Define interactive variables to set up particle stepper (static and variable), and then have user define figure of merit.<br>\n",
    "Write out in either .csv or .txt file (idea: in .csv file, have rows correspond to objects (ie, magnets, particle beam, etc) and have the first column represent the number of those objects (magnets, beams, etc), and the remaining columns an ordered list of values defining those objects, to read from left to right, spanning all of the relevant objects).<br>\n",
    "Have c++ code read this, and define objects with 'for' loops."
   ]
  },
  {
   "cell_type": "markdown",
   "metadata": {},
   "source": [
    "Items to define for input deck:<br>\n",
    "1. Magnet: Center of Entrance Plane, Length, Width, Height, magnetic field strength (vector) (x-component, y-component, z-component)\n",
    "2. Beam: number of particles, central starting position, central energy, central direction (angles from axes (angle for x determined from angles for y and z, and is silently ignored))\n",
    "3. Beam: spread in starting position, spread in central energy, spread in divergence (user input FWHM of Gaussian spread, code uses 0.5 of this in spread)\n",
    "4. Screen: Low-Energy Middle, Width, Height, Angle from both z- and x-axes"
   ]
  },
  {
   "cell_type": "markdown",
   "metadata": {},
   "source": [
    "## Your preferred units:\n",
    ">Please run the next cell once to generate widget objects. Change the values in the dropdowns to the value to prefer. Do not run the cell again, the value is dynamically updated when you change the value in the dropdown menu!"
   ]
  },
  {
   "cell_type": "code",
   "execution_count": 3,
   "metadata": {},
   "outputs": [
    {
     "data": {
      "application/vnd.jupyter.widget-view+json": {
       "model_id": "15377ea5ceb342aab1129f10392df468",
       "version_major": 2,
       "version_minor": 0
      },
      "text/plain": [
       "Dropdown(description='Length Unit', index=1, options=('mm', 'cm', 'm'), value='cm')"
      ]
     },
     "metadata": {},
     "output_type": "display_data"
    },
    {
     "data": {
      "application/vnd.jupyter.widget-view+json": {
       "model_id": "56061b617c9a42bcba6690107b5b10bb",
       "version_major": 2,
       "version_minor": 0
      },
      "text/plain": [
       "Dropdown(description='Energy Unit', index=1, options=('eV', 'MeV', 'GeV'), value='MeV')"
      ]
     },
     "metadata": {},
     "output_type": "display_data"
    },
    {
     "data": {
      "application/vnd.jupyter.widget-view+json": {
       "model_id": "fd7274c0a2224f72bb9908c69a6f9bf1",
       "version_major": 2,
       "version_minor": 0
      },
      "text/plain": [
       "Dropdown(description='Angle Unit', options=('mrad', 'Radians', 'Degrees'), value='mrad')"
      ]
     },
     "metadata": {},
     "output_type": "display_data"
    },
    {
     "data": {
      "application/vnd.jupyter.widget-view+json": {
       "model_id": "1edbb19b9fbd4af18f99d6ea54db451a",
       "version_major": 2,
       "version_minor": 0
      },
      "text/plain": [
       "Dropdown(description='Field Unit', options=('Tesla', 'Gauss'), value='Tesla')"
      ]
     },
     "metadata": {},
     "output_type": "display_data"
    }
   ],
   "source": [
    "from magspecinterface_functions import *\n",
    "display( units_length )\n",
    "display( units_energy )\n",
    "display( units_angles )\n",
    "display( units_magnetic_field )"
   ]
  },
  {
   "cell_type": "markdown",
   "metadata": {},
   "source": [
    "## Initialization type"
   ]
  },
  {
   "cell_type": "code",
   "execution_count": 4,
   "metadata": {},
   "outputs": [
    {
     "data": {
      "application/vnd.jupyter.widget-view+json": {
       "model_id": "d962ccc4e2304ceeb5a3e300dd24acaa",
       "version_major": 2,
       "version_minor": 0
      },
      "text/plain": [
       "Dropdown(description='Position', index=2, options=(('Gaussian', 0), ('Uniform', 1), ('Scan', 2)), value=2)"
      ]
     },
     "metadata": {},
     "output_type": "display_data"
    },
    {
     "data": {
      "application/vnd.jupyter.widget-view+json": {
       "model_id": "fc482dbdd35c4a848c5e29482f7b4108",
       "version_major": 2,
       "version_minor": 0
      },
      "text/plain": [
       "Dropdown(description='Energy', index=1, options=(('Gaussian', 0), ('Uniform', 1), ('Log', 2)), value=1)"
      ]
     },
     "metadata": {},
     "output_type": "display_data"
    },
    {
     "data": {
      "application/vnd.jupyter.widget-view+json": {
       "model_id": "d7a1a5b587894475b7a93dfd4144e878",
       "version_major": 2,
       "version_minor": 0
      },
      "text/plain": [
       "Dropdown(description='Divergence', index=2, options=(('Gaussian', 0), ('Uniform', 1), ('Scan', 2)), value=2)"
      ]
     },
     "metadata": {},
     "output_type": "display_data"
    }
   ],
   "source": [
    "display( init_position )\n",
    "display( init_energy )\n",
    "display( init_divergence )"
   ]
  },
  {
   "cell_type": "markdown",
   "metadata": {},
   "source": [
    "## Spectrometer coordinate system\n",
    "> Define the limits to the spectrometer coordinate system. You are free to choose what marks the origin.<br>\n",
    "**Note:** Global bounds may be negative."
   ]
  },
  {
   "cell_type": "code",
   "execution_count": 5,
   "metadata": {},
   "outputs": [
    {
     "data": {
      "application/vnd.jupyter.widget-view+json": {
       "model_id": "cee3d623dfc54750a3f36885934f3517",
       "version_major": 2,
       "version_minor": 0
      },
      "text/plain": [
       "FloatText(value=100.0, description='global x max')"
      ]
     },
     "metadata": {},
     "output_type": "display_data"
    },
    {
     "data": {
      "application/vnd.jupyter.widget-view+json": {
       "model_id": "03349b6fbe064ebdb7081a41185ce21f",
       "version_major": 2,
       "version_minor": 0
      },
      "text/plain": [
       "FloatText(value=-100.0, description='global x min')"
      ]
     },
     "metadata": {},
     "output_type": "display_data"
    },
    {
     "data": {
      "application/vnd.jupyter.widget-view+json": {
       "model_id": "e5b4e1bc8d35479cb6507c1322998f61",
       "version_major": 2,
       "version_minor": 0
      },
      "text/plain": [
       "FloatText(value=100.0, description='global y max')"
      ]
     },
     "metadata": {},
     "output_type": "display_data"
    },
    {
     "data": {
      "application/vnd.jupyter.widget-view+json": {
       "model_id": "6d0da8b6c256477ab2e93e14f6d9768b",
       "version_major": 2,
       "version_minor": 0
      },
      "text/plain": [
       "FloatText(value=-100.0, description='global y min')"
      ]
     },
     "metadata": {},
     "output_type": "display_data"
    },
    {
     "data": {
      "application/vnd.jupyter.widget-view+json": {
       "model_id": "ec81745c76504bdb9da5f7c8ca6dceee",
       "version_major": 2,
       "version_minor": 0
      },
      "text/plain": [
       "FloatText(value=100.0, description='global z max')"
      ]
     },
     "metadata": {},
     "output_type": "display_data"
    },
    {
     "data": {
      "application/vnd.jupyter.widget-view+json": {
       "model_id": "0e81e61e706d48429e2406c9be51fcfc",
       "version_major": 2,
       "version_minor": 0
      },
      "text/plain": [
       "FloatText(value=-100.0, description='global z min')"
      ]
     },
     "metadata": {},
     "output_type": "display_data"
    }
   ],
   "source": [
    "for ii in range(len(global_bounds)):\n",
    "    display( global_bounds[ii] )"
   ]
  },
  {
   "cell_type": "markdown",
   "metadata": {},
   "source": [
    "## Magnet setup:\n",
    "> Number of magnets, dimensions, position, and magnetic field components."
   ]
  },
  {
   "cell_type": "markdown",
   "metadata": {},
   "source": [
    "![alt text](magnet_position.png \"Magnet_Setup\")"
   ]
  },
  {
   "cell_type": "code",
   "execution_count": 6,
   "metadata": {},
   "outputs": [
    {
     "data": {
      "application/vnd.jupyter.widget-view+json": {
       "model_id": "0197589cd680455caf719a94ec422771",
       "version_major": 2,
       "version_minor": 0
      },
      "text/plain": [
       "BoundedIntText(value=1, description='# of Magnets', min=1)"
      ]
     },
     "metadata": {},
     "output_type": "display_data"
    }
   ],
   "source": [
    "display( number_of_magnets )"
   ]
  },
  {
   "cell_type": "code",
   "execution_count": 7,
   "metadata": {
    "scrolled": true
   },
   "outputs": [
    {
     "data": {
      "application/vnd.jupyter.widget-view+json": {
       "model_id": "58003ca3827443a0aa988093aa126405",
       "version_major": 2,
       "version_minor": 0
      },
      "text/plain": [
       "BoundedFloatText(value=0.0, description='width 1', max=1000.0)"
      ]
     },
     "metadata": {},
     "output_type": "display_data"
    },
    {
     "data": {
      "application/vnd.jupyter.widget-view+json": {
       "model_id": "fe44350318aa45af9ab523514cc11feb",
       "version_major": 2,
       "version_minor": 0
      },
      "text/plain": [
       "BoundedFloatText(value=0.0, description='length 1', max=1000.0)"
      ]
     },
     "metadata": {},
     "output_type": "display_data"
    },
    {
     "data": {
      "application/vnd.jupyter.widget-view+json": {
       "model_id": "1acb6067ca3c4df39d9674b4e2fcea34",
       "version_major": 2,
       "version_minor": 0
      },
      "text/plain": [
       "BoundedFloatText(value=0.0, description='height 1')"
      ]
     },
     "metadata": {},
     "output_type": "display_data"
    }
   ],
   "source": [
    "magnet_dimensions_widgets = dynamicFloatValue_Magnet_Dimensions(number_of_magnets.value, global_bounds)\n",
    "for ii in range(len(magnet_dimensions_widgets)):\n",
    "    display( magnet_dimensions_widgets[ii] )"
   ]
  },
  {
   "cell_type": "markdown",
   "metadata": {},
   "source": [
    "> **Note:** This is **not** a dimension of the space between magnets. This is the dimension of one permanent magnet parallel to the separation between the magnets."
   ]
  },
  {
   "cell_type": "code",
   "execution_count": 8,
   "metadata": {},
   "outputs": [
    {
     "data": {
      "application/vnd.jupyter.widget-view+json": {
       "model_id": "400d638d717e4196a5f00db56793ea93",
       "version_major": 2,
       "version_minor": 0
      },
      "text/plain": [
       "FloatText(value=0.0, description='dimension 1')"
      ]
     },
     "metadata": {},
     "output_type": "display_data"
    }
   ],
   "source": [
    "permanent_dimension_widgets = dynamicFloatValue_Permanent_Magnet_Dimension(number_of_magnets.value)\n",
    "for ii in range(len(permanent_dimension_widgets)):\n",
    "    display( permanent_dimension_widgets[ii] )"
   ]
  },
  {
   "cell_type": "markdown",
   "metadata": {},
   "source": [
    "> **Important:** Position value limits are based on global bounds and magnet dimensions. Please re-run the below cell if values for either change."
   ]
  },
  {
   "cell_type": "code",
   "execution_count": 9,
   "metadata": {
    "scrolled": true
   },
   "outputs": [
    {
     "data": {
      "application/vnd.jupyter.widget-view+json": {
       "model_id": "9b8c9690477343b3a3be0cdacf1b35fe",
       "version_major": 2,
       "version_minor": 0
      },
      "text/plain": [
       "BoundedFloatText(value=0.0, description='x pos 1', max=970.0, min=-100.0)"
      ]
     },
     "metadata": {},
     "output_type": "display_data"
    },
    {
     "data": {
      "application/vnd.jupyter.widget-view+json": {
       "model_id": "9a2d6ee60f7546f29d460ed53a674db3",
       "version_major": 2,
       "version_minor": 0
      },
      "text/plain": [
       "BoundedFloatText(value=0.0, description='y pos 1', max=995.0, min=-995.0)"
      ]
     },
     "metadata": {},
     "output_type": "display_data"
    },
    {
     "data": {
      "application/vnd.jupyter.widget-view+json": {
       "model_id": "1b7adafb75db4fb58c10f019cf3639fb",
       "version_major": 2,
       "version_minor": 0
      },
      "text/plain": [
       "BoundedFloatText(value=0.0, description='z pos 1', max=98.5, min=-98.5)"
      ]
     },
     "metadata": {},
     "output_type": "display_data"
    }
   ],
   "source": [
    "magnet_position_widgets = dynamicFloatValue_Magnet_Position(number_of_magnets.value, magnet_dimensions_widgets,\n",
    "                                                            global_bounds)\n",
    "for ii in range(len(magnet_position_widgets)):\n",
    "    display( magnet_position_widgets[ii] )"
   ]
  },
  {
   "cell_type": "code",
   "execution_count": 10,
   "metadata": {
    "scrolled": true
   },
   "outputs": [
    {
     "data": {
      "application/vnd.jupyter.widget-view+json": {
       "model_id": "b057a6eafe7d4eedaf0fdcb707b0a2d6",
       "version_major": 2,
       "version_minor": 0
      },
      "text/plain": [
       "FloatText(value=1.0, description='B field 1')"
      ]
     },
     "metadata": {},
     "output_type": "display_data"
    },
    {
     "data": {
      "application/vnd.jupyter.widget-view+json": {
       "model_id": "47f184b9262b42a1ad5354dd497c2dfc",
       "version_major": 2,
       "version_minor": 0
      },
      "text/plain": [
       "Dropdown(description='along the', index=2, options=(('x-axis', 'x'), ('y-axis', 'y'), ('z-axis', 'z')), value=…"
      ]
     },
     "metadata": {},
     "output_type": "display_data"
    }
   ],
   "source": [
    "magnetic_field_values_widgets = dynamicFloatValue_Magnetic_Field_Value(number_of_magnets.value)\n",
    "magnetic_field_axes_widgets = dynamicFloatValue_Magnetic_Field_Axis(number_of_magnets.value)\n",
    "for ii in range(len(magnetic_field_values_widgets)):\n",
    "    display( magnetic_field_values_widgets[ii] )\n",
    "    display( magnetic_field_axes_widgets[ii] )"
   ]
  },
  {
   "cell_type": "markdown",
   "metadata": {},
   "source": [
    "## Beam Setup:\n",
    ">Number of particles, starting position, energy, direction.<br>\n",
    "**Note:** Please input values referencing the beam center. Direction is given by angle from axes."
   ]
  },
  {
   "cell_type": "code",
   "execution_count": 11,
   "metadata": {},
   "outputs": [
    {
     "data": {
      "application/vnd.jupyter.widget-view+json": {
       "model_id": "de6e778afe944a6e9ffd14a12ce568cc",
       "version_major": 2,
       "version_minor": 0
      },
      "text/plain": [
       "BoundedIntText(value=1, description='# of Particles', max=999999, min=1)"
      ]
     },
     "metadata": {},
     "output_type": "display_data"
    }
   ],
   "source": [
    "display( number_of_particles )"
   ]
  },
  {
   "cell_type": "code",
   "execution_count": 12,
   "metadata": {},
   "outputs": [
    {
     "data": {
      "application/vnd.jupyter.widget-view+json": {
       "model_id": "452013cbe0bb424e8d574719f8e371ef",
       "version_major": 2,
       "version_minor": 0
      },
      "text/plain": [
       "BoundedFloatText(value=0.0, description='x start pos', max=1000.0, min=-100.0)"
      ]
     },
     "metadata": {},
     "output_type": "display_data"
    },
    {
     "data": {
      "application/vnd.jupyter.widget-view+json": {
       "model_id": "7decf387081043019d3810de9f4e4a95",
       "version_major": 2,
       "version_minor": 0
      },
      "text/plain": [
       "BoundedFloatText(value=0.0, description='y start pos', max=1000.0, min=-1000.0)"
      ]
     },
     "metadata": {},
     "output_type": "display_data"
    },
    {
     "data": {
      "application/vnd.jupyter.widget-view+json": {
       "model_id": "9ff2ee2ad92049f9839767ef8536b653",
       "version_major": 2,
       "version_minor": 0
      },
      "text/plain": [
       "BoundedFloatText(value=0.0, description='z start pos', min=-100.0)"
      ]
     },
     "metadata": {},
     "output_type": "display_data"
    }
   ],
   "source": [
    "beam_start_position_widgets = dynamicFloatValue_Beam_Start_Position(global_bounds)\n",
    "for ii in range(len(beam_start_position_widgets)):\n",
    "    display( beam_start_position_widgets[ii] )"
   ]
  },
  {
   "cell_type": "code",
   "execution_count": 13,
   "metadata": {},
   "outputs": [
    {
     "data": {
      "application/vnd.jupyter.widget-view+json": {
       "model_id": "e68f4640cb77462084f90b1487a32e07",
       "version_major": 2,
       "version_minor": 0
      },
      "text/plain": [
       "BoundedFloatText(value=1.0, description='beam energy', max=9999999.0)"
      ]
     },
     "metadata": {},
     "output_type": "display_data"
    }
   ],
   "source": [
    "display(beam_energy)"
   ]
  },
  {
   "cell_type": "code",
   "execution_count": 14,
   "metadata": {},
   "outputs": [
    {
     "data": {
      "application/vnd.jupyter.widget-view+json": {
       "model_id": "9ba0899e6f79469ba9e9965f6b6d293c",
       "version_major": 2,
       "version_minor": 0
      },
      "text/plain": [
       "FloatText(value=0.0, description='x angle')"
      ]
     },
     "metadata": {},
     "output_type": "display_data"
    },
    {
     "data": {
      "application/vnd.jupyter.widget-view+json": {
       "model_id": "bfbfe6bc53f04edebd8634c2aa40043f",
       "version_major": 2,
       "version_minor": 0
      },
      "text/plain": [
       "FloatText(value=1570.7963267948965, description='y angle')"
      ]
     },
     "metadata": {},
     "output_type": "display_data"
    },
    {
     "data": {
      "application/vnd.jupyter.widget-view+json": {
       "model_id": "8dd8d6bf8ec1429f9c47859a82b7a5d5",
       "version_major": 2,
       "version_minor": 0
      },
      "text/plain": [
       "FloatText(value=1570.7963267948965, description='z angle')"
      ]
     },
     "metadata": {},
     "output_type": "display_data"
    }
   ],
   "source": [
    "beam_direction_widgets = dynamicFloatValue_Beam_Direction(units_angles.value)\n",
    "for ii in range(len(beam_direction_widgets)):\n",
    "    display( beam_direction_widgets[ii] )"
   ]
  },
  {
   "cell_type": "markdown",
   "metadata": {},
   "source": [
    "## Beam Spread:\n",
    ">Spread in starting position, energy, and divergence."
   ]
  },
  {
   "cell_type": "code",
   "execution_count": 15,
   "metadata": {},
   "outputs": [
    {
     "data": {
      "application/vnd.jupyter.widget-view+json": {
       "model_id": "6d1bee2eeda5422f97c37a9eccf3d3de",
       "version_major": 2,
       "version_minor": 0
      },
      "text/plain": [
       "FloatText(value=0.0, description='x pos spread')"
      ]
     },
     "metadata": {},
     "output_type": "display_data"
    },
    {
     "data": {
      "application/vnd.jupyter.widget-view+json": {
       "model_id": "99969024fc1a4c329c1a1e848214b5c1",
       "version_major": 2,
       "version_minor": 0
      },
      "text/plain": [
       "FloatText(value=0.0, description='y pos spread')"
      ]
     },
     "metadata": {},
     "output_type": "display_data"
    },
    {
     "data": {
      "application/vnd.jupyter.widget-view+json": {
       "model_id": "b565c225842c46559beaa1bc53afe2da",
       "version_major": 2,
       "version_minor": 0
      },
      "text/plain": [
       "FloatText(value=0.0, description='z pos spread')"
      ]
     },
     "metadata": {},
     "output_type": "display_data"
    }
   ],
   "source": [
    "beam_position_spread_widgets = dynamicFloatValue_Beam_Position_Spread()\n",
    "for ii in range(len(beam_position_spread_widgets)):\n",
    "    display( beam_position_spread_widgets[ii] )"
   ]
  },
  {
   "cell_type": "code",
   "execution_count": 16,
   "metadata": {},
   "outputs": [
    {
     "data": {
      "application/vnd.jupyter.widget-view+json": {
       "model_id": "3f2576ee6c6145e0a52b52d6297ca372",
       "version_major": 2,
       "version_minor": 0
      },
      "text/plain": [
       "BoundedFloatText(value=0.0, description='nrg spread', max=9999999.0)"
      ]
     },
     "metadata": {},
     "output_type": "display_data"
    }
   ],
   "source": [
    "display( beam_energy_spread )"
   ]
  },
  {
   "cell_type": "code",
   "execution_count": 17,
   "metadata": {},
   "outputs": [
    {
     "data": {
      "application/vnd.jupyter.widget-view+json": {
       "model_id": "80dd41f160d14c44aa58da1085983499",
       "version_major": 2,
       "version_minor": 0
      },
      "text/plain": [
       "FloatText(value=0.0, description='x divergence')"
      ]
     },
     "metadata": {},
     "output_type": "display_data"
    },
    {
     "data": {
      "application/vnd.jupyter.widget-view+json": {
       "model_id": "eb48e5ee18724eaa9dc65a3ddf68aa30",
       "version_major": 2,
       "version_minor": 0
      },
      "text/plain": [
       "FloatText(value=0.0, description='y divergence')"
      ]
     },
     "metadata": {},
     "output_type": "display_data"
    },
    {
     "data": {
      "application/vnd.jupyter.widget-view+json": {
       "model_id": "8d30287a30954bbf918b1d87134143e4",
       "version_major": 2,
       "version_minor": 0
      },
      "text/plain": [
       "FloatText(value=0.0, description='z divergence')"
      ]
     },
     "metadata": {},
     "output_type": "display_data"
    }
   ],
   "source": [
    "beam_divergence_spread_widgets = dynamicFloatValue_Beam_Divergence_Spread()\n",
    "for ii in range(len(beam_divergence_spread_widgets)):\n",
    "    display( beam_divergence_spread_widgets[ii] )"
   ]
  },
  {
   "cell_type": "markdown",
   "metadata": {},
   "source": [
    "## Screen Setup:\n",
    ">Number of screens, dimensions, angles about axes, and position.<br>\n",
    "**Note:** Given angles are yaw (about the z-axis), pitch (about the y-axis), and roll (about the x-axis)."
   ]
  },
  {
   "cell_type": "markdown",
   "metadata": {},
   "source": [
    "![alt text](screen_setup.png \"Screen_Setup\")"
   ]
  },
  {
   "cell_type": "code",
   "execution_count": 18,
   "metadata": {},
   "outputs": [
    {
     "data": {
      "application/vnd.jupyter.widget-view+json": {
       "model_id": "35e1c1c412e042ada126b444606e6f34",
       "version_major": 2,
       "version_minor": 0
      },
      "text/plain": [
       "BoundedIntText(value=1, description='# of Screens')"
      ]
     },
     "metadata": {},
     "output_type": "display_data"
    }
   ],
   "source": [
    "display( number_of_screens )"
   ]
  },
  {
   "cell_type": "code",
   "execution_count": 19,
   "metadata": {},
   "outputs": [
    {
     "data": {
      "application/vnd.jupyter.widget-view+json": {
       "model_id": "a7c064fb3fa444ad9819fea9b6013442",
       "version_major": 2,
       "version_minor": 0
      },
      "text/plain": [
       "BoundedFloatText(value=0.0, description='length 1', max=1000.0)"
      ]
     },
     "metadata": {},
     "output_type": "display_data"
    },
    {
     "data": {
      "application/vnd.jupyter.widget-view+json": {
       "model_id": "a75af27df1ee4fd8899281fc0a7046a7",
       "version_major": 2,
       "version_minor": 0
      },
      "text/plain": [
       "BoundedFloatText(value=0.0, description='height 1')"
      ]
     },
     "metadata": {},
     "output_type": "display_data"
    }
   ],
   "source": [
    "screen_dimensions_widgets = dynamicFloatValue_Screen_Dimensions(number_of_screens.value, global_bounds)\n",
    "for ii in range(len(screen_dimensions_widgets)):\n",
    "    display( screen_dimensions_widgets[ii] )"
   ]
  },
  {
   "cell_type": "code",
   "execution_count": 21,
   "metadata": {},
   "outputs": [
    {
     "data": {
      "application/vnd.jupyter.widget-view+json": {
       "model_id": "02cac26b7bc94983b1b1ebe97dfbadce",
       "version_major": 2,
       "version_minor": 0
      },
      "text/plain": [
       "FloatText(value=0.0, description='yaw angle 1')"
      ]
     },
     "metadata": {},
     "output_type": "display_data"
    },
    {
     "data": {
      "application/vnd.jupyter.widget-view+json": {
       "model_id": "33abd2d3c93b4ff0b7c45525b27b3552",
       "version_major": 2,
       "version_minor": 0
      },
      "text/plain": [
       "FloatText(value=0.0, description='pitch angle 1')"
      ]
     },
     "metadata": {},
     "output_type": "display_data"
    },
    {
     "data": {
      "application/vnd.jupyter.widget-view+json": {
       "model_id": "1cf3fd8e2ce1471da78baa3505bc3b01",
       "version_major": 2,
       "version_minor": 0
      },
      "text/plain": [
       "FloatText(value=0.0, description='roll angle 1')"
      ]
     },
     "metadata": {},
     "output_type": "display_data"
    }
   ],
   "source": [
    "screen_angles_widgets = dynamicFloatValue_Screen_Angles(number_of_screens.value)\n",
    "for ii in range(len(screen_angles_widgets)):\n",
    "    display( screen_angles_widgets[ii] )"
   ]
  },
  {
   "cell_type": "markdown",
   "metadata": {},
   "source": [
    "> **Important:** Position value limits are based on global bounds, screen dimensions, and screen angles. Please re-run the below cell if values for any change."
   ]
  },
  {
   "cell_type": "code",
   "execution_count": 22,
   "metadata": {},
   "outputs": [
    {
     "data": {
      "application/vnd.jupyter.widget-view+json": {
       "model_id": "72a10dfbb5654195849d2bd82fc63de4",
       "version_major": 2,
       "version_minor": 0
      },
      "text/plain": [
       "BoundedFloatText(value=0.0, description='x pos 1', max=403.0070924827737, min=-100.0)"
      ]
     },
     "metadata": {},
     "output_type": "display_data"
    },
    {
     "data": {
      "application/vnd.jupyter.widget-view+json": {
       "model_id": "97274e56df254ebd8a5b9374967cf4f3",
       "version_major": 2,
       "version_minor": 0
      },
      "text/plain": [
       "BoundedFloatText(value=0.0, description='y pos 1', max=940.0044303791647, min=-1000.0)"
      ]
     },
     "metadata": {},
     "output_type": "display_data"
    },
    {
     "data": {
      "application/vnd.jupyter.widget-view+json": {
       "model_id": "edd64479e766413b81ad38050c58c06a",
       "version_major": 2,
       "version_minor": 0
      },
      "text/plain": [
       "BoundedFloatText(value=0.0, description='z pos 1', max=50.0, min=-150.0)"
      ]
     },
     "metadata": {},
     "output_type": "display_data"
    }
   ],
   "source": [
    "screen_position_widgets = dynamicFloatValue_Screen_Position(units_angles.value, number_of_screens.value, global_bounds, \n",
    "                                                            screen_dimensions_widgets, screen_angles_widgets)\n",
    "for ii in range(len(screen_position_widgets)):\n",
    "    display( screen_position_widgets[ii] )"
   ]
  },
  {
   "cell_type": "markdown",
   "metadata": {},
   "source": [
    "## Display and Output info\n",
    ">Displays a 3D model of the spectrometer based on user inputs. If there are no errors, press the button below to output information.<br>\n",
    "**Note:** Axes may not have the same scale."
   ]
  },
  {
   "cell_type": "code",
   "execution_count": 27,
   "metadata": {
    "scrolled": false
   },
   "outputs": [
    {
     "data": {
      "application/javascript": [
       "/* Put everything inside the global mpl namespace */\n",
       "window.mpl = {};\n",
       "\n",
       "\n",
       "mpl.get_websocket_type = function() {\n",
       "    if (typeof(WebSocket) !== 'undefined') {\n",
       "        return WebSocket;\n",
       "    } else if (typeof(MozWebSocket) !== 'undefined') {\n",
       "        return MozWebSocket;\n",
       "    } else {\n",
       "        alert('Your browser does not have WebSocket support.' +\n",
       "              'Please try Chrome, Safari or Firefox ≥ 6. ' +\n",
       "              'Firefox 4 and 5 are also supported but you ' +\n",
       "              'have to enable WebSockets in about:config.');\n",
       "    };\n",
       "}\n",
       "\n",
       "mpl.figure = function(figure_id, websocket, ondownload, parent_element) {\n",
       "    this.id = figure_id;\n",
       "\n",
       "    this.ws = websocket;\n",
       "\n",
       "    this.supports_binary = (this.ws.binaryType != undefined);\n",
       "\n",
       "    if (!this.supports_binary) {\n",
       "        var warnings = document.getElementById(\"mpl-warnings\");\n",
       "        if (warnings) {\n",
       "            warnings.style.display = 'block';\n",
       "            warnings.textContent = (\n",
       "                \"This browser does not support binary websocket messages. \" +\n",
       "                    \"Performance may be slow.\");\n",
       "        }\n",
       "    }\n",
       "\n",
       "    this.imageObj = new Image();\n",
       "\n",
       "    this.context = undefined;\n",
       "    this.message = undefined;\n",
       "    this.canvas = undefined;\n",
       "    this.rubberband_canvas = undefined;\n",
       "    this.rubberband_context = undefined;\n",
       "    this.format_dropdown = undefined;\n",
       "\n",
       "    this.image_mode = 'full';\n",
       "\n",
       "    this.root = $('<div/>');\n",
       "    this._root_extra_style(this.root)\n",
       "    this.root.attr('style', 'display: inline-block');\n",
       "\n",
       "    $(parent_element).append(this.root);\n",
       "\n",
       "    this._init_header(this);\n",
       "    this._init_canvas(this);\n",
       "    this._init_toolbar(this);\n",
       "\n",
       "    var fig = this;\n",
       "\n",
       "    this.waiting = false;\n",
       "\n",
       "    this.ws.onopen =  function () {\n",
       "            fig.send_message(\"supports_binary\", {value: fig.supports_binary});\n",
       "            fig.send_message(\"send_image_mode\", {});\n",
       "            if (mpl.ratio != 1) {\n",
       "                fig.send_message(\"set_dpi_ratio\", {'dpi_ratio': mpl.ratio});\n",
       "            }\n",
       "            fig.send_message(\"refresh\", {});\n",
       "        }\n",
       "\n",
       "    this.imageObj.onload = function() {\n",
       "            if (fig.image_mode == 'full') {\n",
       "                // Full images could contain transparency (where diff images\n",
       "                // almost always do), so we need to clear the canvas so that\n",
       "                // there is no ghosting.\n",
       "                fig.context.clearRect(0, 0, fig.canvas.width, fig.canvas.height);\n",
       "            }\n",
       "            fig.context.drawImage(fig.imageObj, 0, 0);\n",
       "        };\n",
       "\n",
       "    this.imageObj.onunload = function() {\n",
       "        fig.ws.close();\n",
       "    }\n",
       "\n",
       "    this.ws.onmessage = this._make_on_message_function(this);\n",
       "\n",
       "    this.ondownload = ondownload;\n",
       "}\n",
       "\n",
       "mpl.figure.prototype._init_header = function() {\n",
       "    var titlebar = $(\n",
       "        '<div class=\"ui-dialog-titlebar ui-widget-header ui-corner-all ' +\n",
       "        'ui-helper-clearfix\"/>');\n",
       "    var titletext = $(\n",
       "        '<div class=\"ui-dialog-title\" style=\"width: 100%; ' +\n",
       "        'text-align: center; padding: 3px;\"/>');\n",
       "    titlebar.append(titletext)\n",
       "    this.root.append(titlebar);\n",
       "    this.header = titletext[0];\n",
       "}\n",
       "\n",
       "\n",
       "\n",
       "mpl.figure.prototype._canvas_extra_style = function(canvas_div) {\n",
       "\n",
       "}\n",
       "\n",
       "\n",
       "mpl.figure.prototype._root_extra_style = function(canvas_div) {\n",
       "\n",
       "}\n",
       "\n",
       "mpl.figure.prototype._init_canvas = function() {\n",
       "    var fig = this;\n",
       "\n",
       "    var canvas_div = $('<div/>');\n",
       "\n",
       "    canvas_div.attr('style', 'position: relative; clear: both; outline: 0');\n",
       "\n",
       "    function canvas_keyboard_event(event) {\n",
       "        return fig.key_event(event, event['data']);\n",
       "    }\n",
       "\n",
       "    canvas_div.keydown('key_press', canvas_keyboard_event);\n",
       "    canvas_div.keyup('key_release', canvas_keyboard_event);\n",
       "    this.canvas_div = canvas_div\n",
       "    this._canvas_extra_style(canvas_div)\n",
       "    this.root.append(canvas_div);\n",
       "\n",
       "    var canvas = $('<canvas/>');\n",
       "    canvas.addClass('mpl-canvas');\n",
       "    canvas.attr('style', \"left: 0; top: 0; z-index: 0; outline: 0\")\n",
       "\n",
       "    this.canvas = canvas[0];\n",
       "    this.context = canvas[0].getContext(\"2d\");\n",
       "\n",
       "    var backingStore = this.context.backingStorePixelRatio ||\n",
       "\tthis.context.webkitBackingStorePixelRatio ||\n",
       "\tthis.context.mozBackingStorePixelRatio ||\n",
       "\tthis.context.msBackingStorePixelRatio ||\n",
       "\tthis.context.oBackingStorePixelRatio ||\n",
       "\tthis.context.backingStorePixelRatio || 1;\n",
       "\n",
       "    mpl.ratio = (window.devicePixelRatio || 1) / backingStore;\n",
       "\n",
       "    var rubberband = $('<canvas/>');\n",
       "    rubberband.attr('style', \"position: absolute; left: 0; top: 0; z-index: 1;\")\n",
       "\n",
       "    var pass_mouse_events = true;\n",
       "\n",
       "    canvas_div.resizable({\n",
       "        start: function(event, ui) {\n",
       "            pass_mouse_events = false;\n",
       "        },\n",
       "        resize: function(event, ui) {\n",
       "            fig.request_resize(ui.size.width, ui.size.height);\n",
       "        },\n",
       "        stop: function(event, ui) {\n",
       "            pass_mouse_events = true;\n",
       "            fig.request_resize(ui.size.width, ui.size.height);\n",
       "        },\n",
       "    });\n",
       "\n",
       "    function mouse_event_fn(event) {\n",
       "        if (pass_mouse_events)\n",
       "            return fig.mouse_event(event, event['data']);\n",
       "    }\n",
       "\n",
       "    rubberband.mousedown('button_press', mouse_event_fn);\n",
       "    rubberband.mouseup('button_release', mouse_event_fn);\n",
       "    // Throttle sequential mouse events to 1 every 20ms.\n",
       "    rubberband.mousemove('motion_notify', mouse_event_fn);\n",
       "\n",
       "    rubberband.mouseenter('figure_enter', mouse_event_fn);\n",
       "    rubberband.mouseleave('figure_leave', mouse_event_fn);\n",
       "\n",
       "    canvas_div.on(\"wheel\", function (event) {\n",
       "        event = event.originalEvent;\n",
       "        event['data'] = 'scroll'\n",
       "        if (event.deltaY < 0) {\n",
       "            event.step = 1;\n",
       "        } else {\n",
       "            event.step = -1;\n",
       "        }\n",
       "        mouse_event_fn(event);\n",
       "    });\n",
       "\n",
       "    canvas_div.append(canvas);\n",
       "    canvas_div.append(rubberband);\n",
       "\n",
       "    this.rubberband = rubberband;\n",
       "    this.rubberband_canvas = rubberband[0];\n",
       "    this.rubberband_context = rubberband[0].getContext(\"2d\");\n",
       "    this.rubberband_context.strokeStyle = \"#000000\";\n",
       "\n",
       "    this._resize_canvas = function(width, height) {\n",
       "        // Keep the size of the canvas, canvas container, and rubber band\n",
       "        // canvas in synch.\n",
       "        canvas_div.css('width', width)\n",
       "        canvas_div.css('height', height)\n",
       "\n",
       "        canvas.attr('width', width * mpl.ratio);\n",
       "        canvas.attr('height', height * mpl.ratio);\n",
       "        canvas.attr('style', 'width: ' + width + 'px; height: ' + height + 'px;');\n",
       "\n",
       "        rubberband.attr('width', width);\n",
       "        rubberband.attr('height', height);\n",
       "    }\n",
       "\n",
       "    // Set the figure to an initial 600x600px, this will subsequently be updated\n",
       "    // upon first draw.\n",
       "    this._resize_canvas(600, 600);\n",
       "\n",
       "    // Disable right mouse context menu.\n",
       "    $(this.rubberband_canvas).bind(\"contextmenu\",function(e){\n",
       "        return false;\n",
       "    });\n",
       "\n",
       "    function set_focus () {\n",
       "        canvas.focus();\n",
       "        canvas_div.focus();\n",
       "    }\n",
       "\n",
       "    window.setTimeout(set_focus, 100);\n",
       "}\n",
       "\n",
       "mpl.figure.prototype._init_toolbar = function() {\n",
       "    var fig = this;\n",
       "\n",
       "    var nav_element = $('<div/>')\n",
       "    nav_element.attr('style', 'width: 100%');\n",
       "    this.root.append(nav_element);\n",
       "\n",
       "    // Define a callback function for later on.\n",
       "    function toolbar_event(event) {\n",
       "        return fig.toolbar_button_onclick(event['data']);\n",
       "    }\n",
       "    function toolbar_mouse_event(event) {\n",
       "        return fig.toolbar_button_onmouseover(event['data']);\n",
       "    }\n",
       "\n",
       "    for(var toolbar_ind in mpl.toolbar_items) {\n",
       "        var name = mpl.toolbar_items[toolbar_ind][0];\n",
       "        var tooltip = mpl.toolbar_items[toolbar_ind][1];\n",
       "        var image = mpl.toolbar_items[toolbar_ind][2];\n",
       "        var method_name = mpl.toolbar_items[toolbar_ind][3];\n",
       "\n",
       "        if (!name) {\n",
       "            // put a spacer in here.\n",
       "            continue;\n",
       "        }\n",
       "        var button = $('<button/>');\n",
       "        button.addClass('ui-button ui-widget ui-state-default ui-corner-all ' +\n",
       "                        'ui-button-icon-only');\n",
       "        button.attr('role', 'button');\n",
       "        button.attr('aria-disabled', 'false');\n",
       "        button.click(method_name, toolbar_event);\n",
       "        button.mouseover(tooltip, toolbar_mouse_event);\n",
       "\n",
       "        var icon_img = $('<span/>');\n",
       "        icon_img.addClass('ui-button-icon-primary ui-icon');\n",
       "        icon_img.addClass(image);\n",
       "        icon_img.addClass('ui-corner-all');\n",
       "\n",
       "        var tooltip_span = $('<span/>');\n",
       "        tooltip_span.addClass('ui-button-text');\n",
       "        tooltip_span.html(tooltip);\n",
       "\n",
       "        button.append(icon_img);\n",
       "        button.append(tooltip_span);\n",
       "\n",
       "        nav_element.append(button);\n",
       "    }\n",
       "\n",
       "    var fmt_picker_span = $('<span/>');\n",
       "\n",
       "    var fmt_picker = $('<select/>');\n",
       "    fmt_picker.addClass('mpl-toolbar-option ui-widget ui-widget-content');\n",
       "    fmt_picker_span.append(fmt_picker);\n",
       "    nav_element.append(fmt_picker_span);\n",
       "    this.format_dropdown = fmt_picker[0];\n",
       "\n",
       "    for (var ind in mpl.extensions) {\n",
       "        var fmt = mpl.extensions[ind];\n",
       "        var option = $(\n",
       "            '<option/>', {selected: fmt === mpl.default_extension}).html(fmt);\n",
       "        fmt_picker.append(option)\n",
       "    }\n",
       "\n",
       "    // Add hover states to the ui-buttons\n",
       "    $( \".ui-button\" ).hover(\n",
       "        function() { $(this).addClass(\"ui-state-hover\");},\n",
       "        function() { $(this).removeClass(\"ui-state-hover\");}\n",
       "    );\n",
       "\n",
       "    var status_bar = $('<span class=\"mpl-message\"/>');\n",
       "    nav_element.append(status_bar);\n",
       "    this.message = status_bar[0];\n",
       "}\n",
       "\n",
       "mpl.figure.prototype.request_resize = function(x_pixels, y_pixels) {\n",
       "    // Request matplotlib to resize the figure. Matplotlib will then trigger a resize in the client,\n",
       "    // which will in turn request a refresh of the image.\n",
       "    this.send_message('resize', {'width': x_pixels, 'height': y_pixels});\n",
       "}\n",
       "\n",
       "mpl.figure.prototype.send_message = function(type, properties) {\n",
       "    properties['type'] = type;\n",
       "    properties['figure_id'] = this.id;\n",
       "    this.ws.send(JSON.stringify(properties));\n",
       "}\n",
       "\n",
       "mpl.figure.prototype.send_draw_message = function() {\n",
       "    if (!this.waiting) {\n",
       "        this.waiting = true;\n",
       "        this.ws.send(JSON.stringify({type: \"draw\", figure_id: this.id}));\n",
       "    }\n",
       "}\n",
       "\n",
       "\n",
       "mpl.figure.prototype.handle_save = function(fig, msg) {\n",
       "    var format_dropdown = fig.format_dropdown;\n",
       "    var format = format_dropdown.options[format_dropdown.selectedIndex].value;\n",
       "    fig.ondownload(fig, format);\n",
       "}\n",
       "\n",
       "\n",
       "mpl.figure.prototype.handle_resize = function(fig, msg) {\n",
       "    var size = msg['size'];\n",
       "    if (size[0] != fig.canvas.width || size[1] != fig.canvas.height) {\n",
       "        fig._resize_canvas(size[0], size[1]);\n",
       "        fig.send_message(\"refresh\", {});\n",
       "    };\n",
       "}\n",
       "\n",
       "mpl.figure.prototype.handle_rubberband = function(fig, msg) {\n",
       "    var x0 = msg['x0'] / mpl.ratio;\n",
       "    var y0 = (fig.canvas.height - msg['y0']) / mpl.ratio;\n",
       "    var x1 = msg['x1'] / mpl.ratio;\n",
       "    var y1 = (fig.canvas.height - msg['y1']) / mpl.ratio;\n",
       "    x0 = Math.floor(x0) + 0.5;\n",
       "    y0 = Math.floor(y0) + 0.5;\n",
       "    x1 = Math.floor(x1) + 0.5;\n",
       "    y1 = Math.floor(y1) + 0.5;\n",
       "    var min_x = Math.min(x0, x1);\n",
       "    var min_y = Math.min(y0, y1);\n",
       "    var width = Math.abs(x1 - x0);\n",
       "    var height = Math.abs(y1 - y0);\n",
       "\n",
       "    fig.rubberband_context.clearRect(\n",
       "        0, 0, fig.canvas.width, fig.canvas.height);\n",
       "\n",
       "    fig.rubberband_context.strokeRect(min_x, min_y, width, height);\n",
       "}\n",
       "\n",
       "mpl.figure.prototype.handle_figure_label = function(fig, msg) {\n",
       "    // Updates the figure title.\n",
       "    fig.header.textContent = msg['label'];\n",
       "}\n",
       "\n",
       "mpl.figure.prototype.handle_cursor = function(fig, msg) {\n",
       "    var cursor = msg['cursor'];\n",
       "    switch(cursor)\n",
       "    {\n",
       "    case 0:\n",
       "        cursor = 'pointer';\n",
       "        break;\n",
       "    case 1:\n",
       "        cursor = 'default';\n",
       "        break;\n",
       "    case 2:\n",
       "        cursor = 'crosshair';\n",
       "        break;\n",
       "    case 3:\n",
       "        cursor = 'move';\n",
       "        break;\n",
       "    }\n",
       "    fig.rubberband_canvas.style.cursor = cursor;\n",
       "}\n",
       "\n",
       "mpl.figure.prototype.handle_message = function(fig, msg) {\n",
       "    fig.message.textContent = msg['message'];\n",
       "}\n",
       "\n",
       "mpl.figure.prototype.handle_draw = function(fig, msg) {\n",
       "    // Request the server to send over a new figure.\n",
       "    fig.send_draw_message();\n",
       "}\n",
       "\n",
       "mpl.figure.prototype.handle_image_mode = function(fig, msg) {\n",
       "    fig.image_mode = msg['mode'];\n",
       "}\n",
       "\n",
       "mpl.figure.prototype.updated_canvas_event = function() {\n",
       "    // Called whenever the canvas gets updated.\n",
       "    this.send_message(\"ack\", {});\n",
       "}\n",
       "\n",
       "// A function to construct a web socket function for onmessage handling.\n",
       "// Called in the figure constructor.\n",
       "mpl.figure.prototype._make_on_message_function = function(fig) {\n",
       "    return function socket_on_message(evt) {\n",
       "        if (evt.data instanceof Blob) {\n",
       "            /* FIXME: We get \"Resource interpreted as Image but\n",
       "             * transferred with MIME type text/plain:\" errors on\n",
       "             * Chrome.  But how to set the MIME type?  It doesn't seem\n",
       "             * to be part of the websocket stream */\n",
       "            evt.data.type = \"image/png\";\n",
       "\n",
       "            /* Free the memory for the previous frames */\n",
       "            if (fig.imageObj.src) {\n",
       "                (window.URL || window.webkitURL).revokeObjectURL(\n",
       "                    fig.imageObj.src);\n",
       "            }\n",
       "\n",
       "            fig.imageObj.src = (window.URL || window.webkitURL).createObjectURL(\n",
       "                evt.data);\n",
       "            fig.updated_canvas_event();\n",
       "            fig.waiting = false;\n",
       "            return;\n",
       "        }\n",
       "        else if (typeof evt.data === 'string' && evt.data.slice(0, 21) == \"data:image/png;base64\") {\n",
       "            fig.imageObj.src = evt.data;\n",
       "            fig.updated_canvas_event();\n",
       "            fig.waiting = false;\n",
       "            return;\n",
       "        }\n",
       "\n",
       "        var msg = JSON.parse(evt.data);\n",
       "        var msg_type = msg['type'];\n",
       "\n",
       "        // Call the  \"handle_{type}\" callback, which takes\n",
       "        // the figure and JSON message as its only arguments.\n",
       "        try {\n",
       "            var callback = fig[\"handle_\" + msg_type];\n",
       "        } catch (e) {\n",
       "            console.log(\"No handler for the '\" + msg_type + \"' message type: \", msg);\n",
       "            return;\n",
       "        }\n",
       "\n",
       "        if (callback) {\n",
       "            try {\n",
       "                // console.log(\"Handling '\" + msg_type + \"' message: \", msg);\n",
       "                callback(fig, msg);\n",
       "            } catch (e) {\n",
       "                console.log(\"Exception inside the 'handler_\" + msg_type + \"' callback:\", e, e.stack, msg);\n",
       "            }\n",
       "        }\n",
       "    };\n",
       "}\n",
       "\n",
       "// from http://stackoverflow.com/questions/1114465/getting-mouse-location-in-canvas\n",
       "mpl.findpos = function(e) {\n",
       "    //this section is from http://www.quirksmode.org/js/events_properties.html\n",
       "    var targ;\n",
       "    if (!e)\n",
       "        e = window.event;\n",
       "    if (e.target)\n",
       "        targ = e.target;\n",
       "    else if (e.srcElement)\n",
       "        targ = e.srcElement;\n",
       "    if (targ.nodeType == 3) // defeat Safari bug\n",
       "        targ = targ.parentNode;\n",
       "\n",
       "    // jQuery normalizes the pageX and pageY\n",
       "    // pageX,Y are the mouse positions relative to the document\n",
       "    // offset() returns the position of the element relative to the document\n",
       "    var x = e.pageX - $(targ).offset().left;\n",
       "    var y = e.pageY - $(targ).offset().top;\n",
       "\n",
       "    return {\"x\": x, \"y\": y};\n",
       "};\n",
       "\n",
       "/*\n",
       " * return a copy of an object with only non-object keys\n",
       " * we need this to avoid circular references\n",
       " * http://stackoverflow.com/a/24161582/3208463\n",
       " */\n",
       "function simpleKeys (original) {\n",
       "  return Object.keys(original).reduce(function (obj, key) {\n",
       "    if (typeof original[key] !== 'object')\n",
       "        obj[key] = original[key]\n",
       "    return obj;\n",
       "  }, {});\n",
       "}\n",
       "\n",
       "mpl.figure.prototype.mouse_event = function(event, name) {\n",
       "    var canvas_pos = mpl.findpos(event)\n",
       "\n",
       "    if (name === 'button_press')\n",
       "    {\n",
       "        this.canvas.focus();\n",
       "        this.canvas_div.focus();\n",
       "    }\n",
       "\n",
       "    var x = canvas_pos.x * mpl.ratio;\n",
       "    var y = canvas_pos.y * mpl.ratio;\n",
       "\n",
       "    this.send_message(name, {x: x, y: y, button: event.button,\n",
       "                             step: event.step,\n",
       "                             guiEvent: simpleKeys(event)});\n",
       "\n",
       "    /* This prevents the web browser from automatically changing to\n",
       "     * the text insertion cursor when the button is pressed.  We want\n",
       "     * to control all of the cursor setting manually through the\n",
       "     * 'cursor' event from matplotlib */\n",
       "    event.preventDefault();\n",
       "    return false;\n",
       "}\n",
       "\n",
       "mpl.figure.prototype._key_event_extra = function(event, name) {\n",
       "    // Handle any extra behaviour associated with a key event\n",
       "}\n",
       "\n",
       "mpl.figure.prototype.key_event = function(event, name) {\n",
       "\n",
       "    // Prevent repeat events\n",
       "    if (name == 'key_press')\n",
       "    {\n",
       "        if (event.which === this._key)\n",
       "            return;\n",
       "        else\n",
       "            this._key = event.which;\n",
       "    }\n",
       "    if (name == 'key_release')\n",
       "        this._key = null;\n",
       "\n",
       "    var value = '';\n",
       "    if (event.ctrlKey && event.which != 17)\n",
       "        value += \"ctrl+\";\n",
       "    if (event.altKey && event.which != 18)\n",
       "        value += \"alt+\";\n",
       "    if (event.shiftKey && event.which != 16)\n",
       "        value += \"shift+\";\n",
       "\n",
       "    value += 'k';\n",
       "    value += event.which.toString();\n",
       "\n",
       "    this._key_event_extra(event, name);\n",
       "\n",
       "    this.send_message(name, {key: value,\n",
       "                             guiEvent: simpleKeys(event)});\n",
       "    return false;\n",
       "}\n",
       "\n",
       "mpl.figure.prototype.toolbar_button_onclick = function(name) {\n",
       "    if (name == 'download') {\n",
       "        this.handle_save(this, null);\n",
       "    } else {\n",
       "        this.send_message(\"toolbar_button\", {name: name});\n",
       "    }\n",
       "};\n",
       "\n",
       "mpl.figure.prototype.toolbar_button_onmouseover = function(tooltip) {\n",
       "    this.message.textContent = tooltip;\n",
       "};\n",
       "mpl.toolbar_items = [[\"Home\", \"Reset original view\", \"fa fa-home icon-home\", \"home\"], [\"Back\", \"Back to previous view\", \"fa fa-arrow-left icon-arrow-left\", \"back\"], [\"Forward\", \"Forward to next view\", \"fa fa-arrow-right icon-arrow-right\", \"forward\"], [\"\", \"\", \"\", \"\"], [\"Pan\", \"Pan axes with left mouse, zoom with right\", \"fa fa-arrows icon-move\", \"pan\"], [\"Zoom\", \"Zoom to rectangle\", \"fa fa-square-o icon-check-empty\", \"zoom\"], [\"\", \"\", \"\", \"\"], [\"Download\", \"Download plot\", \"fa fa-floppy-o icon-save\", \"download\"]];\n",
       "\n",
       "mpl.extensions = [\"eps\", \"jpeg\", \"pdf\", \"png\", \"ps\", \"raw\", \"svg\", \"tif\"];\n",
       "\n",
       "mpl.default_extension = \"png\";var comm_websocket_adapter = function(comm) {\n",
       "    // Create a \"websocket\"-like object which calls the given IPython comm\n",
       "    // object with the appropriate methods. Currently this is a non binary\n",
       "    // socket, so there is still some room for performance tuning.\n",
       "    var ws = {};\n",
       "\n",
       "    ws.close = function() {\n",
       "        comm.close()\n",
       "    };\n",
       "    ws.send = function(m) {\n",
       "        //console.log('sending', m);\n",
       "        comm.send(m);\n",
       "    };\n",
       "    // Register the callback with on_msg.\n",
       "    comm.on_msg(function(msg) {\n",
       "        //console.log('receiving', msg['content']['data'], msg);\n",
       "        // Pass the mpl event to the overridden (by mpl) onmessage function.\n",
       "        ws.onmessage(msg['content']['data'])\n",
       "    });\n",
       "    return ws;\n",
       "}\n",
       "\n",
       "mpl.mpl_figure_comm = function(comm, msg) {\n",
       "    // This is the function which gets called when the mpl process\n",
       "    // starts-up an IPython Comm through the \"matplotlib\" channel.\n",
       "\n",
       "    var id = msg.content.data.id;\n",
       "    // Get hold of the div created by the display call when the Comm\n",
       "    // socket was opened in Python.\n",
       "    var element = $(\"#\" + id);\n",
       "    var ws_proxy = comm_websocket_adapter(comm)\n",
       "\n",
       "    function ondownload(figure, format) {\n",
       "        window.open(figure.imageObj.src);\n",
       "    }\n",
       "\n",
       "    var fig = new mpl.figure(id, ws_proxy,\n",
       "                           ondownload,\n",
       "                           element.get(0));\n",
       "\n",
       "    // Call onopen now - mpl needs it, as it is assuming we've passed it a real\n",
       "    // web socket which is closed, not our websocket->open comm proxy.\n",
       "    ws_proxy.onopen();\n",
       "\n",
       "    fig.parent_element = element.get(0);\n",
       "    fig.cell_info = mpl.find_output_cell(\"<div id='\" + id + \"'></div>\");\n",
       "    if (!fig.cell_info) {\n",
       "        console.error(\"Failed to find cell for figure\", id, fig);\n",
       "        return;\n",
       "    }\n",
       "\n",
       "    var output_index = fig.cell_info[2]\n",
       "    var cell = fig.cell_info[0];\n",
       "\n",
       "};\n",
       "\n",
       "mpl.figure.prototype.handle_close = function(fig, msg) {\n",
       "    var width = fig.canvas.width/mpl.ratio\n",
       "    fig.root.unbind('remove')\n",
       "\n",
       "    // Update the output cell to use the data from the current canvas.\n",
       "    fig.push_to_output();\n",
       "    var dataURL = fig.canvas.toDataURL();\n",
       "    // Re-enable the keyboard manager in IPython - without this line, in FF,\n",
       "    // the notebook keyboard shortcuts fail.\n",
       "    IPython.keyboard_manager.enable()\n",
       "    $(fig.parent_element).html('<img src=\"' + dataURL + '\" width=\"' + width + '\">');\n",
       "    fig.close_ws(fig, msg);\n",
       "}\n",
       "\n",
       "mpl.figure.prototype.close_ws = function(fig, msg){\n",
       "    fig.send_message('closing', msg);\n",
       "    // fig.ws.close()\n",
       "}\n",
       "\n",
       "mpl.figure.prototype.push_to_output = function(remove_interactive) {\n",
       "    // Turn the data on the canvas into data in the output cell.\n",
       "    var width = this.canvas.width/mpl.ratio\n",
       "    var dataURL = this.canvas.toDataURL();\n",
       "    this.cell_info[1]['text/html'] = '<img src=\"' + dataURL + '\" width=\"' + width + '\">';\n",
       "}\n",
       "\n",
       "mpl.figure.prototype.updated_canvas_event = function() {\n",
       "    // Tell IPython that the notebook contents must change.\n",
       "    IPython.notebook.set_dirty(true);\n",
       "    this.send_message(\"ack\", {});\n",
       "    var fig = this;\n",
       "    // Wait a second, then push the new image to the DOM so\n",
       "    // that it is saved nicely (might be nice to debounce this).\n",
       "    setTimeout(function () { fig.push_to_output() }, 1000);\n",
       "}\n",
       "\n",
       "mpl.figure.prototype._init_toolbar = function() {\n",
       "    var fig = this;\n",
       "\n",
       "    var nav_element = $('<div/>')\n",
       "    nav_element.attr('style', 'width: 100%');\n",
       "    this.root.append(nav_element);\n",
       "\n",
       "    // Define a callback function for later on.\n",
       "    function toolbar_event(event) {\n",
       "        return fig.toolbar_button_onclick(event['data']);\n",
       "    }\n",
       "    function toolbar_mouse_event(event) {\n",
       "        return fig.toolbar_button_onmouseover(event['data']);\n",
       "    }\n",
       "\n",
       "    for(var toolbar_ind in mpl.toolbar_items){\n",
       "        var name = mpl.toolbar_items[toolbar_ind][0];\n",
       "        var tooltip = mpl.toolbar_items[toolbar_ind][1];\n",
       "        var image = mpl.toolbar_items[toolbar_ind][2];\n",
       "        var method_name = mpl.toolbar_items[toolbar_ind][3];\n",
       "\n",
       "        if (!name) { continue; };\n",
       "\n",
       "        var button = $('<button class=\"btn btn-default\" href=\"#\" title=\"' + name + '\"><i class=\"fa ' + image + ' fa-lg\"></i></button>');\n",
       "        button.click(method_name, toolbar_event);\n",
       "        button.mouseover(tooltip, toolbar_mouse_event);\n",
       "        nav_element.append(button);\n",
       "    }\n",
       "\n",
       "    // Add the status bar.\n",
       "    var status_bar = $('<span class=\"mpl-message\" style=\"text-align:right; float: right;\"/>');\n",
       "    nav_element.append(status_bar);\n",
       "    this.message = status_bar[0];\n",
       "\n",
       "    // Add the close button to the window.\n",
       "    var buttongrp = $('<div class=\"btn-group inline pull-right\"></div>');\n",
       "    var button = $('<button class=\"btn btn-mini btn-primary\" href=\"#\" title=\"Stop Interaction\"><i class=\"fa fa-power-off icon-remove icon-large\"></i></button>');\n",
       "    button.click(function (evt) { fig.handle_close(fig, {}); } );\n",
       "    button.mouseover('Stop Interaction', toolbar_mouse_event);\n",
       "    buttongrp.append(button);\n",
       "    var titlebar = this.root.find($('.ui-dialog-titlebar'));\n",
       "    titlebar.prepend(buttongrp);\n",
       "}\n",
       "\n",
       "mpl.figure.prototype._root_extra_style = function(el){\n",
       "    var fig = this\n",
       "    el.on(\"remove\", function(){\n",
       "\tfig.close_ws(fig, {});\n",
       "    });\n",
       "}\n",
       "\n",
       "mpl.figure.prototype._canvas_extra_style = function(el){\n",
       "    // this is important to make the div 'focusable\n",
       "    el.attr('tabindex', 0)\n",
       "    // reach out to IPython and tell the keyboard manager to turn it's self\n",
       "    // off when our div gets focus\n",
       "\n",
       "    // location in version 3\n",
       "    if (IPython.notebook.keyboard_manager) {\n",
       "        IPython.notebook.keyboard_manager.register_events(el);\n",
       "    }\n",
       "    else {\n",
       "        // location in version 2\n",
       "        IPython.keyboard_manager.register_events(el);\n",
       "    }\n",
       "\n",
       "}\n",
       "\n",
       "mpl.figure.prototype._key_event_extra = function(event, name) {\n",
       "    var manager = IPython.notebook.keyboard_manager;\n",
       "    if (!manager)\n",
       "        manager = IPython.keyboard_manager;\n",
       "\n",
       "    // Check for shift+enter\n",
       "    if (event.shiftKey && event.which == 13) {\n",
       "        this.canvas_div.blur();\n",
       "        event.shiftKey = false;\n",
       "        // Send a \"J\" for go to next cell\n",
       "        event.which = 74;\n",
       "        event.keyCode = 74;\n",
       "        manager.command_mode();\n",
       "        manager.handle_keydown(event);\n",
       "    }\n",
       "}\n",
       "\n",
       "mpl.figure.prototype.handle_save = function(fig, msg) {\n",
       "    fig.ondownload(fig, null);\n",
       "}\n",
       "\n",
       "\n",
       "mpl.find_output_cell = function(html_output) {\n",
       "    // Return the cell and output element which can be found *uniquely* in the notebook.\n",
       "    // Note - this is a bit hacky, but it is done because the \"notebook_saving.Notebook\"\n",
       "    // IPython event is triggered only after the cells have been serialised, which for\n",
       "    // our purposes (turning an active figure into a static one), is too late.\n",
       "    var cells = IPython.notebook.get_cells();\n",
       "    var ncells = cells.length;\n",
       "    for (var i=0; i<ncells; i++) {\n",
       "        var cell = cells[i];\n",
       "        if (cell.cell_type === 'code'){\n",
       "            for (var j=0; j<cell.output_area.outputs.length; j++) {\n",
       "                var data = cell.output_area.outputs[j];\n",
       "                if (data.data) {\n",
       "                    // IPython >= 3 moved mimebundle to data attribute of output\n",
       "                    data = data.data;\n",
       "                }\n",
       "                if (data['text/html'] == html_output) {\n",
       "                    return [cell, data, j];\n",
       "                }\n",
       "            }\n",
       "        }\n",
       "    }\n",
       "}\n",
       "\n",
       "// Register the function which deals with the matplotlib target/channel.\n",
       "// The kernel may be null if the page has been refreshed.\n",
       "if (IPython.notebook.kernel != null) {\n",
       "    IPython.notebook.kernel.comm_manager.register_target('matplotlib', mpl.mpl_figure_comm);\n",
       "}\n"
      ],
      "text/plain": [
       "<IPython.core.display.Javascript object>"
      ]
     },
     "metadata": {},
     "output_type": "display_data"
    },
    {
     "data": {
      "text/html": [
       "<img src=\"data:image/png;base64,iVBORw0KGgoAAAANSUhEUgAAAgAAAAGACAYAAADbINq/AAAgAElEQVR4XuydB5heRdXH7yZbUkgIAZJgIPQOioUqVVAQEARFQUVsoChgwYb62RFQsCAIKkVQQKqiIB1RBFS6IMUgAUxCAgQI6dlk9zu/c3PCMNwy9y1b8s48zz67+7733pk5M3fO//S2XmlJbJECkQKRApECkQKRAi1FgbYIAFpqveNkIwUiBSIFIgUiBZQCEQDEjRApECkQKRApECnQghSIAKAFFz1OOVIgUiBSIFIgUiACgLgHIgUiBSIFIgUiBVqQAhEAtOCixylHCkQKRApECkQKRAAQ90CkQKRApECkQKRAC1IgAoAWXPQ45UiBSIFIgUiBSIEIAOIeiBSIFIgUiBSIFGhBCkQA0IKLHqccKRApECkQKRApEAFA3AORApECkQKRApECLUiBCABacNHjlCMFIgUiBSIFIgUiAIh7IFIgUiBSIFIgUqAFKRABQAsuepxypECkQKRApECkQAQAcQ9ECkQKRApECkQKtCAFIgBowUWPU44UiBSIFIgUiBSIACDugUiBSIFIgUiBSIEWpEAEAC246HHKkQKRApECkQKRAhEAxD0QKRApECkQKRAp0IIUiACgBRc9TjlSIFIgUiBSIFIgAoC4ByIFIgUiBSIFIgVakAIRALTgoscpRwpECkQKRApECkQAEPdApECkQKRApECkQAtSIAKAFlz0OOVIgUiBSIFIgUiBCADiHogUiBSIFIgUiBRoQQpEANCCix6nHCkQKRApECkQKRABQNwDkQKRApECkQKRAi1IgQgAWnDR45QjBSIFIgUiBSIFIgCIeyBSIFIgUiBSIFKgBSkQAUALLnqccqRApECkQKRApEAEAHEPRApECkQKRApECrQgBSIAaMFFj1OOFIgUiBSIFIgUiAAg7oFIgUiBSIFIgUiBFqRABAAtuOhxypECkQKRApECkQIRAMQ9ECkQKRApECkQKdCCFIgAoAUXPU45UiBSIFIgUiBSIAKAuAciBSIFIgUiBSIFWpACEQC04KLHKUcKRApECkQKRApEABD3QKRApECkQKRApEALUiACgBZc9DjlSIFIgUiBSIFIgQgA4h6IFIgUiBSIFIgUaEEKRADQgosepxwpECkQKRApECkQAUDcA5ECkQKRApECkQItSIEIAFpw0eOUIwUiBSIFIgUiBSIAiHsgUiBSIFIgUiBSoAUpEAFACy56nHKkQKRApECkQKRABABxD0QKRApECkQKRAq0IAUiAGjBRY9TjhSIFIgUiBSIFIgAIO6BSIFIgUiBSIFIgRakQAQALbjoccqRApECkQKRApECEQDEPRApECkQKRApECnQghSIAKAFFz1OOVIgUiBSIFIgUiACgLgHWpoCzz33XPL+978/ufXWW5Nx48Ylt9xyS7LuuusmkydPTjbYYIOm0WbNNddMvvvd7yYf+tCHmtbHQHjwrrvumuy4444619giBSIFBhYFIgAYWOsxoEezzjrrJF/72teSj33sY68YZ18f8k888YQyaVpbW1syatSoZKONNkr222+/5LOf/Wyy0korBdPx29/+dnLJJZckv//975OVV145GTt2bPLss88mq6++ejJ06NDg51S9sAwAQOsnn3wyuemmm5K3vOUtyx//v//9L+G7np6epLu7O2lvb6/adVOuX7JkSdLR0ZH8+c9/TtgP1p5//vmks7Oz0pq4A/zpT3+anHnmmcmUKVOSESNGJJtuumny+c9/Ptl///2bMg//oYCXPfbYI/nmN7/ZJ/1V7eSss85ScMU7EVukQFUKRABQlWItfH1fA4De3t7EGItLdgMAd9xxhzLDl156KfnHP/6RHH/88cmQIUOS2267LVlllVWCVgoJnH7OO++8oOsbdVEIAFi6dKkyn3PPPXd5t9/73veSM844I5k6deqgAAD10OsXv/hF8sUvfjH52c9+lmy//fbJ7Nmzk9tvvz0ZPnx48uEPf7ieRwffGwIAFi1alHR1dQU/s5EXNgoALF68WIFabK1FgQgAWmu965ptCABYuHBhcvTRRydXXnllMmfOnGTttddOTjzxxOSd73yn9n3PPfckn/vc55Rhjx8/PjnssMOS//u//1suySLR//KXv0wuuugiZeS/+c1vkne/+92vGLcBAF9NP2vWrGSzzTZTtfpJJ52k9yDNf+Yzn0muvvpq7WPPPfdMTj311GTVVVdVSfUvf/nL8mczFiQ91wTwq1/9SrUeP/7xj5MvfOELyQsvvJAceOCByoTt0J8/f75+hyYBqRymcdpppyk4oXG4HnXUUcmFF16owAQmftxxxxWaALj34IMPVuY3Y8YMlX5pm2yySXLAAQcoTU0D8MgjjyhN//nPfypg2mGHHZLTTz99uZaE++j7y1/+cgKNoCcajrvuuktNHjRosc022yiT5VroQx+MwVrR2pnGwq6FltDO1w4988wzOtY//elPSpfXve51yfnnn5+sv/76r9qb7Jm11lorQQuQ1+j3yCOPTP72t78lN954o+43NAauFoLPmfu///1vfd6nP/3p5FOf+tTyR/73v//VMaG9YP9tvfXWyaWXXqraJBcY8mz2HnuEZ77rXe9KTj75ZNUaPfDAA8nMmTP1uddee61qQ9gn7LWRI0cupzHPfvHFF5Pf/va3SmPW97Wvfa3uWQDtVlttpfSnL2s8g/3HPth8882TH/zgBzo/1m633XZ7BWlMA/P444/rPPl/9OjROpbvf//7y/eR0Y09c8011yRowtCsxNZaFIgAoLXWu67ZhgAADhkON5g4ByPMCUaJGhvmg6r+S1/6kh5ISLGHH364mhT4jMYBPHHiRD3w3vCGN+jhCVBwWx4A4BoObQ7ghx9+WG/ZZZddEqRtGADPph/U5xx6qKePOOIIVfX/5Cc/UckSBu8DABgMkjiMG58BGChMAKBD++AHP6iHM99jjgB83Hnnncl9992nz/7Wt76lTAlmwlw4mAFAgIg8HwCj9TnnnKPg4X3ve5/eA/P/9a9/reMxAAAj/9e//qWMHwAAYHn66af1etqjjz6qjOM73/mO0v2yyy7TMUJfFwDce++9Oq93vOMdCry4BjMEvhFla8f811hjjeTyyy/XcUBLTCo+AAAcodmAcfJcmN62226bbLzxxq/amx//+McVpFx11VX67KwGnQAtJ5xwgvYF8IE+jJv+mTtM90c/+pEyy4ceeij5yEc+oqDive99b4L0Dmjkh7mz326++ebkPe95jzLxt73tbclOO+2kzJG1BDhxHePfd999FbyidcI0wbWMBaa+YMEC1VLQJ5oMGuODxjDbvffeW/c47wrjY43xOWFsRkfuYf3RbDEv3h2ALHuYebzmNa9RoMnc2G803jka6806QkM0ZDyf9WbP0aAbAB2Qt/vuu6v0z3sSW2tRIAKA1lrvumYbAgBgikjEZ5999qv64uCDUcGArCHtfP3rX08ee+wx/QgmzQH7jW98I3esRQDg5z//uUr8HMB//etf9SAHaJitfPr06QowsKVz4H3gAx/Q75BWaf6z+ZxDGYZqQIRDFYbIPLge5gUDNLMDjHnMmDHJddddp9oA7gMEfOITn9A+AEUwDFT7ZQAAho42BcDyyU9+UhnUPvvso4wlzwfAmDFMcNKkSaqdgNEiJVuDSXPouwAALQOSOY1+YaAXX3yxMrqytcvzAXABANLoXnvtlSCdsgZljTXC1g+QgqHtvPPOyUEHHfQK6Z49ud122ykjpQEu1ltvPZ0zTI+1gynCsK0B1GDySPGsAQyVdTQtizuuLBMA+/OUU07RPWH+JramaBkAEzSAKEwY0GhgyKWxrRMSvUnfzAMtAvuLxlzQALAG1gAa0AKgl2UCQKPCPYAna5hO2DO8mwAZ6Mb/rnmpbD3i9yseBSIAWPHWtGkzCgEAqBTf+ta3qjSDuh016Rvf+EYdE4c3zMy1NXJgw8hQByNJAQC4Boe+vFYEAJC0Uedy0CE1HXPMMSqNum3evHmq+ucQDQEAMAjUu9YAJzAzAAYSGYe8zzzoH/AAAwMM3H333SqBWUMtyyFdBgCgH0AFic8kdpiDCwCQOr/yla8k119/vY4TDQdzhOG/+c1vVvMLKmW0HNagC2DMBQBI4mY64TruYa4w0bK1o88sJ0AXACB1A9AefPDB4D2Kfwa0g9Y4RAKEAIzmlMeeZC6suTW0HAAM+kO6Rj3vOksCVpCeASLHHnusagnQMmS1PADwhz/8Qc1Z1tizhx56qErb1lgXd+2hhUtj5saeB3S9/e1v19vYV2jLGCMgFo0Se4v3whpaC/pCO5AFAAA/aBdcvwT6Yk8aKIRu0Azaxda6FIgAoHXXvvLMzVbpHrY85PWvf31yyCGHqMMWDdU6jBEJCJUwXspIOBxyqFA5wP1mIXccdDfccIOquPNaEQBA+ocRwjBhZhySjMVvMAiAQQgAQNJCi2DNbMAwWCRkGOT999//qj5QccMY0QzALKCTtVAAgHkEEIAvA8wFadhsv6YB4Jq///3vOl/MFzAPbOtmDwaE8DlMwVoWAPDD9VzAV7Z2IRoAAA/q8CoAwCcq0jugZO7cucrgGCMmFUw/1lwAgKYFswlr5DYAgTHB//znP5UBANoDV6NCFAmmIBcA8DeSv4G/rGgZf7+7awvQmzBhgkaooAFxG8AAzVIWAMBkxZwAW34D1AHU8sB85UMh3jCoKRABwKBevr4dPIwIFTQqRmvYEZGmsLuao587KnwCkIRhyNjhOThd1aQ/g3oAgDkBcthjEwaAcPibHTuLWvUCAFP9Ik1vueWWmQvCQY0KHdMBDYkTZ74QEwDMHekS2qJ2Bnz5AGCLLbZQPwrAD42cBmg3DAAgEQIQ+NwamgEYgasBKAIAZWuHhAlTBXxhU7aWZQIgpI89U0u74oorFBAhXQOiYGRECOA0SgNwoTYHcGICwIkRoAQQzWqsAXOzMEP/GjQt0AX/CWsuALTPQk0APo2LAACqeuiEdsf8Tfzx4VcCQMVcYg0tGOPFuXHYsGGZ844AoJbdt+LdEwHAiremTZsRanPsj9hTseXC/DlokOiwfaLaxyEJlTXezEQEIJkhrfzud7/TQwotAk50HM4cTkjOSCscYrQqAMANA8T0gKYBJkT0AJIXzAD7MOMCECD1cyji4W2OWfUCAMYMQ4IB/PCHP1RHLeZJHzAKPL2RWHGKBDihAYEmjD3ECRDGzjzQqqBOZn4+AEDCB/wwJ66D+eEAaADAnABxJgMQwUSRpDHNcA0tSzp1mUTI2nE9SZWQyFFbYx8vcgJEugWYvOlNb8p0AsRnAs0Fjpw4xkFjQA6AyoALfSJp48zGdTjgATgBfaZ+x98BEIQjJUAFhznU4fhU+E6A7FVowpquttpqaqKZNm2aPpM5oc3JAgDQEJMXwATTE3sfJ0Dm7zoBVgEArDVmDBwNea8AdTipAqKJ2MBUAB14J7HxQwv2PX3znvHDe8WYcYrl/TVfiAgAmnZMDqoHRwAwqJar/weL7RNGy2HMAc+BhhOThS1x2OGZjFMfKnakQVS/HPY07LEcxqhPsX8iCQMGUJ9WBQB2PeOA8SIlwyDcREAwRPpj3KiNGSf+BWgmaI0AABy4X/3qV9URDYcvgAaHMoc2NIDJwGz4HqYEI+ZgLsoEWHRA+wAAWhN2h5nBVP0wIzcpzwUXXKCSLvSAucHoAENoSUIAQMjaEQaJGQiwgI06LwwQgIDdG2ADUESKRWr3GyAKZ1LMHoTOwfjxnsehEvMKDToBFGBuzJf1BVi5yZPwH2B90DwBOmGM+HXwLBr0Y0zQFaYLaMS0w1oBbtmbAFxAiBsG6JoAeA7+F6wzzp88Bzr7YYBVAQDP5Z1iL7FeAEo0HgBanE+hISCF/Q34sDUHAAEEMaehAcHExjzweTC6ZSX16v8TJo6gLykQAUBfUjv2FSkwQCiAjwUMBGl1MLcoyQ7m1Ytj728KRADQ3ysQ+48UWEYB1NP8YAZxvb4bQSAYPapwtCNI6qiVkWD5bDC3CAAG8+rFsfc3BSIA6O8ViP1HCggFLLc/oV8wfxzAUCPzG1OJhUjWSiw8w7H947eBuQS/BPwBBnuLAGCwr2Acf39SIAKA/qR+7LvlKQDjJ4SOfAg08iHQTBtgBMoCBYCDRmsKWn5BIgEiBVqIAhEAtNBix6kOHApYoSOYP80YOQDAZ+pca6AAwMD39pmrKTBtQTNMCAOHcnEkkQKRAo2iQAQAjaJkfE6kQAAFshi/MXy+ywIAeY81LYGrLTDm32gTQsDU4iWRApECg4wCEQAMsgWLwx2cFIBJo+YnDI+sflS/y5L0qwCALEr4oMC0Bfw2nwLTFEQTwuDcS3HUkQKNokAEAI2iZHxOpEAGBWDIZufnN/HsTz31lMa/+62qBiCU4GYuoH+LMgCEkCCJJDE+MIgmhFDKxusiBQY3BSIAGNzrF0c/QClgkjhJWGC8NBgryVpIO+vWBbApNAsAZJGI5DdWajmaEAboJorDihRoMgUiAGgygePjW48Cvme/K1EDAMjo5lYG7A8AwBhIbUt2O7eFmhBch8PWW+E440iBFYMCEQCsGOsYZzEAKFDk4GfDI2/95MmTl5dI9plvvT4AoWTIAwBZ92eZEMyUQH6CaEIIpXq8LlJgYFEgAoCBtR5xNIOQAiGM36ZFIh6K81AAx2f+FJ0hjz6SObn6ydrHj1vLvlHkqQIA8vqMUQiNWo34nEiB/qFABAD9Q/fY6wpAAbPZ491vav6yxDwUJKIy29Zbb60U4BkUEKIiIsyeSooUDwIocC0/PNPAAMCAHxz46mmPP/64FsaptSxvKCjIi0KIJoR6Vi/eGynQGApEANAYOsantBAFzLMfBz+YOZ70vi09jxzz5s3TynKUc8UcgDaA51GYh/r2PNNvfGZgwIABn7mggL+pPFgGQOzZzQIAWfN2TQiYP6AXVe0su6HlLHBTHofOo4W2XZxqpEDDKRABQMNJGh+4olLAD+mDScHAYdyhkjR16ClvC8O2vPzUnTdJ2VIBlzFAHA0BEwYI+E0dAUCAmQ/4jac/jNVvfQkA3L4pI818+SkyIfh+BfXWQlhR92ScV6RAPRSIAKAe6sV7W4YCeZ79qO5hshMnTiylBVI712Pr32yzzfQel9GbSYEHlQGAPEkbEOCCAkBCR0eHAg4XGJCLoBkmgDIiuAAgbw4uMIgmhDKKxu8jBWqnQAQAtdMu3tkCFCgK6WP6xNN3dXUla621Vi41eAYM98knn0wmTJigNv83v/nNr7o+DwCYx32t5ManABOCCwwAIwCAcePGLQcH+BXUAjyqjAuTCX1iAghtfhSC3ZdnQsjSeIT2Fa+LFGglCkQA0EqrHecaTIFQz3686ZGwJ02alMnQZ8yYoSABhmfpf++8885KAOC8885Tp79DDjlE+0DKh8kBPGptjBtgAggwcAAoQJvhaguISGgkKKgFAORpCvjc1RbwvzljuiYES3ncyHnUSvd4X6TAQKJABAADaTXiWPqdAsb48ew3ybuIcZDVj++pS++2F154IUHdDZPeaKONlKnSYLL/+Mc/kh133DETMOADMGvWrOSWW25J3vKWtyh4uPLKK5Mddtgh2WefffSeW2+9VX8++tGPJuPHj9caA4wDR0QYeEjjekCFa7owvwJXW4DPAiDB9yuAqdbSGgUA8vr2AYGBBGgE7ceMGZMw9hiFUMvqxXtWNApEALCirWicT00UMMZPsR6c+kLz4T/xxBMKFNZdd13tF+aJnR+1+yabbKIe726j/O8dd9yR7LTTTpkAACaFqeCCCy5I3vrWt2peAIDEcccdt1wS5/kw0r333lu1DzNnzkzOPvts1Srssssu+twHHnhgOfjIIgjjRkom7LCoMTc0Di4o4G/udUEBAIexlLWHHnpIzSBjx44tu7Rh3zMHMjBihsH3wlo0ITSMxPFBg5QCEQAM0oWLw24MBVzPfpi2qedD1cUwFZg2jBRpHQCx4YYbqmSe9Qyk7L/97W/JzjvvvHwC3P/3v/9d74MxMiaeg9kAwEArqtwHQyYaAWke5ko77bTTVHL/2Mc+pv8zNjz/t91222TllVdOQgFAHpXRVLg+BYyBufnOhmhAXDr0BwBgDhRhmjp1arLFFlvolMyvIMvh0M9uGE0IjXnX4lMGHgUiABh4axJH1EcUgGG5xXpQEyOdu8y5bChI60jgSMlrr722+gIUOaHBcP7yl78ku+666/JH4ydw1llnJa973euSPffcc7npoazvou+feeYZ1UKYc+KNN96Y/POf/0w++clPqhocRnzNNdcke+yxh/ZLgx71ONABViw00cABQMHNbAitAEtVnADroYPdi0lm+vTpyeabb174uDwTAnQx0wHaDzdnQSPGF58RKdAfFIgAoD+oHvvsVwrkefbzObZ1U6MXDRJGgUSJOh4GR2rfEBU492HfByy4YXg45fGZW7KX/mFcMFXyDNTDnOkXKRjmj0SOpuPaa69N9tprr+VZCX/9618r+PjgBz+oU8f+z/+hfgVZ9GI+PMcAAWCHRr4CV1vA37X6FYRsJvwqAB+uCSDkPq7JylfA52ZCMIdDAwX1rFPomOJ1kQKNoEAEAI2gYnzGoKBAmWe/Mefddtstdz5cQxifJQDCXwBJm0x+oe2qq65K7r//fpXOjdnavUjMbtjf1Vdfrdcee+yxdXn9+2NDcwGjwmxgDItx0fbdd1/9jTbkz3/+c3LYYYfpdTBzMvkBRrD/19LIgoizIgDA9ysAAPgmhBBQFTIO1uzZZ59NNt1005DLS6+JJoRSEsULBgEFIgAYBIsUh1gfBap49sPw8gAAjmQwfiQ/S92LRIuUXsZYLJUvNno0ANj6MRcgkbvNBwBoBmBeb3zjGxtaFMgAQFH+AvrG2RBnRGz5jOMXv/hFst1222mEAg1nQwBEmWrd5vjggw+qCcCfN98zdzflMVoD8ytwgQGak1AfDesX5o9fRRWgVsuuyzIhkPKZxppnpT2upZ94T6RAIygQAUAjqBifMSApwGGMXR/bdEhIH5PIAgDY91H1w5wI6bPUvVyPWhn1cpFqmf5PPfVUNRUcccQRyV//+tdX+AAUAYBmERbnRZhoEQDw+0aVjwaARD5W++CMM85QAPDxj39cLwc0QCtAgh8BwfdFACBrrqyfXwdh4cKFr/ArQBsBbYtU7/hEYAJh/fq6EcnBPKC1aQ4YQzQh9PVKxP58CkQAEPfECkcB8+x/+umnlQmZbTlEanQBAA6CMDSYx3rrrfeq1L0Qju/4Me9yIyaSK5KfSbp33XWXqs1hQL4ToLsA2PstRr2ZCwMAoGUlMKrSL+AHgGThhGg3br/9dgUEOPrBrPEteMMb3qBaDAAAJoR6wgChrZ/yGHBCXgM/NNHWHqDGehBp0dctS9tSZEIwZ0P3d2hYal/PLfY3uCkQAcDgXr84eo8Crmc/oXUwHlTGoQ0AQBQAUhsHN4yNJD95DmqoxQEaW2655fIuONx/85vfqMR55JFHvkp1D5N0owC4EfU3YAOTAvebkxwSN8z60EMPrdnunjX3RgEA/9mMHdU9jBimBX0uueQSZf6EIGIyYF2Q1klkRIN5oyWxe0LXyr2Oft0yyuZ0SD+WhIlrMAHUW0q56viyki7lPSPP4dCiEHyHwxBQW3W88frWoUAEAK2z1iv0TLM8+8m499rXvlbVwyGNw/fmm29Wb37U/BtssEEps0ACprgP/cDEjbkQcofECZjwGY4LABg3QAOGjDSOdMw4kJxRfXMtToAABuL3YZL2U4/nfLMAQBFjg1kBAAA10MScDVmnm266KXn/+9+vkRDMH98DaJHlKxCylnaNlVJmjdCu0AAbbill6FmLX0HoOOqtvFglCqEoX0ToeON1rUOBCABaZ61XyJkWefbDhLHNmwRYRAAcxHDwg+lus802ymxDGg6AMHB+w6iR+Mty9MPUAQaYDmCGqMoNbFheAl+yY56WfAfp1pVwfVAQ4jmPhoNn1msCCKGRe82//vUv1agQPWGNpEQwfEAOmg/W4swzz9TwRBwQadzHeAFatUi95AAAVGHKwR7vl1I2vwLX2TCvlHLVOZOEiedakqaq92dd75oQAJFu8/MVxERGjaD4ivmMCABWzHVd4WdVFtIHAe6++261+brMxieMZdGD8aIeJkwNABCiJmYMRAag4jUmtf/++5dKrZgZYHQwavp0AUoeAMhbUPOcd0EB4zJGZjZxH5QAAGAcSNx92bIAgN8/zNgKKJmzIdEHSO4kMqIhVZPMaPvttw9KKoQGAFpZyma/T2iGKcINTbRSyr5fAWr4Kg2nSDQZOE82u/naAswiREAA9CwCwXxMMCvUAqaaPYf4/L6jQAQAfUfr2FMDKFDFs//ee+/VAz9LjczBmJW6Fwc27NVlUjz5+ZHkYfhIl/ga0IoOVIsmwM7P9auvvvqrKOIDAK7lh7oCob4MMEpjZKYp4LkuKOBzGIBfxKgBS1T4iBAAkPUA/Clg0JgFaLfddps6Ux5++OFKR5j7Oeeck7z+9a9XXwMaczZtCEmboEuV+fpaF4tG4Nk+KCjaL+wVTEr89HXDDAVAxUfFwIG7T31QEE0Ifb1C/dtfBAD9S//YeyAFzLOfQxzJNcQr2pLtuB7n3I/KGYkQZkBolhs+hoMaqXGR0IuapdIlkx6MnUyAeY0+kVhxFqQkMAcykmuWJOkDAEIGqR1A+GA9DMRVe8P8UbPTF9oRl5k1uvyvTxPWBDV8rYmE3OdZpULWj/lceumlaiKAtrSLLrpITTOYZQAASPRI4USG1CP5sp5+HQQrpezSkj1EP/1V/wAa+DUQjH7RhBB48Kzgl0UAsIIv8GCfnkkt2MuxycI0Q5g/88bhDBUyjBPQANOHEfMZmoEsWzl+AyS18dPf4s2OgyC5+vEPMK9zGKuZDXxa0yeMB4aP5EqfjB/pFft2lpnBBwA4GXKIA1RCzBKh6z4JtZwAACAASURBVM246Avp2TUfwFRhXH7530alt20kAMiaq+V74DvWi/ngbIjTI/uB/t/73vcqEONay0xYb20CK6XsAgOAIbREOwGdKRDVKL+C0HVm//DulCWqcoGBa0awz2MUQijFB9d1EQAMrvVqqdG6nv3krocxhzj0GZE43C1pD3ZYGDc+AUWqdPpB3e5LqIToXXjhhVqCFxOBNRgMjMXUzvY5dlecCrP6LDIzVPUBqHVD5KnEOfz9GHskZ8CH71dQS+5+GDDMt8o61jpH9z60PjBCfDYom4ymg79PP/10NcegyaFhomAN+KweLQHPMlqiAaA/gID5Ffgpj6v6FYTSpBEZEGMUQii1B991EQAMvjVb4UfMgcMhjHRN4yC+5557Sh36fMLcd999aguH4ZOAp8gZ0O7FcRCPfA5szAFITqZ65zD17fY4rOFrYGpnJEBsvswBIJHVJzn2sVVnAZH+BgB5UnVWjL2bu980BmURCKwJ9O1rAJAViw9DRiPEGplvwdlnn60A6KijjlJSABwY8w477FCzE5+v9YCWrrMhe4bmhyYCuuoFIfiP0Bc0b2TzTQiM0z5zoxDM4TBUa9fIMcZnlVMgAoByGsUr+ogCRZ79RQ59/vAsZS3qT4rYVMn/bv1waJ577rkq7SP15zUOc0AD1xHSZ+lmAQp5h3eRn4EPAIiRx9mQokHmEd+I5Sjzig/pw8ISXWbmRyAADFzTRX8BgNBYfJuL0dpyFHzkIx/RMD7s/0Qk4CeCJoHGHihi1uwpAGhRVUVz3HSdN9kLVkrZAFZVHw03/DFkTeu9xtcWYDoDBGBiiVEI9VK38fdHANB4msYnVqSAMX4kfrPh+swTKaqsjrxJdKh6UTOjbuXAtDS1ZcOCSSDxbbXVVpqqligB7PZFqm40AKj0uSbLqTCrT5gKXtlZCYpM82E2d8wIqKUpvlOvndodSyMAQNbc/AgEpFtLvAMTQ4uCGaZeR7yytfS/x4QDvWsBUTB4NBusCQDvsssuU82QAQAyHSJpozXgGgAoe4/14n8AIteHJqSysZtfgQuwzPHR99HI26P9Fe5pc4Du+EEAntwoBL7PqoUQoxCq7uz6ro8AoD76xbvroIB59sP08hi/PZ4c8jhRZYXOARxw8uIHZzli2zlIOHywrYbEunOwn3baaXr9xz72sVKPe8aLVz9SPwyOxD5l6m+bS1GCIp7FT6Oc7vKWp1kAIKs/NwIBVTx0Yo71SrdVtl4zkvFY/7feeqv6E1hmQyT+a665JjnooIMU7FAHgv0CQMzav1XmwXMAna7jptWP8H00oHNI1ccq/Ve9Ni8HQpEJ4ayzztKKnEWRNVXHEa/PpkAEAHFn9DkFskL6TCLIGwyOVEhUgABrxoQ53DlYkfpddTPSPNfkJX9BskKisgQtHNwcrjynKGkLIWfY+WFg2FaR8HbZZZdgOuY5GvKAvgIAfa0aNuLgy4FJBqkQ2hsj47d5zbupjhvlNQ9Qw9bv7p/gBat4IcCQ/UGkB0yZfAWEc7rmJLQ6zJdrGgH2sswxaBB4tmk+oCv5Cur1K6hCDjI88i6Faq94Xz/0oQ8lRx99dG5Z7ir9x2uLKRABQNwhfUoBDiWkJXOAC3UOQhXOAWbOWtj3+QxGkmdfRSOAdgGG7jcOzJ/+9KfKFJD47VAEaKD+z0rbiqSFRANIwMEPNTYHVlF1vyziFmUo9AEA3voconilhx6iIQvanwAA2mWpw90IBAMGZVX+QubKNX2Zjc8fE3kcWDsiQmz//upXv9L34JhjjtG9h6SOpgBnw1rMFFl0YC/xjtg7BuBl30N7V1vAO9QIEJI1hqrln3nGgQcemJx44omviLYJXed4XTUKRABQjV7x6hop4Ib0GcOsIokgwXFQcYhymMPYYSRFxWJgnkhZVgKWMcBYLM8/zngwcQCEjQXJje/dQ9gq9Zn9GnDgjj2rul8RmZCCASVZ9QZ8AMC11157bXLwwQdrAp1GtYEIALLmZvkWXJU3jAwTj2sH5++iUDoYIcCuXhV8LfTHR2S77bZ7BZNlX5KlzzQSrPN1112nzp44rmI2OeOMM9RXxLRLAM+qErw/b94B07yYb4H5FbihifUUmnJpVEvYJ/UfKCHdH6Wba1nfwXxPBACDefUGwdizPPsBANjMq0gdHGRkdYPxw7BRK5YBCJgcjAOVM+M4//zz1TmLWvV5TlOAC9TOHMIclmgRkM5c3wKf7FUBQF5EA4c+NnJAgGXooy8OfkuC1Kgl7y8AgPaDAk1lmRbL5ukWRjJGxj0+KDCTUH+m4yXxE5J92X5lb1vYHPv28ssvVxPTjjvuqOTgf/bipz/9ab0Oxg2IIEw1D/yEqODNr8B1NuRv3k+fnqF+LrZ+taw3YIl6GX1RO6Fsn63o30cAsKKvcD/Nr8izH6epvFS4/nBhhjBFGDHSOh76ocABz2wiAkgPS0MS49BEoso7yNA0IGXxAxhwK/XlkbIqACAUDsdE5kPzfRkYm1Wr83P4N8qOi50aWmSZR5q5ZWphCKHj8VP0wkQBVUizgCgYJSr4qlJ0aP951wEALGKgnmeRPwL/k3322Ucfgx/BVVddpSpztGE09hYaKjNh1aKCtzFaoSkXGBg9XW1BUSllHF55Z0OzWPIubLHFFvruhda+qIemrX5vBACtvgMaPH9eYA4JDuM8z/6QgjtuGl3U8TBFnlsloQkSE6rVb37zm8Ee+mQPJHaZA86v1NcoAODWKCD6AOkUpkR/HJRuFACqYkAM9ICJmR0XjQBgAE0BY61az76/AAB2bjI61qsBCN22FoEAQ2EPwdTMDu6WUba8/aHPrXJdowCA3yf7gr0Dg2UfAOh+/OMfq9ngHe94h17OO8B3eNU3Itsg9LSiSJb22Eop+zUlAOqAFqprhmaNtARaRKmUaUyqrEG8NpsCEQDEndEQClTx7C+Kg+c52Nr91L0cCEjFqP+LmoEOrrn++usTPO6Jz86yt7vPgdEi/eNciOoRJhXaqmoAkNyQRgEaHKYwfnPw830AACRXXnll8q53vWt5QiOLD0f9y/38NqZmpgMO4yJQ0J8AAAmvr6U7JGHMOmhdXDu4+Rb4EQjQD2e5UG1T0V5pFgDw+2TvoCmDtuZsePzxxyvz/dKXvqQMlbwAAHA0EpYfw31nQve8ex309NNHm/Mm7yxaJvZliBmLZ5EzIQKAWlai+j0RAFSnWbzDowAvrWWw46syz/68MDikYWz9HFgwRTcfPwyL74uKmiANYV449NBD9RCEwXLgkXY3r/mV+qzaYBWHOwAAZoUQiQUJCgCE1ISTE4ewe58PAGbOnKnV5GCaRQ5sbjEaY2rmO5Al6TYrRWzZy4EGoD8AAPUaJk2alAsEyyIQjIYwsVBpFlrwXGO4ZbRpxvc4ugIGmDsN8EmOgkMOOUQ/Y9/87Gc/UxPCHnvsodfAvNFIVZmnP3Zz3sQEgP+MaQsAVH4dBNc8QN+YB0nKFdqIpPjDH/6g/hGsM/uLBqA/7LDD9BzAWZjIC/xPyr4L7XdFuC4CgBVhFftpDq5nfwjjt2H6XvC89Ej8/HalYXdaqDvRDBRJ5hxuN9xwgyZg4XAjzIqDJAsAcEARJcD3bqU+AAOZ36qYGnBq3GmnnQqlRdfOz8EKwMgK9wIgAKYaIXnmSbom2QI8rO5BCHhpxDYD/OGTAYPpy8beIBFPSD0IG5cfgQATs6Q7bq6CoggE1gAmjBNgf7QsGzx7jPW2rIVXXHGFvi845tJ+//vf6/v42c9+Vs0mvJf4HhCxUMUJMAv8sLf9OgiWKRJNCeOijDNnROieJMcC7xPOkvhEGAAgeyZRFeQVIHvjKaecoiYJWtF3/bFO/dVnBAD9RflB3K85+CFFwmRhIqEvK9M2GziSANn6YOyoCWHEec8BxeO5bg59PIf7YL5UcuNZdmCbepkDG42Cn1GMZ1leAUwKrjoaUMCBV2ZqcJevzKkRzQXe2PQDwCFBkZ/UyJ7XSACQtcWgEfNjnpgOzJvcSgAbY2uU+tsfQ38BgEaWIXYjEEyyZZ5ZEQgwN7QeeLb3RwN8kGyoijTPGgG4zdnQzFD777//cgBOJAsaqaI028wdp0+/UqZPB/PTwF/hpptu0nLZvCucCYD3k08+Och/AYBnAIDx8w7zruP7wL4HcEMP9nbedzyjlVoEAK202nXO1ffs5+XiRTPEHfp41HQ07O1IHpa6t+h+QgBR8eHwZA0mTh52UrBmSflIaxxeOCHRDBAglcGIs/wCABkwRvOqDpkTiV445HzpCLsokhTjcDUbgAFs0VnJhnwAgC0UgMEcqpglysbtmgCy1N+MmUPYNR80IisfzIVCOqFe4WXzCP2+2UWILALBAIFFIMBs+NtKTPdHBEJICGIRHXnP2cdo33hn0JAhTaNOf+c735l7K9fxrldJ6Yvkf9JJJyV//OMftRYH5q8DDjggaJldAADwwBTI/dZ4hwAT7OO870wLEtThCnBRBAArwCI2ewp5nv2oBVGZc6CHNFOD81LCAPFWDmUEaBpg+BwqAA7LwocWIC9eGAaM5Ac44DBhvGU5BGCMgI0iXwN/rn5Ug8Xzw7yRYnA+czUbWcmG7Jk+AEBD8rvf/U61HFWBVtGa4FsA0MlLtmKx4W6qXkAB6+WCAjQvVcwVVcPCQvZVyDUhFflCnlPlGtaSPYctmiRE0BLtAQzIz8RXRYNWZQyAU8sjUOW+omuZF3sbAA8gv+CCC9Rs9eEPf/gVt1nmzCIfHL8fNHokAbr44osrD9cHAKj/EQCsoQkBuED/vO8iAKhM9njDikqBLM9+96CCKcNYyXFe1ix1LxIRKjkORPNULruX77Eb3nzzzcrQkbbf9ra3ld6GqhuHOxgUWga0DWXMKsTXwO8YuyKHHNIdzorQBHspzD8r9MpPa+w+r9kmAOurDABkETfLJs66oPnwQUGeyrm/AACSZV4K4tKNVMcF7EEAH6mcaa6zptnCB2MEgpkF9txzT3XyAwAAdN0GwMTc5ZrtykiJ5M97TkGgqs03AQBuOXeyTAB530UTQFWqx+tXOApw0PNT5tnPAYY0byr2LEKY2h3Ghhocb1wYJMySg6Os4aQHcwG1o05E8oexFtk0TdNQS6U+NApoAdBOhDZABgCDhEVm5y8q/WppjbPspwMZAOSBgiybuKXqdYEBn0ErmGEVZ7LQdSi6rpkJiIr6DZGCzS/DAAHvjFsDYSBFIFjIIJo4wmzRLlhCK58OaNIwqVUJqb3wwgtV0/fDH/6w8rK7AICbd911V3UANCdA1P/4AJR9V7njQXxDNAEM4sVrxtCrePYTZoZqlbAdv/EdjA4tAWjbTd0Lo0STUIa2Qe+EKKG2xwEJKa7Mm5pDB4kLRoxzIuOrotajTxzkQs0aSG9oAFCNYxNFs1HWigCQDwBgBKhbyRuQd9CW9Zf1PZoOnBOrODtW6cdAgeUqgKmhfYFxAJawJZfl76/SX9m1/RV+yLwBsaH7yeZhJhgXFPA30qyvbclL8MNeQuOS9X6W0SvrfaZWAX4rvlMfggJj8M0YgGlMIAD/0Pbzn/9ctX0k7wptn/rUpzRXBsCd9wTzCu8YQALmzztN9Md55523HIwUfRfa74pwXQQAK8IqNmAO5uCHMxOtLJafa3jxkehcG6Ol7gX5U4YXKddXuxdV6ePlt7St9IHkhsSPBsDvy502jJKXut5KfQAI1JZldkt3nsyPAz40xAy7PhKwxWa78/ABAI6P2FgpkIINs1Gt2QAga5yAApwA8cZGMmat2Wc+Q2uGdqC/og8AwOz3KhqlojXO0rZAQ9engL8BpFyL82ORhi50P/Guo5Zn7QDjxuw5N6jcB5AkWZXbask1gY0ecEgIYmzNp0AEAM2n8YDuwRg/Ujkq+RDGbxNCW4CHOklw3NS9blx91uTzQu2QDk899VRF8SB3V6KAMRIe5EvzHEwwVBgaEj8HVD2V+jiweZ7ZbP3xu/H8SEN45uOXgJYjFAAgEaIORxL2G3Tk4DbQBJNkbaBpI8sB9wcAYK6oYPEKN6mV9XMdDZkvNHZBAX/XCwqQhAF19T6n6stcixq8ah9ubL1FIfC+YIayCBRAQdUIBJ6F9skiYngWz3TfL/YroXe8Cz7Q4F72MoJAaEPyp7/DDz889JZ4XR0UiACgDuIN5lt9z368b8kXXrVRtQvVN+p+7Psw4bI0rzjKwWh50RkHB40xT5g8AMAt0cuYuM7KCPN/syr15eUOoE8/nt/s/HnV/fJoWWQC8QFA1fUIvR71LMypWSaAvHH4ACDrOjekzsABdPFBQWgECX2gPcJZtRH58ENpzHWonwFbVaJKqjw/71oAAGuMNguJ2q8hYTkLimog4I2PJu/II48MBrfueNB8ABZCfH3svmOPPVYzEr7nPe9pBBniM0ooEAFAi22RPM/+KulsjWQwRA5WY9hu6t4ispqnPcCB9JxICSD+Mg99wAaOPdxPXDL2dgBHUVa5qnn6sxwb3Xh+QItv5/er+5VtKQ5l1iFLMrKCP1XD68r69L+vxT5btY+s62tJTMNzAAWuPdyt9OcCg7y9UGu/9c6ZGHpAQBU7eL192v2+/0FeBAJA1gAB9API8y6G1t/IGy+aLrcuQci8jjjiCE3fS9hrbM2nQAQAzafxgOjBZ/wMylX3l2Wzcydhns0wRn5Iq1kljpkQNH4IDyKNJwCgqESv9U2WMBhjVq2APCJXBTb4EpA2lsxtrp0/K57f+sQEgK9DqIo+ywfCNBqAAw5N6MphzBgIi8LPgp8ykBS62foLAFStDlc0H6tM55oQ8son0y9r2ij6hdK5v0wtjA+AjrmtKH+ERSBAQ/YxqbR5FzGluZkN82ogoMlDawfA8UtLoxVEs0dIbGijRsFXvvKVUmff0OfF64opEAFAC+yQEM9+i2UvUt/DqC11r9nbAQ545oeqVm+88UZ1TOKQCXVqQypG4sd0gG2+qCiOv5wADCqfhaZCpS+iDbDPM1ez8xfNj/BEDkw0ISHNrzeAlEjkgoU4GjhjLIAFCp0wHuKss7LzVQFfNr4VAQBk0drSyrqgwEoA43Rp2oKq5ZND1jXrmloc4Wrty78PD3z6twI4Zc/lWpJOkQKYd8yPQMB/wnc25J7zzz8/2X333V8VHcCe5p0IfS8YH2WMTzvttIYmvSqbdyt/HwHACrz6IYzfpo+TFPG6IH2/cajijQ7j4hDlxxgq6B+nriI1vMUO81yy5sEwsYmWhee5EjjOdqgUkYJDmTn95aXpzVt2GCM2fcIWsY8XxfPbMyg1y/V5GQn9vpDKkPBx7OOQZJ7QA2mpyAcgK2UvGgsXFPAM31Era66ADn6qpDxuxKvC+ve1JA5N2adIqAYMcDg11beBgiJ7eK1zx4YOkGtkGufQsZSBPOjCe8/7bEm5+CxPSwLNfFDAWHj32XeYxlyHTbcEc+iYMfEBQrIiZEKfEa8Lp0AEAOG0GjRX1hLS51foY7I8hwMMSRjmxiHmO15hW0WVn8coyXvP4UvqTe61CnVFCYToF/sj/boRBVWZuQEOnL/Kqs+ZnZ8DDjUyB1FoYy55xX2ynoFUz/zoh+gBtAwmxVd1AvRBAXH3gAIr7sPBbLXtXU1BKwEA1oA9iCbIWlGlRNenIARMFe0TwB4AryznReheq3JdWbZHfBMI7UOb54fwhfaTF4GApgBTIaYxzg7e/RBNFe8qoAQ/hNiaT4EIAJpP4z7rwS/WUyWkzyr0mYObFQCxyll5DJ4EK9j/8hwAiePHDv/e9753eeWwogRCbqU+mCOMzBrSIyaAsigDl+AAFGL03ee43/t2flT5AA1MFKGtqLiP+wwDVOQrgJ5ZVdp8AAAwQSMBEAplIi4oABBYZjloYIDAPO372jsdRkximr62xfsAIGttXXu4aQpcMOVm5AthZvSB1ozn9odEm6V9QJvHnrCkUkSkwKRrDY+EyUMrzg0TDsw3A2AMEOB9txoIbhllX+MCndBIAZBDTYr+OuL34IJ31g/NIb4YBx54oD7bIo5wNmz1fAMRAISe8gP4OnPws8Q8oOiqLzS5vbH78VLCoHiJeRmzKua5pPBD4FA7Ynd/+9vfrkzOGJrLtLMSCCF50y+MKa9fIg5IqBKilrcxIk1gA+UgymLGvp3fDzcMWfai3P52v4UQQl8OXw6mLOYLvaCPMRjsuGeeeaaqzXG2rLUZKDBAwHMBFwYI3DLAocytlrHAiOutTldrv64GIPQZPt0MTLGfXdrllU/GdAbYqRIKFzq2sut87QN7C3s9DPmjH/1o5TMiqz8APhkC3/e+970KoLrJl9wIBMtVwP4zMwxgBfPjBz7wAXVcbNQeJP0v4cPUGAAYfP7zn9fqobGlFIgAYBDvhKyQPiReEp5UkZIhAfY60DzMB9s3YCDkJcRjHuc084AHSFxxxRWaLSyvCIibQAi7YmilPg4UK6saumxZGgpLFwwzzrLzE25YJScCDoocZFm5/c2BkUMPho+khGoW9WuWc5avAQAQAao4HEMTDYXQhv4ZB86FrsOcX5iGPhtpGx9sACBPUwCdXLoB6DAz+eWTAQBIxn6hnJA1qveaLPABiOYdRwtTxZcmbyw45qJFsFLB7nVloZeuxuWiiy7SdL5oDdDYcYah7QNYZPklhdKGcR1//PFatjgCgFdTLQKA0J00wK4zSZHfiuQk4QY/MEkYjS/x5g0fBoOKDNUYTB8Ju4p6Fo9+1JyozGEWvNSo24pCf7gGswDMh3tDK/Vl+SmULYuroeDQRlo36Tsvt35VAJCV2591IaSP+RHvb1kWGW9RxcGqPgBl88/7Pi9Bja8GR2MAiHHNBzC5WkFBiCq+1jkV3dfsfqEbdPLLJ/M54JD3wYpaNYLxhtAIxgx4RMuFjb9K4qSQ55ddUxXsAcyp8nnttddqJA4/xx13XM0AgMimAw44QDUKmBQAAIBe/gZ8n3DCCf3inFlGt778PgKAvqR2A/oq8+wPzUrHc2BOMCnsyzB9DqZQO7NNhYpgxOeTq54MXmWNA5HQITQH2EXxzA49mKom3GEs3IP0hQoeNSMOT8y3SLtRFQC4uf2ZH4cuQAOtCP358+N7DqKs+GwfAPA8Sw1c1axTtBZVMtQZKDDzAUyuVlDQjPr0IXsO/5FaTABlzy76HroR5QHD4d0y1XeV8sn19A8w5Yd3jcx6Vd/tevrm3qqgCyGEFOAIMY1oJBcD5H//+9/Xx3HeAcRZl9NPP10LjaFxaOUWAcAgW31U5jCJPAc/XnYYXF7sLZsf5kOSDl4OS93Lywej4f+yhsYAL13U2ai/QdhoAMokG7dSH39XtWlXjbdnrvgAIPEDAohiCHEuqgoALLUvNOfAN2emPMdIHB1RnWYViPF9ADDL/OQnP1F1aCOzo1WNEff3BHM0BzCTegEFbmgdGiE/3r4/AAA0RRrsawAAzXg/eM/c3BW8w379A798Mhq8kL2a9a7yfrLfMQHgw2PZ/cre61q+Zz3pDydfN9KG/VEVdGE+JAkQia/qbexNHHp5//NCXdmbROOEJvByx8SZwhoC5jBRlEUZ1TufZt0fAUCzKNuk52K/M7V/VhcgWhgzoWV+g+kimbJp8dx3zQRIx2zospSlqK8p2YkKDbUiLz/agyLpgpeFgxAVPM9nfDjm7LTTTpXMDeaoGBJvb2ADUAPjr+KEhXmCHAWhphA0ADB1+sKnwC19nLVGSN8cPFk+Er4GgGeSnQ1tSaMqyjGmegFA1rz80Do0Bm68PYCA/UcuhxD/kka9Qji0YvsuKyXdqP7c54Qmw/Gr/Fn5ZL/+QRkoQKN34YUXam4O9jx7sRYGF0oLEnsRBUO9AHdsmBbxv8F5NbQB0pDKf//734feknsdKcYJcQSg0BgP752ZJi+//PLkc5/7nIKkKo19RMQUWkw0eTTOPrSfVc2nVfpt1rURADSLsk16LhuZAy2vZTmkWepeJDQYVNaBUGSXtkIiFiIIquY5aAF4gRiTnwaU8RVV6quSetjmykFDnyD7vGZ2fn6D/HlRkcCyAFHeM0KzByLloP2A5jA3pPQyLYgxXzQuW2211auG0Fc+AM0AAGWgAEAA0MQkgqbA9aJvZma+WphRo15fADl7z68fEfJ8v1IioMAv/WuJdzgT2HvsSfYve4u9iTYwz9clZAy1XgPwQxsZmu2TfgC6JAGiCFG9DeHiIx/5SPLhD39YH8UZiJaScQHs0db98Ic/VIfD0IajIoCHdUCowHcJ4Mb7jxkU36uTTjqpzwtshY4/67oIAOqhXj/cWwYA3FKzbE5sgEinfsIZf+h5UimM9Kc//akyXUJ0fMktq7Sv61+AZzwI2WeMqAdDEvS44+RFQ92W5VHtxvO7dv6QED2fFiEJh9AwAEgYD4cwcw4xn9AX9yKp4enst74CAH1Rpjbr9YC2SOJohVyfAg5mo2Wj0/XCSHEo23bbbfv8jSW6hnegUYlt/MQ7rCM0hWak8DXaAbJgwLx7jYweCSUg64v2I6+sdtZziB5CuMA+PxDbxRdfrJrPPE3c1VdfrT4FJD2rUv+gP+caAUB/Ur+GvkH6MLu8hmRpKBfmjOoYpFqmzqaoB6psXlhT5ZqJAHU9UoxfopcxIGFzCIF+zQEORs2BB+jIs43VEtMPmOFgc5OqWHIdvnOzBhp98HXAYz0rRC+PhkXgBC0KoAKJgjkjXWWBoKKldWldBgBYbw4WQA+AqVGtPwEAJoCsebs+BYADN3mMaQuq1rSnH56DM6hfr75RtCx6TrOZMPsfyZR9gtRrtmn+5wdGhPYB+oU621ahC+86QgHvutv8SoQhzzzvvPP0XTrxxBNDLh+Q17AefWneqpcIEQDUS8E+vr8IALD5sJPDlGF4qOVDPcdR8yPRwmTOPfdcZeYkCynbzObRDlMG8QM0ijIDGrnKMghmkdWc7czfwKRw1Mn0mZXtz/XQD10qbJGoUN3nhHqQswAAIABJREFUQXekdg4ovzJgqP+E9Q9zA5hkMXTAFwDONCaAPbyYiRjYb7/9QqdQet1AAwBZA/aTx7igwDUflIGCWtTRpQQMvAB7MfslNCw35LEASN4102igFfDfc/Yr7xjOh1Zimr3EOPgx+oWm6M0b1y9+8Qv9ijK+bqtlf6FppOEIOBCb1UnAfIbWBZBj4bHQn9wKzQBZzaRFBADNpG4Tnm1e4v6jYcSgcRxxsKdWsW3xLDYz6ko2MV64AABsZmVOR4ANJGIr0RtaqS80XNGdp/kbIOnTp9n5i2ycgAYasfihzdVOWNQEtMWhKgtUuVqQkD6gNePHUcttSMCAMBidGypm9vJQMBcyhloO6JDnll1TbxSAgQLXfICE71apM2nXwCsMkL3t07tsrI34nn2O5qyeZDb+OKgOyXywbxf5w6BOB8i6KXrZYy7t8sonlwF/GxMaR9bEdwKupdbE9773PdV0HXXUUY0gfdOe8elPf1pt/uw5A+ycv6xJLb4eTRtowIMjAAgg0kC6xAcAvMwwExgVUjAoHym1CgC49NJLVaIgTCo0NI9+LNENB0zV/O5+7YEQGgMACJ9DoguJ5+eZRU6KeX1aMiVoCkNGq4FDYZ4UV5TZL6sP07aYgxS0RFPBc1ClAmgsV78d1twDGMPGC4PjB6ZSZtrJm2NIrfiQNal6Tb0AIKs/3gm3Sh0AywUFaAjQ0lRxSKs6r7zrSZWL3TivFkVoP8yJ/Qdj5m/2SpnPCZn4AD1FID6PdvX6Y5QVIsqaN5I/ZppDDz00lCz9ch2gi3NoRWgRAAyyVTQAgPSLGhkG4abuRT2IPbyKvfgHP/hBwmFx8MEHJwcddJCqDDEl4OnqS9cwRULYcDbELwCpGOm4qn0VtIx9MkRjYH1ahEPZoeYuqZXe9W2URcsOAEDatrDIsrBDIij4yUrsk9UPUhj0hSGhPWAdOVSgNwwd5uVKYNAbrQ4MgDG5oMBNP2ugIER6W5EAQBkoQNuBkyuM0DQFrk9BM48ANx9+rf3wPuMdj5NfVvrovOfWWnjJN72w56qWT66lDPLRRx+tKXv5Gcjt2GOP1bBHzj9L8oQGtFYw3p9zjQCgP6lfQ9+o7JBKYRwwDFRm7sYz5lKFIcMkyZIFqEADgDRKLPGee+65nLGjFrfaA0gHgA6kGu7BwQoNQJUWWkHPtfMTvshhVOUQrGKf5+CDFmhD8KFA6g95qYsS+2TRBEctaMahAdCgHytwZJn/XCaOUxSmB8CZ2/z0s1YK2C1Uk5fLH6DImoeCliprW3Rt1exwjejXwmDJu2COhgaieJ/8WPtGJnXhvcGxth7zDWO+7LLLtD5FlaqCjaS1n+PBshoCTPCKtwgEK5+MaYBWZbxkAfzUpz4VrIVsxN6o5RkUFvr617+uyY9ItMQ5CLB897vfXcvj+vWeCAD6lfzVO+fAQiLgxcpS7YHUUTuGJj1BVUfcMIcULy2HDBoA/kbyxZufw/JrX/ua5g/A/sVnBkK4jwx9WZ7dRbMrCunjPjd5EAwSTURRCt28vkLt80iIMH4YJhI4PgNZ9jw0f//+d5sAg0QOvl7RYCQqXYaaXVg/+kGFSBigrwHJAgBWHx3QVda4H1BmDI7fVnXNTAcwPPYJAKCRyYXKxsb3jWRKIf1xDeYBQG2WWQxnOd8ubs5yBgzq8aAPUcP782BM3AdzMYBWi3d5M8wt7ljZQ5gPLeW1W3baaiBwTuVVSvTnTWIx/AD6w1cjdC/xPuGMy55gfTgr2T8IRdBisLUIAAbZihmDyBs2hweHLJnsQho2chJvIO3DdN3sfG4eAcAAG96cjojZJeaV8ppIORxUOA/y8oY43GWF9DFeK04E40bqdfP2V2G0NveiBEdcA3OEIfMio1lgjn6FQ3vWAw+0SU4EVPRt+tHIkb2STWypAIUX1NcgK7GP3WtmDBgRNATMZKWmzQIAIetYdI2fy99AAfdAXwMG9XqEh4yzPwAAjAln0LzqlFkM2PcpcEGB60FfNmdCSsmGF6JJsmexJ3/5y18q6M3KvVHWJ9+z5tC6KjAPeXbZXjPzJNeZ5iCrUqJPEwoBEQoYAnTzxoAzIhowq4ZKMSEkdcxshx12mOZEQYAhU2AVTaL1x/uLJo68EitCiwBgEK4iyDuv8eKTyja0nC3X01A5IzFgOkCzAENDC5CXRwCgQTgMGbXoD0YCAj7wwAOXv1jEJ2Pnz3Is9EP6XAaZFc/PGLFbc19WAp08euSp5xk/fgxZBYKy/BMouvh//0dBl0SlfpqY5gWk9CaHH/584bgYNxoTC1fk4MM23FcAIIs2RkvWx7QF5jhnDK4eyTdvPfoDADA/9nM92g72i4ECoxefuSF1aAz8MLDQingADLRxluQKgAgAKIvCyaMzY0NzVNU016jj0IphcT74pioAGVIztIJmmPkY75e+9CXNBlhPEh0AwFVXXfUq0xZnEAl6MDNgTjnllFO0PkTVhuMzzorf+MY3VEMIsGGN+B2SBbRqf82+PgKAZlO4Cc/noDbGnfX4qsVs7Bm8EBxAbHJU06GV+gAAlNo05zXsnai6qRmALd2cetAQwMAPOeQQReLmzW95+13fgqx5cfBiOqiiIgSkoOo29S90M8c7Dhrm6B+yaDZQa7oHkShHkqOPbpf59MqLnsj4u+X3EJnDUElc8kJmXL+lCcXeTtIgMylAG7QmWdJZlgbgggsu0Hvf/va3N2w3ZTFFXx3ONXzmqsIt9WytA+kPANAsfwcDBW5YnUsvaAXwC5HC8bnBLEQFu0Zk7uuL7Ie8t5gbiT7ya23g5FqUhph9bkWRrrvuOpX8Ad5ENvB+48SMpJ1X1KxIA+ADALSAaBU4c3jX6RstHGaW0AqJZoJBAwCI4N2mAipnHVoOzJSca4OtRQAw2FZMxlsGAKoUs+HAQtJHAkFK4vDZfPPNK8Ut0x85A7K8zy1HOWQmjzaSwSc/+UmVvGG0f/rTn9QbHuaGxIP6MC9kqhYHR1drwEHNgWzFkPJis7NqDqAo+fa3h4qUlggwIOHSPDlQhgpgWixajxdk3NNE64JNv0P9A6zUMgcMh6Or7oTWgC3MLX7LAgAkZgKQNDIRELQA6JWpxVk/q1xnjI4xWjiigYNQSbU/AEBf5jxw6WXher76m3eMPeja9WEsMCqS+1QxF+QdX32R+wAwj5aPKpV+yt+qGRAtjBmtBQ6yqNjJc1DFiRBa8L5hxoMpQ8sTTjhBzzdCC93Sv2g6Tz755GBTqdGZc+uSSy7RNbICYAgZvEfkL7BkQYOFrUQAMFhWyhlnGQAIyWVvj4NBfvWrX9UXDSkeNF81b3lo8RzrEwbIAcELiV0fDQHpijkECEnkJaZ+OQ3pjQMUm14tEQeWJwFQwVxB6mVSBSAF1a5fc2Dy5DYpzTtE1Jdt4lS2QFT6S5Pdd58t9FogNv2pwujXE3X6XBknmRhHiRRDFcKVZOyiMnAahwRrlOWn0QwfgDxtSggAyLrXz1HgV66DwUG/LJVofwCAvip8lEUr5gsjcs0H/I20Ty6MAw44QLVk9WpW/L5rycVf9ShkHwDK7f1076+aAIl3Ai0ZIa8hYax5YzWzJRoQHJdxUP7Od76j6n+0EtYQOjADhPpK2X3QlWZRO1VpNtCujwBgoK1IwHjKSgKj2kLlXZR8hGdgA0cdzkuMQwzMEqZXtXwohxwvVFkaTNfOD0qHQbh2WSt9C4O2NKeUBkU1iLMhqBvGiTrPYnCLyMWhgvMPmg3uAeSESFdF9QMEQ4jTYJvk558lY1gkGpNe0Z50q5TR29spas3FAmDWEAY4Ug+yRYt65HBvF3Vol0RVdIr2oFO+G6LlkAFcfusrAFDVMa5sW7Kf3MgDP3ERDA6NC3szy/eh7Pn1fA/IRLqGwfRlYy1xAsyaLxI/0jNaIPY762GaFTcssdbwwVpy8TeSNlXzHwDueectc2cjxgLI4r2H1uQBsVwQtZgATLJH+kdDiA+AaTcpEsT+x2GzlmiNRsy11mdEAFAr5frxvjIAUJRn32LdedFg9njsm6SWZfsOmSaHOiqwIlSMFIa3vdn5QdKg/TIVNJoCQAoewkgc2Eph6Pvvv//ye3kh8VlwJXvUc/SHJEpfoWGRzDekfsD55z8tDB7nyV4xZ8yQw+VZ6f81wuRXFSA0RMaaOlcuWpT6DKAF6Olp08+7urjnEVGdbq2gYNVV25dLPVkAgHVBxV6Pd7S/jn3BIMzG6yYuAuRhGzYTQmiIWMg+zLumlrS09fRn9/qOeABLfDkMYPvmLtOsmMmlHlCA5gxQWo/jYxkNGD+mBtbSNwFVDX8EoKEN4X2vtSHIcDaaBpNyvwgQaCgB29juzQkQ9T9jDG3G7NEm8I6SB8DC/6jVwR7/7ne/uxwUhD63v6+LAKC/V6CG/stKAmNDQ6XuZvFj01q9AF4QnG0sVMaGUEvpXO4F7aNa5yDwG8yX53JQWDw/19Ti0Q94IQ86BygHG/OAyWA24Nkk4qA/fA04nAANMJgqeREYmx+hkLVEl1wyU5g+yXSmCkMfKcx9vtB0Y9EwtCkwWLCgV30B+H/o0DY5INuEBoQ5JvI3molHZQ6biT+HXJT0ChhrVyCAD4FMS2zEfJ42yqOizaG+eaNaXwAAf6wcovg+AGQsoyHrxT50fQosmUyj5sq+B4Bi3urL5jriIX1SOAenUzNvhYylDBRYxIbPgPvC7IEjKznxCa/zzWWh0Q9GA0A3NnQ0fLU2NJrkEmCfcd6RKO0nP/mJmhQ5g2D+rAM0w+kQX6fQZgDg29/+tp45xx9//PJbv/CFL6gA8sUvfjECgFCCxutqp0AZAPDD2MwOTo9ZjPq3v/2tblzilVE5VnW8ySrs48bzAzbwunVte3kFccqo4kc4WGIkzA8WSoUUgQraXki8jHnpyVUQUqwD2zhggwMkq8G0TjvtAeljiaj0JwjN2kWif1wY2yZCx1TyX7iwVxjbEAUAOBACBubPBwwkoiGgxsAjqpJesODlnAKEGi5d2qNSzCqrdAjNOkWr0CEHzgwBMkQgrFlGnuDv+wMAQFOkLlcbw0ENWHNTHJtk7IYjAhJqtQ0jXQI4G6lBCSE0oBfwaSYAbP7sqSygHPI8u8YFBaZdgTZuSCKaFubcTNCDJg7Gjde+H7lQ1deDMwSHvWuuuaYKKfrsWlPtY7ojuonwyt13310BLY7MODbzf3QC7LMlad2OygCAebGjASDhjh0EqMizDlHiYtm4eMay0UMS+bjUdxPnhMTzcy/qM4CK2fpDV9MHAPSHZ64l2OGAxeubH+x+AJuzzjpLbcDve9/7VALjnquvvlrnmSUFoDqFCXOt2yx3ALbFhx+eIMx8lPyg4u8Rf4rJcrhvLBJ9jzD4oaoFgOnD1FH785k8UjUBXH///Q9L35vKZ0PlOz7v1XsXL+6VMXfL/0PVVMC9S5b0CHDpFFDQLiaDDgEdXXLgvtKxMJR+dl1Rdryqzwq9PgsAZN3L+gCyXJ8CpC4rUOPm8Q8BBbUUpgmdU951zAFgjeSJujjE96SePtmvrKnRjHceeqMtc30KQqM16hlLke9D3nNR0yOVY2MfqM21+eNACAAiwgcNZGjelYE2t2gCGGgrEjAeNiIgIK9x6FjOc5gckmPIAVRL4RzGgHctKjAOF9fOX+SEiHQE6q+aqMRyDtAvdk7s40iHSDpZPggcRuQf4HuyGaIp4L5TTz1VHRcJYaLdeuutenjyPwweKdQKCPEMmAg5CCx3wOWXE/q3VKT/HpXw//OfR0VzspECrBEjhijjTws3IdX3inTWrj4ANNbvwQcfFY0EtQYAC5gNCLdbLEBlpjC/2UrLESO65PsuAQLDJbRphF7b29sj97fLPNpEQ9AuGoKh6lgIOEDbENpgFoDDouyFoc8Kva6e5DRugZqqiYvwIWG+ZdXzQucReh2SoYW9NrK+QEj/7GG0KuZgaH4F7DW/9kGjQUEt60zsPqa7s88+O2R68ZoGUSACgAYRsi8fkwcATBqGCfOSkzGvihcxhwbMETNBlUaoDQcsDbV2SBhhUTKcor4BAGgNYF4wAsZaFrWQlRgJAGLpXenvN7/5jdqJjznmGNUooJ3gN+pqaMLB6ZYEvuKKZ4RRY+dfqlL75MmPiMZgY3UAJEFQd3evMPxUgu/qGiLrkGoA+BwNwMMPPypOjJsIQ29XCX/OHBIWzRCQsorMh3LAPaL6XyDam/niY3GH3LdQwgq3lecMkz5WEp+AYULnNJacfgAEaAUAA+PHjxBANlS1DXltsAGArHlYKVtXU5CVuAgnQDQKvkanyh4PuRatE3ZxEsTgWAvTRTPVlyDLxgmYZ3/7iW5479y8DuwDAwWmWcGUEAIKUPPTDwl7XAED8wN+SFUKkqEtAcz/6Ec/CiF1n19z2mmnqU8VKdP9MGLozF7k/MDEWBYN1eeDL+gwAoCBtBqBY8kCADi3IG2gJuUFhjGESjwWDoj6nMMytEKc1bEn6Q1heajTQ1SyTJMXBqmbBEKhjXtg5hxOVTQboZkRAQVoE5AYcUYiKQn2W7QUvPw44wGqGPMf//ismBnIyJgy9SlTsOlvtkyax97fo2aAFBAg4Q9Rx0C0AcOHt4mm5OFloZcLhfE/LZ+l2cm6ujrleUsUVHR14T/QKwfjgyr5r7/+ZqLZWSjfdSsgWLJkvjwXRj9MNARp/vPOzg75bCXpJ5GDaqmACfwUhuvPsGHty0ltFfKqpFUOXae869i3OIzia9Ks5mbncyv+AYQt+iDLa70R42E/8wNDRHsUmmypEX37z8CMxbvoZ+jL6stAgZvREIZugMA0Bn5eB6rioRX73Oc+94r3Hu0ZzLxKSXJqHwC0v/WtbzWDHHU/E/MEIZ2cA5yrOFkj6AB2ELjQXLDu+AL0tbannslFAFAP9frp3lS1LOKkNA5yGD8bEQmVTVlVksceTuYtvMwBAFlV09ypunZ+8/6FKYem1eRZPKNKzQJs+DZPGEheFr+sJQkFADYuXmgkG+YD0GBu2FQpgASN0QpcddVz8vM3YepzBRDsKln1Ug0AkvuwYZ3qBAgD5xCG6SONy1It0wb0iobhYWHaY0RqmC8e1BNEYl9JJfnu7qUi+S9RYDF8+JDlEj4gAgDBc9J0pjx7iTCZBaop6O1dKKCDv7vl8zEKBlZZZYj87lF/AoFcCgAAAuPG4XXfK/vkiUp1Ferd7gBGQlSbCQCyxoitFg0Ae8Z1mnOdDPMSF5XNGeBNTgvWhPmhNTIn2malIC4bE98TyYIk6nvnh9zLNZwnbjgifwMA3LTQeTSrxcGUkD2eDZgYaM0cAFlbgADnJdI+e4kxE22E5rDZGqZm0CUCgGZQtcnPNHso6kVCnPBuxjZt0nfVsrlsZvO85uAoQu4Wz8/LT78wGg5YDr+qL4Brz88jGSpKGLJlCsPfoCzJkf+solTF7rW80JYulHkVqW7/8IdZksznfmHu89QL+tFHH1ZJ/P77HxRAsJ1I3uOU6b7wwkvC9FcS5tMu16INwHdhlqiGp8qajRMpfYJqCYR/CGjAt4MogiXyP9f26P+pNiD1KwAA9PYOlc8IFQQwdMtvQAGHNmYDTBId0hcagtlimpmln6200jC5rksOLDQBQxVkzJ79jKRw3WSZyWCkjLmzkh9B1W3eXwAADRX7B6nNmpu4yBgdTNxncEW+M4BE8lJgksrSZPVlCmJ/LTCRAXisemfVtcq6PhQUQE9oE6pJpC8kf86TI444ohFDbfgzBpt3fygBIgAIpdQAug5GRThVXqU+Dp6y8rRZ0ynKte/G8/t2fl52vq8aZlUEADigLT+6C3BQy5O1EAAS2spSFXOwkaQFuiHhA6TKkhT98Y/PiRSwVJh3jzJmwvpGjlxFDr7/iXPhlmqrnzt3fnLttTfpOm277VYCshbrdYQNosDZYouNlCmnYYI9QsMlGjkA408lfELkqNHwhPoaEGaYagnQDLSJhoDrRNcvLb02NTt0dIxURj5kyGJ55hx1OhwyZIl8v1B+Uu96nkM/2DNHjBgmz1pNPhumeQiIMhg/npwExX4EofR3mS6apqqRH1X78a9HHU4rC2/NSlyEFO1qCtzERdAVNTgAMCtEs78yEDJXVPNoA3F8bVbj/aTRj5vsKd2PqfkBQBWiXSHTJxX7KN07kBtAAI0A2hB+8xPiYD1Q5xQBwEBdmYJxmQYgz9mElxGGFmqDYxMjncF0cd5x47TNzo8XfFY8P8PEZg7zrJpqlZhaUqG6L5BrXuBQRQ3v2h6Jq8a+WqViWl5tBPpCOkTr4YKpEAB13XWzxFwCw+4RyZ3EPo/IuDbRBD5I41Rsnjt3oQKx1Vcn7XGbAAY875+Qv1PnrE03JSHOIjEvzBVJbSzH5jIJf8myDIJtsiY9Yje/XfqYLwfkXqoNwJ8ATQARCKk/SGoawHxA/21twxWUAAAWLpyrGgYxgWsSIrQE4rUgvxfJ+GfIAT1aTBML5P+h8qzhclh3CZAZLVoCNAUdQueeZSmMAQadr6prUOX16YsKdVnjYQ3YYyH2cPd+9ocLCszJD00BYV9uNsMs35f+SkDEHAgFhvmXOchWWT//WnxiAEQU7XEbqnLmzjuKNsBNC20aFh8UfPzjH9eCPbVWvMR/5+CDD1YNHmPCJ+nMM8/U94wsgIBAOzNIXPTZz362nqmvMPdGADAIl9LSxeYNHWkcz/xQSQumSsgSLxDMHKbs2/ndlMF+v1VNDna/z5g5YDm4UF0StudnKuS+rKRDZUuI8w5gyHXOsb5cU4Y9B9st0o1f4czt56abnhd7L06AxO6TB+ARcYLcTC+BGaQRAsSzv6ShfWPGrCLMdZz8PUMZMzUD1l13HTFvPCU//xHP8e1VkoKhP/LIZPl7VZHOx+gzYNZI9j09Xfp8HP1SCb9HJPruZf4CL4+uu3uYMPs2uU7sBMl8BR9cP28evgVEDAAcumWtpwvwmLTMMXG0jKlN+loo1y0WiW6RfD5fwQzmg5Eju2QMhBsOF2e60cs0BUMr5SPoLwBAYieYdr2JlADe2IDRGL3jHe9YnqvAzGduNkNCYPFbAYxbOGnZPm3k92XleBvRF0IGe913NgYAwJDdRFoGpMzcYqAA3xryiOAbcuyxx6oWoJZGf4T7AiAYE177ZA29/vrrFQCgYdh3331refQr7jF/gLofNEAeEAHAAFmIqsPghcprHFB4W4cWXUFCsrAdHO1Is2sV8czOXzQ+/AKQpMucB/1nwJiNyVruArQIbgpj/x6yqXGQV5Fs3OJI0I2+OIDy+uLQRoWKajevAQCefHKhJvBBhf/YYw+Lin5TlbKRuF96aaFI2Gm9gAkTJoqKvUsORZgykjue/ZNF67COjANnq+flsJyoav1nn31ec5evv/4GQs+NVVWfag3ahPGurfb+IUNSJ0B8DBYuXKz9kUzIkgYtXUohIuoPAA7mKYPnfjQVaVQC5oDF4gQIAKBUcZuAI9I4k02RSAXqFuCwiLPpfGF0CwUczBNNxQL5brEAgpU1/XFXV4f8PVTGha05LXY0dmx+PoJawsOqvhdZ19fjEGdFsyyjHgwMCdPVSvmJi7gGhgTo4Dq0S0ifANDQKJl65121HG+9/bn3Z/lcZD2fdxGJnaJIN9xwgzo0I7nz3h199NGldUKKxgygQKDBF6KRAIA+AemM1dbXfjeShn31rAgA+orSDe6nCADUEmLH8NAcIJVzWFlEQciwQyTmrOfAmJF6MS8gLcDYyw5IP81xyPjwG4DZY5MF7KDNQB2c1xfgAE0EiYLyAcALIvUvFMkYRtyrjoqTJq2vjHPOnGeFWc4RxriGMItRau8nLbAo5ZUxyxEiyZMeE6e0tQQYjFwmoSPN4/S3VMDDc6r9GD16pEibSyU96vUaUfC2t+2pY54x4znxUXhOtCTryPNTxz00BSQmAowMHTpCgcLQod3CuOeqGQHHv9TXgKgEfAMWiYQ6XcawzjKHw5HCtHAeBCx0qLMiNQu4loJGMhyNcABILF7cJg6Ei5TJLVjwokYjjBw5XK4foaaDddcdp5EG48e3iaagd3ldg/4CAIS5Qk/CAKs2pEj2HHnkq9zPO4jmATBA34BK5o/GydUUNCtkDECPZF7FV6YqbfKur0XjApMmyoZwTTSSOBBWzUjqjofyvwgJ5BXg2ZwxMGr8h0g5nJfmu4gGMH5yHwBWMCmxdvwm0gLzxWBsEQAMxlWTMXOYIHnktSqhb66dn+eihqvi2BLCMN1xMm7Uo0gpRC/AnEMTFiExkGwDSSG0oWlgjhwIqGPLEnWEmFBuvvkFcfhbpJI3eQDQKowZM07s/M8I0xsj6vtxwjzTOH6WiVz+xOajIUgTAZE6eJIwBwoJ8RlSxRKV0NvaYLypYx8e/H//+23iYzFTqqUdpBL6v/89WUwUU0TdubMmBFq4cJGEcd4lNJkkIOQ1ctANlz6pQ7BYGPQcBR0jRqRSPQy+uxvmvVieOUNspOsqGdvaRsq1SO9I/iQYYuxL9br0/tThCY1ET89wdUTEBwGQkTomLhaAhaZgAU9TLUJX1whNgTxhwgjpZ5isG6DjsWTHHbcNXbqGXIc5B6k91COevWKJcACNSJGAwSrvBAP3k/FY4iK37oElo3IdDUPfhSLiwERhdkXZOOshLuCPnPhU8/TT4FalN+PAREcSpSLtX+h4v/e976lzJoWKWHc0EgB+9i9+Cz/72c+WR/uEPNPU/oD8Qw45RM8rtDqcE5gwACpEMQzGSIEIAEJ2wAC8phEAgI3NIYW/AL933HFHzQOA6cBP+lFEAmygSBwhaX05/HiRkGTpH4YckjnQ+q9SsZBx0RcmCjQaoTHRIWmKb731RTlYsM0vFWl4oTgB/lekreHC6NZUKRh1O8wWlb9VBCR0D7CANM0hudZaa6rUzGfk/ecAQcJeuhQnwB5lxtBoxoypKm2vs87GCgwIEVxuz9MpAAAgAElEQVS0aKFoCGDE3SLdPC8A4A7RCGwiUt966gR4++13aw6AzTffYJnaHzBB/0sVbPT2LpH7povWZR39rKtrtICLdpXWyU6YZizEOXSxOhhiDkjDDHvkmhEaitjRsVTG3K2agc7Odq12mIYkDte+5sxZoHkSlixZIM+bLUv4kuYp2HDDdQUUjJX5jFbHwjFjXk5Q1IxXDQaOJBwCGnkPKCG7zz771CWBMo+Q6AM3cZEBA9bcDUesJXERJkCYc7M0DDA/JHbeX9/XiHcUkE568JDGfGGqaOdCMhAWPZMyv2QVJK1w3rmCRoYon1AzogGAa6+9Vh0L2R8rSosAYJCuJAc/DCOvZXnYu9da5kAORl7Wc889VwEA0jE2uCoHB2AENTv35zXGi9MQ/WJP5XAAeMCUQ19Ens0zkGqKHLo4VFFDcpijBkXbgDdwqHSBeQUbYpEPxW23vSiS4Xyx2c+Q57+odv0NN9xADjAy8VEOGEad+gNYoxogqvoRI9oUMKyxBirpEfq1+D3qeqbpg5cogEirCQICkNDTCoOpbf9lCR2GShNBR1X9ZAZcsqRLVJX/EDotFVC2pT7z8cf/K+N9SiTZN8p6j1ANEiGLEyeuo5oBPP97enguWgKS2jB2nrdE+8ThcN48kgyhISDMEI0CoGDRMidETAyWeniYzJ8aBwAgIiUIaewWoDRT+pwma7+amjvQXLS3j5SxjxQwNEzWaISYJFbSsshV6hqUvcLsGZL1hITE4RxKWmgquyFB19NqUYXTX161P9d0wN9FIB3zGu9xvQy1lvmjpQNshVTe5PkwWAA6TLnMBFg0HpIJXXDBBcr87V2Hlpw5aBppl19+uSYbAmyENgMA0PTXv/518o1vfEM1C9AWrRAam3rGHTqOZlwXAUAzqNoHzywDANiqUFv66m6L54fJmZ3fMguykZEccALMKqyTN60inwM31A41HIzYVKm12POx53LwuUld3HFZxkAABomJmBOmBuy3fg7vIrCCOjIP0DCnq69+QvwlnpJnjhKGtbowtinCTCfJI9uFQb5c+Q+GmUrThOmlToBI1o8+OkUY4Xg1AaSJgLD/43QHqMNbH2dBQAHqdasmiD0dJguTT5kyaYP5jGu5Nw0T5HBCEidHeeoDMHXqE6J1eFLUtTspMHn22VniW/An2SPbCyDbQHMHvPTSEhlbl/x0KqOnbHFPz2L1YeBvzBFpgqJhmtQoDUFcpFoD5oDJg7GiIVi8mM9g/IsVYIjRShwenxOw9LRqKpYsIeUxgGeIhkvibIi/AiYHABLh62uvvYrsl/EC9kbps2ptOHTCEPIkUrREvCdmF3ZNALX2yX31+B74/Wal6+U98LMZ2ruF2YuMi1XNFvXM1+4F2KMiB3SFNPYRacQB7LUyUu7lfHHLLSPEEBlAkibOO2jBGQBQqOKwbKp9aIpzImACgGhCEkCrr7NbhtA15JoIAEKoNACvKQMAMDCXkbt2ftR2IPSslw3JFwm9Ss3yvLS+qN5xpuNZWdEEfMfBHKKatSVAqqI/30EIr1w3Y6Dr/ATQQPoLkQDpx5x9dt5551etPACKcd9/P57042X8w3Q8jz02WZ6PSh/PeLfyH0wZqR0G1q5SMTb+hx+eIvMeJ4fk6GUSMiGDaQrgIUNSSZuiQmQHfOyx/6pj4bbb7qBr1tPzciZAEvykEjr3pxohbO8cdkjdCxfOURAxfHjqBEhDrf/MM8+JluMfUrBlaxnHeLl+pACC21SqectbdtUxob7H9EA1Qpgyz0lNN/gdpH2mEn4a+ojWgz4wgQBSUlqScwAAgamA0MlpAsw2UQ1Beq04UYjPQDouahzQxzyZyyy5b4H0M1r+HiXMu10AQbcwlhFyyK+stQ9CGypptExZAJD1POOMM5RZffSjH62ZAWWNpRZbeOicuA4tjlsICV8cgAzvG0CYOg+E1DYDBPBuI+lzlph0bWMnVJfPQx0QcSKGobJOA7lxpl588cU6L7QK7B0iTPALII+BlQseyHPwxxYBwGBaLWesMHQ2XF6zhDkcBqBjpJGsxDp2P/UDOPxRwyFdh6rL7X7X6RDbOy8zv4uqAyKZcUCF2ubpC7sqB5/FHkMHK2bkp0S2sVUFGjB0TCh4D1uD1vQDnejniSeGSajgwuVOgJMnPy4AYIKm2kVaTaXh1KYP40wT9MC4saFjynhctBLjVfWeet73iop9kTjmPau5A4jjh6m2t3eKr8EUOehnJXvvvb9K/m1thAHC6HHMW7r8/tQ+j4aBRECYHgAAs7VvtBJoGHAixG4PY545c5oAqfX0s6FDR4qm5HEBCu0qoTP+Bx98QLQGk0VrsLOoc4lIADjMkr3xGtUUEAIJWLHoAnIfpH2RhyD1I6Av5jF8OBEJs2T9MMtsKnNMtQYdHZ2qIUhDGFMwMWwYmouFSrehQ1cTuoyU8ZCXYIb8PV9/Ojqek/08WvbqGNESrCp7aNVcdbefFIf1hXGahMohjnYglGGFHhmYHpDQfQYZen/V69zERTBn5gcwRlL1sxnWKmnbmJjbpZdeqvkQEDTchhCBF39WHo+sOeGkh9c+9w3U5jr4AYr5qeK7NFDnFQHAQF2ZknGVAQDi5TkAYOh5ErjbxYknnqiMnxcXiTzUgccFACQQ4jAlEQgMGrV70UGDhISKvixFqztO5sOhhoRB0iIOIry7Uf3l2USrOA5mARozK6BBwKwAULrnnpdEip+/TPJeqjbFiRPHCxNJw/qwcYPPcPiz8D9MADBwPOqnTCFD4Gry/SgNs1u06EWZz9MipY5V8IW9H+aJFExyHpz+5szBO53UtMM1fJCsfalnf9pPmv2P3zgH4pAnnSVzVJpPJfo0TBDnPZwAOXhxAgSAEK6IWp7rcPDDie/552eIqWC6qEu3kM+XCpB8Rjy1/ykH/uuFDhtqNMOTT06RMQ2TNVhtWeQBwAUNQVq7gCiBNHcBJoBZ0uc0ARibynfEyNNXhyYgIpQSMGFmA6IJGNewYePk2pWW+UIQSsecUGU8r9EM3d1zhZnPVhqNGzdcxoHZYKzs5dWETqNU+vVt0oT2oUk6/PDDm+Ylz6pXdYZr1FEEEEBdjQ8Lf8OsXE0BkismPtfREL+aKqAAlTqSO6DJNxciKZPfIzSagfU57rjjVF0/kBtOmviHECrN+csZSRbE0IyrA3FuEQAMxFUJGFMRAOAFx5bP4YcncIgtjpfWUmVWVctzyKABgAEDHoxJlk0DsECrEu+LBA5D5gCiPzQMZf4KIY6D/liZD97NSI9I/379gfvumyNOjPOWSe5LhXk/JXNfXW36aeW/1F6PtJ+G1OHEh3SeMusnnnhS1oX0v5Qfflq97F/zmglqf0eqh1kT+8/1KWPnmeQhX6IqfJLzsM7k9yeX/5gxlAJOfyR3n/ZpiYAMGPBMwvLa2ykY1K3alIkT19ZnDx8+SvpJEwFhYkhBRVqYyMIUn39+nkSJzJRxTlqmuVgqGSSvVka722476H0zZz6r4GfVVdeUZ3ZIX2gIYPAkPHpOIw822QQAkOYc4DfASIRUmWvaVxq+SKnjNpnb6nJdWt64p2e2HrxcO2TInGVLRqhimimRkEy0KGgIFi9GI7BEfQlGj54tgHGc2IjXUI0TWfIAAHvssUewlFq2l7O+74t0vFn9Iq3isOam9Havs8RFbjgi2jpo45YARoKvAgqsj6r+BzgQn3rqqcmVV15ZC5mbfo9J/4yRSAAiRBCUMAegFTzllFPUh2EwZgmMAKDp26c5HaQOWEhDLzfLWkbSC15mmHEV9TpPQi0PQw1Nm4pkwUHHb5wOq6jFYECMObSKINfi0IenNk48oVqKqpoGaIs0guo0z18CAHD33VT6S1X806b9T9Tkq6oDHIy/pyet0McBioSfSuaovNPPJ09+Qv+Hea25Jh7TJAxKQ+2Ir0/V35gSeoTpzpb/FwhTTSsHYl9HQscGj5MejniLF88XiQz1OJ71w3QNR45MQ/WGDOlU1f7L1QS7Nd0v4YVkI0zrF6R5ANIww9QLP3VMRAuBJE6GwLTmQCrhw9SXarZD5oQ/AwmC7rzzPgFoz0rSon00WmHevNk613XWWU3HQtTEBhtsIvdjkgAkpdnx0rngAwAjB+Sg5ufz1WWumADQXMxW/wm0EebcmGZATLMhMmY0J4yzo2OijK9T/l4se/oOATvTZM+sLwyuXQBMl8x7JVHNr6wMr1ZGV/Zm90U63qwx1JJyGSYHoHQ1BUWJiwDg3GPJcNxx4IAcmoWU+/Daxzsf6XogNrPt77fffskXv/jFVzgHk23wPe95T3LggQcqPZrhb9FMmkQA0EzqNvHZLgCweH7Xzm/pT6uo1xlumZe9TcmtoIfTIEwWbUOZNO6SxNT5ZVUE3boEhBbxolXx4oUWMBkiEMoadQ1wJkRtSoKTvDCqf/1rroQ+zhYmS9x8IqrwpzRFLhoAku6g9udzagXArNN8AITGUSQIpkhxkpVkTGsLoycOnkyAS3WcXV1WFph7ezVc8umnn5DEP/voeIjTt3LASM1pmCCq3rQaYHs7aYeRol+SRCVoS9AStMvYyNQ3TL5nfKQdniamk/WXkWSEZgIEqFBrgO/RRHAvbfhw5mPJgIZpIiAiA1Db08wJkOvRLqy++hoq+WPqIEfE1ltvrGWHp09/WtMkd3aO1VoIOAGStCilk9U1ANgSXohD4DgZF06N+Dy8pNel45qt3w8fDiBBc5AWScJpMg2VXEueAaDplXW6Uddn++3fJFqADdSXIa17METuR409U4Byl/yMVUDAT1myqLJ9xPc4n+KZHqKBC3le6DUwZ4ByUSbLkGcVJS7CvEEfOL/5wkJVAPC73/1ONRYk6BmIzRg72f622Wab5Mgjj9Rh8i7uvffeCgrwF4oagIG4eivomAwA4I0Kw/Lt/Hne8nnkoBgQz8LzHc1CnlTOy4Dkjs0bnwEABqgXkwNhhVWiB0KqCGJnxEaIjZLno6qsWuqY64vmBE2QfqAj0hPqfpwoCR/KU4E++OBc8QOYs9wJcMqU/4ntHu/00Sq5IrHiBIfEnEqvabW+J5+cLs8ki+NQUU+PletXUamXkD7S/hL7bwWGkJBhdvPmvagZ9saNm7hcQk8rB6JVSD3nARhoD9JwueHqRAhz7u5+SftGlf/SSwvkB/X4HJ0nkjRFh5DCR49eXfpKtRc4KzImQEUa5kf4IkWJ0jBFUg3DbMl9gAYCDQGmhRSUpE6IMFfGhSNidzfqZbzWZ8v8pwpYfEJ8HdYSE8sb5TkdYit/XLU6m222iRYdwmyQJg8iF8IE+U1YIzTC1p8CgJ4e5pVmI0y1FFyLOaFHQxXnzsUMQibCLvFduFedM9dYg2elpZjJZUDRpFTLME2dLLu7AUqj5Lt5Qo/FwthGCn1WXp66t2pMfX/l47e9XFTMqtZj0RIXMTfeS8A/WgC3yh/vURUNwPnnn69nykknnVTrsJp6nwEACgtRZAinR4QWtIQwffynqqSJbupgKz48agAqEmygXI4jHC8h0gx2cF/KwPMfZhlaiQwUThZAEC3PzpLK+Z6XGzU/z3WTBdVSpa+oiiDzwhwBAIDxW7Ig/iezWxXHG5zdkOizaMHLjYYAevE9DoUwfQry5GVE7JZ7Tv/7tOQvd85O1h7emWw2ZHgyQxwfV1tttK4Dqns84lG5p+FzidD2WbF/z9acARMmjBGTwVSVNEeOXGUZA01BANJrT88SWYNUkn05kyAgJTU3ENKHhgGtAdL2y/2kcX49PcNUHd/R0S1jmaefIUG/HCaIg+ISsYNPkYN7VQU/aW4BtATDZV1XEiaKk1inmgEYB6r3BQtSBzyYJyCBLIiYMNBApGGGaehfW1vX8kRAqQmCzyh7/KyYHWbKem6kqnr8FfABuOeeB8VsMFU0HGkK6hdfnCmA8p+6B9dd97VyzUg9aPEBSBk8wAofAMAK/hKplmLEiDRB0ksvzUtuueU/YlaZKBLbVqI9eUBDQNGAYHpgvCNHks1whNJOCloLwMLngLmRvW7IMj8Lkk7hIDlU12GVVZbK+o1aDgjckraAvNtuG5rccQdREIlojwAp92hyqEZHF5SdQYQDopGroiUre2bR927iIt5PzgkAe2jiIpgq7+FXv/rVeobRJ/ei3bjwwgvV0RmARVIhzK2DtUUAMEhXDiYNA82L5w+RrrOmnnWfKx3DjLNUmoCRqln90DhgBsB0YI2DAIaNBsPVMNj3VesOcB8vKw5PVtHNnmXqfuLDYf6uhHfZDZcl5806L1ll+CrJcTscl0wcPTEZLelyYf57iBPZvQ+JFP2wSMNiu15TPNkPFQl41VVGqXNcymxhcDCSeSLdTNdY+lVXfY38bpfDEZPBVDUXjBo1VhkSmfzShEwwcRhrGi5oToBpZEEq6TPOtM4AavPFKgljC0+TBsGwYWxI7TDsuao14DlpmCD2fjINdqtanCiAtJrgSgIahmr6XhL+AB6XLJmrjL+jY5iMMy0HPHr0MA0ZTBMBIX2jzofpIfGnUn9Hh9UKQC2POYP+iVl/Rmsl4APQ3Y2WARMCzwWgABTSpEezZk2Vss93SRz7a2V8m8u4hifXXXeLMPGhwtS2VCfGJUvwi2COzGuh9IlzY+pXgDaALI0TJpD8aWWZ571C+3GacbC7u2MZDUfItQAlQNbTOo9UU4JGBnBFmO3Tem1np6x79zily4gRz8v/L8racf08zUcAo7vjjteIRDhW+ksTIgHWdtvtAanfMLGSWawRxxFMGInaD89rxLPLnsG+QTPAO+06GfI3TrsGClLwS8TMUJWgAd5HHXVU2eODvsfp97DDDlMggrDyq1/9qq6sjggcRDVxJvE8188JwSI03DFo8H18UQQAfUzwRnWHRISUnNfY/HjMVz0E3PvcGHteAJOOs/rE4QmnvNBkOzyDQhpI3yQsoVniIA4HpL+sdMQhhXr88fmgxmoEQD/U/Vlmi5M/c3Jy19N3Jbdsd0vyhglvUOY/Z9Gc5L8dk5LpEw9NFv9PGPX9Ij6KarxdGNGBYsvefgwlXzEBoO7GeW+mMI15KoniG4EPQJqhjzDAqSpJE/Zn1fwwEcDAcSykKmDqOEjp4P/IWj4pGomd5Tkk2aEWAKrrNFVv+sxUwuf6zs40ERAmgEUy5jScLnVMTMP8iCLoFmD0pJYdBlwAGvABQCLu6CBELy1KBL3nzVsg91AWGPMB0RekoR2pXv6jRnXImMgciP09jVhA+kMbkKY2Tv0ZOjuxuz8voHWm+D1sJM9CEmdcw5aNif2cajO6utjXqWf/kCHjRAvUKX4E9wqtekTbtZGCijvvvE21CXvttbOO/+GHHxKGM1cYz9aqwUl9ANBI9Ii/xb2yL8cLs8YskKZqHjJkhMwLL3f8BSjbTMZCTB5jlIETQjlkyHP6rLRQUgrURo6cL9elWg8AGMCls3OpOLCtIc9fKHOndkK75i7AZ+GEEzoVMNfiTV/rWYE5BdCLZ3qz2h133KECCI5xbgOgwzC32mqrV3XN++aCArQU3/3ud/XcAJwfc8wxOubQ8MG8uVHMjLwCVHC87LLL1Euf8dbaSP1LsZ/PfOYzGn2Efwg/7F0AzNe+9rVcX6Fa++yr+yIA6CtKN7ifMgDAIQBiNeZa1j0HBowSWxbAgeQlIGn+J0yvzP6JaYCDLrTiGuPhMMCZiJAafsNgihIHcQ+I+5577skNccqaJ2GDHFY8G5qgYSjLU3DZBy5LbnvutuTKfa9Mdlprp2SO2M1vn3p7MnfNQ5Klax6U9E6Tnu4R0VqS8SA37igldPcdNVqY4Wh1UJs58zk1W/CDEyAMOj3YkIrJzT9NiweNG0f8vFXeS5k+KmRS/MKwU7+BJwRMTBezxzaaZAenOZ6Zhs6hak6jDHAiBAwggVsioEWLXtLvcOKDsSG1p34DS2S9/6dOgGkinxFC/3aV5gEAXAvzRLpO7+feVMOAqWDOHBL1zJf1oMDPEq1KiO8BOQrS8MYuvRYAkM6JCoSzhDHNlP2ECSBVqxP2SF8p88VkQV/4ABDjj7p/gmoAkPTxAWD8+AA8+uh9MoYXZR+8Qc0Zd999rzDduaKW3UbDIocOxV+CcMalog6/R3xVJgq9R8j/HcuiD1aScXcpWOvoQAOwSDUkbW2rKaDo6AAQPLcMvIyW8Y5RDUF7+zw1DzA2tA5phcc2qWk/TkwE3QreNtigS9aL2gcvSurYKQrU3RA7AG6VWhtl767/PSCeH7R1zWqEwGE2O/bYY1/RRRXtg/kTwUBhqJwHOE7y/yc+8Ymahs67jvDA/FOH2V49k3AyDHECzurUkpxRBwAhBQGCH84iAMGPf/zjmsY6EG6KAGAgrEINYygDAFZ1L9QTGIcW7FuEswAAYFyg8lCv/lpi7ZEWcLajkcgHb+IySQnntaI8/Vmk5DBA08DLyrxg/mVSxpcv/3Jy7uRzkyHilLf56psnw6XC3YPPPJi8MGqrZOnGn0+6p0tP/xJxVaT5DmHU+4l6fCuRiOfOJfNau6ifJ8pcUoaaZtqD8eO9jzScCAiZLgxpmIxnteUhfWhcUpt/r9rb06x/lk8ArQAhhWgI0qI9XEdeAJ4JGKAfAAC5BYitR1LGWS6tNQB4SjMBokLHzPDUU0/KobjeMme7UcLM0kRAFmZoTn4wSbQNL1c4TNPLoiGAGaaVCwkthIlyMKY5D0hJTCji6NEj1MQxb97zsreeEXPLxjIufAjS9MhpWmGYfZo5cciQRWrXBxR0deGTgdaDhEcvqmYFE8bQoSRhSksrT5nylMzlf2IeQJuT5p/v6ZkoYxkq1yxRJ8BJk6jSOGyZ5oG8B2gDhGhAst7pMoYFOp7OztV1DGggFi58RhnIiBFoBVZZpg2YK88Q9CVADt8AwBtai+uuGy39DJN1XyKMdyUZU5tolx4WqXEtlRIx2RFiZ2F2bhlgi70v25OhxwRMEEYc6v8T+lz/uqzUtzBIBIkqhZRIpoNnPemA7VyrFSBxnuCtjxnCGp77VAnMSu0dOndA3A033KA5ANxmpYZDnzPQrosAYKCtSIXxwNDyWpUSvTwDDQDZA3nxQONFlf2y+iR8EKYQirKRyMkfAEPnxQw9/IoKD2WNC5SOfwKACDBkyY7KyPzn2/6cTBsxLRk3elzy+IuPJ4/OejS5/JHLk3mSknb8DhclU2cIk71PGJ8w9kmSQGc/YVjtwgQJ+6IPwveQDnECTJkEzDKVGGGGHJLMecyYFADAwGHY8ERUy2nWv9TT3kARz0z9BVJnNxgkKnlzAsQpjs9wAgQAoMY2J0CABAl6UvU46YNJbTxFQNe6Sgo0FyQC4n4kZ8AHCYuoJ0BLne1Mmscpj2gFfBXQEPDM1AmQ+wEg+BUuXTpfnoPpAFDwoowJh8Qe6XMtNZWQnwBNwctJh9JMhajjFy6cr2AGALB0KfOBqb+ggIgwyd7eectAUI8k9nlItFWPiM19FwEA2PDx7KP+ezrXxx+/TzRZ9Jk6JwKycHTs7u5a5p8wTf5GtQuoWW3ZHAA2M+QzQNzKahpITRnzFEgCqDCToBUBgM2bhwPgGIlm6JL5DRPnw6UCNG9LdtrpTQoAspgnANgFBVzj2shdJ8Oy/ep+D4BHmxaaX6PKs8uuBXxg2isL7XWf8+53v1tNAaHCStEYAACo/zFJWuO5mAHqAQA8C0CFoGONeQIucFYejCGA+l7LwJeVCClb2vj9QKNAEQAIlZRhTITJ4TQE80b1z0tUJYwHuoSE2nGd61DICwVSrwI28goP+WvjzgsVIIdtlbCorKJId02/SxnoluO2Ss7598zk2pufT1YXJrjy07OSkRINgIf42LF4kcNs01LAqISNScBYkaZh9tOnz5Dr2jUqAAaOVgCJOnWMw/ZOxjuc0Xq1ct+LLz4v0uUk1RqgoofBp054i/U6nkuuf5gRYXqAAWzTljAH9XWaZAjfgCWqticKYO2111NVdmcnuf47lt2fpunFV4FEOqZhwByRhgkS5sdvvl+k/QMCGBPjx+ERMMD3aBpSR7vFIpVOFxXqc2IiWFXm0y006taUxiNHUmwIdTz2eSIRqFWArwHagPECBogWwIzygpoIsLt3dxPK2KMOlURNoA3AxwItBSCkvX0tdQrEmQ8fgDXWWFP6wXzSqc9I7fpdCiI6O6fKZ2k+he7uVRWQdHTgg/DcMl+IleXa0fr98OFz5XcKitLsjsyROUMPQFGXRDOMlX1AVMBtaqoq02rZ3nUr/gEM2LOosd08/iHFfVDNo2EIBeO1nGucFwAqv85BLeBjr732Ss4555xXOenWMi4ACOcKDsaNMAFwxl5yySXJTTfdpJFBX//61/W5zJu+zjzzzOTWW2+NAKCWxYr31EcB1FJ5+C2roI3fm3nBm1ocyZ+Dg1SeVdEyhw7MPQ/5u8V0zKGQMfLyEG9fpbmFh7Lu4+VHu0DSIA4DtCEg9yqhg/gZIEHlJXF57LEXpDb4I6qCxtt8wYI5Kr0TVpeGzaF2T1P5wiRS1Tuf8dMrgAsAMFQLAqUMAmYOY0PKJEwvzSoG3R56aLJIsY9IspHdZTyj5NrU4S41D6RSOf3Mn5/6AxBdkDqvpQlzUse8VBNBg2HCfKdNe0LWa0P9LPUBwEcByd/qm6P2R8PQq3H8/IbppbUG0DAwRqtGOETTH6f+AkQhpFEC+BqkanQY/izNEjhp0obqA4AJA6Dy/+zdCZhnZ1Un/qpeqqu6utPpzr4nhE3UAZ1xCM7f5SGgbCEgmyDyMKDiIOo4gww4I+IGMww4wiiMLCozAgKByKYEMMrzqKMsw6aShIAkZOnu9N5d3V29/t/P+9ZJ3vz4Lff+6lfVi7/7PJ3uVN3lve+99z3fc873fE/IGu/Zo2LhSDJ4PPfSVGhm5or0M/LKAMCuhYVWFUOZb1EKaZBaCKikPEQA9CM4kvgC/y8BnQKeQoIYkS6sQ0sAACAASURBVPHAAWQu570z/RzvQNRCqN95fVs7MnhbtWpj7kjIyK9aZYw4FPF8SoomCJuUBq+5pvSebyuI0+1dZoDqKIFUglRGHSno1PFnnG1tRcDafINveMMbcjrtuc997v0OGwZ8cDbU2LfpCtpvrER5EACDBCj8jwMwzGbt0PRI/l9UAaiS5vBMjBcgeMpTnjIGAMNM7viYxc1APwDgzL0MZbTOZVwQ4ywmwlgYs1i9gAEVvDZbr7JDi38004GaO/sEDDLm3cbQ6xjhaGREH60cZBjvYUoHqdd164oYugFf+tI3E7ns3CwnKxTMsAndr1t3Vq6JL97gffX3hQRI8a8Y7ttv35LBgAZCyH6OPXiQJ0vRj+CNXgCFza/UTyh+dnZ9Pi8vWTqgkOiUq/H6AQAcAsaPB84AH0mGancGIn5uP0Ck6PtrBnRb5kOU42fTOVcvEN1WZb5BIQEeWIhk8I7vizAAE4CMcZXSP/LEMaZSBliEjAqvYdWq+eTR3pM4APekd+Ah6XcFDKVZWeAriCZoHCSSsTs3+Nm7dy4bZCkNjY8QCd0bXgECYrnXo8nb25n23Z+exVnpPqgZSoVclM/r91/96ucSELwip7YOHixyx1IQKgLM2/Hjd+Q5BqxWriSM5Lnp+LY9g5jpaWkBjYX8fF96v0oVgA6LpT1zAWzOe+65UylPnBoQjAgAdL7/vifvdy3Z673H1QkVQ6Fp/99WBrzN9y6tJgLQWVqLZCvlIRXWdFMyGGJfTY/ptx9CMePPETAn73jHO0ZSEWGMbbgNo7iXpT7HOAWw1DO8hOcXMrT49NoYSmg4QpC8eyU6wZRlkON36vF1uZLT8hG3BQDdRH3C8LoGRnI3QZS//Mu/zGNss3XeVx3uBzAsfHXYVWTCgnXVVVc1vkw3XYOILPB8zjjj0qRhvjuHv4XeN29WMnY0laqdl73KwuAPBcCiTsd4F3VAHICt+e/zzjs/cwB4nQcPzqVnc1c2NGru9+3TEW8+h66FyfUZKDr/QteMVTGaQvRC4Qx5IfEVISAlgpOTwsgRiWCkhKsx6ZHnvpa8xCvzz6anCymuGDSqfkABUh7FwFJyiANQhIjWZWMp9C137nig574yw+m0r7QAZcIiJITYt2PHlgQut2USIAVAr+7Ro8CGeSqpjxAN0tCnNCm6MF1jdY4S7NlzV/77+PE96Z4O5ZLI6elVWVkQofGHf/jq9LN1+Zs4fPiyhciHFMDnMsl01arVaVz6HIhSFNIjo3306G1pX+mNAgAKDwFvYdsCv6EAgELm3JueV+laCPiVexC9KWO/8MLpicc+9uwlAwDdXuBaxx8wQHr1M/XqdaSgKc+m8UfSZUelfcBH02oggMbaIHJwMuroWwc4R9YokQCAIrQAzC3iskjjqbqNAcCp+uTSuAcBADkrOUiInIH3cTKOyvp6tc41HYxyPxncblMmLIYRS32sBho8BNoAvfKgw1yrVukL7YBQJ+ym4T5M6SD9/WiLLAwrsgBIRGRh27ZDifm9PRs3LPht23Zk0t055wBVflZy/2vXlkiADSDgWWusQxnQds455+f6/d27Mbe3JwNyQQZK+/Yh8BUJXtfdvx+LXF3//EJ4XJ15qUOenl6z4BWXMH1p1sNDZcD3ZiNl/unkl3MCAsrjvpY8tQcsGFriPtMLXnsx5tPTgIJyOCkG4ygRhtWr7Vs8X/K5vGiVD8L+AA4OAu/b2PEaCjA5mBX+lO5dccWD0u+LEBDVQIa+NEAqmgFK8CLysHIl+d5CAhSSLx0SzYMowf507rnEpyDluyt7ndorEy6amXlw1iewrxTApZc+IP1MaWLhYUxOKgMsAGDVqtty5KWQ+kKZ8UAaz84M3Fau1J65dCScnt6Tx1kaNRUCYOg42Pe886YmHv1oIOK+lrzLvcQwWAyV1ECdPjCmGhD4d791YJhxu7ZvsakeSAAA61NTrsQw4xr2GFwg/CbrmKY/RMNEWKxxQMtznvOczAPoVhEx7DWX87gxAFjO2R7xtQYBALl8HjGGvsXAS+zvQZu8/KMe9ahMdmm6hUQv5C/f3gRoOPenPvWpxJT+vlboX6SC0AgDVhvlXmNtSoisj5fv87EzuEoIgSYGJhapnTsPTXz0ozvSIUL2R3ODn+PH59PCh7XOMJTaf7ns0heAMS1scHlrKQNh/vVJO+D22+9Oi+ba3FFPaD1IgJj1Rcjm64nT8A+JJf3/5TA3gKEOX9hbwx9RAt3+RAf8wYSn788AHz26J5P/nKvU1YsQ4AYczpGeK654wEIonRBQaQfMUy7dABlkJEDHF4PP8B07tjbfXxEiInxTvGGlfyWaQGZXxEPKofAaKOcdOLAt508vu+zBiS8g7SEaAcQY0/E8psJXEGIvRLuJifMzWc+5KPAVY3s4Pfe9+XjcBNUIZc4Pp8V5fzrPwXRd5Er6BCvTNYu+xdlnn5nOp/mQ86rUKNGANWvkzM2VMssz8/yuXasMcVcGVCtWbMoAoACdAgBK2+QifOQZ24zn/PPXZAAwqCVv0+9qmP2AVe+uP/VWkwxVxYQ6X6QOQp1vkCcusicnTmOkM6rWtgUycI6lHw27hrnfE3EMAGA+rZHLEVlZqnscA4ClmtllOK+XEPLstvmwAAAvJ3WtQWEq+zP8QlpEhDDm20hc4gAQ8WirH8CYP/KRj2z8EVlYgQaGGLhpoh1gjhCy2hAbcQB4T7yZaHhSzzMW+/XXExsp7We1vWV4Nm6U0y+EP4bNHxECYW4lZSWPrApgSzJMu7LxvfDCQlBDmCss+mI4CwnwWNp3a8pnbs6qfevXr0s/X5mlhhktTH8GC1t/x465XM8euX4NevQD4BGffXbR77cR3MHo/+Y3v57u7cELXIVCAnQuOgPRDTDK/IpUcbnXo0dLsyHeuNA+w2esBw4ADUWICABgJF2rGNTDyeAQZAIAkABLhQQpYK+wlIT7L6V/Whwz4rxyufypBcIhsFM6EM7P71uIRtzXDKgIGJl7ufmLM3BRLfC1r305vf8MPoABKNGpPy9HCzQfmpjAmjePyjQ3LPAgSCHvXHge56Sfk62VVsHPCN6F+/WciwYDgHXZZTMpfXZW9hB5j23STqNaMtq0IQZwQ53P+44fJLdfVx4I6dfeObAvHE5l1Ldbb207IEodXnvttbnj5cm4RXmfyiicK44RjoHmafhTKhhO5W0MAE7hp9cNADB2PDvhKeiU8a+1q3vdrg//t37rtzJTnufguCZNLnwUeAXyjrY2Rtb+JDp5Ek3ABmCCiGPRMs6mbVabVETEvED1IhjKmXj8vaoa1Om/5z1bF8q/JrLqmzD9xo3nZ8+/GCEGo0j0FiKe0PpEAlg7cldAinUPfegDFwh7CHalnE2EQHSAYQR4StvbEpYvhL1CAiy16Ah9RRRICVwJkSPhlZLLvXuLzr0oQcm14xOszov85s135SoJ+evVq/UCKCTAFStKmaFIAdnbYtSLgYsQv9Ax4R4cgAJaaAeUygcpiPn5kvpAEhRyRwLUDGjr1u0pHw90qAIQTVB6CBwVwmCJJsznXH8RAsLnYKQZ+t0LKQKg4sBCNOBIMh7/mN73u1Ke9t/kiIL5OHLkkvz31NR8ej8/n4GOssu9e5EtNQ/CK1BNQEuDLHNh1s/OXpCOQQ6UdhHhmUzP6dwc9Sh0G2JEJQWAM2ArPRmkMyYSSFubIlqbsneokqTTQC7HcsOYqgBo+n3UY/KumZ86deA9shbU6QPvT7eQPeCMWNq0AZLo5Itf/OIM0E/GLUL7mv6Inv7mb/5mVinkuHA+fuZnfiZVfVyTv9GTMYUxaE7HAGDQDJ3Ev68BQLDt5eAYcB+hcFzTBj2O99EzxFC84/stIPYHMnzAFhuhfx5Pm5p+U0vVjxRwP7DB4EPdQo9y8Ax029bDg6oN3A+j79wMv7nl+XT2Oo/XQcnde96zJZMAGYDt23enhXNfyulfmA0zj7gYXBGAUiqGaa4xkH+rlZcfv/hiinWFwIedX8hlIgpFCbDoAzD0lABLi2FleoVwBxyo6fezEo4uNe5IeKUMEAegRCKkDQ4t6PqXSMHc3N5MLNSVT1vg6emN2fgh5gEQUgBa85aue0WboIj+FCEgRpmxKGV+ZFeLQVQmqB2w+8CLKNvB3AgIULryygelfUJGt6jpyUyZR6ABAEACLE2OLkz7yt2LPBACYpDpBMjRiwYcSe/rPyZgcXcCn9+XjlVVIDx/eb5nAOCWWz6XeQerVk3lcZXeCWfk+4QFDh++Kc0tgETNkFjQkfQ+Sm3MJ094NhmzS9P5CAeZk915LgAuEYNClvT8Conwiitmkpe4MYNUBLJRiNu0XYLaGuFB5/d8Q8kwogWAPyNfpw9EG3nKvtEmqUbXNVZG9WMf+9igYZyQ3wcA+Kmf+qnU2Omp2SHQvZCwkP4AuA5AQLQMPiGDXMRFxwBgEZN3og/1cjJUwbY3HmGpQN+8ZSH5TrGOQeOmCMgI9kob8MSBC9fxQQANbRX6YgzdBHfid3VnwDoHP6hGv9v99QMA5s9ciZiYP4uXqAZCYa9aann/6667JxsCoeZdu7DD9yTAdXH24nm1DLb6e4bqnnuE8fckcHZBbhtM2EfK4IILLsqiQYUxX7xIhnXPHiRAYXKEwW25c98llzwo6wBQAgQASoi9aEGUOv8iTlMMZiH7rVghV+786u2PZCOFcCe1ACxKPxQ1wcn0HvFkj+SKAABlw4Y1mTvAsEt16IZXuglKAWDAe/9KN0BlgCEEBFQw8CIEAEqJEKgC2JpTJXQAGOISTdByOESHcBPwDQ7llEYRArogcxNKmmFnvj5iH7BVqg8KobFUPyA6ctON59J8XpK+//AP/y9FHR6Yzus8IjPm+IxcEeDfU1PfWIgmrMqCP0XNcFs619YF3fd16d8zud/Bhg1ImESL1qT9gD9jiEgASeu1Kex/Zj7OO9VGe2LQd9n0974PALmpjHfT88Z+eByAMpKsSFCUJBZS6OEMmjdu3JgjBoN4RAi9uvVJKZyMWwAAjYA4RDQWpARf/vKX546DUgDPfvazxwDgZHx4p/uYLDI8YwbCS6mrVh2G8jtGumk9MHarBQ0jF7LtZPLyahgNXgBD6SOPralCX+cz+fznP58Jdp1pigAZFhH3VrP7eQ0M8yBeQ32tbgAgmPD4CxbM+n4HSRsz+u9739b84TNa+/fvS0aiAICSDy5eO/nbO++8O5fOIQgyTrx194fEZ7EsIfBStgc01EqAvOivfe32FOb+UkqVPDLrBhRjW6IB6b85oiDM7v+NqyjxMZSM454cumekAwi4Ds2Br3/9awttkBnamcyKjwY+wIlOhnv3EhJakTy9qQyMpC1Wrya3WyIV2vwWYl5pgVuiASIEgIO0xuF8XcS+ffu25fu++OIHZg4AoLR6tU6CRXPAmGyzszz80p1vYkKERGpCmgIpr5AADxzYt5Au4e1LlxTDX4SUcC0uXkhBHEwRgi/kVMuaNUiOpWXwihWkfXEk/Pv2fC2liQcPrs/PYmpqX/p9mbvVqzUk0kToYPp7SzJ4+3KJplTJ+vUzmb+B+Cit8LCHrU9h/w3ZY/atNG3GNcq16jOf+Uxuxzusnv6gsQD/119/ffaIrQOxcUak9LzTQHW3FsDWo5pkKJd+ww03ZCXAxW6/9Eu/lMdlrXDv2gzrDGh71ateNfGmN70pk0FtUpzvfOc7G1+SUyRFSjJdBMCaRHJYHwMl0+MUQOOpHO84qhlQz682nTpVN+YuljwETtCmyfbGN74xh+Ipc9Wd/aJrl3KYTjb8ICM76Lqd9fb9QEacS45TyqGT5dzvWp3lhqGCyOh3ihM5Dx6Fj9r9dtvkzd/5zi0ZADBwhw7NpfB2kestjH9pgS3p3wcTMLsoPQdCNjzOYji3bduZogD70rUvTcaLMeTN85Z5wIx5IQE6v2gDI8/bYmjpCYgasJulbW35tzp9G8+vdAPkURcmewnRF6Y61Tve/O23fy0ZxocsAIOZrIwHtJSSvtKh0PMoSnsHMqeA4aPit3IlothUPq8UAq9YFUAR/ZnJ9wTMCK3z2qencQC25vtWBVCUBN0Lw1o4DCE1LGwvKlGkiwnKyMmbU/l30QTzRAiopDnuuOPOLBp05ZVKGo1NeoF+ADAgffT5dJ8PTr+jA1CA0Jo1WvSqcsEtuG0BJMlr61EAZOxN+6rs4OGfn/4Gqko/gqICaKYBLtUNc+nezMt8AgDTCQCclY2QbxMAWO7csLQaEu9SsdO9B5wO0cXO1F2n/LFUQc0nAAzMjdSBfYEE65i1Z7Hbn/3Zn+V6fUCVwfZvaT0RSgDAtakCtt3CuPsbgBXlADCcj9O1VECr7TiH2X+cAhhm1k6SYyLk1ms4TfX543joPT5OH400QIjf8NCF+7vV2cfxnQI9TaYJY9lH5A8dAeVAAA0Pv9fCGcc0rTU2jig3jJp+CxMvoBdZSajPh96roQqj+vu/f9cCaY2Iz/40VxbFi7LXvGPHPQv3dVYmARbDioVfOANbt+7MC8iDH3xZMkDC+SV8ypArKyslnkUhsNSf+zdAwGMtJMASDi91+kVISG96IXr1/NErYGfmKdiX51u66ZWmO//0T19NXA/GWNRgNv2NbW98JcLAKB89KsRfOARAQ6nTV+ePezCXyx9FMoAayoXABy4BLYAoJXTsypUHUxpkSwJJexKoemCah1JievhwKPPx4EsKZMUKYKM0upqeVnop5aGnQIAZ8sKl+kAE5NOf/lxa6O9IKpZPynMj/TA/r4sgMFQAAN6B5kO4EYCHBj8qAtz70aMlBQDEEPwplQQFAJT5PD/9bE2O1ExO7sygoYCXMqclDVR4Hg960OoEcOhClJJHYKRbrrzJtzHsPqp/VB8MKucb9vz9jhskfxwkQ5UEcv+iFb57gIUI2ROe8ITWwmDdxhNCSNIwIhKLAQDObx0UpRAZ9ExFAH7sx36sVRRyKeZ7seccA4DFzuAJPH4QABDKF4ps05nL7TDCvFHHdsrq9rvdWqCn6bQIJwIVW7ZsyQtlt5K7znM5BiBpqjbmeCWO9jcnCI5Cgf08M4sSglu/lqoAQJGNRbCbywaOYZ5JbYGlXRijYjh5ooz1imxEGLpdu3bnGv7LL78s/6x0sCsNgOp2wEiAwIqQt7I1xhAJEHGOgcPSdzyuQNEQMB7d+ITVkQqFysvP71PyK8pEt956cwJ5qhCE6IsSYPFyCwkQJwHAKKkDaY5SchgkwJL+KGx8oGX//kM5QqBEEYkRB0HFgQjB7OyKLALkPi6/nPpgEQLSgbBUPvh3aVesEY+5L3yDi9LPRAkYakJAfoYjIBwPuOBfEGaZTxGhcxfmEWC4OD8bbP6bb/5iVjwkBOS6xXvfkMYOkIm03L4QYSEVDAAYD+9/bgGQEGsqPIQ1a4oWQfH+Sytgz6j0NRBaXpfC7zgeuzJJFiGu7vrHG3aemjw3bNe/Xt9Y2yZETb/V2E/qzLfTCTA8P05Em0ZiwupAoza7wIB5kVpY7Pb2t789h+qlGG0AwFvf+tYcNRS5+OVf/uVGaqfh/f+n//SfcqniYx/72MxtAAYQPKUZmhIeF3tPS3H8GAAsxawu0zm9nIxDr41RhVzb6Ff7uOXYhbrk9wYZyvraFh4fRb8oQb2/sfvoebsUBGtOQb8plFsVemzKbXAvroO0JNffZHyAgoW7U+u8Hte73rU5e+Sl9PLOzAG45BLlV+uzMdYEqHSJK0p8/jCODBMhG+p1l156WTKWhaQ3NUW6t+TDqf6VqEFp1fzZz34u1V1/T3oe598LABgfKQYGWoTAVkrVCttdfrsoAUavABECee8inHPTTTdnY+xnU1Nr089ICAtvAxhFnpenXdrgFsXDYlQJAZVxMsSFrc/rLt0AnatEOrDq9yavv6jqzc3p0LYil0pS4puenslRg5LeKKkOxndmRgmgaIiox0Xp53L60iC7FwAODsDcQmqjlEnaSsrBGIGKi/O8Hz++P5HxvphA35XZw9eAqZRXnpnGimQphXJnPgf5ZQCgSAXTHNCLgNjRBZkDUHQLdqafBQAo81rEnqQwjidP9oxU1bI+e/+4Jd2+PeA6wuLR9U+4Pmrvpd86a+/bLCmDvPA25+q2r0gfQ68crubhuC9VAG1KHzHpgewXvehFA4dFMAz477Yx9NF/QOc+uflPfOIT936/ngXDb57ND5BhTRiUHg0AYB3Aqao3EUSORRsu0sCbXOYdxgBgmSd8lJcbBAAYf4YMIajJ9qEPfSiFUz+dhTl4JTXBp8nxOm651iD2sXFHuN91oPJBH2J9/UEM/dgXwPDRyjPyTjCym6J1uUNeXL85eO97t6RQ7+7E0L8zAZK12Vsu3m0p6xPCJwVcFOMYqRIBkOPft29vAmdEcS7PpWgFKJSaft7l3Jw8o3y2aEHJk27adF76g1ktReBcjDU1shLWLs16eMXa3oo+MNC7F0L8ZRzF+xVOP5oiAF9NC6TyONcRNZjK+9DXN1blbsiA5WdlXIxqAQqMPuOoV0ABMPv2lUgDo+5494wE6Dih+L1778kcgDPOODfdE7GfRGRIBhlpUdTEGPQ5UOZXuvMBILr6UVvjdSIkFiEgKRepCT+nn1C0+AvDvzD0RQ4Y6H3pHfj79BwfmP5dgJF5WrlyU47IFB2FO+4lTx4+PLsQeSjRCgCAFoE2wu7x6NFtOToSpZ7OUSI2pIwnMgHwYQ9bl1MA/gCcTTapKWHxAAYib97VOlLQq/a+8/xLDQCk4FQB/PAP//D9vidRGyXE/+pf/asmt5z3+cVf/MUc8v/RH/3Rxsf021Gq78d//McnPvzhD2enotdm7Er7nva0pzW6LsfmLW95y72kTs+JXDq+RROHotFFTsBOYwBwAiZ9VJccBAAsKIiA8mv9tugO6OOxEGG3Mn4QbpsNoh5Un29M8nI8eKkJyLwf2a7b9UM2FFeg21ZrFAAW+ATKDZuKGznnoOiJeXrDG76Y5mk+6/crl9u8+c6sOV8MTAn5FwEdYXyecREHYjB272bUtyfP9IoMFIooTmnsw9vmTQmxksBV2la06gsJ0HlFDWxr1vCUixESordpx4svUFj4O7M3v3YtVn609C0kQEqAnkEpsStKgKVMMEiAjg+t/3Js0e9HMhSdAGoO5fsFIkQAijcfZYIASHQD1Atga/KMlQFKOwAdpRnQnj3UCw9kUCSiIQUgfSJ1cMYZyky1A8aRoMKHJKmy4ODC/BxOXtjfpPTL9gRcn5ijJiIgOAAlPL835W3/MUcApE+QAEvpn7a/JUoxP//NPAfmbXJyNt/b5OSuNO9783xPTxcA4N4PH9b0iW6BY0sKIESYALF//a83JFC1LgM231Db9Fu8z8aDbFdHCgDaWowHOOgsszuREsTDVD6IIsily/0vdpOC1J74gx/84LdUX0jHhKYH8EKvhPfe9Pn89m//duYRXX21ltwbJlzL96gPwKm8jQHAqfz00tgZol5b1Lcj13TbGBmkFkbYhxDdAdtGDuLcvUr6/N7i5cMLrzrCZsh2ficv33TrR260YAIYSIzASCgM9tMb6Hbdbt0N7VdHL770pbOTITgzG2xd+e6885uJZ3BFNrSU+4qATsm9MxaMsJ9ZpHfs2Jv+bE/z/oBsrBkSzHfkup07785KeELkpea8lJoxsqILPF3phcIrUDLHKKvTV+7HCJMVLgQ1ofdCZCsh8mKsC+EOCfDKKx+84P3Opt+vydEEAjdeK4aNoS3qgEUHwPWnpmazYXRNYy4dBt1b1NirKHCMlEN0AzyQjOKWbOSDBFjC5vL1IgSu5Y+53JPmQOSCHPBZGQApfSRKpBb/zDOLxkAp3TucnvdNaZ+55Hn+yzyWYqyLINPKlXvSfX4lhYevyOTIUnIJMCkDLADgyJFvLswR8iSCo/uhOrh/YT5KCqDM8448x6XEs5ReAgMiBebke75nQ3qXZ/M3JfLUj0PS9H2P/aSaOvkEwEgdJfC++w7bhOHbjqPX/r491TNNI47Ow2CLArQVEOs2BnNtDDU3SM8CksVq9qUnACaG+xWveMXE05/+9Ma3bu7f/OY357QCoMP7d45BOgeNL3CCdhwDgBM08aO6LOMZOdDOc/bqgmd/C1SIeZRWqfc1/mGkedlta5i7tdDt5o3X5KEmufbO+4LmhUjrxRWYcT/CrsL2nSWCbcWDnEfuvV7MLOhCnFIcwMUHPrBzIczMSz+cPOpvJF6CnLpSOMa6hMyLRG9h4it/E67et0/Z4D25dA1jn+e/c+fW9GdbOse52ejv2UPCdy5HI26++SspvfCgBNIuSgZQ/nw2XYfx1KwHGCh58OIBK8lj3Bjg4sWWbn7FaK5dW6oLbr75lmyMGa/ZWSTAmfz7IAGqvQcwggQIyJSGOLzkIgQEABQSH6niUmM/OVkiAEXYKHTz55OXvjntvy8TD/3euI8fRxIs6QTzUsr8GP5Deb7oABw6pOphLo1/c+YczM/vzKkJIf2NG0vNt3bJgFQpHdTw6oI8F1Igt956U061BAfAPB09WjgACIUrVmjBbI6kQYhamSNkvaJyeOyYksKSUsFDKNwCz7UAPH0SSspnIqkAnpnFgKSQePC9qkhG9f3jz9RRAu+obwF3J4CBVMIoSxGFvV3nMY95zP1uA+/BfbeJHD75yU9OkbQ3tAINo5q7tufBJTLX5rUpX6ntNZZ7/zEAWO4ZH/H1+gGAEOZAnonNh4tIAwUzYnUdL88fMFCSx8tuK2PaWZ4X4X4GE4mmm96/6wXhsOnUMMw+ROO3QDOQRdXuwp6tjhEbpQOafrgWM9EJXQfNo1SKsG4NLt7//q3ZuDOmGPB33vmN7FGXpjEMRNHr5/UXVbtCAixd8g5kdUDga+fO+axln+gQ6R4uyoZv795CgqPwt23b9kzMZDjPOGNDOg+2PXJeUeabmppJBCeSvkhuzJIDoQAAIABJREFUQtxC4ABH8YCDyETilqeuDJDRv+mmryZQ8YD8s9Li13Gl10BR0wMYita/KEcRxXFvpH6LPLDfF49YVIIhvK9KQOWAuWPUddeTAkDeu+CCB+QIQWlmVNoBM66UChlRfIHoBkjTn2APguSKFXvyvJIVJhUMBBw/vi97ZPv3H8hpBfwHssazszx+XIBdCQDcklMtcrVRfXD8eOmqSKHw+PG787gBgPn5mXyPOg8ePnwgRz1WrrwkXfs+LYLCLSjtnaV1RCPcI/Dx6EefneZ0JnNvfJu9dCSavutt9wM6fIfSXgEMOAK+QYZL+Nrfi8lb86p9sz/3cz93v+GJmvlu+hFnO++HiM51112X5uzytre6bPsDWX/yJ38y8Ud/9Ef5mYrgaQr00pe+tHHPg2UbbMsLjQFAywk72XbvBwAs/ARwfGRe4mja4wPtVkOPxCfE9axnPStXD3jJ22zakFpgeN+8cYsBg4l922vrFWrvd93Iz1s0hPttrtOvn0C36ES/a0QURKWB+xJWZKzr/ukf/vA9yYtXG380RwA2b/6nFJUowjoMWSkJLDlnKQBA4MABuv3CxwcWjP76BGD2pAX7gkTwW5s96JoEyLgI3RdiYQlfIwHyoMn2Hjq0N+fpDx0qIj3C8Bs20PRfl+ZDXf+BhZD2fSRA4jlU9xhGIKr0CphZIAEac7L2RpvTCoUEGN0Ay72VFAMPHxgp+xZxokICLL0CRAiMkbEEAEQ4qOgBAIVEaH9G2vFFCRCYEAHwvjKok5NF5AoAkBooZYKiHgcy+EHiE8mYmyslm6V98fE0F9T4aPoz4hQaL0iL9Zk5mlAqHJAAS+Ohgwfvyh58aWM8s5De2JE9eNuaNZfmtEtwKgop0vMsEsDmCQnQvesEeOmlM5nkylC0Ibe2+dZ67StF4DsHXGMzjtDyD9lewKzmEzSR7Y3zeTb+dJJ9gXnXb5PO42TQLTgZmfQBnAEqKQSa/9ZSaQ7CRdYfZYynah+A/O6mmyyxw/F2Ss5AEYzJ1PGu24033pjz+zxYJBgvbW3E6oOEvXm5PGmh7rZ5OV44TgLDzwOx+A0SI7GvxbIfY7fzxgAA92MRq7kL/R6g++kmb9zrGMBE3S9Q0UswCADYto2nXmrYb7vtq8kIPTQbXMbFlyX0XwR4CgnQo2IQ5f91BDz33LPSnwtzjpvXW5rLlHbADH1hmBdyH3JeMO6Loh2j5XcMsdJCgKCICYlIMGD799+TvexNm2YXyu6ms7FlXG+77WsJOD14gchWqgCipE+pWzF4pRtgaVFc/iABAjSlg1+JEBib/HrhC8ijF1lgxMbSofBgVkakfqgmv7Qm9t6uyUCp6BgUTX9CQAcO6E/g5wAAbgHhIVUA+BVAB8+9dBv8i7/4qzT2uYnHP/6HF8AWWeNz8/WPHt2SANZtudLAPCIqrl8/ncDABek85gT3YnO+rv9X4VA8/B0ZZHhmSgopGxbdDRwA0RHphVJ5AbQUIaCJlBs+K4GN6Rw9EsGJ0rTlWlwYeNE7ee9+m5x23QbYcdaFmk/g3R/0/dbXaBv18HyUSUo3LpVq4WLmPQCAssK3ve1tE+9+97vvPZ2U4n/+z/95gvrgGAAsZpbHxy5qBvoBACF4Xj1yH6+/aQmcFxrLVXlO080C4qPwISu3a9Le17mNERGxKd8ASGHMLVYiFE1JOCIFvAxaAP02H73F25icGwjqlT8FALZsYeBCWOemBLAemr3JIAG6FmPLqMzOrsp57jvvvCstvvuyEf0X/0IaA4mMZ1283tlZhqUQBxlhLPldu7akSMo56Xfr070Xb/v+JEAphyIkVEiAOtUJ0W/PwAKhjmLf3r0856P5+dAikBvHjue1M36lgU4J5yPxMbClRS8gUkL06vwLiCxVAiXsX0iAttINEBkRh6CAlxUrDub2w4SDAADhemkI6oM2JMCQVV6xAnCRWlApoAzQeQsAKGCEEBDg4fz6GqgIAAzcN+Pt+nomiJpsT5GW2xKoJQw0nZ9Nke8tHAsGfcWKbQkQrE1/NqV/n5mjEmvX7kjjOZQBBVEhKRV8CAqB9wkrFdIiToV58e9HP9o7Np29RO9Pr26STb+rtvsJzUuRtcnDxzVq2V7fs6iB96STZAiA4110ptMAD4ChKejxrYlAAQ6j5Ci0nbNe+wcAwHnAU/jZn/3Z7NQY60c+8pGcdvzv//2/Z0ek6To0qrGN6jzjCMCoZvIEnacbAPAhezmLQtqRrMzVFmEPap8bt+v6Ee5nYC0MbYhPvBC1+oNqhy3yQvH+tsCIVDQFDcbqGsKc0Qyk2+OqSxRdwxz2Y1N/+MNqvQ/nULbF4itf+ceU833oQg65ePu8WB4uLoCysjvu2JJC9Jty+FQL24c97IELxrrUtwdhT+g82gFv27YjlSDdmI3Yt3/7d6XjifaUMjpleEUWuNxRiRBoaVs81qkpnl2R8lUmWLzqIzlnfscd38zGkob9hg1npsV+Yy6Fkz5A6CNCtGJFeNqIjqISDPt9ZYaFjFe0A3jJ9y8TNC+lnl9p3z333JX+rQPiA+7dV8le4RAECVCZn9x+EUWiA1Ba+CIj7slzi7g3N1faAc/MAEoMseN55SIts+nY87LxPnRIpOUbCXRckvkBRZ/Azzdlgz0zM5fGfFeeD6S+XbtEDQ4nMLA3/W5VrhxYs+YheYHXd2FysggreU7C/kCKCEdoMDzxiecmDs1UBpCMZ7/3bSmWjLb6A/3GYF6RbWuSoQjfBz7wgRxJfM5znpO/qeATtL1nUQhABan3ZAYARI8IFblPKQCRQRHCa665JgMeawRdgVNxGwOAU/GpVWNm4H1Itrp9btS/Q6/ygU28fx/ie9/73lzi4qP3svdDxzwN+UbG0oLg/4Wdm9bWOrf9fVC9DG3diEgOPjqNNQEN9diBFHPQzSOLCgK8h+AsWPgQ77rxIBiOdKtJbGRXMgwHk1deSGC33HJTyn8+ZCE3HSx3ZLHDKVLAy5lI/IiLk7FjrZEGS2tRvABGUmvbYvTkbKV2dA28Mx2r6+DxZFTumPje7/03ab5FMSYTILo1CwPJbSML2kpCj6IdlTvh9NLQJtoB10qAX/mKKoAH5PHysvfuLdEGwjrGsG6ddsAM33Ra6MnoAjKFBCiUHmWCDHgpTbzPAN9XJqhMEUA4mKI9W7JBOe+8K/K+jlfrb16kJUQYbDoHAgDGffhwaZY0M0NQKFoblxRBiQYcyUJJDPDatTrNqdtXpXBuBlBHjtyTntU3033K4yMBlvI9JEDAbfXq/en/ty6E8tel36/JgObIkbvS3O/KQOPQoXPzWEvjI5yGNRmESWMUwFXAlfE++cnnpWc8lb8LIleDIk6jXn4Wqz8waDy+R7wi76nIYohsiRIAB6IC0n+90oz1+WONAbRP5s34ou6f4Q9gFI2MyBiPSshouedhDACWe8ZHfL0AAEJ/wtw+RAY4OlQR52HUejW9qYfDe/joRz+a2f8Wku///u/vmgP04rsWRCyEF+BiGEa/RUN97vd+7/d+y8yIYLhOZ0tgoUnEnF76Bt2mGGdAFMTiVG+lxO7m7KkBGJHz7DUuRuUd71iR5ERXpJIn4e9jE9/3fWqPDyYDfVPOaRaDNpmMB5367cmo6hJ4fu5fUJrRMECHcpj4wQ9+SDIeJXeuFI6RFVrftetgZud/+cufS1GGHSlC8shsnC+44Jyslkde95Of/Mtk2C5MaYRvT8ZQXf9tWQvgQQ+S11e2BhQomStliIXpzvAeyfnwQgJUtSC8fR8JcHq66N5TwvMMeMeTk2ri9SGgTXBW2l/jnxIWL3oHPOJS7UAJsDQyEv0oUY2ZmQOJ90AHYH+aayRA92ueAAvjojp4JIORQlws6ZAVK67Ic+M6pT1vYe5LAZR0xeE0D3+RnwPAWoiBswlgnJ3Pe/z41uStEWiSSgCMGGzXEO73bxUEW/JYZ2fPSH8XUuLx4/cs8B9EHy7L59e7YffurTmNceyYtIPUyUw6bjpHXWZn10w86Unnpee8OkePPO82DatGsTQsV/lhPdaQNvaNeQ9EIEVMOvkEnV6+0D8RIN//eDsxMzAGACdm3kd21TCG/mZ8LDr11k+cp98g/uqv/ip75XXqoK4kYPiVC9bbMIz+bqWKrhMpDPfUmWvs5533uqdO9UDnUA7p+t0UAo1B9KSTCPm3fzuZ+oqvTIaXnPGB5J1jr08mbfFt6d9fSQb1YdmbFxonEaxfPKVAHjZSXxDlGLBbbvmnBM5wBkqIHjufF7xlC3LguXn/+fn9+RjGt4Shi8YA0LBr155kdDSWWZdBxw03/GUmDz7hCcKRq3P54F13ATcXJ/6ARkLRK0De/MgCCfAhObowOTmdrk10KJQAS0RJvtzPpAOIE+3ZYzyMfbKkKYpRSgjlidelcUkfyEvMZBJgIUdKkRQS4Natd2W2/iWXPCDtw3sW+SDPi8xYkwBxAEp1ARJgUTo8nH5WShpnZ5VilSZFxnDLLV/L8/egBz0wG29qfgCAnx07tiUBgLuTt6r5Ew4AgKIyY2OOEKxcOZf23bJA7NMRcU1OY6xatTWdvxAxJyYuXSD5aUNcOgQ69759hzOvAhgQyfIuXX21NNOZ2TPmIS93BKAtEW9kC1E6EW6OCJs1CICuUwfmp5Y2dl0Ox8tf/vJE4vyLRQ/j+c9/fgKCn7xX/0PTHvl5m2u/8IUvzNr/wJ8GPj/yIz/S+JqFm+IbKVG2EqUr/38ypi4a35h7GVcBtJmuk29fYXt5cR9et5dReF0JW6cwzqA7kfeK1IGXnWchjO46apu7sYOHYfTXhEPXibRCvyqCaCLUpusYgpJUiVSFfyP69esKaDFXniQKUm9ve9uKJCs8mZjeEymEL699OLHbV0487nG7k3H7YooiPCTdw5ZkMPZlw3vGGbPZgAtRIwYi/PE85d0BgO/8TmWDpUc9o/blL9+cIwmPfOS/Ts/twnRpnqdadIQ3vALhfFLApR3wmjWlta+527tXROJgAg/n5zLBv//7m9Mz+0zyjL8vgTXd746lsX8hecPnZoDx9a/fmqMFat157UeOlBp4oe1S0oeVrylRqVwIEqB9hfyPHTuSPGIRAqWCiHVEdVbmCMGqVbM5bVDUDy2a+7PGBDIiEqAIQVECnMrAZGamkACL0uFcrmZwfytWXJp+zgiLCDC+Igc6IIYEcanCABK8/+5lauqMdC9n50jLwYOb83XPP1+lBU/duVx7Y44mTE9LK2xfiAasS/ciPQOQbE9/S0PgNVycgQUJ4mT283w7jdSNsYuEuBcEz8c+lqLi3L1lgJ5ZlNspkRWJa8OsH/Sddv7ee23rjHS1PU+v/UWErr/++rw2dHJwvvhF7/8D8v12bt7PWto4uuvhScivi+aJPHY6ME3HDQDgEb3kJS/5lkN+7dd+LXMy/vAP/zBXHEjrAf9NNUGajuFU3G8MAE7Fp1aNmVFjrHpt8aI38USci+cPLPhYpQ58uN3C/d2u17T3QOexPAAfv7B+Z1qh23V6Ged+j1KpYTRbiTRJPzGUXpUQH/rQirQArkgLXWH+MyK33HJs4vnP3zvxxS/+bfLKlVJtSGxhefoiEUtWl5Fat05bW/nl0sXx61//WgIAD83eJQIbxvz8/KFEivqnBE4elA0fI1Ya3ThHYfYrGSx96PMIstEr/y6gQDj64MECFubn70iLKs34iWQIdyX9879OKYMrM/gRZREJYNy+67v0iwglQNe5fzvg0pPgPhKgsZUywYP53KoAaAPs3288qhQw7BHsDuScOZswP78vh+0vvPCKvE8BLpQARTWoChYuRekGSPiHob40RxOmpkQE9mUgoqJAJME2Pe3dL2x8xxYVvzNzjl8VxdzcXVlw6eKLL0jnoBYY5Xsb85zNzOxN19iRn9PKlevSPRZS4qpV96Sf8fhVEiAQSt1IQ+zL4xRFKAJJRechZJJ/9EeVF67M77K0EoMvGhDvnjp56bk6PD5Kpb6lrj7gtf/xH/9x/l47eTuqgEQGBzUDi+9UCZ22uvoAaELmm3vXu9411IrcDwCI8DH+IWz2zGc+M1/TMU02aULRnPyFLXj+pzLzv77nMQBo8gacxPuU2mSeSfetH/mt8wgv92/8xm9kw8/LF3IOxb3OcH+3q1ncAI42CoI+JADAomjxaJIzNU6NOZqWKZofqRALscZITZC/a4SIUn2vaf2bePWrVyaCWKmN379/cuKqqw4lDsOXU+h+c1oUH5V+tiaFu+dThOBQMj5K1hhTRoUmAC8V2e9I8kZuTV7+ealU8wspMvHA5I1ftODNlrryUk6oxCza3RavuUQSSnMfXAKGueTTiwFkVPW6V7pXpGtL6JJqIbKdMkBExJtuuiVFQ+5IC/ZUmsvHpnNP5//fsqXIKW/YABCEEmAhKhYS4NoMapyfDoCfMdaMeukLgCAXGgaHMmGPly1/LvKxatUZOU9fSu/WZ7Z86B2UaIAce1ErPHz4imxglf5NTurOB/gQ7zl4bxkk40EW+Nu+7TtyCqJEADYtRF6Q+e5JaYcUskmaA4ANIHX8+JkZXK1atSeNe3u+t7VrHbc638vx41syf8G+U1OX5jHgIUhDFJDhHEXroYgYFaLls599fh6DyBsvnNdfb94rY4/wOGAgXA4o1KCgbdVOXEMengGu9fCXa/kSYiedHfyjQdelrifS+KY3vWnQrgN/z5gj6plH824dCzEkEQnzEmvLy172srzfK1/5yr7njfp+aQrfkNbF4TS85z3vybylpiWPA2/gBO0wBgAnaOJHddlBAEDoS8hR6LvJBu0ylEJlogZy8E0Yvc7dNjePaKi0zwKIwNWmlrZJmaLFNmSCQ/60W3/2XvPS6xpAABLgli3H06JyT/Ju/zEZ78tzmLGTOMl737r1cEqhzKec55EECpSzMcxH07/vyIbgC1+4NQGuy1Mf+StynpQUL4OCUJf+dyFUHlGC0okuJG2F6J2PJ1oMptK0UodfDDRBGw2ACngoxlpU4miOQFDPw7ifmdmQnt9UAnBAwddSWdPjkmFenUmASFoPfehlWabYdl+dvzGWXLx3TNrAmOkElI56QMeh7LWrAti+fXP23M8++5L0dyHyqXaQOigld1PJCGqBG42LRDauXDDUgIiIglQKUCXdwADPT9x446eS0VmdF2TjWLFiXTrnpgUwRDZ6Z/Lgzk/HTGUAJoKycqUogXHvSftGh78z0jElSnPs2N3p94CVFIVugO5HmmNvnmt/7hN40t/BM52ceMYzzs9Ar184vPN98w13NvmxTw0ImqYOAH7Hhcfa5Jsf1T6MuVB+0/WCtK515rWvfe3AIZAz51x024B7zx3o8bcUxYtf/OKcsjRvAIBvM5wYzYf8bBAAEBF1L1dddVX+DjQu+vmf//l8rO+cCqC0Q80PGHgjJ9kOYwBwkj2QtsMZBADkBHnATWrzo3sgQ+yPRaTNQiKszRsbpCBYE/AYZKFDx7TJjQ4CAFIYIRPsGu4NSbGNQEq/awT5kqfGW+bFai/aT5yosOKPpDTLP6Rw/HxaSC5Pxgnjn4esnh/LfH825GrWzziDfrt8O8PFW8VILwYM475EForyH2N46BCvWf5aT4DVeWE6cmTngldeSgRLs5/DCYzsTNfdlgCAfDzDTQ9geoFkyNgpmTuaQM7dyZj9v5SqeHDiPVySDfBnP/sPmf3+L//lv0jXmV/gEBTDeV+EoJT5SVH42apVBxIIuisDAp35SudAqRD3xns+kNX8vBsHD25Lf5OaBQa+LYMioOfgwX35PqenS68A94LzUKIOhbtQFuMz0vHkkCfTMXckQLsrlUtSBlTix3jTLNiQw/tTU7oO7lioNFif9vc7VRnUAc2r+7pgofqAPsGBhZ/r61DIYYSASpfHiRQBuCB7i4ySapx+8tT9vvXOJj+ROggtf0beO9fJ+wGopfDacn6arjt4PnhHHApjqLe//uu/ziCsKTGO5+8+/8t/+S9NL994P+W10glEyYZNAUQE4HGPe1z2/l//+tdnjgMSoUZIWgG3kT1uPPhl3HEMAJZxspfiUhYghrfXhlTHo+/XoKNudhMNcxw3SDin85rBIaAj0G3zQclRysfzPCF2i0W3ioNBc9XLONfXsACLYrgG448MNkgitb5ut2s4P68F27ozZeE+eEDduAWek/nxrN761rfmy/y7f/fvsme5deuRZBwP57TBli0Y7kczWU652dzcvgQKhLuVVc1mg6Jznza6xbMu4j4FXBSuAMNQOvqVdsD2KxECKYtDyfjfmX53JOXFtcy1n6ZCSIAa85QQuRB/MebzC7wCYe5SpviZz3whh5m/53u+O1c73HLLremcd6f/vyr/vEQISoc/uX2GkbofACC3f9FFWiaHIE+RN0YCLBEMUQqNfnj8QNE5CbzpdUDPYD5HCPAJjFsaRF6+CB3xwovqIkGj48c3ZWC0b9/tqfxwd/b+gBYAoCgdbsiAaGbGeXcuRAPWJ+BgPNI7W9J+5s++Fy6METehCBAVNcYiAxytls3N855XoiRt8+GD3veoPe8U5YnUAWDge40On0ulra+nBhW8ZzzjGd/S6hgAaEPM/W//7b9lB4PC3mI3oCQ0PqifPulJT8phf/Pyqle9Kq87QQLk0YsmDJqj8Oy/4zu+I4N75wIGiP68/e1vz6nLNg7SYu9xKY4fA4ClmNVlPOcgACDM3svzdWy0BY5mN0g5Fl8vOkPWhk3cK29uOngOIcfL+Nc5TqFDjOKm8sHOJz/fGW4PLQRMYsa/vsYwFQo+cDyD8GicH7lLcyP30JmyUDXA46hzoGH4VVEEGDHnvKdu3iFvWHRg8+aSNpibO5qJdRjpiHUa/gAGSg/POINAz1Qm2fGSGbRScqfendQuT3b3AnHOeXckkKHd8KZEDCwG0PWKoh51QUp5/p+37VhSwNHsp+S5nV/nwMLML7K63/jGrWmsdyQBqcekc0wmwHI4RYL+LoGtb0ve/gWZz7Bq1VxOAQirn3feZRkg8JqTKV/wvjUoKlUA09P7837m/ciRy7JhX72ap78r7UMEaEfK6+9O/38kzcGKFEXZm43fWWdpAbwygZCz0vg2ZOCxe/dtCQDvScbh/PQ7wIinjuS4IfMmRABESUo/AxyAMp5EmczRDjLJR49euHDf5p1wENEhkYICBIBC4Mtxz31uAQCf/exnU0rnO1q9022XjUgdBMEQ0Pftev+9owxWWz3/QWMAQKTVEBzr99d77v1vAwB4/jg5Gu0sduORG5fn71t49atffa+QmWjdC17wgpzKEmX0u6c//emNL/nTP/3TOdxfwO2xDC7cKydg2AhP44sv8Y5jALDEE7zUpx8EAHoZviDs+SCEsIO5yxhbRIT4nBsZsM3W6TU7F6Ed1xOK6yRFObe0Qbda/H7XrcPtwoiuYSF0nm6lRNHdr418MKKh3CPPPXQJep3fWGsgY+78sWB88IMfzFyHn/qpnxrodXTeM2MjKrB586FkZHnv6up588LbctK7kzGUG1dnPZWf4+ws4tn6BERWpT+6BSIk8vpXZEOoJ4Fx4ScEsS/KAIu+/upsPDX7QQLEF1i9mrGneS7vTnO/cAzU4as8AIZCCZDHfvPNN6Wok/bFm7JR/+u//mDa/1h+PmeddVkCNXgHRWq3bAUAlGiA2npRkAIA/Ky07Z1bGC8QRGyGx78niVd9LKc9rriCAJYqDEDggjSumbS//gPEh85L41DjL92xOqcJHD85uSsDihINAIqkTooSoIiE0kHnshUOwFyOLEhJiGKYw1K+qMpjVfKMy77eaSS0xbTdbfPdxb5SD8L/kULopeffNEzfdAyiiEAP77rpJp/OmLapyW967lHuB/R0pjs+9KEPJdXHJ4/yMifkXGMAcEKmfbQXZWR7bV5eYUGeqS3C/dBytAXuthgI0zMwPN02W3jNjnEO4XIgAlu216IDmbtO50fW77rCje4JwHF/g7oPds5Dk3vCKsadqDsp9uMpEA6SYuCBAA0AQMwDgCKasFiDUACB6EBJG+zdqyZeE6CiwLZ371w22Hv2lKiB5jXy7uecc3ZuEwwUKDfEFyi5d6Q9wjbTmQNQ8umr0rNS3sazLe2AhehL1YHafYZUJKBECEqoVEjcz4TPSztgGyY9437TTf83HXMgRR8uTcTJKya+9KUvJ1BzRxLOeXwag9QDMiA2vIoA91DKEycnKQEy2lIi+BE4DnLxuA94EHoabM7g5+yzz8kphoMH16T3QinkgbTfXZmLsH79hjQXJJNn0jVES6j+SU3sTGCkdPhbtUrUoKROynHuxbMsssKiEIcOzS0AHlUP5kJ0oxA2AaunPKWUiwlDI4i1IbY2eScH7dOZeojUQUQJfAfek7oVsO9useO0BkkPtKkAIs4DFPPex9uJmYExADgx8z7Sq/qgw9h0npgHQKFLbjoY8d1623ceJ2Rt0ZDnbrMxmowgj5c36vhBZUG8FhGHJuV5MRYAQLhPmB/Jb1Cvg7YlishocvoWR/fTpLaZ1+d+pQrUOF977bWNyhrbzG/nvnLeIgTSBaSJd+zQnZDxO5YEie5M74UOerzs+ZxCmJpanY1lka4tMrY82lACLBwCEYBSfqglLk8ZwODtlrD4bDpfKYMsEYLSFEeKoMgcT6efFXVD4ka88pUrqSbencHKRRddntIGt6eUwD2pbOx7s6Hfu3dzjqA84hHflcDixgwADhzYn0DLwxaY/dT25rIxLyRANfo8b3oAUhiiGqXSYeVKx2/IY9m79+u582JJi+gDQJeAhO95mfi4cSOJY9EEYf/16TjnkeoQTgYQkCMBi1KemOoaMnBw/xGxkBax0Qb4kR8p3SaFiNXJN2XEL+YdqI/lhXtf+31zwGlUHfjGpQ4A2yatgKnt6ZEhLF7LiyPd+uaF9Jtu6vGR69pIejc993i/ZjMwBgDN5umk3qs8ZccbAAAgAElEQVQfAIDMGaYwkML9/fJWPAjhbrk8i4M8ZtNN2BEA4OUyyvKQTTaew0VJWq/J/kHC45XL80d7zkHXGdR0KI4HpFROIA35t0V8ELhwrH3NnQXf8wgA0IZ0OOgemvyesM/nPndb4ltsTYbykmS4sOUR44owEC+bIA+jeOiQUDuiHi7BpvTcNqW/tfpdlcsIi8AO0IDRH2I3UedPyhcvoEQISjtgYXFAQYSAiJHueaWpz8QEdbzbM5nx/PP1YyjdEkkBF5XBHalU659SJOcBKYVDZOfwxCc+8fEUufjuZFRIUs8ncLM5597JHx88qMkQ71uZYVFXFN5HaFy79uzMAQBsdu78ei49FAFRnuhngMKOHQCBCIFI17YMCmZmzk/nmU2gYzrdT0kLEEdCRCxiR3oUEDhy3VIGaG5KNQOJ4pUTT3taAQBtGfFNnm2TfUShGOG2OgJ1K2Dfve8FJ6ez6kC0zvrwtKc97X7RrCgdpgPQdHv84x8/8ba3va21k9H0/OP9Bs/AGAAMnqOTfo9eAADS15WMMXv4wx+eGauDcn8f//jHcy5Pkw55c8cN2oJMaGHwb6HPJs2H4ryIdVjag0SAgkgIKPBgpDCapg0YKga6W9OhGIdFTLQEQOLJ29+C1s/7jzx/RDyAHwuoaIu5Fmq1iOIlGOtSeoTRpMk1g2gpHbBly8H858479yfDp+a+EP8YQ6mAomcPHDDE2vuuSQauSPmuW0cIRy18UQJkrIX4QwlQiqBECFYlg8hw1xECHjoSI+7Cren3+gBcmM6h3E7UwZ9SzYBPUJT8CglQnb/a7ampb0+A4aI05oOpN8On8rw+/vHfv8BfUCWwI/dsQEp76EMfvhC2pwKI0DeZAMCtuZrg/PPPzt58ERKaSsdpYyusvz3zCOgSSG1IlwBIR47cnefhjDPOTvd2aU5N6PwoMgQYTE8XEmPhCyi/nEgAdlXKC98HANoQ4gZ9Y01/L4oCtLYpqe12bu91Ld0rdQCU1akD/47UgaiXyqE2ZbZKfz/2sY+dENGipvN5uu83BgCnwRP2YfLkYvPxYv/LOzP6CGCPfvSjG91plL4wYsBDcAd6HSzFgN0fZELGnPHspgfe6xyMJyPZS70MwHEvDFwQCdumDfppFARQMmd15GIQOTEY/hY/NcF4CMRCYvNMLJzmEpjyb8Y0AIG/u9VyN3pQ1U4RFVFdIMLTr7wJINi8WUkebf65DAgKqU3eXvleIQYCBUePqsvfnb1tBnD1apK+yhA10lEux2BrFiTc39kOmIEkgnRPrjy49FI1/WuzwTx2rCgJMsD0CkQaSpUDEqAIAyMLPKhkuDSH5wGA22+/Nc3lvvR+XZTLGHEIvvCFv03HrM6NgK644oEJaGxNXABdHUvefu/eW9P9HU0/Q0Ys91fC4+tz1GDFim1Z3c82Pb0p/VcUQ1Omu3IKQpXCgQN6BLhPKQCh8rXpGc7mtALAU8oCJxKInUrg5Nx8rrYlcW2fea/9lzLy4DvxDdaliJ47YOv7942JGA5yMmLsnAuAu0l6bVTzMz7P/WdgDABOgzeiBgBQuxpXRiHaAA8Szek2BYNa7loMeGi4AjWZkNdMLKNNU49ecsUMbDQHEupnYMOzaZM2cH+9+gfQNjdfgBLCX+2hi4S4t04wE4bfYijSYcEDfIyxH/BxnEhEAAJ/WzQtoHWUoI335hxRXkmUpG2EQcpg8+YDWa0w4cTkMSMUJpc+ebclrH4gG83UUy15yfuzB6wTIVGdM85YnYlva9fOZqMa7YCF2uXwS+XBkVwKODt7JOfrGcwVK9ZnIFBaFK/OIXV8AvwAhpTmP09cmkAnvkKyKyRA5EIRAgRF869vwoUXXpJTFzz9G274eLrew9O7//0Z2Nx2G4AwkZ7NA9I7gGA4mdspHzu2LnvtK1bck85b1P1WrNiQQYd35dixzZnXsHr1uvT/ZIVFTDR82pV5EZ6jboBTU0CRFMralMbakABAIQGeSACwlJEHoNh6E9fw/noHrQOehy26/kX6oBsfwbfAUUAUbvvOngZL9klzC2MAcNI8iuEHYsEqzWWKQZYbr8P9Uc7WxLD4iHnCDDivu1vInK4Ar13IntGsGcRtDbO7ls+Xs6w1B0KVsFbaq2eI5+Aem/QocFxncx/z5R4AHV5LN8Mt38moRulilPYBPxqimKuf+ImfWNQC5lw8KhGCIGRZMDujBJ1vh+PMGwDTrQ30sG8TYpvqgs2bj2ZQsH074h3vuKgIMtYlL07gZ18ygrtytECKAKmOIZyc1Athb4ronJ0A0uxClQHwINXA8ANN0b0P6c75gYyoNFC6qPSQLr9OfNIKAMhcBghTU4BAISQCFfLxpRkReeXN6ZoAwWWZBPixj70zh7KvueYpmZyoSyO1xY0bRQl0K7wnnV9pH87DhkwUxFtYvXrbQoRgfTp+Yx6b8kSKjcYLwJQ5UIVR2gHrUnjVVeSMz8jaG3Lx0klNPeJhn1l93FIDDzohwA+p3XoD9vCNVPyYi7rqwPrUmTpg9AEAxy12ftT0i1bGZg3SZ0CZHhEgioNSRDYRxHe+852jmOrT4hxjAHAaPEZGnwfazSC7vX4KdZ237+NRt642V85dHXxsPnzeMuPJ6HQzmk3z+fV1g3Bn8agjC/2aA4XX26TLYVwrShQjqqDyAOjotQDVaYbI9UeqxZwySFdfffWiS/vquajLtgIUWEAZFaAMMPD/wBnwI9qylB6UVsQ0CKgU3nHHgbSwM46z2ZMWrmf8eNKqBACBLVu2pp+REV6VQcO6dYwsKV/GsvQkmJpal/5d2gRj3eMQUA2UnwcwVqzYB7JlAHDs2MWZ3CctgLQoGgAMiBAAAMiFt9329SxstGkTvX/tec9LBnpdmpfJNE9/l2WFH/awh6RjZxJo+mqKmHw98VQel3L2G9MYt6R9vpT+fXaa4ysyQXBqSnnjtgx49BU4eLDICq9eTW+BwS9lf0E+LF0RjyfAsyaJz2zIYM534pkxhkLcEeWJnhRLseyYX+WH/Xgui72ud97716nn0a8NcZ06AAze+MY3JjXJz+R15Fd+5VeydoBo5SjeY1E7ImaABSANAHAmXve61y321k/L48cA4DR4rHK/FstexDuLwiAyW0wDo88gM8Yamqhdt7DcdtttmR3P48fY72U0B+Xzu023MCDvQRkgw86w8bz71SYzgG2lim+88cZ8jIXGgjOI3e/+yYsyvBYUBCtehTx+cCWW4/Wx4IoSeDbAXnSPC7U3i/GgUstRjRMgoEFQIgSY+bTxpTbm0s/uSUb4nGTsLszvBxnhuTk5Y/XzOgHO5Rp8Sn1C67OzogVTGRQQCXLuEiHYlyMK+AGHDl2Uf7Z2LQleOXjbXOYlFBLhXKq4+FgCcpckHsB3ZMO8Zs3ZyUgJ3R9PEZKbc+XBOeeQBp7JSop79x5IBkzjpZXJQN868clP/llKEVyZvMPvzWO5/favpWttWyAfnpn+vSlHA3Qj1M3QsxdxcI+l5XLpCXDFFWsTADgrG8gQxfFzRjO4IP72PUXJnWfXtNHPoGc4jBjPoHM2/T29D9+FtaHJ5tuizqeawPoElFs7FhsNEJkwjt/+7d/OwxgDgP5PYwwAmrytJ/k+ELaPv9fWK5c96LZ4zNTMGGULldTCICGbNu2H4/qABYDB4AvRNWH2uw4CXZN2nNEfQJWC+2lSDWFsoiH2RaqzSClxfNazntVaHXHQPDf5vVA/0IMoiWvQySXwDtRpg1EZlUFj27XrQMp3fyWFvI+kd+OSNC558/siBPLFXk15ewbcuPfuncyggIgPr7yoF6o0mM4aBWvWzGUVviLKc/FChOBA3r+U4Pk9kSOEvYPJ496bjtPoZ81CLv+sZNjXpvTFznSdWxKIuyArBSo5FE0ge0zLIEf9J7ZkfQLdBDduvCT9/4oECD6arr0ngd/vT/tuzMJLW7duT1oVm7LXj/To2iIWQIax4hBccslMkqfGFziUa+V71bcHoAtQ0NnoJwBdW2PougxrGzGeQc+38/fbt2/P311nKbEQvHeuaUROulIvDHoJtlEAau+W7yO0SAIA6L1BHRFg/uVf/uV7JYLb3vvpuP8YAJwGT3UQALAYRZOfprdrMaG370MX7m8q0tOm/bCPXhMPxtx1LJhNFz3X4cm7r36bcKy0BC9eCZm2w4OuEeF+Hj/SW4Rw/VzIfRTM/abPgQEFXHiRnkOvKE9Iv0bagFEx7kgbMCqDwFvTMcV+5tOzk0qJqJDeBXfffSxFA3jfR3KVQZH3ZcBLDf3x44xvMaT6WO3Zsz8ZUtoEDLsyRWACGNiQ/jwokwUJCQWHYHp6Lg2hsO+PHJnPHjWxIee0HTmyMfFhduVowOWX0xkoNfvz86Wcsaj7lZLAlSu3pDHJ3xMr2pRLBw8e3JsAxB0parAxGfozU2e/b6Yc8+2pCcx3ZaBx9OjhBA7/PqXcLkoA8ewcNZASueSS6dTVclMGOTgqymGbbJH2CXa9MLnn6VnXdfiDQuTeVWB9UOVOkzF128c4dcLjCPDc661tF0JA5dd//dcTafOGgcMZ1Ao4nAC5/Te84Q1Z9yQ20VGGX4QUP+KpT31qTj8MWjcGDuo02WEMAE6DBzkIALQhzAkzv/nNb84GHwNew502oiI8eR7OoPbDCHQMM2Mq5K+Uro3oUM0b6PYIjYHhdD+iCu6nCRkyGP48mve85z05P6lemWEN4wocWZjD45ZWaEKwbPuqIWO6BwtcP65Cr8UaaIgxMyrurTNKMAgMdTt3ECgZqUEqjHNzSIVHkgc9l9Ioe5ORP5zeJ2kYrHtyuqVpUZAAedP7929NoKDkmufnhd81+Cktj5XgrV17eKFMEAdBZAFooG44lbz+XemZH0/P+/Lk9Z2Zc/mFV8Bjn1oQNZpJYKLIHk9N3Z1ukbqf8kfljbQB5tP4dmWguHLlmQl8rc955PPPF/J3L9uSMfm7TGL7tm97QDp+MgGCf0jPaXUix/1gzvvjACzGEIdaX02mEyGrAQGAVz8/Y/TeinItxQZo6cHBoHZ+q75lRLumjgIOjY5611133ciGqtRZhO5FL3pRz3Pq5Ed+uBPAjGwQp9iJxgDgFHtg3Ybrw7QY99qa5uUZZekCof8f+qEfyouLcGIbz5FHbwHkJXTbgr0eNeuM/zCd+qQNGKJu/bgZTvfMK8VlCONcNxDqHFsYfvNYWs0ezxEQXlwn4ck9WJijnM+84ROEt+3vNnPWOZYwsEG2HFWdtHurAQGAIPJSRwkGgb3w+nlQ+BFtAYTSuVJlcCRFCI4m4FfKDet2wKl6P3vq5vDYsYuSAab6tz2BAqI9ogW7srGfmSFjfCh5fP835f+vTMDgzFx+eOWVlPDOzM/w6NF7sve/atXK9Ef9v42878xCdcPdmckPJBw+fGYGGTT/jx3bngV+RAUOHQrRoP3p31IapbWzCMbatXgKx5Mn++fputMp5/zMHK356Ec/moEzo9StAdYwyw7uRw0IePyeXxAMPQvfXxs1vmHG0e0Y6TKRoCbpO8dTyvTnD/7gD0YyBBwEqpu4BPUY6jbBolXAvHWg1/o0ksGcQicZA4BT6GH1GuogADAoX87T4jkoXeLVRGldNLdpY4CQ1BgZJLvOrS4frGvWLWpK2troiCPlhRpgXCeqFBi6bt0FhQAZ9M52vY4HWj7wgQ9kY/iEJzyh1VsRqmlhXP1de9vO2aQcLBQVzUUdVm81mBY7u545rEEBI1IDghh3iDExQrz+Nu9EvyHt2xcRgkPJeB1KxlM+fd8C6Y5i3wWZBFhK8IoOv/w8QSAaBXNz2xLYQwhdlzx+ctKbkhd6RTL2G9LvJfnvybl+Ofpjx0gUAxY0A2ZymeDKlXfnkL0+B6tWlXA+eWHywMoKZ2bICq9L52H0d2aAgfSIAyAyAbwgLwIOD3zgVKqaOS+Xh7773e/OwPYXfuEX8vvm3x/+8IdzRElkbRSb7x7YCFAgiuZb9v1GpGDU7YB7jVvFDKPatD3ue9/73syxEbIfxSa3zyl4xzvecb/TaTWsnBeol0J5xSte0aoV8CjGdjKfYwwATuan03BsgwAAdGzrbO3LAPRrEDQMeZD37U8dIrTA8sj9zTB3lg+2bdTjXkQQLHiAhvuIzoP9qhRKs5lH3Mv+r0v7/Nuizfg98YlPbO3Zdj4qIKQW/LFQR043DGxd5RDgxTgYWKmRE7Ex9DWQ4WXyxP2N4AW4DYoSLGbce/ceTV7cXJYuvueeY2kOz8skQCTC0OFfuXIuGWVGl9LgN9M+c5nopy5fWeLBg7PJMAr30yXYm7UJZmfXpeMJADlXyiekKAAwcfz4nemY+QwSVA/Yjh/Xbnh7NuozM2clw09WuAgBea6l4RGugUoFPISjmUPw4AfPpLD/mRkAeB8Z+gCbUlbXX399jqyFXK6cNXKasHS5rmuUxkLDbAh6vgvPKUCB966JME+T6wExpHu11O4E+PLqIg9Nq1H0AHA+PIDxduJmYAwATtzcj+zKFg4Ld6+tW2vfWjGQwamRO8Nv0bDYtSUP1uH82jAjz/UKGTdt1FPfH5AhoiA3Lv9ovIM6D4poACa8V2MTrZBjRzKy8PKeFtsWtdczANIAnRoU8Eh4asZi8QZe5FEXYwRG9lKlE3n+gJtx8yqBAOM37jrdYe6Xasx79nhOEyldMJ+M6v4UqUH4U463P0UMvplJeZs2ERySLiiGeWLi3Jzj13vg8OHbFxQM57MS4Pr1UjVnpXOclcas58GdmUPA8z9+fNNClYF9t+eowapVZ6VzzS5oHexO5yZKhC9QiIXAAJtNPvghD5lNRnBdLqP1PerHIP1USiLLH8+68BGOZm/VvF5zzTX5sUk5Ibfqkgcs2tfWdG59E8BbHd6O6FRdhhi6EpE6cK1BBEPj8L0AycLonRUObdsf/4//8T/yN/uLv/iLo3xlx+dqOQNjANBywk7G3QcBgDosH7rxcmMWCt5C5wLz+te/Pi9MkL7fN1XbMzcRzucpMsxNWgILKwvTtREwCYJcSB43GSNgE2FKx73vfe/LCy7SUD/9/KV65iIYDGzJJ8sllz7tjKs/oVmwVNfvd17gStlhNwKi51VHCUKXoE4dNDEow9zXrl2HE4v7lgTctiTQen4CJ/vTOL+SUiYX57p9ofzVqy/M3r4c/fHjWxeM+qrcf4CMr79xD+bnNbfZmksQlQY6ThngmjUH0zchjYN4WACAUP+aNYiUpVcCsmBRSEQMBJZIb08nQ3p7fpbeM3MQUabw7gMABC8lgIG5QFJFHkRS83vA/f3vf3+OGgDptn4glfcPrHXjxdRz7RyiFBEl8G+ee61N0LbSpW0PAp4/p0Bb4fF24mZgDABO3NyP9MoW4V6bxVyoX42sBQaLl3fSy9sNFS1GlmFsWtsbAEA+MMR2hDgHbRYk4fladbDfMbxllQ0WT6Chiddu4dWngOEXghXW5hWJPvRqQjRo3MP+PiIjcpaeA60BWyimhXE1vloWmIFtGmIddmx12WE3HkW389ZNj4IcyQjWUYK2BqXbdRg3oFLUxLx5x2655faJ3/u9d6foySOyvO+BA0eSUSZGI4UiMrZ1QVxoVXpfCDgx3GtzhKA0M7o1Gc09WSBo376ZHAlI05zej0M5hTA7C1TMZjABFOAAlI1iIB6A8sLjCVDsSd/K1onHPvYh3wKqQz3S8/Xs6z/OVEcJ6moSkQSgQOmqSJfj5MwZToJUNqkj74RvwXcLRHam+ga9C87rPHUZovWklu8FDvp9Z20liF/2spflCqNnP/vZg4Y3/v0SzsAYACzh5C7nqfsBAMaf4bdQNBXaMXbhcR680H2TDWCIRkQ+7qZeYKdOf69r1V0BpSZ4PE1KrYLhbzGVh33Uox6VF9QoiWOoOkuqmtzvMPtEkyXXkyPul0837gi7RxniUgr+EBsSkfC8zW/T0HO3eWBQ6ihBZ9OjNtEN8wAs8YjlngHYXtuuXfPpvZhM4Wp/jiXDtjUbdWqA9zUeKnyAksu/YyF9xpjT/D+aDPq2lJK5K4NDDYKmps7K4eo1a+bTMWuyCmDx7oXnNcW6O+sRXHvtQ1PU7JxGr4V3vpOD4sAI+wMCAQbib9/4n/7pn2bJ72jGg1joO33JS16SuTf2kUZaLEnT+KLzX/SoCBlgEQZOQRBEjZmgT5smRESAGH98m/F24mZgDABO3NyP9MoW2Fg84sSxcApzQ+9yd00W9SAVShM4bpBoRt0jQOiTl+ZabbZ+HQsjX6+aIboCBoehn+pZGP7STGYyh0c//vGP59Isec/IxzNUDG0dfufxNAUwTe4z5JR5aQx/k5RFt/OKltQ8AvdkIa7r+9uS9JqKDTW5z177RNOjunSySdMjz8X7ZF8cj7b3JmVw993zubHRHXccy976zIz8eikJPHr09gQG9DdQJrhxgUNAanhnZvqvXn1O4hBMpjmnYnhnek/mFsr/nGNl+t3u9N5oZX1OJgA+9KHrh54m70i3KEHNIfDvOkqA1yLF95SnPCVzD/xhjAneBFFPxEx9/mK1KuT5P/KRj+SUhO8nRLJ8N8A4XkDT8tcf//Efn/iP//E/No76DT2p4wP7zsAYAJwmL0gnALDQWjh9qLxdnp0SpCYbdjJDRVTDgiTk2G1jYAn/+BPse4sYkY8f+IEfaHKpe/fpBQAYeupmNtGL0O/3c2VEve7J2MyBWmP500EiQ3UYGyAYZfg9RI8idN0kZdF08txnCP6Ex12X8g2KbjAOojY0E4CrxRqJNuPujBIAIiGw5G/ghkELj7PbuRmhUHtrUoOu3bEIwV13rUh/y6nflkl9RftB6SClQBUHuxdK/c5Jhn86pxGmpnZkdUHjvP32LVm5cHaWkJEWytMTj3zkxomHP/zcfA9tgUq3e+sXJQhQUEcJAH0kXLXwvHGREuvCb/3Wb2XQCRTYPHOAqpeqZK9n6DhgQ4lqkBS9e9E/xDmjz0GUIfaSpL722msnEAEf/vCHN31lxvstwQyMAcASTOqJOKVFKTx3nrKPkuGTw7cIkMds6pVD+j52H2cvUZ8AGNC/xSWQP4OEzSxv2WaLTn0RoagbEHUjKzIecvqdxME6rGrsb3nLW/I86BDWZovwex3GBobqvLbFrV9ExT1YlIVmea/LRTTsVsoX0Y0wsO5P6Bg4AazaGoM2c9l03xBY8u4CoKIdxsV7jXnv5EAAn3/0R3+US+maSu/GeMzBzp2HEhA4mJ7RoXTNqWTsj2XZYmJEJaJWAAAOwOrVO3MXwm9+844ElNYk0HRBCrWXagByxt/5nSuS8S+VEgxzrRbZRAeiyTx5p+JPJ5fAu+aaOCUBDAAk376IUxAJMfmlU3jgolwR6hfWHybqVSsfWodqgiEQh/8RFQfmwR9dNClttuUrmCMtiYEHwFXTH+mP2IzlhS98YZb7NQeki3U2tfX7XZO5Px33GQOA0+SpWvQtmow/5jaUHotA0xx751TUtfbxO4uyawAIvfKx/cL5vaZbAw9eiwUowIVFo1ee3EIj/BmgJhZDfAfseqAhwv6jMm5tavujJSyjX4senYjXLfK5AWZCMAYo8K4wsCdKd6BzPqL6QDRCVKLmQHgvggMRKY8AWXgLcuOL2QogIEw0l/7sSsBgf3qHzk0GF7tf5cA3kne9OYX7z0uG9swcDQghoPn5ycQtOSuVASqJVG1wn56CcTM+bVUXm9xLgAHfPp6ESFf9LLsRDBFoRbgCPKuOkRpTfuhdDXCIHNskqsLgAx/dvPmax+KaOAv/63/9rzwXRHoAAQJgbTgL+ghwOF7zmtfktEMNAH7t134tj+UP//APJ+if4PsACt7xfr9rMten4z5jAHCaPFXMe15xrza3wxhlizEQQGLThxyiQUhG0gK9wsWd3nyTKcYiVnZoEUNGi+hFr2NDl1yqIbx+4MTiYvG1KDTNRzYZX7d9orY/CHoWuPCggAXgJRj+w15jlMcFeDNeLHr/H2Ovw+9Rgrhc6QD3aCzKDoWUQ6uh271340AwHjUHYlTP3Xu1Y8fR5C0fThLZt6dvYVsS7jk/5fyx7kvjIQ2JPv3pmZRiW5dC7tPJCK5Ihu1oAgmlhj+2WgciKiUA1MVGCTw3KbK6uqVflMB4vKM1l0CEytyLoEixGd/v/u7v5u/x8Y9/fL4FRjUig8oU60iMdwhfaFCaLebCdwLsKwHkqSsBljZsSjaO8zz/+c/PY64BgGgW4x/cIKCGsqd9+/1ulN/ZqXSuMQA4lZ5Wn7HylPot2G2MssUgmpnw9BmyWGQ6RYO6Dan25ptOr2MsuAEuBoUiI9Wg2iA631nUoi9528Wk6Tj77Sd0bZ5EHCyQ0dWtrjZYrja9neM0Ns9UmLfujxD7LXV/g37zJiJh3jz7tjyE4EDUxEg/qw3roFRNk7GJRuDS7NhxJKsU3nnnofT3ofS+TU38+Z+fmYy/HgTTybNenYz/RGo7ezhHDfptgGo97ogSNCV0RqdLURx/eqWjai5BgOUYl//vjBJwJKSHRK/iO6Lc5xlR+0Pgq79PawQQ0U3+u9v9u6aUmKhFjNnPmhCU6/N1AwCiWqS0Ixqk3NDzf+UrX5lJvr1+N4rv/1Q8xxgAnIpPrcuYeUYW8V5bG6OsWYY8PhKgCICPk8coJNjkI+XNN20ipGyJYeL1W1yahnGN6cYbb8xcBwTHF7/4xTlPfCK26DzIs+mUOo7e7+Fp1216I689CsJYr/v2TkjZuH43GeZex5lfBqnughiGNYSKFpvXZpj0oGBAeI+dEtFNniXAR55WKDkU8LqlatpWSkRqQRSs19jMx2teM5k0KQgCHUrgak0KZa9KoGAyNQU6nIzy/aMAg+7HNTs7ONZRAsAg0lnu27dpbE3C9J3XDlDQWXUQ+9VRAs/Id+pnDHfn1k2BsN+9ujZHQtSg23rStP1vLwAgWhFVNpQGvVcBAHr9btCzOddm9jEAACAASURBVF1/PwYAp8mTHQQAlAapmW8iJBOhYYbZYirP3iasKlTImPfL61k8eQAQuXSC9IIFfNBiVpP8GCdEwGjyw4MM4zTqMr5er0nkrJuy6Pux9mPso5LW5Vl7htIQ3bz+tq9+t26C/fob9Du/vLFcNKa6CpJBEZ9e52IIP/nJT0784A/+YAapvTzOThnmMKwBwmowA/gYG8MRin69rv+Wt6yc+PznVyZPuRh7GPz22yeTxv2hHAlY7BZRgkgbuA8GVJ7fdyO33ebb7DWeXlEC7zfSnbl9+tOffr/UQZxL1YGoQa9qoc5rugeRO8B0Mds4BbCY2SvHjgHA4ufwpDgDJM9w99pCB39Qty6LfFQR+Oih/zYCH64vr8dT6OXRhaJb1HZbzL7whS8M7DsQpX1//ud/nuuHQxAmCICMSp2Pd/4wqott0ds5r+ZJqoSxaKqY1+vZRJvXGHuosNVgpk0+3rvguYmOtBF+avsi13ntIBhGn4AwrJ1gxrNS2sdo8AKb9o9vO7ZB+3cLv0d6hrGV9mqigHnTTZMTr3vd6gR2jyejPJGA7GTKSx9NeemjmQw4yi26aQKbjH7MuWvUaYPFpDzq8QYosHYgBwLVEaqP1IH3kifv/wfphdSAgQgQ8L6YrRsAeNWrXpXfryABKhMGgqUz+v1uMeM4lY8dA4BT+elVYx8EABBtfMS9epP7gIUU5f6E4SNkinELrbfZfNi8gc6QfIRVLf4AQh3uV9PPg+8mHVx7/cq+6BTw+PqVNQb7OIxqtOgNw8TwDKv+J1oBJMkJ98u9tpmzet9aEjg0CRjSmkvQy+uzv1ytue1H1Bx2bIOO4wnWeW1gJkrAAD3Pj4FiYEephzBoXIN+b5xf/vKXM4HUewGkRrOmeGd6vS9f/vJkSkOsTIBrMrHSjyWhnKPp+xl0xea/991EGgchtzOy1hklkEaI7ze4EG2iBNYAc0E3oAaexmGr0wYxNs8UMOnUJ+h2l4DzS1/60pxmHGZT9vnyl788V/u4L/equgBp0b2/4AUvyMRCY3/1q199b/vffr8bZhynwzFjAHA6PMWFj7JfBIAhZ6y61aLXYju8MmIf73rXu7JMp8W8bU2/ayEP1ZKtPlbCRL36EPidvF0NCsKzxw/wb8daYIxvGP3+CGEHKKjV/wCCQfK0jAS+gXlGeGpTurSY1yzy8bVyoZ91au3Lb8qne4a9gN5ixjHMsaEAGNUdjKp5q8feJC3V69q8YmkA0aphowkhhsSDrTtW1pEZc1+/L2FYh01dNJ1LRosxjnLSJpEg70akPCJ10EmMZDR7nQunwveoTK9fLw/fU/TkAOjMRYAE91dHCfx/XE/ZIXEiRnu8ndgZGAOAEzv/I7t6iAD1OmE3A+sY4TKiILXYTniRcrO8ybYAwKLAkPsTMrPOibDUyzAxrH4Xhj28fmH9N73pTTkc+7znPa8RCbHppLp/xL0ABNEVrTNtYCxABwNLXyE8nabXWYr9ajDDgIXgivljCM3lUhunJvfFiHr3LP6ACcIjQ9opsFRHN/oZp85rApvkaRFWB3XB6zw2SIhSJd7NQXoRnXoK3h1RjLoL4qj4G/U7J1rWpKlWv+fRjRhZl08C1gGwAVxOQT8+DmDhO++sQOgWJQggHyCA5//Hf/zHWQhovJ3YGRgDgBM7/yO7+iAAIOzGwxVmt0XpFWPBe+rFRPexqrVvwv6Pm5Fzs6Bb9KOlbC1M1O2mhTgtnoxr3EswkXUKDJLdyCasy4m6Md+jptr88HLMV5u5WMrxGhsSJS+YkTBfNQdCeDTAjOex3GI/kSqRiuhXQbKY/gaADwMuehQy0U3m3HEMWBvPutt5u6U8atXFYcio5sM3JLQPmCwmQtJrLmoyKr7IBz7wgQzQpNUiutGtZNVxHAZ/+gH6+ro1wdC8P/e5z80gEFl4vJ3YGRgDgBM7/yO7ug/TgtFrYygYMZ60HB8EjyA2qHROSSA1rTb5WouXRZkBco0moXLeNQMmBIvkJ2QsBNkk5DmySaxOFFUKwssiGYx+hIEt6sMS9EY1VmMRnenFojf+0Nrv1knQ+EdFFuu8J96miA7vv+7f0PTe6xD2MP0N+l3HuZHWcBEGdRZsOt56v24tnQOIRZSjHxALFczQRFgOsOl58caV7nqf6oqDiBIYu8gMsGCLaE6bOfJOIO5pZfwrv/IrI+mX0Ob6432/dQbGAOA0eSsGAQCGLD5s5LV+gisMB6KNtADDT6qzifdoDBZWYEPIUilgkwUsjlNPzNOnaoiQ+IxnPGNgWHYpHl9wIizcPOuaQNWLoFenDZayrj+IlObKIjwIwNXzU3vaDGuQxeooQRug123uI58uNOw9a/L8mzzDXv0NgmDoHgaNHSABmoBKxr8NMa7JGLvtUwOx4HAwuAEio2mOefLtKI1t6lkPOybHRb8FpEJbsPvrc9ZRAjwcf8wxkBBpjybCVs5z3XXXTfzqr/7qxO/8zu9kdcFRvReLmYPxseMywNPmHegHACz0mPn2gfIHhUotUCR1GRjhzCZlbvKhcr3R7MPE4hAM2oxJ7l2YX4hdiJAR8XPh2TBOwzL2B12/c8GLvvPATxNRos60AcMa3fhGXdcfczyq/gLhaddiP3UZn/EDfk0W61pwqEk+vc1z6bZv5OM/9alPTXziE5/IaSqgo+YS1KA19BroIfCum9zTYsfY6/huqot+BpAYHwO7FGH/GI/n/o53vCODbAJa/XL9nSF/32E4Ev72vVpPah5EPXbOxCte8YpMZBRl8IzG28kzA+MIwMnzLBY9Eh5OvdVld4xZKHC1udCg8sGoOQ+P1OIlxNqri2C9CEV+nZCPhVyL0PBIujH2lzL0biHjHQIwjP9ivPjwVuu6/nrsQFWb1IZ5CuW3pa6dr3Paxu9eBo09wtYnovRQSJpxkbvmjdbkwvC03YN/i0gNIvq1+TZGsS+w672T+gIAgpTqu6qjBG3fmW5jq7183yvHoF83vugz4DhOQLdvIqIEAQrMv0gTTx+36IYbbph4zGMek7QSXrcsEZdRPJN/TucYA4DT6GnXACB06aPszoeJyR4Gtult9ysfFBIMpblazc11XK+bNngwgpEQeRMWlQARIgC9PLM69O5YUYMoJ1uMpG5UQhiz6y+Wbd1tXqMUrq426CyF6wU43KfIinu0oC43s39QjwD35D1gIE6W0sN4BsYGHPBQAa7aW413ZjnSAL0iGFJlIYPcCUwiXRNpg05Pu62wlet86EMfym2Tgwjcbw0ARJAkowdCm4gJEKld70c/+tF8CWADEfTf//t/f29r3qbrz3i/pZ2BMQBY2vld1rPzdIAAzPvo8x6LssWQF0kso8nGK7ExkFHSF8e5DkJPdG7rVPzzwfvT2R0sSvvkOXEMtPJsW2JYRxBCNz0MK+MYveMjfD1okXOf5ohxHZRDbjJvTfapc6vhsUb/eOMOeVc5YcAEkOqm39DkWqPeJ8aO4Y8J7v/ragPjX450Tb/7Ck6J96yOmHSr8vCzWpNgsf0Nmsw3BjxgwsNvCuq6edp+1tlNsFdkSbj/f//v/z3x6Ec/OnfQ67UFSVIqrAlJuPM8ogZy/aqHhPzdnzUE8dj31bZUs8l8jvcZfgbGAGD4uTvpjsSkFxJF8POnRu08CN56tMkcNPg3v/nN2WuiAmiBVMZlcaDi5xrK+nqRvHgb0gDRHzwMf9QI+//rr78+kwub6ocPGq/fd7LeeVGdnfjMCa/WXMkLM67DCsg0GVPTfQC3ADKiN8CNHDYPjPEfRQi46VgGGdfgSQSLvhtBrybnDVMK13Ssykf9kQJwHe+AiEkQOAelcur+BuZf6oo3Xue0RwkMGWLfT1OOSb95iNr+iBJ0KgACM+YjwGP8vtc5nc8a4fsA3gfNXed5gFWVO96LN77xjQO5Rk2f8Xi/pZuBMQBYurld9jNbCHnr3Rj7FgLseiV9TTbeJ4+at+J8FhELq8WQVzWolEl4k4Fn7C0s0e6XB7JcWzfWu3Fb5N1PJ8N/ucbV6zoAknkHsqIJTYCC5e4i2G2M3gXvQPRw6GUgaoElxkk4OfoyBCAbFckNd0Qv+Z/8yZ/M75pvQDpqGKVI9xz9DSIyY/ze+U5yYZuQuPMyqqJm3j1puCZVNW3fxyB1GjMQSWzHt/ec5zwn6yQANb0iHBHyH7b8ULvxl7zkJdn71y647fy0vdfx/qOZgTEAGM08nhRn8bHXUpz1oPyO8IYmOm02nrKcO+9BjlxnuUFbEOp0Hwyi3//5P/8n/1sd8HLnsWMBZhzkqy2GAFEYpkgbWORPVE44GiRFB7pOr7Nm7IfHNyxjf9Dz6/y9a4cSohBukyY59TkcH+p/YVi9C6NoYAPkOTdFS8+U5zqoyqXt/ffrb8CoDpKQjs6HQZJcLuOIwOvaAHuQCyPCEXMvaiIqMWzIH7B57WtfmyN6AEdn2q/tXI/3X94ZGAOA5Z3vJb1aPwBgEeYtaaLTdGP4denjrcgbNg0JWmR4ZYyYbly8vSAxnQjjLyXB+2K46ra4y1nC12vOI18tZdJWmKY2TJ6V59+Z8mhTbdBtjML7ERYeFPlp+l7Zr5am7Qy9M6oMU5PQe1Qg8PilpZbDuAapM4AY4+ob6exvUOfTl7p6w5x6Vr473Tt7RVgiwmHs3hmA2AacBBBuyuGQQvuJn/iJDKh/7/d+r2f3zzbvxXjf5Z2BMQBY3vle0qvxhixOvTZhuiakO+d5y1veMqEC4Bd+4Rfyosr7H7RFrt8YtOPU4e/qq6/OzPogt/l71B5ar3FFa+Pwgnq1J66P71bCN2qjGtcTVQnthMWWHjqn51b3NgC6hHyHFfqJ2vnl6H9Qh94jSgBw1gJLddg8qjekmoA6f04EuDTv3SIcnoWfh4S0+1gsGBv0/QHrmPe+OcC73+abQEQU8geMvTcBaKLpUR0l6ARjdDte9KIXTfyH//AfJn76p396ye9t0L2Pfz/cDIwBwHDzdlIe1QQAiAD085Kwu1UR8Jqdz0ISBrTfTQdLmefh/HKQwoqPeMQjsmcSuezwVGNh53UsBfM6jJf6amTFYRffKIOrc/FhVIdtulN7/aNo9NLrudRpgzCq0bwm5r9bLtpzx9oGIIR0m0g5L8UH0UnqjAiH+VdlIkqgEkGo+2d/9mf7Ctosxfh6nTM6XwK+5pthrQl6iylb7bxmgG7gx79FurxTvb5x+6iOkDLxbLspSYbIUh3hcB9/8zd/kyMLogZC/jqG9qsoWM45H19ruBkYA4Dh5u2kPGoQAOin62+xFeq1yNbKf4CABYOISrctFiD59T/5kz/Jdb6DFACDnGehjPBvNFBhVC3swxpsYAOAcT/CrozFKLcwqjF2i2RnGVw/ghtDoPRQFERUpWlaZVT3MKhSIpjgQQYb9jmMarz1ebw3SlmlS8xfAEspJ9wWYezlns96fCHYFCWwdcSpk8PhvakVI3nbTUPvcU3zweP3jK655pqBUx5Nhjxjxr8N38V78/73vz8rCAKHjsXxEW34uZ/7uYHXHu9wcs7AGACcnM9lqFHxVn3kvTZhOzoAtddnYeJFWVgZ7s5Wt730AxwXxt/fFjR1vz/0Qz/UurQvPI4wqsKRFvi6pn9QPtgYRC+UWPH4SY4uRz7YdTuNqvupQ9fhQZtnURGGX970ZNhqMIbopxwRACMgNWyEYynuKxoMMfoAqne4FzGyTtmMqj3voHvyDgipA5yeb5N0RK/+BvHuDCqfdP++OQAA8O73jUTIf1iuhPTCv/23/3bihS984cRLX/rS7CiQF/c+a8U83k7NGRgDgFPzuXUd9SAA8OlPfzp7xaE6FipzFklhw9pzVY4mImB/hrXWD4jSPhK+qgKCH+DnozC6kU6IsLu/I3QdoKAeK6NVE9WWi2PQ69XplDHmobonRoswins4mTzrYKkz+nLpnYz9yMUHIFiKErZ+n2G0ro50Tr93rNZTAEoD0NT57FHPPY+fVzxMhURnBMGz6NbSuS6fZHTpfNiACM+nScgfcGqreQHM/sEf/MHEG97whonf//3fz7og4+30mYExADh9nmUus2N8em0QOy8fAECeUv6Ded7NG5VX/dM//dOJpz3tadm7px8QHn947G9961sziUid8VJvPKyIEFggo4zMwidNQVCoM3qx1GMadP6IrgBTjJfN2EclYzzo+oN+b3xywXQHerHUu0U4AM1uAkuDrtf299HLAp9DyLobiRMIFfV59rOf3TWk3U2GuW5e01ZSt76HaIAkYqW2f9TAs577yMcj5iKOPuUpT8kh+H4CUaI7OAFAQtuQv/vEAfn5n//5nPOn3NmkBLjtMx7vf2JnYAwATuz8j/TqgwAAVr4FQw5VvhQY6BU25DkBE0KZwIDSIp4sYxvd1ISMgYdB4fmR3uTCySJ6YZHjATVpWrMU4+h1zhDN6dZSuFuEo62M8WLvxbNkSKQnRHDaPMO6hC8IbqGeFwS3JiHwfveAK0GLPmSae53v4x//eOZU6GrXJKdt7t173QHRz9rKATOOxidq4jsadVSh19yY74997GMZcPhGA0zWmgrmwfh871H62jYyZ06F/KUWXvnKVzZKaSz2nRwfv/wzMAYAyz/nS3bFfgCAgfy7v/u77MVj5vdrAdrp5dAPkALA+rXgKPsZtbfTdFKMH4DhVQu58kpC3jdK4EQK6hK45cxl1+MT7m/qNfUj542yUqJmgY9CjtZz62SNtyVG1s++Ht9SVkjU1/RthIcNGEQZXC0HHADE+ERMcGba6jY0fcc75wMAB9REaTq3AJP1+IMMLCLmT5sqm+AV/MZv/EZuCf7Yxz52UWk9BEFNiHyvOBIhFIQ0TDZYdME8KxuO+xv2d8PM7z/3Y8YA4DR6A3y8FrPOBYSn7qOyiCABRTi6361bRBhSniEOgA9V2kDuXTqAlO5yEaxinMGgl4Pmtfbz+Lqx9UOONkhWTTzGNq8Hw8FzEpFYrMxwv0qJEMpp62XzGHn9vFWL7ajvP+aqV9qgJkZ2M0reXfPnePnqpRrfoGcagKYzFw80A8DmT1XMcozPO8UQi9wh4PXz5KUkcGEc4xuPZllN+xsAoS972cty2oCqX5N1YtBckgCXntOr4SMf+ci9AIAk+POe97ysDHrddddNvP71r59AUrYN+7tBYxn//ltnYAwATqO3ohMA+PAtqBYNCz4gwGgEgajXrYcX9upXvzovxv62+NXkNuCAQYnQIy9VGLhtqLHJ9FuQEZ94/sN6re4jyG3BJajLsIwfsBhm/LXXulgiWK/56GaUAJqmMsZAHBBoMQYCh7nPJs+q1z7dlP+i9BMwAHiUb3o3GZ6m4/NeROfLxYyv37GeL6Ifwwj0MrRLzYMAhgJg+G7j/ew1ThEvHraIEyJnPX+dIksiZdHfAMgB5q0LjDHj+5rXvGbk5ZTEpAIAmEvfMafCOMyvd5JUOSdlmN85/3hrPwNjANB+zk7aIwIARFMZi6OPSR7QgiAMZ6HtVafv+CD6WVTf9KY3TXzyk5/MXoHyPpuP1oLBCwqRnDCoPI5R1fPHJIdGPnAxCrW8+uFZZGtiof8HaMKoNgE0vCYgywLaWUmxlC9KZy7bQt4N0AQRDFjjVZ+o1E3nXASgIRhFZ8I8igrIqbeJ0Lzvfe/LwOaXfumXlmS6gyjJCJu/aK/drdHUYlQX68Fr2qWdrhx8N6GezhuVktCzA8hv2jY6ZKTf+c535jbBofWB9Ivvo1V32whTvwdQAwApDQ2DouW441zvda97XX4HhvnduDphuNd/DACGm7eT9ijoWpiXx94pNOMjZ1C7yfrWDH+GxB9VAj7WCPnz4nykDLGFwsabgNoh+W71/H4XMsAWz6ZksxBVMQaGlWFY6q3bot4L0NS5YIAqQNZSj7Hf+aOuPECNRR5IYxR4hSdLS+Ea3PFaKeaJTNQlfABNTc4DyroJ5XingVXvyKg340H0i+6H/d5d72uE3GvVxWG6CEq1ITf6xpB1e23RYTCaILXtsOh9edWrXpX7B8jBe2+o/X32s5+dePe73934W20y750AQPjfOhUbjpE0AAAwzO/GAKDJU/jWfcYAYLh5OymPsgj5gBmkbp6AMDAWf00mqg2/mwrj3+0GhdCF6SxKvCGbhcIirGcAj8GiabMYBUGp9rKFNWuBn255VIQm3oH9hNSbgoZRP5ReAkUMqUXe2M1D24V31OPsPF+Up5l3okhhWE8UMbJzfN6LEEXq57V26ikEOS/en0Fd+BYzzyJdQv6AiaqXYba6WZP3JSJMAQpqQOYbEnGKCINn2M8Dj5D/sB0GXQ8JTzWBGv+l1nboTAEgyFqLuqUAhvndOAUwzBua1vv0MR4f7tDxUSfjDFhkej3STlnfbl5/23siLsRgYwvbRAx4L7QBgmuAi8B7C3JYDQgcEwu6qIVwprpvDOu2oiVtx952/0itSKXwVBjW5S7fGzTm6I4XhqEuT+tGjGwjYzzo2k1+H0REC79n3Ea61/zXzY6iC19UeSympj/G7hp0BaQmGMdRSknXfSU8pyjh84xo6zN8vN9B2zAh/zind+DGG2/M8r2//uu/PvFjP/ZjjfkWg8bV7/c1ALCfniQ4B0ECFFnkXCzmd4sZ3z/XY8cA4DR78v0AgEVHeJEcsIXOH1s/r7/t9Fg85TCf9KQn5Xyza/7O7/xOzitGK2JGILzm8E6F+nldFkMhYYt6r7Bv2zGNYv/oleBcDFd4TFG+F6DGIl83Omqr7z7sWCNlIspT56r7na9m68f4I+we9zDK8Ydi3qiIiMZKoEY04dprr83vmq0Ou7cZP6AqJeHeGeOlru2PCJnogD4dIgIid3X3xnr8EfIXCQFO2kaepLj+63/9rxMf/vCHM8s/onjDvnNNjvuZn/mZiQ9+8IM5nei7FuWwRiB8Mv6cEsBfj4EYz7C/azKe8T73n4ExADjN3ghh0zDsnbcW7We/+7u/O3vjozT8vaaRJ2Vxk6MN7sHb3va2HPqzAARJLZjcFry6cyADa4EIHoFFsilDfBSP1jxZvACnJoarM2xdj989LEUePoiSg0RzmsxHt7B75/y3NYwMF6lcz3jU3QWRVL0vT3/60/Pt1fr6QE3n/PdqNIXk5xkvV5+G6GL45Cc/+X5Ao7MddYzfdwFAYflLi7X9BhyrjFA6Q1nhKCMb5j/AvWcASCEluiYhIWTk0B2RdpAutPm9iEeUFxuXcsHxtnwzMAYAyzfXy3KlXgCAIeNtq7WFwsPDXkznvWFuyDgomQEAgIg8q8VQWBMg4AFFNUJUGgj1hofK2IXqXHQOHCVbub6n6DEAUMlVD5MnraVoRy1QVOfSl0qUxvgZ7pj/ThljoKYfR8OzQ6SL8rS24GGYd6w+JsbPSLkH4w8pYGMPWeyokhjmGQ8zRmkyDXYw3pXA9doissOIRtqp1rMA+gZFAsglE+9SzfOTP/mTSx7ZEM4nHibSABhoHiQi2Lm94AUvyBwVRMTPfOYzGcQBAyeK8zPMczzVjxkDgFP9CXaMvxMA1KV98W9G1GIYC6KFpa4nXyqDGkM1xug3L+wn5MdIPPe5z805dWBAeZLSw4c//OH5sIhYRE1z3TnQot2mc+CgR+5a0VkQez6kjwcd1+T3/fLwcQ9NBGZCajgY6m1y6U3G2WufOmwdkZpo1BSh6+jUhyuBbOYZNylnW8y4mh5bl0/yQIWgzR1J6xj/Uglc8YzNDRAk8mX+hMV7bcCLb8NxIicxr3WzpqiWqNMeIbLkW3njG9+Yy/yoeALcy7F53r/5m7+Z+xX0AwDAF0XF6EWiFPC1r33t/aIJyzHef87XGAOA0+zphwxoGM0619/N++pmkEZtUOspjjxwdHbrNiYRAUSlH/iBH5hAHjJGmgT+/cQnPvF+gCAW9JpYyCCFMfV3E4MaYxSCpaZmHnn9S103b/ydC7qx1DyCWqDI/sLVQqxLJTrU9pPolDEOEBqKjYxT25B10zEoWfOsrrrqqqaH5PcphKUYqzrtxKBGB8F4BqNI2yC2MsL4N01K1qTr6hLJfpGTSNuEHDDODfAFQHgGo1L1azLBIoxPfepTs2iX7xAAAKb92/dEZEgqDfDSshu4ie2Zz3xmjhQ0IUI2Gct4n8EzMAYAg+folNrDYujPsCS/bga1bgc7LNOaYRXut7haCNrkIB3z/ve/P9faUyqzSSOIFGAxd4ZAo3NggIJ+BrV+uKGWB2icyM6CnfX8UT7GEFk4GVOGa7nC1W0+AHwJwjyhi8CgWuRr1b9Bfe7bXO/tb397fqc0A2qymctaDrlb5KRbB8HQswhPu23ExTcpqsULR+DrtwUfYdi0jp4fwv3C6yJqwuuqQpQIL3V0T4oB6ObJ24B5ht668ru/+7sZyCvx9R4bH6AT2zOe8YyJa665ZgwAmrzII9pnDABGNJEny2lCq3yUJD8eahhTf/NGgpTn736GqA6nt5V57TenN9xwQw4vyyPaGB1Rg8c97nHfInXcaVB5TLWEscVcqNXPl8Prb/uuMEg8On9EM/x/8DiG7QvQdgyD9g8yZ4jS1O9ENxljv6/Z7m2iNPVYojV0EwU8hFTGpy3A60x78LR9A7VqZDcZaak27ZajAU58k73mMkL+jCKQ0BbgmWeA6H/+z/+ZhX1qQh1gBpQt5Wbc+AxKg3sJM7kn3y1hL06A+RmnAJbyqfQ/9xgAnLi5X5IrX3311TnkpuzOAuDv6Jg3qgtG6V7wCCw8AQhqTX3GgNfv97yZpQyn4xAAAM961rPy/TJIqg10PuwMD9eNdqQkeKgWI4uX8Y8i5DuquTbW/7+9e+mZrKr6AP5M/ADGxIETo0MHTDTxkjgwKjfjjRgRdEJEEREFAVGukbSYxsQGHCjeiBI1IBIRBROD7USjCZpoHDjWxDDzK7z+tu9qN8eqc6tzqXpq7aTT0KfqnL3/+9Ret/9aK/gSwaCvBao9QLSriW32YqiFls0QuwAAIABJREFUust8CWFWNa4E4drl7q/j8MEjmKovw6Z1wEvIhBueYKU87TqaVQujHXXUJPAOcb0TcNddd11nJcshLv9Nc6f433jjjSUVUmpkCNVd1znk+5QOvzmVBQ3vLks/OmLy4n32s58tiqyB9Ot9CRKgyof2KUmAQ1Df7bOpAOyG39592+Eq/oaFK/3OH5YFReAtb3nLyVvf+tZBzVb6LDBikKEQRCMTngNWvz9LsL+t3SBMWHtPPPFEOfCt3dCMxKEkZ9ycWf0OctZKdD8kkBymUdd9yVbCTazhyWIlWNsw3BS2WaJAUV17gHLSt8X0pnfKPhBe4WmKsEcdh9+kWLCyvVtc9JuGd1AsnUBWwnouF3jdF8M6zMsavGfK3PIWbFPKWOdy48e2P/aOSK8TQ7/rrrtmW2PXWeBs4ZHTw8Cg1ODx2Nuo7/HVr371ArGXoSILAhGQB0h4wOdzLIdAKgDLYb3KkwgHVq62nJQC2jkBp74/wegPUs5UAjrY6Z5LILBOI5e5LuHaZSVOBVbtdhWDJegvu+yyYlWbl+JDqhjWvQY2ESPrzntzW9hRjY71RLASXkNHTcwjVKcuUMRrwusyl2Ctq+ZRyiL9M9zu/ibMxZXtzbXXXvs/EAWnQ1GfsEKH4jjk835XP/vZz4oQwyEx5/BwUArMt26JTCEQuvK5MS5/7ylioeI+jzzyyMk73vGOIdPt/CzrnMs+QhFf+MIXiofNnCkcfjvWw/KP8uJt1zofmB9YHIFUABaHfN0HOjQIBIpAeAkoCKyUCBmwRIYqBHVOugMX6SiEfJCq6lz+qbsG9kGVNYbhHznfyhbLkeY6ZfE7iJVkhUUdwwymfp1pAJ8606ArF7vP/HyGECFYKSR6OkxlsUY73lgDRW1MgZ86C2Fsa+a+WNSfa7a0JVBZjfLGKQOEX+xBHUunQM0Zeqrn6HdEGFKuWcPNEb0B7AEPFSXK3GTERDvtvr87+3fbbbcVz4F+HBSOqUezfG/cHxEXUz/K+Grig/1vtF2ben55v90RSAVgdwwP+g4OdEIHQ5hCwFMgRer1r3/9BR6BQ7RNEHH1cUNG2lcXoWtTk525Xe7iv1z+GMnYx6Gc8AhEzNG6H3/88eIRwB0whA0ImOaB3rSwgwcRXIihueT2QbxYZgNrau4+CJuY7l3tbEOBgtnaTZDg1SzD7N+sgddJDHxOl3/86KM/QdQ5oJhEQ59tB0N4JqRx+q1QCCJs0LUH7knos8C9p/Lt5+J7bFIAKDlwZf1vauSz7Vo269lPMZEKwH7uy6qzYplozBEKAXe5gjxBLCQcHTpinKxowmSXEqrhco9qbQ7DcLlHDH7sIRdFhygphFZX+qG1mI/DzX9jVLOupCgZ+hyI2XLz1nHnuoSuA52Xoc40QDzbFvaANxKd+8FxDRLUpj2IRkH2wHXuXcoTJWqpEE7fH4L5RaaE+cI/Qk8RNpia3OmZrG/WvDK7XZ4GyoLfEgXloosu+h+Wf70HdUthygUyrTABPsOdd9558uCDD54oIzznPhDasDPvN77xjSWHn5Isbk/hj6GAj+p/flvbrvWpfdB3r/Nz0yGQCsB0WJ7aOzlMpfbwDiAVOoS4LVnVwgZ+/FMwqwPAmiUeLuso7jOkWl60dDVXJLoxh6W5WH/EQYUIHOK33HJLEdQw4P58wxve8JK2sTUpzGFOAWmGPcxHShTLf0l3ep8XNSxsws2hb/4wqJvVDPVy9Hnu0M9oNOPdU1GPoKLkhQeqLZ8/YvG7KlsUQu+A7Js2L1k0GooW131d/eHlOHPmzMn58+dLho9wh3RXQjVSDIfi1ufz9p3CR7lFLvS710GQ+5/CGkPITBiAArDt2hgFoCttss8a8jPtCKQCkG/IIAQIQ4eAVCNkOgLsT3/6UyEShoeARTCkC1ufCUS1vLq4Tx2Dr3Om69Q57vSplRPCMO755z//uYQJMLBxH4xnn322HJz14dwMe/By+DfCiitYzH9XYdQHxyGfidS0EFoEat2oqWbqRwx7jJI1ZE7Nz7JKvZPY512eiWY+v7VsKmPcNh8Y8I4JkfXN0w+X/1gvmaweglURofvuu6/0EMBdse77779/F/h6f1dxIkoqzoX3HEF1Uwhg27UhIQBpgQoC8bypXeB30ldh6r2g/GBBIBWAfBEGIeAweuihh0rubrjTHYqIaxEy4C2QuhYKgTx8hLMphQPhE2mHDnJCnxASKnDgOjwcOkscHMiDQhaejU8hbKDkKwXJoCCx5LhRWYnmx4tgjr4TQpUyUPc06OJSDNq4AR+OVFIu9bZqdJu8HEsVKDJH6WPCMbukIDbLGHuPeAcibBB19QM+lu9Pf/rTl7S33gZt7fLnvu8KETTvY426Hd50001F0H/oQx+a9DfU9kpQ/lj+wW2QvmfdvIDK+yIABgmQB5BSZLRd6/sKOl8oHO756KOPnujHkWMeBFIBmAfXo76rgw/hLhQCLnKCLRQC9Qi4kqdUCHgIMPwJYILTQR6HuGc3D/I5N4hQcXhG+p7qbJSE66+/vuBCiaII8JTEARsu97riIny2eTnmmn+UyvVs3pMhSkiz4h8vxxwFiuBL4XTvqTkTkS0RSlmUMa55BOLfQg1tLn/v41/+8peyfzw8QxVR7y+C33PPPVeIqRSxJYeCPArzBCeGh49gplR7hwl/XgCK/fe+972Ch9F2rW3+TXe/d+nuu+8+0TVRm2AK9VAMl8TrUJ+VCsCh7twBzTustd/85jfFguC+ZDFHHQI8gl2qFYpTE/51wZymu9pB7rCKNsgs1aUOFEKFtYpBzU3tv2HAba36oLnChjDDV4hRV5ujGIR1GpkGU4dZgjMxtFTutldxE5cjcuFDsenrRo9nRDaHFEnYwRIOc+X5w/wXv/hFifPjefSpuhgNr8byOniIIqTx9a9/vZO4ekBHwcapev+3KVOf+tSniofs7Nmzs6Q6Hjp2u84/FYBdEczvD0YgXMyUgSAW1tUKKQRd8VwPdThLiXJAsEDaCuZEulaEDaKwTCgElIM5FALrwp43R65qiod/c8iLb3omHoX8camGQZZCLqMkRYEV623m8k9VYCnmyGI3x65MicEbXn1hm8s9SHnbPDXhTjdH7vTIwMABEHfWS36O4V198sknS87+VVddVUI2/js8BP6OMsa8BFG0CMt/qMvf/JFseYoU3VHcaEovGeyFEXgw4Of9Y11T+Ljukf6imqM0w5tvvrlASqHBQRD/9076Tt1nYCrcWfzCYrgOvGMGJVhtAd4IZYSTDzAV2v+5TyoA0+KZdxuBgEO2Wa2QpaWgShQnalYr5H6UGuUQEyMcKryjsEwoBJ7nUKxj8LsW4SGsxIwVRWqrtmj9LEyHKyHi/6V5OYyllxm6qlmzAkVhNW8qsDQ0Bh+Fh7DoWdVDcRyx3S/5Su1ytxebChRFOV9ho6Y7naIEJ3OfcqjHwKMUQojg34YNIeX95TY3olFQVxnjer720p6r7Ce1MOpQTLkmCoB+GbgpFAttg1Uu5GanANx6662lHW9z8EYgtUbNfsoWZWAX0motyM1LVg1FGblSDwUeMZk7BqWIMuRvv6Uc0yGQCsB0WOadJkKgrlYYXoKoVsgyCE4BYtSYMrmbphkM8VAI6loEcZD3rUVQ18jnmegqDNOcj7mwJAm+EEIyDWQcqFpI4EXJZYIvigbVSk3kkbNCa6UmDm3PYPHhI4gv9+mmN9H2tt6m9tSEle3fHPywgOUugqfPGigVMjkw0VnyXaPp8t9Wxrjuflgrl0JYH//4x4sCqplO8EK6nrvr9RdeeKF4BHjR2hQASqVQy1Rd++p4P6ytXwvjO+64oyzpM5/5TClMpo2xQUFQ9ZBnpPaI7br+/H56APIdOAAEHBgs1W9+85ul7jlrhDWMGBQNjrqqFQ5dpmc22yBHyliEDTYR5IQWWP0EFdf0rl6EmLf7skrFlQ1kK65p1hyXqYF0xpIPpSFi8HUJY2ugNEUsm4LSV7EZiuEunxfeibLNvCdY6aEQmG9NjhxCVOwzJy5+7abl9rc1OKKYRHinzeW/qYwxxYuVy6Mh/EPoffrTn17UA8OtL/303LlzRQEQlvJ+ELJCK3D3OxOOg0kMKa88Bb4/dNSWP4/Ct771reK9wT8RmnCdwHd/vA7eEENHRUWG5gg9DF3Dafp8egBO026e4rUQqldfffXJd7/73eImdCCxGhyiXIPS6hzCQSykHEwt2BxMNUsf3EHI8zc3Pqu6LXVuqi3idvYshyQhxZWuGIt4LqvOEDYgSClMoYgQPCw+Vh3Gf6wh1rGpr/1Uc+57nwidBKmzjoNHtgRlAN6PPfZYWZ84cSgFYwoUET7uHWz2rrlGWCIUvSGhk+DAILbpyWHvghTLwzOH+7+5Ht6zZ5555uT5558vngfvCkFvbhos6cwHEwoAfClgMVTF5B0ZowC4h/3FI7CHChz5mxLgv5H+DM/+2Mc+VlIPeR686zwrmRLY9WYOu54KwDC88tMrIlDX7W9Og0DkMowGR6qWiZcHhwCDeyjjvGupBGgIItaTwQJnVRGoU7P02+bjcHSIE/QOciP60YuvEqLcrQ7SEJY+E2sIxYYwqksYL5k+GeV8kSJ5dLpCJ+b+/e9/vwgFxMDwENRlmO0Dj0cbmc59sO0pjCzNLq9NZCKM7TLI+0LQEaoUGO8MQSu05Z3lFZhzyNv3bqgxsC3c4LdiH7zL3gHVKseGAGqWvz1WyEhNDAoErx7lCTfhXe96V/n9BgEwKwHO+Rb8596pAMyPcT5hBQQoCwRe1CKYo1qhA0rBEuSvqOYXPe3rfgBhmbb1A5gDInPjWmXB8aAQMngELDgph4ZQAks7uBRwizUQqJE+GR6Cqevpx7oJbXMkhAnBXbw3dQzePkTlxlgDjwkhXyuUsLI/XZkkvCfuWWciDNk79Qvk0PNmYfp3KRtD7t3nswr6aItN+Ad3BA7ejUil/MlPflIY9wpBGebLsxQkQIx873wfLkbt8v/KV75SuCaIrdoX8zTgtkTGjzi/mhne2fCoJOu/z66O/0wqAOOxy28eEAJ1tUIhA+GDXaoVshrFqN1XzHSTd2FTpbwxLXjHwkxBYbkRbkGewt7239zkLFFVCzV6CvY3qy+Ig6zmJikPF2Pqzo2EDyxZ8vZkytQ32DXJkdYNE14iVijh1qVwCP/gWNg/PIwhLn9zsBesfUJQ3JsXZukh/EPYiu2HoiP0wPrW3IoSZl08EhQF74XBuyX+jgiIbyE84PNdI4S3cMk111xTFEtrj1oXQlU+49/C20NBmrO/Qdecj+16KgDHtuO53oJA5JUHh4D7lYUYHAJ/b6tWGC7goQVzNglTVmfTMp1iixy6DtO2DoOEGg+AdUbYgAVGQCo/SxA7tH0OC9//E2QIiREy2DVbgkJCAWBRD60/QAnj5ZEKGiljfbCzBjHmp556quw3IUjwBUufZVwrdLu6/HlRhGEoY0htQdLsM9dD/AxF55JLLrmQsqeQknRDVr8hzBTdRDUS0tzogQceuOANSat/uV1PBWA5rPNJe4xAn2qFrB9uy4svvni0C7iGILIbog0ywUvwRJbB2JQ31m00bRlaIY8lTuAjURpRqIkbWJEWh7P7E7rc181sCWshTGuWPgHbHIQiBYVFPTZbgvIhl13M+J3vfGfn20WQR1dJH65DAFF1MRSbKCVNWFGmEPOGKiiegZwKO9kammj1cZt3LmTAB2QpKOrDrU7BkXEwdyqdjAbcm2ihLdTBe4B34N2qlSsKHCIk8mOO5RFIBWB5zPOJB4BAs1qhtDACh7ARA1Wxr0+1wiFLjVoEoRD4OxoEhUBtc1UTVix6wgybfQrSo5CAe3L5EviEv0wMlrPUMUMePOES6Xh1tT8CldJQW9dwpKCMLZUbmBLSEbuPePY2vPEAuK4R2QjErjADLweXP2XGuusCRdbSVTnSXmodfc8995w8/PDDheDW9cwh70rfzwo1CHNE4x6ZIrxdcw3rVlAIx0RtA0NzMDn+FCDFvQzpvEINCvzkWA+BVADWw35vn7yG1bC3YPx7YiwYhWHkS3NXh1XcVa1w1zVFylvd9TCs61AIwrr2GW5tVjp3+FzChvBGJER65Mo2RzwCoYY4zPEEWLpRCpdiQplR8IXAxo0QdsAwX7KNsO5y5owU2TaiJ4I18nQYEb4J5cwarTnCN7W3hgJ25513li6QrN4hrXB3fWfq71PMKFnW02zdO+ecEAxVDyT44ad+hfbhUv8oAhocUbBUPfQO5FgPgVQA1sN+b5+8tNWwt0D8/8QIf5jUFvWmaoXIUjwE0fUQm30oWawLi7Cuw1Ud8VJCVv2BSNXqus9U1wlzBz1FJAoSOeC5dqW6RY0CQogbmEAggClPsQbWOVJazYXog5s9iPVvUngIQGTPyy+/vBfb3r36chLqypFRdZG1b21CGyxdHodN4Y+psO+6zx//+MdC3qMYxvB+SgOMnhNd9xh6HS7+cOlTOnQQNPybroEEv/2+/fbbLyhWffZ66Dzy8/0QSAWgH05H86m1rIZDBzji+dyrQSyURqVokWqFYqKIblOmfYmjc1NzvbNGWefRw32ujoF99onAsfZLL720fFzWhdSzj3zkI6XhkcGCjrTIaCMcCkGzL8M2LoR3FYO8bqJUzw+7nQIg5a6LJEixkhVgTqzmoftk/1m5SJTmy9MhRKFq3n333dcHtsk/QwHg/pdeGQPpThhgLgUgnvOrX/2q5PhTCnnQNo22LoCTg5E33IhAKgD5YrwEgTWshtO6Bc1qhWLpqhVGcaKx1QoJG25VFrVYa231EzpREIdArTsGLulut6dY+pQB1j/Lj2fEXM2REEL+u+KKK8r2i7FHFcKmdV1zIYJLQOmh8Jw/f75gwPsRz2R5sioJGEqCtsFtY5PLf8g7aT3i24Te448/fqHGgnCR4kxLVPbbNF9rh7F5TBkCaGPpR/Ee7z5lWP1+GSX2OcIp5ppFfoa8YfN9NhWA+bA9yDuvaTUcJGADJk0gcpdHg6OoVhghgz7VCqP+gEMYm7vLxbypKA53e2QazFXYh/LB8mR5y/uuXfSEvQJNMhQi2+DHP/5xaUykHn4U6fGdyDSIMszhJXCtzjSgPFAUpNkJvbztbW/r3BkYKmhDARiThugBL774Yslxl1svQyTaFHc+fKEPIGoiAAYJkPsfF2LsqIU/rIW9WPnbPAqqc8KFwsYbkbX8xyI/z/dSAZgH14O961xWw8ECMuPEt1UrjAZH4rV1OeFI79skVPtOs3a3E6ZR2CcUgqiS1/d+zc9FJ0TvkYIufbs1/va3vy2cgChIpFysNrVc6EFY60rb8yxu/xBIbURICkVdJ2Goy9+6KXKf/OQnT+66666iBMxFvBy7F77H60T48wLYW3H4vv0O2p6L0Ce+/773va8UN6LQUWTrEcoC74/3gaIVZX53WVN+dzoEUgGYDstTc6eprYZTA8zMC2Gts5qDQ8BbwH2tbroiMtjlDvC+QrXPdOvCPgTwLrUIIo4uX55bfoxQjTkTXKzH9773vWW9iGOyDShHYW3K66c4eJ53VkiAoLOGOvTR7AcQlQc1oOkKD2zC0D4JYTzxxBPF4xAV8/rgPfQzWPPSCVnQvD3S56KKoNK8iIZRWIhgx7UwCF/5+AisFBOlfSkru4xQHt///veXPfjc5z5XFFRz8l56b4fWndhlPvnd3RFIBWB3DE/dHeayGk4dUDMvyIHrAHdwi50TcKy4qFZIGEqjmtLypBCI39YthJvtdzfVImDhKXoztkFOF5SEtvQyYQ/uekO5WlXmuPxZ4bUwJ6TrTANWKIJftJsltMcoUuahS519qEvYds1/7HUZFZQbKZXSL/03T5CQBwXAurj1m0OTJEKZF8V7wyvyy1/+smA1ZGwi6gnbeK5zwrvnj9oYQjv2Y8r3cchc87PDEUgFYDhm+Y2RCLDK1P9GDGM5IAVxJXLxEiBihNKwWDr+PeKFbddGTuUgvgYvGLCwlEuNaoXcrf6wfmEVWQY+ywKb+gB2sNdtkOtKfwQhxr9QAsEcuf9zAwwLrWKtX00BXpIul7+wgs/4jvlG1cUgFnZV6eORIfzxFG644YbJUzy7MIuCSn4/eBVtCoDCQ1z/UY0vrHXf6Ttq4Y/QF6meFETPl90Q7XtxUxAxNRJai/TYd135uf8ikApAvg2LIUCgidEqi+ogVsZVjXBWisIhcqij49gHPvCBogw4lNuuLTb5lR7UxbhGnIvCRNLtxMkpBEEsnLpaIRiibC7FzB+ufh6K4BEEm38lyP7nseHyR9QLd/kmT0eUCY4UyqhsaA+0C2bxs6zf9KY3rbI0KYZ+M2osGH4r5hQtqO++++4L5EfKmM9HzF2o4IUXXihVHIcMcXu1BOyxlNMrr7zy5N577y0pk7wRlFDkVYOiuJQCOGQN+dntCKQCkG/Hagg4kHgEtFjlnpXWtqnneNu11Sa/hw8m1MTFowWyGuvcv4rShEJACO5aeMVzlAjGS2D18QLUHgK1COTCh0JQExmXhM08sfwpKQSi96htEGB1GeYHH3ywYOXfKAdi/oTtlEMNA/0XNg2CPpo0Pf/884VoKNUwWjnLQBACEpIhiMXm8SaQRK2XsJf3b2Diy/DpUgDUTeBNMeDHiyC0wgvFg4L7IASAUyC/X/iBYh/ZGtEwamov1JSY573+i0AqAPk2rIYAl78DTPzWQce1GAP7GyOcK3PbNd/PsR0BBzjhRRGgFPAQSNsiFMZWKyTcow0y0llYyfUseCEoHlHCeI1aBLwUWP68EeLeYwiJSG3y+63Ru8kaFmYRW99ViRry3to7VvgzzzzTSjjUgU/9ffH4MSEAeFkbVr8Bww9/+MNF0CtoZShtrMyxdwAuXP6el+MwEUgF4DD37eBnff/995cDjWXD8uL+x/SOIXb57ne/uxxk266lAjDsNdhWrRBBLBQCqXvbYuGUCVkK4r/2pK+VVxPyKAVR+jfy+Lsa6wxb5UnpOSBOXrv8h9wDTlz9rN1vf/vbF5oe4Q1wgzfT3Ybce+hnhXdUUHz66acv1EyIewj/2AtD/w7KCSVPJUNd/1QmjCZWrHYkwCiY1JxHXZiHwP/oRz9a+j0I1/HKwSPGe97znhJ6qBn/Wdhn6M7ux+dTAdiPfTiqWXAbsiSwusVbDalcXMqbQgBt144KuBkWG9UKI2wQ1QpDIUDoYj0TAFzPFAQCe5exrRZB3VhnjMUeJElejj4u/01roJxwbxOuUvzq6nW7rHnsd2VVyGaoMxwee+yxsj5dDbn1KWzwIrhxZwxKF7IioW/cfPPNFwh79VyESIRzhCKEHOw3oW+PhTxkHMi8QPbTcplSRHETSljSCzIWv/xeOwKpAOQbsigCUrfkKhP+dQtXsUbZAEEC5FZ0ODnc2q4tOvkjeFizWqG4L/a3LoNCNQhwU7QZrqGsaxFEYx3PCIXA310MffNGTDNXVu4YBYLyQ6jyPH3xi1/sfOYhvw5hsXPlSzOl3In/q8iIKIlIqnyvBkcyAAh8ZEp8kttuu+2Ql55zrxBIBSBfh8UQYFWJ53PNRg62A9vBw2oT50QEFFvEWtaD3mi7NnTyDnZKBmHBmm1rfXzsbZFZj9LdhFp4YbiXWZyvec1rLoQMEMamJvm1MfQjbFBzD6Zw+T/55JPlvUCWiyyVoe9W389TaCnAQShkWUfcnUeG+x2Zj4WNfBf9Etqu9X22zyGK8sLxdGDtCw/wMggXREdHKY9XXXVVqbWgGJOByxHKXzbyGYL4/n42FYD93Zuc2cQI6M+OwCQ+rGAJBaCt9fGxt0XWzU1NfW7oGM1qhZQ37ulocMRC5D7uyw/ou8VNhr7vUQZY/orSKOzTxfLf9CxEN65zRXY08sFtmHtQAKTORQ59/Ty59TxfYviUYXiy0q217dqQOXP5I2ryrNgr4TghIDjiDcR4+OGHCwlSaCC4Bq5lvH8I2vv92VQA9nt/cnYTIeCgl7f8wx/+sAi1n//85yevfOUrC2EKu7vZLY1Vu+1a1KafaGoHfRvxfBUAg0PAXUywRHGiOaoVAoyw4sWJOglRJCc8BCzbLiVEASPeDXyHBx54YGNGwxyb06YAyKwg/CN9TzbM5ZdfXsJgbdf6zLPupYDroKgRIt+5c+cK/+a6664rWHD7U4goVYi6QiI5TicCqQCczn3NVTUQuP3224t1x6VNgFMAKAXCDjwCMRRO4R7l8t52be5e6oe8eXW1Qgx2+enc9VGcCNls12qF0WlQKEK8mqCXnljn8NvbqPBHKbCfoRCYoxK7quOdPXu2EOe6lIUp94Qwhw2PhXfyzJkzF6rnCY0pgEU5NczR5wjltmtd86sLSqmgqImPIlwU4ksvvbQoGApyIQ7yTgj18AxEn4O0+rsQPszrqQAc5r7lrAcgwCrl+pdy6KCvFQAWoNS2GCwvTGcCY9u1VAD6gx9Fg6IOAR4BYc3SjK6HfasVuhdLFTMdC76tln9di4BiIH4uZ13ZYIWBkBu5/Hl5ph5dxX3E9oVN/K3RDxIevglBb01CAJENg3Dn30IB2Hatzxoouqx8MX9FjsT9Mf1Z+X4fCJ72SXhMIyHEzxynG4FUAE73/ubq/o0AIpV4ZhDHkBFZoWoRsHiwmzeFAMS+N13LEMD41yqqFbKACZtmtUKKgS59zRQzsX6FalS9w/LvygpozpAFzPJ95JFHTv7xj38UJYR1G13t1kxpw8BniSu2M1cIQP0CRX2QDVn8hroGcPT74PJXZriO9SfRb/x7fijfTAXgUHbqFMxzX9yI4QFAAmxrfZxtked/6TZVK1TilicGsdAfAltGwi233FKs0jHuelX9kO5Y0lL9CDdeAH+uvfba+RdaPaEu4PP73/++VLzk9lc+WSYCL0eQAFnlSIA8F23XNik8tVKDL4Hn4FmyJjwXptz+FGMKsiqCvAPGvvxWF91yt5ulAAAQa0lEQVSYI3xYKgBHuOn7suS2RjdzzrFWANpaH2db5Dl3YfO9oybA7373u9JfXhxaWWFu9QgZtFUrbN6VoGf1cv+7V7QSXn5l/32izo5SW9UqQFbkiUJMNZDzNL8SgyfAXYviPm3X4u614Mb258GiWEjf4/bXS0CaofRN7n+DByAb+az5Rqz37FQA1sP+qJ6Mac8F63Bb0926BugIaaxXedasLVaWdKusQbB9N7joNbcRFye4WMHBI/jb3/52ctFFF12oRaB63aaeBPLdWffy7bn+d61guMa7M/aZFB7dAYUVWPqqBwp3yG4xeBkoAhoMKTWc4zgRSAXgOPd98VVzcWIeO5jUGOd65Iq8+uqrN86FJRPWzBiX7+ILbHmgMqws0Yceeqi4r5HYkMCyBkH7LiEMCgE09x8fQKGcUAjEt8XRoxaB8AHXPpc27K+//vpZlU4Wuo6WMcyHsqtmPre9olbRhliMXyVMgwcM2e7ZZ58ta1SYByFw1+G3psvm1772tULsU9xIhT8tjWUdID8KB1BKpQLmOF4EUgE43r1ffOUOQuQvecUOIAQ8VkjttjxtxCNuW3Frcd+6UA0metYgmOYVxPgn8IUMKA2yPghXqX6RTz/Nk7rvosU1kh33uyqXFAA1C6SWNof+CrrvUYaFOVThY63rXth3bIrVqzLo9+W+EWbjTZFayBOCcIgASRkJReTYvHJ98T3tn0sF4LTv8B6sL4S6A5kXABuZ8Oe6jQMqPsNDoFzvjTfeWOKkiqBEedJ6Kb7n8BtT831JSFiDDl/dDR3MYr6Eghz1rEEwz07wECASLlHVr7kCFrxwhLCF0aYAjGnZWz+vFv5CJIYMCXF/9Sx4APx+DF6Hv//976XqYYy1ODjz7HredQwCqQCMQS2/MxiBKMPLUrv33ntPPvGJT7zkHqEAOKAcVhrPsJp5DOTlRz9yYQN50dLBmsM9uFL3yZpB5lJYhaWnroB0KyQwhYjwIbIGweBXaW+/oFa+0I53NsiGFACtc/EQXvGKV5S4fBD+fOY73/lOEdYGDxkPgsY7XaP2lPk96WVAGdY/g4KtXoBnSe3jXVBGGKGQAp4jEQgEUgHId2F2BLgcMY1ZRxqfsHwQuTZZM1y20rSiTrpGJP6NQiB2SXASqgqlOPjE0bcNzGbFT7D+Hb5rDORHNQdYpeGtcODfeuutJf6aNQjW2JVhz+wq7KOQkUFxxfPQSCcGT4R3j8KqKiJvEP7Cq1/96qIkEPYRphCr9273UQDcXx6/2L5a/ax9vykKBc+AypdCDN5/aZRq+mP+50gEagRSAcj3YXYEHExclA4/1cdY/9z/ypzWwzXsbkJefJwrleXiQEPk4gXgWmXFqKAmrUvDGjnSDk/MZkxnVhDGt/i7mKqqfuKycqEpDkv3eL/44otPbrrppuKOVX+eR0BoQLc1JVj9YcGJE8vPNrIGweyv5eQPoIxeeeWVpdretnHJJZcUcqJ217uGALz7fkvIg8ExUFiJ8FdHIJo4hbfA78g4dFLt5Bt3xDdMBeCIN3/ppUfMUfqbPwSifzO47ZXqFSvXgpRQxJZnKWN3Y3k72FhPhjQx7lYudUIeI5xgZWUR/NKeeAAoFUhVrCXhBaTDKHbCYuOadSjPObhjuftZ+7wAPBeUoaxBMCfqy95b5z4W/T//+c+XpBvWRX+8895lREUKLiEtHVR6KDe999K7LI7fd1AmWPi4M5Hi9/a3v724/ymRMTLe3xfR4/pcKgDHtd+rrLbr8AkLRd1zLsuozy6PmzBn7X/jG98oIYDz58+XNfgc64e7FK+AN0GRE2Vksa4x7jGeHbAOXHF31rWiMCxvJDxeCa75aHgSxELKyGmykgiYO+64oyhbFCc4C7PIRMBLkDaGsQ5jAspou7bKS7TnDyVwkexwPeoBZ259JXcpf5TQKOzjvUeGJfQNKYubWgQ3mf7+3166H96BVD9EWe81LxfFQj3/CE3sOXQ5vRURSAVgRfCP9dHNAy0UBO5/wknMlXsf2Y9HQPoS4Y5MhcikjoCQAEIgS99B+Oijj5bDz0Ho0NUABgFKDF7YQFqUz4i/e774qGwDudBdfeQPuSyqufNyUJzgK0zCI0K5koOOKY+oxrNCMFEGCCsei23XjvW9XWvd9lDLZQot71iMUJwRbHFlhL6k9glBCIvlSAS6EEgFoAuhvL4IAixTAujLX/7yyete97qNz8QHUGDFwUeQR8cyqXVKnRJeSIYE+2WXXVaUCRYtt79uZ6wlGQWGWKnnOVjxBbDxKRjcr+7x2te+9n/mcCiph/XEQwHgRcGPwD2ADZc1IeHv6DwHU4oS1zGlaNu1RV6II39I02vGu4AzoIWvNsgx4nP4ABTep556qijIp62expG/DrMtPxWA2aDNG49FoHZxbrqHmCerluDXypTSgCPACvr85z9fGNGIfmLtsgcoFIQ9bwLvgEFJEIOXoSBMwHXLlcoyRtTjNXBPrnCx+yFx2bHrnut7uBXIaciQ//rXv4qQEG/mItYmN8YHP/jB0iyGoNl2TcjgNA6hpHPnzpWwkL2vXfEwokTykggPyWi54oorCgxjr/XFUBlp4Rk8EiECCiwBH16p2jvl/eb5oiT4beRIBLoQSAWgC6G8vjcIbLNqVF1DAvQH2x/BTjoUwS6jgNDDAZBjHe5+/69Uqxjsm9/85sLKRjg01EaXuiWly78RDv4WhlBbXpnVbQWIHMBcsm3piUsCqkoeTCg8Wu0SYrIoeAK4+HEsYhAgqjRSALZdO60KADKprBPKJE9IrQDwPBHA0aHP+0JRePnLX16yVMZc63oH7MuZM2dKyEaYS1hG2Wztenlp6hFeAMoAnov55UgE+iCQCkAflPIzB4eA1EMCnzBnxYuPio1yf7Ps/aEgyMEWAuANkFVgSKvSQY0HwfcQBlmHyIbcrOKw0hhjxAEsnEBI8BiI18a/d5Eg5wQXBoQ20mQMa47WsATMphAAb8G2a3POd+17yz6RTVIrAOLq9jXy9XlKZLD47NhrfdbpfZL5Yi94oHRBVO7Y3lFA64JXa75jfdaSn9lPBFIB2M99yVkNRKBOJ6y/Gk2FZAJofyocwPrXWpbl5nti/mKoCIT+nxXskBcu4H7961//eiGnWuhBPB1RsemGVYFNBgPugZSs5qG8BplQOWX54Cx/So+mNSxchEm8CEWSggTICwIT1ibhtu3awK05qI9vUgCQUfFLkFENGSc8Sffcc08hqo651hcUHhxKHNe/FsmUAYpBjkRgCgRSAZgCxbzH3iHQZhEJJRDq8rZZUTwBOqWx6qQQSqHiIickEeeEEAw1BQhTnoDwFsTCuYS50MXXI40R6RBpkdLALevwbg5zmTvt8Ec/+lHJnvAcSoiUQGEMyoF+BMh+3N9K0fJ4GG3X9m6ze0yobzW/bQoAxSg8JRQ8gj8UgDHXekz5JR/xnghnRRe/4CAMvU9+PhGoEUgFIN+Ho0CgjcHvmgJCBL+yvQ5XpVqFAlhdUZ3v6aefLjFfed31kMGAc4BspzSrgQuAUEfJUAyGlYiQKI77hz/8oYQQeBfWUAjm3HCcCiQ0REoKFLe1oQgOj4q0TCEVLvXI9hh7bY517FMIINZXe46EsXBc8DpyJAK7IpAKwK4I5vdPLQLIf1y9wgGGQivc40hZ9VBl8Etf+lK5hrjl/ykE+rxryWqw4FjViGMEIFKhGu5aBSOe4SGwwmOEB4O1rubBoRR10QhHCqX0SxZrKABIkbgIUfaYS1vbXmPstTlevE0KgBAJPkSQAGWL8PhIoxx7bczcKZUKXclS4LnJkQjsikAqALsimN8/FQh0pR5apEJC4uLRzc2/hXUWVhkLDQmQ4MYp8P9KEqtToLqggjzXXHNNURQIEgIEs1t4gMKgYQuFINK4CE1FeeqyrocAOJxCAUDCFBZh/VOSYCaEwrOCKzHmmvtPOYSBpJAK91DE7IcUU+mSGPn2gOdHGEU4Jar5jb02Zu5KY/NI4WrkSASmQCAVgClQzHucSgQQsAisthEKgBi/hixS7QzCXcqgP0bci+Wv7rtaBZQCRDxVCX/9618X/oEQgxLH0Z9ASOG5557r3SFuXzaiVgAIThZrnYmAiAgvgnbMNdyMHIlAIrAbAqkA7IZffvuIENhWh4C7Xpogq13LY0P9fZkFMgpY79zF3Pz+Wyycq5lHgOKgSI9ugQZPggwFRDPj7NmzhQVOETikVK+mAsCTodpiDCl1wgAUgDHXUgE4oh9eLnU2BFIBmA3avPExIaD4j6Yu0XSHsNa8CAcAIU4hHl4BGQEIh+ryG9jk+sfL81b1Tcwcx8BnDRXoCFPNZg5pNEMAsieERjaFAMZcmzoEcEjY5lwTgakQSAVgKiTzPkeNgDi/5kRIfZsGhcB1BC555LwBUg1lA0QNA8WLtHJV2TCGGgWUAETEuvDLvoNdKwDmyvPB6xEkQO7/yK4Ye23fMcj5JQL7jkAqAPu+Qzm/g0Wgq3mQgi5SC8Pdr/SwSoPS4gzXpXspcXwoWQA33HBDWdOLL75YvB2yKBQfUmmR8OcFoPzovaCKnjH22sG+GDnxRGBPEEgFYE82Iqdx+hGgEIj7+7NpKDAk3UytfkWH8AooAT/4wQ8uZBucfpRyhYlAIrAUAqkALIV0PicRaCDQ1rJVXQHZAghyeAFrlBHODUsEEoHTjUAqAKd7f3N1B4RAsPwpBtIExf1f9apXHdAKcqqJQCJwSAikAnBIu5VzPRoElBd+2ctedjTrzYUmAonA8gikArA85vnERCARSAQSgURgdQRSAVh9C3ICiUAikAgkAonA8gikArA85vnERCARSAQSgURgdQRSAVh9C3ICiUAikAgkAonA8gikArA85vnERCARSAQSgURgdQRSAVh9C3ICiUAikAgkAonA8gikArA85vnERCARSAQSgURgdQRSAVh9C3ICiUAikAgkAonA8gikArA85vnERCARSAQSgURgdQRSAVh9C3ICiUAikAgkAonA8gikArA85vnERCARSAQSgURgdQRSAVh9C3ICiUAikAgkAonA8gikArA85vnERCARSAQSgURgdQRSAVh9C3ICiUAikAgkAonA8gikArA85vnERCARSAQSgURgdQRSAVh9C3ICiUAikAgkAonA8gikArA85vnERCARSAQSgURgdQRSAVh9C3ICiUAikAgkAonA8gikArA85vnERCARSAQSgURgdQRSAVh9C3ICiUAikAgkAonA8gikArA85vnERCARSAQSgURgdQRSAVh9C3ICiUAikAgkAonA8gikArA85vnERCARSAQSgURgdQRSAVh9C3ICiUAikAgkAonA8gikArA85vnERCARSAQSgURgdQRSAVh9C3ICiUAikAgkAonA8gikArA85vnERCARSAQSgURgdQRSAVh9C3ICiUAikAgkAonA8gikArA85vnERCARSAQSgURgdQRSAVh9C3ICiUAikAgkAonA8gikArA85vnERCARSAQSgURgdQRSAVh9C3ICiUAikAgkAonA8gikArA85vnERCARSAQSgURgdQRSAVh9C3ICiUAikAgkAonA8gikArA85vnERCARSAQSgURgdQT+D68MmSmkGGGRAAAAAElFTkSuQmCC\" width=\"639.999990463257\">"
      ],
      "text/plain": [
       "<IPython.core.display.HTML object>"
      ]
     },
     "metadata": {},
     "output_type": "display_data"
    },
    {
     "data": {
      "application/vnd.jupyter.widget-view+json": {
       "model_id": "4047e5cf14f440a9b47323dd317b89fa",
       "version_major": 2,
       "version_minor": 0
      },
      "text/plain": [
       "Button(description='Save Inputs', icon='check', layout=Layout(height='80px', width='50%'), style=ButtonStyle()…"
      ]
     },
     "metadata": {},
     "output_type": "display_data"
    },
    {
     "name": "stdout",
     "output_type": "stream",
     "text": [
      "Inputs saved and exported!\n"
     ]
    }
   ],
   "source": [
    "units = [units_length.value, ' ', units_energy.value, ' ', units_angles.value, ' ', units_magnetic_field.value]\n",
    "init_types = [f'{init_position.value}', ' ', f'{init_energy.value}', ' ', f'{init_divergence.value}']\n",
    "\n",
    "convert_beam_direction, convert_divergence_spread, convert_screen_angles = convertAngles(units, beam_direction_widgets, \n",
    "                                                                                         beam_divergence_spread_widgets, \n",
    "                                                                                         screen_angles_widgets)\n",
    "%matplotlib notebook\n",
    "DisplayAndOutput(global_bounds, units, number_of_magnets.value, magnet_dimensions_widgets, permanent_dimension_widgets, \n",
    "                 magnet_position_widgets, magnetic_field_values_widgets, magnetic_field_axes_widgets, \n",
    "                 number_of_particles.value, beam_start_position_widgets, beam_energy, convert_beam_direction, \n",
    "                 beam_position_spread_widgets, beam_energy_spread, convert_divergence_spread, number_of_screens.value, \n",
    "                 screen_dimensions_widgets, screen_position_widgets, convert_screen_angles, init_types)"
   ]
  },
  {
   "cell_type": "markdown",
   "metadata": {},
   "source": [
    "## Genetic Algorithm"
   ]
  },
  {
   "cell_type": "code",
   "execution_count": 21,
   "metadata": {},
   "outputs": [
    {
     "data": {
      "application/vnd.jupyter.widget-view+json": {
       "model_id": "073edb34a8fe4ef0a2efeab41ec0c920",
       "version_major": 2,
       "version_minor": 0
      },
      "text/plain": [
       "Label(value='Do you want to use the genetic algorithm? ')"
      ]
     },
     "metadata": {},
     "output_type": "display_data"
    },
    {
     "data": {
      "application/vnd.jupyter.widget-view+json": {
       "model_id": "f8d47c048a3d4db9b391f8474cdd6085",
       "version_major": 2,
       "version_minor": 0
      },
      "text/plain": [
       "Button(description='Yes', icon='check', style=ButtonStyle())"
      ]
     },
     "metadata": {},
     "output_type": "display_data"
    },
    {
     "data": {
      "application/vnd.jupyter.widget-view+json": {
       "model_id": "567927bba1d7458f9a180ca8a74250d6",
       "version_major": 2,
       "version_minor": 0
      },
      "text/plain": [
       "Label(value='The genetic algorithm has access to mutate:')"
      ]
     },
     "metadata": {},
     "output_type": "display_data"
    },
    {
     "data": {
      "application/vnd.jupyter.widget-view+json": {
       "model_id": "69cc4834667c42ec894630e6a6f2b26c",
       "version_major": 2,
       "version_minor": 0
      },
      "text/plain": [
       "Label(value='Magnet position')"
      ]
     },
     "metadata": {},
     "output_type": "display_data"
    },
    {
     "data": {
      "application/vnd.jupyter.widget-view+json": {
       "model_id": "ded9ebc7dac6461fa4acd33b2b8294dc",
       "version_major": 2,
       "version_minor": 0
      },
      "text/plain": [
       "HBox(children=(VBox(children=(Checkbox(value=False, description='x pos 1'), Checkbox(value=False, description=…"
      ]
     },
     "metadata": {},
     "output_type": "display_data"
    },
    {
     "data": {
      "application/vnd.jupyter.widget-view+json": {
       "model_id": "4886f9032b934775befa77dcb9985d38",
       "version_major": 2,
       "version_minor": 0
      },
      "text/plain": [
       "Label(value='Screen position')"
      ]
     },
     "metadata": {},
     "output_type": "display_data"
    },
    {
     "data": {
      "application/vnd.jupyter.widget-view+json": {
       "model_id": "6fa4309457f34db2a7b66e346acf0668",
       "version_major": 2,
       "version_minor": 0
      },
      "text/plain": [
       "HBox(children=(VBox(children=(Checkbox(value=False, description='x pos 1'), Checkbox(value=False, description=…"
      ]
     },
     "metadata": {},
     "output_type": "display_data"
    },
    {
     "data": {
      "application/vnd.jupyter.widget-view+json": {
       "model_id": "b208a7a1444c4fc3b56dbd38112ed645",
       "version_major": 2,
       "version_minor": 0
      },
      "text/plain": [
       "Label(value='Screen angles')"
      ]
     },
     "metadata": {},
     "output_type": "display_data"
    },
    {
     "data": {
      "application/vnd.jupyter.widget-view+json": {
       "model_id": "4af387d2bacd45fe8a787a55be1f6eab",
       "version_major": 2,
       "version_minor": 0
      },
      "text/plain": [
       "HBox(children=(VBox(children=(Checkbox(value=False, description='yaw 1'), Checkbox(value=False, description='p…"
      ]
     },
     "metadata": {},
     "output_type": "display_data"
    },
    {
     "data": {
      "application/vnd.jupyter.widget-view+json": {
       "model_id": "224ac5abbf4f46438e18191a8bf0d0ec",
       "version_major": 2,
       "version_minor": 0
      },
      "text/plain": [
       "Label(value='Click below to save and output selection')"
      ]
     },
     "metadata": {},
     "output_type": "display_data"
    },
    {
     "data": {
      "application/vnd.jupyter.widget-view+json": {
       "model_id": "2f0ea502baeb48c3af36eb4ad39847f6",
       "version_major": 2,
       "version_minor": 0
      },
      "text/plain": [
       "Button(description='Save Checked Boxes', icon='check', layout=Layout(height='80px', width='50%'), style=Button…"
      ]
     },
     "metadata": {},
     "output_type": "display_data"
    },
    {
     "name": "stdout",
     "output_type": "stream",
     "text": [
      "Choices saved and exported!\n",
      "Choices saved and exported!\n",
      "Choices saved and exported!\n"
     ]
    }
   ],
   "source": [
    "genetic_algorithm_setup(global_bounds, number_of_magnets.value, number_of_screens.value, units_length.value,\n",
    "                        magnetic_field_values_widgets)"
   ]
  },
  {
   "cell_type": "code",
   "execution_count": null,
   "metadata": {},
   "outputs": [],
   "source": []
  }
 ],
 "metadata": {
  "kernelspec": {
   "display_name": "Python 3",
   "language": "python",
   "name": "python3"
  },
  "language_info": {
   "codemirror_mode": {
    "name": "ipython",
    "version": 3
   },
   "file_extension": ".py",
   "mimetype": "text/x-python",
   "name": "python",
   "nbconvert_exporter": "python",
   "pygments_lexer": "ipython3",
   "version": "3.7.3"
  }
 },
 "nbformat": 4,
 "nbformat_minor": 2
}
