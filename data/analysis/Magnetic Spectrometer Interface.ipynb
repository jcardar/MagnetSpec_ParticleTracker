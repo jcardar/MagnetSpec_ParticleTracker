{
 "cells": [
  {
   "cell_type": "markdown",
   "metadata": {},
   "source": [
    "Define interactive variables to set up particle stepper (static and variable), and then have user define figure of merit.<br>\n",
    "Write out in either .csv or .txt file (idea: in .csv file, have rows correspond to objects (ie, magnets, particle beam, etc) and have the first column represent the number of those objects (magnets, beams, etc), and the remaining columns an ordered list of values defining those objects, to read from left to right, spanning all of the relevant objects).<br>\n",
    "Have c++ code read this, and define objects with 'for' loops."
   ]
  },
  {
   "cell_type": "markdown",
   "metadata": {},
   "source": [
    "Items to define for input deck:<br>\n",
    "1. Magnet: Center of Entrance Plane, Length, Width, Height, magnetic field strength (vector) (x-component, y-component, z-component)\n",
    "2. Beam: number of particles, central starting position, central energy, central direction (angles from axes (angle for x determined from angles for y and z, and is silently ignored))\n",
    "3. Beam: spread in starting position, spread in central energy, spread in divergence (user input FWHM of Gaussian spread, code uses 0.5 of this in spread)\n",
    "4. Screen: Low-Energy Middle, Width, Height, Angle from both z- and x-axes"
   ]
  },
  {
   "cell_type": "markdown",
   "metadata": {},
   "source": [
    "## Your preferred units:\n",
    ">Please run the next cell once to generate widget objects. Change the values in the dropdowns to the value to prefer. Do not run the cell again, the value is dynamically updated when you change the value in the dropdown menu!"
   ]
  },
  {
   "cell_type": "code",
   "execution_count": 28,
   "metadata": {},
   "outputs": [
    {
     "data": {
      "application/vnd.jupyter.widget-view+json": {
       "model_id": "ff35964ec4564d29a532a7e8a37820f9",
       "version_major": 2,
       "version_minor": 0
      },
      "text/plain": [
       "Dropdown(description='Length Unit', index=1, layout=Layout(width='250px'), options=('mm', 'cm', 'm'), style=De…"
      ]
     },
     "metadata": {},
     "output_type": "display_data"
    },
    {
     "data": {
      "application/vnd.jupyter.widget-view+json": {
       "model_id": "1971624b7e2c4ff6a829b476e82ebf88",
       "version_major": 2,
       "version_minor": 0
      },
      "text/plain": [
       "Dropdown(description='Energy Unit', index=1, layout=Layout(width='250px'), options=('eV', 'MeV', 'GeV'), style…"
      ]
     },
     "metadata": {},
     "output_type": "display_data"
    },
    {
     "data": {
      "application/vnd.jupyter.widget-view+json": {
       "model_id": "e7f2c13fab8d4b8a935a7581aef36128",
       "version_major": 2,
       "version_minor": 0
      },
      "text/plain": [
       "Dropdown(description='Angle Unit', layout=Layout(width='250px'), options=('mrad', 'Radians', 'Degrees'), style…"
      ]
     },
     "metadata": {},
     "output_type": "display_data"
    },
    {
     "data": {
      "application/vnd.jupyter.widget-view+json": {
       "model_id": "a13ffb810cdc4f0d9128142564098cba",
       "version_major": 2,
       "version_minor": 0
      },
      "text/plain": [
       "Dropdown(description='Field Unit', layout=Layout(width='250px'), options=('Tesla', 'Gauss'), style=Description…"
      ]
     },
     "metadata": {},
     "output_type": "display_data"
    }
   ],
   "source": [
    "from magspecinterface_functions import *\n",
    "#import importlib\n",
    "#importlib.reload(magspecinterface_functions)\n",
    "#import magspecinterface_functions\n",
    "display( units_length )\n",
    "display( units_energy )\n",
    "display( units_angles )\n",
    "display( units_magnetic_field )"
   ]
  },
  {
   "cell_type": "markdown",
   "metadata": {},
   "source": [
    "## Initialization type"
   ]
  },
  {
   "cell_type": "code",
   "execution_count": 29,
   "metadata": {},
   "outputs": [
    {
     "data": {
      "application/vnd.jupyter.widget-view+json": {
       "model_id": "afc7e0116caa42a08d3f49f5b4b53d0d",
       "version_major": 2,
       "version_minor": 0
      },
      "text/plain": [
       "Dropdown(description='Position', index=2, layout=Layout(width='250px'), options=(('Gaussian', 0), ('Uniform', …"
      ]
     },
     "metadata": {},
     "output_type": "display_data"
    },
    {
     "data": {
      "application/vnd.jupyter.widget-view+json": {
       "model_id": "078707d1e4b9455db0048754af6934ec",
       "version_major": 2,
       "version_minor": 0
      },
      "text/plain": [
       "Dropdown(description='Energy', index=1, layout=Layout(width='250px'), options=(('Gaussian', 0), ('Uniform', 1)…"
      ]
     },
     "metadata": {},
     "output_type": "display_data"
    },
    {
     "data": {
      "application/vnd.jupyter.widget-view+json": {
       "model_id": "ec9fe57409b04265a4db33ad8b155024",
       "version_major": 2,
       "version_minor": 0
      },
      "text/plain": [
       "Dropdown(description='Divergence', layout=Layout(width='250px'), options=(('Gaussian', 0), ('Uniform', 1), ('S…"
      ]
     },
     "metadata": {},
     "output_type": "display_data"
    }
   ],
   "source": [
    "display( init_position )\n",
    "display( init_energy )\n",
    "display( init_divergence )"
   ]
  },
  {
   "cell_type": "markdown",
   "metadata": {},
   "source": [
    "## Spectrometer coordinate system\n",
    "> Define the limits to the spectrometer coordinate system. You are free to choose what marks the origin.<br>\n",
    "**Note:** Global bounds may be negative."
   ]
  },
  {
   "cell_type": "code",
   "execution_count": 30,
   "metadata": {},
   "outputs": [
    {
     "data": {
      "application/vnd.jupyter.widget-view+json": {
       "model_id": "7678eb3487314b6c805bf550ee4bb9a7",
       "version_major": 2,
       "version_minor": 0
      },
      "text/plain": [
       "FloatText(value=3000.0, description='Global x max', layout=Layout(width='250px'), style=DescriptionStyle(descr…"
      ]
     },
     "metadata": {},
     "output_type": "display_data"
    },
    {
     "data": {
      "application/vnd.jupyter.widget-view+json": {
       "model_id": "9abb86fb194c44ddba7925f8642a4a50",
       "version_major": 2,
       "version_minor": 0
      },
      "text/plain": [
       "FloatText(value=-100.0, description='Global x min', layout=Layout(width='250px'), style=DescriptionStyle(descr…"
      ]
     },
     "metadata": {},
     "output_type": "display_data"
    },
    {
     "data": {
      "application/vnd.jupyter.widget-view+json": {
       "model_id": "b13a14783098487aa915258962db7ba1",
       "version_major": 2,
       "version_minor": 0
      },
      "text/plain": [
       "FloatText(value=1000.0, description='Global y max', layout=Layout(width='250px'), style=DescriptionStyle(descr…"
      ]
     },
     "metadata": {},
     "output_type": "display_data"
    },
    {
     "data": {
      "application/vnd.jupyter.widget-view+json": {
       "model_id": "b5d85248449a4a0e99f4b044cecbf67c",
       "version_major": 2,
       "version_minor": 0
      },
      "text/plain": [
       "FloatText(value=-1000.0, description='Global y min', layout=Layout(width='250px'), style=DescriptionStyle(desc…"
      ]
     },
     "metadata": {},
     "output_type": "display_data"
    },
    {
     "data": {
      "application/vnd.jupyter.widget-view+json": {
       "model_id": "49ffde340a144a788665aa0dfc14120c",
       "version_major": 2,
       "version_minor": 0
      },
      "text/plain": [
       "FloatText(value=1000.0, description='Global z max', layout=Layout(width='250px'), style=DescriptionStyle(descr…"
      ]
     },
     "metadata": {},
     "output_type": "display_data"
    },
    {
     "data": {
      "application/vnd.jupyter.widget-view+json": {
       "model_id": "f62e22f9af0f431696eb01c4817556d3",
       "version_major": 2,
       "version_minor": 0
      },
      "text/plain": [
       "FloatText(value=-1000.0, description='Global z min', layout=Layout(width='250px'), style=DescriptionStyle(desc…"
      ]
     },
     "metadata": {},
     "output_type": "display_data"
    }
   ],
   "source": [
    "for ii in range(len(global_bounds)):\n",
    "    display( global_bounds[ii] )"
   ]
  },
  {
   "cell_type": "markdown",
   "metadata": {},
   "source": [
    "## Magnet setup:\n",
    "> Number of magnets, dimensions, position, and magnetic field components."
   ]
  },
  {
   "cell_type": "markdown",
   "metadata": {},
   "source": [
    "![alt text](magnet_position.png \"Magnet_Setup\")"
   ]
  },
  {
   "cell_type": "code",
   "execution_count": 31,
   "metadata": {},
   "outputs": [
    {
     "data": {
      "application/vnd.jupyter.widget-view+json": {
       "model_id": "ef0e3f46309e46d6aab517035e51c226",
       "version_major": 2,
       "version_minor": 0
      },
      "text/plain": [
       "BoundedIntText(value=3, description='Number of Magnets', layout=Layout(width='250px'), style=DescriptionStyle(…"
      ]
     },
     "metadata": {},
     "output_type": "display_data"
    }
   ],
   "source": [
    "display( number_of_magnets )"
   ]
  },
  {
   "cell_type": "code",
   "execution_count": 32,
   "metadata": {},
   "outputs": [
    {
     "data": {
      "application/vnd.jupyter.widget-view+json": {
       "model_id": "b9a9ea0c6c7b47db9682c7c81eaac6cc",
       "version_major": 2,
       "version_minor": 0
      },
      "text/plain": [
       "Dropdown(description='Magnet 1 Type', layout=Layout(width='250px'), options=(('(D)ipole', 'd'), ('(U)niform Di…"
      ]
     },
     "metadata": {},
     "output_type": "display_data"
    }
   ],
   "source": [
    "magnet_types_widgets = dropdown_Magnet_Type(number_of_magnets.value)\n",
    "for ii in range(len(magnet_types_widgets)):\n",
    "    display( magnet_types_widgets[ii] )"
   ]
  },
  {
   "cell_type": "code",
   "execution_count": 33,
   "metadata": {
    "scrolled": true
   },
   "outputs": [
    {
     "data": {
      "application/vnd.jupyter.widget-view+json": {
       "model_id": "0e6412d50b0347b38ee0df5e8c3d3798",
       "version_major": 2,
       "version_minor": 0
      },
      "text/plain": [
       "BoundedFloatText(value=10.0, description='Width 1', layout=Layout(width='250px'), max=1000.0, style=Descriptio…"
      ]
     },
     "metadata": {},
     "output_type": "display_data"
    },
    {
     "data": {
      "application/vnd.jupyter.widget-view+json": {
       "model_id": "f4926438be3d4a49b37624fb10bf0945",
       "version_major": 2,
       "version_minor": 0
      },
      "text/plain": [
       "BoundedFloatText(value=30.0, description='Length 1', layout=Layout(width='250px'), max=3000.0, style=Descripti…"
      ]
     },
     "metadata": {},
     "output_type": "display_data"
    },
    {
     "data": {
      "application/vnd.jupyter.widget-view+json": {
       "model_id": "2e19b85ab0c44af88b9709d01c5218b2",
       "version_major": 2,
       "version_minor": 0
      },
      "text/plain": [
       "BoundedFloatText(value=5.0, description='Height 1', layout=Layout(width='250px'), max=1000.0, style=Descriptio…"
      ]
     },
     "metadata": {},
     "output_type": "display_data"
    }
   ],
   "source": [
    "magnet_dimensions_widgets = dynamicFloatValue_Magnet_Dimensions(number_of_magnets.value, global_bounds)\n",
    "for ii in range(len(magnet_dimensions_widgets)):\n",
    "    display( magnet_dimensions_widgets[ii] )"
   ]
  },
  {
   "cell_type": "markdown",
   "metadata": {},
   "source": [
    "> **Note:** This is **not** a dimension of the space between magnets. This is the dimension of one permanent magnet parallel to the separation between the magnets."
   ]
  },
  {
   "cell_type": "code",
   "execution_count": 34,
   "metadata": {},
   "outputs": [
    {
     "data": {
      "application/vnd.jupyter.widget-view+json": {
       "model_id": "5809d75cab3b4703ab0f2adb1f2ef958",
       "version_major": 2,
       "version_minor": 0
      },
      "text/plain": [
       "FloatText(value=10.0, description='Dimension 1', layout=Layout(width='250px'), style=DescriptionStyle(descript…"
      ]
     },
     "metadata": {},
     "output_type": "display_data"
    }
   ],
   "source": [
    "permanent_dimension_widgets = dynamicFloatValue_Permanent_Magnet_Dimension(number_of_magnets.value)\n",
    "for ii in range(len(permanent_dimension_widgets)):\n",
    "    display( permanent_dimension_widgets[ii] )"
   ]
  },
  {
   "cell_type": "markdown",
   "metadata": {},
   "source": [
    "> **Important:** Position value limits are based on global bounds and magnet dimensions. Please re-run the below cell if values for either change."
   ]
  },
  {
   "cell_type": "code",
   "execution_count": 35,
   "metadata": {
    "scrolled": true
   },
   "outputs": [
    {
     "data": {
      "application/vnd.jupyter.widget-view+json": {
       "model_id": "1bda41f27bb54fef8075ac36af37687d",
       "version_major": 2,
       "version_minor": 0
      },
      "text/plain": [
       "BoundedFloatText(value=0.0, description='X-Position 1', layout=Layout(width='250px'), max=2970.0, min=-100.0, …"
      ]
     },
     "metadata": {},
     "output_type": "display_data"
    },
    {
     "data": {
      "application/vnd.jupyter.widget-view+json": {
       "model_id": "76f68510824742dbb796e89c6d5ecc1b",
       "version_major": 2,
       "version_minor": 0
      },
      "text/plain": [
       "BoundedFloatText(value=0.0, description='Y-Position 1', layout=Layout(width='250px'), max=997.5, min=-997.5, s…"
      ]
     },
     "metadata": {},
     "output_type": "display_data"
    },
    {
     "data": {
      "application/vnd.jupyter.widget-view+json": {
       "model_id": "5d3fde2c20ad49928ec648aa26103d43",
       "version_major": 2,
       "version_minor": 0
      },
      "text/plain": [
       "BoundedFloatText(value=0.0, description='Z-Position 1', layout=Layout(width='250px'), max=995.0, min=-995.0, s…"
      ]
     },
     "metadata": {},
     "output_type": "display_data"
    }
   ],
   "source": [
    "magnet_position_widgets = dynamicFloatValue_Magnet_Position(number_of_magnets.value, magnet_dimensions_widgets,\n",
    "                                                            global_bounds)\n",
    "for ii in range(len(magnet_position_widgets)):\n",
    "    display( magnet_position_widgets[ii] )"
   ]
  },
  {
   "cell_type": "code",
   "execution_count": 36,
   "metadata": {
    "scrolled": true
   },
   "outputs": [
    {
     "data": {
      "application/vnd.jupyter.widget-view+json": {
       "model_id": "9eeb98893eaf433eb936e74648d7f6ce",
       "version_major": 2,
       "version_minor": 0
      },
      "text/plain": [
       "FloatText(value=1.0, description='B field 1', layout=Layout(width='250px'), style=DescriptionStyle(description…"
      ]
     },
     "metadata": {},
     "output_type": "display_data"
    },
    {
     "data": {
      "application/vnd.jupyter.widget-view+json": {
       "model_id": "4a863b45713f489db4cf92085fe2871d",
       "version_major": 2,
       "version_minor": 0
      },
      "text/plain": [
       "Dropdown(description='Along the', index=2, layout=Layout(width='250px'), options=(('x-axis', 'x'), ('y-axis', …"
      ]
     },
     "metadata": {},
     "output_type": "display_data"
    }
   ],
   "source": [
    "magnetic_field_values_widgets = dynamicFloatValue_Magnetic_Field_Value(number_of_magnets.value)\n",
    "magnetic_field_axes_widgets = dynamicFloatValue_Magnetic_Field_Axis(number_of_magnets.value)\n",
    "for ii in range(len(magnetic_field_values_widgets)):\n",
    "    display( magnetic_field_values_widgets[ii] )\n",
    "    display( magnetic_field_axes_widgets[ii] )"
   ]
  },
  {
   "cell_type": "markdown",
   "metadata": {},
   "source": [
    "## Beam Setup:\n",
    ">Number of particles, starting position, energy, direction.<br>\n",
    "**Note:** Please input values referencing the beam center. Direction is given by angle from axes."
   ]
  },
  {
   "cell_type": "code",
   "execution_count": 37,
   "metadata": {},
   "outputs": [
    {
     "data": {
      "application/vnd.jupyter.widget-view+json": {
       "model_id": "eb8bd951bfee484db761a9acf179bd92",
       "version_major": 2,
       "version_minor": 0
      },
      "text/plain": [
       "Dropdown(description='Particle Species', layout=Layout(width='250px'), options=('Electrons', 'Positrons'), sty…"
      ]
     },
     "metadata": {},
     "output_type": "display_data"
    }
   ],
   "source": [
    "display( particle_species )"
   ]
  },
  {
   "cell_type": "code",
   "execution_count": 38,
   "metadata": {},
   "outputs": [
    {
     "data": {
      "application/vnd.jupyter.widget-view+json": {
       "model_id": "316edc0800824fa4befdbf2e42a4fae5",
       "version_major": 2,
       "version_minor": 0
      },
      "text/plain": [
       "BoundedIntText(value=11, description='Number of Particles', layout=Layout(width='250px'), max=999999, min=1, s…"
      ]
     },
     "metadata": {},
     "output_type": "display_data"
    }
   ],
   "source": [
    "display( number_of_particles )"
   ]
  },
  {
   "cell_type": "code",
   "execution_count": 14,
   "metadata": {},
   "outputs": [
    {
     "data": {
      "application/vnd.jupyter.widget-view+json": {
       "model_id": "8567af7173ec4fc5a0832c425614908f",
       "version_major": 2,
       "version_minor": 0
      },
      "text/plain": [
       "BoundedFloatText(value=0.0, description='Initial X-Position', layout=Layout(width='250px'), max=3000.0, min=-1…"
      ]
     },
     "metadata": {},
     "output_type": "display_data"
    },
    {
     "data": {
      "application/vnd.jupyter.widget-view+json": {
       "model_id": "f4c072f94141456994509e98c3da1d09",
       "version_major": 2,
       "version_minor": 0
      },
      "text/plain": [
       "BoundedFloatText(value=0.0, description='Initial Y-Position', layout=Layout(width='250px'), max=1000.0, min=-1…"
      ]
     },
     "metadata": {},
     "output_type": "display_data"
    },
    {
     "data": {
      "application/vnd.jupyter.widget-view+json": {
       "model_id": "516ee8aa481e45cb9309b7018afebfae",
       "version_major": 2,
       "version_minor": 0
      },
      "text/plain": [
       "BoundedFloatText(value=0.0, description='Initial Z-Position', layout=Layout(width='250px'), max=1000.0, min=-1…"
      ]
     },
     "metadata": {},
     "output_type": "display_data"
    }
   ],
   "source": [
    "beam_start_position_widgets = dynamicFloatValue_Beam_Start_Position(global_bounds)\n",
    "for ii in range(len(beam_start_position_widgets)):\n",
    "    display( beam_start_position_widgets[ii] )"
   ]
  },
  {
   "cell_type": "code",
   "execution_count": 15,
   "metadata": {},
   "outputs": [
    {
     "data": {
      "application/vnd.jupyter.widget-view+json": {
       "model_id": "f28f4bb20ffb49e7a7c1943564b19a5b",
       "version_major": 2,
       "version_minor": 0
      },
      "text/plain": [
       "BoundedFloatText(value=100.0, description='Central KE', layout=Layout(width='250px'), max=9999999.0, style=Des…"
      ]
     },
     "metadata": {},
     "output_type": "display_data"
    }
   ],
   "source": [
    "display(beam_energy)"
   ]
  },
  {
   "cell_type": "code",
   "execution_count": 16,
   "metadata": {},
   "outputs": [
    {
     "data": {
      "application/vnd.jupyter.widget-view+json": {
       "model_id": "8041c0ff44a64d54a4c39462d180aafd",
       "version_major": 2,
       "version_minor": 0
      },
      "text/plain": [
       "FloatText(value=0.0, description='Angle with Respect to X-Axis', layout=Layout(width='500px'), style=Descripti…"
      ]
     },
     "metadata": {},
     "output_type": "display_data"
    },
    {
     "data": {
      "application/vnd.jupyter.widget-view+json": {
       "model_id": "69be488c2b6c48e38307d04d2fd31698",
       "version_major": 2,
       "version_minor": 0
      },
      "text/plain": [
       "FloatText(value=1570.7963267948965, description='Angle with Respect to Y-Axis', layout=Layout(width='500px'), …"
      ]
     },
     "metadata": {},
     "output_type": "display_data"
    },
    {
     "data": {
      "application/vnd.jupyter.widget-view+json": {
       "model_id": "aacfc37746fd4f9ea5c579461b5b8665",
       "version_major": 2,
       "version_minor": 0
      },
      "text/plain": [
       "FloatText(value=1570.7963267948965, description='Angle with Respect to Z-Axis', layout=Layout(width='500px'), …"
      ]
     },
     "metadata": {},
     "output_type": "display_data"
    }
   ],
   "source": [
    "beam_direction_widgets = dynamicFloatValue_Beam_Direction(units_angles.value)\n",
    "for ii in range(len(beam_direction_widgets)):\n",
    "    display( beam_direction_widgets[ii] )"
   ]
  },
  {
   "cell_type": "markdown",
   "metadata": {},
   "source": [
    "## Beam Spread:\n",
    ">Spread in starting position, energy, and divergence."
   ]
  },
  {
   "cell_type": "code",
   "execution_count": 17,
   "metadata": {},
   "outputs": [
    {
     "data": {
      "application/vnd.jupyter.widget-view+json": {
       "model_id": "1177edd6c79744b08ffebf72b4cd6dca",
       "version_major": 2,
       "version_minor": 0
      },
      "text/plain": [
       "FloatText(value=0.0, description='Spread in Initial X-Position', layout=Layout(width='500px'), style=Descripti…"
      ]
     },
     "metadata": {},
     "output_type": "display_data"
    },
    {
     "data": {
      "application/vnd.jupyter.widget-view+json": {
       "model_id": "7c644e186a7849a6a39bbacc98514c8c",
       "version_major": 2,
       "version_minor": 0
      },
      "text/plain": [
       "FloatText(value=0.0, description='Spread in Initial Y-Position', layout=Layout(width='500px'), style=Descripti…"
      ]
     },
     "metadata": {},
     "output_type": "display_data"
    },
    {
     "data": {
      "application/vnd.jupyter.widget-view+json": {
       "model_id": "1f6ae26389b7469d8f44bf5af6f0b622",
       "version_major": 2,
       "version_minor": 0
      },
      "text/plain": [
       "FloatText(value=0.0, description='Spread in Initial Z-Position', layout=Layout(width='500px'), style=Descripti…"
      ]
     },
     "metadata": {},
     "output_type": "display_data"
    }
   ],
   "source": [
    "beam_position_spread_widgets = dynamicFloatValue_Beam_Position_Spread()\n",
    "for ii in range(len(beam_position_spread_widgets)):\n",
    "    display( beam_position_spread_widgets[ii] )"
   ]
  },
  {
   "cell_type": "code",
   "execution_count": 18,
   "metadata": {},
   "outputs": [
    {
     "data": {
      "application/vnd.jupyter.widget-view+json": {
       "model_id": "e47c08eea4614069824f557c858fefe7",
       "version_major": 2,
       "version_minor": 0
      },
      "text/plain": [
       "BoundedFloatText(value=0.0, description='Energy Spread', layout=Layout(width='500px'), max=9999999.0, style=De…"
      ]
     },
     "metadata": {},
     "output_type": "display_data"
    }
   ],
   "source": [
    "display( beam_energy_spread )"
   ]
  },
  {
   "cell_type": "code",
   "execution_count": 19,
   "metadata": {},
   "outputs": [
    {
     "data": {
      "application/vnd.jupyter.widget-view+json": {
       "model_id": "4df07cb370564a549dc32982d041f99a",
       "version_major": 2,
       "version_minor": 0
      },
      "text/plain": [
       "FloatText(value=0.0, description='X-Divergence Angle', layout=Layout(width='500px'), style=DescriptionStyle(de…"
      ]
     },
     "metadata": {},
     "output_type": "display_data"
    },
    {
     "data": {
      "application/vnd.jupyter.widget-view+json": {
       "model_id": "fc3fb491dee54f508506c77b360009aa",
       "version_major": 2,
       "version_minor": 0
      },
      "text/plain": [
       "FloatText(value=10.0, description='Y-Divergence Angle', layout=Layout(width='500px'), style=DescriptionStyle(d…"
      ]
     },
     "metadata": {},
     "output_type": "display_data"
    },
    {
     "data": {
      "application/vnd.jupyter.widget-view+json": {
       "model_id": "2a17cab8e11d488e83fe3268dea02acf",
       "version_major": 2,
       "version_minor": 0
      },
      "text/plain": [
       "FloatText(value=10.0, description='Z-Divergence Angle', layout=Layout(width='500px'), style=DescriptionStyle(d…"
      ]
     },
     "metadata": {},
     "output_type": "display_data"
    }
   ],
   "source": [
    "beam_divergence_spread_widgets = dynamicFloatValue_Beam_Divergence_Spread()\n",
    "for ii in range(len(beam_divergence_spread_widgets)):\n",
    "    display( beam_divergence_spread_widgets[ii] )"
   ]
  },
  {
   "cell_type": "markdown",
   "metadata": {},
   "source": [
    "## Screen Setup:\n",
    ">Number of screens, dimensions, angles about axes, and position.<br>\n",
    "**Note:** Given angles are yaw (about the z-axis), pitch (about the y-axis), and roll (about the x-axis)."
   ]
  },
  {
   "cell_type": "markdown",
   "metadata": {},
   "source": [
    "![alt text](screen_setup.png \"Screen_Setup\")"
   ]
  },
  {
   "cell_type": "code",
   "execution_count": 20,
   "metadata": {},
   "outputs": [
    {
     "data": {
      "application/vnd.jupyter.widget-view+json": {
       "model_id": "632ab53229ef4479a420f180f897c6d9",
       "version_major": 2,
       "version_minor": 0
      },
      "text/plain": [
       "BoundedIntText(value=1, description='Number of Screens', layout=Layout(width='500px'), style=DescriptionStyle(…"
      ]
     },
     "metadata": {},
     "output_type": "display_data"
    }
   ],
   "source": [
    "display( number_of_screens )"
   ]
  },
  {
   "cell_type": "code",
   "execution_count": 21,
   "metadata": {},
   "outputs": [
    {
     "data": {
      "application/vnd.jupyter.widget-view+json": {
       "model_id": "90636b17aa504ed9971db99e6c85b418",
       "version_major": 2,
       "version_minor": 0
      },
      "text/plain": [
       "BoundedFloatText(value=50.0, description='Length of Screen 1', layout=Layout(width='500px'), max=3000.0, style…"
      ]
     },
     "metadata": {},
     "output_type": "display_data"
    },
    {
     "data": {
      "application/vnd.jupyter.widget-view+json": {
       "model_id": "45403bd34c9940949c6aca0eacfadd5d",
       "version_major": 2,
       "version_minor": 0
      },
      "text/plain": [
       "BoundedFloatText(value=10.0, description='Height of Screen 1', layout=Layout(width='500px'), max=1000.0, style…"
      ]
     },
     "metadata": {},
     "output_type": "display_data"
    }
   ],
   "source": [
    "screen_dimensions_widgets = dynamicFloatValue_Screen_Dimensions(number_of_screens.value, global_bounds)\n",
    "for ii in range(len(screen_dimensions_widgets)):\n",
    "    display( screen_dimensions_widgets[ii] )"
   ]
  },
  {
   "cell_type": "code",
   "execution_count": 22,
   "metadata": {},
   "outputs": [
    {
     "data": {
      "application/vnd.jupyter.widget-view+json": {
       "model_id": "d0a88d69d60143378f9a0556bbf0d427",
       "version_major": 2,
       "version_minor": 0
      },
      "text/plain": [
       "FloatText(value=1570.8, description='Yaw (About Z-Axis) Angle of Screen 1', layout=Layout(width='500px'), styl…"
      ]
     },
     "metadata": {},
     "output_type": "display_data"
    },
    {
     "data": {
      "application/vnd.jupyter.widget-view+json": {
       "model_id": "f35e2c25d3dd475c865844ac5d120e5b",
       "version_major": 2,
       "version_minor": 0
      },
      "text/plain": [
       "FloatText(value=0.0, description='Pitch (About Y-Axis) Angle of Screen 1', layout=Layout(width='500px'), style…"
      ]
     },
     "metadata": {},
     "output_type": "display_data"
    },
    {
     "data": {
      "application/vnd.jupyter.widget-view+json": {
       "model_id": "b92185829d5e49e0a4ecc3045fec7102",
       "version_major": 2,
       "version_minor": 0
      },
      "text/plain": [
       "FloatText(value=0.0, description='Roll (About X-Axis) Angle of Screen 1', layout=Layout(width='500px'), style=…"
      ]
     },
     "metadata": {},
     "output_type": "display_data"
    }
   ],
   "source": [
    "screen_angles_widgets = dynamicFloatValue_Screen_Angles(number_of_screens.value)\n",
    "for ii in range(len(screen_angles_widgets)):\n",
    "    display( screen_angles_widgets[ii] )"
   ]
  },
  {
   "cell_type": "markdown",
   "metadata": {},
   "source": [
    "> **Important:** Position value limits are based on global bounds, screen dimensions, and screen angles. Please re-run the below cell if values for any change."
   ]
  },
  {
   "cell_type": "code",
   "execution_count": 23,
   "metadata": {},
   "outputs": [
    {
     "data": {
      "application/vnd.jupyter.widget-view+json": {
       "model_id": "682d922c6bdf4acb91535a148e54d694",
       "version_major": 2,
       "version_minor": 0
      },
      "text/plain": [
       "BoundedFloatText(value=50.0, description='X-Position of Screen 1', max=3000.0, min=-100.00009183012759)"
      ]
     },
     "metadata": {},
     "output_type": "display_data"
    },
    {
     "data": {
      "application/vnd.jupyter.widget-view+json": {
       "model_id": "dba02261db514edf80bf73a73ce78cbc",
       "version_major": 2,
       "version_minor": 0
      },
      "text/plain": [
       "BoundedFloatText(value=-25.0, description='Y-Position of Screen 1', max=975.0000000001687, min=-1000.0)"
      ]
     },
     "metadata": {},
     "output_type": "display_data"
    },
    {
     "data": {
      "application/vnd.jupyter.widget-view+json": {
       "model_id": "0cb46a18aacf48fabab96340d91a1e90",
       "version_major": 2,
       "version_minor": 0
      },
      "text/plain": [
       "BoundedFloatText(value=0.0, description='Z-Position of Screen 1', max=987.5, min=-1012.5)"
      ]
     },
     "metadata": {},
     "output_type": "display_data"
    }
   ],
   "source": [
    "screen_position_widgets = dynamicFloatValue_Screen_Position(units_angles.value, number_of_screens.value, global_bounds, \n",
    "                                                            screen_dimensions_widgets, screen_angles_widgets)\n",
    "for ii in range(len(screen_position_widgets)):\n",
    "    display( screen_position_widgets[ii] )"
   ]
  },
  {
   "cell_type": "markdown",
   "metadata": {},
   "source": [
    "## Display and Output info\n",
    ">Displays a 3D model of the spectrometer based on user inputs. If there are no errors, press the button below to output information.<br>\n",
    "**Note:** Axes may not have the same scale."
   ]
  },
  {
   "cell_type": "code",
   "execution_count": 45,
   "metadata": {
    "scrolled": false
   },
   "outputs": [
    {
     "data": {
      "application/javascript": [
       "/* Put everything inside the global mpl namespace */\n",
       "/* global mpl */\n",
       "window.mpl = {};\n",
       "\n",
       "mpl.get_websocket_type = function () {\n",
       "    if (typeof WebSocket !== 'undefined') {\n",
       "        return WebSocket;\n",
       "    } else if (typeof MozWebSocket !== 'undefined') {\n",
       "        return MozWebSocket;\n",
       "    } else {\n",
       "        alert(\n",
       "            'Your browser does not have WebSocket support. ' +\n",
       "                'Please try Chrome, Safari or Firefox ≥ 6. ' +\n",
       "                'Firefox 4 and 5 are also supported but you ' +\n",
       "                'have to enable WebSockets in about:config.'\n",
       "        );\n",
       "    }\n",
       "};\n",
       "\n",
       "mpl.figure = function (figure_id, websocket, ondownload, parent_element) {\n",
       "    this.id = figure_id;\n",
       "\n",
       "    this.ws = websocket;\n",
       "\n",
       "    this.supports_binary = this.ws.binaryType !== undefined;\n",
       "\n",
       "    if (!this.supports_binary) {\n",
       "        var warnings = document.getElementById('mpl-warnings');\n",
       "        if (warnings) {\n",
       "            warnings.style.display = 'block';\n",
       "            warnings.textContent =\n",
       "                'This browser does not support binary websocket messages. ' +\n",
       "                'Performance may be slow.';\n",
       "        }\n",
       "    }\n",
       "\n",
       "    this.imageObj = new Image();\n",
       "\n",
       "    this.context = undefined;\n",
       "    this.message = undefined;\n",
       "    this.canvas = undefined;\n",
       "    this.rubberband_canvas = undefined;\n",
       "    this.rubberband_context = undefined;\n",
       "    this.format_dropdown = undefined;\n",
       "\n",
       "    this.image_mode = 'full';\n",
       "\n",
       "    this.root = document.createElement('div');\n",
       "    this.root.setAttribute('style', 'display: inline-block');\n",
       "    this._root_extra_style(this.root);\n",
       "\n",
       "    parent_element.appendChild(this.root);\n",
       "\n",
       "    this._init_header(this);\n",
       "    this._init_canvas(this);\n",
       "    this._init_toolbar(this);\n",
       "\n",
       "    var fig = this;\n",
       "\n",
       "    this.waiting = false;\n",
       "\n",
       "    this.ws.onopen = function () {\n",
       "        fig.send_message('supports_binary', { value: fig.supports_binary });\n",
       "        fig.send_message('send_image_mode', {});\n",
       "        if (fig.ratio !== 1) {\n",
       "            fig.send_message('set_dpi_ratio', { dpi_ratio: fig.ratio });\n",
       "        }\n",
       "        fig.send_message('refresh', {});\n",
       "    };\n",
       "\n",
       "    this.imageObj.onload = function () {\n",
       "        if (fig.image_mode === 'full') {\n",
       "            // Full images could contain transparency (where diff images\n",
       "            // almost always do), so we need to clear the canvas so that\n",
       "            // there is no ghosting.\n",
       "            fig.context.clearRect(0, 0, fig.canvas.width, fig.canvas.height);\n",
       "        }\n",
       "        fig.context.drawImage(fig.imageObj, 0, 0);\n",
       "    };\n",
       "\n",
       "    this.imageObj.onunload = function () {\n",
       "        fig.ws.close();\n",
       "    };\n",
       "\n",
       "    this.ws.onmessage = this._make_on_message_function(this);\n",
       "\n",
       "    this.ondownload = ondownload;\n",
       "};\n",
       "\n",
       "mpl.figure.prototype._init_header = function () {\n",
       "    var titlebar = document.createElement('div');\n",
       "    titlebar.classList =\n",
       "        'ui-dialog-titlebar ui-widget-header ui-corner-all ui-helper-clearfix';\n",
       "    var titletext = document.createElement('div');\n",
       "    titletext.classList = 'ui-dialog-title';\n",
       "    titletext.setAttribute(\n",
       "        'style',\n",
       "        'width: 100%; text-align: center; padding: 3px;'\n",
       "    );\n",
       "    titlebar.appendChild(titletext);\n",
       "    this.root.appendChild(titlebar);\n",
       "    this.header = titletext;\n",
       "};\n",
       "\n",
       "mpl.figure.prototype._canvas_extra_style = function (_canvas_div) {};\n",
       "\n",
       "mpl.figure.prototype._root_extra_style = function (_canvas_div) {};\n",
       "\n",
       "mpl.figure.prototype._init_canvas = function () {\n",
       "    var fig = this;\n",
       "\n",
       "    var canvas_div = (this.canvas_div = document.createElement('div'));\n",
       "    canvas_div.setAttribute(\n",
       "        'style',\n",
       "        'border: 1px solid #ddd;' +\n",
       "            'box-sizing: content-box;' +\n",
       "            'clear: both;' +\n",
       "            'min-height: 1px;' +\n",
       "            'min-width: 1px;' +\n",
       "            'outline: 0;' +\n",
       "            'overflow: hidden;' +\n",
       "            'position: relative;' +\n",
       "            'resize: both;'\n",
       "    );\n",
       "\n",
       "    function on_keyboard_event_closure(name) {\n",
       "        return function (event) {\n",
       "            return fig.key_event(event, name);\n",
       "        };\n",
       "    }\n",
       "\n",
       "    canvas_div.addEventListener(\n",
       "        'keydown',\n",
       "        on_keyboard_event_closure('key_press')\n",
       "    );\n",
       "    canvas_div.addEventListener(\n",
       "        'keyup',\n",
       "        on_keyboard_event_closure('key_release')\n",
       "    );\n",
       "\n",
       "    this._canvas_extra_style(canvas_div);\n",
       "    this.root.appendChild(canvas_div);\n",
       "\n",
       "    var canvas = (this.canvas = document.createElement('canvas'));\n",
       "    canvas.classList.add('mpl-canvas');\n",
       "    canvas.setAttribute('style', 'box-sizing: content-box;');\n",
       "\n",
       "    this.context = canvas.getContext('2d');\n",
       "\n",
       "    var backingStore =\n",
       "        this.context.backingStorePixelRatio ||\n",
       "        this.context.webkitBackingStorePixelRatio ||\n",
       "        this.context.mozBackingStorePixelRatio ||\n",
       "        this.context.msBackingStorePixelRatio ||\n",
       "        this.context.oBackingStorePixelRatio ||\n",
       "        this.context.backingStorePixelRatio ||\n",
       "        1;\n",
       "\n",
       "    this.ratio = (window.devicePixelRatio || 1) / backingStore;\n",
       "    if (this.ratio !== 1) {\n",
       "        fig.send_message('set_dpi_ratio', { dpi_ratio: this.ratio });\n",
       "    }\n",
       "\n",
       "    var rubberband_canvas = (this.rubberband_canvas = document.createElement(\n",
       "        'canvas'\n",
       "    ));\n",
       "    rubberband_canvas.setAttribute(\n",
       "        'style',\n",
       "        'box-sizing: content-box; position: absolute; left: 0; top: 0; z-index: 1;'\n",
       "    );\n",
       "\n",
       "    var resizeObserver = new ResizeObserver(function (entries) {\n",
       "        var nentries = entries.length;\n",
       "        for (var i = 0; i < nentries; i++) {\n",
       "            var entry = entries[i];\n",
       "            var width, height;\n",
       "            if (entry.contentBoxSize) {\n",
       "                if (entry.contentBoxSize instanceof Array) {\n",
       "                    // Chrome 84 implements new version of spec.\n",
       "                    width = entry.contentBoxSize[0].inlineSize;\n",
       "                    height = entry.contentBoxSize[0].blockSize;\n",
       "                } else {\n",
       "                    // Firefox implements old version of spec.\n",
       "                    width = entry.contentBoxSize.inlineSize;\n",
       "                    height = entry.contentBoxSize.blockSize;\n",
       "                }\n",
       "            } else {\n",
       "                // Chrome <84 implements even older version of spec.\n",
       "                width = entry.contentRect.width;\n",
       "                height = entry.contentRect.height;\n",
       "            }\n",
       "\n",
       "            // Keep the size of the canvas and rubber band canvas in sync with\n",
       "            // the canvas container.\n",
       "            if (entry.devicePixelContentBoxSize) {\n",
       "                // Chrome 84 implements new version of spec.\n",
       "                canvas.setAttribute(\n",
       "                    'width',\n",
       "                    entry.devicePixelContentBoxSize[0].inlineSize\n",
       "                );\n",
       "                canvas.setAttribute(\n",
       "                    'height',\n",
       "                    entry.devicePixelContentBoxSize[0].blockSize\n",
       "                );\n",
       "            } else {\n",
       "                canvas.setAttribute('width', width * fig.ratio);\n",
       "                canvas.setAttribute('height', height * fig.ratio);\n",
       "            }\n",
       "            canvas.setAttribute(\n",
       "                'style',\n",
       "                'width: ' + width + 'px; height: ' + height + 'px;'\n",
       "            );\n",
       "\n",
       "            rubberband_canvas.setAttribute('width', width);\n",
       "            rubberband_canvas.setAttribute('height', height);\n",
       "\n",
       "            // And update the size in Python. We ignore the initial 0/0 size\n",
       "            // that occurs as the element is placed into the DOM, which should\n",
       "            // otherwise not happen due to the minimum size styling.\n",
       "            if (width != 0 && height != 0) {\n",
       "                fig.request_resize(width, height);\n",
       "            }\n",
       "        }\n",
       "    });\n",
       "    resizeObserver.observe(canvas_div);\n",
       "\n",
       "    function on_mouse_event_closure(name) {\n",
       "        return function (event) {\n",
       "            return fig.mouse_event(event, name);\n",
       "        };\n",
       "    }\n",
       "\n",
       "    rubberband_canvas.addEventListener(\n",
       "        'mousedown',\n",
       "        on_mouse_event_closure('button_press')\n",
       "    );\n",
       "    rubberband_canvas.addEventListener(\n",
       "        'mouseup',\n",
       "        on_mouse_event_closure('button_release')\n",
       "    );\n",
       "    // Throttle sequential mouse events to 1 every 20ms.\n",
       "    rubberband_canvas.addEventListener(\n",
       "        'mousemove',\n",
       "        on_mouse_event_closure('motion_notify')\n",
       "    );\n",
       "\n",
       "    rubberband_canvas.addEventListener(\n",
       "        'mouseenter',\n",
       "        on_mouse_event_closure('figure_enter')\n",
       "    );\n",
       "    rubberband_canvas.addEventListener(\n",
       "        'mouseleave',\n",
       "        on_mouse_event_closure('figure_leave')\n",
       "    );\n",
       "\n",
       "    canvas_div.addEventListener('wheel', function (event) {\n",
       "        if (event.deltaY < 0) {\n",
       "            event.step = 1;\n",
       "        } else {\n",
       "            event.step = -1;\n",
       "        }\n",
       "        on_mouse_event_closure('scroll')(event);\n",
       "    });\n",
       "\n",
       "    canvas_div.appendChild(canvas);\n",
       "    canvas_div.appendChild(rubberband_canvas);\n",
       "\n",
       "    this.rubberband_context = rubberband_canvas.getContext('2d');\n",
       "    this.rubberband_context.strokeStyle = '#000000';\n",
       "\n",
       "    this._resize_canvas = function (width, height, forward) {\n",
       "        if (forward) {\n",
       "            canvas_div.style.width = width + 'px';\n",
       "            canvas_div.style.height = height + 'px';\n",
       "        }\n",
       "    };\n",
       "\n",
       "    // Disable right mouse context menu.\n",
       "    this.rubberband_canvas.addEventListener('contextmenu', function (_e) {\n",
       "        event.preventDefault();\n",
       "        return false;\n",
       "    });\n",
       "\n",
       "    function set_focus() {\n",
       "        canvas.focus();\n",
       "        canvas_div.focus();\n",
       "    }\n",
       "\n",
       "    window.setTimeout(set_focus, 100);\n",
       "};\n",
       "\n",
       "mpl.figure.prototype._init_toolbar = function () {\n",
       "    var fig = this;\n",
       "\n",
       "    var toolbar = document.createElement('div');\n",
       "    toolbar.classList = 'mpl-toolbar';\n",
       "    this.root.appendChild(toolbar);\n",
       "\n",
       "    function on_click_closure(name) {\n",
       "        return function (_event) {\n",
       "            return fig.toolbar_button_onclick(name);\n",
       "        };\n",
       "    }\n",
       "\n",
       "    function on_mouseover_closure(tooltip) {\n",
       "        return function (event) {\n",
       "            if (!event.currentTarget.disabled) {\n",
       "                return fig.toolbar_button_onmouseover(tooltip);\n",
       "            }\n",
       "        };\n",
       "    }\n",
       "\n",
       "    fig.buttons = {};\n",
       "    var buttonGroup = document.createElement('div');\n",
       "    buttonGroup.classList = 'mpl-button-group';\n",
       "    for (var toolbar_ind in mpl.toolbar_items) {\n",
       "        var name = mpl.toolbar_items[toolbar_ind][0];\n",
       "        var tooltip = mpl.toolbar_items[toolbar_ind][1];\n",
       "        var image = mpl.toolbar_items[toolbar_ind][2];\n",
       "        var method_name = mpl.toolbar_items[toolbar_ind][3];\n",
       "\n",
       "        if (!name) {\n",
       "            /* Instead of a spacer, we start a new button group. */\n",
       "            if (buttonGroup.hasChildNodes()) {\n",
       "                toolbar.appendChild(buttonGroup);\n",
       "            }\n",
       "            buttonGroup = document.createElement('div');\n",
       "            buttonGroup.classList = 'mpl-button-group';\n",
       "            continue;\n",
       "        }\n",
       "\n",
       "        var button = (fig.buttons[name] = document.createElement('button'));\n",
       "        button.classList = 'mpl-widget';\n",
       "        button.setAttribute('role', 'button');\n",
       "        button.setAttribute('aria-disabled', 'false');\n",
       "        button.addEventListener('click', on_click_closure(method_name));\n",
       "        button.addEventListener('mouseover', on_mouseover_closure(tooltip));\n",
       "\n",
       "        var icon_img = document.createElement('img');\n",
       "        icon_img.src = '_images/' + image + '.png';\n",
       "        icon_img.srcset = '_images/' + image + '_large.png 2x';\n",
       "        icon_img.alt = tooltip;\n",
       "        button.appendChild(icon_img);\n",
       "\n",
       "        buttonGroup.appendChild(button);\n",
       "    }\n",
       "\n",
       "    if (buttonGroup.hasChildNodes()) {\n",
       "        toolbar.appendChild(buttonGroup);\n",
       "    }\n",
       "\n",
       "    var fmt_picker = document.createElement('select');\n",
       "    fmt_picker.classList = 'mpl-widget';\n",
       "    toolbar.appendChild(fmt_picker);\n",
       "    this.format_dropdown = fmt_picker;\n",
       "\n",
       "    for (var ind in mpl.extensions) {\n",
       "        var fmt = mpl.extensions[ind];\n",
       "        var option = document.createElement('option');\n",
       "        option.selected = fmt === mpl.default_extension;\n",
       "        option.innerHTML = fmt;\n",
       "        fmt_picker.appendChild(option);\n",
       "    }\n",
       "\n",
       "    var status_bar = document.createElement('span');\n",
       "    status_bar.classList = 'mpl-message';\n",
       "    toolbar.appendChild(status_bar);\n",
       "    this.message = status_bar;\n",
       "};\n",
       "\n",
       "mpl.figure.prototype.request_resize = function (x_pixels, y_pixels) {\n",
       "    // Request matplotlib to resize the figure. Matplotlib will then trigger a resize in the client,\n",
       "    // which will in turn request a refresh of the image.\n",
       "    this.send_message('resize', { width: x_pixels, height: y_pixels });\n",
       "};\n",
       "\n",
       "mpl.figure.prototype.send_message = function (type, properties) {\n",
       "    properties['type'] = type;\n",
       "    properties['figure_id'] = this.id;\n",
       "    this.ws.send(JSON.stringify(properties));\n",
       "};\n",
       "\n",
       "mpl.figure.prototype.send_draw_message = function () {\n",
       "    if (!this.waiting) {\n",
       "        this.waiting = true;\n",
       "        this.ws.send(JSON.stringify({ type: 'draw', figure_id: this.id }));\n",
       "    }\n",
       "};\n",
       "\n",
       "mpl.figure.prototype.handle_save = function (fig, _msg) {\n",
       "    var format_dropdown = fig.format_dropdown;\n",
       "    var format = format_dropdown.options[format_dropdown.selectedIndex].value;\n",
       "    fig.ondownload(fig, format);\n",
       "};\n",
       "\n",
       "mpl.figure.prototype.handle_resize = function (fig, msg) {\n",
       "    var size = msg['size'];\n",
       "    if (size[0] !== fig.canvas.width || size[1] !== fig.canvas.height) {\n",
       "        fig._resize_canvas(size[0], size[1], msg['forward']);\n",
       "        fig.send_message('refresh', {});\n",
       "    }\n",
       "};\n",
       "\n",
       "mpl.figure.prototype.handle_rubberband = function (fig, msg) {\n",
       "    var x0 = msg['x0'] / fig.ratio;\n",
       "    var y0 = (fig.canvas.height - msg['y0']) / fig.ratio;\n",
       "    var x1 = msg['x1'] / fig.ratio;\n",
       "    var y1 = (fig.canvas.height - msg['y1']) / fig.ratio;\n",
       "    x0 = Math.floor(x0) + 0.5;\n",
       "    y0 = Math.floor(y0) + 0.5;\n",
       "    x1 = Math.floor(x1) + 0.5;\n",
       "    y1 = Math.floor(y1) + 0.5;\n",
       "    var min_x = Math.min(x0, x1);\n",
       "    var min_y = Math.min(y0, y1);\n",
       "    var width = Math.abs(x1 - x0);\n",
       "    var height = Math.abs(y1 - y0);\n",
       "\n",
       "    fig.rubberband_context.clearRect(\n",
       "        0,\n",
       "        0,\n",
       "        fig.canvas.width / fig.ratio,\n",
       "        fig.canvas.height / fig.ratio\n",
       "    );\n",
       "\n",
       "    fig.rubberband_context.strokeRect(min_x, min_y, width, height);\n",
       "};\n",
       "\n",
       "mpl.figure.prototype.handle_figure_label = function (fig, msg) {\n",
       "    // Updates the figure title.\n",
       "    fig.header.textContent = msg['label'];\n",
       "};\n",
       "\n",
       "mpl.figure.prototype.handle_cursor = function (fig, msg) {\n",
       "    var cursor = msg['cursor'];\n",
       "    switch (cursor) {\n",
       "        case 0:\n",
       "            cursor = 'pointer';\n",
       "            break;\n",
       "        case 1:\n",
       "            cursor = 'default';\n",
       "            break;\n",
       "        case 2:\n",
       "            cursor = 'crosshair';\n",
       "            break;\n",
       "        case 3:\n",
       "            cursor = 'move';\n",
       "            break;\n",
       "    }\n",
       "    fig.rubberband_canvas.style.cursor = cursor;\n",
       "};\n",
       "\n",
       "mpl.figure.prototype.handle_message = function (fig, msg) {\n",
       "    fig.message.textContent = msg['message'];\n",
       "};\n",
       "\n",
       "mpl.figure.prototype.handle_draw = function (fig, _msg) {\n",
       "    // Request the server to send over a new figure.\n",
       "    fig.send_draw_message();\n",
       "};\n",
       "\n",
       "mpl.figure.prototype.handle_image_mode = function (fig, msg) {\n",
       "    fig.image_mode = msg['mode'];\n",
       "};\n",
       "\n",
       "mpl.figure.prototype.handle_history_buttons = function (fig, msg) {\n",
       "    for (var key in msg) {\n",
       "        if (!(key in fig.buttons)) {\n",
       "            continue;\n",
       "        }\n",
       "        fig.buttons[key].disabled = !msg[key];\n",
       "        fig.buttons[key].setAttribute('aria-disabled', !msg[key]);\n",
       "    }\n",
       "};\n",
       "\n",
       "mpl.figure.prototype.handle_navigate_mode = function (fig, msg) {\n",
       "    if (msg['mode'] === 'PAN') {\n",
       "        fig.buttons['Pan'].classList.add('active');\n",
       "        fig.buttons['Zoom'].classList.remove('active');\n",
       "    } else if (msg['mode'] === 'ZOOM') {\n",
       "        fig.buttons['Pan'].classList.remove('active');\n",
       "        fig.buttons['Zoom'].classList.add('active');\n",
       "    } else {\n",
       "        fig.buttons['Pan'].classList.remove('active');\n",
       "        fig.buttons['Zoom'].classList.remove('active');\n",
       "    }\n",
       "};\n",
       "\n",
       "mpl.figure.prototype.updated_canvas_event = function () {\n",
       "    // Called whenever the canvas gets updated.\n",
       "    this.send_message('ack', {});\n",
       "};\n",
       "\n",
       "// A function to construct a web socket function for onmessage handling.\n",
       "// Called in the figure constructor.\n",
       "mpl.figure.prototype._make_on_message_function = function (fig) {\n",
       "    return function socket_on_message(evt) {\n",
       "        if (evt.data instanceof Blob) {\n",
       "            /* FIXME: We get \"Resource interpreted as Image but\n",
       "             * transferred with MIME type text/plain:\" errors on\n",
       "             * Chrome.  But how to set the MIME type?  It doesn't seem\n",
       "             * to be part of the websocket stream */\n",
       "            evt.data.type = 'image/png';\n",
       "\n",
       "            /* Free the memory for the previous frames */\n",
       "            if (fig.imageObj.src) {\n",
       "                (window.URL || window.webkitURL).revokeObjectURL(\n",
       "                    fig.imageObj.src\n",
       "                );\n",
       "            }\n",
       "\n",
       "            fig.imageObj.src = (window.URL || window.webkitURL).createObjectURL(\n",
       "                evt.data\n",
       "            );\n",
       "            fig.updated_canvas_event();\n",
       "            fig.waiting = false;\n",
       "            return;\n",
       "        } else if (\n",
       "            typeof evt.data === 'string' &&\n",
       "            evt.data.slice(0, 21) === 'data:image/png;base64'\n",
       "        ) {\n",
       "            fig.imageObj.src = evt.data;\n",
       "            fig.updated_canvas_event();\n",
       "            fig.waiting = false;\n",
       "            return;\n",
       "        }\n",
       "\n",
       "        var msg = JSON.parse(evt.data);\n",
       "        var msg_type = msg['type'];\n",
       "\n",
       "        // Call the  \"handle_{type}\" callback, which takes\n",
       "        // the figure and JSON message as its only arguments.\n",
       "        try {\n",
       "            var callback = fig['handle_' + msg_type];\n",
       "        } catch (e) {\n",
       "            console.log(\n",
       "                \"No handler for the '\" + msg_type + \"' message type: \",\n",
       "                msg\n",
       "            );\n",
       "            return;\n",
       "        }\n",
       "\n",
       "        if (callback) {\n",
       "            try {\n",
       "                // console.log(\"Handling '\" + msg_type + \"' message: \", msg);\n",
       "                callback(fig, msg);\n",
       "            } catch (e) {\n",
       "                console.log(\n",
       "                    \"Exception inside the 'handler_\" + msg_type + \"' callback:\",\n",
       "                    e,\n",
       "                    e.stack,\n",
       "                    msg\n",
       "                );\n",
       "            }\n",
       "        }\n",
       "    };\n",
       "};\n",
       "\n",
       "// from http://stackoverflow.com/questions/1114465/getting-mouse-location-in-canvas\n",
       "mpl.findpos = function (e) {\n",
       "    //this section is from http://www.quirksmode.org/js/events_properties.html\n",
       "    var targ;\n",
       "    if (!e) {\n",
       "        e = window.event;\n",
       "    }\n",
       "    if (e.target) {\n",
       "        targ = e.target;\n",
       "    } else if (e.srcElement) {\n",
       "        targ = e.srcElement;\n",
       "    }\n",
       "    if (targ.nodeType === 3) {\n",
       "        // defeat Safari bug\n",
       "        targ = targ.parentNode;\n",
       "    }\n",
       "\n",
       "    // pageX,Y are the mouse positions relative to the document\n",
       "    var boundingRect = targ.getBoundingClientRect();\n",
       "    var x = e.pageX - (boundingRect.left + document.body.scrollLeft);\n",
       "    var y = e.pageY - (boundingRect.top + document.body.scrollTop);\n",
       "\n",
       "    return { x: x, y: y };\n",
       "};\n",
       "\n",
       "/*\n",
       " * return a copy of an object with only non-object keys\n",
       " * we need this to avoid circular references\n",
       " * http://stackoverflow.com/a/24161582/3208463\n",
       " */\n",
       "function simpleKeys(original) {\n",
       "    return Object.keys(original).reduce(function (obj, key) {\n",
       "        if (typeof original[key] !== 'object') {\n",
       "            obj[key] = original[key];\n",
       "        }\n",
       "        return obj;\n",
       "    }, {});\n",
       "}\n",
       "\n",
       "mpl.figure.prototype.mouse_event = function (event, name) {\n",
       "    var canvas_pos = mpl.findpos(event);\n",
       "\n",
       "    if (name === 'button_press') {\n",
       "        this.canvas.focus();\n",
       "        this.canvas_div.focus();\n",
       "    }\n",
       "\n",
       "    var x = canvas_pos.x * this.ratio;\n",
       "    var y = canvas_pos.y * this.ratio;\n",
       "\n",
       "    this.send_message(name, {\n",
       "        x: x,\n",
       "        y: y,\n",
       "        button: event.button,\n",
       "        step: event.step,\n",
       "        guiEvent: simpleKeys(event),\n",
       "    });\n",
       "\n",
       "    /* This prevents the web browser from automatically changing to\n",
       "     * the text insertion cursor when the button is pressed.  We want\n",
       "     * to control all of the cursor setting manually through the\n",
       "     * 'cursor' event from matplotlib */\n",
       "    event.preventDefault();\n",
       "    return false;\n",
       "};\n",
       "\n",
       "mpl.figure.prototype._key_event_extra = function (_event, _name) {\n",
       "    // Handle any extra behaviour associated with a key event\n",
       "};\n",
       "\n",
       "mpl.figure.prototype.key_event = function (event, name) {\n",
       "    // Prevent repeat events\n",
       "    if (name === 'key_press') {\n",
       "        if (event.which === this._key) {\n",
       "            return;\n",
       "        } else {\n",
       "            this._key = event.which;\n",
       "        }\n",
       "    }\n",
       "    if (name === 'key_release') {\n",
       "        this._key = null;\n",
       "    }\n",
       "\n",
       "    var value = '';\n",
       "    if (event.ctrlKey && event.which !== 17) {\n",
       "        value += 'ctrl+';\n",
       "    }\n",
       "    if (event.altKey && event.which !== 18) {\n",
       "        value += 'alt+';\n",
       "    }\n",
       "    if (event.shiftKey && event.which !== 16) {\n",
       "        value += 'shift+';\n",
       "    }\n",
       "\n",
       "    value += 'k';\n",
       "    value += event.which.toString();\n",
       "\n",
       "    this._key_event_extra(event, name);\n",
       "\n",
       "    this.send_message(name, { key: value, guiEvent: simpleKeys(event) });\n",
       "    return false;\n",
       "};\n",
       "\n",
       "mpl.figure.prototype.toolbar_button_onclick = function (name) {\n",
       "    if (name === 'download') {\n",
       "        this.handle_save(this, null);\n",
       "    } else {\n",
       "        this.send_message('toolbar_button', { name: name });\n",
       "    }\n",
       "};\n",
       "\n",
       "mpl.figure.prototype.toolbar_button_onmouseover = function (tooltip) {\n",
       "    this.message.textContent = tooltip;\n",
       "};\n",
       "mpl.toolbar_items = [[\"Home\", \"Reset original view\", \"fa fa-home icon-home\", \"home\"], [\"Back\", \"Back to previous view\", \"fa fa-arrow-left icon-arrow-left\", \"back\"], [\"Forward\", \"Forward to next view\", \"fa fa-arrow-right icon-arrow-right\", \"forward\"], [\"\", \"\", \"\", \"\"], [\"Pan\", \"Left button pans, Right button zooms\\nx/y fixes axis, CTRL fixes aspect\", \"fa fa-arrows icon-move\", \"pan\"], [\"Zoom\", \"Zoom to rectangle\\nx/y fixes axis, CTRL fixes aspect\", \"fa fa-square-o icon-check-empty\", \"zoom\"], [\"\", \"\", \"\", \"\"], [\"Download\", \"Download plot\", \"fa fa-floppy-o icon-save\", \"download\"]];\n",
       "\n",
       "mpl.extensions = [\"eps\", \"jpeg\", \"pdf\", \"png\", \"ps\", \"raw\", \"svg\", \"tif\"];\n",
       "\n",
       "mpl.default_extension = \"png\";/* global mpl */\n",
       "\n",
       "var comm_websocket_adapter = function (comm) {\n",
       "    // Create a \"websocket\"-like object which calls the given IPython comm\n",
       "    // object with the appropriate methods. Currently this is a non binary\n",
       "    // socket, so there is still some room for performance tuning.\n",
       "    var ws = {};\n",
       "\n",
       "    ws.close = function () {\n",
       "        comm.close();\n",
       "    };\n",
       "    ws.send = function (m) {\n",
       "        //console.log('sending', m);\n",
       "        comm.send(m);\n",
       "    };\n",
       "    // Register the callback with on_msg.\n",
       "    comm.on_msg(function (msg) {\n",
       "        //console.log('receiving', msg['content']['data'], msg);\n",
       "        // Pass the mpl event to the overridden (by mpl) onmessage function.\n",
       "        ws.onmessage(msg['content']['data']);\n",
       "    });\n",
       "    return ws;\n",
       "};\n",
       "\n",
       "mpl.mpl_figure_comm = function (comm, msg) {\n",
       "    // This is the function which gets called when the mpl process\n",
       "    // starts-up an IPython Comm through the \"matplotlib\" channel.\n",
       "\n",
       "    var id = msg.content.data.id;\n",
       "    // Get hold of the div created by the display call when the Comm\n",
       "    // socket was opened in Python.\n",
       "    var element = document.getElementById(id);\n",
       "    var ws_proxy = comm_websocket_adapter(comm);\n",
       "\n",
       "    function ondownload(figure, _format) {\n",
       "        window.open(figure.canvas.toDataURL());\n",
       "    }\n",
       "\n",
       "    var fig = new mpl.figure(id, ws_proxy, ondownload, element);\n",
       "\n",
       "    // Call onopen now - mpl needs it, as it is assuming we've passed it a real\n",
       "    // web socket which is closed, not our websocket->open comm proxy.\n",
       "    ws_proxy.onopen();\n",
       "\n",
       "    fig.parent_element = element;\n",
       "    fig.cell_info = mpl.find_output_cell(\"<div id='\" + id + \"'></div>\");\n",
       "    if (!fig.cell_info) {\n",
       "        console.error('Failed to find cell for figure', id, fig);\n",
       "        return;\n",
       "    }\n",
       "    fig.cell_info[0].output_area.element.one(\n",
       "        'cleared',\n",
       "        { fig: fig },\n",
       "        fig._remove_fig_handler\n",
       "    );\n",
       "};\n",
       "\n",
       "mpl.figure.prototype.handle_close = function (fig, msg) {\n",
       "    var width = fig.canvas.width / fig.ratio;\n",
       "    fig.cell_info[0].output_area.element.off(\n",
       "        'cleared',\n",
       "        fig._remove_fig_handler\n",
       "    );\n",
       "\n",
       "    // Update the output cell to use the data from the current canvas.\n",
       "    fig.push_to_output();\n",
       "    var dataURL = fig.canvas.toDataURL();\n",
       "    // Re-enable the keyboard manager in IPython - without this line, in FF,\n",
       "    // the notebook keyboard shortcuts fail.\n",
       "    IPython.keyboard_manager.enable();\n",
       "    fig.parent_element.innerHTML =\n",
       "        '<img src=\"' + dataURL + '\" width=\"' + width + '\">';\n",
       "    fig.close_ws(fig, msg);\n",
       "};\n",
       "\n",
       "mpl.figure.prototype.close_ws = function (fig, msg) {\n",
       "    fig.send_message('closing', msg);\n",
       "    // fig.ws.close()\n",
       "};\n",
       "\n",
       "mpl.figure.prototype.push_to_output = function (_remove_interactive) {\n",
       "    // Turn the data on the canvas into data in the output cell.\n",
       "    var width = this.canvas.width / this.ratio;\n",
       "    var dataURL = this.canvas.toDataURL();\n",
       "    this.cell_info[1]['text/html'] =\n",
       "        '<img src=\"' + dataURL + '\" width=\"' + width + '\">';\n",
       "};\n",
       "\n",
       "mpl.figure.prototype.updated_canvas_event = function () {\n",
       "    // Tell IPython that the notebook contents must change.\n",
       "    IPython.notebook.set_dirty(true);\n",
       "    this.send_message('ack', {});\n",
       "    var fig = this;\n",
       "    // Wait a second, then push the new image to the DOM so\n",
       "    // that it is saved nicely (might be nice to debounce this).\n",
       "    setTimeout(function () {\n",
       "        fig.push_to_output();\n",
       "    }, 1000);\n",
       "};\n",
       "\n",
       "mpl.figure.prototype._init_toolbar = function () {\n",
       "    var fig = this;\n",
       "\n",
       "    var toolbar = document.createElement('div');\n",
       "    toolbar.classList = 'btn-toolbar';\n",
       "    this.root.appendChild(toolbar);\n",
       "\n",
       "    function on_click_closure(name) {\n",
       "        return function (_event) {\n",
       "            return fig.toolbar_button_onclick(name);\n",
       "        };\n",
       "    }\n",
       "\n",
       "    function on_mouseover_closure(tooltip) {\n",
       "        return function (event) {\n",
       "            if (!event.currentTarget.disabled) {\n",
       "                return fig.toolbar_button_onmouseover(tooltip);\n",
       "            }\n",
       "        };\n",
       "    }\n",
       "\n",
       "    fig.buttons = {};\n",
       "    var buttonGroup = document.createElement('div');\n",
       "    buttonGroup.classList = 'btn-group';\n",
       "    var button;\n",
       "    for (var toolbar_ind in mpl.toolbar_items) {\n",
       "        var name = mpl.toolbar_items[toolbar_ind][0];\n",
       "        var tooltip = mpl.toolbar_items[toolbar_ind][1];\n",
       "        var image = mpl.toolbar_items[toolbar_ind][2];\n",
       "        var method_name = mpl.toolbar_items[toolbar_ind][3];\n",
       "\n",
       "        if (!name) {\n",
       "            /* Instead of a spacer, we start a new button group. */\n",
       "            if (buttonGroup.hasChildNodes()) {\n",
       "                toolbar.appendChild(buttonGroup);\n",
       "            }\n",
       "            buttonGroup = document.createElement('div');\n",
       "            buttonGroup.classList = 'btn-group';\n",
       "            continue;\n",
       "        }\n",
       "\n",
       "        button = fig.buttons[name] = document.createElement('button');\n",
       "        button.classList = 'btn btn-default';\n",
       "        button.href = '#';\n",
       "        button.title = name;\n",
       "        button.innerHTML = '<i class=\"fa ' + image + ' fa-lg\"></i>';\n",
       "        button.addEventListener('click', on_click_closure(method_name));\n",
       "        button.addEventListener('mouseover', on_mouseover_closure(tooltip));\n",
       "        buttonGroup.appendChild(button);\n",
       "    }\n",
       "\n",
       "    if (buttonGroup.hasChildNodes()) {\n",
       "        toolbar.appendChild(buttonGroup);\n",
       "    }\n",
       "\n",
       "    // Add the status bar.\n",
       "    var status_bar = document.createElement('span');\n",
       "    status_bar.classList = 'mpl-message pull-right';\n",
       "    toolbar.appendChild(status_bar);\n",
       "    this.message = status_bar;\n",
       "\n",
       "    // Add the close button to the window.\n",
       "    var buttongrp = document.createElement('div');\n",
       "    buttongrp.classList = 'btn-group inline pull-right';\n",
       "    button = document.createElement('button');\n",
       "    button.classList = 'btn btn-mini btn-primary';\n",
       "    button.href = '#';\n",
       "    button.title = 'Stop Interaction';\n",
       "    button.innerHTML = '<i class=\"fa fa-power-off icon-remove icon-large\"></i>';\n",
       "    button.addEventListener('click', function (_evt) {\n",
       "        fig.handle_close(fig, {});\n",
       "    });\n",
       "    button.addEventListener(\n",
       "        'mouseover',\n",
       "        on_mouseover_closure('Stop Interaction')\n",
       "    );\n",
       "    buttongrp.appendChild(button);\n",
       "    var titlebar = this.root.querySelector('.ui-dialog-titlebar');\n",
       "    titlebar.insertBefore(buttongrp, titlebar.firstChild);\n",
       "};\n",
       "\n",
       "mpl.figure.prototype._remove_fig_handler = function (event) {\n",
       "    var fig = event.data.fig;\n",
       "    fig.close_ws(fig, {});\n",
       "};\n",
       "\n",
       "mpl.figure.prototype._root_extra_style = function (el) {\n",
       "    el.style.boxSizing = 'content-box'; // override notebook setting of border-box.\n",
       "};\n",
       "\n",
       "mpl.figure.prototype._canvas_extra_style = function (el) {\n",
       "    // this is important to make the div 'focusable\n",
       "    el.setAttribute('tabindex', 0);\n",
       "    // reach out to IPython and tell the keyboard manager to turn it's self\n",
       "    // off when our div gets focus\n",
       "\n",
       "    // location in version 3\n",
       "    if (IPython.notebook.keyboard_manager) {\n",
       "        IPython.notebook.keyboard_manager.register_events(el);\n",
       "    } else {\n",
       "        // location in version 2\n",
       "        IPython.keyboard_manager.register_events(el);\n",
       "    }\n",
       "};\n",
       "\n",
       "mpl.figure.prototype._key_event_extra = function (event, _name) {\n",
       "    var manager = IPython.notebook.keyboard_manager;\n",
       "    if (!manager) {\n",
       "        manager = IPython.keyboard_manager;\n",
       "    }\n",
       "\n",
       "    // Check for shift+enter\n",
       "    if (event.shiftKey && event.which === 13) {\n",
       "        this.canvas_div.blur();\n",
       "        // select the cell after this one\n",
       "        var index = IPython.notebook.find_cell_index(this.cell_info[0]);\n",
       "        IPython.notebook.select(index + 1);\n",
       "    }\n",
       "};\n",
       "\n",
       "mpl.figure.prototype.handle_save = function (fig, _msg) {\n",
       "    fig.ondownload(fig, null);\n",
       "};\n",
       "\n",
       "mpl.find_output_cell = function (html_output) {\n",
       "    // Return the cell and output element which can be found *uniquely* in the notebook.\n",
       "    // Note - this is a bit hacky, but it is done because the \"notebook_saving.Notebook\"\n",
       "    // IPython event is triggered only after the cells have been serialised, which for\n",
       "    // our purposes (turning an active figure into a static one), is too late.\n",
       "    var cells = IPython.notebook.get_cells();\n",
       "    var ncells = cells.length;\n",
       "    for (var i = 0; i < ncells; i++) {\n",
       "        var cell = cells[i];\n",
       "        if (cell.cell_type === 'code') {\n",
       "            for (var j = 0; j < cell.output_area.outputs.length; j++) {\n",
       "                var data = cell.output_area.outputs[j];\n",
       "                if (data.data) {\n",
       "                    // IPython >= 3 moved mimebundle to data attribute of output\n",
       "                    data = data.data;\n",
       "                }\n",
       "                if (data['text/html'] === html_output) {\n",
       "                    return [cell, data, j];\n",
       "                }\n",
       "            }\n",
       "        }\n",
       "    }\n",
       "};\n",
       "\n",
       "// Register the function which deals with the matplotlib target/channel.\n",
       "// The kernel may be null if the page has been refreshed.\n",
       "if (IPython.notebook.kernel !== null) {\n",
       "    IPython.notebook.kernel.comm_manager.register_target(\n",
       "        'matplotlib',\n",
       "        mpl.mpl_figure_comm\n",
       "    );\n",
       "}\n"
      ],
      "text/plain": [
       "<IPython.core.display.Javascript object>"
      ]
     },
     "metadata": {},
     "output_type": "display_data"
    },
    {
     "data": {
      "text/html": [
       "<img src=\"data:image/png;base64,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\" width=\"640\">"
      ],
      "text/plain": [
       "<IPython.core.display.HTML object>"
      ]
     },
     "metadata": {},
     "output_type": "display_data"
    },
    {
     "data": {
      "application/vnd.jupyter.widget-view+json": {
       "model_id": "a4c8f9187e31495799a5ca3890202bbf",
       "version_major": 2,
       "version_minor": 0
      },
      "text/plain": [
       "Button(description='Save Inputs', icon='check', layout=Layout(height='80px', width='50%'), style=ButtonStyle()…"
      ]
     },
     "metadata": {},
     "output_type": "display_data"
    },
    {
     "name": "stdout",
     "output_type": "stream",
     "text": [
      "Inputs saved and exported!\n"
     ]
    }
   ],
   "source": [
    "units = [units_length.value, ' ', units_energy.value, ' ', units_angles.value, ' ', units_magnetic_field.value]\n",
    "init_types = [f'{init_position.value}', ' ', f'{init_energy.value}', ' ', f'{init_divergence.value}']\n",
    "\n",
    "convert_beam_direction, convert_divergence_spread, convert_screen_angles = convertAngles(units, beam_direction_widgets, \n",
    "                                                                                         beam_divergence_spread_widgets, \n",
    "                                                                                         screen_angles_widgets)\n",
    "%matplotlib notebook\n",
    "DisplayAndOutput(global_bounds, units, number_of_magnets.value, magnet_dimensions_widgets, permanent_dimension_widgets, \n",
    "                 magnet_position_widgets, magnetic_field_values_widgets, magnetic_field_axes_widgets, \n",
    "                 number_of_particles.value, beam_start_position_widgets, beam_energy, convert_beam_direction, \n",
    "                 beam_position_spread_widgets, beam_energy_spread, convert_divergence_spread, number_of_screens.value, \n",
    "                 screen_dimensions_widgets, screen_position_widgets, convert_screen_angles, init_types, particle_species, magnet_types_widgets)"
   ]
  },
  {
   "cell_type": "markdown",
   "metadata": {},
   "source": [
    "## Genetic Algorithm"
   ]
  },
  {
   "cell_type": "code",
   "execution_count": 21,
   "metadata": {},
   "outputs": [
    {
     "data": {
      "application/vnd.jupyter.widget-view+json": {
       "model_id": "073edb34a8fe4ef0a2efeab41ec0c920",
       "version_major": 2,
       "version_minor": 0
      },
      "text/plain": [
       "Label(value='Do you want to use the genetic algorithm? ')"
      ]
     },
     "metadata": {},
     "output_type": "display_data"
    },
    {
     "data": {
      "application/vnd.jupyter.widget-view+json": {
       "model_id": "f8d47c048a3d4db9b391f8474cdd6085",
       "version_major": 2,
       "version_minor": 0
      },
      "text/plain": [
       "Button(description='Yes', icon='check', style=ButtonStyle())"
      ]
     },
     "metadata": {},
     "output_type": "display_data"
    },
    {
     "data": {
      "application/vnd.jupyter.widget-view+json": {
       "model_id": "567927bba1d7458f9a180ca8a74250d6",
       "version_major": 2,
       "version_minor": 0
      },
      "text/plain": [
       "Label(value='The genetic algorithm has access to mutate:')"
      ]
     },
     "metadata": {},
     "output_type": "display_data"
    },
    {
     "data": {
      "application/vnd.jupyter.widget-view+json": {
       "model_id": "69cc4834667c42ec894630e6a6f2b26c",
       "version_major": 2,
       "version_minor": 0
      },
      "text/plain": [
       "Label(value='Magnet position')"
      ]
     },
     "metadata": {},
     "output_type": "display_data"
    },
    {
     "data": {
      "application/vnd.jupyter.widget-view+json": {
       "model_id": "ded9ebc7dac6461fa4acd33b2b8294dc",
       "version_major": 2,
       "version_minor": 0
      },
      "text/plain": [
       "HBox(children=(VBox(children=(Checkbox(value=False, description='x pos 1'), Checkbox(value=False, description=…"
      ]
     },
     "metadata": {},
     "output_type": "display_data"
    },
    {
     "data": {
      "application/vnd.jupyter.widget-view+json": {
       "model_id": "4886f9032b934775befa77dcb9985d38",
       "version_major": 2,
       "version_minor": 0
      },
      "text/plain": [
       "Label(value='Screen position')"
      ]
     },
     "metadata": {},
     "output_type": "display_data"
    },
    {
     "data": {
      "application/vnd.jupyter.widget-view+json": {
       "model_id": "6fa4309457f34db2a7b66e346acf0668",
       "version_major": 2,
       "version_minor": 0
      },
      "text/plain": [
       "HBox(children=(VBox(children=(Checkbox(value=False, description='x pos 1'), Checkbox(value=False, description=…"
      ]
     },
     "metadata": {},
     "output_type": "display_data"
    },
    {
     "data": {
      "application/vnd.jupyter.widget-view+json": {
       "model_id": "b208a7a1444c4fc3b56dbd38112ed645",
       "version_major": 2,
       "version_minor": 0
      },
      "text/plain": [
       "Label(value='Screen angles')"
      ]
     },
     "metadata": {},
     "output_type": "display_data"
    },
    {
     "data": {
      "application/vnd.jupyter.widget-view+json": {
       "model_id": "4af387d2bacd45fe8a787a55be1f6eab",
       "version_major": 2,
       "version_minor": 0
      },
      "text/plain": [
       "HBox(children=(VBox(children=(Checkbox(value=False, description='yaw 1'), Checkbox(value=False, description='p…"
      ]
     },
     "metadata": {},
     "output_type": "display_data"
    },
    {
     "data": {
      "application/vnd.jupyter.widget-view+json": {
       "model_id": "224ac5abbf4f46438e18191a8bf0d0ec",
       "version_major": 2,
       "version_minor": 0
      },
      "text/plain": [
       "Label(value='Click below to save and output selection')"
      ]
     },
     "metadata": {},
     "output_type": "display_data"
    },
    {
     "data": {
      "application/vnd.jupyter.widget-view+json": {
       "model_id": "2f0ea502baeb48c3af36eb4ad39847f6",
       "version_major": 2,
       "version_minor": 0
      },
      "text/plain": [
       "Button(description='Save Checked Boxes', icon='check', layout=Layout(height='80px', width='50%'), style=Button…"
      ]
     },
     "metadata": {},
     "output_type": "display_data"
    },
    {
     "name": "stdout",
     "output_type": "stream",
     "text": [
      "Choices saved and exported!\n",
      "Choices saved and exported!\n",
      "Choices saved and exported!\n"
     ]
    }
   ],
   "source": [
    "genetic_algorithm_setup(global_bounds, number_of_magnets.value, number_of_screens.value, units_length.value,\n",
    "                        magnetic_field_values_widgets)"
   ]
  },
  {
   "cell_type": "code",
   "execution_count": null,
   "metadata": {},
   "outputs": [],
   "source": []
  }
 ],
 "metadata": {
  "kernelspec": {
   "display_name": "Python 3",
   "language": "python",
   "name": "python3"
  },
  "language_info": {
   "codemirror_mode": {
    "name": "ipython",
    "version": 3
   },
   "file_extension": ".py",
   "mimetype": "text/x-python",
   "name": "python",
   "nbconvert_exporter": "python",
   "pygments_lexer": "ipython3",
   "version": "3.8.5"
  }
 },
 "nbformat": 4,
 "nbformat_minor": 2
}
