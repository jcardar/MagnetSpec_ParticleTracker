{
 "cells": [
  {
   "cell_type": "markdown",
   "metadata": {},
   "source": [
    "Define interactive variables to set up particle stepper (static and variable), and then have user define figure of merit.<br>\n",
    "Write out in either .csv or .txt file (idea: in .csv file, have rows correspond to objects (ie, magnets, particle beam, etc) and have the first column represent the number of those objects (magnets, beams, etc), and the remaining columns an ordered list of values defining those objects, to read from left to right, spanning all of the relevant objects).<br>\n",
    "Have c++ code read this, and define objects with 'for' loops."
   ]
  },
  {
   "cell_type": "markdown",
   "metadata": {},
   "source": [
    "Items to define for input deck:<br>\n",
    "1. Magnet: Center of Entrance Plane, Length, Width, Height, magnetic field strength (vector) (x-component, y-component, z-component)\n",
    "2. Beam: number of particles, central starting position, central energy, central direction (angles from axes (angle for x determined from angles for y and z, and is silently ignored))\n",
    "3. Beam: spread in starting position, spread in central energy, spread in divergence (user input FWHM of Gaussian spread, code uses 0.5 of this in spread)\n",
    "4. Screen: Low-Energy Middle, Width, Height, Angle from both z- and x-axes"
   ]
  },
  {
   "cell_type": "markdown",
   "metadata": {},
   "source": [
    "## Your preferred units:\n",
    ">Please run the next cell once to generate widget objects. Change the values in the dropdowns to the value to prefer. Do not run the cell again, the value is dynamically updated when you change the value in the dropdown menu!"
   ]
  },
  {
   "cell_type": "code",
   "execution_count": 1,
   "metadata": {},
   "outputs": [
    {
     "data": {
      "application/vnd.jupyter.widget-view+json": {
       "model_id": "87ab12d7779644e38574d774fc90df4b",
       "version_major": 2,
       "version_minor": 0
      },
      "text/plain": [
       "Dropdown(description='Length Unit', index=1, layout=Layout(width='250px'), options=('mm', 'cm', 'm'), style=De…"
      ]
     },
     "metadata": {},
     "output_type": "display_data"
    },
    {
     "data": {
      "application/vnd.jupyter.widget-view+json": {
       "model_id": "38d7401723804aeea3cf875c37b8c99a",
       "version_major": 2,
       "version_minor": 0
      },
      "text/plain": [
       "Dropdown(description='Energy Unit', index=1, layout=Layout(width='250px'), options=('eV', 'MeV', 'GeV'), style…"
      ]
     },
     "metadata": {},
     "output_type": "display_data"
    },
    {
     "data": {
      "application/vnd.jupyter.widget-view+json": {
       "model_id": "5312496a324e4f5a96cf751c9fa1c1df",
       "version_major": 2,
       "version_minor": 0
      },
      "text/plain": [
       "Dropdown(description='Angle Unit', layout=Layout(width='250px'), options=('mrad', 'Radians', 'Degrees'), style…"
      ]
     },
     "metadata": {},
     "output_type": "display_data"
    },
    {
     "data": {
      "application/vnd.jupyter.widget-view+json": {
       "model_id": "ed65e28f117b408db935bc6711ede86b",
       "version_major": 2,
       "version_minor": 0
      },
      "text/plain": [
       "Dropdown(description='Field Unit', layout=Layout(width='250px'), options=('Tesla', 'Gauss'), style=Description…"
      ]
     },
     "metadata": {},
     "output_type": "display_data"
    }
   ],
   "source": [
    "from magspecinterface_functions import *\n",
    "display( units_length )\n",
    "display( units_energy )\n",
    "display( units_angles )\n",
    "display( units_magnetic_field )"
   ]
  },
  {
   "cell_type": "markdown",
   "metadata": {},
   "source": [
    "## Initialization type"
   ]
  },
  {
   "cell_type": "code",
   "execution_count": 2,
   "metadata": {},
   "outputs": [
    {
     "data": {
      "application/vnd.jupyter.widget-view+json": {
       "model_id": "385523305f8b4808bb9bb20de7ea7ac0",
       "version_major": 2,
       "version_minor": 0
      },
      "text/plain": [
       "Dropdown(description='Position', index=2, layout=Layout(width='250px'), options=(('Gaussian', 0), ('Uniform', …"
      ]
     },
     "metadata": {},
     "output_type": "display_data"
    },
    {
     "data": {
      "application/vnd.jupyter.widget-view+json": {
       "model_id": "fe5208a357d348909b145f9fd6eef337",
       "version_major": 2,
       "version_minor": 0
      },
      "text/plain": [
       "Dropdown(description='Energy', index=1, layout=Layout(width='250px'), options=(('Gaussian', 0), ('Uniform', 1)…"
      ]
     },
     "metadata": {},
     "output_type": "display_data"
    },
    {
     "data": {
      "application/vnd.jupyter.widget-view+json": {
       "model_id": "0d9370bcafea457bbc0309b991349e96",
       "version_major": 2,
       "version_minor": 0
      },
      "text/plain": [
       "Dropdown(description='Divergence', index=3, layout=Layout(width='250px'), options=(('Gaussian', 0), ('Uniform'…"
      ]
     },
     "metadata": {},
     "output_type": "display_data"
    }
   ],
   "source": [
    "display( init_position )\n",
    "display( init_energy )\n",
    "display( init_divergence )"
   ]
  },
  {
   "cell_type": "markdown",
   "metadata": {},
   "source": [
    "## Spectrometer coordinate system\n",
    "> Define the limits to the spectrometer coordinate system. You are free to choose what marks the origin.<br>\n",
    "**Note:** Global bounds may be negative."
   ]
  },
  {
   "cell_type": "code",
   "execution_count": 3,
   "metadata": {},
   "outputs": [
    {
     "data": {
      "application/vnd.jupyter.widget-view+json": {
       "model_id": "adccc9a39cd446f4a33fcdb2c71f1cff",
       "version_major": 2,
       "version_minor": 0
      },
      "text/plain": [
       "FloatText(value=200.0, description='Global x max', layout=Layout(width='250px'), style=DescriptionStyle(descri…"
      ]
     },
     "metadata": {},
     "output_type": "display_data"
    },
    {
     "data": {
      "application/vnd.jupyter.widget-view+json": {
       "model_id": "39a6d34753914933b31159ca5ff81bad",
       "version_major": 2,
       "version_minor": 0
      },
      "text/plain": [
       "FloatText(value=-10.0, description='Global x min', layout=Layout(width='250px'), style=DescriptionStyle(descri…"
      ]
     },
     "metadata": {},
     "output_type": "display_data"
    },
    {
     "data": {
      "application/vnd.jupyter.widget-view+json": {
       "model_id": "60806cb4d0624899a79f4e6911bd1d3a",
       "version_major": 2,
       "version_minor": 0
      },
      "text/plain": [
       "FloatText(value=100.0, description='Global y max', layout=Layout(width='250px'), style=DescriptionStyle(descri…"
      ]
     },
     "metadata": {},
     "output_type": "display_data"
    },
    {
     "data": {
      "application/vnd.jupyter.widget-view+json": {
       "model_id": "2f4d156ad1df4b0098accba19ff785b0",
       "version_major": 2,
       "version_minor": 0
      },
      "text/plain": [
       "FloatText(value=-100.0, description='Global y min', layout=Layout(width='250px'), style=DescriptionStyle(descr…"
      ]
     },
     "metadata": {},
     "output_type": "display_data"
    },
    {
     "data": {
      "application/vnd.jupyter.widget-view+json": {
       "model_id": "265449f932af40b9ba156b7809987000",
       "version_major": 2,
       "version_minor": 0
      },
      "text/plain": [
       "FloatText(value=100.0, description='Global z max', layout=Layout(width='250px'), style=DescriptionStyle(descri…"
      ]
     },
     "metadata": {},
     "output_type": "display_data"
    },
    {
     "data": {
      "application/vnd.jupyter.widget-view+json": {
       "model_id": "cefe2b6e897a4c67b6c4a022f8bcb841",
       "version_major": 2,
       "version_minor": 0
      },
      "text/plain": [
       "FloatText(value=-100.0, description='Global z min', layout=Layout(width='250px'), style=DescriptionStyle(descr…"
      ]
     },
     "metadata": {},
     "output_type": "display_data"
    }
   ],
   "source": [
    "for ii in range(len(global_bounds)):\n",
    "    display( global_bounds[ii] )"
   ]
  },
  {
   "cell_type": "markdown",
   "metadata": {},
   "source": [
    "## Magnet setup:\n",
    "> Number of magnets, dimensions, position, and magnetic field components."
   ]
  },
  {
   "cell_type": "markdown",
   "metadata": {},
   "source": [
    "![alt text](magnet_position.png \"Magnet_Setup\")"
   ]
  },
  {
   "cell_type": "code",
   "execution_count": 4,
   "metadata": {},
   "outputs": [
    {
     "data": {
      "application/vnd.jupyter.widget-view+json": {
       "model_id": "6d99683fa7b148db8b734accbb085c73",
       "version_major": 2,
       "version_minor": 0
      },
      "text/plain": [
       "BoundedIntText(value=1, description='Number of Magnets', layout=Layout(width='250px'), min=1, style=Descriptio…"
      ]
     },
     "metadata": {},
     "output_type": "display_data"
    }
   ],
   "source": [
    "display( number_of_magnets )"
   ]
  },
  {
   "cell_type": "code",
   "execution_count": 5,
   "metadata": {
    "scrolled": true
   },
   "outputs": [
    {
     "data": {
      "application/vnd.jupyter.widget-view+json": {
       "model_id": "7b8d3d51fd6a4959a66f5d30ec7030a9",
       "version_major": 2,
       "version_minor": 0
      },
      "text/plain": [
       "BoundedFloatText(value=10.0, description='Width 1', layout=Layout(width='250px'), max=250.0, style=Description…"
      ]
     },
     "metadata": {},
     "output_type": "display_data"
    },
    {
     "data": {
      "application/vnd.jupyter.widget-view+json": {
       "model_id": "266c8f89f5ae40b8aa6b0b432352fc6f",
       "version_major": 2,
       "version_minor": 0
      },
      "text/plain": [
       "BoundedFloatText(value=30.0, description='Length 1', layout=Layout(width='250px'), max=400.0, style=Descriptio…"
      ]
     },
     "metadata": {},
     "output_type": "display_data"
    },
    {
     "data": {
      "application/vnd.jupyter.widget-view+json": {
       "model_id": "9fea462a0f054c6c8b1ce06467af4a4d",
       "version_major": 2,
       "version_minor": 0
      },
      "text/plain": [
       "BoundedFloatText(value=5.0, description='Height 1', layout=Layout(width='250px'), style=DescriptionStyle(descr…"
      ]
     },
     "metadata": {},
     "output_type": "display_data"
    },
    {
     "data": {
      "application/vnd.jupyter.widget-view+json": {
       "model_id": "167d41e289d442ccac937fa527c85a84",
       "version_major": 2,
       "version_minor": 0
      },
      "text/plain": [
       "BoundedFloatText(value=10.0, description='Width 2', layout=Layout(width='250px'), max=250.0, style=Description…"
      ]
     },
     "metadata": {},
     "output_type": "display_data"
    },
    {
     "data": {
      "application/vnd.jupyter.widget-view+json": {
       "model_id": "d4785468a91a46868ba829e226c01ed1",
       "version_major": 2,
       "version_minor": 0
      },
      "text/plain": [
       "BoundedFloatText(value=30.0, description='Length 2', layout=Layout(width='250px'), max=400.0, style=Descriptio…"
      ]
     },
     "metadata": {},
     "output_type": "display_data"
    },
    {
     "data": {
      "application/vnd.jupyter.widget-view+json": {
       "model_id": "6700b9fc79cd4bef9248cf3746b06bf2",
       "version_major": 2,
       "version_minor": 0
      },
      "text/plain": [
       "BoundedFloatText(value=5.0, description='Height 2', layout=Layout(width='250px'), style=DescriptionStyle(descr…"
      ]
     },
     "metadata": {},
     "output_type": "display_data"
    }
   ],
   "source": [
    "magnet_dimensions_widgets = dynamicFloatValue_Magnet_Dimensions(number_of_magnets.value, global_bounds)\n",
    "for ii in range(len(magnet_dimensions_widgets)):\n",
    "    display( magnet_dimensions_widgets[ii] )"
   ]
  },
  {
   "cell_type": "markdown",
   "metadata": {},
   "source": [
    "> **Note:** This is **not** a dimension of the space between magnets. This is the dimension of one permanent magnet parallel to the separation between the magnets."
   ]
  },
  {
   "cell_type": "code",
   "execution_count": 6,
   "metadata": {},
   "outputs": [
    {
     "data": {
      "application/vnd.jupyter.widget-view+json": {
       "model_id": "147a61826d5141999367466236a719ac",
       "version_major": 2,
       "version_minor": 0
      },
      "text/plain": [
       "FloatText(value=10.0, description='Dimension 1', layout=Layout(width='250px'), style=DescriptionStyle(descript…"
      ]
     },
     "metadata": {},
     "output_type": "display_data"
    },
    {
     "data": {
      "application/vnd.jupyter.widget-view+json": {
       "model_id": "f1414271c4de4e4099dd41441f96cc93",
       "version_major": 2,
       "version_minor": 0
      },
      "text/plain": [
       "FloatText(value=10.0, description='Dimension 2', layout=Layout(width='250px'), style=DescriptionStyle(descript…"
      ]
     },
     "metadata": {},
     "output_type": "display_data"
    }
   ],
   "source": [
    "permanent_dimension_widgets = dynamicFloatValue_Permanent_Magnet_Dimension(number_of_magnets.value)\n",
    "for ii in range(len(permanent_dimension_widgets)):\n",
    "    display( permanent_dimension_widgets[ii] )"
   ]
  },
  {
   "cell_type": "markdown",
   "metadata": {},
   "source": [
    "> **Important:** Position value limits are based on global bounds and magnet dimensions. Please re-run the below cell if values for either change."
   ]
  },
  {
   "cell_type": "code",
   "execution_count": 7,
   "metadata": {
    "scrolled": true
   },
   "outputs": [
    {
     "data": {
      "application/vnd.jupyter.widget-view+json": {
       "model_id": "630b5561a2324427875bed32e5e107ec",
       "version_major": 2,
       "version_minor": 0
      },
      "text/plain": [
       "BoundedFloatText(value=0.0, description='X-Position 1', layout=Layout(width='250px'), max=370.0, min=-10.0, st…"
      ]
     },
     "metadata": {},
     "output_type": "display_data"
    },
    {
     "data": {
      "application/vnd.jupyter.widget-view+json": {
       "model_id": "323fe4f957b24cad8fb89ff1a7c8bad0",
       "version_major": 2,
       "version_minor": 0
      },
      "text/plain": [
       "BoundedFloatText(value=0.0, description='Y-Position 1', layout=Layout(width='250px'), max=245.0, min=-95.0, st…"
      ]
     },
     "metadata": {},
     "output_type": "display_data"
    },
    {
     "data": {
      "application/vnd.jupyter.widget-view+json": {
       "model_id": "4662c80393074b5ebac0cf5621e7ced7",
       "version_major": 2,
       "version_minor": 0
      },
      "text/plain": [
       "BoundedFloatText(value=0.0, description='Z-Position 1', layout=Layout(width='250px'), max=98.75, min=-98.75, s…"
      ]
     },
     "metadata": {},
     "output_type": "display_data"
    },
    {
     "data": {
      "application/vnd.jupyter.widget-view+json": {
       "model_id": "15f834bf0de74ec1963847634d202f0d",
       "version_major": 2,
       "version_minor": 0
      },
      "text/plain": [
       "BoundedFloatText(value=0.0, description='X-Position 2', layout=Layout(width='250px'), max=370.0, min=-10.0, st…"
      ]
     },
     "metadata": {},
     "output_type": "display_data"
    },
    {
     "data": {
      "application/vnd.jupyter.widget-view+json": {
       "model_id": "d73b368fbe53439c940476aa47b751d4",
       "version_major": 2,
       "version_minor": 0
      },
      "text/plain": [
       "BoundedFloatText(value=0.0, description='Y-Position 2', layout=Layout(width='250px'), max=245.0, min=-95.0, st…"
      ]
     },
     "metadata": {},
     "output_type": "display_data"
    },
    {
     "data": {
      "application/vnd.jupyter.widget-view+json": {
       "model_id": "cfc2899edd9448abbb666256437129d9",
       "version_major": 2,
       "version_minor": 0
      },
      "text/plain": [
       "BoundedFloatText(value=0.0, description='Z-Position 2', layout=Layout(width='250px'), max=98.75, min=-98.75, s…"
      ]
     },
     "metadata": {},
     "output_type": "display_data"
    }
   ],
   "source": [
    "magnet_position_widgets = dynamicFloatValue_Magnet_Position(number_of_magnets.value, magnet_dimensions_widgets,\n",
    "                                                            global_bounds)\n",
    "for ii in range(len(magnet_position_widgets)):\n",
    "    display( magnet_position_widgets[ii] )"
   ]
  },
  {
   "cell_type": "code",
   "execution_count": 8,
   "metadata": {
    "scrolled": true
   },
   "outputs": [
    {
     "data": {
      "application/vnd.jupyter.widget-view+json": {
       "model_id": "c65d7f24fd6b43c095994a325f82c198",
       "version_major": 2,
       "version_minor": 0
      },
      "text/plain": [
       "FloatText(value=1.0, description='B field 1', layout=Layout(width='250px'), style=DescriptionStyle(description…"
      ]
     },
     "metadata": {},
     "output_type": "display_data"
    },
    {
     "data": {
      "application/vnd.jupyter.widget-view+json": {
       "model_id": "e5166637c88948c795596d39b916c581",
       "version_major": 2,
       "version_minor": 0
      },
      "text/plain": [
       "Dropdown(description='Along the', index=2, layout=Layout(width='250px'), options=(('x-axis', 'x'), ('y-axis', …"
      ]
     },
     "metadata": {},
     "output_type": "display_data"
    },
    {
     "data": {
      "application/vnd.jupyter.widget-view+json": {
       "model_id": "1fff972abf3a4c55aefe20273a49de66",
       "version_major": 2,
       "version_minor": 0
      },
      "text/plain": [
       "FloatText(value=1.0, description='B field 2', layout=Layout(width='250px'), style=DescriptionStyle(description…"
      ]
     },
     "metadata": {},
     "output_type": "display_data"
    },
    {
     "data": {
      "application/vnd.jupyter.widget-view+json": {
       "model_id": "213f393607c742b2a6b911da814aa329",
       "version_major": 2,
       "version_minor": 0
      },
      "text/plain": [
       "Dropdown(description='Along the', index=2, layout=Layout(width='250px'), options=(('x-axis', 'x'), ('y-axis', …"
      ]
     },
     "metadata": {},
     "output_type": "display_data"
    }
   ],
   "source": [
    "magnetic_field_values_widgets = dynamicFloatValue_Magnetic_Field_Value(number_of_magnets.value)\n",
    "magnetic_field_axes_widgets = dynamicFloatValue_Magnetic_Field_Axis(number_of_magnets.value)\n",
    "for ii in range(len(magnetic_field_values_widgets)):\n",
    "    display( magnetic_field_values_widgets[ii] )\n",
    "    display( magnetic_field_axes_widgets[ii] )"
   ]
  },
  {
   "cell_type": "markdown",
   "metadata": {},
   "source": [
    "## Beam Setup:\n",
    ">Number of particles, starting position, energy, direction.<br>\n",
    "**Note:** Please input values referencing the beam center. Direction is given by angle from axes."
   ]
  },
  {
   "cell_type": "code",
   "execution_count": 9,
   "metadata": {},
   "outputs": [
    {
     "data": {
      "application/vnd.jupyter.widget-view+json": {
       "model_id": "6815ed02444c4338b49ece28efb25e06",
       "version_major": 2,
       "version_minor": 0
      },
      "text/plain": [
       "Dropdown(description='Particle Species', layout=Layout(width='250px'), options=('Electrons', 'Positrons'), sty…"
      ]
     },
     "metadata": {},
     "output_type": "display_data"
    }
   ],
   "source": [
    "display( particle_species )"
   ]
  },
  {
   "cell_type": "code",
   "execution_count": 10,
   "metadata": {},
   "outputs": [
    {
     "data": {
      "application/vnd.jupyter.widget-view+json": {
       "model_id": "c11e35cd9b1c46eebd908c4ee18a2a7d",
       "version_major": 2,
       "version_minor": 0
      },
      "text/plain": [
       "BoundedIntText(value=10, description='Number of Particles', layout=Layout(width='250px'), max=999999, min=1, s…"
      ]
     },
     "metadata": {},
     "output_type": "display_data"
    }
   ],
   "source": [
    "display( number_of_particles )"
   ]
  },
  {
   "cell_type": "code",
   "execution_count": 11,
   "metadata": {},
   "outputs": [
    {
     "data": {
      "application/vnd.jupyter.widget-view+json": {
       "model_id": "457f3bb7a00f4fde9496ceb34ab84b04",
       "version_major": 2,
       "version_minor": 0
      },
      "text/plain": [
       "BoundedFloatText(value=0.0, description='Initial X-Position', layout=Layout(width='250px'), max=400.0, min=-10…"
      ]
     },
     "metadata": {},
     "output_type": "display_data"
    },
    {
     "data": {
      "application/vnd.jupyter.widget-view+json": {
       "model_id": "9ad25d4ea5b044ed85d2ce89cbe5c905",
       "version_major": 2,
       "version_minor": 0
      },
      "text/plain": [
       "BoundedFloatText(value=0.0, description='Initial Y-Position', layout=Layout(width='250px'), max=250.0, min=-10…"
      ]
     },
     "metadata": {},
     "output_type": "display_data"
    },
    {
     "data": {
      "application/vnd.jupyter.widget-view+json": {
       "model_id": "36ce494991bc46ccaed93812105ace3d",
       "version_major": 2,
       "version_minor": 0
      },
      "text/plain": [
       "BoundedFloatText(value=0.0, description='Initial Z-Position', layout=Layout(width='250px'), min=-100.0, style=…"
      ]
     },
     "metadata": {},
     "output_type": "display_data"
    }
   ],
   "source": [
    "beam_start_position_widgets = dynamicFloatValue_Beam_Start_Position(global_bounds)\n",
    "for ii in range(len(beam_start_position_widgets)):\n",
    "    display( beam_start_position_widgets[ii] )"
   ]
  },
  {
   "cell_type": "code",
   "execution_count": 12,
   "metadata": {},
   "outputs": [
    {
     "data": {
      "application/vnd.jupyter.widget-view+json": {
       "model_id": "5586919c7bba41b981ecc9198d729b2c",
       "version_major": 2,
       "version_minor": 0
      },
      "text/plain": [
       "BoundedFloatText(value=100.0, description='Central KE', layout=Layout(width='250px'), max=9999999.0, style=Des…"
      ]
     },
     "metadata": {},
     "output_type": "display_data"
    }
   ],
   "source": [
    "display(beam_energy)"
   ]
  },
  {
   "cell_type": "code",
   "execution_count": 13,
   "metadata": {},
   "outputs": [
    {
     "data": {
      "application/vnd.jupyter.widget-view+json": {
       "model_id": "5504f815fd7d440fb031b166770b9580",
       "version_major": 2,
       "version_minor": 0
      },
      "text/plain": [
       "FloatText(value=0.0, description='Angle with Respect to X-Axis', layout=Layout(width='500px'), style=Descripti…"
      ]
     },
     "metadata": {},
     "output_type": "display_data"
    },
    {
     "data": {
      "application/vnd.jupyter.widget-view+json": {
       "model_id": "2747fee6cb444b1291112e62203f4576",
       "version_major": 2,
       "version_minor": 0
      },
      "text/plain": [
       "FloatText(value=1570.7963267948965, description='Angle with Respect to Y-Axis', layout=Layout(width='500px'), …"
      ]
     },
     "metadata": {},
     "output_type": "display_data"
    },
    {
     "data": {
      "application/vnd.jupyter.widget-view+json": {
       "model_id": "acf474c998524e2ab13a7d349c8152ea",
       "version_major": 2,
       "version_minor": 0
      },
      "text/plain": [
       "FloatText(value=1570.7963267948965, description='Angle with Respect to Z-Axis', layout=Layout(width='500px'), …"
      ]
     },
     "metadata": {},
     "output_type": "display_data"
    }
   ],
   "source": [
    "beam_direction_widgets = dynamicFloatValue_Beam_Direction(units_angles.value)\n",
    "for ii in range(len(beam_direction_widgets)):\n",
    "    display( beam_direction_widgets[ii] )"
   ]
  },
  {
   "cell_type": "markdown",
   "metadata": {},
   "source": [
    "## Beam Spread:\n",
    ">Spread in starting position, energy, and divergence."
   ]
  },
  {
   "cell_type": "code",
   "execution_count": 14,
   "metadata": {},
   "outputs": [
    {
     "data": {
      "application/vnd.jupyter.widget-view+json": {
       "model_id": "2fd1ad4d35084c038c2e7898dc576984",
       "version_major": 2,
       "version_minor": 0
      },
      "text/plain": [
       "FloatText(value=0.0, description='Spread in Initial X-Position', layout=Layout(width='500px'), style=Descripti…"
      ]
     },
     "metadata": {},
     "output_type": "display_data"
    },
    {
     "data": {
      "application/vnd.jupyter.widget-view+json": {
       "model_id": "ce0c262cfce14d0db12acc1b8dd3f182",
       "version_major": 2,
       "version_minor": 0
      },
      "text/plain": [
       "FloatText(value=0.0, description='Spread in Initial Y-Position', layout=Layout(width='500px'), style=Descripti…"
      ]
     },
     "metadata": {},
     "output_type": "display_data"
    },
    {
     "data": {
      "application/vnd.jupyter.widget-view+json": {
       "model_id": "a988623b0d85460cbb0a5069c25e967e",
       "version_major": 2,
       "version_minor": 0
      },
      "text/plain": [
       "FloatText(value=0.0, description='Spread in Initial Z-Position', layout=Layout(width='500px'), style=Descripti…"
      ]
     },
     "metadata": {},
     "output_type": "display_data"
    }
   ],
   "source": [
    "beam_position_spread_widgets = dynamicFloatValue_Beam_Position_Spread()\n",
    "for ii in range(len(beam_position_spread_widgets)):\n",
    "    display( beam_position_spread_widgets[ii] )"
   ]
  },
  {
   "cell_type": "code",
   "execution_count": 15,
   "metadata": {},
   "outputs": [
    {
     "data": {
      "application/vnd.jupyter.widget-view+json": {
       "model_id": "faaca5aee6144e78b7b6cccf916d0343",
       "version_major": 2,
       "version_minor": 0
      },
      "text/plain": [
       "BoundedFloatText(value=0.0, description='Energy Spread', layout=Layout(width='500px'), max=9999999.0, style=De…"
      ]
     },
     "metadata": {},
     "output_type": "display_data"
    }
   ],
   "source": [
    "display( beam_energy_spread )"
   ]
  },
  {
   "cell_type": "code",
   "execution_count": 16,
   "metadata": {},
   "outputs": [
    {
     "data": {
      "application/vnd.jupyter.widget-view+json": {
       "model_id": "227a6e9a39e148768af6a535ca11e9c9",
       "version_major": 2,
       "version_minor": 0
      },
      "text/plain": [
       "FloatText(value=0.0, description='X-Divergence Angle', layout=Layout(width='500px'), style=DescriptionStyle(de…"
      ]
     },
     "metadata": {},
     "output_type": "display_data"
    },
    {
     "data": {
      "application/vnd.jupyter.widget-view+json": {
       "model_id": "157fc91c9e2a467b9e4a1bf5a98880c6",
       "version_major": 2,
       "version_minor": 0
      },
      "text/plain": [
       "FloatText(value=10.0, description='Y-Divergence Angle', layout=Layout(width='500px'), style=DescriptionStyle(d…"
      ]
     },
     "metadata": {},
     "output_type": "display_data"
    },
    {
     "data": {
      "application/vnd.jupyter.widget-view+json": {
       "model_id": "4baf0397771146cba95333da1cadd8db",
       "version_major": 2,
       "version_minor": 0
      },
      "text/plain": [
       "FloatText(value=10.0, description='Z-Divergence Angle', layout=Layout(width='500px'), style=DescriptionStyle(d…"
      ]
     },
     "metadata": {},
     "output_type": "display_data"
    }
   ],
   "source": [
    "beam_divergence_spread_widgets = dynamicFloatValue_Beam_Divergence_Spread()\n",
    "for ii in range(len(beam_divergence_spread_widgets)):\n",
    "    display( beam_divergence_spread_widgets[ii] )"
   ]
  },
  {
   "cell_type": "markdown",
   "metadata": {},
   "source": [
    "## Screen Setup:\n",
    ">Number of screens, dimensions, angles about axes, and position.<br>\n",
    "**Note:** Given angles are yaw (about the z-axis), pitch (about the y-axis), and roll (about the x-axis)."
   ]
  },
  {
   "cell_type": "markdown",
   "metadata": {},
   "source": [
    "![alt text](screen_setup.png \"Screen_Setup\")"
   ]
  },
  {
   "cell_type": "code",
   "execution_count": 17,
   "metadata": {},
   "outputs": [
    {
     "data": {
      "application/vnd.jupyter.widget-view+json": {
       "model_id": "766b025d3833402aaaad0d2ddb3472f4",
       "version_major": 2,
       "version_minor": 0
      },
      "text/plain": [
       "BoundedIntText(value=1, description='Number of Screens', layout=Layout(width='500px'), style=DescriptionStyle(…"
      ]
     },
     "metadata": {},
     "output_type": "display_data"
    }
   ],
   "source": [
    "display( number_of_screens )"
   ]
  },
  {
   "cell_type": "code",
   "execution_count": 18,
   "metadata": {},
   "outputs": [
    {
     "data": {
      "application/vnd.jupyter.widget-view+json": {
       "model_id": "75a6652f86294b67b8820e1b7a2bb650",
       "version_major": 2,
       "version_minor": 0
      },
      "text/plain": [
       "BoundedFloatText(value=50.0, description='Length of Screen 1', layout=Layout(width='500px'), max=400.0, style=…"
      ]
     },
     "metadata": {},
     "output_type": "display_data"
    },
    {
     "data": {
      "application/vnd.jupyter.widget-view+json": {
       "model_id": "41a3561e818c4887a83c8f32ea60b45d",
       "version_major": 2,
       "version_minor": 0
      },
      "text/plain": [
       "BoundedFloatText(value=10.0, description='Height of Screen 1', layout=Layout(width='500px'), style=Description…"
      ]
     },
     "metadata": {},
     "output_type": "display_data"
    }
   ],
   "source": [
    "screen_dimensions_widgets = dynamicFloatValue_Screen_Dimensions(number_of_screens.value, global_bounds)\n",
    "for ii in range(len(screen_dimensions_widgets)):\n",
    "    display( screen_dimensions_widgets[ii] )"
   ]
  },
  {
   "cell_type": "code",
   "execution_count": 19,
   "metadata": {},
   "outputs": [
    {
     "data": {
      "application/vnd.jupyter.widget-view+json": {
       "model_id": "75f98fdc367f437b9047ca25ef73ada0",
       "version_major": 2,
       "version_minor": 0
      },
      "text/plain": [
       "FloatText(value=1570.8, description='Yaw (About Z-Axis) Angle of Screen 1', layout=Layout(width='500px'), styl…"
      ]
     },
     "metadata": {},
     "output_type": "display_data"
    },
    {
     "data": {
      "application/vnd.jupyter.widget-view+json": {
       "model_id": "88bfd033cd3e42e3b6b09f7e0033a9a2",
       "version_major": 2,
       "version_minor": 0
      },
      "text/plain": [
       "FloatText(value=0.0, description='Pitch (About Y-Axis) Angle of Screen 1', layout=Layout(width='500px'), style…"
      ]
     },
     "metadata": {},
     "output_type": "display_data"
    },
    {
     "data": {
      "application/vnd.jupyter.widget-view+json": {
       "model_id": "e584d7b5be9b4fa1a64161f415cdfa95",
       "version_major": 2,
       "version_minor": 0
      },
      "text/plain": [
       "FloatText(value=0.0, description='Roll (About X-Axis) Angle of Screen 1', layout=Layout(width='500px'), style=…"
      ]
     },
     "metadata": {},
     "output_type": "display_data"
    }
   ],
   "source": [
    "screen_angles_widgets = dynamicFloatValue_Screen_Angles(number_of_screens.value)\n",
    "for ii in range(len(screen_angles_widgets)):\n",
    "    display( screen_angles_widgets[ii] )"
   ]
  },
  {
   "cell_type": "markdown",
   "metadata": {},
   "source": [
    "> **Important:** Position value limits are based on global bounds, screen dimensions, and screen angles. Please re-run the below cell if values for any change."
   ]
  },
  {
   "cell_type": "code",
   "execution_count": 20,
   "metadata": {},
   "outputs": [
    {
     "data": {
      "application/vnd.jupyter.widget-view+json": {
       "model_id": "4b053650e5bf4a93a85575f3110d18d5",
       "version_major": 2,
       "version_minor": 0
      },
      "text/plain": [
       "BoundedFloatText(value=50.0, description='X-Position of Screen 1', max=400.0, min=-10.0001101961531)"
      ]
     },
     "metadata": {},
     "output_type": "display_data"
    },
    {
     "data": {
      "application/vnd.jupyter.widget-view+json": {
       "model_id": "4c900d3d1eba4798bf5fee7296e76563",
       "version_major": 2,
       "version_minor": 0
      },
      "text/plain": [
       "BoundedFloatText(value=-25.0, description='Y-Position of Screen 1', max=220.0000000002024, min=-100.0)"
      ]
     },
     "metadata": {},
     "output_type": "display_data"
    },
    {
     "data": {
      "application/vnd.jupyter.widget-view+json": {
       "model_id": "73237997d7dd4ed0afec3906d5c06978",
       "version_major": 2,
       "version_minor": 0
      },
      "text/plain": [
       "BoundedFloatText(value=0.0, description='Z-Position of Screen 1', max=96.2, min=-103.8)"
      ]
     },
     "metadata": {},
     "output_type": "display_data"
    }
   ],
   "source": [
    "screen_position_widgets = dynamicFloatValue_Screen_Position(units_angles.value, number_of_screens.value, global_bounds, \n",
    "                                                            screen_dimensions_widgets, screen_angles_widgets)\n",
    "for ii in range(len(screen_position_widgets)):\n",
    "    display( screen_position_widgets[ii] )"
   ]
  },
  {
   "cell_type": "markdown",
   "metadata": {},
   "source": [
    "## Display and Output info\n",
    ">Displays a 3D model of the spectrometer based on user inputs. If there are no errors, press the button below to output information.<br>\n",
    "**Note:** Axes may not have the same scale."
   ]
  },
  {
   "cell_type": "code",
   "execution_count": 22,
   "metadata": {
    "scrolled": false
   },
   "outputs": [
    {
     "data": {
      "application/javascript": [
       "/* Put everything inside the global mpl namespace */\n",
       "/* global mpl */\n",
       "window.mpl = {};\n",
       "\n",
       "mpl.get_websocket_type = function () {\n",
       "    if (typeof WebSocket !== 'undefined') {\n",
       "        return WebSocket;\n",
       "    } else if (typeof MozWebSocket !== 'undefined') {\n",
       "        return MozWebSocket;\n",
       "    } else {\n",
       "        alert(\n",
       "            'Your browser does not have WebSocket support. ' +\n",
       "                'Please try Chrome, Safari or Firefox ≥ 6. ' +\n",
       "                'Firefox 4 and 5 are also supported but you ' +\n",
       "                'have to enable WebSockets in about:config.'\n",
       "        );\n",
       "    }\n",
       "};\n",
       "\n",
       "mpl.figure = function (figure_id, websocket, ondownload, parent_element) {\n",
       "    this.id = figure_id;\n",
       "\n",
       "    this.ws = websocket;\n",
       "\n",
       "    this.supports_binary = this.ws.binaryType !== undefined;\n",
       "\n",
       "    if (!this.supports_binary) {\n",
       "        var warnings = document.getElementById('mpl-warnings');\n",
       "        if (warnings) {\n",
       "            warnings.style.display = 'block';\n",
       "            warnings.textContent =\n",
       "                'This browser does not support binary websocket messages. ' +\n",
       "                'Performance may be slow.';\n",
       "        }\n",
       "    }\n",
       "\n",
       "    this.imageObj = new Image();\n",
       "\n",
       "    this.context = undefined;\n",
       "    this.message = undefined;\n",
       "    this.canvas = undefined;\n",
       "    this.rubberband_canvas = undefined;\n",
       "    this.rubberband_context = undefined;\n",
       "    this.format_dropdown = undefined;\n",
       "\n",
       "    this.image_mode = 'full';\n",
       "\n",
       "    this.root = document.createElement('div');\n",
       "    this.root.setAttribute('style', 'display: inline-block');\n",
       "    this._root_extra_style(this.root);\n",
       "\n",
       "    parent_element.appendChild(this.root);\n",
       "\n",
       "    this._init_header(this);\n",
       "    this._init_canvas(this);\n",
       "    this._init_toolbar(this);\n",
       "\n",
       "    var fig = this;\n",
       "\n",
       "    this.waiting = false;\n",
       "\n",
       "    this.ws.onopen = function () {\n",
       "        fig.send_message('supports_binary', { value: fig.supports_binary });\n",
       "        fig.send_message('send_image_mode', {});\n",
       "        if (fig.ratio !== 1) {\n",
       "            fig.send_message('set_dpi_ratio', { dpi_ratio: fig.ratio });\n",
       "        }\n",
       "        fig.send_message('refresh', {});\n",
       "    };\n",
       "\n",
       "    this.imageObj.onload = function () {\n",
       "        if (fig.image_mode === 'full') {\n",
       "            // Full images could contain transparency (where diff images\n",
       "            // almost always do), so we need to clear the canvas so that\n",
       "            // there is no ghosting.\n",
       "            fig.context.clearRect(0, 0, fig.canvas.width, fig.canvas.height);\n",
       "        }\n",
       "        fig.context.drawImage(fig.imageObj, 0, 0);\n",
       "    };\n",
       "\n",
       "    this.imageObj.onunload = function () {\n",
       "        fig.ws.close();\n",
       "    };\n",
       "\n",
       "    this.ws.onmessage = this._make_on_message_function(this);\n",
       "\n",
       "    this.ondownload = ondownload;\n",
       "};\n",
       "\n",
       "mpl.figure.prototype._init_header = function () {\n",
       "    var titlebar = document.createElement('div');\n",
       "    titlebar.classList =\n",
       "        'ui-dialog-titlebar ui-widget-header ui-corner-all ui-helper-clearfix';\n",
       "    var titletext = document.createElement('div');\n",
       "    titletext.classList = 'ui-dialog-title';\n",
       "    titletext.setAttribute(\n",
       "        'style',\n",
       "        'width: 100%; text-align: center; padding: 3px;'\n",
       "    );\n",
       "    titlebar.appendChild(titletext);\n",
       "    this.root.appendChild(titlebar);\n",
       "    this.header = titletext;\n",
       "};\n",
       "\n",
       "mpl.figure.prototype._canvas_extra_style = function (_canvas_div) {};\n",
       "\n",
       "mpl.figure.prototype._root_extra_style = function (_canvas_div) {};\n",
       "\n",
       "mpl.figure.prototype._init_canvas = function () {\n",
       "    var fig = this;\n",
       "\n",
       "    var canvas_div = (this.canvas_div = document.createElement('div'));\n",
       "    canvas_div.setAttribute(\n",
       "        'style',\n",
       "        'border: 1px solid #ddd;' +\n",
       "            'box-sizing: content-box;' +\n",
       "            'clear: both;' +\n",
       "            'min-height: 1px;' +\n",
       "            'min-width: 1px;' +\n",
       "            'outline: 0;' +\n",
       "            'overflow: hidden;' +\n",
       "            'position: relative;' +\n",
       "            'resize: both;'\n",
       "    );\n",
       "\n",
       "    function on_keyboard_event_closure(name) {\n",
       "        return function (event) {\n",
       "            return fig.key_event(event, name);\n",
       "        };\n",
       "    }\n",
       "\n",
       "    canvas_div.addEventListener(\n",
       "        'keydown',\n",
       "        on_keyboard_event_closure('key_press')\n",
       "    );\n",
       "    canvas_div.addEventListener(\n",
       "        'keyup',\n",
       "        on_keyboard_event_closure('key_release')\n",
       "    );\n",
       "\n",
       "    this._canvas_extra_style(canvas_div);\n",
       "    this.root.appendChild(canvas_div);\n",
       "\n",
       "    var canvas = (this.canvas = document.createElement('canvas'));\n",
       "    canvas.classList.add('mpl-canvas');\n",
       "    canvas.setAttribute('style', 'box-sizing: content-box;');\n",
       "\n",
       "    this.context = canvas.getContext('2d');\n",
       "\n",
       "    var backingStore =\n",
       "        this.context.backingStorePixelRatio ||\n",
       "        this.context.webkitBackingStorePixelRatio ||\n",
       "        this.context.mozBackingStorePixelRatio ||\n",
       "        this.context.msBackingStorePixelRatio ||\n",
       "        this.context.oBackingStorePixelRatio ||\n",
       "        this.context.backingStorePixelRatio ||\n",
       "        1;\n",
       "\n",
       "    this.ratio = (window.devicePixelRatio || 1) / backingStore;\n",
       "    if (this.ratio !== 1) {\n",
       "        fig.send_message('set_dpi_ratio', { dpi_ratio: this.ratio });\n",
       "    }\n",
       "\n",
       "    var rubberband_canvas = (this.rubberband_canvas = document.createElement(\n",
       "        'canvas'\n",
       "    ));\n",
       "    rubberband_canvas.setAttribute(\n",
       "        'style',\n",
       "        'box-sizing: content-box; position: absolute; left: 0; top: 0; z-index: 1;'\n",
       "    );\n",
       "\n",
       "    var resizeObserver = new ResizeObserver(function (entries) {\n",
       "        var nentries = entries.length;\n",
       "        for (var i = 0; i < nentries; i++) {\n",
       "            var entry = entries[i];\n",
       "            var width, height;\n",
       "            if (entry.contentBoxSize) {\n",
       "                if (entry.contentBoxSize instanceof Array) {\n",
       "                    // Chrome 84 implements new version of spec.\n",
       "                    width = entry.contentBoxSize[0].inlineSize;\n",
       "                    height = entry.contentBoxSize[0].blockSize;\n",
       "                } else {\n",
       "                    // Firefox implements old version of spec.\n",
       "                    width = entry.contentBoxSize.inlineSize;\n",
       "                    height = entry.contentBoxSize.blockSize;\n",
       "                }\n",
       "            } else {\n",
       "                // Chrome <84 implements even older version of spec.\n",
       "                width = entry.contentRect.width;\n",
       "                height = entry.contentRect.height;\n",
       "            }\n",
       "\n",
       "            // Keep the size of the canvas and rubber band canvas in sync with\n",
       "            // the canvas container.\n",
       "            if (entry.devicePixelContentBoxSize) {\n",
       "                // Chrome 84 implements new version of spec.\n",
       "                canvas.setAttribute(\n",
       "                    'width',\n",
       "                    entry.devicePixelContentBoxSize[0].inlineSize\n",
       "                );\n",
       "                canvas.setAttribute(\n",
       "                    'height',\n",
       "                    entry.devicePixelContentBoxSize[0].blockSize\n",
       "                );\n",
       "            } else {\n",
       "                canvas.setAttribute('width', width * fig.ratio);\n",
       "                canvas.setAttribute('height', height * fig.ratio);\n",
       "            }\n",
       "            canvas.setAttribute(\n",
       "                'style',\n",
       "                'width: ' + width + 'px; height: ' + height + 'px;'\n",
       "            );\n",
       "\n",
       "            rubberband_canvas.setAttribute('width', width);\n",
       "            rubberband_canvas.setAttribute('height', height);\n",
       "\n",
       "            // And update the size in Python. We ignore the initial 0/0 size\n",
       "            // that occurs as the element is placed into the DOM, which should\n",
       "            // otherwise not happen due to the minimum size styling.\n",
       "            if (width != 0 && height != 0) {\n",
       "                fig.request_resize(width, height);\n",
       "            }\n",
       "        }\n",
       "    });\n",
       "    resizeObserver.observe(canvas_div);\n",
       "\n",
       "    function on_mouse_event_closure(name) {\n",
       "        return function (event) {\n",
       "            return fig.mouse_event(event, name);\n",
       "        };\n",
       "    }\n",
       "\n",
       "    rubberband_canvas.addEventListener(\n",
       "        'mousedown',\n",
       "        on_mouse_event_closure('button_press')\n",
       "    );\n",
       "    rubberband_canvas.addEventListener(\n",
       "        'mouseup',\n",
       "        on_mouse_event_closure('button_release')\n",
       "    );\n",
       "    // Throttle sequential mouse events to 1 every 20ms.\n",
       "    rubberband_canvas.addEventListener(\n",
       "        'mousemove',\n",
       "        on_mouse_event_closure('motion_notify')\n",
       "    );\n",
       "\n",
       "    rubberband_canvas.addEventListener(\n",
       "        'mouseenter',\n",
       "        on_mouse_event_closure('figure_enter')\n",
       "    );\n",
       "    rubberband_canvas.addEventListener(\n",
       "        'mouseleave',\n",
       "        on_mouse_event_closure('figure_leave')\n",
       "    );\n",
       "\n",
       "    canvas_div.addEventListener('wheel', function (event) {\n",
       "        if (event.deltaY < 0) {\n",
       "            event.step = 1;\n",
       "        } else {\n",
       "            event.step = -1;\n",
       "        }\n",
       "        on_mouse_event_closure('scroll')(event);\n",
       "    });\n",
       "\n",
       "    canvas_div.appendChild(canvas);\n",
       "    canvas_div.appendChild(rubberband_canvas);\n",
       "\n",
       "    this.rubberband_context = rubberband_canvas.getContext('2d');\n",
       "    this.rubberband_context.strokeStyle = '#000000';\n",
       "\n",
       "    this._resize_canvas = function (width, height, forward) {\n",
       "        if (forward) {\n",
       "            canvas_div.style.width = width + 'px';\n",
       "            canvas_div.style.height = height + 'px';\n",
       "        }\n",
       "    };\n",
       "\n",
       "    // Disable right mouse context menu.\n",
       "    this.rubberband_canvas.addEventListener('contextmenu', function (_e) {\n",
       "        event.preventDefault();\n",
       "        return false;\n",
       "    });\n",
       "\n",
       "    function set_focus() {\n",
       "        canvas.focus();\n",
       "        canvas_div.focus();\n",
       "    }\n",
       "\n",
       "    window.setTimeout(set_focus, 100);\n",
       "};\n",
       "\n",
       "mpl.figure.prototype._init_toolbar = function () {\n",
       "    var fig = this;\n",
       "\n",
       "    var toolbar = document.createElement('div');\n",
       "    toolbar.classList = 'mpl-toolbar';\n",
       "    this.root.appendChild(toolbar);\n",
       "\n",
       "    function on_click_closure(name) {\n",
       "        return function (_event) {\n",
       "            return fig.toolbar_button_onclick(name);\n",
       "        };\n",
       "    }\n",
       "\n",
       "    function on_mouseover_closure(tooltip) {\n",
       "        return function (event) {\n",
       "            if (!event.currentTarget.disabled) {\n",
       "                return fig.toolbar_button_onmouseover(tooltip);\n",
       "            }\n",
       "        };\n",
       "    }\n",
       "\n",
       "    fig.buttons = {};\n",
       "    var buttonGroup = document.createElement('div');\n",
       "    buttonGroup.classList = 'mpl-button-group';\n",
       "    for (var toolbar_ind in mpl.toolbar_items) {\n",
       "        var name = mpl.toolbar_items[toolbar_ind][0];\n",
       "        var tooltip = mpl.toolbar_items[toolbar_ind][1];\n",
       "        var image = mpl.toolbar_items[toolbar_ind][2];\n",
       "        var method_name = mpl.toolbar_items[toolbar_ind][3];\n",
       "\n",
       "        if (!name) {\n",
       "            /* Instead of a spacer, we start a new button group. */\n",
       "            if (buttonGroup.hasChildNodes()) {\n",
       "                toolbar.appendChild(buttonGroup);\n",
       "            }\n",
       "            buttonGroup = document.createElement('div');\n",
       "            buttonGroup.classList = 'mpl-button-group';\n",
       "            continue;\n",
       "        }\n",
       "\n",
       "        var button = (fig.buttons[name] = document.createElement('button'));\n",
       "        button.classList = 'mpl-widget';\n",
       "        button.setAttribute('role', 'button');\n",
       "        button.setAttribute('aria-disabled', 'false');\n",
       "        button.addEventListener('click', on_click_closure(method_name));\n",
       "        button.addEventListener('mouseover', on_mouseover_closure(tooltip));\n",
       "\n",
       "        var icon_img = document.createElement('img');\n",
       "        icon_img.src = '_images/' + image + '.png';\n",
       "        icon_img.srcset = '_images/' + image + '_large.png 2x';\n",
       "        icon_img.alt = tooltip;\n",
       "        button.appendChild(icon_img);\n",
       "\n",
       "        buttonGroup.appendChild(button);\n",
       "    }\n",
       "\n",
       "    if (buttonGroup.hasChildNodes()) {\n",
       "        toolbar.appendChild(buttonGroup);\n",
       "    }\n",
       "\n",
       "    var fmt_picker = document.createElement('select');\n",
       "    fmt_picker.classList = 'mpl-widget';\n",
       "    toolbar.appendChild(fmt_picker);\n",
       "    this.format_dropdown = fmt_picker;\n",
       "\n",
       "    for (var ind in mpl.extensions) {\n",
       "        var fmt = mpl.extensions[ind];\n",
       "        var option = document.createElement('option');\n",
       "        option.selected = fmt === mpl.default_extension;\n",
       "        option.innerHTML = fmt;\n",
       "        fmt_picker.appendChild(option);\n",
       "    }\n",
       "\n",
       "    var status_bar = document.createElement('span');\n",
       "    status_bar.classList = 'mpl-message';\n",
       "    toolbar.appendChild(status_bar);\n",
       "    this.message = status_bar;\n",
       "};\n",
       "\n",
       "mpl.figure.prototype.request_resize = function (x_pixels, y_pixels) {\n",
       "    // Request matplotlib to resize the figure. Matplotlib will then trigger a resize in the client,\n",
       "    // which will in turn request a refresh of the image.\n",
       "    this.send_message('resize', { width: x_pixels, height: y_pixels });\n",
       "};\n",
       "\n",
       "mpl.figure.prototype.send_message = function (type, properties) {\n",
       "    properties['type'] = type;\n",
       "    properties['figure_id'] = this.id;\n",
       "    this.ws.send(JSON.stringify(properties));\n",
       "};\n",
       "\n",
       "mpl.figure.prototype.send_draw_message = function () {\n",
       "    if (!this.waiting) {\n",
       "        this.waiting = true;\n",
       "        this.ws.send(JSON.stringify({ type: 'draw', figure_id: this.id }));\n",
       "    }\n",
       "};\n",
       "\n",
       "mpl.figure.prototype.handle_save = function (fig, _msg) {\n",
       "    var format_dropdown = fig.format_dropdown;\n",
       "    var format = format_dropdown.options[format_dropdown.selectedIndex].value;\n",
       "    fig.ondownload(fig, format);\n",
       "};\n",
       "\n",
       "mpl.figure.prototype.handle_resize = function (fig, msg) {\n",
       "    var size = msg['size'];\n",
       "    if (size[0] !== fig.canvas.width || size[1] !== fig.canvas.height) {\n",
       "        fig._resize_canvas(size[0], size[1], msg['forward']);\n",
       "        fig.send_message('refresh', {});\n",
       "    }\n",
       "};\n",
       "\n",
       "mpl.figure.prototype.handle_rubberband = function (fig, msg) {\n",
       "    var x0 = msg['x0'] / fig.ratio;\n",
       "    var y0 = (fig.canvas.height - msg['y0']) / fig.ratio;\n",
       "    var x1 = msg['x1'] / fig.ratio;\n",
       "    var y1 = (fig.canvas.height - msg['y1']) / fig.ratio;\n",
       "    x0 = Math.floor(x0) + 0.5;\n",
       "    y0 = Math.floor(y0) + 0.5;\n",
       "    x1 = Math.floor(x1) + 0.5;\n",
       "    y1 = Math.floor(y1) + 0.5;\n",
       "    var min_x = Math.min(x0, x1);\n",
       "    var min_y = Math.min(y0, y1);\n",
       "    var width = Math.abs(x1 - x0);\n",
       "    var height = Math.abs(y1 - y0);\n",
       "\n",
       "    fig.rubberband_context.clearRect(\n",
       "        0,\n",
       "        0,\n",
       "        fig.canvas.width / fig.ratio,\n",
       "        fig.canvas.height / fig.ratio\n",
       "    );\n",
       "\n",
       "    fig.rubberband_context.strokeRect(min_x, min_y, width, height);\n",
       "};\n",
       "\n",
       "mpl.figure.prototype.handle_figure_label = function (fig, msg) {\n",
       "    // Updates the figure title.\n",
       "    fig.header.textContent = msg['label'];\n",
       "};\n",
       "\n",
       "mpl.figure.prototype.handle_cursor = function (fig, msg) {\n",
       "    var cursor = msg['cursor'];\n",
       "    switch (cursor) {\n",
       "        case 0:\n",
       "            cursor = 'pointer';\n",
       "            break;\n",
       "        case 1:\n",
       "            cursor = 'default';\n",
       "            break;\n",
       "        case 2:\n",
       "            cursor = 'crosshair';\n",
       "            break;\n",
       "        case 3:\n",
       "            cursor = 'move';\n",
       "            break;\n",
       "    }\n",
       "    fig.rubberband_canvas.style.cursor = cursor;\n",
       "};\n",
       "\n",
       "mpl.figure.prototype.handle_message = function (fig, msg) {\n",
       "    fig.message.textContent = msg['message'];\n",
       "};\n",
       "\n",
       "mpl.figure.prototype.handle_draw = function (fig, _msg) {\n",
       "    // Request the server to send over a new figure.\n",
       "    fig.send_draw_message();\n",
       "};\n",
       "\n",
       "mpl.figure.prototype.handle_image_mode = function (fig, msg) {\n",
       "    fig.image_mode = msg['mode'];\n",
       "};\n",
       "\n",
       "mpl.figure.prototype.handle_history_buttons = function (fig, msg) {\n",
       "    for (var key in msg) {\n",
       "        if (!(key in fig.buttons)) {\n",
       "            continue;\n",
       "        }\n",
       "        fig.buttons[key].disabled = !msg[key];\n",
       "        fig.buttons[key].setAttribute('aria-disabled', !msg[key]);\n",
       "    }\n",
       "};\n",
       "\n",
       "mpl.figure.prototype.handle_navigate_mode = function (fig, msg) {\n",
       "    if (msg['mode'] === 'PAN') {\n",
       "        fig.buttons['Pan'].classList.add('active');\n",
       "        fig.buttons['Zoom'].classList.remove('active');\n",
       "    } else if (msg['mode'] === 'ZOOM') {\n",
       "        fig.buttons['Pan'].classList.remove('active');\n",
       "        fig.buttons['Zoom'].classList.add('active');\n",
       "    } else {\n",
       "        fig.buttons['Pan'].classList.remove('active');\n",
       "        fig.buttons['Zoom'].classList.remove('active');\n",
       "    }\n",
       "};\n",
       "\n",
       "mpl.figure.prototype.updated_canvas_event = function () {\n",
       "    // Called whenever the canvas gets updated.\n",
       "    this.send_message('ack', {});\n",
       "};\n",
       "\n",
       "// A function to construct a web socket function for onmessage handling.\n",
       "// Called in the figure constructor.\n",
       "mpl.figure.prototype._make_on_message_function = function (fig) {\n",
       "    return function socket_on_message(evt) {\n",
       "        if (evt.data instanceof Blob) {\n",
       "            /* FIXME: We get \"Resource interpreted as Image but\n",
       "             * transferred with MIME type text/plain:\" errors on\n",
       "             * Chrome.  But how to set the MIME type?  It doesn't seem\n",
       "             * to be part of the websocket stream */\n",
       "            evt.data.type = 'image/png';\n",
       "\n",
       "            /* Free the memory for the previous frames */\n",
       "            if (fig.imageObj.src) {\n",
       "                (window.URL || window.webkitURL).revokeObjectURL(\n",
       "                    fig.imageObj.src\n",
       "                );\n",
       "            }\n",
       "\n",
       "            fig.imageObj.src = (window.URL || window.webkitURL).createObjectURL(\n",
       "                evt.data\n",
       "            );\n",
       "            fig.updated_canvas_event();\n",
       "            fig.waiting = false;\n",
       "            return;\n",
       "        } else if (\n",
       "            typeof evt.data === 'string' &&\n",
       "            evt.data.slice(0, 21) === 'data:image/png;base64'\n",
       "        ) {\n",
       "            fig.imageObj.src = evt.data;\n",
       "            fig.updated_canvas_event();\n",
       "            fig.waiting = false;\n",
       "            return;\n",
       "        }\n",
       "\n",
       "        var msg = JSON.parse(evt.data);\n",
       "        var msg_type = msg['type'];\n",
       "\n",
       "        // Call the  \"handle_{type}\" callback, which takes\n",
       "        // the figure and JSON message as its only arguments.\n",
       "        try {\n",
       "            var callback = fig['handle_' + msg_type];\n",
       "        } catch (e) {\n",
       "            console.log(\n",
       "                \"No handler for the '\" + msg_type + \"' message type: \",\n",
       "                msg\n",
       "            );\n",
       "            return;\n",
       "        }\n",
       "\n",
       "        if (callback) {\n",
       "            try {\n",
       "                // console.log(\"Handling '\" + msg_type + \"' message: \", msg);\n",
       "                callback(fig, msg);\n",
       "            } catch (e) {\n",
       "                console.log(\n",
       "                    \"Exception inside the 'handler_\" + msg_type + \"' callback:\",\n",
       "                    e,\n",
       "                    e.stack,\n",
       "                    msg\n",
       "                );\n",
       "            }\n",
       "        }\n",
       "    };\n",
       "};\n",
       "\n",
       "// from http://stackoverflow.com/questions/1114465/getting-mouse-location-in-canvas\n",
       "mpl.findpos = function (e) {\n",
       "    //this section is from http://www.quirksmode.org/js/events_properties.html\n",
       "    var targ;\n",
       "    if (!e) {\n",
       "        e = window.event;\n",
       "    }\n",
       "    if (e.target) {\n",
       "        targ = e.target;\n",
       "    } else if (e.srcElement) {\n",
       "        targ = e.srcElement;\n",
       "    }\n",
       "    if (targ.nodeType === 3) {\n",
       "        // defeat Safari bug\n",
       "        targ = targ.parentNode;\n",
       "    }\n",
       "\n",
       "    // pageX,Y are the mouse positions relative to the document\n",
       "    var boundingRect = targ.getBoundingClientRect();\n",
       "    var x = e.pageX - (boundingRect.left + document.body.scrollLeft);\n",
       "    var y = e.pageY - (boundingRect.top + document.body.scrollTop);\n",
       "\n",
       "    return { x: x, y: y };\n",
       "};\n",
       "\n",
       "/*\n",
       " * return a copy of an object with only non-object keys\n",
       " * we need this to avoid circular references\n",
       " * http://stackoverflow.com/a/24161582/3208463\n",
       " */\n",
       "function simpleKeys(original) {\n",
       "    return Object.keys(original).reduce(function (obj, key) {\n",
       "        if (typeof original[key] !== 'object') {\n",
       "            obj[key] = original[key];\n",
       "        }\n",
       "        return obj;\n",
       "    }, {});\n",
       "}\n",
       "\n",
       "mpl.figure.prototype.mouse_event = function (event, name) {\n",
       "    var canvas_pos = mpl.findpos(event);\n",
       "\n",
       "    if (name === 'button_press') {\n",
       "        this.canvas.focus();\n",
       "        this.canvas_div.focus();\n",
       "    }\n",
       "\n",
       "    var x = canvas_pos.x * this.ratio;\n",
       "    var y = canvas_pos.y * this.ratio;\n",
       "\n",
       "    this.send_message(name, {\n",
       "        x: x,\n",
       "        y: y,\n",
       "        button: event.button,\n",
       "        step: event.step,\n",
       "        guiEvent: simpleKeys(event),\n",
       "    });\n",
       "\n",
       "    /* This prevents the web browser from automatically changing to\n",
       "     * the text insertion cursor when the button is pressed.  We want\n",
       "     * to control all of the cursor setting manually through the\n",
       "     * 'cursor' event from matplotlib */\n",
       "    event.preventDefault();\n",
       "    return false;\n",
       "};\n",
       "\n",
       "mpl.figure.prototype._key_event_extra = function (_event, _name) {\n",
       "    // Handle any extra behaviour associated with a key event\n",
       "};\n",
       "\n",
       "mpl.figure.prototype.key_event = function (event, name) {\n",
       "    // Prevent repeat events\n",
       "    if (name === 'key_press') {\n",
       "        if (event.which === this._key) {\n",
       "            return;\n",
       "        } else {\n",
       "            this._key = event.which;\n",
       "        }\n",
       "    }\n",
       "    if (name === 'key_release') {\n",
       "        this._key = null;\n",
       "    }\n",
       "\n",
       "    var value = '';\n",
       "    if (event.ctrlKey && event.which !== 17) {\n",
       "        value += 'ctrl+';\n",
       "    }\n",
       "    if (event.altKey && event.which !== 18) {\n",
       "        value += 'alt+';\n",
       "    }\n",
       "    if (event.shiftKey && event.which !== 16) {\n",
       "        value += 'shift+';\n",
       "    }\n",
       "\n",
       "    value += 'k';\n",
       "    value += event.which.toString();\n",
       "\n",
       "    this._key_event_extra(event, name);\n",
       "\n",
       "    this.send_message(name, { key: value, guiEvent: simpleKeys(event) });\n",
       "    return false;\n",
       "};\n",
       "\n",
       "mpl.figure.prototype.toolbar_button_onclick = function (name) {\n",
       "    if (name === 'download') {\n",
       "        this.handle_save(this, null);\n",
       "    } else {\n",
       "        this.send_message('toolbar_button', { name: name });\n",
       "    }\n",
       "};\n",
       "\n",
       "mpl.figure.prototype.toolbar_button_onmouseover = function (tooltip) {\n",
       "    this.message.textContent = tooltip;\n",
       "};\n",
       "mpl.toolbar_items = [[\"Home\", \"Reset original view\", \"fa fa-home icon-home\", \"home\"], [\"Back\", \"Back to previous view\", \"fa fa-arrow-left icon-arrow-left\", \"back\"], [\"Forward\", \"Forward to next view\", \"fa fa-arrow-right icon-arrow-right\", \"forward\"], [\"\", \"\", \"\", \"\"], [\"Pan\", \"Left button pans, Right button zooms\\nx/y fixes axis, CTRL fixes aspect\", \"fa fa-arrows icon-move\", \"pan\"], [\"Zoom\", \"Zoom to rectangle\\nx/y fixes axis, CTRL fixes aspect\", \"fa fa-square-o icon-check-empty\", \"zoom\"], [\"\", \"\", \"\", \"\"], [\"Download\", \"Download plot\", \"fa fa-floppy-o icon-save\", \"download\"]];\n",
       "\n",
       "mpl.extensions = [\"eps\", \"jpeg\", \"pdf\", \"png\", \"ps\", \"raw\", \"svg\", \"tif\"];\n",
       "\n",
       "mpl.default_extension = \"png\";/* global mpl */\n",
       "\n",
       "var comm_websocket_adapter = function (comm) {\n",
       "    // Create a \"websocket\"-like object which calls the given IPython comm\n",
       "    // object with the appropriate methods. Currently this is a non binary\n",
       "    // socket, so there is still some room for performance tuning.\n",
       "    var ws = {};\n",
       "\n",
       "    ws.close = function () {\n",
       "        comm.close();\n",
       "    };\n",
       "    ws.send = function (m) {\n",
       "        //console.log('sending', m);\n",
       "        comm.send(m);\n",
       "    };\n",
       "    // Register the callback with on_msg.\n",
       "    comm.on_msg(function (msg) {\n",
       "        //console.log('receiving', msg['content']['data'], msg);\n",
       "        // Pass the mpl event to the overridden (by mpl) onmessage function.\n",
       "        ws.onmessage(msg['content']['data']);\n",
       "    });\n",
       "    return ws;\n",
       "};\n",
       "\n",
       "mpl.mpl_figure_comm = function (comm, msg) {\n",
       "    // This is the function which gets called when the mpl process\n",
       "    // starts-up an IPython Comm through the \"matplotlib\" channel.\n",
       "\n",
       "    var id = msg.content.data.id;\n",
       "    // Get hold of the div created by the display call when the Comm\n",
       "    // socket was opened in Python.\n",
       "    var element = document.getElementById(id);\n",
       "    var ws_proxy = comm_websocket_adapter(comm);\n",
       "\n",
       "    function ondownload(figure, _format) {\n",
       "        window.open(figure.canvas.toDataURL());\n",
       "    }\n",
       "\n",
       "    var fig = new mpl.figure(id, ws_proxy, ondownload, element);\n",
       "\n",
       "    // Call onopen now - mpl needs it, as it is assuming we've passed it a real\n",
       "    // web socket which is closed, not our websocket->open comm proxy.\n",
       "    ws_proxy.onopen();\n",
       "\n",
       "    fig.parent_element = element;\n",
       "    fig.cell_info = mpl.find_output_cell(\"<div id='\" + id + \"'></div>\");\n",
       "    if (!fig.cell_info) {\n",
       "        console.error('Failed to find cell for figure', id, fig);\n",
       "        return;\n",
       "    }\n",
       "    fig.cell_info[0].output_area.element.one(\n",
       "        'cleared',\n",
       "        { fig: fig },\n",
       "        fig._remove_fig_handler\n",
       "    );\n",
       "};\n",
       "\n",
       "mpl.figure.prototype.handle_close = function (fig, msg) {\n",
       "    var width = fig.canvas.width / fig.ratio;\n",
       "    fig.cell_info[0].output_area.element.off(\n",
       "        'cleared',\n",
       "        fig._remove_fig_handler\n",
       "    );\n",
       "\n",
       "    // Update the output cell to use the data from the current canvas.\n",
       "    fig.push_to_output();\n",
       "    var dataURL = fig.canvas.toDataURL();\n",
       "    // Re-enable the keyboard manager in IPython - without this line, in FF,\n",
       "    // the notebook keyboard shortcuts fail.\n",
       "    IPython.keyboard_manager.enable();\n",
       "    fig.parent_element.innerHTML =\n",
       "        '<img src=\"' + dataURL + '\" width=\"' + width + '\">';\n",
       "    fig.close_ws(fig, msg);\n",
       "};\n",
       "\n",
       "mpl.figure.prototype.close_ws = function (fig, msg) {\n",
       "    fig.send_message('closing', msg);\n",
       "    // fig.ws.close()\n",
       "};\n",
       "\n",
       "mpl.figure.prototype.push_to_output = function (_remove_interactive) {\n",
       "    // Turn the data on the canvas into data in the output cell.\n",
       "    var width = this.canvas.width / this.ratio;\n",
       "    var dataURL = this.canvas.toDataURL();\n",
       "    this.cell_info[1]['text/html'] =\n",
       "        '<img src=\"' + dataURL + '\" width=\"' + width + '\">';\n",
       "};\n",
       "\n",
       "mpl.figure.prototype.updated_canvas_event = function () {\n",
       "    // Tell IPython that the notebook contents must change.\n",
       "    IPython.notebook.set_dirty(true);\n",
       "    this.send_message('ack', {});\n",
       "    var fig = this;\n",
       "    // Wait a second, then push the new image to the DOM so\n",
       "    // that it is saved nicely (might be nice to debounce this).\n",
       "    setTimeout(function () {\n",
       "        fig.push_to_output();\n",
       "    }, 1000);\n",
       "};\n",
       "\n",
       "mpl.figure.prototype._init_toolbar = function () {\n",
       "    var fig = this;\n",
       "\n",
       "    var toolbar = document.createElement('div');\n",
       "    toolbar.classList = 'btn-toolbar';\n",
       "    this.root.appendChild(toolbar);\n",
       "\n",
       "    function on_click_closure(name) {\n",
       "        return function (_event) {\n",
       "            return fig.toolbar_button_onclick(name);\n",
       "        };\n",
       "    }\n",
       "\n",
       "    function on_mouseover_closure(tooltip) {\n",
       "        return function (event) {\n",
       "            if (!event.currentTarget.disabled) {\n",
       "                return fig.toolbar_button_onmouseover(tooltip);\n",
       "            }\n",
       "        };\n",
       "    }\n",
       "\n",
       "    fig.buttons = {};\n",
       "    var buttonGroup = document.createElement('div');\n",
       "    buttonGroup.classList = 'btn-group';\n",
       "    var button;\n",
       "    for (var toolbar_ind in mpl.toolbar_items) {\n",
       "        var name = mpl.toolbar_items[toolbar_ind][0];\n",
       "        var tooltip = mpl.toolbar_items[toolbar_ind][1];\n",
       "        var image = mpl.toolbar_items[toolbar_ind][2];\n",
       "        var method_name = mpl.toolbar_items[toolbar_ind][3];\n",
       "\n",
       "        if (!name) {\n",
       "            /* Instead of a spacer, we start a new button group. */\n",
       "            if (buttonGroup.hasChildNodes()) {\n",
       "                toolbar.appendChild(buttonGroup);\n",
       "            }\n",
       "            buttonGroup = document.createElement('div');\n",
       "            buttonGroup.classList = 'btn-group';\n",
       "            continue;\n",
       "        }\n",
       "\n",
       "        button = fig.buttons[name] = document.createElement('button');\n",
       "        button.classList = 'btn btn-default';\n",
       "        button.href = '#';\n",
       "        button.title = name;\n",
       "        button.innerHTML = '<i class=\"fa ' + image + ' fa-lg\"></i>';\n",
       "        button.addEventListener('click', on_click_closure(method_name));\n",
       "        button.addEventListener('mouseover', on_mouseover_closure(tooltip));\n",
       "        buttonGroup.appendChild(button);\n",
       "    }\n",
       "\n",
       "    if (buttonGroup.hasChildNodes()) {\n",
       "        toolbar.appendChild(buttonGroup);\n",
       "    }\n",
       "\n",
       "    // Add the status bar.\n",
       "    var status_bar = document.createElement('span');\n",
       "    status_bar.classList = 'mpl-message pull-right';\n",
       "    toolbar.appendChild(status_bar);\n",
       "    this.message = status_bar;\n",
       "\n",
       "    // Add the close button to the window.\n",
       "    var buttongrp = document.createElement('div');\n",
       "    buttongrp.classList = 'btn-group inline pull-right';\n",
       "    button = document.createElement('button');\n",
       "    button.classList = 'btn btn-mini btn-primary';\n",
       "    button.href = '#';\n",
       "    button.title = 'Stop Interaction';\n",
       "    button.innerHTML = '<i class=\"fa fa-power-off icon-remove icon-large\"></i>';\n",
       "    button.addEventListener('click', function (_evt) {\n",
       "        fig.handle_close(fig, {});\n",
       "    });\n",
       "    button.addEventListener(\n",
       "        'mouseover',\n",
       "        on_mouseover_closure('Stop Interaction')\n",
       "    );\n",
       "    buttongrp.appendChild(button);\n",
       "    var titlebar = this.root.querySelector('.ui-dialog-titlebar');\n",
       "    titlebar.insertBefore(buttongrp, titlebar.firstChild);\n",
       "};\n",
       "\n",
       "mpl.figure.prototype._remove_fig_handler = function (event) {\n",
       "    var fig = event.data.fig;\n",
       "    fig.close_ws(fig, {});\n",
       "};\n",
       "\n",
       "mpl.figure.prototype._root_extra_style = function (el) {\n",
       "    el.style.boxSizing = 'content-box'; // override notebook setting of border-box.\n",
       "};\n",
       "\n",
       "mpl.figure.prototype._canvas_extra_style = function (el) {\n",
       "    // this is important to make the div 'focusable\n",
       "    el.setAttribute('tabindex', 0);\n",
       "    // reach out to IPython and tell the keyboard manager to turn it's self\n",
       "    // off when our div gets focus\n",
       "\n",
       "    // location in version 3\n",
       "    if (IPython.notebook.keyboard_manager) {\n",
       "        IPython.notebook.keyboard_manager.register_events(el);\n",
       "    } else {\n",
       "        // location in version 2\n",
       "        IPython.keyboard_manager.register_events(el);\n",
       "    }\n",
       "};\n",
       "\n",
       "mpl.figure.prototype._key_event_extra = function (event, _name) {\n",
       "    var manager = IPython.notebook.keyboard_manager;\n",
       "    if (!manager) {\n",
       "        manager = IPython.keyboard_manager;\n",
       "    }\n",
       "\n",
       "    // Check for shift+enter\n",
       "    if (event.shiftKey && event.which === 13) {\n",
       "        this.canvas_div.blur();\n",
       "        // select the cell after this one\n",
       "        var index = IPython.notebook.find_cell_index(this.cell_info[0]);\n",
       "        IPython.notebook.select(index + 1);\n",
       "    }\n",
       "};\n",
       "\n",
       "mpl.figure.prototype.handle_save = function (fig, _msg) {\n",
       "    fig.ondownload(fig, null);\n",
       "};\n",
       "\n",
       "mpl.find_output_cell = function (html_output) {\n",
       "    // Return the cell and output element which can be found *uniquely* in the notebook.\n",
       "    // Note - this is a bit hacky, but it is done because the \"notebook_saving.Notebook\"\n",
       "    // IPython event is triggered only after the cells have been serialised, which for\n",
       "    // our purposes (turning an active figure into a static one), is too late.\n",
       "    var cells = IPython.notebook.get_cells();\n",
       "    var ncells = cells.length;\n",
       "    for (var i = 0; i < ncells; i++) {\n",
       "        var cell = cells[i];\n",
       "        if (cell.cell_type === 'code') {\n",
       "            for (var j = 0; j < cell.output_area.outputs.length; j++) {\n",
       "                var data = cell.output_area.outputs[j];\n",
       "                if (data.data) {\n",
       "                    // IPython >= 3 moved mimebundle to data attribute of output\n",
       "                    data = data.data;\n",
       "                }\n",
       "                if (data['text/html'] === html_output) {\n",
       "                    return [cell, data, j];\n",
       "                }\n",
       "            }\n",
       "        }\n",
       "    }\n",
       "};\n",
       "\n",
       "// Register the function which deals with the matplotlib target/channel.\n",
       "// The kernel may be null if the page has been refreshed.\n",
       "if (IPython.notebook.kernel !== null) {\n",
       "    IPython.notebook.kernel.comm_manager.register_target(\n",
       "        'matplotlib',\n",
       "        mpl.mpl_figure_comm\n",
       "    );\n",
       "}\n"
      ],
      "text/plain": [
       "<IPython.core.display.Javascript object>"
      ]
     },
     "metadata": {},
     "output_type": "display_data"
    },
    {
     "data": {
      "text/html": [
       "<img src=\"data:image/png;base64,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\" width=\"640\">"
      ],
      "text/plain": [
       "<IPython.core.display.HTML object>"
      ]
     },
     "metadata": {},
     "output_type": "display_data"
    },
    {
     "data": {
      "application/vnd.jupyter.widget-view+json": {
       "model_id": "1b84e45c89bc4af584d129a7acfd2354",
       "version_major": 2,
       "version_minor": 0
      },
      "text/plain": [
       "Button(description='Save Inputs', icon='check', layout=Layout(height='80px', width='50%'), style=ButtonStyle()…"
      ]
     },
     "metadata": {},
     "output_type": "display_data"
    },
    {
     "name": "stdout",
     "output_type": "stream",
     "text": [
      "['cm', ' ', 'MeV', ' ', 'mrad', ' ', 'Tesla']\n",
      "1\n",
      "Inputs saved and exported!\n"
     ]
    }
   ],
   "source": [
    "units = [units_length.value, ' ', units_energy.value, ' ', units_angles.value, ' ', units_magnetic_field.value]\n",
    "init_types = [f'{init_position.value}', ' ', f'{init_energy.value}', ' ', f'{init_divergence.value}']\n",
    "\n",
    "convert_beam_direction, convert_divergence_spread, convert_screen_angles = convertAngles(units, beam_direction_widgets, \n",
    "                                                                                         beam_divergence_spread_widgets, \n",
    "                                                                                         screen_angles_widgets)\n",
    "%matplotlib notebook\n",
    "DisplayAndOutput(global_bounds, units, number_of_magnets.value, magnet_dimensions_widgets, permanent_dimension_widgets, \n",
    "                 magnet_position_widgets, magnetic_field_values_widgets, magnetic_field_axes_widgets, \n",
    "                 number_of_particles.value, beam_start_position_widgets, beam_energy, convert_beam_direction, \n",
    "                 beam_position_spread_widgets, beam_energy_spread, convert_divergence_spread, number_of_screens.value, \n",
    "                 screen_dimensions_widgets, screen_position_widgets, convert_screen_angles, init_types, particle_species)"
   ]
  },
  {
   "cell_type": "markdown",
   "metadata": {},
   "source": [
    "## Genetic Algorithm"
   ]
  },
  {
   "cell_type": "code",
   "execution_count": 21,
   "metadata": {},
   "outputs": [
    {
     "data": {
      "application/vnd.jupyter.widget-view+json": {
       "model_id": "073edb34a8fe4ef0a2efeab41ec0c920",
       "version_major": 2,
       "version_minor": 0
      },
      "text/plain": [
       "Label(value='Do you want to use the genetic algorithm? ')"
      ]
     },
     "metadata": {},
     "output_type": "display_data"
    },
    {
     "data": {
      "application/vnd.jupyter.widget-view+json": {
       "model_id": "f8d47c048a3d4db9b391f8474cdd6085",
       "version_major": 2,
       "version_minor": 0
      },
      "text/plain": [
       "Button(description='Yes', icon='check', style=ButtonStyle())"
      ]
     },
     "metadata": {},
     "output_type": "display_data"
    },
    {
     "data": {
      "application/vnd.jupyter.widget-view+json": {
       "model_id": "567927bba1d7458f9a180ca8a74250d6",
       "version_major": 2,
       "version_minor": 0
      },
      "text/plain": [
       "Label(value='The genetic algorithm has access to mutate:')"
      ]
     },
     "metadata": {},
     "output_type": "display_data"
    },
    {
     "data": {
      "application/vnd.jupyter.widget-view+json": {
       "model_id": "69cc4834667c42ec894630e6a6f2b26c",
       "version_major": 2,
       "version_minor": 0
      },
      "text/plain": [
       "Label(value='Magnet position')"
      ]
     },
     "metadata": {},
     "output_type": "display_data"
    },
    {
     "data": {
      "application/vnd.jupyter.widget-view+json": {
       "model_id": "ded9ebc7dac6461fa4acd33b2b8294dc",
       "version_major": 2,
       "version_minor": 0
      },
      "text/plain": [
       "HBox(children=(VBox(children=(Checkbox(value=False, description='x pos 1'), Checkbox(value=False, description=…"
      ]
     },
     "metadata": {},
     "output_type": "display_data"
    },
    {
     "data": {
      "application/vnd.jupyter.widget-view+json": {
       "model_id": "4886f9032b934775befa77dcb9985d38",
       "version_major": 2,
       "version_minor": 0
      },
      "text/plain": [
       "Label(value='Screen position')"
      ]
     },
     "metadata": {},
     "output_type": "display_data"
    },
    {
     "data": {
      "application/vnd.jupyter.widget-view+json": {
       "model_id": "6fa4309457f34db2a7b66e346acf0668",
       "version_major": 2,
       "version_minor": 0
      },
      "text/plain": [
       "HBox(children=(VBox(children=(Checkbox(value=False, description='x pos 1'), Checkbox(value=False, description=…"
      ]
     },
     "metadata": {},
     "output_type": "display_data"
    },
    {
     "data": {
      "application/vnd.jupyter.widget-view+json": {
       "model_id": "b208a7a1444c4fc3b56dbd38112ed645",
       "version_major": 2,
       "version_minor": 0
      },
      "text/plain": [
       "Label(value='Screen angles')"
      ]
     },
     "metadata": {},
     "output_type": "display_data"
    },
    {
     "data": {
      "application/vnd.jupyter.widget-view+json": {
       "model_id": "4af387d2bacd45fe8a787a55be1f6eab",
       "version_major": 2,
       "version_minor": 0
      },
      "text/plain": [
       "HBox(children=(VBox(children=(Checkbox(value=False, description='yaw 1'), Checkbox(value=False, description='p…"
      ]
     },
     "metadata": {},
     "output_type": "display_data"
    },
    {
     "data": {
      "application/vnd.jupyter.widget-view+json": {
       "model_id": "224ac5abbf4f46438e18191a8bf0d0ec",
       "version_major": 2,
       "version_minor": 0
      },
      "text/plain": [
       "Label(value='Click below to save and output selection')"
      ]
     },
     "metadata": {},
     "output_type": "display_data"
    },
    {
     "data": {
      "application/vnd.jupyter.widget-view+json": {
       "model_id": "2f0ea502baeb48c3af36eb4ad39847f6",
       "version_major": 2,
       "version_minor": 0
      },
      "text/plain": [
       "Button(description='Save Checked Boxes', icon='check', layout=Layout(height='80px', width='50%'), style=Button…"
      ]
     },
     "metadata": {},
     "output_type": "display_data"
    },
    {
     "name": "stdout",
     "output_type": "stream",
     "text": [
      "Choices saved and exported!\n",
      "Choices saved and exported!\n",
      "Choices saved and exported!\n"
     ]
    }
   ],
   "source": [
    "genetic_algorithm_setup(global_bounds, number_of_magnets.value, number_of_screens.value, units_length.value,\n",
    "                        magnetic_field_values_widgets)"
   ]
  },
  {
   "cell_type": "code",
   "execution_count": null,
   "metadata": {},
   "outputs": [],
   "source": []
  }
 ],
 "metadata": {
  "kernelspec": {
   "display_name": "Python 3",
   "language": "python",
   "name": "python3"
  },
  "language_info": {
   "codemirror_mode": {
    "name": "ipython",
    "version": 3
   },
   "file_extension": ".py",
   "mimetype": "text/x-python",
   "name": "python",
   "nbconvert_exporter": "python",
   "pygments_lexer": "ipython3",
   "version": "3.8.5"
  }
 },
 "nbformat": 4,
 "nbformat_minor": 2
}
