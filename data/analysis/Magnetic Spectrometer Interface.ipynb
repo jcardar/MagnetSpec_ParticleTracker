{
 "cells": [
  {
   "cell_type": "markdown",
   "metadata": {},
   "source": [
    "Define interactive variables to set up particle stepper (static and variable), and then have user define figure of merit.<br>\n",
    "Write out in either .csv or .txt file (idea: in .csv file, have rows correspond to objects (ie, magnets, particle beam, etc) and have the first column represent the number of those objects (magnets, beams, etc), and the remaining columns an ordered list of values defining those objects, to read from left to right, spanning all of the relevant objects).<br>\n",
    "Have c++ code read this, and define objects with 'for' loops."
   ]
  },
  {
   "cell_type": "markdown",
   "metadata": {},
   "source": [
    "Items to define for input deck:<br>\n",
    "1. Magnet: Center of Entrance Plane, Length, Width, Height, magnetic field strength (vector) (x-component, y-component, z-component)\n",
    "2. Beam: number of particles, central starting position, central energy, central direction (angles from axes (angle for x determined from angles for y and z, and is silently ignored))\n",
    "3. Beam: spread in starting position, spread in central energy, spread in divergence (user input FWHM of Gaussian spread, code uses 0.5 of this in spread)\n",
    "4. Screen: Low-Energy Middle, Width, Height, Angle from both z- and x-axes"
   ]
  },
  {
   "cell_type": "markdown",
   "metadata": {},
   "source": [
    "## Your preferred units:\n",
    ">Please run the next cell once to generate widget objects. Change the values in the dropdowns to the value to prefer. Do not run the cell again, the value is dynamically updated when you change the value in the dropdown menu!"
   ]
  },
  {
   "cell_type": "code",
   "execution_count": 3,
   "metadata": {},
   "outputs": [
    {
     "data": {
      "application/vnd.jupyter.widget-view+json": {
       "model_id": "f699d3ae99cf48e5afdb89e047f78e46",
       "version_major": 2,
       "version_minor": 0
      },
      "text/plain": [
       "Dropdown(description='Length Unit', index=1, layout=Layout(width='250px'), options=('mm', 'cm', 'm'), style=De…"
      ]
     },
     "metadata": {},
     "output_type": "display_data"
    },
    {
     "data": {
      "application/vnd.jupyter.widget-view+json": {
       "model_id": "987dd2bf2ab141b99fb3dcdd01310175",
       "version_major": 2,
       "version_minor": 0
      },
      "text/plain": [
       "Dropdown(description='Energy Unit', index=1, layout=Layout(width='250px'), options=('eV', 'MeV', 'GeV'), style…"
      ]
     },
     "metadata": {},
     "output_type": "display_data"
    },
    {
     "data": {
      "application/vnd.jupyter.widget-view+json": {
       "model_id": "be88227cc0dc4631abc64b2caa103155",
       "version_major": 2,
       "version_minor": 0
      },
      "text/plain": [
       "Dropdown(description='Angle Unit', layout=Layout(width='250px'), options=('mrad', 'Radians', 'Degrees'), style…"
      ]
     },
     "metadata": {},
     "output_type": "display_data"
    },
    {
     "data": {
      "application/vnd.jupyter.widget-view+json": {
       "model_id": "69ff73bbe92f4436968441614feb0c41",
       "version_major": 2,
       "version_minor": 0
      },
      "text/plain": [
       "Dropdown(description='Field Unit', layout=Layout(width='250px'), options=('Tesla', 'Gauss'), style=Description…"
      ]
     },
     "metadata": {},
     "output_type": "display_data"
    }
   ],
   "source": [
    "from magspecinterface_functions import *\n",
    "#import importlib\n",
    "#importlib.reload(magspecinterface_functions)\n",
    "#import magspecinterface_functions\n",
    "display( units_length )\n",
    "display( units_energy )\n",
    "display( units_angles )\n",
    "display( units_magnetic_field )"
   ]
  },
  {
   "cell_type": "markdown",
   "metadata": {},
   "source": [
    "## Initialization type"
   ]
  },
  {
   "cell_type": "code",
   "execution_count": 4,
   "metadata": {},
   "outputs": [
    {
     "data": {
      "application/vnd.jupyter.widget-view+json": {
       "model_id": "9b752a46cd66401ab3a9624bbd3e230c",
       "version_major": 2,
       "version_minor": 0
      },
      "text/plain": [
       "Dropdown(description='Position', index=2, layout=Layout(width='250px'), options=(('Gaussian', 0), ('Uniform', …"
      ]
     },
     "metadata": {},
     "output_type": "display_data"
    },
    {
     "data": {
      "application/vnd.jupyter.widget-view+json": {
       "model_id": "beee4104acf443fb959500bd0426d131",
       "version_major": 2,
       "version_minor": 0
      },
      "text/plain": [
       "Dropdown(description='Energy', index=1, layout=Layout(width='250px'), options=(('Gaussian', 0), ('Uniform', 1)…"
      ]
     },
     "metadata": {},
     "output_type": "display_data"
    },
    {
     "data": {
      "application/vnd.jupyter.widget-view+json": {
       "model_id": "b1d98e00083c438fa6327e4d3d8e0ff5",
       "version_major": 2,
       "version_minor": 0
      },
      "text/plain": [
       "Dropdown(description='Divergence', index=3, layout=Layout(width='250px'), options=(('Gaussian', 0), ('Uniform'…"
      ]
     },
     "metadata": {},
     "output_type": "display_data"
    }
   ],
   "source": [
    "display( init_position )\n",
    "display( init_energy )\n",
    "display( init_divergence )"
   ]
  },
  {
   "cell_type": "markdown",
   "metadata": {},
   "source": [
    "## Spectrometer coordinate system\n",
    "> Define the limits to the spectrometer coordinate system. You are free to choose what marks the origin.<br>\n",
    "**Note:** Global bounds may be negative."
   ]
  },
  {
   "cell_type": "code",
   "execution_count": 5,
   "metadata": {},
   "outputs": [
    {
     "data": {
      "application/vnd.jupyter.widget-view+json": {
       "model_id": "87d09dd95bc54f92bb890a9503b6fd78",
       "version_major": 2,
       "version_minor": 0
      },
      "text/plain": [
       "FloatText(value=300.0, description='Global x max', layout=Layout(width='250px'), style=DescriptionStyle(descri…"
      ]
     },
     "metadata": {},
     "output_type": "display_data"
    },
    {
     "data": {
      "application/vnd.jupyter.widget-view+json": {
       "model_id": "cff9acbae4fd43c2b7e9c0d8104179eb",
       "version_major": 2,
       "version_minor": 0
      },
      "text/plain": [
       "FloatText(value=-10.0, description='Global x min', layout=Layout(width='250px'), style=DescriptionStyle(descri…"
      ]
     },
     "metadata": {},
     "output_type": "display_data"
    },
    {
     "data": {
      "application/vnd.jupyter.widget-view+json": {
       "model_id": "692859bf179944dd9dce476fe1897771",
       "version_major": 2,
       "version_minor": 0
      },
      "text/plain": [
       "FloatText(value=100.0, description='Global y max', layout=Layout(width='250px'), style=DescriptionStyle(descri…"
      ]
     },
     "metadata": {},
     "output_type": "display_data"
    },
    {
     "data": {
      "application/vnd.jupyter.widget-view+json": {
       "model_id": "5cbadb101b354f9791b007f8a64dc010",
       "version_major": 2,
       "version_minor": 0
      },
      "text/plain": [
       "FloatText(value=-100.0, description='Global y min', layout=Layout(width='250px'), style=DescriptionStyle(descr…"
      ]
     },
     "metadata": {},
     "output_type": "display_data"
    },
    {
     "data": {
      "application/vnd.jupyter.widget-view+json": {
       "model_id": "032b73731c704a39811e41e3d0f4af62",
       "version_major": 2,
       "version_minor": 0
      },
      "text/plain": [
       "FloatText(value=100.0, description='Global z max', layout=Layout(width='250px'), style=DescriptionStyle(descri…"
      ]
     },
     "metadata": {},
     "output_type": "display_data"
    },
    {
     "data": {
      "application/vnd.jupyter.widget-view+json": {
       "model_id": "46dc971826e64a82b4da9c67932b0e2a",
       "version_major": 2,
       "version_minor": 0
      },
      "text/plain": [
       "FloatText(value=-100.0, description='Global z min', layout=Layout(width='250px'), style=DescriptionStyle(descr…"
      ]
     },
     "metadata": {},
     "output_type": "display_data"
    }
   ],
   "source": [
    "for ii in range(len(global_bounds)):\n",
    "    display( global_bounds[ii] )"
   ]
  },
  {
   "cell_type": "markdown",
   "metadata": {},
   "source": [
    "## Magnet setup:\n",
    "> Number of magnets, dimensions, position, and magnetic field components."
   ]
  },
  {
   "cell_type": "markdown",
   "metadata": {},
   "source": [
    "![alt text](magnet_position.png \"Magnet_Setup\")"
   ]
  },
  {
   "cell_type": "code",
   "execution_count": 9,
   "metadata": {},
   "outputs": [
    {
     "data": {
      "application/vnd.jupyter.widget-view+json": {
       "model_id": "92d6e588de164f90a405090d46364129",
       "version_major": 2,
       "version_minor": 0
      },
      "text/plain": [
       "BoundedIntText(value=1, description='Number of Magnets', layout=Layout(width='250px'), style=DescriptionStyle(…"
      ]
     },
     "metadata": {},
     "output_type": "display_data"
    }
   ],
   "source": [
    "display( number_of_magnets )"
   ]
  },
  {
   "cell_type": "code",
   "execution_count": 11,
   "metadata": {},
   "outputs": [
    {
     "data": {
      "application/vnd.jupyter.widget-view+json": {
       "model_id": "b7191530802541d8a50c04902a6483bc",
       "version_major": 2,
       "version_minor": 0
      },
      "text/plain": [
       "Dropdown(description='Magnet 1 Type', layout=Layout(width='250px'), options=(('(D)ipole', 'd'), ('(U)niform Di…"
      ]
     },
     "metadata": {},
     "output_type": "display_data"
    }
   ],
   "source": [
    "magnet_types_widgets = dropdown_Magnet_Type(number_of_magnets.value)\n",
    "for ii in range(len(magnet_types_widgets)):\n",
    "    display( magnet_types_widgets[ii] )"
   ]
  },
  {
   "cell_type": "code",
   "execution_count": 12,
   "metadata": {
    "scrolled": true
   },
   "outputs": [
    {
     "data": {
      "application/vnd.jupyter.widget-view+json": {
       "model_id": "88c8f74d09e94177b2ee3b60e995bea6",
       "version_major": 2,
       "version_minor": 0
      },
      "text/plain": [
       "BoundedFloatText(value=10.0, description='Width 1', layout=Layout(width='250px'), style=DescriptionStyle(descr…"
      ]
     },
     "metadata": {},
     "output_type": "display_data"
    },
    {
     "data": {
      "application/vnd.jupyter.widget-view+json": {
       "model_id": "fe2bae5f6079429a9d23b7104f6def3b",
       "version_major": 2,
       "version_minor": 0
      },
      "text/plain": [
       "BoundedFloatText(value=30.0, description='Length 1', layout=Layout(width='250px'), max=300.0, style=Descriptio…"
      ]
     },
     "metadata": {},
     "output_type": "display_data"
    },
    {
     "data": {
      "application/vnd.jupyter.widget-view+json": {
       "model_id": "3dbc143a6033410fb8b19e47cff663f2",
       "version_major": 2,
       "version_minor": 0
      },
      "text/plain": [
       "BoundedFloatText(value=5.0, description='Height 1', layout=Layout(width='250px'), style=DescriptionStyle(descr…"
      ]
     },
     "metadata": {},
     "output_type": "display_data"
    }
   ],
   "source": [
    "magnet_dimensions_widgets = dynamicFloatValue_Magnet_Dimensions(number_of_magnets.value, global_bounds)\n",
    "for ii in range(len(magnet_dimensions_widgets)):\n",
    "    display( magnet_dimensions_widgets[ii] )"
   ]
  },
  {
   "cell_type": "markdown",
   "metadata": {},
   "source": [
    "> **Note:** This is **not** a dimension of the space between magnets. This is the dimension of one permanent magnet parallel to the separation between the magnets."
   ]
  },
  {
   "cell_type": "code",
   "execution_count": 13,
   "metadata": {},
   "outputs": [
    {
     "data": {
      "application/vnd.jupyter.widget-view+json": {
       "model_id": "453a97f8b3214a09ac91bd0150a83d56",
       "version_major": 2,
       "version_minor": 0
      },
      "text/plain": [
       "FloatText(value=10.0, description='Dimension 1', layout=Layout(width='250px'), style=DescriptionStyle(descript…"
      ]
     },
     "metadata": {},
     "output_type": "display_data"
    }
   ],
   "source": [
    "permanent_dimension_widgets = dynamicFloatValue_Permanent_Magnet_Dimension(number_of_magnets.value)\n",
    "for ii in range(len(permanent_dimension_widgets)):\n",
    "    display( permanent_dimension_widgets[ii] )"
   ]
  },
  {
   "cell_type": "markdown",
   "metadata": {},
   "source": [
    "> **Important:** Position value limits are based on global bounds and magnet dimensions. Please re-run the below cell if values for either change."
   ]
  },
  {
   "cell_type": "code",
   "execution_count": 7,
   "metadata": {
    "scrolled": true
   },
   "outputs": [
    {
     "data": {
      "application/vnd.jupyter.widget-view+json": {
       "model_id": "ff6f629b8cb341bf9eda265af09ce79c",
       "version_major": 2,
       "version_minor": 0
      },
      "text/plain": [
       "BoundedFloatText(value=0.0, description='X-Position 1', layout=Layout(width='250px'), max=270.0, min=-10.0, st…"
      ]
     },
     "metadata": {},
     "output_type": "display_data"
    },
    {
     "data": {
      "application/vnd.jupyter.widget-view+json": {
       "model_id": "3bf46b28e0964fa08728d10c1ef98b01",
       "version_major": 2,
       "version_minor": 0
      },
      "text/plain": [
       "BoundedFloatText(value=0.0, description='Y-Position 1', layout=Layout(width='250px'), max=95.0, min=-95.0, sty…"
      ]
     },
     "metadata": {},
     "output_type": "display_data"
    },
    {
     "data": {
      "application/vnd.jupyter.widget-view+json": {
       "model_id": "cae9e7c5a5c8472db693839e7fdaa628",
       "version_major": 2,
       "version_minor": 0
      },
      "text/plain": [
       "BoundedFloatText(value=0.0, description='Z-Position 1', layout=Layout(width='250px'), max=98.5, min=-98.5, sty…"
      ]
     },
     "metadata": {},
     "output_type": "display_data"
    }
   ],
   "source": [
    "magnet_position_widgets = dynamicFloatValue_Magnet_Position(number_of_magnets.value, magnet_dimensions_widgets,\n",
    "                                                            global_bounds)\n",
    "for ii in range(len(magnet_position_widgets)):\n",
    "    display( magnet_position_widgets[ii] )"
   ]
  },
  {
   "cell_type": "code",
   "execution_count": 8,
   "metadata": {
    "scrolled": true
   },
   "outputs": [
    {
     "data": {
      "application/vnd.jupyter.widget-view+json": {
       "model_id": "69dfba0f879e4e2bbc4bffab661b3451",
       "version_major": 2,
       "version_minor": 0
      },
      "text/plain": [
       "Dropdown(description='Dipole Field Type', layout=Layout(width='250px'), options=('Analytic Dipole Field', 'Uni…"
      ]
     },
     "metadata": {},
     "output_type": "display_data"
    },
    {
     "data": {
      "application/vnd.jupyter.widget-view+json": {
       "model_id": "870dc0959c7042e1b3130957c189a8b1",
       "version_major": 2,
       "version_minor": 0
      },
      "text/plain": [
       "FloatText(value=1.0, description='B field 1', layout=Layout(width='250px'), style=DescriptionStyle(description…"
      ]
     },
     "metadata": {},
     "output_type": "display_data"
    },
    {
     "data": {
      "application/vnd.jupyter.widget-view+json": {
       "model_id": "3522e68ca8e34193b31018dd2a7ca2c7",
       "version_major": 2,
       "version_minor": 0
      },
      "text/plain": [
       "Dropdown(description='Along the', index=2, layout=Layout(width='250px'), options=(('x-axis', 'x'), ('y-axis', …"
      ]
     },
     "metadata": {},
     "output_type": "display_data"
    }
   ],
   "source": [
    "magnetic_field_values_widgets = dynamicFloatValue_Magnetic_Field_Value(number_of_magnets.value)\n",
    "magnetic_field_axes_widgets = dynamicFloatValue_Magnetic_Field_Axis(number_of_magnets.value)\n",
    "for ii in range(len(magnetic_field_values_widgets)):\n",
    "    display( magnetic_field_values_widgets[ii] )\n",
    "    display( magnetic_field_axes_widgets[ii] )"
   ]
  },
  {
   "cell_type": "markdown",
   "metadata": {},
   "source": [
    "## Beam Setup:\n",
    ">Number of particles, starting position, energy, direction.<br>\n",
    "**Note:** Please input values referencing the beam center. Direction is given by angle from axes."
   ]
  },
  {
   "cell_type": "code",
   "execution_count": 9,
   "metadata": {},
   "outputs": [
    {
     "data": {
      "application/vnd.jupyter.widget-view+json": {
       "model_id": "0c5bc02901b64748a5911ffad634ce95",
       "version_major": 2,
       "version_minor": 0
      },
      "text/plain": [
       "Dropdown(description='Particle Species', layout=Layout(width='250px'), options=('Electrons', 'Positrons'), sty…"
      ]
     },
     "metadata": {},
     "output_type": "display_data"
    }
   ],
   "source": [
    "display( particle_species )"
   ]
  },
  {
   "cell_type": "code",
   "execution_count": 10,
   "metadata": {},
   "outputs": [
    {
     "data": {
      "application/vnd.jupyter.widget-view+json": {
       "model_id": "7a5ef7cf077942f0bc88f3e4c2f55498",
       "version_major": 2,
       "version_minor": 0
      },
      "text/plain": [
       "BoundedIntText(value=10, description='Number of Particles', layout=Layout(width='250px'), max=999999, min=1, s…"
      ]
     },
     "metadata": {},
     "output_type": "display_data"
    }
   ],
   "source": [
    "display( number_of_particles )"
   ]
  },
  {
   "cell_type": "code",
   "execution_count": 11,
   "metadata": {},
   "outputs": [
    {
     "data": {
      "application/vnd.jupyter.widget-view+json": {
       "model_id": "ebbae647c63f4a50abd7e2379b85879c",
       "version_major": 2,
       "version_minor": 0
      },
      "text/plain": [
       "BoundedFloatText(value=0.0, description='Initial X-Position', layout=Layout(width='250px'), max=300.0, min=-10…"
      ]
     },
     "metadata": {},
     "output_type": "display_data"
    },
    {
     "data": {
      "application/vnd.jupyter.widget-view+json": {
       "model_id": "4deed61347004c49a1a872558762ab60",
       "version_major": 2,
       "version_minor": 0
      },
      "text/plain": [
       "BoundedFloatText(value=0.0, description='Initial Y-Position', layout=Layout(width='250px'), min=-100.0, style=…"
      ]
     },
     "metadata": {},
     "output_type": "display_data"
    },
    {
     "data": {
      "application/vnd.jupyter.widget-view+json": {
       "model_id": "7dc85bf4d53d4071883bb05d5881f83e",
       "version_major": 2,
       "version_minor": 0
      },
      "text/plain": [
       "BoundedFloatText(value=0.0, description='Initial Z-Position', layout=Layout(width='250px'), min=-100.0, style=…"
      ]
     },
     "metadata": {},
     "output_type": "display_data"
    }
   ],
   "source": [
    "beam_start_position_widgets = dynamicFloatValue_Beam_Start_Position(global_bounds)\n",
    "for ii in range(len(beam_start_position_widgets)):\n",
    "    display( beam_start_position_widgets[ii] )"
   ]
  },
  {
   "cell_type": "code",
   "execution_count": 12,
   "metadata": {},
   "outputs": [
    {
     "data": {
      "application/vnd.jupyter.widget-view+json": {
       "model_id": "1833c016d7de4b38b762cef2523c32af",
       "version_major": 2,
       "version_minor": 0
      },
      "text/plain": [
       "BoundedFloatText(value=100.0, description='Central KE', layout=Layout(width='250px'), max=9999999.0, style=Des…"
      ]
     },
     "metadata": {},
     "output_type": "display_data"
    }
   ],
   "source": [
    "display(beam_energy)"
   ]
  },
  {
   "cell_type": "code",
   "execution_count": 13,
   "metadata": {},
   "outputs": [
    {
     "data": {
      "application/vnd.jupyter.widget-view+json": {
       "model_id": "b481e3c0f66040acaf320ecdfaa68296",
       "version_major": 2,
       "version_minor": 0
      },
      "text/plain": [
       "FloatText(value=0.0, description='Angle with Respect to X-Axis', layout=Layout(width='500px'), style=Descripti…"
      ]
     },
     "metadata": {},
     "output_type": "display_data"
    },
    {
     "data": {
      "application/vnd.jupyter.widget-view+json": {
       "model_id": "8ed07f2b4f884b25aa186d1985374ad4",
       "version_major": 2,
       "version_minor": 0
      },
      "text/plain": [
       "FloatText(value=1570.7963267948965, description='Angle with Respect to Y-Axis', layout=Layout(width='500px'), …"
      ]
     },
     "metadata": {},
     "output_type": "display_data"
    },
    {
     "data": {
      "application/vnd.jupyter.widget-view+json": {
       "model_id": "536fe7ac90274631a36295b799ef748d",
       "version_major": 2,
       "version_minor": 0
      },
      "text/plain": [
       "FloatText(value=1570.7963267948965, description='Angle with Respect to Z-Axis', layout=Layout(width='500px'), …"
      ]
     },
     "metadata": {},
     "output_type": "display_data"
    }
   ],
   "source": [
    "beam_direction_widgets = dynamicFloatValue_Beam_Direction(units_angles.value)\n",
    "for ii in range(len(beam_direction_widgets)):\n",
    "    display( beam_direction_widgets[ii] )"
   ]
  },
  {
   "cell_type": "markdown",
   "metadata": {},
   "source": [
    "## Beam Spread:\n",
    ">Spread in starting position, energy, and divergence."
   ]
  },
  {
   "cell_type": "code",
   "execution_count": 14,
   "metadata": {},
   "outputs": [
    {
     "data": {
      "application/vnd.jupyter.widget-view+json": {
       "model_id": "7f377fd6e68e4715840d80e0fa3dba5d",
       "version_major": 2,
       "version_minor": 0
      },
      "text/plain": [
       "FloatText(value=0.0, description='Spread in Initial X-Position', layout=Layout(width='500px'), style=Descripti…"
      ]
     },
     "metadata": {},
     "output_type": "display_data"
    },
    {
     "data": {
      "application/vnd.jupyter.widget-view+json": {
       "model_id": "0b90013121994aa694e3603004ce5733",
       "version_major": 2,
       "version_minor": 0
      },
      "text/plain": [
       "FloatText(value=0.0, description='Spread in Initial Y-Position', layout=Layout(width='500px'), style=Descripti…"
      ]
     },
     "metadata": {},
     "output_type": "display_data"
    },
    {
     "data": {
      "application/vnd.jupyter.widget-view+json": {
       "model_id": "924a956b1b984c58aa6f5743ccb927d9",
       "version_major": 2,
       "version_minor": 0
      },
      "text/plain": [
       "FloatText(value=0.0, description='Spread in Initial Z-Position', layout=Layout(width='500px'), style=Descripti…"
      ]
     },
     "metadata": {},
     "output_type": "display_data"
    }
   ],
   "source": [
    "beam_position_spread_widgets = dynamicFloatValue_Beam_Position_Spread()\n",
    "for ii in range(len(beam_position_spread_widgets)):\n",
    "    display( beam_position_spread_widgets[ii] )"
   ]
  },
  {
   "cell_type": "code",
   "execution_count": 15,
   "metadata": {},
   "outputs": [
    {
     "data": {
      "application/vnd.jupyter.widget-view+json": {
       "model_id": "f0516dda0d0f49e08dd82dd098e7c825",
       "version_major": 2,
       "version_minor": 0
      },
      "text/plain": [
       "BoundedFloatText(value=0.0, description='Energy Spread', layout=Layout(width='500px'), max=9999999.0, style=De…"
      ]
     },
     "metadata": {},
     "output_type": "display_data"
    }
   ],
   "source": [
    "display( beam_energy_spread )"
   ]
  },
  {
   "cell_type": "code",
   "execution_count": 16,
   "metadata": {},
   "outputs": [
    {
     "data": {
      "application/vnd.jupyter.widget-view+json": {
       "model_id": "2864207a6b5649f69bbd23dd6871cc89",
       "version_major": 2,
       "version_minor": 0
      },
      "text/plain": [
       "FloatText(value=0.0, description='X-Divergence Angle', layout=Layout(width='500px'), style=DescriptionStyle(de…"
      ]
     },
     "metadata": {},
     "output_type": "display_data"
    },
    {
     "data": {
      "application/vnd.jupyter.widget-view+json": {
       "model_id": "19e282295afa4cde8ad022a33430bc30",
       "version_major": 2,
       "version_minor": 0
      },
      "text/plain": [
       "FloatText(value=10.0, description='Y-Divergence Angle', layout=Layout(width='500px'), style=DescriptionStyle(d…"
      ]
     },
     "metadata": {},
     "output_type": "display_data"
    },
    {
     "data": {
      "application/vnd.jupyter.widget-view+json": {
       "model_id": "10bca81f68764beb87f35ad060f2e556",
       "version_major": 2,
       "version_minor": 0
      },
      "text/plain": [
       "FloatText(value=10.0, description='Z-Divergence Angle', layout=Layout(width='500px'), style=DescriptionStyle(d…"
      ]
     },
     "metadata": {},
     "output_type": "display_data"
    }
   ],
   "source": [
    "beam_divergence_spread_widgets = dynamicFloatValue_Beam_Divergence_Spread()\n",
    "for ii in range(len(beam_divergence_spread_widgets)):\n",
    "    display( beam_divergence_spread_widgets[ii] )"
   ]
  },
  {
   "cell_type": "markdown",
   "metadata": {},
   "source": [
    "## Screen Setup:\n",
    ">Number of screens, dimensions, angles about axes, and position.<br>\n",
    "**Note:** Given angles are yaw (about the z-axis), pitch (about the y-axis), and roll (about the x-axis)."
   ]
  },
  {
   "cell_type": "markdown",
   "metadata": {},
   "source": [
    "![alt text](screen_setup.png \"Screen_Setup\")"
   ]
  },
  {
   "cell_type": "code",
   "execution_count": 17,
   "metadata": {},
   "outputs": [
    {
     "data": {
      "application/vnd.jupyter.widget-view+json": {
       "model_id": "d1899dd4512a4f52b9cc1eabd4b31963",
       "version_major": 2,
       "version_minor": 0
      },
      "text/plain": [
       "BoundedIntText(value=1, description='Number of Screens', layout=Layout(width='500px'), style=DescriptionStyle(…"
      ]
     },
     "metadata": {},
     "output_type": "display_data"
    }
   ],
   "source": [
    "display( number_of_screens )"
   ]
  },
  {
   "cell_type": "code",
   "execution_count": 18,
   "metadata": {},
   "outputs": [
    {
     "data": {
      "application/vnd.jupyter.widget-view+json": {
       "model_id": "e3d3712cb86b4a7a8c9ca9dcf1c56447",
       "version_major": 2,
       "version_minor": 0
      },
      "text/plain": [
       "BoundedFloatText(value=50.0, description='Length of Screen 1', layout=Layout(width='500px'), max=300.0, style=…"
      ]
     },
     "metadata": {},
     "output_type": "display_data"
    },
    {
     "data": {
      "application/vnd.jupyter.widget-view+json": {
       "model_id": "5fbe0aba54214e2ea0bc76e1fb7085ab",
       "version_major": 2,
       "version_minor": 0
      },
      "text/plain": [
       "BoundedFloatText(value=10.0, description='Height of Screen 1', layout=Layout(width='500px'), style=Description…"
      ]
     },
     "metadata": {},
     "output_type": "display_data"
    }
   ],
   "source": [
    "screen_dimensions_widgets = dynamicFloatValue_Screen_Dimensions(number_of_screens.value, global_bounds)\n",
    "for ii in range(len(screen_dimensions_widgets)):\n",
    "    display( screen_dimensions_widgets[ii] )"
   ]
  },
  {
   "cell_type": "code",
   "execution_count": 22,
   "metadata": {},
   "outputs": [
    {
     "data": {
      "application/vnd.jupyter.widget-view+json": {
       "model_id": "8094ac4d0385454c810e4d006b550e9f",
       "version_major": 2,
       "version_minor": 0
      },
      "text/plain": [
       "FloatText(value=1570.8, description='Yaw (About Z-Axis) Angle of Screen 1', layout=Layout(width='500px'), styl…"
      ]
     },
     "metadata": {},
     "output_type": "display_data"
    },
    {
     "data": {
      "application/vnd.jupyter.widget-view+json": {
       "model_id": "6c66f604ff7c456088f247d9566f6b4d",
       "version_major": 2,
       "version_minor": 0
      },
      "text/plain": [
       "FloatText(value=0.0, description='Pitch (About Y-Axis) Angle of Screen 1', layout=Layout(width='500px'), style…"
      ]
     },
     "metadata": {},
     "output_type": "display_data"
    },
    {
     "data": {
      "application/vnd.jupyter.widget-view+json": {
       "model_id": "3ff08bc197df49419089aac668dbf0a4",
       "version_major": 2,
       "version_minor": 0
      },
      "text/plain": [
       "FloatText(value=0.0, description='Roll (About X-Axis) Angle of Screen 1', layout=Layout(width='500px'), style=…"
      ]
     },
     "metadata": {},
     "output_type": "display_data"
    }
   ],
   "source": [
    "screen_angles_widgets = dynamicFloatValue_Screen_Angles(number_of_screens.value)\n",
    "for ii in range(len(screen_angles_widgets)):\n",
    "    display( screen_angles_widgets[ii] )"
   ]
  },
  {
   "cell_type": "markdown",
   "metadata": {},
   "source": [
    "> **Important:** Position value limits are based on global bounds, screen dimensions, and screen angles. Please re-run the below cell if values for any change."
   ]
  },
  {
   "cell_type": "code",
   "execution_count": 24,
   "metadata": {},
   "outputs": [
    {
     "data": {
      "application/vnd.jupyter.widget-view+json": {
       "model_id": "4cc13d9890f847efa0cffad35ed82e83",
       "version_major": 2,
       "version_minor": 0
      },
      "text/plain": [
       "BoundedFloatText(value=50.0, description='X-Position of Screen 1', max=300.0, min=-10.00000073464102)"
      ]
     },
     "metadata": {},
     "output_type": "display_data"
    },
    {
     "data": {
      "application/vnd.jupyter.widget-view+json": {
       "model_id": "6a0101070a4049bca6a9be04c9e1d423",
       "version_major": 2,
       "version_minor": 0
      },
      "text/plain": [
       "BoundedFloatText(value=-25.0, description='Y-Position of Screen 1', max=99.80000000000135, min=-100.0)"
      ]
     },
     "metadata": {},
     "output_type": "display_data"
    },
    {
     "data": {
      "application/vnd.jupyter.widget-view+json": {
       "model_id": "834821bf9ea94db9ae00d9497d3605fe",
       "version_major": 2,
       "version_minor": 0
      },
      "text/plain": [
       "BoundedFloatText(value=0.0, description='Z-Position of Screen 1', max=99.9, min=-100.1)"
      ]
     },
     "metadata": {},
     "output_type": "display_data"
    }
   ],
   "source": [
    "screen_position_widgets = dynamicFloatValue_Screen_Position(units_angles.value, number_of_screens.value, global_bounds, \n",
    "                                                            screen_dimensions_widgets, screen_angles_widgets)\n",
    "for ii in range(len(screen_position_widgets)):\n",
    "    display( screen_position_widgets[ii] )"
   ]
  },
  {
   "cell_type": "markdown",
   "metadata": {},
   "source": [
    "## Display and Output info\n",
    ">Displays a 3D model of the spectrometer based on user inputs. If there are no errors, press the button below to output information.<br>\n",
    "**Note:** Axes may not have the same scale."
   ]
  },
  {
   "cell_type": "code",
   "execution_count": 30,
   "metadata": {
    "scrolled": false
   },
   "outputs": [
    {
     "data": {
      "application/javascript": [
       "/* Put everything inside the global mpl namespace */\n",
       "/* global mpl */\n",
       "window.mpl = {};\n",
       "\n",
       "mpl.get_websocket_type = function () {\n",
       "    if (typeof WebSocket !== 'undefined') {\n",
       "        return WebSocket;\n",
       "    } else if (typeof MozWebSocket !== 'undefined') {\n",
       "        return MozWebSocket;\n",
       "    } else {\n",
       "        alert(\n",
       "            'Your browser does not have WebSocket support. ' +\n",
       "                'Please try Chrome, Safari or Firefox ≥ 6. ' +\n",
       "                'Firefox 4 and 5 are also supported but you ' +\n",
       "                'have to enable WebSockets in about:config.'\n",
       "        );\n",
       "    }\n",
       "};\n",
       "\n",
       "mpl.figure = function (figure_id, websocket, ondownload, parent_element) {\n",
       "    this.id = figure_id;\n",
       "\n",
       "    this.ws = websocket;\n",
       "\n",
       "    this.supports_binary = this.ws.binaryType !== undefined;\n",
       "\n",
       "    if (!this.supports_binary) {\n",
       "        var warnings = document.getElementById('mpl-warnings');\n",
       "        if (warnings) {\n",
       "            warnings.style.display = 'block';\n",
       "            warnings.textContent =\n",
       "                'This browser does not support binary websocket messages. ' +\n",
       "                'Performance may be slow.';\n",
       "        }\n",
       "    }\n",
       "\n",
       "    this.imageObj = new Image();\n",
       "\n",
       "    this.context = undefined;\n",
       "    this.message = undefined;\n",
       "    this.canvas = undefined;\n",
       "    this.rubberband_canvas = undefined;\n",
       "    this.rubberband_context = undefined;\n",
       "    this.format_dropdown = undefined;\n",
       "\n",
       "    this.image_mode = 'full';\n",
       "\n",
       "    this.root = document.createElement('div');\n",
       "    this.root.setAttribute('style', 'display: inline-block');\n",
       "    this._root_extra_style(this.root);\n",
       "\n",
       "    parent_element.appendChild(this.root);\n",
       "\n",
       "    this._init_header(this);\n",
       "    this._init_canvas(this);\n",
       "    this._init_toolbar(this);\n",
       "\n",
       "    var fig = this;\n",
       "\n",
       "    this.waiting = false;\n",
       "\n",
       "    this.ws.onopen = function () {\n",
       "        fig.send_message('supports_binary', { value: fig.supports_binary });\n",
       "        fig.send_message('send_image_mode', {});\n",
       "        if (fig.ratio !== 1) {\n",
       "            fig.send_message('set_dpi_ratio', { dpi_ratio: fig.ratio });\n",
       "        }\n",
       "        fig.send_message('refresh', {});\n",
       "    };\n",
       "\n",
       "    this.imageObj.onload = function () {\n",
       "        if (fig.image_mode === 'full') {\n",
       "            // Full images could contain transparency (where diff images\n",
       "            // almost always do), so we need to clear the canvas so that\n",
       "            // there is no ghosting.\n",
       "            fig.context.clearRect(0, 0, fig.canvas.width, fig.canvas.height);\n",
       "        }\n",
       "        fig.context.drawImage(fig.imageObj, 0, 0);\n",
       "    };\n",
       "\n",
       "    this.imageObj.onunload = function () {\n",
       "        fig.ws.close();\n",
       "    };\n",
       "\n",
       "    this.ws.onmessage = this._make_on_message_function(this);\n",
       "\n",
       "    this.ondownload = ondownload;\n",
       "};\n",
       "\n",
       "mpl.figure.prototype._init_header = function () {\n",
       "    var titlebar = document.createElement('div');\n",
       "    titlebar.classList =\n",
       "        'ui-dialog-titlebar ui-widget-header ui-corner-all ui-helper-clearfix';\n",
       "    var titletext = document.createElement('div');\n",
       "    titletext.classList = 'ui-dialog-title';\n",
       "    titletext.setAttribute(\n",
       "        'style',\n",
       "        'width: 100%; text-align: center; padding: 3px;'\n",
       "    );\n",
       "    titlebar.appendChild(titletext);\n",
       "    this.root.appendChild(titlebar);\n",
       "    this.header = titletext;\n",
       "};\n",
       "\n",
       "mpl.figure.prototype._canvas_extra_style = function (_canvas_div) {};\n",
       "\n",
       "mpl.figure.prototype._root_extra_style = function (_canvas_div) {};\n",
       "\n",
       "mpl.figure.prototype._init_canvas = function () {\n",
       "    var fig = this;\n",
       "\n",
       "    var canvas_div = (this.canvas_div = document.createElement('div'));\n",
       "    canvas_div.setAttribute(\n",
       "        'style',\n",
       "        'border: 1px solid #ddd;' +\n",
       "            'box-sizing: content-box;' +\n",
       "            'clear: both;' +\n",
       "            'min-height: 1px;' +\n",
       "            'min-width: 1px;' +\n",
       "            'outline: 0;' +\n",
       "            'overflow: hidden;' +\n",
       "            'position: relative;' +\n",
       "            'resize: both;'\n",
       "    );\n",
       "\n",
       "    function on_keyboard_event_closure(name) {\n",
       "        return function (event) {\n",
       "            return fig.key_event(event, name);\n",
       "        };\n",
       "    }\n",
       "\n",
       "    canvas_div.addEventListener(\n",
       "        'keydown',\n",
       "        on_keyboard_event_closure('key_press')\n",
       "    );\n",
       "    canvas_div.addEventListener(\n",
       "        'keyup',\n",
       "        on_keyboard_event_closure('key_release')\n",
       "    );\n",
       "\n",
       "    this._canvas_extra_style(canvas_div);\n",
       "    this.root.appendChild(canvas_div);\n",
       "\n",
       "    var canvas = (this.canvas = document.createElement('canvas'));\n",
       "    canvas.classList.add('mpl-canvas');\n",
       "    canvas.setAttribute('style', 'box-sizing: content-box;');\n",
       "\n",
       "    this.context = canvas.getContext('2d');\n",
       "\n",
       "    var backingStore =\n",
       "        this.context.backingStorePixelRatio ||\n",
       "        this.context.webkitBackingStorePixelRatio ||\n",
       "        this.context.mozBackingStorePixelRatio ||\n",
       "        this.context.msBackingStorePixelRatio ||\n",
       "        this.context.oBackingStorePixelRatio ||\n",
       "        this.context.backingStorePixelRatio ||\n",
       "        1;\n",
       "\n",
       "    this.ratio = (window.devicePixelRatio || 1) / backingStore;\n",
       "    if (this.ratio !== 1) {\n",
       "        fig.send_message('set_dpi_ratio', { dpi_ratio: this.ratio });\n",
       "    }\n",
       "\n",
       "    var rubberband_canvas = (this.rubberband_canvas = document.createElement(\n",
       "        'canvas'\n",
       "    ));\n",
       "    rubberband_canvas.setAttribute(\n",
       "        'style',\n",
       "        'box-sizing: content-box; position: absolute; left: 0; top: 0; z-index: 1;'\n",
       "    );\n",
       "\n",
       "    var resizeObserver = new ResizeObserver(function (entries) {\n",
       "        var nentries = entries.length;\n",
       "        for (var i = 0; i < nentries; i++) {\n",
       "            var entry = entries[i];\n",
       "            var width, height;\n",
       "            if (entry.contentBoxSize) {\n",
       "                if (entry.contentBoxSize instanceof Array) {\n",
       "                    // Chrome 84 implements new version of spec.\n",
       "                    width = entry.contentBoxSize[0].inlineSize;\n",
       "                    height = entry.contentBoxSize[0].blockSize;\n",
       "                } else {\n",
       "                    // Firefox implements old version of spec.\n",
       "                    width = entry.contentBoxSize.inlineSize;\n",
       "                    height = entry.contentBoxSize.blockSize;\n",
       "                }\n",
       "            } else {\n",
       "                // Chrome <84 implements even older version of spec.\n",
       "                width = entry.contentRect.width;\n",
       "                height = entry.contentRect.height;\n",
       "            }\n",
       "\n",
       "            // Keep the size of the canvas and rubber band canvas in sync with\n",
       "            // the canvas container.\n",
       "            if (entry.devicePixelContentBoxSize) {\n",
       "                // Chrome 84 implements new version of spec.\n",
       "                canvas.setAttribute(\n",
       "                    'width',\n",
       "                    entry.devicePixelContentBoxSize[0].inlineSize\n",
       "                );\n",
       "                canvas.setAttribute(\n",
       "                    'height',\n",
       "                    entry.devicePixelContentBoxSize[0].blockSize\n",
       "                );\n",
       "            } else {\n",
       "                canvas.setAttribute('width', width * fig.ratio);\n",
       "                canvas.setAttribute('height', height * fig.ratio);\n",
       "            }\n",
       "            canvas.setAttribute(\n",
       "                'style',\n",
       "                'width: ' + width + 'px; height: ' + height + 'px;'\n",
       "            );\n",
       "\n",
       "            rubberband_canvas.setAttribute('width', width);\n",
       "            rubberband_canvas.setAttribute('height', height);\n",
       "\n",
       "            // And update the size in Python. We ignore the initial 0/0 size\n",
       "            // that occurs as the element is placed into the DOM, which should\n",
       "            // otherwise not happen due to the minimum size styling.\n",
       "            if (width != 0 && height != 0) {\n",
       "                fig.request_resize(width, height);\n",
       "            }\n",
       "        }\n",
       "    });\n",
       "    resizeObserver.observe(canvas_div);\n",
       "\n",
       "    function on_mouse_event_closure(name) {\n",
       "        return function (event) {\n",
       "            return fig.mouse_event(event, name);\n",
       "        };\n",
       "    }\n",
       "\n",
       "    rubberband_canvas.addEventListener(\n",
       "        'mousedown',\n",
       "        on_mouse_event_closure('button_press')\n",
       "    );\n",
       "    rubberband_canvas.addEventListener(\n",
       "        'mouseup',\n",
       "        on_mouse_event_closure('button_release')\n",
       "    );\n",
       "    // Throttle sequential mouse events to 1 every 20ms.\n",
       "    rubberband_canvas.addEventListener(\n",
       "        'mousemove',\n",
       "        on_mouse_event_closure('motion_notify')\n",
       "    );\n",
       "\n",
       "    rubberband_canvas.addEventListener(\n",
       "        'mouseenter',\n",
       "        on_mouse_event_closure('figure_enter')\n",
       "    );\n",
       "    rubberband_canvas.addEventListener(\n",
       "        'mouseleave',\n",
       "        on_mouse_event_closure('figure_leave')\n",
       "    );\n",
       "\n",
       "    canvas_div.addEventListener('wheel', function (event) {\n",
       "        if (event.deltaY < 0) {\n",
       "            event.step = 1;\n",
       "        } else {\n",
       "            event.step = -1;\n",
       "        }\n",
       "        on_mouse_event_closure('scroll')(event);\n",
       "    });\n",
       "\n",
       "    canvas_div.appendChild(canvas);\n",
       "    canvas_div.appendChild(rubberband_canvas);\n",
       "\n",
       "    this.rubberband_context = rubberband_canvas.getContext('2d');\n",
       "    this.rubberband_context.strokeStyle = '#000000';\n",
       "\n",
       "    this._resize_canvas = function (width, height, forward) {\n",
       "        if (forward) {\n",
       "            canvas_div.style.width = width + 'px';\n",
       "            canvas_div.style.height = height + 'px';\n",
       "        }\n",
       "    };\n",
       "\n",
       "    // Disable right mouse context menu.\n",
       "    this.rubberband_canvas.addEventListener('contextmenu', function (_e) {\n",
       "        event.preventDefault();\n",
       "        return false;\n",
       "    });\n",
       "\n",
       "    function set_focus() {\n",
       "        canvas.focus();\n",
       "        canvas_div.focus();\n",
       "    }\n",
       "\n",
       "    window.setTimeout(set_focus, 100);\n",
       "};\n",
       "\n",
       "mpl.figure.prototype._init_toolbar = function () {\n",
       "    var fig = this;\n",
       "\n",
       "    var toolbar = document.createElement('div');\n",
       "    toolbar.classList = 'mpl-toolbar';\n",
       "    this.root.appendChild(toolbar);\n",
       "\n",
       "    function on_click_closure(name) {\n",
       "        return function (_event) {\n",
       "            return fig.toolbar_button_onclick(name);\n",
       "        };\n",
       "    }\n",
       "\n",
       "    function on_mouseover_closure(tooltip) {\n",
       "        return function (event) {\n",
       "            if (!event.currentTarget.disabled) {\n",
       "                return fig.toolbar_button_onmouseover(tooltip);\n",
       "            }\n",
       "        };\n",
       "    }\n",
       "\n",
       "    fig.buttons = {};\n",
       "    var buttonGroup = document.createElement('div');\n",
       "    buttonGroup.classList = 'mpl-button-group';\n",
       "    for (var toolbar_ind in mpl.toolbar_items) {\n",
       "        var name = mpl.toolbar_items[toolbar_ind][0];\n",
       "        var tooltip = mpl.toolbar_items[toolbar_ind][1];\n",
       "        var image = mpl.toolbar_items[toolbar_ind][2];\n",
       "        var method_name = mpl.toolbar_items[toolbar_ind][3];\n",
       "\n",
       "        if (!name) {\n",
       "            /* Instead of a spacer, we start a new button group. */\n",
       "            if (buttonGroup.hasChildNodes()) {\n",
       "                toolbar.appendChild(buttonGroup);\n",
       "            }\n",
       "            buttonGroup = document.createElement('div');\n",
       "            buttonGroup.classList = 'mpl-button-group';\n",
       "            continue;\n",
       "        }\n",
       "\n",
       "        var button = (fig.buttons[name] = document.createElement('button'));\n",
       "        button.classList = 'mpl-widget';\n",
       "        button.setAttribute('role', 'button');\n",
       "        button.setAttribute('aria-disabled', 'false');\n",
       "        button.addEventListener('click', on_click_closure(method_name));\n",
       "        button.addEventListener('mouseover', on_mouseover_closure(tooltip));\n",
       "\n",
       "        var icon_img = document.createElement('img');\n",
       "        icon_img.src = '_images/' + image + '.png';\n",
       "        icon_img.srcset = '_images/' + image + '_large.png 2x';\n",
       "        icon_img.alt = tooltip;\n",
       "        button.appendChild(icon_img);\n",
       "\n",
       "        buttonGroup.appendChild(button);\n",
       "    }\n",
       "\n",
       "    if (buttonGroup.hasChildNodes()) {\n",
       "        toolbar.appendChild(buttonGroup);\n",
       "    }\n",
       "\n",
       "    var fmt_picker = document.createElement('select');\n",
       "    fmt_picker.classList = 'mpl-widget';\n",
       "    toolbar.appendChild(fmt_picker);\n",
       "    this.format_dropdown = fmt_picker;\n",
       "\n",
       "    for (var ind in mpl.extensions) {\n",
       "        var fmt = mpl.extensions[ind];\n",
       "        var option = document.createElement('option');\n",
       "        option.selected = fmt === mpl.default_extension;\n",
       "        option.innerHTML = fmt;\n",
       "        fmt_picker.appendChild(option);\n",
       "    }\n",
       "\n",
       "    var status_bar = document.createElement('span');\n",
       "    status_bar.classList = 'mpl-message';\n",
       "    toolbar.appendChild(status_bar);\n",
       "    this.message = status_bar;\n",
       "};\n",
       "\n",
       "mpl.figure.prototype.request_resize = function (x_pixels, y_pixels) {\n",
       "    // Request matplotlib to resize the figure. Matplotlib will then trigger a resize in the client,\n",
       "    // which will in turn request a refresh of the image.\n",
       "    this.send_message('resize', { width: x_pixels, height: y_pixels });\n",
       "};\n",
       "\n",
       "mpl.figure.prototype.send_message = function (type, properties) {\n",
       "    properties['type'] = type;\n",
       "    properties['figure_id'] = this.id;\n",
       "    this.ws.send(JSON.stringify(properties));\n",
       "};\n",
       "\n",
       "mpl.figure.prototype.send_draw_message = function () {\n",
       "    if (!this.waiting) {\n",
       "        this.waiting = true;\n",
       "        this.ws.send(JSON.stringify({ type: 'draw', figure_id: this.id }));\n",
       "    }\n",
       "};\n",
       "\n",
       "mpl.figure.prototype.handle_save = function (fig, _msg) {\n",
       "    var format_dropdown = fig.format_dropdown;\n",
       "    var format = format_dropdown.options[format_dropdown.selectedIndex].value;\n",
       "    fig.ondownload(fig, format);\n",
       "};\n",
       "\n",
       "mpl.figure.prototype.handle_resize = function (fig, msg) {\n",
       "    var size = msg['size'];\n",
       "    if (size[0] !== fig.canvas.width || size[1] !== fig.canvas.height) {\n",
       "        fig._resize_canvas(size[0], size[1], msg['forward']);\n",
       "        fig.send_message('refresh', {});\n",
       "    }\n",
       "};\n",
       "\n",
       "mpl.figure.prototype.handle_rubberband = function (fig, msg) {\n",
       "    var x0 = msg['x0'] / fig.ratio;\n",
       "    var y0 = (fig.canvas.height - msg['y0']) / fig.ratio;\n",
       "    var x1 = msg['x1'] / fig.ratio;\n",
       "    var y1 = (fig.canvas.height - msg['y1']) / fig.ratio;\n",
       "    x0 = Math.floor(x0) + 0.5;\n",
       "    y0 = Math.floor(y0) + 0.5;\n",
       "    x1 = Math.floor(x1) + 0.5;\n",
       "    y1 = Math.floor(y1) + 0.5;\n",
       "    var min_x = Math.min(x0, x1);\n",
       "    var min_y = Math.min(y0, y1);\n",
       "    var width = Math.abs(x1 - x0);\n",
       "    var height = Math.abs(y1 - y0);\n",
       "\n",
       "    fig.rubberband_context.clearRect(\n",
       "        0,\n",
       "        0,\n",
       "        fig.canvas.width / fig.ratio,\n",
       "        fig.canvas.height / fig.ratio\n",
       "    );\n",
       "\n",
       "    fig.rubberband_context.strokeRect(min_x, min_y, width, height);\n",
       "};\n",
       "\n",
       "mpl.figure.prototype.handle_figure_label = function (fig, msg) {\n",
       "    // Updates the figure title.\n",
       "    fig.header.textContent = msg['label'];\n",
       "};\n",
       "\n",
       "mpl.figure.prototype.handle_cursor = function (fig, msg) {\n",
       "    var cursor = msg['cursor'];\n",
       "    switch (cursor) {\n",
       "        case 0:\n",
       "            cursor = 'pointer';\n",
       "            break;\n",
       "        case 1:\n",
       "            cursor = 'default';\n",
       "            break;\n",
       "        case 2:\n",
       "            cursor = 'crosshair';\n",
       "            break;\n",
       "        case 3:\n",
       "            cursor = 'move';\n",
       "            break;\n",
       "    }\n",
       "    fig.rubberband_canvas.style.cursor = cursor;\n",
       "};\n",
       "\n",
       "mpl.figure.prototype.handle_message = function (fig, msg) {\n",
       "    fig.message.textContent = msg['message'];\n",
       "};\n",
       "\n",
       "mpl.figure.prototype.handle_draw = function (fig, _msg) {\n",
       "    // Request the server to send over a new figure.\n",
       "    fig.send_draw_message();\n",
       "};\n",
       "\n",
       "mpl.figure.prototype.handle_image_mode = function (fig, msg) {\n",
       "    fig.image_mode = msg['mode'];\n",
       "};\n",
       "\n",
       "mpl.figure.prototype.handle_history_buttons = function (fig, msg) {\n",
       "    for (var key in msg) {\n",
       "        if (!(key in fig.buttons)) {\n",
       "            continue;\n",
       "        }\n",
       "        fig.buttons[key].disabled = !msg[key];\n",
       "        fig.buttons[key].setAttribute('aria-disabled', !msg[key]);\n",
       "    }\n",
       "};\n",
       "\n",
       "mpl.figure.prototype.handle_navigate_mode = function (fig, msg) {\n",
       "    if (msg['mode'] === 'PAN') {\n",
       "        fig.buttons['Pan'].classList.add('active');\n",
       "        fig.buttons['Zoom'].classList.remove('active');\n",
       "    } else if (msg['mode'] === 'ZOOM') {\n",
       "        fig.buttons['Pan'].classList.remove('active');\n",
       "        fig.buttons['Zoom'].classList.add('active');\n",
       "    } else {\n",
       "        fig.buttons['Pan'].classList.remove('active');\n",
       "        fig.buttons['Zoom'].classList.remove('active');\n",
       "    }\n",
       "};\n",
       "\n",
       "mpl.figure.prototype.updated_canvas_event = function () {\n",
       "    // Called whenever the canvas gets updated.\n",
       "    this.send_message('ack', {});\n",
       "};\n",
       "\n",
       "// A function to construct a web socket function for onmessage handling.\n",
       "// Called in the figure constructor.\n",
       "mpl.figure.prototype._make_on_message_function = function (fig) {\n",
       "    return function socket_on_message(evt) {\n",
       "        if (evt.data instanceof Blob) {\n",
       "            /* FIXME: We get \"Resource interpreted as Image but\n",
       "             * transferred with MIME type text/plain:\" errors on\n",
       "             * Chrome.  But how to set the MIME type?  It doesn't seem\n",
       "             * to be part of the websocket stream */\n",
       "            evt.data.type = 'image/png';\n",
       "\n",
       "            /* Free the memory for the previous frames */\n",
       "            if (fig.imageObj.src) {\n",
       "                (window.URL || window.webkitURL).revokeObjectURL(\n",
       "                    fig.imageObj.src\n",
       "                );\n",
       "            }\n",
       "\n",
       "            fig.imageObj.src = (window.URL || window.webkitURL).createObjectURL(\n",
       "                evt.data\n",
       "            );\n",
       "            fig.updated_canvas_event();\n",
       "            fig.waiting = false;\n",
       "            return;\n",
       "        } else if (\n",
       "            typeof evt.data === 'string' &&\n",
       "            evt.data.slice(0, 21) === 'data:image/png;base64'\n",
       "        ) {\n",
       "            fig.imageObj.src = evt.data;\n",
       "            fig.updated_canvas_event();\n",
       "            fig.waiting = false;\n",
       "            return;\n",
       "        }\n",
       "\n",
       "        var msg = JSON.parse(evt.data);\n",
       "        var msg_type = msg['type'];\n",
       "\n",
       "        // Call the  \"handle_{type}\" callback, which takes\n",
       "        // the figure and JSON message as its only arguments.\n",
       "        try {\n",
       "            var callback = fig['handle_' + msg_type];\n",
       "        } catch (e) {\n",
       "            console.log(\n",
       "                \"No handler for the '\" + msg_type + \"' message type: \",\n",
       "                msg\n",
       "            );\n",
       "            return;\n",
       "        }\n",
       "\n",
       "        if (callback) {\n",
       "            try {\n",
       "                // console.log(\"Handling '\" + msg_type + \"' message: \", msg);\n",
       "                callback(fig, msg);\n",
       "            } catch (e) {\n",
       "                console.log(\n",
       "                    \"Exception inside the 'handler_\" + msg_type + \"' callback:\",\n",
       "                    e,\n",
       "                    e.stack,\n",
       "                    msg\n",
       "                );\n",
       "            }\n",
       "        }\n",
       "    };\n",
       "};\n",
       "\n",
       "// from http://stackoverflow.com/questions/1114465/getting-mouse-location-in-canvas\n",
       "mpl.findpos = function (e) {\n",
       "    //this section is from http://www.quirksmode.org/js/events_properties.html\n",
       "    var targ;\n",
       "    if (!e) {\n",
       "        e = window.event;\n",
       "    }\n",
       "    if (e.target) {\n",
       "        targ = e.target;\n",
       "    } else if (e.srcElement) {\n",
       "        targ = e.srcElement;\n",
       "    }\n",
       "    if (targ.nodeType === 3) {\n",
       "        // defeat Safari bug\n",
       "        targ = targ.parentNode;\n",
       "    }\n",
       "\n",
       "    // pageX,Y are the mouse positions relative to the document\n",
       "    var boundingRect = targ.getBoundingClientRect();\n",
       "    var x = e.pageX - (boundingRect.left + document.body.scrollLeft);\n",
       "    var y = e.pageY - (boundingRect.top + document.body.scrollTop);\n",
       "\n",
       "    return { x: x, y: y };\n",
       "};\n",
       "\n",
       "/*\n",
       " * return a copy of an object with only non-object keys\n",
       " * we need this to avoid circular references\n",
       " * http://stackoverflow.com/a/24161582/3208463\n",
       " */\n",
       "function simpleKeys(original) {\n",
       "    return Object.keys(original).reduce(function (obj, key) {\n",
       "        if (typeof original[key] !== 'object') {\n",
       "            obj[key] = original[key];\n",
       "        }\n",
       "        return obj;\n",
       "    }, {});\n",
       "}\n",
       "\n",
       "mpl.figure.prototype.mouse_event = function (event, name) {\n",
       "    var canvas_pos = mpl.findpos(event);\n",
       "\n",
       "    if (name === 'button_press') {\n",
       "        this.canvas.focus();\n",
       "        this.canvas_div.focus();\n",
       "    }\n",
       "\n",
       "    var x = canvas_pos.x * this.ratio;\n",
       "    var y = canvas_pos.y * this.ratio;\n",
       "\n",
       "    this.send_message(name, {\n",
       "        x: x,\n",
       "        y: y,\n",
       "        button: event.button,\n",
       "        step: event.step,\n",
       "        guiEvent: simpleKeys(event),\n",
       "    });\n",
       "\n",
       "    /* This prevents the web browser from automatically changing to\n",
       "     * the text insertion cursor when the button is pressed.  We want\n",
       "     * to control all of the cursor setting manually through the\n",
       "     * 'cursor' event from matplotlib */\n",
       "    event.preventDefault();\n",
       "    return false;\n",
       "};\n",
       "\n",
       "mpl.figure.prototype._key_event_extra = function (_event, _name) {\n",
       "    // Handle any extra behaviour associated with a key event\n",
       "};\n",
       "\n",
       "mpl.figure.prototype.key_event = function (event, name) {\n",
       "    // Prevent repeat events\n",
       "    if (name === 'key_press') {\n",
       "        if (event.which === this._key) {\n",
       "            return;\n",
       "        } else {\n",
       "            this._key = event.which;\n",
       "        }\n",
       "    }\n",
       "    if (name === 'key_release') {\n",
       "        this._key = null;\n",
       "    }\n",
       "\n",
       "    var value = '';\n",
       "    if (event.ctrlKey && event.which !== 17) {\n",
       "        value += 'ctrl+';\n",
       "    }\n",
       "    if (event.altKey && event.which !== 18) {\n",
       "        value += 'alt+';\n",
       "    }\n",
       "    if (event.shiftKey && event.which !== 16) {\n",
       "        value += 'shift+';\n",
       "    }\n",
       "\n",
       "    value += 'k';\n",
       "    value += event.which.toString();\n",
       "\n",
       "    this._key_event_extra(event, name);\n",
       "\n",
       "    this.send_message(name, { key: value, guiEvent: simpleKeys(event) });\n",
       "    return false;\n",
       "};\n",
       "\n",
       "mpl.figure.prototype.toolbar_button_onclick = function (name) {\n",
       "    if (name === 'download') {\n",
       "        this.handle_save(this, null);\n",
       "    } else {\n",
       "        this.send_message('toolbar_button', { name: name });\n",
       "    }\n",
       "};\n",
       "\n",
       "mpl.figure.prototype.toolbar_button_onmouseover = function (tooltip) {\n",
       "    this.message.textContent = tooltip;\n",
       "};\n",
       "mpl.toolbar_items = [[\"Home\", \"Reset original view\", \"fa fa-home icon-home\", \"home\"], [\"Back\", \"Back to previous view\", \"fa fa-arrow-left icon-arrow-left\", \"back\"], [\"Forward\", \"Forward to next view\", \"fa fa-arrow-right icon-arrow-right\", \"forward\"], [\"\", \"\", \"\", \"\"], [\"Pan\", \"Left button pans, Right button zooms\\nx/y fixes axis, CTRL fixes aspect\", \"fa fa-arrows icon-move\", \"pan\"], [\"Zoom\", \"Zoom to rectangle\\nx/y fixes axis, CTRL fixes aspect\", \"fa fa-square-o icon-check-empty\", \"zoom\"], [\"\", \"\", \"\", \"\"], [\"Download\", \"Download plot\", \"fa fa-floppy-o icon-save\", \"download\"]];\n",
       "\n",
       "mpl.extensions = [\"eps\", \"jpeg\", \"pdf\", \"png\", \"ps\", \"raw\", \"svg\", \"tif\"];\n",
       "\n",
       "mpl.default_extension = \"png\";/* global mpl */\n",
       "\n",
       "var comm_websocket_adapter = function (comm) {\n",
       "    // Create a \"websocket\"-like object which calls the given IPython comm\n",
       "    // object with the appropriate methods. Currently this is a non binary\n",
       "    // socket, so there is still some room for performance tuning.\n",
       "    var ws = {};\n",
       "\n",
       "    ws.close = function () {\n",
       "        comm.close();\n",
       "    };\n",
       "    ws.send = function (m) {\n",
       "        //console.log('sending', m);\n",
       "        comm.send(m);\n",
       "    };\n",
       "    // Register the callback with on_msg.\n",
       "    comm.on_msg(function (msg) {\n",
       "        //console.log('receiving', msg['content']['data'], msg);\n",
       "        // Pass the mpl event to the overridden (by mpl) onmessage function.\n",
       "        ws.onmessage(msg['content']['data']);\n",
       "    });\n",
       "    return ws;\n",
       "};\n",
       "\n",
       "mpl.mpl_figure_comm = function (comm, msg) {\n",
       "    // This is the function which gets called when the mpl process\n",
       "    // starts-up an IPython Comm through the \"matplotlib\" channel.\n",
       "\n",
       "    var id = msg.content.data.id;\n",
       "    // Get hold of the div created by the display call when the Comm\n",
       "    // socket was opened in Python.\n",
       "    var element = document.getElementById(id);\n",
       "    var ws_proxy = comm_websocket_adapter(comm);\n",
       "\n",
       "    function ondownload(figure, _format) {\n",
       "        window.open(figure.canvas.toDataURL());\n",
       "    }\n",
       "\n",
       "    var fig = new mpl.figure(id, ws_proxy, ondownload, element);\n",
       "\n",
       "    // Call onopen now - mpl needs it, as it is assuming we've passed it a real\n",
       "    // web socket which is closed, not our websocket->open comm proxy.\n",
       "    ws_proxy.onopen();\n",
       "\n",
       "    fig.parent_element = element;\n",
       "    fig.cell_info = mpl.find_output_cell(\"<div id='\" + id + \"'></div>\");\n",
       "    if (!fig.cell_info) {\n",
       "        console.error('Failed to find cell for figure', id, fig);\n",
       "        return;\n",
       "    }\n",
       "    fig.cell_info[0].output_area.element.one(\n",
       "        'cleared',\n",
       "        { fig: fig },\n",
       "        fig._remove_fig_handler\n",
       "    );\n",
       "};\n",
       "\n",
       "mpl.figure.prototype.handle_close = function (fig, msg) {\n",
       "    var width = fig.canvas.width / fig.ratio;\n",
       "    fig.cell_info[0].output_area.element.off(\n",
       "        'cleared',\n",
       "        fig._remove_fig_handler\n",
       "    );\n",
       "\n",
       "    // Update the output cell to use the data from the current canvas.\n",
       "    fig.push_to_output();\n",
       "    var dataURL = fig.canvas.toDataURL();\n",
       "    // Re-enable the keyboard manager in IPython - without this line, in FF,\n",
       "    // the notebook keyboard shortcuts fail.\n",
       "    IPython.keyboard_manager.enable();\n",
       "    fig.parent_element.innerHTML =\n",
       "        '<img src=\"' + dataURL + '\" width=\"' + width + '\">';\n",
       "    fig.close_ws(fig, msg);\n",
       "};\n",
       "\n",
       "mpl.figure.prototype.close_ws = function (fig, msg) {\n",
       "    fig.send_message('closing', msg);\n",
       "    // fig.ws.close()\n",
       "};\n",
       "\n",
       "mpl.figure.prototype.push_to_output = function (_remove_interactive) {\n",
       "    // Turn the data on the canvas into data in the output cell.\n",
       "    var width = this.canvas.width / this.ratio;\n",
       "    var dataURL = this.canvas.toDataURL();\n",
       "    this.cell_info[1]['text/html'] =\n",
       "        '<img src=\"' + dataURL + '\" width=\"' + width + '\">';\n",
       "};\n",
       "\n",
       "mpl.figure.prototype.updated_canvas_event = function () {\n",
       "    // Tell IPython that the notebook contents must change.\n",
       "    IPython.notebook.set_dirty(true);\n",
       "    this.send_message('ack', {});\n",
       "    var fig = this;\n",
       "    // Wait a second, then push the new image to the DOM so\n",
       "    // that it is saved nicely (might be nice to debounce this).\n",
       "    setTimeout(function () {\n",
       "        fig.push_to_output();\n",
       "    }, 1000);\n",
       "};\n",
       "\n",
       "mpl.figure.prototype._init_toolbar = function () {\n",
       "    var fig = this;\n",
       "\n",
       "    var toolbar = document.createElement('div');\n",
       "    toolbar.classList = 'btn-toolbar';\n",
       "    this.root.appendChild(toolbar);\n",
       "\n",
       "    function on_click_closure(name) {\n",
       "        return function (_event) {\n",
       "            return fig.toolbar_button_onclick(name);\n",
       "        };\n",
       "    }\n",
       "\n",
       "    function on_mouseover_closure(tooltip) {\n",
       "        return function (event) {\n",
       "            if (!event.currentTarget.disabled) {\n",
       "                return fig.toolbar_button_onmouseover(tooltip);\n",
       "            }\n",
       "        };\n",
       "    }\n",
       "\n",
       "    fig.buttons = {};\n",
       "    var buttonGroup = document.createElement('div');\n",
       "    buttonGroup.classList = 'btn-group';\n",
       "    var button;\n",
       "    for (var toolbar_ind in mpl.toolbar_items) {\n",
       "        var name = mpl.toolbar_items[toolbar_ind][0];\n",
       "        var tooltip = mpl.toolbar_items[toolbar_ind][1];\n",
       "        var image = mpl.toolbar_items[toolbar_ind][2];\n",
       "        var method_name = mpl.toolbar_items[toolbar_ind][3];\n",
       "\n",
       "        if (!name) {\n",
       "            /* Instead of a spacer, we start a new button group. */\n",
       "            if (buttonGroup.hasChildNodes()) {\n",
       "                toolbar.appendChild(buttonGroup);\n",
       "            }\n",
       "            buttonGroup = document.createElement('div');\n",
       "            buttonGroup.classList = 'btn-group';\n",
       "            continue;\n",
       "        }\n",
       "\n",
       "        button = fig.buttons[name] = document.createElement('button');\n",
       "        button.classList = 'btn btn-default';\n",
       "        button.href = '#';\n",
       "        button.title = name;\n",
       "        button.innerHTML = '<i class=\"fa ' + image + ' fa-lg\"></i>';\n",
       "        button.addEventListener('click', on_click_closure(method_name));\n",
       "        button.addEventListener('mouseover', on_mouseover_closure(tooltip));\n",
       "        buttonGroup.appendChild(button);\n",
       "    }\n",
       "\n",
       "    if (buttonGroup.hasChildNodes()) {\n",
       "        toolbar.appendChild(buttonGroup);\n",
       "    }\n",
       "\n",
       "    // Add the status bar.\n",
       "    var status_bar = document.createElement('span');\n",
       "    status_bar.classList = 'mpl-message pull-right';\n",
       "    toolbar.appendChild(status_bar);\n",
       "    this.message = status_bar;\n",
       "\n",
       "    // Add the close button to the window.\n",
       "    var buttongrp = document.createElement('div');\n",
       "    buttongrp.classList = 'btn-group inline pull-right';\n",
       "    button = document.createElement('button');\n",
       "    button.classList = 'btn btn-mini btn-primary';\n",
       "    button.href = '#';\n",
       "    button.title = 'Stop Interaction';\n",
       "    button.innerHTML = '<i class=\"fa fa-power-off icon-remove icon-large\"></i>';\n",
       "    button.addEventListener('click', function (_evt) {\n",
       "        fig.handle_close(fig, {});\n",
       "    });\n",
       "    button.addEventListener(\n",
       "        'mouseover',\n",
       "        on_mouseover_closure('Stop Interaction')\n",
       "    );\n",
       "    buttongrp.appendChild(button);\n",
       "    var titlebar = this.root.querySelector('.ui-dialog-titlebar');\n",
       "    titlebar.insertBefore(buttongrp, titlebar.firstChild);\n",
       "};\n",
       "\n",
       "mpl.figure.prototype._remove_fig_handler = function (event) {\n",
       "    var fig = event.data.fig;\n",
       "    fig.close_ws(fig, {});\n",
       "};\n",
       "\n",
       "mpl.figure.prototype._root_extra_style = function (el) {\n",
       "    el.style.boxSizing = 'content-box'; // override notebook setting of border-box.\n",
       "};\n",
       "\n",
       "mpl.figure.prototype._canvas_extra_style = function (el) {\n",
       "    // this is important to make the div 'focusable\n",
       "    el.setAttribute('tabindex', 0);\n",
       "    // reach out to IPython and tell the keyboard manager to turn it's self\n",
       "    // off when our div gets focus\n",
       "\n",
       "    // location in version 3\n",
       "    if (IPython.notebook.keyboard_manager) {\n",
       "        IPython.notebook.keyboard_manager.register_events(el);\n",
       "    } else {\n",
       "        // location in version 2\n",
       "        IPython.keyboard_manager.register_events(el);\n",
       "    }\n",
       "};\n",
       "\n",
       "mpl.figure.prototype._key_event_extra = function (event, _name) {\n",
       "    var manager = IPython.notebook.keyboard_manager;\n",
       "    if (!manager) {\n",
       "        manager = IPython.keyboard_manager;\n",
       "    }\n",
       "\n",
       "    // Check for shift+enter\n",
       "    if (event.shiftKey && event.which === 13) {\n",
       "        this.canvas_div.blur();\n",
       "        // select the cell after this one\n",
       "        var index = IPython.notebook.find_cell_index(this.cell_info[0]);\n",
       "        IPython.notebook.select(index + 1);\n",
       "    }\n",
       "};\n",
       "\n",
       "mpl.figure.prototype.handle_save = function (fig, _msg) {\n",
       "    fig.ondownload(fig, null);\n",
       "};\n",
       "\n",
       "mpl.find_output_cell = function (html_output) {\n",
       "    // Return the cell and output element which can be found *uniquely* in the notebook.\n",
       "    // Note - this is a bit hacky, but it is done because the \"notebook_saving.Notebook\"\n",
       "    // IPython event is triggered only after the cells have been serialised, which for\n",
       "    // our purposes (turning an active figure into a static one), is too late.\n",
       "    var cells = IPython.notebook.get_cells();\n",
       "    var ncells = cells.length;\n",
       "    for (var i = 0; i < ncells; i++) {\n",
       "        var cell = cells[i];\n",
       "        if (cell.cell_type === 'code') {\n",
       "            for (var j = 0; j < cell.output_area.outputs.length; j++) {\n",
       "                var data = cell.output_area.outputs[j];\n",
       "                if (data.data) {\n",
       "                    // IPython >= 3 moved mimebundle to data attribute of output\n",
       "                    data = data.data;\n",
       "                }\n",
       "                if (data['text/html'] === html_output) {\n",
       "                    return [cell, data, j];\n",
       "                }\n",
       "            }\n",
       "        }\n",
       "    }\n",
       "};\n",
       "\n",
       "// Register the function which deals with the matplotlib target/channel.\n",
       "// The kernel may be null if the page has been refreshed.\n",
       "if (IPython.notebook.kernel !== null) {\n",
       "    IPython.notebook.kernel.comm_manager.register_target(\n",
       "        'matplotlib',\n",
       "        mpl.mpl_figure_comm\n",
       "    );\n",
       "}\n"
      ],
      "text/plain": [
       "<IPython.core.display.Javascript object>"
      ]
     },
     "metadata": {},
     "output_type": "display_data"
    },
    {
     "data": {
      "text/html": [
       "<img src=\"data:image/png;base64,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\" width=\"640\">"
      ],
      "text/plain": [
       "<IPython.core.display.HTML object>"
      ]
     },
     "metadata": {},
     "output_type": "display_data"
    },
    {
     "data": {
      "application/vnd.jupyter.widget-view+json": {
       "model_id": "b48afc165a134de39eafd384a232b3dc",
       "version_major": 2,
       "version_minor": 0
      },
      "text/plain": [
       "Button(description='Save Inputs', icon='check', layout=Layout(height='80px', width='50%'), style=ButtonStyle()…"
      ]
     },
     "metadata": {},
     "output_type": "display_data"
    },
    {
     "name": "stdout",
     "output_type": "stream",
     "text": [
      "Inputs saved and exported!\n"
     ]
    }
   ],
   "source": [
    "units = [units_length.value, ' ', units_energy.value, ' ', units_angles.value, ' ', units_magnetic_field.value]\n",
    "init_types = [f'{init_position.value}', ' ', f'{init_energy.value}', ' ', f'{init_divergence.value}']\n",
    "\n",
    "convert_beam_direction, convert_divergence_spread, convert_screen_angles = convertAngles(units, beam_direction_widgets, \n",
    "                                                                                         beam_divergence_spread_widgets, \n",
    "                                                                                         screen_angles_widgets)\n",
    "%matplotlib notebook\n",
    "DisplayAndOutput(global_bounds, units, number_of_magnets.value, magnet_dimensions_widgets, permanent_dimension_widgets, \n",
    "                 magnet_position_widgets, magnetic_field_values_widgets, magnetic_field_axes_widgets, \n",
    "                 number_of_particles.value, beam_start_position_widgets, beam_energy, convert_beam_direction, \n",
    "                 beam_position_spread_widgets, beam_energy_spread, convert_divergence_spread, number_of_screens.value, \n",
    "                 screen_dimensions_widgets, screen_position_widgets, convert_screen_angles, init_types, particle_species, magnet_types_widgets)"
   ]
  },
  {
   "cell_type": "markdown",
   "metadata": {},
   "source": [
    "## Genetic Algorithm"
   ]
  },
  {
   "cell_type": "code",
   "execution_count": 21,
   "metadata": {},
   "outputs": [
    {
     "data": {
      "application/vnd.jupyter.widget-view+json": {
       "model_id": "073edb34a8fe4ef0a2efeab41ec0c920",
       "version_major": 2,
       "version_minor": 0
      },
      "text/plain": [
       "Label(value='Do you want to use the genetic algorithm? ')"
      ]
     },
     "metadata": {},
     "output_type": "display_data"
    },
    {
     "data": {
      "application/vnd.jupyter.widget-view+json": {
       "model_id": "f8d47c048a3d4db9b391f8474cdd6085",
       "version_major": 2,
       "version_minor": 0
      },
      "text/plain": [
       "Button(description='Yes', icon='check', style=ButtonStyle())"
      ]
     },
     "metadata": {},
     "output_type": "display_data"
    },
    {
     "data": {
      "application/vnd.jupyter.widget-view+json": {
       "model_id": "567927bba1d7458f9a180ca8a74250d6",
       "version_major": 2,
       "version_minor": 0
      },
      "text/plain": [
       "Label(value='The genetic algorithm has access to mutate:')"
      ]
     },
     "metadata": {},
     "output_type": "display_data"
    },
    {
     "data": {
      "application/vnd.jupyter.widget-view+json": {
       "model_id": "69cc4834667c42ec894630e6a6f2b26c",
       "version_major": 2,
       "version_minor": 0
      },
      "text/plain": [
       "Label(value='Magnet position')"
      ]
     },
     "metadata": {},
     "output_type": "display_data"
    },
    {
     "data": {
      "application/vnd.jupyter.widget-view+json": {
       "model_id": "ded9ebc7dac6461fa4acd33b2b8294dc",
       "version_major": 2,
       "version_minor": 0
      },
      "text/plain": [
       "HBox(children=(VBox(children=(Checkbox(value=False, description='x pos 1'), Checkbox(value=False, description=…"
      ]
     },
     "metadata": {},
     "output_type": "display_data"
    },
    {
     "data": {
      "application/vnd.jupyter.widget-view+json": {
       "model_id": "4886f9032b934775befa77dcb9985d38",
       "version_major": 2,
       "version_minor": 0
      },
      "text/plain": [
       "Label(value='Screen position')"
      ]
     },
     "metadata": {},
     "output_type": "display_data"
    },
    {
     "data": {
      "application/vnd.jupyter.widget-view+json": {
       "model_id": "6fa4309457f34db2a7b66e346acf0668",
       "version_major": 2,
       "version_minor": 0
      },
      "text/plain": [
       "HBox(children=(VBox(children=(Checkbox(value=False, description='x pos 1'), Checkbox(value=False, description=…"
      ]
     },
     "metadata": {},
     "output_type": "display_data"
    },
    {
     "data": {
      "application/vnd.jupyter.widget-view+json": {
       "model_id": "b208a7a1444c4fc3b56dbd38112ed645",
       "version_major": 2,
       "version_minor": 0
      },
      "text/plain": [
       "Label(value='Screen angles')"
      ]
     },
     "metadata": {},
     "output_type": "display_data"
    },
    {
     "data": {
      "application/vnd.jupyter.widget-view+json": {
       "model_id": "4af387d2bacd45fe8a787a55be1f6eab",
       "version_major": 2,
       "version_minor": 0
      },
      "text/plain": [
       "HBox(children=(VBox(children=(Checkbox(value=False, description='yaw 1'), Checkbox(value=False, description='p…"
      ]
     },
     "metadata": {},
     "output_type": "display_data"
    },
    {
     "data": {
      "application/vnd.jupyter.widget-view+json": {
       "model_id": "224ac5abbf4f46438e18191a8bf0d0ec",
       "version_major": 2,
       "version_minor": 0
      },
      "text/plain": [
       "Label(value='Click below to save and output selection')"
      ]
     },
     "metadata": {},
     "output_type": "display_data"
    },
    {
     "data": {
      "application/vnd.jupyter.widget-view+json": {
       "model_id": "2f0ea502baeb48c3af36eb4ad39847f6",
       "version_major": 2,
       "version_minor": 0
      },
      "text/plain": [
       "Button(description='Save Checked Boxes', icon='check', layout=Layout(height='80px', width='50%'), style=Button…"
      ]
     },
     "metadata": {},
     "output_type": "display_data"
    },
    {
     "name": "stdout",
     "output_type": "stream",
     "text": [
      "Choices saved and exported!\n",
      "Choices saved and exported!\n",
      "Choices saved and exported!\n"
     ]
    }
   ],
   "source": [
    "genetic_algorithm_setup(global_bounds, number_of_magnets.value, number_of_screens.value, units_length.value,\n",
    "                        magnetic_field_values_widgets)"
   ]
  },
  {
   "cell_type": "code",
   "execution_count": null,
   "metadata": {},
   "outputs": [],
   "source": []
  }
 ],
 "metadata": {
  "kernelspec": {
   "display_name": "Python 3",
   "language": "python",
   "name": "python3"
  },
  "language_info": {
   "codemirror_mode": {
    "name": "ipython",
    "version": 3
   },
   "file_extension": ".py",
   "mimetype": "text/x-python",
   "name": "python",
   "nbconvert_exporter": "python",
   "pygments_lexer": "ipython3",
   "version": "3.8.5"
  }
 },
 "nbformat": 4,
 "nbformat_minor": 2
}
